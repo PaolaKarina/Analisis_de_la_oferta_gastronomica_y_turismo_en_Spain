{
 "cells": [
  {
   "cell_type": "code",
   "execution_count": 1,
   "metadata": {},
   "outputs": [],
   "source": [
    "import pandas as pd\n",
    "from src.my_functions import * \n",
    "import numpy as np\n",
    "import json\n",
    "\n",
    "import seaborn as sns\n",
    "import re\n",
    "\n",
    "pd.set_option('display.max_columns', None)"
   ]
  },
  {
   "cell_type": "markdown",
   "metadata": {},
   "source": [
    "# UPLOAD DATA  .json + DF  🎯"
   ]
  },
  {
   "cell_type": "markdown",
   "metadata": {},
   "source": [
    "## DF's"
   ]
  },
  {
   "cell_type": "code",
   "execution_count": 492,
   "metadata": {},
   "outputs": [],
   "source": [
    "# 🔑🔑🔑\n",
    "\n",
    "df2 = pd.read_csv('./DATA/data.CSV/df_Spain_good.csv')\n",
    "df_full_location = pd.read_csv('df_full_location_concat.csv')\n",
    "df = pd.read_csv('df_tripAD_Spain.csv')   # ABRIR este  (DATASET LIMPIO)"
   ]
  },
  {
   "cell_type": "markdown",
   "metadata": {},
   "source": [
    "## CONTADOR KW-DF"
   ]
  },
  {
   "cell_type": "code",
   "execution_count": 172,
   "metadata": {
    "code_folding": []
   },
   "outputs": [],
   "source": [
    "#1 -> df_kw_meals\n",
    "with open('./DATA/data.JSON/dict_kw_meals_count.json', 'r') as kw:\n",
    "    kw_meals_count = json.load(kw)  #ABRIR (en otra celda)\n",
    "    \n",
    "kw_meals_count_sorted = kw_sorted(kw_meals_count)   \n",
    "df_kw_meals = pd.DataFrame(  [[key, kw_meals_count_sorted[key]]    for key in kw_meals_count_sorted.keys()],\n",
    "                          columns=['keyword', 'total_kw' ])\n",
    "\n",
    "#2 -> df_kw_TOP_TAGS\n",
    "with open('./DATA/data.JSON/lis_kw.json', 'r') as kw:\n",
    "    lis_kw = json.load(kw)  #ABRIR\n",
    "    \n",
    "kw_top_tags_count = lis_kw   #renombramos el dict.json\n",
    "kw_top_tags_count_sorted = kw_sorted(kw_top_tags_count)  \n",
    "df_kw_top_tags = pd.DataFrame( [[key, kw_top_tags_count_sorted[key]]    for key in kw_top_tags_count_sorted.keys()],\n",
    "                          columns=['keyword', 'total_kw' ])\n",
    "#3 -> df_kw_CUISINES\n",
    "with open('./DATA/data.JSON/dict_kw_cuisines_count.json', 'r') as kw:\n",
    "    kw_cuisines_count = json.load(kw)  #ABRIR (en otra celda)\n",
    "    \n",
    "kw_cuisines_count_sorted = kw_sorted(kw_cuisines_count)\n",
    "df_kw_cuisines = pd.DataFrame( [[key, kw_cuisines_count_sorted[key]]    for key in kw_cuisines_count_sorted.keys()],\n",
    "                          columns=['keyword', 'total_kw' ])\n",
    "\n",
    "#4 df_kw_FEATURES\n",
    "with open('./DATA/data.JSON/dict_kw_features_count.json', 'r') as kw:\n",
    "    kw_features_count = json.load(kw)                #ABRIR (en otra celda)\n",
    "    \n",
    "kw_features_count_sorted = kw_sorted(kw_features_count)\n",
    "\n",
    "df_kw_features = pd.DataFrame( [[key, kw_features_count_sorted[key]]    for key in kw_features_count_sorted.keys()],\n",
    "                          columns=['keyword', 'total_kw' ])"
   ]
  },
  {
   "cell_type": "markdown",
   "metadata": {},
   "source": [
    "# ANÁLISIS TOP_TAGS  ✨✨"
   ]
  },
  {
   "cell_type": "code",
   "execution_count": 94,
   "metadata": {},
   "outputs": [
    {
     "data": {
      "text/html": [
       "<div>\n",
       "<style scoped>\n",
       "    .dataframe tbody tr th:only-of-type {\n",
       "        vertical-align: middle;\n",
       "    }\n",
       "\n",
       "    .dataframe tbody tr th {\n",
       "        vertical-align: top;\n",
       "    }\n",
       "\n",
       "    .dataframe thead th {\n",
       "        text-align: right;\n",
       "    }\n",
       "</style>\n",
       "<table border=\"1\" class=\"dataframe\">\n",
       "  <thead>\n",
       "    <tr style=\"text-align: right;\">\n",
       "      <th></th>\n",
       "      <th>keyword</th>\n",
       "      <th>total_kw</th>\n",
       "    </tr>\n",
       "  </thead>\n",
       "  <tbody>\n",
       "    <tr>\n",
       "      <th>0</th>\n",
       "      <td>Mid-range</td>\n",
       "      <td>79424</td>\n",
       "    </tr>\n",
       "    <tr>\n",
       "      <th>1</th>\n",
       "      <td>Spanish</td>\n",
       "      <td>76857</td>\n",
       "    </tr>\n",
       "    <tr>\n",
       "      <th>2</th>\n",
       "      <td>Mediterranean</td>\n",
       "      <td>53632</td>\n",
       "    </tr>\n",
       "    <tr>\n",
       "      <th>3</th>\n",
       "      <td>Cheap Eats</td>\n",
       "      <td>33494</td>\n",
       "    </tr>\n",
       "    <tr>\n",
       "      <th>4</th>\n",
       "      <td>European</td>\n",
       "      <td>20693</td>\n",
       "    </tr>\n",
       "  </tbody>\n",
       "</table>\n",
       "</div>"
      ],
      "text/plain": [
       "         keyword  total_kw\n",
       "0      Mid-range     79424\n",
       "1        Spanish     76857\n",
       "2  Mediterranean     53632\n",
       "3     Cheap Eats     33494\n",
       "4       European     20693"
      ]
     },
     "execution_count": 94,
     "metadata": {},
     "output_type": "execute_result"
    }
   ],
   "source": [
    "df_kw_top_tags.loc[:4]   #  CONTADOR KW"
   ]
  },
  {
   "cell_type": "code",
   "execution_count": null,
   "metadata": {},
   "outputs": [],
   "source": [
    "df_kw_top_tags[(df_kw_top_tags.total_kw == 4)]"
   ]
  },
  {
   "cell_type": "code",
   "execution_count": null,
   "metadata": {},
   "outputs": [],
   "source": [
    "df_kw_top_tags.keyword = df_kw_top_tags.keyword.apply(lambda x: x.lower().replace(' ', '_'))   #OPCIÓN  1"
   ]
  },
  {
   "cell_type": "code",
   "execution_count": 174,
   "metadata": {},
   "outputs": [],
   "source": [
    "df_kw_top_tags.columns = [col.lower().replace(' ', '_') for col in df_kw_top_tags.columns]     #OPCIÓN  2 para la transpuesta"
   ]
  },
  {
   "cell_type": "code",
   "execution_count": 175,
   "metadata": {},
   "outputs": [],
   "source": [
    "df_kw_top_tags.set_index('keyword', inplace=True)   #REINDEXxX\n",
    "df_kw_top_tags=df_kw_top_tags.T    #TRANSPUESTA"
   ]
  },
  {
   "cell_type": "code",
   "execution_count": 176,
   "metadata": {},
   "outputs": [
    {
     "data": {
      "text/html": [
       "<div>\n",
       "<style scoped>\n",
       "    .dataframe tbody tr th:only-of-type {\n",
       "        vertical-align: middle;\n",
       "    }\n",
       "\n",
       "    .dataframe tbody tr th {\n",
       "        vertical-align: top;\n",
       "    }\n",
       "\n",
       "    .dataframe thead th {\n",
       "        text-align: right;\n",
       "    }\n",
       "</style>\n",
       "<table border=\"1\" class=\"dataframe\">\n",
       "  <thead>\n",
       "    <tr style=\"text-align: right;\">\n",
       "      <th>keyword</th>\n",
       "      <th>Mid-range</th>\n",
       "      <th>Spanish</th>\n",
       "      <th>Mediterranean</th>\n",
       "      <th>Cheap Eats</th>\n",
       "      <th>European</th>\n",
       "      <th>Bar</th>\n",
       "      <th>Info no disponible</th>\n",
       "      <th>Vegetarian Friendly</th>\n",
       "      <th>Cafe</th>\n",
       "      <th>Italian</th>\n",
       "      <th>Pizza</th>\n",
       "      <th>Pub</th>\n",
       "      <th>International</th>\n",
       "      <th>Seafood</th>\n",
       "      <th>Fast food</th>\n",
       "      <th>American</th>\n",
       "      <th>Steakhouse</th>\n",
       "      <th>Asian</th>\n",
       "      <th>Fine Dining</th>\n",
       "      <th>Barbecue</th>\n",
       "      <th>Dessert</th>\n",
       "      <th>Japanese</th>\n",
       "      <th>Chinese</th>\n",
       "      <th>Healthy</th>\n",
       "      <th>Vegan Options</th>\n",
       "      <th>Sushi</th>\n",
       "      <th>Fusion</th>\n",
       "      <th>Mexican</th>\n",
       "      <th>Gluten Free Options</th>\n",
       "      <th>Grill</th>\n",
       "      <th>Contemporary</th>\n",
       "      <th>British</th>\n",
       "      <th>Latin</th>\n",
       "      <th>Indian</th>\n",
       "      <th>Basque</th>\n",
       "      <th>Bakeries</th>\n",
       "      <th>South American</th>\n",
       "      <th>French</th>\n",
       "      <th>Diner</th>\n",
       "      <th>Argentinian</th>\n",
       "      <th>Catalan</th>\n",
       "      <th>Deli</th>\n",
       "      <th>Brew Pub</th>\n",
       "      <th>Wine Bar</th>\n",
       "      <th>Quick Bites</th>\n",
       "      <th>Turkish</th>\n",
       "      <th>German</th>\n",
       "      <th>Gastropub</th>\n",
       "      <th>Thai</th>\n",
       "      <th>Middle Eastern</th>\n",
       "      <th>Street Food</th>\n",
       "      <th>Peruvian</th>\n",
       "      <th>Dining bars</th>\n",
       "      <th>Moroccan</th>\n",
       "      <th>Venezuelan</th>\n",
       "      <th>Caribbean</th>\n",
       "      <th>Brazilian</th>\n",
       "      <th>Irish</th>\n",
       "      <th>Balti</th>\n",
       "      <th>Belgian</th>\n",
       "      <th>Lebanese</th>\n",
       "      <th>Dutch</th>\n",
       "      <th>Greek</th>\n",
       "      <th>Central American</th>\n",
       "      <th>African</th>\n",
       "      <th>Cantonese</th>\n",
       "      <th>Central European</th>\n",
       "      <th>Hawaiian</th>\n",
       "      <th>Portuguese</th>\n",
       "      <th>Colombian</th>\n",
       "      <th>Soups</th>\n",
       "      <th>Arabic</th>\n",
       "      <th>Beer restaurants</th>\n",
       "      <th>Korean</th>\n",
       "      <th>Cuban</th>\n",
       "      <th>Eastern European</th>\n",
       "      <th>Japanese Fusion</th>\n",
       "      <th>Neapolitan</th>\n",
       "      <th>Pakistani</th>\n",
       "      <th>Vietnamese</th>\n",
       "      <th>Speciality Food Market</th>\n",
       "      <th>Scandinavian</th>\n",
       "      <th>Russian</th>\n",
       "      <th>Hong Kong</th>\n",
       "      <th>Swiss</th>\n",
       "      <th>Nepalese</th>\n",
       "      <th>Philippine</th>\n",
       "      <th>Central Asian</th>\n",
       "      <th>Southern-Italian</th>\n",
       "      <th>Cajun &amp; Creole</th>\n",
       "      <th>Austrian</th>\n",
       "      <th>Central-Italian</th>\n",
       "      <th>Afghani</th>\n",
       "      <th>Swedish</th>\n",
       "      <th>Shanghai</th>\n",
       "      <th>Szechuan</th>\n",
       "      <th>Romanian</th>\n",
       "      <th>Polish</th>\n",
       "      <th>Ecuadorean</th>\n",
       "      <th>Chilean</th>\n",
       "      <th>Northern-Italian</th>\n",
       "      <th>Indonesian</th>\n",
       "      <th>Albanian</th>\n",
       "      <th>Sicilian</th>\n",
       "      <th>Danish</th>\n",
       "      <th>Romana</th>\n",
       "      <th>Halal</th>\n",
       "      <th>Persian</th>\n",
       "      <th>Campania</th>\n",
       "      <th>Southwestern</th>\n",
       "      <th>Armenian</th>\n",
       "      <th>Fruit parlours</th>\n",
       "      <th>Tuscan</th>\n",
       "      <th>Medicinal foods</th>\n",
       "      <th>Australian</th>\n",
       "      <th>Slovenian</th>\n",
       "      <th>Bangladeshi</th>\n",
       "      <th>Dine With a Local Chef</th>\n",
       "      <th>Taiwanese</th>\n",
       "      <th>Hunan</th>\n",
       "      <th>Georgian</th>\n",
       "      <th>Delivery Only</th>\n",
       "      <th>Israeli</th>\n",
       "      <th>Lazio</th>\n",
       "      <th>Jamaican</th>\n",
       "      <th>Japanese sweets parlour</th>\n",
       "      <th>Egyptian</th>\n",
       "      <th>Native American</th>\n",
       "      <th>Beijing cuisine</th>\n",
       "      <th>Norwegian</th>\n",
       "      <th>Scottish</th>\n",
       "      <th>Ethiopian</th>\n",
       "      <th>Caucasian</th>\n",
       "      <th>Canadian</th>\n",
       "      <th>Czech</th>\n",
       "      <th>Bahamian</th>\n",
       "      <th>Salvadoran</th>\n",
       "      <th>Imperial Chinese</th>\n",
       "      <th>Sardinian</th>\n",
       "      <th>Hungarian</th>\n",
       "      <th>Malaysian</th>\n",
       "      <th>Welsh</th>\n",
       "      <th>Apulian</th>\n",
       "      <th>Guatemalan</th>\n",
       "      <th>Tibetan</th>\n",
       "      <th>Puerto Rican</th>\n",
       "      <th>Mongolian</th>\n",
       "      <th>Polynesian</th>\n",
       "      <th>NorthWestern Chinese</th>\n",
       "      <th>Calabrian</th>\n",
       "      <th>Singaporean</th>\n",
       "      <th>Cambodian</th>\n",
       "      <th>Kyoto cuisine</th>\n",
       "      <th>Azerbaijani</th>\n",
       "      <th>Sri Lankan</th>\n",
       "      <th>Algerian</th>\n",
       "      <th>Kosher</th>\n",
       "      <th>Emilian</th>\n",
       "      <th>Ukrainian</th>\n",
       "      <th>Fujian</th>\n",
       "      <th>Hokkaido cuisine</th>\n",
       "      <th>Zhejiang</th>\n",
       "      <th>NorthEastern Chinese</th>\n",
       "      <th>Nigerian</th>\n",
       "      <th>Yunnan</th>\n",
       "      <th>New Zealand</th>\n",
       "      <th>Croatian</th>\n",
       "      <th>Assyrian</th>\n",
       "      <th>Hangzhou</th>\n",
       "      <th>Tunisian</th>\n",
       "      <th>Romagna</th>\n",
       "      <th>Latvian</th>\n",
       "      <th>Anhui</th>\n",
       "      <th>Ligurian</th>\n",
       "      <th>Beijing Specialties</th>\n",
       "      <th>Xinjiang</th>\n",
       "    </tr>\n",
       "  </thead>\n",
       "  <tbody>\n",
       "    <tr>\n",
       "      <th>total_kw</th>\n",
       "      <td>79424</td>\n",
       "      <td>76857</td>\n",
       "      <td>53632</td>\n",
       "      <td>33494</td>\n",
       "      <td>20693</td>\n",
       "      <td>17524</td>\n",
       "      <td>15633</td>\n",
       "      <td>14291</td>\n",
       "      <td>13308</td>\n",
       "      <td>10678</td>\n",
       "      <td>8736</td>\n",
       "      <td>6635</td>\n",
       "      <td>6536</td>\n",
       "      <td>6385</td>\n",
       "      <td>5829</td>\n",
       "      <td>5476</td>\n",
       "      <td>5459</td>\n",
       "      <td>4506</td>\n",
       "      <td>3913</td>\n",
       "      <td>3813</td>\n",
       "      <td>3287</td>\n",
       "      <td>3086</td>\n",
       "      <td>2708</td>\n",
       "      <td>2476</td>\n",
       "      <td>2470</td>\n",
       "      <td>2437</td>\n",
       "      <td>1993</td>\n",
       "      <td>1902</td>\n",
       "      <td>1863</td>\n",
       "      <td>1604</td>\n",
       "      <td>1452</td>\n",
       "      <td>1414</td>\n",
       "      <td>1365</td>\n",
       "      <td>1354</td>\n",
       "      <td>1351</td>\n",
       "      <td>1334</td>\n",
       "      <td>1305</td>\n",
       "      <td>1249</td>\n",
       "      <td>1114</td>\n",
       "      <td>872</td>\n",
       "      <td>860</td>\n",
       "      <td>853</td>\n",
       "      <td>814</td>\n",
       "      <td>761</td>\n",
       "      <td>699</td>\n",
       "      <td>630</td>\n",
       "      <td>577</td>\n",
       "      <td>548</td>\n",
       "      <td>544</td>\n",
       "      <td>543</td>\n",
       "      <td>521</td>\n",
       "      <td>520</td>\n",
       "      <td>503</td>\n",
       "      <td>494</td>\n",
       "      <td>382</td>\n",
       "      <td>331</td>\n",
       "      <td>276</td>\n",
       "      <td>276</td>\n",
       "      <td>266</td>\n",
       "      <td>252</td>\n",
       "      <td>249</td>\n",
       "      <td>185</td>\n",
       "      <td>181</td>\n",
       "      <td>171</td>\n",
       "      <td>168</td>\n",
       "      <td>163</td>\n",
       "      <td>160</td>\n",
       "      <td>154</td>\n",
       "      <td>140</td>\n",
       "      <td>123</td>\n",
       "      <td>122</td>\n",
       "      <td>121</td>\n",
       "      <td>115</td>\n",
       "      <td>111</td>\n",
       "      <td>103</td>\n",
       "      <td>93</td>\n",
       "      <td>87</td>\n",
       "      <td>83</td>\n",
       "      <td>83</td>\n",
       "      <td>81</td>\n",
       "      <td>75</td>\n",
       "      <td>72</td>\n",
       "      <td>67</td>\n",
       "      <td>58</td>\n",
       "      <td>57</td>\n",
       "      <td>56</td>\n",
       "      <td>50</td>\n",
       "      <td>50</td>\n",
       "      <td>47</td>\n",
       "      <td>43</td>\n",
       "      <td>42</td>\n",
       "      <td>40</td>\n",
       "      <td>39</td>\n",
       "      <td>38</td>\n",
       "      <td>38</td>\n",
       "      <td>38</td>\n",
       "      <td>37</td>\n",
       "      <td>32</td>\n",
       "      <td>32</td>\n",
       "      <td>30</td>\n",
       "      <td>29</td>\n",
       "      <td>27</td>\n",
       "      <td>26</td>\n",
       "      <td>26</td>\n",
       "      <td>26</td>\n",
       "      <td>25</td>\n",
       "      <td>25</td>\n",
       "      <td>23</td>\n",
       "      <td>22</td>\n",
       "      <td>21</td>\n",
       "      <td>21</td>\n",
       "      <td>18</td>\n",
       "      <td>18</td>\n",
       "      <td>17</td>\n",
       "      <td>17</td>\n",
       "      <td>17</td>\n",
       "      <td>16</td>\n",
       "      <td>15</td>\n",
       "      <td>14</td>\n",
       "      <td>14</td>\n",
       "      <td>13</td>\n",
       "      <td>13</td>\n",
       "      <td>12</td>\n",
       "      <td>11</td>\n",
       "      <td>11</td>\n",
       "      <td>10</td>\n",
       "      <td>10</td>\n",
       "      <td>9</td>\n",
       "      <td>9</td>\n",
       "      <td>9</td>\n",
       "      <td>8</td>\n",
       "      <td>8</td>\n",
       "      <td>8</td>\n",
       "      <td>7</td>\n",
       "      <td>7</td>\n",
       "      <td>7</td>\n",
       "      <td>6</td>\n",
       "      <td>6</td>\n",
       "      <td>6</td>\n",
       "      <td>6</td>\n",
       "      <td>5</td>\n",
       "      <td>5</td>\n",
       "      <td>5</td>\n",
       "      <td>5</td>\n",
       "      <td>4</td>\n",
       "      <td>4</td>\n",
       "      <td>4</td>\n",
       "      <td>4</td>\n",
       "      <td>4</td>\n",
       "      <td>3</td>\n",
       "      <td>3</td>\n",
       "      <td>3</td>\n",
       "      <td>3</td>\n",
       "      <td>3</td>\n",
       "      <td>3</td>\n",
       "      <td>3</td>\n",
       "      <td>3</td>\n",
       "      <td>3</td>\n",
       "      <td>2</td>\n",
       "      <td>2</td>\n",
       "      <td>2</td>\n",
       "      <td>2</td>\n",
       "      <td>2</td>\n",
       "      <td>2</td>\n",
       "      <td>2</td>\n",
       "      <td>2</td>\n",
       "      <td>2</td>\n",
       "      <td>1</td>\n",
       "      <td>1</td>\n",
       "      <td>1</td>\n",
       "      <td>1</td>\n",
       "      <td>1</td>\n",
       "      <td>1</td>\n",
       "      <td>1</td>\n",
       "      <td>1</td>\n",
       "      <td>1</td>\n",
       "    </tr>\n",
       "  </tbody>\n",
       "</table>\n",
       "</div>"
      ],
      "text/plain": [
       "keyword   Mid-range  Spanish  Mediterranean  Cheap Eats  European    Bar  \\\n",
       "total_kw      79424    76857          53632       33494     20693  17524   \n",
       "\n",
       "keyword   Info no disponible  Vegetarian Friendly   Cafe  Italian  Pizza  \\\n",
       "total_kw               15633                14291  13308    10678   8736   \n",
       "\n",
       "keyword    Pub  International  Seafood  Fast food  American  Steakhouse  \\\n",
       "total_kw  6635           6536     6385       5829      5476        5459   \n",
       "\n",
       "keyword   Asian  Fine Dining  Barbecue  Dessert  Japanese  Chinese  Healthy  \\\n",
       "total_kw   4506         3913      3813     3287      3086     2708     2476   \n",
       "\n",
       "keyword   Vegan Options  Sushi  Fusion  Mexican  Gluten Free Options  Grill  \\\n",
       "total_kw           2470   2437    1993     1902                 1863   1604   \n",
       "\n",
       "keyword   Contemporary  British  Latin  Indian  Basque  Bakeries  \\\n",
       "total_kw          1452     1414   1365    1354    1351      1334   \n",
       "\n",
       "keyword   South American  French  Diner  Argentinian  Catalan  Deli  Brew Pub  \\\n",
       "total_kw            1305    1249   1114          872      860   853       814   \n",
       "\n",
       "keyword   Wine Bar  Quick Bites  Turkish  German  Gastropub  Thai  \\\n",
       "total_kw       761          699      630     577        548   544   \n",
       "\n",
       "keyword   Middle Eastern  Street Food  Peruvian  Dining bars  Moroccan  \\\n",
       "total_kw             543          521       520          503       494   \n",
       "\n",
       "keyword   Venezuelan  Caribbean  Brazilian  Irish  Balti  Belgian  Lebanese  \\\n",
       "total_kw         382        331        276    276    266      252       249   \n",
       "\n",
       "keyword   Dutch  Greek  Central American  African  Cantonese  \\\n",
       "total_kw    185    181               171      168        163   \n",
       "\n",
       "keyword   Central European  Hawaiian  Portuguese  Colombian  Soups  Arabic  \\\n",
       "total_kw               160       154         140        123    122     121   \n",
       "\n",
       "keyword   Beer restaurants  Korean  Cuban  Eastern European  Japanese Fusion  \\\n",
       "total_kw               115     111    103                93               87   \n",
       "\n",
       "keyword   Neapolitan  Pakistani  Vietnamese  Speciality Food Market  \\\n",
       "total_kw          83         83          81                      75   \n",
       "\n",
       "keyword   Scandinavian  Russian  Hong Kong  Swiss  Nepalese  Philippine  \\\n",
       "total_kw            72       67         58     57        56          50   \n",
       "\n",
       "keyword   Central Asian  Southern-Italian  Cajun & Creole  Austrian  \\\n",
       "total_kw             50                47              43        42   \n",
       "\n",
       "keyword   Central-Italian  Afghani  Swedish  Shanghai  Szechuan  Romanian  \\\n",
       "total_kw               40       39       38        38        38        37   \n",
       "\n",
       "keyword   Polish  Ecuadorean  Chilean  Northern-Italian  Indonesian  Albanian  \\\n",
       "total_kw      32          32       30                29          27        26   \n",
       "\n",
       "keyword   Sicilian  Danish  Romana  Halal  Persian  Campania  Southwestern  \\\n",
       "total_kw        26      26      25     25       23        22            21   \n",
       "\n",
       "keyword   Armenian  Fruit parlours  Tuscan  Medicinal foods  Australian  \\\n",
       "total_kw        21              18      18               17          17   \n",
       "\n",
       "keyword   Slovenian  Bangladeshi  Dine With a Local Chef  Taiwanese  Hunan  \\\n",
       "total_kw         17           16                      15         14     14   \n",
       "\n",
       "keyword   Georgian  Delivery Only  Israeli  Lazio  Jamaican  \\\n",
       "total_kw        13             13       12     11        11   \n",
       "\n",
       "keyword   Japanese sweets parlour  Egyptian  Native American  Beijing cuisine  \\\n",
       "total_kw                       10        10                9                9   \n",
       "\n",
       "keyword   Norwegian  Scottish  Ethiopian  Caucasian  Canadian  Czech  \\\n",
       "total_kw          9         8          8          8         7      7   \n",
       "\n",
       "keyword   Bahamian  Salvadoran  Imperial Chinese  Sardinian  Hungarian  \\\n",
       "total_kw         7           6                 6          6          6   \n",
       "\n",
       "keyword   Malaysian  Welsh  Apulian  Guatemalan  Tibetan  Puerto Rican  \\\n",
       "total_kw          5      5        5           5        4             4   \n",
       "\n",
       "keyword   Mongolian  Polynesian  NorthWestern Chinese  Calabrian  Singaporean  \\\n",
       "total_kw          4           4                     4          3            3   \n",
       "\n",
       "keyword   Cambodian  Kyoto cuisine  Azerbaijani  Sri Lankan  Algerian  Kosher  \\\n",
       "total_kw          3              3            3           3         3       3   \n",
       "\n",
       "keyword   Emilian  Ukrainian  Fujian  Hokkaido cuisine  Zhejiang  \\\n",
       "total_kw        3          2       2                 2         2   \n",
       "\n",
       "keyword   NorthEastern Chinese  Nigerian  Yunnan  New Zealand  Croatian  \\\n",
       "total_kw                     2         2       2            2         2   \n",
       "\n",
       "keyword   Assyrian  Hangzhou  Tunisian  Romagna  Latvian  Anhui  Ligurian  \\\n",
       "total_kw         1         1         1        1        1      1         1   \n",
       "\n",
       "keyword   Beijing Specialties  Xinjiang  \n",
       "total_kw                    1         1  "
      ]
     },
     "execution_count": 176,
     "metadata": {},
     "output_type": "execute_result"
    }
   ],
   "source": [
    "df_kw_top_tags   #CONTADOR de KEYWORDS"
   ]
  },
  {
   "cell_type": "code",
   "execution_count": null,
   "metadata": {},
   "outputs": [],
   "source": [
    "# ¿?\n",
    "fine_dining + fusion + contemporary + deli(or delicatessen, german word) + middle_eastern"
   ]
  },
  {
   "cell_type": "markdown",
   "metadata": {},
   "source": [
    "**1. TYPES OF FOOD**\n",
    "pizza + seafood + steakhouse(asador) + seafood + sushi + grill(parrilla) + soups "
   ]
  },
  {
   "cell_type": "code",
   "execution_count": null,
   "metadata": {},
   "outputs": [],
   "source": [
    "food =  ['pizza', 'seafood', 'steakhouse', 'seafood', 'sushi', 'grill', 'soups'] "
   ]
  },
  {
   "cell_type": "code",
   "execution_count": null,
   "metadata": {},
   "outputs": [],
   "source": [
    "if any(word in 'kasgfg' for word in food):\n",
    "    print(1)\n",
    "else:\n",
    "    print(0)"
   ]
  },
  {
   "cell_type": "markdown",
   "metadata": {},
   "source": [
    "**2. KW  SPANISH FOOD** \n",
    "spanish + mediterranean"
   ]
  },
  {
   "cell_type": "markdown",
   "metadata": {},
   "source": [
    "**3. KW  CHEAT FOOD**  cheap_eats + quick_bites(Bocadillos)"
   ]
  },
  {
   "cell_type": "markdown",
   "metadata": {},
   "source": [
    "**4. KW BAR**  (brew pub=pub de cerveza)\n",
    "bar + pub + brew_pub + wine_bar + gastropub + dining_bars + beer_restaurants  "
   ]
  },
  {
   "cell_type": "markdown",
   "metadata": {},
   "source": [
    "**5. KW HEALTHY FOOD**\n",
    "vegetarian_friendly + healthy + vegan_options + vegetarian_friendly + gluten_free_options  "
   ]
  },
  {
   "cell_type": "markdown",
   "metadata": {},
   "source": [
    "**6. CÁFE**\n",
    "cafe + dessert + bakeries"
   ]
  },
  {
   "cell_type": "markdown",
   "metadata": {},
   "source": [
    "**7. INTERNACIONAL (Continentes)**\n"
   ]
  },
  {
   "cell_type": "markdown",
   "metadata": {},
   "source": [
    "**EUROPIAN** (balti, comida Birmingham Inglaterra (curry picante))\n",
    "european + italian + british + french + german + turkish + irish + balti + belgian + dutch + greek + portuguese   "
   ]
  },
  {
   "cell_type": "markdown",
   "metadata": {},
   "source": [
    "**AMÉRICA SUR**\n",
    "mexican + latin + south_american + argentinian + peruvian + venezuelan + caribbean + brazilian + central_american + cuban + ecuadorean + chilean  "
   ]
  },
  {
   "cell_type": "markdown",
   "metadata": {},
   "source": [
    "**AMÉRICA NORTE** american + hawaiian"
   ]
  },
  {
   "cell_type": "markdown",
   "metadata": {},
   "source": [
    "**ÁFRICA** african + moroccan"
   ]
  },
  {
   "cell_type": "markdown",
   "metadata": {},
   "source": [
    "**ASIA**\n",
    "asian + japanese + chinese + indian + thai + lebanese + russian + vietnamese +"
   ]
  },
  {
   "cell_type": "code",
   "execution_count": 90,
   "metadata": {},
   "outputs": [
    {
     "data": {
      "text/plain": [
       "Info no disponible                             14939\n",
       "Mid-range, Spanish                              9360\n",
       "Spanish                                         7290\n",
       "Mid-range, Mediterranean, Spanish               6833\n",
       "Mid-range, Mediterranean, European, Spanish     6632\n",
       "Name: top_tags, dtype: int64"
      ]
     },
     "execution_count": 90,
     "metadata": {},
     "output_type": "execute_result"
    }
   ],
   "source": [
    "df2.top_tags.value_counts().head()"
   ]
  },
  {
   "cell_type": "code",
   "execution_count": null,
   "metadata": {},
   "outputs": [],
   "source": [
    "             #'Info no disponible'\n",
    "df2.shape[0] - 14939  #Tengo 140175 FILAS con tags,  {el resto es 'Info no disponible' (10% del DF) ~ MAYBE DELETE }"
   ]
  },
  {
   "cell_type": "code",
   "execution_count": null,
   "metadata": {
    "scrolled": true
   },
   "outputs": [],
   "source": [
    "df2[df2.top_tags.str.contains('Dutch', regex=True)].head(2)  # Mediterranean, American, German, DUCTCH, Europe..."
   ]
  },
  {
   "cell_type": "code",
   "execution_count": null,
   "metadata": {},
   "outputs": [],
   "source": []
  },
  {
   "cell_type": "markdown",
   "metadata": {},
   "source": [
    "## DF TOP TAGS"
   ]
  },
  {
   "cell_type": "code",
   "execution_count": 144,
   "metadata": {},
   "outputs": [],
   "source": [
    "# OPENN 🔑🔑🔑\n",
    "df = pd.read_csv('df_tripAD_Spain.csv')\n",
    "df = df.reset_index()"
   ]
  },
  {
   "cell_type": "code",
   "execution_count": 475,
   "metadata": {},
   "outputs": [],
   "source": [
    "df = df.drop(df[df.top_tags == 'Info no disponible'].index)"
   ]
  },
  {
   "cell_type": "code",
   "execution_count": 149,
   "metadata": {
    "scrolled": true
   },
   "outputs": [
    {
     "data": {
      "text/plain": [
       "(135719, 32)"
      ]
     },
     "execution_count": 149,
     "metadata": {},
     "output_type": "execute_result"
    }
   ],
   "source": [
    "df.shape   #df_limpitooo (de full_location)"
   ]
  },
  {
   "cell_type": "code",
   "execution_count": 150,
   "metadata": {},
   "outputs": [
    {
     "data": {
      "text/plain": [
       "array(['Andalucía', 'Catalunya', 'Canarias', 'Illes Balears', 'Euskadi',\n",
       "       'Comunidad Valenciana', 'Castilla y León', 'Galicia',\n",
       "       'Castilla-La Mancha', 'Aragón', 'Asturias', 'Comunidad de Madrid',\n",
       "       'Navarra', 'Región de Murcia', 'Cantabria', 'La Rioja',\n",
       "       'Extremadura', 'Ceuta', 'Melilla'], dtype=object)"
      ]
     },
     "execution_count": 150,
     "metadata": {},
     "output_type": "execute_result"
    }
   ],
   "source": [
    "df.region_.unique()   # Señal de que el DF esta limpio"
   ]
  },
  {
   "cell_type": "code",
   "execution_count": 194,
   "metadata": {},
   "outputs": [
    {
     "data": {
      "text/plain": [
       "Index(['index', 'restaurant_link', 'restaurant_name', 'country', 'region',\n",
       "       'province', 'city', 'address', 'latitude', 'longitude', 'claimed',\n",
       "       'top_tags', 'price_range', 'meals', 'cuisines', 'special_diets',\n",
       "       'features', 'vegetarian_friendly', 'vegan_options', 'gluten_free',\n",
       "       'original_open_hours', 'avg_rating', 'total_reviews_count',\n",
       "       'default_language', 'food', 'service', 'value', 'lat_long',\n",
       "       'full_location', 'province_', 'city_village', 'region_'],\n",
       "      dtype='object')"
      ]
     },
     "execution_count": 194,
     "metadata": {},
     "output_type": "execute_result"
    }
   ],
   "source": [
    "df.columns"
   ]
  },
  {
   "cell_type": "code",
   "execution_count": 168,
   "metadata": {},
   "outputs": [
    {
     "data": {
      "text/html": [
       "<div>\n",
       "<style scoped>\n",
       "    .dataframe tbody tr th:only-of-type {\n",
       "        vertical-align: middle;\n",
       "    }\n",
       "\n",
       "    .dataframe tbody tr th {\n",
       "        vertical-align: top;\n",
       "    }\n",
       "\n",
       "    .dataframe thead th {\n",
       "        text-align: right;\n",
       "    }\n",
       "</style>\n",
       "<table border=\"1\" class=\"dataframe\">\n",
       "  <thead>\n",
       "    <tr style=\"text-align: right;\">\n",
       "      <th></th>\n",
       "      <th>restaurant_link</th>\n",
       "      <th>restaurant_name</th>\n",
       "      <th>region_</th>\n",
       "      <th>province_</th>\n",
       "      <th>city_village</th>\n",
       "      <th>latitude</th>\n",
       "      <th>longitude</th>\n",
       "      <th>lat_long</th>\n",
       "      <th>address</th>\n",
       "      <th>top_tags</th>\n",
       "      <th>avg_rating</th>\n",
       "    </tr>\n",
       "  </thead>\n",
       "  <tbody>\n",
       "    <tr>\n",
       "      <th>0</th>\n",
       "      <td>g10021880-d13763192</td>\n",
       "      <td>Taberna La Sacristia</td>\n",
       "      <td>Andalucía</td>\n",
       "      <td>Sevilla</td>\n",
       "      <td>Aznalcóllar</td>\n",
       "      <td>37.51928</td>\n",
       "      <td>-6.26885</td>\n",
       "      <td>('37.51928', '-6.26885')</td>\n",
       "      <td>Calle del Concejo 19, 41870 Aznalcollar Spain</td>\n",
       "      <td>Spanish</td>\n",
       "      <td>3.0</td>\n",
       "    </tr>\n",
       "    <tr>\n",
       "      <th>1</th>\n",
       "      <td>g10021880-d15758746</td>\n",
       "      <td>Tasca el Capricho</td>\n",
       "      <td>Andalucía</td>\n",
       "      <td>Sevilla</td>\n",
       "      <td>Aznalcóllar</td>\n",
       "      <td>37.52065</td>\n",
       "      <td>-6.26822</td>\n",
       "      <td>('37.52065', '-6.26822')</td>\n",
       "      <td>Calle del 28 de Febrero 9, 41870 Aznalcollar S...</td>\n",
       "      <td>Spanish</td>\n",
       "      <td>5.0</td>\n",
       "    </tr>\n",
       "    <tr>\n",
       "      <th>2</th>\n",
       "      <td>g10021880-d19332558</td>\n",
       "      <td>Bar Las Adelfas</td>\n",
       "      <td>Andalucía</td>\n",
       "      <td>Sevilla</td>\n",
       "      <td>Aznalcóllar</td>\n",
       "      <td>37.52428</td>\n",
       "      <td>-6.27144</td>\n",
       "      <td>('37.52428', '-6.27144')</td>\n",
       "      <td>Calle Perdon N° 23 Capilla de La Cruz, 41870 A...</td>\n",
       "      <td>Mediterranean, Spanish, Grill, Diner</td>\n",
       "      <td>3.0</td>\n",
       "    </tr>\n",
       "  </tbody>\n",
       "</table>\n",
       "</div>"
      ],
      "text/plain": [
       "       restaurant_link       restaurant_name    region_ province_  \\\n",
       "0  g10021880-d13763192  Taberna La Sacristia  Andalucía   Sevilla   \n",
       "1  g10021880-d15758746     Tasca el Capricho  Andalucía   Sevilla   \n",
       "2  g10021880-d19332558       Bar Las Adelfas  Andalucía   Sevilla   \n",
       "\n",
       "  city_village  latitude  longitude                  lat_long  \\\n",
       "0  Aznalcóllar  37.51928   -6.26885  ('37.51928', '-6.26885')   \n",
       "1  Aznalcóllar  37.52065   -6.26822  ('37.52065', '-6.26822')   \n",
       "2  Aznalcóllar  37.52428   -6.27144  ('37.52428', '-6.27144')   \n",
       "\n",
       "                                             address  \\\n",
       "0      Calle del Concejo 19, 41870 Aznalcollar Spain   \n",
       "1  Calle del 28 de Febrero 9, 41870 Aznalcollar S...   \n",
       "2  Calle Perdon N° 23 Capilla de La Cruz, 41870 A...   \n",
       "\n",
       "                               top_tags avg_rating  \n",
       "0                               Spanish        3.0  \n",
       "1                               Spanish        5.0  \n",
       "2  Mediterranean, Spanish, Grill, Diner        3.0  "
      ]
     },
     "execution_count": 168,
     "metadata": {},
     "output_type": "execute_result"
    }
   ],
   "source": [
    "df_top_tags = df[['restaurant_link', 'restaurant_name', 'region_', 'province_', 'city_village', 'latitude', 'longitude', 'lat_long',\n",
    "                  'address', 'top_tags', 'avg_rating']].copy()\n",
    "df_top_tags.head(3)"
   ]
  },
  {
   "cell_type": "code",
   "execution_count": 169,
   "metadata": {},
   "outputs": [
    {
     "data": {
      "text/plain": [
       "((135719, 11), (135719, 32))"
      ]
     },
     "execution_count": 169,
     "metadata": {},
     "output_type": "execute_result"
    }
   ],
   "source": [
    "df_top_tags.shape, df.shape"
   ]
  },
  {
   "cell_type": "code",
   "execution_count": 178,
   "metadata": {},
   "outputs": [],
   "source": [
    "food =  ['pizza', 'seafood', 'steakhouse', 'sushi', 'grill', 'soups']\n",
    "spanish_food = ['spanish', 'mediterranean']\n",
    "cheap_eats = [ 'quick_bites', 'street_food']\n",
    "beer_wine =  ['brew pub', 'bar', 'pub', 'wine_bar', 'gastropub', ' dining_bars', 'beer_restaurants']\n",
    "healthy_food = ['vegetarian_friendly', 'healthy', 'vegan_options', 'vegetarian_friendly', 'gluten_free_options']\n",
    "cafe_dessert = ['cafe', 'dessert', 'bakeries']\n",
    "cost_food = ['cheap_eats', 'mid_range']\n",
    "\n",
    "european = ['european', 'italian', 'italian', 'british', 'french', 'turkish', 'irish', 'balti', 'belgian', 'dutch', 'greek ',\n",
    "           'portuguese']\n",
    "central_american = ['central_american', 'caribbean']\n",
    "south_american = ['south_american', 'mexican', 'argentinian', 'peruvian', 'venezuelan', 'brazilian', 'cuban', 'ecuadorean', \n",
    "                 'chilean']\n",
    "north_american = ['america', 'hawaiian']\n",
    "african = ['african', 'moroccan']\n",
    "asia = ['asian', 'japanese', 'chinese', 'indian', 'thai', 'lebanese', 'russian', 'vietnamese']"
   ]
  },
  {
   "cell_type": "code",
   "execution_count": 155,
   "metadata": {},
   "outputs": [
    {
     "data": {
      "text/plain": [
       "(6, 2, 2, 7, 5, 3, 2)"
      ]
     },
     "execution_count": 155,
     "metadata": {},
     "output_type": "execute_result"
    }
   ],
   "source": [
    "#   KW  FOOD  - 28 COLUMNAS NUEVAS\n",
    "len(food), len(spanish_food), len(cheap_eats), len(beer_wine), len(healthy_food), len(cafe_dessert), len(cost_food)"
   ]
  },
  {
   "cell_type": "code",
   "execution_count": 156,
   "metadata": {},
   "outputs": [
    {
     "data": {
      "text/plain": [
       "(12, 2, 9, 2, 2)"
      ]
     },
     "execution_count": 156,
     "metadata": {},
     "output_type": "execute_result"
    }
   ],
   "source": [
    "#   INTERNACIONAL FOOD\n",
    "len(european), len(central_american), len(south_american), len(north_american), len(african)"
   ]
  },
  {
   "cell_type": "markdown",
   "metadata": {},
   "source": [
    "## CREATE Dataframe [ 0 ,1 ]"
   ]
  },
  {
   "cell_type": "code",
   "execution_count": 205,
   "metadata": {},
   "outputs": [
    {
     "data": {
      "text/plain": [
       "502"
      ]
     },
     "execution_count": 205,
     "metadata": {},
     "output_type": "execute_result"
    }
   ],
   "source": [
    "df_top_tags.top_tags.str.contains('Street Food').sum()"
   ]
  },
  {
   "cell_type": "code",
   "execution_count": 177,
   "metadata": {
    "scrolled": false
   },
   "outputs": [
    {
     "data": {
      "text/html": [
       "<div>\n",
       "<style scoped>\n",
       "    .dataframe tbody tr th:only-of-type {\n",
       "        vertical-align: middle;\n",
       "    }\n",
       "\n",
       "    .dataframe tbody tr th {\n",
       "        vertical-align: top;\n",
       "    }\n",
       "\n",
       "    .dataframe thead th {\n",
       "        text-align: right;\n",
       "    }\n",
       "</style>\n",
       "<table border=\"1\" class=\"dataframe\">\n",
       "  <thead>\n",
       "    <tr style=\"text-align: right;\">\n",
       "      <th>keyword</th>\n",
       "      <th>Mid-range</th>\n",
       "      <th>Spanish</th>\n",
       "      <th>Mediterranean</th>\n",
       "      <th>Cheap Eats</th>\n",
       "      <th>European</th>\n",
       "      <th>Bar</th>\n",
       "      <th>Info no disponible</th>\n",
       "      <th>Vegetarian Friendly</th>\n",
       "      <th>Cafe</th>\n",
       "      <th>Italian</th>\n",
       "      <th>Pizza</th>\n",
       "      <th>Pub</th>\n",
       "      <th>International</th>\n",
       "      <th>Seafood</th>\n",
       "      <th>Fast food</th>\n",
       "      <th>American</th>\n",
       "      <th>Steakhouse</th>\n",
       "      <th>Asian</th>\n",
       "      <th>Fine Dining</th>\n",
       "      <th>Barbecue</th>\n",
       "      <th>Dessert</th>\n",
       "      <th>Japanese</th>\n",
       "      <th>Chinese</th>\n",
       "      <th>Healthy</th>\n",
       "      <th>Vegan Options</th>\n",
       "      <th>Sushi</th>\n",
       "      <th>Fusion</th>\n",
       "      <th>Mexican</th>\n",
       "      <th>Gluten Free Options</th>\n",
       "      <th>Grill</th>\n",
       "      <th>Contemporary</th>\n",
       "      <th>British</th>\n",
       "      <th>Latin</th>\n",
       "      <th>Indian</th>\n",
       "      <th>Basque</th>\n",
       "      <th>Bakeries</th>\n",
       "      <th>South American</th>\n",
       "      <th>French</th>\n",
       "      <th>Diner</th>\n",
       "      <th>Argentinian</th>\n",
       "      <th>Catalan</th>\n",
       "      <th>Deli</th>\n",
       "      <th>Brew Pub</th>\n",
       "      <th>Wine Bar</th>\n",
       "      <th>Quick Bites</th>\n",
       "      <th>Turkish</th>\n",
       "      <th>German</th>\n",
       "      <th>Gastropub</th>\n",
       "      <th>Thai</th>\n",
       "      <th>Middle Eastern</th>\n",
       "      <th>Street Food</th>\n",
       "      <th>Peruvian</th>\n",
       "      <th>Dining bars</th>\n",
       "      <th>Moroccan</th>\n",
       "      <th>Venezuelan</th>\n",
       "      <th>Caribbean</th>\n",
       "      <th>Brazilian</th>\n",
       "      <th>Irish</th>\n",
       "      <th>Balti</th>\n",
       "      <th>Belgian</th>\n",
       "      <th>Lebanese</th>\n",
       "      <th>Dutch</th>\n",
       "      <th>Greek</th>\n",
       "      <th>Central American</th>\n",
       "      <th>African</th>\n",
       "      <th>Cantonese</th>\n",
       "      <th>Central European</th>\n",
       "      <th>Hawaiian</th>\n",
       "      <th>Portuguese</th>\n",
       "      <th>Colombian</th>\n",
       "      <th>Soups</th>\n",
       "      <th>Arabic</th>\n",
       "      <th>Beer restaurants</th>\n",
       "      <th>Korean</th>\n",
       "      <th>Cuban</th>\n",
       "      <th>Eastern European</th>\n",
       "      <th>Japanese Fusion</th>\n",
       "      <th>Neapolitan</th>\n",
       "      <th>Pakistani</th>\n",
       "      <th>Vietnamese</th>\n",
       "      <th>Speciality Food Market</th>\n",
       "      <th>Scandinavian</th>\n",
       "      <th>Russian</th>\n",
       "      <th>Hong Kong</th>\n",
       "      <th>Swiss</th>\n",
       "      <th>Nepalese</th>\n",
       "      <th>Philippine</th>\n",
       "      <th>Central Asian</th>\n",
       "      <th>Southern-Italian</th>\n",
       "      <th>Cajun &amp; Creole</th>\n",
       "      <th>Austrian</th>\n",
       "      <th>Central-Italian</th>\n",
       "      <th>Afghani</th>\n",
       "      <th>Swedish</th>\n",
       "      <th>Shanghai</th>\n",
       "      <th>Szechuan</th>\n",
       "      <th>Romanian</th>\n",
       "      <th>Polish</th>\n",
       "      <th>Ecuadorean</th>\n",
       "      <th>Chilean</th>\n",
       "      <th>Northern-Italian</th>\n",
       "      <th>Indonesian</th>\n",
       "      <th>Albanian</th>\n",
       "      <th>Sicilian</th>\n",
       "      <th>Danish</th>\n",
       "      <th>Romana</th>\n",
       "      <th>Halal</th>\n",
       "      <th>Persian</th>\n",
       "      <th>Campania</th>\n",
       "      <th>Southwestern</th>\n",
       "      <th>Armenian</th>\n",
       "      <th>Fruit parlours</th>\n",
       "      <th>Tuscan</th>\n",
       "      <th>Medicinal foods</th>\n",
       "      <th>Australian</th>\n",
       "      <th>Slovenian</th>\n",
       "      <th>Bangladeshi</th>\n",
       "      <th>Dine With a Local Chef</th>\n",
       "      <th>Taiwanese</th>\n",
       "      <th>Hunan</th>\n",
       "      <th>Georgian</th>\n",
       "      <th>Delivery Only</th>\n",
       "      <th>Israeli</th>\n",
       "      <th>Lazio</th>\n",
       "      <th>Jamaican</th>\n",
       "      <th>Japanese sweets parlour</th>\n",
       "      <th>Egyptian</th>\n",
       "      <th>Native American</th>\n",
       "      <th>Beijing cuisine</th>\n",
       "      <th>Norwegian</th>\n",
       "      <th>Scottish</th>\n",
       "      <th>Ethiopian</th>\n",
       "      <th>Caucasian</th>\n",
       "      <th>Canadian</th>\n",
       "      <th>Czech</th>\n",
       "      <th>Bahamian</th>\n",
       "      <th>Salvadoran</th>\n",
       "      <th>Imperial Chinese</th>\n",
       "      <th>Sardinian</th>\n",
       "      <th>Hungarian</th>\n",
       "      <th>Malaysian</th>\n",
       "      <th>Welsh</th>\n",
       "      <th>Apulian</th>\n",
       "      <th>Guatemalan</th>\n",
       "      <th>Tibetan</th>\n",
       "      <th>Puerto Rican</th>\n",
       "      <th>Mongolian</th>\n",
       "      <th>Polynesian</th>\n",
       "      <th>NorthWestern Chinese</th>\n",
       "      <th>Calabrian</th>\n",
       "      <th>Singaporean</th>\n",
       "      <th>Cambodian</th>\n",
       "      <th>Kyoto cuisine</th>\n",
       "      <th>Azerbaijani</th>\n",
       "      <th>Sri Lankan</th>\n",
       "      <th>Algerian</th>\n",
       "      <th>Kosher</th>\n",
       "      <th>Emilian</th>\n",
       "      <th>Ukrainian</th>\n",
       "      <th>Fujian</th>\n",
       "      <th>Hokkaido cuisine</th>\n",
       "      <th>Zhejiang</th>\n",
       "      <th>NorthEastern Chinese</th>\n",
       "      <th>Nigerian</th>\n",
       "      <th>Yunnan</th>\n",
       "      <th>New Zealand</th>\n",
       "      <th>Croatian</th>\n",
       "      <th>Assyrian</th>\n",
       "      <th>Hangzhou</th>\n",
       "      <th>Tunisian</th>\n",
       "      <th>Romagna</th>\n",
       "      <th>Latvian</th>\n",
       "      <th>Anhui</th>\n",
       "      <th>Ligurian</th>\n",
       "      <th>Beijing Specialties</th>\n",
       "      <th>Xinjiang</th>\n",
       "    </tr>\n",
       "  </thead>\n",
       "  <tbody>\n",
       "    <tr>\n",
       "      <th>total_kw</th>\n",
       "      <td>79424</td>\n",
       "      <td>76857</td>\n",
       "      <td>53632</td>\n",
       "      <td>33494</td>\n",
       "      <td>20693</td>\n",
       "      <td>17524</td>\n",
       "      <td>15633</td>\n",
       "      <td>14291</td>\n",
       "      <td>13308</td>\n",
       "      <td>10678</td>\n",
       "      <td>8736</td>\n",
       "      <td>6635</td>\n",
       "      <td>6536</td>\n",
       "      <td>6385</td>\n",
       "      <td>5829</td>\n",
       "      <td>5476</td>\n",
       "      <td>5459</td>\n",
       "      <td>4506</td>\n",
       "      <td>3913</td>\n",
       "      <td>3813</td>\n",
       "      <td>3287</td>\n",
       "      <td>3086</td>\n",
       "      <td>2708</td>\n",
       "      <td>2476</td>\n",
       "      <td>2470</td>\n",
       "      <td>2437</td>\n",
       "      <td>1993</td>\n",
       "      <td>1902</td>\n",
       "      <td>1863</td>\n",
       "      <td>1604</td>\n",
       "      <td>1452</td>\n",
       "      <td>1414</td>\n",
       "      <td>1365</td>\n",
       "      <td>1354</td>\n",
       "      <td>1351</td>\n",
       "      <td>1334</td>\n",
       "      <td>1305</td>\n",
       "      <td>1249</td>\n",
       "      <td>1114</td>\n",
       "      <td>872</td>\n",
       "      <td>860</td>\n",
       "      <td>853</td>\n",
       "      <td>814</td>\n",
       "      <td>761</td>\n",
       "      <td>699</td>\n",
       "      <td>630</td>\n",
       "      <td>577</td>\n",
       "      <td>548</td>\n",
       "      <td>544</td>\n",
       "      <td>543</td>\n",
       "      <td>521</td>\n",
       "      <td>520</td>\n",
       "      <td>503</td>\n",
       "      <td>494</td>\n",
       "      <td>382</td>\n",
       "      <td>331</td>\n",
       "      <td>276</td>\n",
       "      <td>276</td>\n",
       "      <td>266</td>\n",
       "      <td>252</td>\n",
       "      <td>249</td>\n",
       "      <td>185</td>\n",
       "      <td>181</td>\n",
       "      <td>171</td>\n",
       "      <td>168</td>\n",
       "      <td>163</td>\n",
       "      <td>160</td>\n",
       "      <td>154</td>\n",
       "      <td>140</td>\n",
       "      <td>123</td>\n",
       "      <td>122</td>\n",
       "      <td>121</td>\n",
       "      <td>115</td>\n",
       "      <td>111</td>\n",
       "      <td>103</td>\n",
       "      <td>93</td>\n",
       "      <td>87</td>\n",
       "      <td>83</td>\n",
       "      <td>83</td>\n",
       "      <td>81</td>\n",
       "      <td>75</td>\n",
       "      <td>72</td>\n",
       "      <td>67</td>\n",
       "      <td>58</td>\n",
       "      <td>57</td>\n",
       "      <td>56</td>\n",
       "      <td>50</td>\n",
       "      <td>50</td>\n",
       "      <td>47</td>\n",
       "      <td>43</td>\n",
       "      <td>42</td>\n",
       "      <td>40</td>\n",
       "      <td>39</td>\n",
       "      <td>38</td>\n",
       "      <td>38</td>\n",
       "      <td>38</td>\n",
       "      <td>37</td>\n",
       "      <td>32</td>\n",
       "      <td>32</td>\n",
       "      <td>30</td>\n",
       "      <td>29</td>\n",
       "      <td>27</td>\n",
       "      <td>26</td>\n",
       "      <td>26</td>\n",
       "      <td>26</td>\n",
       "      <td>25</td>\n",
       "      <td>25</td>\n",
       "      <td>23</td>\n",
       "      <td>22</td>\n",
       "      <td>21</td>\n",
       "      <td>21</td>\n",
       "      <td>18</td>\n",
       "      <td>18</td>\n",
       "      <td>17</td>\n",
       "      <td>17</td>\n",
       "      <td>17</td>\n",
       "      <td>16</td>\n",
       "      <td>15</td>\n",
       "      <td>14</td>\n",
       "      <td>14</td>\n",
       "      <td>13</td>\n",
       "      <td>13</td>\n",
       "      <td>12</td>\n",
       "      <td>11</td>\n",
       "      <td>11</td>\n",
       "      <td>10</td>\n",
       "      <td>10</td>\n",
       "      <td>9</td>\n",
       "      <td>9</td>\n",
       "      <td>9</td>\n",
       "      <td>8</td>\n",
       "      <td>8</td>\n",
       "      <td>8</td>\n",
       "      <td>7</td>\n",
       "      <td>7</td>\n",
       "      <td>7</td>\n",
       "      <td>6</td>\n",
       "      <td>6</td>\n",
       "      <td>6</td>\n",
       "      <td>6</td>\n",
       "      <td>5</td>\n",
       "      <td>5</td>\n",
       "      <td>5</td>\n",
       "      <td>5</td>\n",
       "      <td>4</td>\n",
       "      <td>4</td>\n",
       "      <td>4</td>\n",
       "      <td>4</td>\n",
       "      <td>4</td>\n",
       "      <td>3</td>\n",
       "      <td>3</td>\n",
       "      <td>3</td>\n",
       "      <td>3</td>\n",
       "      <td>3</td>\n",
       "      <td>3</td>\n",
       "      <td>3</td>\n",
       "      <td>3</td>\n",
       "      <td>3</td>\n",
       "      <td>2</td>\n",
       "      <td>2</td>\n",
       "      <td>2</td>\n",
       "      <td>2</td>\n",
       "      <td>2</td>\n",
       "      <td>2</td>\n",
       "      <td>2</td>\n",
       "      <td>2</td>\n",
       "      <td>2</td>\n",
       "      <td>1</td>\n",
       "      <td>1</td>\n",
       "      <td>1</td>\n",
       "      <td>1</td>\n",
       "      <td>1</td>\n",
       "      <td>1</td>\n",
       "      <td>1</td>\n",
       "      <td>1</td>\n",
       "      <td>1</td>\n",
       "    </tr>\n",
       "  </tbody>\n",
       "</table>\n",
       "</div>"
      ],
      "text/plain": [
       "keyword   Mid-range  Spanish  Mediterranean  Cheap Eats  European    Bar  \\\n",
       "total_kw      79424    76857          53632       33494     20693  17524   \n",
       "\n",
       "keyword   Info no disponible  Vegetarian Friendly   Cafe  Italian  Pizza  \\\n",
       "total_kw               15633                14291  13308    10678   8736   \n",
       "\n",
       "keyword    Pub  International  Seafood  Fast food  American  Steakhouse  \\\n",
       "total_kw  6635           6536     6385       5829      5476        5459   \n",
       "\n",
       "keyword   Asian  Fine Dining  Barbecue  Dessert  Japanese  Chinese  Healthy  \\\n",
       "total_kw   4506         3913      3813     3287      3086     2708     2476   \n",
       "\n",
       "keyword   Vegan Options  Sushi  Fusion  Mexican  Gluten Free Options  Grill  \\\n",
       "total_kw           2470   2437    1993     1902                 1863   1604   \n",
       "\n",
       "keyword   Contemporary  British  Latin  Indian  Basque  Bakeries  \\\n",
       "total_kw          1452     1414   1365    1354    1351      1334   \n",
       "\n",
       "keyword   South American  French  Diner  Argentinian  Catalan  Deli  Brew Pub  \\\n",
       "total_kw            1305    1249   1114          872      860   853       814   \n",
       "\n",
       "keyword   Wine Bar  Quick Bites  Turkish  German  Gastropub  Thai  \\\n",
       "total_kw       761          699      630     577        548   544   \n",
       "\n",
       "keyword   Middle Eastern  Street Food  Peruvian  Dining bars  Moroccan  \\\n",
       "total_kw             543          521       520          503       494   \n",
       "\n",
       "keyword   Venezuelan  Caribbean  Brazilian  Irish  Balti  Belgian  Lebanese  \\\n",
       "total_kw         382        331        276    276    266      252       249   \n",
       "\n",
       "keyword   Dutch  Greek  Central American  African  Cantonese  \\\n",
       "total_kw    185    181               171      168        163   \n",
       "\n",
       "keyword   Central European  Hawaiian  Portuguese  Colombian  Soups  Arabic  \\\n",
       "total_kw               160       154         140        123    122     121   \n",
       "\n",
       "keyword   Beer restaurants  Korean  Cuban  Eastern European  Japanese Fusion  \\\n",
       "total_kw               115     111    103                93               87   \n",
       "\n",
       "keyword   Neapolitan  Pakistani  Vietnamese  Speciality Food Market  \\\n",
       "total_kw          83         83          81                      75   \n",
       "\n",
       "keyword   Scandinavian  Russian  Hong Kong  Swiss  Nepalese  Philippine  \\\n",
       "total_kw            72       67         58     57        56          50   \n",
       "\n",
       "keyword   Central Asian  Southern-Italian  Cajun & Creole  Austrian  \\\n",
       "total_kw             50                47              43        42   \n",
       "\n",
       "keyword   Central-Italian  Afghani  Swedish  Shanghai  Szechuan  Romanian  \\\n",
       "total_kw               40       39       38        38        38        37   \n",
       "\n",
       "keyword   Polish  Ecuadorean  Chilean  Northern-Italian  Indonesian  Albanian  \\\n",
       "total_kw      32          32       30                29          27        26   \n",
       "\n",
       "keyword   Sicilian  Danish  Romana  Halal  Persian  Campania  Southwestern  \\\n",
       "total_kw        26      26      25     25       23        22            21   \n",
       "\n",
       "keyword   Armenian  Fruit parlours  Tuscan  Medicinal foods  Australian  \\\n",
       "total_kw        21              18      18               17          17   \n",
       "\n",
       "keyword   Slovenian  Bangladeshi  Dine With a Local Chef  Taiwanese  Hunan  \\\n",
       "total_kw         17           16                      15         14     14   \n",
       "\n",
       "keyword   Georgian  Delivery Only  Israeli  Lazio  Jamaican  \\\n",
       "total_kw        13             13       12     11        11   \n",
       "\n",
       "keyword   Japanese sweets parlour  Egyptian  Native American  Beijing cuisine  \\\n",
       "total_kw                       10        10                9                9   \n",
       "\n",
       "keyword   Norwegian  Scottish  Ethiopian  Caucasian  Canadian  Czech  \\\n",
       "total_kw          9         8          8          8         7      7   \n",
       "\n",
       "keyword   Bahamian  Salvadoran  Imperial Chinese  Sardinian  Hungarian  \\\n",
       "total_kw         7           6                 6          6          6   \n",
       "\n",
       "keyword   Malaysian  Welsh  Apulian  Guatemalan  Tibetan  Puerto Rican  \\\n",
       "total_kw          5      5        5           5        4             4   \n",
       "\n",
       "keyword   Mongolian  Polynesian  NorthWestern Chinese  Calabrian  Singaporean  \\\n",
       "total_kw          4           4                     4          3            3   \n",
       "\n",
       "keyword   Cambodian  Kyoto cuisine  Azerbaijani  Sri Lankan  Algerian  Kosher  \\\n",
       "total_kw          3              3            3           3         3       3   \n",
       "\n",
       "keyword   Emilian  Ukrainian  Fujian  Hokkaido cuisine  Zhejiang  \\\n",
       "total_kw        3          2       2                 2         2   \n",
       "\n",
       "keyword   NorthEastern Chinese  Nigerian  Yunnan  New Zealand  Croatian  \\\n",
       "total_kw                     2         2       2            2         2   \n",
       "\n",
       "keyword   Assyrian  Hangzhou  Tunisian  Romagna  Latvian  Anhui  Ligurian  \\\n",
       "total_kw         1         1         1        1        1      1         1   \n",
       "\n",
       "keyword   Beijing Specialties  Xinjiang  \n",
       "total_kw                    1         1  "
      ]
     },
     "execution_count": 177,
     "metadata": {},
     "output_type": "execute_result"
    }
   ],
   "source": [
    "df_kw_top_tags.head(4)  #CONTADOR de KW"
   ]
  },
  {
   "cell_type": "markdown",
   "metadata": {},
   "source": [
    "###  Keywords TYPES OF FOOD - [ 0, 1 ]"
   ]
  },
  {
   "cell_type": "code",
   "execution_count": 213,
   "metadata": {},
   "outputs": [],
   "source": [
    "df_top_tags['vegetarian_friendly']= [1 if x is True else 0  for x in df_top_tags.top_tags.str.contains('Vegetarian Friendly', regex=False)]\n",
    "df_top_tags['vegan_options']= [1 if x is True else 0  for x in df_top_tags.top_tags.str.contains('Vegan Options', regex=False)]\n",
    "df_top_tags['gluten_free_options']= [1 if x is True else 0  for x in df_top_tags.top_tags.str.contains('Gluten Free Options', regex=False)]\n",
    "\n",
    "\n",
    "df_top_tags['pizza']= [1 if x is True else 0  for x in df_top_tags.top_tags.str.contains('Pizza', regex=False)]\n",
    "df_top_tags['seafood']= [1 if x is True else 0  for x in df_top_tags.top_tags.str.contains('Seafood', regex=False)]\n",
    "df_top_tags['steakhouse']= [1 if x is True else 0  for x in df_top_tags.top_tags.str.contains('Steakhouse', regex=False)]\n",
    "df_top_tags['sushi']= [1 if x is True else 0  for x in df_top_tags.top_tags.str.contains('Sushi', regex=False)]\n",
    "df_top_tags['grill']= [1 if x is True else 0  for x in df_top_tags.top_tags.str.contains('Grill', regex=False)]\n",
    "df_top_tags['soups']= [1 if x is True else 0  for x in df_top_tags.top_tags.str.contains('Soups', regex=False)]\n",
    "\n",
    "df_top_tags['quick_bites']= [1 if x is True else 0  for x in df_top_tags.top_tags.str.contains('Quick Bites', regex=False)]\n",
    "df_top_tags['street_food']= [1 if x is True else 0  for x in df_top_tags.top_tags.str.contains('Street Food', regex=False)]\n",
    "\n",
    "df_top_tags['brew pub']= [1 if x is True else 0  for x in df_top_tags.top_tags.str.contains('Brew Pub', regex=False)]\n",
    "df_top_tags['bar']= [1 if x is True else 0  for x in df_top_tags.top_tags.str.contains('Bar', regex=False)]\n",
    "df_top_tags['pub']= [1 if x is True else 0  for x in df_top_tags.top_tags.str.contains('Pub', regex=False)]\n",
    "df_top_tags['wine_bar']= [1 if x is True else 0  for x in df_top_tags.top_tags.str.contains('Wine Bar', regex=False)]\n",
    "df_top_tags['gastropub']= [1 if x is True else 0  for x in df_top_tags.top_tags.str.contains('Gastropub', regex=False)]\n",
    "df_top_tags['beer_restaurants']= [1 if x is True else 0  for x in df_top_tags.top_tags.str.contains('Beer restaurants', regex=False)]\n",
    "\n",
    "df_top_tags['spanish']= [1 if x is True else 0  for x in df_top_tags.top_tags.str.contains('Spanish', regex=False)]\n",
    "df_top_tags['mediterranean']= [1 if x is True else 0  for x in df_top_tags.top_tags.str.contains('Mediterranean', regex=False)]\n",
    "\n",
    "df_top_tags['cafe']= [1 if x is True else 0  for x in df_top_tags.top_tags.str.contains('Cafe', regex=False)]\n",
    "df_top_tags['dessert']= [1 if x is True else 0  for x in df_top_tags.top_tags.str.contains('Dessert', regex=False)]\n",
    "df_top_tags['bakeries']= [1 if x is True else 0  for x in df_top_tags.top_tags.str.contains('Bakeries', regex=False)]\n",
    "\n",
    "df_top_tags['mid_range']= [1 if x is True else 0  for x in df_top_tags.top_tags.str.contains('Mid-range', regex=False)]\n",
    "df_top_tags['cheap_eats']= [1 if x is True else 0  for x in df_top_tags.top_tags.str.contains('Cheap Eats', regex=False)]"
   ]
  },
  {
   "cell_type": "code",
   "execution_count": null,
   "metadata": {
    "scrolled": true
   },
   "outputs": [],
   "source": [
    "df_top_tags.head(3)"
   ]
  },
  {
   "cell_type": "code",
   "execution_count": 219,
   "metadata": {},
   "outputs": [],
   "source": [
    "# RENAME DF   df_TYPES_OF_FOOD\n",
    "df_types_of_food = df_top_tags.copy()"
   ]
  },
  {
   "cell_type": "code",
   "execution_count": 220,
   "metadata": {},
   "outputs": [
    {
     "data": {
      "text/plain": [
       "(135719, 35)"
      ]
     },
     "execution_count": 220,
     "metadata": {},
     "output_type": "execute_result"
    }
   ],
   "source": [
    "df_types_of_food.shape"
   ]
  },
  {
   "cell_type": "code",
   "execution_count": 221,
   "metadata": {},
   "outputs": [],
   "source": [
    "# 🔐🔐🔐\n",
    "df_types_of_food.to_csv('df_types_of_food.csv', header=True, index=False)"
   ]
  },
  {
   "cell_type": "code",
   "execution_count": 223,
   "metadata": {},
   "outputs": [
    {
     "data": {
      "text/plain": [
       "1756"
      ]
     },
     "execution_count": 223,
     "metadata": {},
     "output_type": "execute_result"
    }
   ],
   "source": [
    "df_types_of_food.gluten_free_options.sum()"
   ]
  },
  {
   "cell_type": "markdown",
   "metadata": {},
   "source": [
    "### Keywords INTERNATIONAL FOOD "
   ]
  },
  {
   "cell_type": "code",
   "execution_count": 188,
   "metadata": {},
   "outputs": [
    {
     "data": {
      "text/html": [
       "<div>\n",
       "<style scoped>\n",
       "    .dataframe tbody tr th:only-of-type {\n",
       "        vertical-align: middle;\n",
       "    }\n",
       "\n",
       "    .dataframe tbody tr th {\n",
       "        vertical-align: top;\n",
       "    }\n",
       "\n",
       "    .dataframe thead th {\n",
       "        text-align: right;\n",
       "    }\n",
       "</style>\n",
       "<table border=\"1\" class=\"dataframe\">\n",
       "  <thead>\n",
       "    <tr style=\"text-align: right;\">\n",
       "      <th></th>\n",
       "      <th>restaurant_link</th>\n",
       "      <th>restaurant_name</th>\n",
       "      <th>region_</th>\n",
       "      <th>province_</th>\n",
       "      <th>city_village</th>\n",
       "      <th>latitude</th>\n",
       "      <th>longitude</th>\n",
       "      <th>lat_long</th>\n",
       "      <th>address</th>\n",
       "      <th>top_tags</th>\n",
       "      <th>avg_rating</th>\n",
       "    </tr>\n",
       "  </thead>\n",
       "  <tbody>\n",
       "    <tr>\n",
       "      <th>0</th>\n",
       "      <td>g10021880-d13763192</td>\n",
       "      <td>Taberna La Sacristia</td>\n",
       "      <td>Andalucía</td>\n",
       "      <td>Sevilla</td>\n",
       "      <td>Aznalcóllar</td>\n",
       "      <td>37.51928</td>\n",
       "      <td>-6.26885</td>\n",
       "      <td>('37.51928', '-6.26885')</td>\n",
       "      <td>Calle del Concejo 19, 41870 Aznalcollar Spain</td>\n",
       "      <td>Spanish</td>\n",
       "      <td>3.0</td>\n",
       "    </tr>\n",
       "    <tr>\n",
       "      <th>1</th>\n",
       "      <td>g10021880-d15758746</td>\n",
       "      <td>Tasca el Capricho</td>\n",
       "      <td>Andalucía</td>\n",
       "      <td>Sevilla</td>\n",
       "      <td>Aznalcóllar</td>\n",
       "      <td>37.52065</td>\n",
       "      <td>-6.26822</td>\n",
       "      <td>('37.52065', '-6.26822')</td>\n",
       "      <td>Calle del 28 de Febrero 9, 41870 Aznalcollar S...</td>\n",
       "      <td>Spanish</td>\n",
       "      <td>5.0</td>\n",
       "    </tr>\n",
       "    <tr>\n",
       "      <th>2</th>\n",
       "      <td>g10021880-d19332558</td>\n",
       "      <td>Bar Las Adelfas</td>\n",
       "      <td>Andalucía</td>\n",
       "      <td>Sevilla</td>\n",
       "      <td>Aznalcóllar</td>\n",
       "      <td>37.52428</td>\n",
       "      <td>-6.27144</td>\n",
       "      <td>('37.52428', '-6.27144')</td>\n",
       "      <td>Calle Perdon N° 23 Capilla de La Cruz, 41870 A...</td>\n",
       "      <td>Mediterranean, Spanish, Grill, Diner</td>\n",
       "      <td>3.0</td>\n",
       "    </tr>\n",
       "  </tbody>\n",
       "</table>\n",
       "</div>"
      ],
      "text/plain": [
       "       restaurant_link       restaurant_name    region_ province_  \\\n",
       "0  g10021880-d13763192  Taberna La Sacristia  Andalucía   Sevilla   \n",
       "1  g10021880-d15758746     Tasca el Capricho  Andalucía   Sevilla   \n",
       "2  g10021880-d19332558       Bar Las Adelfas  Andalucía   Sevilla   \n",
       "\n",
       "  city_village  latitude  longitude                  lat_long  \\\n",
       "0  Aznalcóllar  37.51928   -6.26885  ('37.51928', '-6.26885')   \n",
       "1  Aznalcóllar  37.52065   -6.26822  ('37.52065', '-6.26822')   \n",
       "2  Aznalcóllar  37.52428   -6.27144  ('37.52428', '-6.27144')   \n",
       "\n",
       "                                             address  \\\n",
       "0      Calle del Concejo 19, 41870 Aznalcollar Spain   \n",
       "1  Calle del 28 de Febrero 9, 41870 Aznalcollar S...   \n",
       "2  Calle Perdon N° 23 Capilla de La Cruz, 41870 A...   \n",
       "\n",
       "                               top_tags avg_rating  \n",
       "0                               Spanish        3.0  \n",
       "1                               Spanish        5.0  \n",
       "2  Mediterranean, Spanish, Grill, Diner        3.0  "
      ]
     },
     "execution_count": 188,
     "metadata": {},
     "output_type": "execute_result"
    }
   ],
   "source": [
    "df_international_food = df[['restaurant_link', 'restaurant_name', 'region_', 'province_', 'city_village', 'latitude', 'longitude', \n",
    "                            'lat_long', 'address', 'top_tags', 'avg_rating']].copy()\n",
    "df_international_food.head(3)"
   ]
  },
  {
   "cell_type": "code",
   "execution_count": 189,
   "metadata": {},
   "outputs": [
    {
     "data": {
      "text/plain": [
       "(135719, 11)"
      ]
     },
     "execution_count": 189,
     "metadata": {},
     "output_type": "execute_result"
    }
   ],
   "source": [
    "df_international_food.shape"
   ]
  },
  {
   "cell_type": "code",
   "execution_count": 190,
   "metadata": {},
   "outputs": [],
   "source": [
    "df_international_food['european']= [1 if x is True else 0  for x in df_international_food.top_tags.str.contains('European', regex=False)]\n",
    "df_international_food['central_american']= [1 if x is True else 0  for x in df_international_food.top_tags.str.contains('Central American', regex=False)]\n",
    "df_international_food['south_american']= [1 if x is True else 0  for x in df_international_food.top_tags.str.contains('South American', regex=False)]\n",
    "df_international_food['america']= [1 if x is True else 0  for x in df_international_food.top_tags.str.contains('America', regex=False)]\n",
    "df_international_food['african']= [1 if x is True else 0  for x in df_international_food.top_tags.str.contains('African', regex=False)]\n",
    "df_international_food['asian']= [1 if x is True else 0  for x in df_international_food.top_tags.str.contains('Asian', regex=False)]"
   ]
  },
  {
   "cell_type": "code",
   "execution_count": 191,
   "metadata": {},
   "outputs": [
    {
     "data": {
      "text/html": [
       "<div>\n",
       "<style scoped>\n",
       "    .dataframe tbody tr th:only-of-type {\n",
       "        vertical-align: middle;\n",
       "    }\n",
       "\n",
       "    .dataframe tbody tr th {\n",
       "        vertical-align: top;\n",
       "    }\n",
       "\n",
       "    .dataframe thead th {\n",
       "        text-align: right;\n",
       "    }\n",
       "</style>\n",
       "<table border=\"1\" class=\"dataframe\">\n",
       "  <thead>\n",
       "    <tr style=\"text-align: right;\">\n",
       "      <th></th>\n",
       "      <th>restaurant_link</th>\n",
       "      <th>restaurant_name</th>\n",
       "      <th>region_</th>\n",
       "      <th>province_</th>\n",
       "      <th>city_village</th>\n",
       "      <th>latitude</th>\n",
       "      <th>longitude</th>\n",
       "      <th>lat_long</th>\n",
       "      <th>address</th>\n",
       "      <th>top_tags</th>\n",
       "      <th>avg_rating</th>\n",
       "      <th>european</th>\n",
       "      <th>central_american</th>\n",
       "      <th>south_american</th>\n",
       "      <th>america</th>\n",
       "      <th>african</th>\n",
       "      <th>asian</th>\n",
       "    </tr>\n",
       "  </thead>\n",
       "  <tbody>\n",
       "    <tr>\n",
       "      <th>0</th>\n",
       "      <td>g10021880-d13763192</td>\n",
       "      <td>Taberna La Sacristia</td>\n",
       "      <td>Andalucía</td>\n",
       "      <td>Sevilla</td>\n",
       "      <td>Aznalcóllar</td>\n",
       "      <td>37.51928</td>\n",
       "      <td>-6.26885</td>\n",
       "      <td>('37.51928', '-6.26885')</td>\n",
       "      <td>Calle del Concejo 19, 41870 Aznalcollar Spain</td>\n",
       "      <td>Spanish</td>\n",
       "      <td>3.0</td>\n",
       "      <td>0</td>\n",
       "      <td>0</td>\n",
       "      <td>0</td>\n",
       "      <td>0</td>\n",
       "      <td>0</td>\n",
       "      <td>0</td>\n",
       "    </tr>\n",
       "    <tr>\n",
       "      <th>1</th>\n",
       "      <td>g10021880-d15758746</td>\n",
       "      <td>Tasca el Capricho</td>\n",
       "      <td>Andalucía</td>\n",
       "      <td>Sevilla</td>\n",
       "      <td>Aznalcóllar</td>\n",
       "      <td>37.52065</td>\n",
       "      <td>-6.26822</td>\n",
       "      <td>('37.52065', '-6.26822')</td>\n",
       "      <td>Calle del 28 de Febrero 9, 41870 Aznalcollar S...</td>\n",
       "      <td>Spanish</td>\n",
       "      <td>5.0</td>\n",
       "      <td>0</td>\n",
       "      <td>0</td>\n",
       "      <td>0</td>\n",
       "      <td>0</td>\n",
       "      <td>0</td>\n",
       "      <td>0</td>\n",
       "    </tr>\n",
       "    <tr>\n",
       "      <th>2</th>\n",
       "      <td>g10021880-d19332558</td>\n",
       "      <td>Bar Las Adelfas</td>\n",
       "      <td>Andalucía</td>\n",
       "      <td>Sevilla</td>\n",
       "      <td>Aznalcóllar</td>\n",
       "      <td>37.52428</td>\n",
       "      <td>-6.27144</td>\n",
       "      <td>('37.52428', '-6.27144')</td>\n",
       "      <td>Calle Perdon N° 23 Capilla de La Cruz, 41870 A...</td>\n",
       "      <td>Mediterranean, Spanish, Grill, Diner</td>\n",
       "      <td>3.0</td>\n",
       "      <td>0</td>\n",
       "      <td>0</td>\n",
       "      <td>0</td>\n",
       "      <td>0</td>\n",
       "      <td>0</td>\n",
       "      <td>0</td>\n",
       "    </tr>\n",
       "  </tbody>\n",
       "</table>\n",
       "</div>"
      ],
      "text/plain": [
       "       restaurant_link       restaurant_name    region_ province_  \\\n",
       "0  g10021880-d13763192  Taberna La Sacristia  Andalucía   Sevilla   \n",
       "1  g10021880-d15758746     Tasca el Capricho  Andalucía   Sevilla   \n",
       "2  g10021880-d19332558       Bar Las Adelfas  Andalucía   Sevilla   \n",
       "\n",
       "  city_village  latitude  longitude                  lat_long  \\\n",
       "0  Aznalcóllar  37.51928   -6.26885  ('37.51928', '-6.26885')   \n",
       "1  Aznalcóllar  37.52065   -6.26822  ('37.52065', '-6.26822')   \n",
       "2  Aznalcóllar  37.52428   -6.27144  ('37.52428', '-6.27144')   \n",
       "\n",
       "                                             address  \\\n",
       "0      Calle del Concejo 19, 41870 Aznalcollar Spain   \n",
       "1  Calle del 28 de Febrero 9, 41870 Aznalcollar S...   \n",
       "2  Calle Perdon N° 23 Capilla de La Cruz, 41870 A...   \n",
       "\n",
       "                               top_tags avg_rating  european  \\\n",
       "0                               Spanish        3.0         0   \n",
       "1                               Spanish        5.0         0   \n",
       "2  Mediterranean, Spanish, Grill, Diner        3.0         0   \n",
       "\n",
       "   central_american  south_american  america  african  asian  \n",
       "0                 0               0        0        0      0  \n",
       "1                 0               0        0        0      0  \n",
       "2                 0               0        0        0      0  "
      ]
     },
     "execution_count": 191,
     "metadata": {},
     "output_type": "execute_result"
    }
   ],
   "source": [
    "df_international_food.head(3)"
   ]
  },
  {
   "cell_type": "code",
   "execution_count": 192,
   "metadata": {},
   "outputs": [
    {
     "data": {
      "text/plain": [
       "(135719, 17)"
      ]
     },
     "execution_count": 192,
     "metadata": {},
     "output_type": "execute_result"
    }
   ],
   "source": [
    "df_international_food.shape"
   ]
  },
  {
   "cell_type": "code",
   "execution_count": 193,
   "metadata": {},
   "outputs": [],
   "source": [
    "# 🔐🔐🔐\n",
    "df_international_food.to_csv('df_international_food.csv', header=True, index=False)"
   ]
  },
  {
   "cell_type": "markdown",
   "metadata": {},
   "source": [
    "## FAILS CODE"
   ]
  },
  {
   "cell_type": "markdown",
   "metadata": {
    "heading_collapsed": true
   },
   "source": [
    "#### TEST - SETTING COL's  ->  KEYWORDS"
   ]
  },
  {
   "cell_type": "code",
   "execution_count": null,
   "metadata": {
    "hidden": true
   },
   "outputs": [],
   "source": [
    "df = df_top_tags.sample(10).copy()\n",
    "df"
   ]
  },
  {
   "cell_type": "code",
   "execution_count": null,
   "metadata": {
    "hidden": true
   },
   "outputs": [],
   "source": [
    "cafe_dessert"
   ]
  },
  {
   "cell_type": "code",
   "execution_count": null,
   "metadata": {
    "hidden": true
   },
   "outputs": [],
   "source": [
    "df['cafe']= [1 if x is True else 0  for x in df.top_tags.str.contains('Cafe', regex=False)]\n",
    "df['dessert']= [1 if x is True else 0  for x in df.top_tags.str.contains('Dessert', regex=False)]\n",
    "df['bakeries']= [1 if x is True else 0  for x in df.top_tags.str.contains('Bakeries', regex=False)]"
   ]
  },
  {
   "cell_type": "code",
   "execution_count": null,
   "metadata": {
    "hidden": true
   },
   "outputs": [],
   "source": [
    "# SET COLUMNA \n",
    "columns_kw = pd.MultiIndex.from_product([['types_of_food'], cafe_dessert])\n",
    "                                                        # , ['pizza', 'seafood', 'steakhouse', 'seafood', 'sushi', 'grill', 'soups']"
   ]
  },
  {
   "cell_type": "code",
   "execution_count": null,
   "metadata": {
    "hidden": true,
    "scrolled": true
   },
   "outputs": [],
   "source": [
    "df_test = pd.Series(data=df['cafe', 'dessert', 'bakeries'], columns=columns_kw )"
   ]
  },
  {
   "cell_type": "code",
   "execution_count": null,
   "metadata": {
    "hidden": true
   },
   "outputs": [],
   "source": []
  },
  {
   "cell_type": "markdown",
   "metadata": {
    "hidden": true
   },
   "source": [
    "**CHECKING si a transformación es correcta**"
   ]
  },
  {
   "cell_type": "code",
   "execution_count": null,
   "metadata": {
    "hidden": true
   },
   "outputs": [],
   "source": [
    "food =  ['Pizza', 'Seafood', 'Steakhouse', 'Seafood', 'Sushi', 'Grill', 'Soups'] "
   ]
  },
  {
   "cell_type": "code",
   "execution_count": null,
   "metadata": {
    "hidden": true
   },
   "outputs": [],
   "source": [
    "def cero_uno_col(list_kw):\n",
    "    for kw in list_kw:\n",
    "        for index, row in df_top_tags.iterrows():\n",
    "            df_top_tags[kw]= [1 if x is True else 0  for x in df_top_tags.top_tags.str.contains(kw, regex=False)]\n",
    "        return df_top_tags\n",
    "           "
   ]
  },
  {
   "cell_type": "code",
   "execution_count": null,
   "metadata": {
    "hidden": true,
    "scrolled": true
   },
   "outputs": [],
   "source": [
    "df_top_tags.Pizza.value_counts()"
   ]
  },
  {
   "cell_type": "code",
   "execution_count": null,
   "metadata": {
    "hidden": true
   },
   "outputs": [],
   "source": [
    "len(df_top_tags[df_top_tags.types_of_food == 0])+len(df_top_tags[df_top_tags.types_of_food == 1])"
   ]
  },
  {
   "cell_type": "code",
   "execution_count": null,
   "metadata": {
    "hidden": true
   },
   "outputs": [],
   "source": [
    "df_top_tags.shape"
   ]
  },
  {
   "cell_type": "code",
   "execution_count": null,
   "metadata": {
    "hidden": true
   },
   "outputs": [],
   "source": [
    "df_top_tags.pizza.value_counts(dropna=False)"
   ]
  },
  {
   "cell_type": "markdown",
   "metadata": {
    "heading_collapsed": true
   },
   "source": [
    "#### FAIL New Column 'types_of_food'  (NO MIRAR)"
   ]
  },
  {
   "cell_type": "code",
   "execution_count": null,
   "metadata": {
    "hidden": true
   },
   "outputs": [],
   "source": [
    "if any(word in 'kasgfg' for word in food):\n",
    "    print(1)\n",
    "else:\n",
    "    print(0)"
   ]
  },
  {
   "cell_type": "code",
   "execution_count": null,
   "metadata": {
    "code_folding": [],
    "hidden": true
   },
   "outputs": [],
   "source": [
    "food =  ['Pizza', 'Seafood', 'Steakhouse', 'Seafood', 'Sushi', 'Grill', 'Soups'] \n",
    "def col_list(nombre_col):\n",
    "    for i,row in df_top_tags.iterrows():\n",
    "        col = []\n",
    "        if any(word in row['top_tags'] for word in f\"{nombre_col}\"):\n",
    "            col.append(1)\n",
    "        else:\n",
    "            col.append(0)\n",
    "    return col[-1]\n",
    "        "
   ]
  },
  {
   "cell_type": "code",
   "execution_count": null,
   "metadata": {
    "hidden": true
   },
   "outputs": [],
   "source": [
    "df_top_tags[\"types_of_food\"] = col_list(food)"
   ]
  },
  {
   "cell_type": "code",
   "execution_count": null,
   "metadata": {
    "hidden": true,
    "scrolled": true
   },
   "outputs": [],
   "source": [
    "df_top_tags[df_top_tags.types_of_food == 0]"
   ]
  },
  {
   "cell_type": "code",
   "execution_count": null,
   "metadata": {
    "hidden": true
   },
   "outputs": [],
   "source": []
  },
  {
   "cell_type": "code",
   "execution_count": null,
   "metadata": {
    "hidden": true
   },
   "outputs": [],
   "source": []
  },
  {
   "cell_type": "markdown",
   "metadata": {},
   "source": [
    "# ANÁLISIS MEALS 🍴"
   ]
  },
  {
   "cell_type": "markdown",
   "metadata": {
    "heading_collapsed": true
   },
   "source": [
    "## CREATE Dataframe [ 0, 1 ]"
   ]
  },
  {
   "cell_type": "code",
   "execution_count": null,
   "metadata": {
    "hidden": true
   },
   "outputs": [],
   "source": [
    "df_kw_meals"
   ]
  },
  {
   "cell_type": "markdown",
   "metadata": {
    "hidden": true
   },
   "source": [
    "**New Column 'types_of_food'**"
   ]
  },
  {
   "cell_type": "code",
   "execution_count": null,
   "metadata": {
    "hidden": true
   },
   "outputs": [],
   "source": [
    "df_meals = df2[['restaurant_link','restaurant_name', 'region', 'latitude', 'longitude', 'meals']].copy()\n",
    "df_meals.head(3)"
   ]
  },
  {
   "cell_type": "code",
   "execution_count": null,
   "metadata": {
    "hidden": true
   },
   "outputs": [],
   "source": [
    "#df_kw_meals.columns = [col.lower().replace(' ', '_') for col in df_kw_meals.columns] #OPCIÓN  2 para la transpuesta\n",
    "#df_kw_top_tags.set_index('keyword', inplace=True)   #REINDEXxX    NO hace Falta\n",
    "#df_kw_top_tags=df_kw_top_tags.T                     #TRANSPUESTA  NO hace Falta \n",
    "#df_kw_top_tags\n",
    "\n",
    "df_meals['dinner']= [1 if x is True else 0  for x in df_meals.meals.str.contains('Dinner', regex=False)]\n",
    "df_meals['drinks']= [1 if x is True else 0  for x in df_meals.meals.str.contains('Drinks', regex=False)]\n",
    "df_meals['lunch']= [1 if x is True else 0  for x in df_meals.meals.str.contains('Lunch', regex=False)]\n",
    "df_meals['breakfast']= [1 if x is True else 0  for x in df_meals.meals.str.contains('Breakfast', regex=False)]\n",
    "df_meals['brunch']= [1 if x is True else 0  for x in df_meals.meals.str.contains('Brunch', regex=False)]"
   ]
  },
  {
   "cell_type": "code",
   "execution_count": null,
   "metadata": {
    "hidden": true
   },
   "outputs": [],
   "source": [
    "df_meals.head(7)"
   ]
  },
  {
   "cell_type": "markdown",
   "metadata": {
    "hidden": true
   },
   "source": [
    "**CHECKING**"
   ]
  },
  {
   "cell_type": "code",
   "execution_count": null,
   "metadata": {
    "hidden": true,
    "scrolled": true
   },
   "outputs": [],
   "source": [
    "df_meals.dinner.value_counts(dropna=False)"
   ]
  },
  {
   "cell_type": "code",
   "execution_count": null,
   "metadata": {
    "hidden": true,
    "scrolled": false
   },
   "outputs": [],
   "source": [
    "len(df2[df2.meals.str.contains('Dinner')])"
   ]
  },
  {
   "cell_type": "code",
   "execution_count": null,
   "metadata": {
    "hidden": true
   },
   "outputs": [],
   "source": [
    "meals = df_meals[['dinner', 'drinks', 'lunch', 'breakfast', 'brunch']]"
   ]
  },
  {
   "cell_type": "code",
   "execution_count": null,
   "metadata": {
    "hidden": true
   },
   "outputs": [],
   "source": []
  },
  {
   "cell_type": "code",
   "execution_count": null,
   "metadata": {
    "hidden": true
   },
   "outputs": [],
   "source": []
  },
  {
   "cell_type": "markdown",
   "metadata": {
    "hidden": true
   },
   "source": [
    "**🧐**"
   ]
  },
  {
   "cell_type": "code",
   "execution_count": 120,
   "metadata": {
    "hidden": true,
    "scrolled": true
   },
   "outputs": [
    {
     "data": {
      "text/plain": [
       "<AxesSubplot:xlabel='european', ylabel='count'>"
      ]
     },
     "execution_count": 120,
     "metadata": {},
     "output_type": "execute_result"
    },
    {
     "data": {
      "image/png": "[encoded data removed]",
      "text/plain": [
       "<Figure size 432x288 with 1 Axes>"
      ]
     },
     "metadata": {
      "needs_background": "light"
     },
     "output_type": "display_data"
    }
   ],
   "source": [
    "sns.countplot(x=df_international_food.european)"
   ]
  },
  {
   "cell_type": "code",
   "execution_count": null,
   "metadata": {
    "hidden": true
   },
   "outputs": [],
   "source": [
    "df_international_food.columns"
   ]
  },
  {
   "cell_type": "code",
   "execution_count": 248,
   "metadata": {
    "hidden": true
   },
   "outputs": [
    {
     "data": {
      "text/plain": [
       "Index(['restaurant_link', 'restaurant_name', 'region', 'latitude', 'longitude',\n",
       "       'top_tags', 'pizza', 'seafood', 'steakhouse', 'sushi', 'grill', 'soups',\n",
       "       'quick_bites', 'street_food', 'brew pub', 'bar', 'pub', 'wine_bar',\n",
       "       'gastropub', 'beer_restaurants', 'spanish', 'mediterranean', 'cafe',\n",
       "       'dessert', 'bakeries', 'mid_range'],\n",
       "      dtype='object')"
      ]
     },
     "execution_count": 248,
     "metadata": {},
     "output_type": "execute_result"
    }
   ],
   "source": [
    "df_types_of_food.columns"
   ]
  },
  {
   "cell_type": "code",
   "execution_count": 250,
   "metadata": {
    "hidden": true
   },
   "outputs": [],
   "source": [
    "bar = df_types_of_food.groupby(['region']).bar.sum()"
   ]
  },
  {
   "cell_type": "code",
   "execution_count": 258,
   "metadata": {
    "hidden": true
   },
   "outputs": [
    {
     "data": {
      "text/plain": [
       "region\n",
       "Andalucia              3422\n",
       "Aragon                  401\n",
       "Asturias                297\n",
       "Balearic Islands       1250\n",
       "Basque Country          731\n",
       "Canary Islands         1555\n",
       "Cantabria               228\n",
       "Castile and Leon        722\n",
       "Castile-La Mancha       366\n",
       "Catalonia              2989\n",
       "Ceuta                     9\n",
       "Community of Madrid    1519\n",
       "Extremadura             212\n",
       "Galicia                 827\n",
       "La Rioja                118\n",
       "Melilla                  29\n",
       "Navarra                 132\n",
       "Region of Murcia        362\n",
       "Valencian Country      1840\n",
       "Name: bar, dtype: int64"
      ]
     },
     "execution_count": 258,
     "metadata": {},
     "output_type": "execute_result"
    }
   ],
   "source": [
    "bar"
   ]
  },
  {
   "cell_type": "code",
   "execution_count": 129,
   "metadata": {
    "hidden": true
   },
   "outputs": [
    {
     "data": {
      "text/plain": [
       "1261"
      ]
     },
     "execution_count": 129,
     "metadata": {},
     "output_type": "execute_result"
    }
   ],
   "source": [
    "len((df_international_food[(df_international_food.south_american == 1)]))"
   ]
  },
  {
   "cell_type": "code",
   "execution_count": null,
   "metadata": {
    "hidden": true
   },
   "outputs": [],
   "source": []
  },
  {
   "cell_type": "markdown",
   "metadata": {
    "hidden": true
   },
   "source": [
    "food | spanish_food | cheap_eats | beer_wine | healthy_food | cafe_dessert | cost_food"
   ]
  },
  {
   "cell_type": "code",
   "execution_count": null,
   "metadata": {
    "hidden": true
   },
   "outputs": [],
   "source": []
  },
  {
   "cell_type": "markdown",
   "metadata": {},
   "source": [
    "# DF LOCATION"
   ]
  },
  {
   "cell_type": "code",
   "execution_count": 180,
   "metadata": {},
   "outputs": [],
   "source": [
    "#   OPEN   🔑🔑🔑\n",
    "df_location = pd.read_csv('df_full_location_concat.csv')"
   ]
  },
  {
   "cell_type": "code",
   "execution_count": null,
   "metadata": {},
   "outputs": [],
   "source": [
    "from geopy.geocoders import Nominatim\n",
    "from geopy.extra.rate_limiter import RateLimiter\n",
    "geolocator = Nominatim(user_agent= 'geoapiExercises')\n",
    "#geocode = RateLimiter(geolocator.geocode, min_delay_seconds=1)\n",
    "reverse = RateLimiter(geolocator.reverse)"
   ]
  },
  {
   "cell_type": "code",
   "execution_count": null,
   "metadata": {},
   "outputs": [],
   "source": [
    "df_location['lat_long'] = ''\n",
    "def lat_long():    \n",
    "    lat = df_location.latitude.astype(str)\n",
    "    long = df_location.longitude.astype(str)\n",
    "    mask = tuple(zip(lat,long))\n",
    "    return mask \n",
    "df_location['lat_long'] = df_location.loc[:,['lat_long']].apply(lambda x: lat_long())\n",
    "df_location['full_location'] = ''"
   ]
  },
  {
   "cell_type": "code",
   "execution_count": null,
   "metadata": {},
   "outputs": [],
   "source": [
    "df['full_location'] = list(map(lambda regi: geolocator.reverse(regi).raw['address'], df['lat_long']))\n",
    "df['province_'] = [val['country'] for val in df.full_location]\n",
    "df['province_'] = [val['country'] for val in df.full_location]"
   ]
  },
  {
   "cell_type": "code",
   "execution_count": null,
   "metadata": {},
   "outputs": [],
   "source": [
    "df_location[['full_location']]"
   ]
  },
  {
   "cell_type": "code",
   "execution_count": null,
   "metadata": {},
   "outputs": [],
   "source": [
    "df_location[['lat_long', 'full_location']].head(3)"
   ]
  },
  {
   "cell_type": "code",
   "execution_count": 135,
   "metadata": {
    "scrolled": true
   },
   "outputs": [
    {
     "data": {
      "text/plain": [
       "'{\\'road\\': \\'Avinguda de Múrcia\\', \\'town\\': \\'Catarroja\\', \\'region\\': \"l\\'Horta Sud\", \\'county\\': \\'València / Valencia\\', \\'state\\': \\'Comunitat Valenciana\\', \\'postcode\\': \\'46470\\', \\'country\\': \\'España\\', \\'country_code\\': \\'es\\'}'"
      ]
     },
     "execution_count": 135,
     "metadata": {},
     "output_type": "execute_result"
    }
   ],
   "source": [
    "df_location.full_location.iloc[1000]"
   ]
  },
  {
   "cell_type": "markdown",
   "metadata": {},
   "source": [
    "## EVAL"
   ]
  },
  {
   "cell_type": "code",
   "execution_count": 52,
   "metadata": {},
   "outputs": [
    {
     "data": {
      "text/plain": [
       "(137818, 31)"
      ]
     },
     "execution_count": 52,
     "metadata": {},
     "output_type": "execute_result"
    }
   ],
   "source": [
    "df_location.shape"
   ]
  },
  {
   "cell_type": "code",
   "execution_count": 53,
   "metadata": {},
   "outputs": [],
   "source": [
    "df_location.full_location = df_location.full_location.astype(str)                       #   STR()"
   ]
  },
  {
   "cell_type": "code",
   "execution_count": 54,
   "metadata": {},
   "outputs": [
    {
     "data": {
      "text/plain": [
       "0"
      ]
     },
     "execution_count": 54,
     "metadata": {},
     "output_type": "execute_result"
    }
   ],
   "source": [
    "len(df_location[(df_location.full_location == 'nan')])"
   ]
  },
  {
   "cell_type": "code",
   "execution_count": 223,
   "metadata": {},
   "outputs": [],
   "source": [
    "df_location = df_location.drop(df_location[df_location.full_location == 'nan'].index)   # DROPPP"
   ]
  },
  {
   "cell_type": "code",
   "execution_count": 55,
   "metadata": {
    "scrolled": true
   },
   "outputs": [],
   "source": [
    "df_location.full_location = df_location.full_location.apply(eval)                       #  EVAL"
   ]
  },
  {
   "cell_type": "code",
   "execution_count": 225,
   "metadata": {
    "scrolled": true
   },
   "outputs": [
    {
     "data": {
      "text/plain": [
       "{'road': 'Avinguda de Múrcia',\n",
       " 'town': 'Catarroja',\n",
       " 'region': \"l'Horta Sud\",\n",
       " 'county': 'València / Valencia',\n",
       " 'state': 'Comunitat Valenciana',\n",
       " 'postcode': '46470',\n",
       " 'country': 'España',\n",
       " 'country_code': 'es'}"
      ]
     },
     "execution_count": 225,
     "metadata": {},
     "output_type": "execute_result"
    }
   ],
   "source": [
    "df_location.full_location.iloc[1000]"
   ]
  },
  {
   "cell_type": "markdown",
   "metadata": {},
   "source": [
    "**REGION**"
   ]
  },
  {
   "cell_type": "code",
   "execution_count": 118,
   "metadata": {},
   "outputs": [
    {
     "data": {
      "text/plain": [
       "{'amenity': 'La Tienda de Paco',\n",
       " 'road': 'Calle Ezequiel Sánchez',\n",
       " 'quarter': 'La Tosca',\n",
       " 'hamlet': 'Lomo de Los Santos',\n",
       " 'village': 'Tejeda',\n",
       " 'county': 'Las Palmas',\n",
       " 'archipelago': 'Canarias',\n",
       " 'postcode': '35360',\n",
       " 'country': 'España',\n",
       " 'country_code': 'es'}"
      ]
     },
     "execution_count": 118,
     "metadata": {},
     "output_type": "execute_result"
    }
   ],
   "source": [
    "df_location.full_location.loc[15]"
   ]
  },
  {
   "cell_type": "code",
   "execution_count": 113,
   "metadata": {},
   "outputs": [],
   "source": [
    "# EJEMPLOOOOOO   REGION\n",
    "state = []\n",
    "for i in df_location['full_location']:\n",
    "    try:\n",
    "        state.append(i['state'])\n",
    "    except:\n",
    "        try:\n",
    "            state.append(i['archipelago'])  #Además de 'state' también tenemos 'archipelago'\n",
    "        except:\n",
    "            state.append ('None')"
   ]
  },
  {
   "cell_type": "code",
   "execution_count": 59,
   "metadata": {
    "scrolled": false
   },
   "outputs": [
    {
     "data": {
      "text/plain": [
       "['Andalucía', 'Andalucía', 'Andalucía', 'Andalucía']"
      ]
     },
     "execution_count": 59,
     "metadata": {},
     "output_type": "execute_result"
    }
   ],
   "source": [
    "state[:4]"
   ]
  },
  {
   "cell_type": "code",
   "execution_count": 114,
   "metadata": {},
   "outputs": [],
   "source": [
    "df_location['region_'] = state"
   ]
  },
  {
   "cell_type": "markdown",
   "metadata": {},
   "source": [
    "**PROVINCE**"
   ]
  },
  {
   "cell_type": "code",
   "execution_count": 226,
   "metadata": {},
   "outputs": [],
   "source": [
    "province = []   # PROVINCE\n",
    "for i in df_location['full_location']:\n",
    "    try:\n",
    "        province.append(i['county'])\n",
    "    except:\n",
    "        try:\n",
    "            province.append(i['state'])\n",
    "        except:\n",
    "            province.append ('None')"
   ]
  },
  {
   "cell_type": "code",
   "execution_count": 227,
   "metadata": {},
   "outputs": [],
   "source": [
    "df_location['province_'] = province"
   ]
  },
  {
   "cell_type": "code",
   "execution_count": 228,
   "metadata": {
    "scrolled": true
   },
   "outputs": [
    {
     "data": {
      "text/plain": [
       "(2271, 29246)"
      ]
     },
     "execution_count": 228,
     "metadata": {},
     "output_type": "execute_result"
    }
   ],
   "source": [
    "#                           PROVINCE_             vs                            PROVINCE\n",
    "len(df_location[df_location['province_']=='None']), len(df_location[df_location['province'] == '0'])"
   ]
  },
  {
   "cell_type": "code",
   "execution_count": 229,
   "metadata": {},
   "outputs": [
    {
     "data": {
      "text/html": [
       "<div>\n",
       "<style scoped>\n",
       "    .dataframe tbody tr th:only-of-type {\n",
       "        vertical-align: middle;\n",
       "    }\n",
       "\n",
       "    .dataframe tbody tr th {\n",
       "        vertical-align: top;\n",
       "    }\n",
       "\n",
       "    .dataframe thead th {\n",
       "        text-align: right;\n",
       "    }\n",
       "</style>\n",
       "<table border=\"1\" class=\"dataframe\">\n",
       "  <thead>\n",
       "    <tr style=\"text-align: right;\">\n",
       "      <th></th>\n",
       "      <th>restaurant_link</th>\n",
       "      <th>restaurant_name</th>\n",
       "      <th>country</th>\n",
       "      <th>region</th>\n",
       "      <th>province</th>\n",
       "      <th>city</th>\n",
       "      <th>address</th>\n",
       "      <th>latitude</th>\n",
       "      <th>longitude</th>\n",
       "      <th>claimed</th>\n",
       "      <th>top_tags</th>\n",
       "      <th>price_range</th>\n",
       "      <th>meals</th>\n",
       "      <th>cuisines</th>\n",
       "      <th>special_diets</th>\n",
       "      <th>features</th>\n",
       "      <th>vegetarian_friendly</th>\n",
       "      <th>vegan_options</th>\n",
       "      <th>gluten_free</th>\n",
       "      <th>original_open_hours</th>\n",
       "      <th>avg_rating</th>\n",
       "      <th>total_reviews_count</th>\n",
       "      <th>default_language</th>\n",
       "      <th>food</th>\n",
       "      <th>service</th>\n",
       "      <th>value</th>\n",
       "      <th>lat_long</th>\n",
       "      <th>full_location</th>\n",
       "      <th>province_</th>\n",
       "    </tr>\n",
       "  </thead>\n",
       "  <tbody>\n",
       "    <tr>\n",
       "      <th>11941</th>\n",
       "      <td>g1064316-d10672554</td>\n",
       "      <td>Asador Restaurante Los Panchos</td>\n",
       "      <td>Spain</td>\n",
       "      <td>Asturias</td>\n",
       "      <td>Laviana Municipality</td>\n",
       "      <td>Pola de Laviana</td>\n",
       "      <td>Muñera, Pola de Laviana Spain</td>\n",
       "      <td>43.23598</td>\n",
       "      <td>-5.527410</td>\n",
       "      <td>Unclaimed</td>\n",
       "      <td>Mid-range, Steakhouse, European, Spanish</td>\n",
       "      <td>Info no disponible</td>\n",
       "      <td>Lunch, Dinner</td>\n",
       "      <td>European, Steakhouse, Spanish</td>\n",
       "      <td>Info no disponible</td>\n",
       "      <td>Reservations, Seating, Table Service, Takeout,...</td>\n",
       "      <td>N</td>\n",
       "      <td>N</td>\n",
       "      <td>N</td>\n",
       "      <td>Info no disponible</td>\n",
       "      <td>4.0</td>\n",
       "      <td>41.0</td>\n",
       "      <td>English</td>\n",
       "      <td>4.0</td>\n",
       "      <td>4.0</td>\n",
       "      <td>4.0</td>\n",
       "      <td>('43.23598', '-5.52741')</td>\n",
       "      <td>{'amenity': 'Asador restaurante Los Panchos', ...</td>\n",
       "      <td>None</td>\n",
       "    </tr>\n",
       "    <tr>\n",
       "      <th>124809</th>\n",
       "      <td>g608997-d4437256</td>\n",
       "      <td>El Verano</td>\n",
       "      <td>Spain</td>\n",
       "      <td>Asturias</td>\n",
       "      <td>0</td>\n",
       "      <td>Villaviciosa</td>\n",
       "      <td>Lugar Cabriton 3, 33318 Villaviciosa Spain</td>\n",
       "      <td>43.53340</td>\n",
       "      <td>-5.457637</td>\n",
       "      <td>Claimed</td>\n",
       "      <td>Mid-range, Spanish, Vegetarian Friendly, Glute...</td>\n",
       "      <td>€20-€40</td>\n",
       "      <td>Info no disponible</td>\n",
       "      <td>Spanish</td>\n",
       "      <td>Gluten Free Options, Vegetarian Friendly</td>\n",
       "      <td>Info no disponible</td>\n",
       "      <td>Y</td>\n",
       "      <td>N</td>\n",
       "      <td>Y</td>\n",
       "      <td>{\"Mon\": [\"11:00-23:00\"], \"Tue\": [], \"Wed\": [\"1...</td>\n",
       "      <td>4.0</td>\n",
       "      <td>153.0</td>\n",
       "      <td>English</td>\n",
       "      <td>4.0</td>\n",
       "      <td>4.0</td>\n",
       "      <td>4.0</td>\n",
       "      <td>('43.5334', '-5.457637')</td>\n",
       "      <td>{'town': 'Villaviciosa', 'country': 'España', ...</td>\n",
       "      <td>None</td>\n",
       "    </tr>\n",
       "    <tr>\n",
       "      <th>146794</th>\n",
       "      <td>g7361550-d13722427</td>\n",
       "      <td>Bar Restaurante Ricardo</td>\n",
       "      <td>Spain</td>\n",
       "      <td>Asturias</td>\n",
       "      <td>0</td>\n",
       "      <td>Cabanaquinta</td>\n",
       "      <td>Francisco Cabrera 9, 33686 Cabanaquinta Spain</td>\n",
       "      <td>43.16111</td>\n",
       "      <td>-5.624684</td>\n",
       "      <td>Claimed</td>\n",
       "      <td>Mid-range, Spanish</td>\n",
       "      <td>€8-€20</td>\n",
       "      <td>Dinner, Breakfast, Lunch</td>\n",
       "      <td>Spanish</td>\n",
       "      <td>Info no disponible</td>\n",
       "      <td>Info no disponible</td>\n",
       "      <td>N</td>\n",
       "      <td>N</td>\n",
       "      <td>N</td>\n",
       "      <td>{\"Mon\": [\"07:00-23:30\"], \"Tue\": [\"07:00-23:30\"...</td>\n",
       "      <td>4.0</td>\n",
       "      <td>21.0</td>\n",
       "      <td>All languages</td>\n",
       "      <td>Info no disponible</td>\n",
       "      <td>Info no disponible</td>\n",
       "      <td>Info no disponible</td>\n",
       "      <td>('43.16111', '-5.624684')</td>\n",
       "      <td>{'road': 'Avenida Francisco Cabrera', 'hamlet'...</td>\n",
       "      <td>None</td>\n",
       "    </tr>\n",
       "  </tbody>\n",
       "</table>\n",
       "</div>"
      ],
      "text/plain": [
       "           restaurant_link                 restaurant_name country    region  \\\n",
       "11941   g1064316-d10672554  Asador Restaurante Los Panchos   Spain  Asturias   \n",
       "124809    g608997-d4437256                       El Verano   Spain  Asturias   \n",
       "146794  g7361550-d13722427         Bar Restaurante Ricardo   Spain  Asturias   \n",
       "\n",
       "                    province             city  \\\n",
       "11941   Laviana Municipality  Pola de Laviana   \n",
       "124809                     0     Villaviciosa   \n",
       "146794                     0     Cabanaquinta   \n",
       "\n",
       "                                              address  latitude  longitude  \\\n",
       "11941                   Muñera, Pola de Laviana Spain  43.23598  -5.527410   \n",
       "124809     Lugar Cabriton 3, 33318 Villaviciosa Spain  43.53340  -5.457637   \n",
       "146794  Francisco Cabrera 9, 33686 Cabanaquinta Spain  43.16111  -5.624684   \n",
       "\n",
       "          claimed                                           top_tags  \\\n",
       "11941   Unclaimed           Mid-range, Steakhouse, European, Spanish   \n",
       "124809    Claimed  Mid-range, Spanish, Vegetarian Friendly, Glute...   \n",
       "146794    Claimed                                 Mid-range, Spanish   \n",
       "\n",
       "               price_range                     meals  \\\n",
       "11941   Info no disponible             Lunch, Dinner   \n",
       "124809             €20-€40        Info no disponible   \n",
       "146794              €8-€20  Dinner, Breakfast, Lunch   \n",
       "\n",
       "                             cuisines  \\\n",
       "11941   European, Steakhouse, Spanish   \n",
       "124809                        Spanish   \n",
       "146794                        Spanish   \n",
       "\n",
       "                                   special_diets  \\\n",
       "11941                         Info no disponible   \n",
       "124809  Gluten Free Options, Vegetarian Friendly   \n",
       "146794                        Info no disponible   \n",
       "\n",
       "                                                 features vegetarian_friendly  \\\n",
       "11941   Reservations, Seating, Table Service, Takeout,...                   N   \n",
       "124809                                 Info no disponible                   Y   \n",
       "146794                                 Info no disponible                   N   \n",
       "\n",
       "       vegan_options gluten_free  \\\n",
       "11941              N           N   \n",
       "124809             N           Y   \n",
       "146794             N           N   \n",
       "\n",
       "                                      original_open_hours avg_rating  \\\n",
       "11941                                  Info no disponible        4.0   \n",
       "124809  {\"Mon\": [\"11:00-23:00\"], \"Tue\": [], \"Wed\": [\"1...        4.0   \n",
       "146794  {\"Mon\": [\"07:00-23:30\"], \"Tue\": [\"07:00-23:30\"...        4.0   \n",
       "\n",
       "       total_reviews_count default_language                food  \\\n",
       "11941                 41.0          English                 4.0   \n",
       "124809               153.0          English                 4.0   \n",
       "146794                21.0    All languages  Info no disponible   \n",
       "\n",
       "                   service               value                   lat_long  \\\n",
       "11941                  4.0                 4.0   ('43.23598', '-5.52741')   \n",
       "124809                 4.0                 4.0   ('43.5334', '-5.457637')   \n",
       "146794  Info no disponible  Info no disponible  ('43.16111', '-5.624684')   \n",
       "\n",
       "                                            full_location province_  \n",
       "11941   {'amenity': 'Asador restaurante Los Panchos', ...      None  \n",
       "124809  {'town': 'Villaviciosa', 'country': 'España', ...      None  \n",
       "146794  {'road': 'Avenida Francisco Cabrera', 'hamlet'...      None  "
      ]
     },
     "execution_count": 229,
     "metadata": {},
     "output_type": "execute_result"
    }
   ],
   "source": [
    "df_location[df_location['province_']=='None'].sample(3)"
   ]
  },
  {
   "cell_type": "code",
   "execution_count": 230,
   "metadata": {},
   "outputs": [
    {
     "data": {
      "text/plain": [
       "{'house_number': '1',\n",
       " 'road': 'Calle Cruz del Sur',\n",
       " 'quarter': 'Estrella',\n",
       " 'suburb': 'Retiro',\n",
       " 'city': 'Madrid',\n",
       " 'municipality': 'Área metropolitana de Madrid y Corredor del Henares',\n",
       " 'state': 'Comunidad de Madrid',\n",
       " 'postcode': '28007',\n",
       " 'country': 'España',\n",
       " 'country_code': 'es'}"
      ]
     },
     "execution_count": 230,
     "metadata": {},
     "output_type": "execute_result"
    }
   ],
   "source": [
    "df_location.full_location.loc[80484]"
   ]
  },
  {
   "cell_type": "code",
   "execution_count": 231,
   "metadata": {},
   "outputs": [],
   "source": [
    "a = df_location.province_.unique()"
   ]
  },
  {
   "cell_type": "code",
   "execution_count": 232,
   "metadata": {},
   "outputs": [
    {
     "data": {
      "text/plain": [
       "array(['Sevilla', 'Barcelona', 'Las Palmas', 'Girona', 'Illes Balears',\n",
       "       'Euskadi', 'Lleida', 'Tarragona', 'Santa Cruz de Tenerife', 'None',\n",
       "       'València / Valencia', 'Alacant / Alicante', 'Segovia', 'Granada',\n",
       "       'Sierra de Cádiz', 'Bahía de Cádiz', 'Costa Noroeste', 'Galicia',\n",
       "       'Toledo', 'Almería', 'Navarra - Nafarroa', 'Aragón',\n",
       "       'Asturias / Asturies', 'Castelló / Castellón', 'Torrent', 'Soria',\n",
       "       'Valladolid', 'León', 'Os Ancares', 'Burgos', 'Guadalajara',\n",
       "       'Comunidad de Madrid', 'La Axarquía', 'Málaga-Costa del Sol',\n",
       "       'Urola-Kosta', 'Región de Murcia', 'Salamanca', 'Albacete',\n",
       "       'Cantabria', 'Valle del Guadalhorce', 'O Deza',\n",
       "       'Tabeirós - Terra de Montes', 'La Rioja', 'Jaén', 'Zamora',\n",
       "       'Costa del Sol Occidental', 'Campo de Gibraltar', 'Quiroga',\n",
       "       'Debabarrena', 'O Sar', 'Terra de Lemos', 'A Barcala', 'Ordes',\n",
       "       'Ortegal', 'A Coruña', 'A Mariña Central', 'Bergantiños', 'O Eume',\n",
       "       'A Mariña Occidental', 'Ferrol', 'Santiago', 'O Xallas',\n",
       "       'Betanzos', 'A Barbanza', 'Ceuta',\n",
       "       'Bidasoa Beherea / Bajo Bidasoa', 'Huelva', 'La Janda',\n",
       "       'Ciudad Real', 'Ávila', 'Córdoba', 'Badajoz', 'Palencia',\n",
       "       'Hérault', 'Cuenca', 'Guadalteba', 'Sierra de las Nieves',\n",
       "       'Serranía de Ronda', 'Portalegre', 'Nororma', 'Cáceres', 'Arzúa',\n",
       "       'Noia', 'Orbaibar', 'Antequera', 'O Carballiño', 'Terra Chá',\n",
       "       'Terra de Soneira', 'Campiña de Jerez', 'Lugo', 'A Fonsagrada',\n",
       "       'Viana do Castelo', 'Muros', 'Sarria', 'Chantada', 'Fisterra',\n",
       "       'Aude', 'A Ulloa', 'Terra de Melide', 'Daïra Azazga',\n",
       "       'Daïra Beni Ouartilane', 'Albatera', 'Bouches-du-Rhône', 'Braga',\n",
       "       'cercle de tétouan دائرة تطوان', 'Pyrénées-Orientales', 'Melilla',\n",
       "       'Ariège', 'Meira', 'A Mariña Oriental', 'Izarbeibar',\n",
       "       'Daïra Aïn Azal', 'Córdoba - Sevilla', 'Beja', 'Var', 'Évora',\n",
       "       'Lisboa'], dtype=object)"
      ]
     },
     "execution_count": 232,
     "metadata": {},
     "output_type": "execute_result"
    }
   ],
   "source": [
    "a"
   ]
  },
  {
   "cell_type": "markdown",
   "metadata": {},
   "source": [
    "**CITY**"
   ]
  },
  {
   "cell_type": "code",
   "execution_count": 233,
   "metadata": {},
   "outputs": [],
   "source": [
    "city_village = []   # CITY_VILLAGE_TOWN\n",
    "for i in df_location['full_location']:\n",
    "    try:\n",
    "        city_village.append(i['city'])\n",
    "    except:\n",
    "        try:\n",
    "            city_village.append(i['village'])\n",
    "        except:\n",
    "            try: \n",
    "                city_village.append(i['town'])\n",
    "            except:    \n",
    "                try:\n",
    "                    city_village.append(i['municipality'])\n",
    "                except:\n",
    "                    city_village.append ('None')"
   ]
  },
  {
   "cell_type": "code",
   "execution_count": 234,
   "metadata": {},
   "outputs": [],
   "source": [
    "df_location['city_village'] = city_village"
   ]
  },
  {
   "cell_type": "code",
   "execution_count": 235,
   "metadata": {},
   "outputs": [],
   "source": [
    "df_location.city = df_location.city.fillna('0')"
   ]
  },
  {
   "cell_type": "code",
   "execution_count": 236,
   "metadata": {},
   "outputs": [
    {
     "data": {
      "text/plain": [
       "(47, 99278)"
      ]
     },
     "execution_count": 236,
     "metadata": {},
     "output_type": "execute_result"
    }
   ],
   "source": [
    "len(df_location[df_location['city_village']=='None']), len(df_location[df_location['city']=='0'])"
   ]
  },
  {
   "cell_type": "code",
   "execution_count": 237,
   "metadata": {},
   "outputs": [
    {
     "data": {
      "text/html": [
       "<div>\n",
       "<style scoped>\n",
       "    .dataframe tbody tr th:only-of-type {\n",
       "        vertical-align: middle;\n",
       "    }\n",
       "\n",
       "    .dataframe tbody tr th {\n",
       "        vertical-align: top;\n",
       "    }\n",
       "\n",
       "    .dataframe thead th {\n",
       "        text-align: right;\n",
       "    }\n",
       "</style>\n",
       "<table border=\"1\" class=\"dataframe\">\n",
       "  <thead>\n",
       "    <tr style=\"text-align: right;\">\n",
       "      <th></th>\n",
       "      <th>restaurant_link</th>\n",
       "      <th>restaurant_name</th>\n",
       "      <th>country</th>\n",
       "      <th>region</th>\n",
       "      <th>province</th>\n",
       "      <th>city</th>\n",
       "      <th>address</th>\n",
       "      <th>latitude</th>\n",
       "      <th>longitude</th>\n",
       "      <th>claimed</th>\n",
       "      <th>top_tags</th>\n",
       "      <th>price_range</th>\n",
       "      <th>meals</th>\n",
       "      <th>cuisines</th>\n",
       "      <th>special_diets</th>\n",
       "      <th>features</th>\n",
       "      <th>vegetarian_friendly</th>\n",
       "      <th>vegan_options</th>\n",
       "      <th>gluten_free</th>\n",
       "      <th>original_open_hours</th>\n",
       "      <th>avg_rating</th>\n",
       "      <th>total_reviews_count</th>\n",
       "      <th>default_language</th>\n",
       "      <th>food</th>\n",
       "      <th>service</th>\n",
       "      <th>value</th>\n",
       "      <th>lat_long</th>\n",
       "      <th>full_location</th>\n",
       "      <th>province_</th>\n",
       "      <th>city_village</th>\n",
       "    </tr>\n",
       "  </thead>\n",
       "  <tbody>\n",
       "    <tr>\n",
       "      <th>1237</th>\n",
       "      <td>g1026153-d12696275</td>\n",
       "      <td>Restaurante Camping</td>\n",
       "      <td>Spain</td>\n",
       "      <td>Castile and Leon</td>\n",
       "      <td>Province of Segovia</td>\n",
       "      <td>0</td>\n",
       "      <td>Calle de La Canada Estacion S/N, 40500 Riaza S...</td>\n",
       "      <td>41.269220</td>\n",
       "      <td>-3.497286</td>\n",
       "      <td>Unclaimed</td>\n",
       "      <td>Mid-range, Mediterranean, Spanish</td>\n",
       "      <td>€10-€20</td>\n",
       "      <td>Dinner</td>\n",
       "      <td>Mediterranean, Spanish</td>\n",
       "      <td>Info no disponible</td>\n",
       "      <td>Info no disponible</td>\n",
       "      <td>N</td>\n",
       "      <td>N</td>\n",
       "      <td>N</td>\n",
       "      <td>Info no disponible</td>\n",
       "      <td>4.0</td>\n",
       "      <td>13.0</td>\n",
       "      <td>All languages</td>\n",
       "      <td>Info no disponible</td>\n",
       "      <td>Info no disponible</td>\n",
       "      <td>Info no disponible</td>\n",
       "      <td>('41.26922', '-3.497286')</td>\n",
       "      <td>{'tourism': 'Riaza', 'road': 'Carretera de la ...</td>\n",
       "      <td>Segovia</td>\n",
       "      <td>None</td>\n",
       "    </tr>\n",
       "    <tr>\n",
       "      <th>29233</th>\n",
       "      <td>g1437745-d21364976</td>\n",
       "      <td>Restaurante Penarrubia</td>\n",
       "      <td>Spain</td>\n",
       "      <td>Castile-La Mancha</td>\n",
       "      <td>Province of Guadalajara</td>\n",
       "      <td>0</td>\n",
       "      <td>Carretera de Villanueva n. 34, 19495 Zaorejas ...</td>\n",
       "      <td>40.762074</td>\n",
       "      <td>-2.199286</td>\n",
       "      <td>Unclaimed</td>\n",
       "      <td>Info no disponible</td>\n",
       "      <td>Info no disponible</td>\n",
       "      <td>Info no disponible</td>\n",
       "      <td>Info no disponible</td>\n",
       "      <td>Info no disponible</td>\n",
       "      <td>Info no disponible</td>\n",
       "      <td>N</td>\n",
       "      <td>N</td>\n",
       "      <td>N</td>\n",
       "      <td>Info no disponible</td>\n",
       "      <td>4.0</td>\n",
       "      <td>1.0</td>\n",
       "      <td>All languages</td>\n",
       "      <td>Info no disponible</td>\n",
       "      <td>Info no disponible</td>\n",
       "      <td>Info no disponible</td>\n",
       "      <td>('40.762074', '-2.199286')</td>\n",
       "      <td>{'tourism': 'Hotel Peñarrubia', 'road': 'Calle...</td>\n",
       "      <td>Guadalajara</td>\n",
       "      <td>None</td>\n",
       "    </tr>\n",
       "    <tr>\n",
       "      <th>56370</th>\n",
       "      <td>g187478-d1774194</td>\n",
       "      <td>Restaurante Lilium</td>\n",
       "      <td>Spain</td>\n",
       "      <td>Canary Islands</td>\n",
       "      <td>Lanzarote</td>\n",
       "      <td>Arrecife</td>\n",
       "      <td>Avenida Olof Palme S/N C.C. Marina Lanzarote, ...</td>\n",
       "      <td>28.962542</td>\n",
       "      <td>-13.539114</td>\n",
       "      <td>Claimed</td>\n",
       "      <td>Fine Dining, Vegetarian Friendly, Vegan Option...</td>\n",
       "      <td>€35-€50</td>\n",
       "      <td>Info no disponible</td>\n",
       "      <td>Info no disponible</td>\n",
       "      <td>Vegetarian Friendly, Vegan Options, Gluten Fre...</td>\n",
       "      <td>Accepts Credit Cards, Table Service, Parking A...</td>\n",
       "      <td>Y</td>\n",
       "      <td>Y</td>\n",
       "      <td>Y</td>\n",
       "      <td>{\"Mon\": [], \"Tue\": [\"13:30-16:00\", \"19:30-22:0...</td>\n",
       "      <td>4.0</td>\n",
       "      <td>641.0</td>\n",
       "      <td>English</td>\n",
       "      <td>4.0</td>\n",
       "      <td>4.0</td>\n",
       "      <td>4.0</td>\n",
       "      <td>('28.962542', '-13.539114')</td>\n",
       "      <td>{'leisure': 'Marina Lanzarote', 'road': 'A', '...</td>\n",
       "      <td>Las Palmas</td>\n",
       "      <td>None</td>\n",
       "    </tr>\n",
       "  </tbody>\n",
       "</table>\n",
       "</div>"
      ],
      "text/plain": [
       "          restaurant_link         restaurant_name country             region  \\\n",
       "1237   g1026153-d12696275     Restaurante Camping   Spain   Castile and Leon   \n",
       "29233  g1437745-d21364976  Restaurante Penarrubia   Spain  Castile-La Mancha   \n",
       "56370    g187478-d1774194      Restaurante Lilium   Spain     Canary Islands   \n",
       "\n",
       "                      province      city  \\\n",
       "1237       Province of Segovia         0   \n",
       "29233  Province of Guadalajara         0   \n",
       "56370                Lanzarote  Arrecife   \n",
       "\n",
       "                                                 address   latitude  \\\n",
       "1237   Calle de La Canada Estacion S/N, 40500 Riaza S...  41.269220   \n",
       "29233  Carretera de Villanueva n. 34, 19495 Zaorejas ...  40.762074   \n",
       "56370  Avenida Olof Palme S/N C.C. Marina Lanzarote, ...  28.962542   \n",
       "\n",
       "       longitude    claimed  \\\n",
       "1237   -3.497286  Unclaimed   \n",
       "29233  -2.199286  Unclaimed   \n",
       "56370 -13.539114    Claimed   \n",
       "\n",
       "                                                top_tags         price_range  \\\n",
       "1237                   Mid-range, Mediterranean, Spanish             €10-€20   \n",
       "29233                                 Info no disponible  Info no disponible   \n",
       "56370  Fine Dining, Vegetarian Friendly, Vegan Option...             €35-€50   \n",
       "\n",
       "                    meals                cuisines  \\\n",
       "1237               Dinner  Mediterranean, Spanish   \n",
       "29233  Info no disponible      Info no disponible   \n",
       "56370  Info no disponible      Info no disponible   \n",
       "\n",
       "                                           special_diets  \\\n",
       "1237                                  Info no disponible   \n",
       "29233                                 Info no disponible   \n",
       "56370  Vegetarian Friendly, Vegan Options, Gluten Fre...   \n",
       "\n",
       "                                                features vegetarian_friendly  \\\n",
       "1237                                  Info no disponible                   N   \n",
       "29233                                 Info no disponible                   N   \n",
       "56370  Accepts Credit Cards, Table Service, Parking A...                   Y   \n",
       "\n",
       "      vegan_options gluten_free  \\\n",
       "1237              N           N   \n",
       "29233             N           N   \n",
       "56370             Y           Y   \n",
       "\n",
       "                                     original_open_hours avg_rating  \\\n",
       "1237                                  Info no disponible        4.0   \n",
       "29233                                 Info no disponible        4.0   \n",
       "56370  {\"Mon\": [], \"Tue\": [\"13:30-16:00\", \"19:30-22:0...        4.0   \n",
       "\n",
       "      total_reviews_count default_language                food  \\\n",
       "1237                 13.0    All languages  Info no disponible   \n",
       "29233                 1.0    All languages  Info no disponible   \n",
       "56370               641.0          English                 4.0   \n",
       "\n",
       "                  service               value                     lat_long  \\\n",
       "1237   Info no disponible  Info no disponible    ('41.26922', '-3.497286')   \n",
       "29233  Info no disponible  Info no disponible   ('40.762074', '-2.199286')   \n",
       "56370                 4.0                 4.0  ('28.962542', '-13.539114')   \n",
       "\n",
       "                                           full_location    province_  \\\n",
       "1237   {'tourism': 'Riaza', 'road': 'Carretera de la ...      Segovia   \n",
       "29233  {'tourism': 'Hotel Peñarrubia', 'road': 'Calle...  Guadalajara   \n",
       "56370  {'leisure': 'Marina Lanzarote', 'road': 'A', '...   Las Palmas   \n",
       "\n",
       "      city_village  \n",
       "1237          None  \n",
       "29233         None  \n",
       "56370         None  "
      ]
     },
     "execution_count": 237,
     "metadata": {},
     "output_type": "execute_result"
    }
   ],
   "source": [
    "df_location[df_location['city_village']=='None'].sample(3)"
   ]
  },
  {
   "cell_type": "code",
   "execution_count": 238,
   "metadata": {},
   "outputs": [
    {
     "data": {
      "text/plain": [
       "{'county': 'Las Palmas',\n",
       " 'archipelago': 'Canarias',\n",
       " 'country': 'España',\n",
       " 'country_code': 'es'}"
      ]
     },
     "execution_count": 238,
     "metadata": {},
     "output_type": "execute_result"
    }
   ],
   "source": [
    "df_location.full_location.loc[13519]"
   ]
  },
  {
   "cell_type": "code",
   "execution_count": null,
   "metadata": {},
   "outputs": [],
   "source": []
  },
  {
   "cell_type": "markdown",
   "metadata": {},
   "source": [
    "## 🔐 Region - Province - City_Village"
   ]
  },
  {
   "cell_type": "code",
   "execution_count": 137,
   "metadata": {},
   "outputs": [],
   "source": [
    "df_location = pd.read_csv('df_tripAD_Spain.csv')  "
   ]
  },
  {
   "cell_type": "code",
   "execution_count": 143,
   "metadata": {},
   "outputs": [],
   "source": [
    "#   GUARDARRRR 🔐🔐🔐\n",
    "\n",
    "df_location.to_csv('df_tripAd_Spain.csv', header=True, index=False)"
   ]
  },
  {
   "cell_type": "code",
   "execution_count": 138,
   "metadata": {},
   "outputs": [
    {
     "data": {
      "text/plain": [
       "(135719, 31)"
      ]
     },
     "execution_count": 138,
     "metadata": {},
     "output_type": "execute_result"
    }
   ],
   "source": [
    "df_location.shape"
   ]
  },
  {
   "cell_type": "code",
   "execution_count": 4,
   "metadata": {},
   "outputs": [
    {
     "data": {
      "text/plain": [
       "Index(['restaurant_link', 'restaurant_name', 'country', 'region', 'province',\n",
       "       'city', 'address', 'latitude', 'longitude', 'claimed', 'top_tags',\n",
       "       'price_range', 'meals', 'cuisines', 'special_diets', 'features',\n",
       "       'vegetarian_friendly', 'vegan_options', 'gluten_free',\n",
       "       'original_open_hours', 'avg_rating', 'total_reviews_count',\n",
       "       'default_language', 'food', 'service', 'value', 'lat_long',\n",
       "       'full_location', 'province_', 'city_village'],\n",
       "      dtype='object')"
      ]
     },
     "execution_count": 4,
     "metadata": {},
     "output_type": "execute_result"
    }
   ],
   "source": [
    "df_location.columns"
   ]
  },
  {
   "cell_type": "code",
   "execution_count": 5,
   "metadata": {},
   "outputs": [
    {
     "data": {
      "text/html": [
       "<div>\n",
       "<style scoped>\n",
       "    .dataframe tbody tr th:only-of-type {\n",
       "        vertical-align: middle;\n",
       "    }\n",
       "\n",
       "    .dataframe tbody tr th {\n",
       "        vertical-align: top;\n",
       "    }\n",
       "\n",
       "    .dataframe thead th {\n",
       "        text-align: right;\n",
       "    }\n",
       "</style>\n",
       "<table border=\"1\" class=\"dataframe\">\n",
       "  <thead>\n",
       "    <tr style=\"text-align: right;\">\n",
       "      <th></th>\n",
       "      <th>region</th>\n",
       "      <th>province_</th>\n",
       "      <th>city_village</th>\n",
       "    </tr>\n",
       "  </thead>\n",
       "  <tbody>\n",
       "    <tr>\n",
       "      <th>0</th>\n",
       "      <td>Andalucia</td>\n",
       "      <td>Sevilla</td>\n",
       "      <td>Aznalcóllar</td>\n",
       "    </tr>\n",
       "    <tr>\n",
       "      <th>1</th>\n",
       "      <td>Andalucia</td>\n",
       "      <td>Sevilla</td>\n",
       "      <td>Aznalcóllar</td>\n",
       "    </tr>\n",
       "    <tr>\n",
       "      <th>2</th>\n",
       "      <td>Andalucia</td>\n",
       "      <td>Sevilla</td>\n",
       "      <td>Aznalcóllar</td>\n",
       "    </tr>\n",
       "  </tbody>\n",
       "</table>\n",
       "</div>"
      ],
      "text/plain": [
       "      region province_ city_village\n",
       "0  Andalucia   Sevilla  Aznalcóllar\n",
       "1  Andalucia   Sevilla  Aznalcóllar\n",
       "2  Andalucia   Sevilla  Aznalcóllar"
      ]
     },
     "execution_count": 5,
     "metadata": {},
     "output_type": "execute_result"
    }
   ],
   "source": [
    "df_location[['region', 'province_', 'city_village']].head(3)"
   ]
  },
  {
   "cell_type": "code",
   "execution_count": 6,
   "metadata": {},
   "outputs": [
    {
     "data": {
      "text/plain": [
       "{'Comunidad de Madrid': 18102,\n",
       " 'Barcelona': 17713,\n",
       " 'Malaga': 9791,\n",
       " 'Illes Balears': 8916,\n",
       " 'AAlicante': 8498,\n",
       " 'Valencia': 7147,\n",
       " 'Santa Cruz de Tenerife': 5878,\n",
       " 'Las Palmas': 5414,\n",
       " 'Sevilla': 4746,\n",
       " 'Euskadi': 4577,\n",
       " 'Girona': 4461,\n",
       " 'Galicia': 4034,\n",
       " 'Cadiz': 3494,\n",
       " 'Aragón': 3482,\n",
       " 'Tarragona': 3453,\n",
       " 'Región de Murcia': 3392,\n",
       " 'Granada': 3067,\n",
       " 'A Coruña': 2880,\n",
       " 'None': 2271,\n",
       " 'Cantabria': 2249,\n",
       " 'Almería': 2206,\n",
       " 'Castellón': 1906,\n",
       " 'Córdoba': 1716,\n",
       " 'Huelva': 1577,\n",
       " 'Lleida': 1435,\n",
       " 'Navarra': 1380,\n",
       " 'Asturias': 1278,\n",
       " 'León': 1266,\n",
       " 'Valladolid': 1233,\n",
       " 'Toledo': 1202,\n",
       " 'Jaén': 1143,\n",
       " 'Badajoz': 1069,\n",
       " 'Salamanca': 965,\n",
       " 'Burgos': 939,\n",
       " 'Campo de Gibraltar': 912,\n",
       " 'La Rioja': 890,\n",
       " 'Lugo': 862,\n",
       " 'Cáceres': 854,\n",
       " 'Ciudad Real': 807,\n",
       " 'Albacete': 788,\n",
       " 'Segovia': 596,\n",
       " 'Guipuzcoa': 591,\n",
       " 'Ávila': 566,\n",
       " 'Zamora': 478,\n",
       " 'Cuenca': 469,\n",
       " 'Guadalajara': 465,\n",
       " 'Palencia': 378,\n",
       " 'Melilla': 361,\n",
       " 'Soria': 352,\n",
       " 'Pontevedra': 117,\n",
       " 'Ceuta': 113,\n",
       " 'Orense': 58,\n",
       " 'Albatera': 12,\n",
       " 'Bahía de Cádiz': 1,\n",
       " 'Aude': 1}"
      ]
     },
     "execution_count": 6,
     "metadata": {},
     "output_type": "execute_result"
    }
   ],
   "source": [
    "a = dict(df_location.province_.value_counts(dropna=False))\n",
    "a"
   ]
  },
  {
   "cell_type": "code",
   "execution_count": null,
   "metadata": {},
   "outputs": [],
   "source": []
  },
  {
   "cell_type": "markdown",
   "metadata": {},
   "source": [
    "**DF_CLEAN_PROVINCE** para ver rápidamente columnas concretas"
   ]
  },
  {
   "cell_type": "code",
   "execution_count": 263,
   "metadata": {},
   "outputs": [],
   "source": [
    "df_clean_province = df_location[['region', 'province', 'province_', 'city_village']].copy()"
   ]
  },
  {
   "cell_type": "code",
   "execution_count": 337,
   "metadata": {
    "scrolled": false
   },
   "outputs": [
    {
     "data": {
      "text/html": [
       "<div>\n",
       "<style scoped>\n",
       "    .dataframe tbody tr th:only-of-type {\n",
       "        vertical-align: middle;\n",
       "    }\n",
       "\n",
       "    .dataframe tbody tr th {\n",
       "        vertical-align: top;\n",
       "    }\n",
       "\n",
       "    .dataframe thead th {\n",
       "        text-align: right;\n",
       "    }\n",
       "</style>\n",
       "<table border=\"1\" class=\"dataframe\">\n",
       "  <thead>\n",
       "    <tr style=\"text-align: right;\">\n",
       "      <th></th>\n",
       "      <th>region</th>\n",
       "      <th>province</th>\n",
       "      <th>province_</th>\n",
       "      <th>city_village</th>\n",
       "    </tr>\n",
       "  </thead>\n",
       "  <tbody>\n",
       "  </tbody>\n",
       "</table>\n",
       "</div>"
      ],
      "text/plain": [
       "Empty DataFrame\n",
       "Columns: [region, province, province_, city_village]\n",
       "Index: []"
      ]
     },
     "execution_count": 337,
     "metadata": {},
     "output_type": "execute_result"
    }
   ],
   "source": [
    "df_clean_province[df_location.province_ == '1']  "
   ]
  },
  {
   "cell_type": "markdown",
   "metadata": {},
   "source": [
    "**REPLACE DF_LOCATION (PROVINCE_)**"
   ]
  },
  {
   "cell_type": "code",
   "execution_count": 503,
   "metadata": {},
   "outputs": [],
   "source": [
    "df_location.province_ = df_location.province_.str.replace('lacant / Alicante', 'Alicante')\n",
    "df_location.province_ = df_location.province_.str.replace('València / Valencia', 'Valencia')\n",
    "df_location.province_ = df_location.province_.str.replace('Costa del Sol Occidental', 'Malaga')\n",
    "df_location.province_ = df_location.province_.str.replace('Málaga-Costa del Sol', 'Malaga')\n",
    "df_location.province_ = df_location.province_.str.replace('Castelló / Castellón', 'Castellón')\n",
    "df_location.province_ = df_location.province_.str.replace('Bahía de Cádiz', 'Cadiz')\n",
    "df_location.province_ = df_location.province_.str.replace('Navarra - Nafarroa', 'Navarra')\n",
    "df_location.province_ = df_location.province_.str.replace('Asturias / Asturies', 'Asturias')\n",
    "df_location.province_ = df_location.province_.str.replace('La Axarquía', 'Malaga')\n",
    "df_location.province_ = df_location.province_.str.replace('Santiago', 'A Coruña')\n",
    "df_location.province_ = df_location.province_.str.replace('La Janda', 'Cadiz')\n",
    "df_location.province_ = df_location.province_.str.replace('Costa Noroeste', 'Cadiz')\n",
    "df_location.province_ = df_location.province_.str.replace('Campiña de Jerez', 'Cadiz')\n",
    "df_location.province_ = df_location.province_.str.replace('Ferrol', 'A Coruña')\n",
    "df_location.province_ = df_location.province_.str.replace('Serranía de Ronda', 'Malaga')\n",
    "df_location.province_ = df_location.province_.str.replace('Valle del Guadalhorce', 'Malaga')\n",
    "df_location.province_ = df_location.province_.str.replace('Sierra de Cádiz', 'Cadiz')\n",
    "df_location.province_ = df_location.province_.str.replace('Bidasoa Beherea / Bajo Bidasoa', 'Guipuzcoa')\n",
    "df_location.province_ = df_location.province_.str.replace('Urola-Kosta', 'Guipuzcoa')\n",
    "df_location.province_ = df_location.province_.str.replace('Antequera', 'Malaga')\n",
    "df_location.province_ = df_location.province_.str.replace('A Barbanza', 'A Coruña')\n",
    "df_location.province_ = df_location.province_.str.replace('A Mariña Central', 'Lugo')\n",
    "df_location.province_ = df_location.province_.str.replace('A Mariña Occidental', 'Lugo')\n",
    "df_location.province_ = df_location.province_.str.replace('Torrent', 'Valencia')\n",
    "df_location.province_ = df_location.province_.str.replace('Fisterra', 'A Coruña')\n",
    "df_location.province_ = df_location.province_.str.replace('Debabarrena', 'Guipuzcoa')\n",
    "df_location.province_ = df_location.province_.str.replace('Bergantiños', 'A Coruña')\n",
    "df_location.province_ = df_location.province_.str.replace('Terra de Lemos', 'Lugo')\n",
    "df_location.province_ = df_location.province_.str.replace('Sierra de las Nieves', 'Malaga')\n",
    "df_location.province_ = df_location.province_.str.replace('Sarria', 'Lugo')\n",
    "df_location.province_ = df_location.province_.str.replace('O Deza', 'Pontevedra')\n",
    "df_location.province_ = df_location.province_.str.replace('Guadalteba', 'Malaga')\n",
    "df_location.province_ = df_location.province_.str.replace('Terra Chá', 'Lugo')\n",
    "df_location.province_ = df_location.province_.str.replace('O Eume', 'A Coruña')\n",
    "df_location.province_ = df_location.province_.str.replace('O Carballiño', 'Orense')\n",
    "df_location.province_ = df_location.province_.str.replace('Nororma', 'Malaga')\n",
    "df_location.province_ = df_location.province_.str.replace('Ortegal', 'A Coruña')\n",
    "df_location.province_ = df_location.province_.str.replace('O Sar', 'A Coruña')\n",
    "df_location.province_ = df_location.province_.str.replace('Tabeirós - Terra de Montes', 'Pontevedra')\n",
    "df_location.province_ = df_location.province_.str.replace('Noia', 'A Coruña')\n",
    "df_location.province_ = df_location.province_.str.replace('Muros', 'A Coruña')\n",
    "df_location.province_ = df_location.province_.str.replace('Arzúa', 'A Coruña')\n",
    "df_location.province_ = df_location.province_.str.replace('Terra de Soneira', 'A Coruña')\n",
    "df_location.province_ = df_location.province_.str.replace('A Ulloa', 'Lugo')\n",
    "df_location.province_ = df_location.province_.str.replace('Izarbeibar', 'Navarra')\n",
    "df_location.province_ = df_location.province_.str.replace('Chantada', 'Lugo')\n",
    "df_location.province_ = df_location.province_.str.replace('Os Ancares', 'Lugo')\n",
    "df_location.province_ = df_location.province_.str.replace('Ordes', 'A Coruña')\n",
    "df_location.province_ = df_location.province_.str.replace('Orbaibar', 'Navarra')\n",
    "df_location.province_ = df_location.province_.str.replace('A Barcala', 'A Coruña')\n",
    "df_location.province_ = df_location.province_.str.replace('O Xallas', 'A Coruña')\n",
    "df_location.province_ = df_location.province_.str.replace('A Mariña Oriental', 'Lugo')\n",
    "df_location.province_ = df_location.province_.str.replace('Quiroga', 'Lugo')\n",
    "df_location.province_ = df_location.province_.str.replace('Quiroga', 'Lugo')\n",
    "df_location.province_ = df_location.province_.str.replace('A Fonsagrada', 'Lugo')\n",
    "df_location.province_ = df_location.province_.str.replace('A Fonsagrada', 'Lugo')\n",
    "df_location.province_ = df_location.province_.str.replace('Betanzos', 'A Coruña')\n",
    "df_location.province_ = df_location.province_.str.replace('Meira', 'Lugo')\n",
    "df_location.province_ = df_location.province_.str.replace('Terra de Melide', 'A Coruña')\n",
    "\n",
    "#df_location.province_ = df_location.province_.str.replace('Hérault', '¿?¿?¿?¿?=')\n",
    "#df_location.province_ = df_location.province_.str.replace('Aude', '¿?¿?¿?¿?=')\n",
    "#df_clean_province[df_location.province_ == 'cercle de tétouan دائرة تطوان'] # DROPNA\n",
    "\n",
    "df_location.province_ = df_location.province_.str.replace('Bouches-du-Rhône', 'Asturias')\n",
    "df_location.province_ = df_location.province_.str.replace('Daïra Azazga', 'Malaga')\n",
    "df_location.province_ = df_location.province_.str.replace('Var', 'Illes Balears')\n",
    "df_location.province_ = df_location.province_.str.replace('Viana do Castelo', 'Valencia')\n",
    "df_location.province_ = df_location.province_.str.replace('Beja', 'Huelva')\n",
    "df_location.province_ = df_location.province_.str.replace('Lisboa', 'A Coruña')\n",
    "df_location.province_ = df_location.province_.str.replace('Córdoba - Sevilla', 'Sevilla')\n",
    "df_location.province_ = df_location.province_.str.replace('Évora', 'Fuerteventura')\n",
    "df_location.province_ = df_location.province_.str.replace('Braga', 'Barcelona')\n",
    "df_location.province_ = df_location.province_.str.replace('Daïra Beni Ouartilane', 'Malaga')\n",
    "df_location.province_ = df_location.province_.str.replace('Portalegre', 'Bahía de Cádiz')"
   ]
  },
  {
   "cell_type": "code",
   "execution_count": 8,
   "metadata": {},
   "outputs": [],
   "source": [
    "df_location.province_ = df_location.province_.str.replace('AAlicante', 'Alicante')\n",
    "df_location.province_ = df_location.province_.str.replace('Bahía de Cádiz', 'Cadiz')"
   ]
  },
  {
   "cell_type": "code",
   "execution_count": 9,
   "metadata": {},
   "outputs": [
    {
     "data": {
      "text/plain": [
       "array(['Sevilla', 'Barcelona', 'Las Palmas', 'Girona', 'Illes Balears',\n",
       "       'Euskadi', 'Lleida', 'Tarragona', 'Santa Cruz de Tenerife', 'None',\n",
       "       'Valencia', 'Alicante', 'Segovia', 'Granada', 'Cadiz', 'Galicia',\n",
       "       'Toledo', 'Almería', 'Navarra', 'Aragón', 'Asturias', 'Castellón',\n",
       "       'Soria', 'Valladolid', 'León', 'Lugo', 'Burgos', 'Guadalajara',\n",
       "       'Comunidad de Madrid', 'Malaga', 'Guipuzcoa', 'Región de Murcia',\n",
       "       'Salamanca', 'Albacete', 'Cantabria', 'Pontevedra', 'La Rioja',\n",
       "       'Jaén', 'Zamora', 'Campo de Gibraltar', 'A Coruña', 'Ceuta',\n",
       "       'Huelva', 'Ciudad Real', 'Ávila', 'Córdoba', 'Badajoz', 'Palencia',\n",
       "       'Cuenca', 'Cáceres', 'Orense', 'Albatera', 'Melilla', 'Aude'],\n",
       "      dtype=object)"
      ]
     },
     "execution_count": 9,
     "metadata": {},
     "output_type": "execute_result"
    }
   ],
   "source": [
    "df_location.province_.unique()"
   ]
  },
  {
   "cell_type": "code",
   "execution_count": 505,
   "metadata": {},
   "outputs": [
    {
     "data": {
      "text/html": [
       "<div>\n",
       "<style scoped>\n",
       "    .dataframe tbody tr th:only-of-type {\n",
       "        vertical-align: middle;\n",
       "    }\n",
       "\n",
       "    .dataframe tbody tr th {\n",
       "        vertical-align: top;\n",
       "    }\n",
       "\n",
       "    .dataframe thead th {\n",
       "        text-align: right;\n",
       "    }\n",
       "</style>\n",
       "<table border=\"1\" class=\"dataframe\">\n",
       "  <thead>\n",
       "    <tr style=\"text-align: right;\">\n",
       "      <th></th>\n",
       "      <th>restaurant_link</th>\n",
       "      <th>restaurant_name</th>\n",
       "      <th>country</th>\n",
       "      <th>region</th>\n",
       "      <th>province</th>\n",
       "      <th>city</th>\n",
       "      <th>address</th>\n",
       "      <th>latitude</th>\n",
       "      <th>longitude</th>\n",
       "      <th>claimed</th>\n",
       "      <th>top_tags</th>\n",
       "      <th>price_range</th>\n",
       "      <th>meals</th>\n",
       "      <th>cuisines</th>\n",
       "      <th>special_diets</th>\n",
       "      <th>features</th>\n",
       "      <th>vegetarian_friendly</th>\n",
       "      <th>vegan_options</th>\n",
       "      <th>gluten_free</th>\n",
       "      <th>original_open_hours</th>\n",
       "      <th>avg_rating</th>\n",
       "      <th>total_reviews_count</th>\n",
       "      <th>default_language</th>\n",
       "      <th>food</th>\n",
       "      <th>service</th>\n",
       "      <th>value</th>\n",
       "      <th>lat_long</th>\n",
       "      <th>full_location</th>\n",
       "      <th>province_</th>\n",
       "      <th>city_village</th>\n",
       "    </tr>\n",
       "  </thead>\n",
       "  <tbody>\n",
       "  </tbody>\n",
       "</table>\n",
       "</div>"
      ],
      "text/plain": [
       "Empty DataFrame\n",
       "Columns: [restaurant_link, restaurant_name, country, region, province, city, address, latitude, longitude, claimed, top_tags, price_range, meals, cuisines, special_diets, features, vegetarian_friendly, vegan_options, gluten_free, original_open_hours, avg_rating, total_reviews_count, default_language, food, service, value, lat_long, full_location, province_, city_village]\n",
       "Index: []"
      ]
     },
     "execution_count": 505,
     "metadata": {},
     "output_type": "execute_result"
    }
   ],
   "source": [
    "df_location[df_location.province_ == '']  "
   ]
  },
  {
   "cell_type": "code",
   "execution_count": 507,
   "metadata": {},
   "outputs": [],
   "source": [
    "#Borramos aquellas Filas específicas que no dan información util.\n",
    "\n",
    "df_location = df_location.drop([74102, 74120, 74123, 74146, 74168, 14346, 58867, 58879, 27929, 49398, 112239,\n",
    "                               136414, 91588, 108869, 76994, 112558, 134608, 134645], axis=0)"
   ]
  },
  {
   "cell_type": "code",
   "execution_count": 12,
   "metadata": {},
   "outputs": [],
   "source": [
    "df_location = df_location.drop(df_location[df_location.top_tags == 'Info no disponible'].index)"
   ]
  },
  {
   "cell_type": "code",
   "execution_count": 13,
   "metadata": {},
   "outputs": [
    {
     "data": {
      "text/plain": [
       "(137818, 30)"
      ]
     },
     "execution_count": 13,
     "metadata": {},
     "output_type": "execute_result"
    }
   ],
   "source": [
    "df_location.shape"
   ]
  },
  {
   "cell_type": "code",
   "execution_count": 136,
   "metadata": {},
   "outputs": [],
   "source": [
    "# 🔐🔐🔐\n",
    "df_location.to_csv('df_tripAd_Spain.csv', header=True, index=False)"
   ]
  },
  {
   "cell_type": "code",
   "execution_count": null,
   "metadata": {},
   "outputs": [],
   "source": []
  },
  {
   "cell_type": "markdown",
   "metadata": {},
   "source": [
    "**DF_CLEAN_REGION** para ver rápidamente columnas concretas"
   ]
  },
  {
   "cell_type": "code",
   "execution_count": 37,
   "metadata": {},
   "outputs": [
    {
     "data": {
      "text/plain": [
       "array(['Andalucia', 'Catalonia', 'Canary Islands', 'Balearic Islands',\n",
       "       'Basque Country', 'Valencian Country', 'Castile and Leon',\n",
       "       'Galicia', 'Castile-La Mancha', 'Asturias', 'Aragon',\n",
       "       'Community of Madrid', 'Navarra', 'Region of Murcia', 'Cantabria',\n",
       "       'La Rioja', 'Extremadura', 'Ceuta', 'Melilla'], dtype=object)"
      ]
     },
     "execution_count": 37,
     "metadata": {},
     "output_type": "execute_result"
    }
   ],
   "source": [
    "df_location.region.unique()  #BAD REGION & BAD PROVINCE"
   ]
  },
  {
   "cell_type": "code",
   "execution_count": 63,
   "metadata": {},
   "outputs": [],
   "source": [
    "a = df_location[(df_location.region_ =='Andalucía')]"
   ]
  },
  {
   "cell_type": "code",
   "execution_count": 64,
   "metadata": {},
   "outputs": [
    {
     "data": {
      "text/plain": [
       "Malaga                9062\n",
       "Sevilla               4267\n",
       "Cadiz                 3230\n",
       "Granada               2791\n",
       "Almería               2007\n",
       "Córdoba               1512\n",
       "Huelva                1437\n",
       "Jaén                  1019\n",
       "Campo de Gibraltar     842\n",
       "Name: province_, dtype: int64"
      ]
     },
     "execution_count": 64,
     "metadata": {},
     "output_type": "execute_result"
    }
   ],
   "source": [
    "a.province_.value_counts()"
   ]
  },
  {
   "cell_type": "code",
   "execution_count": 68,
   "metadata": {},
   "outputs": [
    {
     "data": {
      "text/html": [
       "<div>\n",
       "<style scoped>\n",
       "    .dataframe tbody tr th:only-of-type {\n",
       "        vertical-align: middle;\n",
       "    }\n",
       "\n",
       "    .dataframe tbody tr th {\n",
       "        vertical-align: top;\n",
       "    }\n",
       "\n",
       "    .dataframe thead th {\n",
       "        text-align: right;\n",
       "    }\n",
       "</style>\n",
       "<table border=\"1\" class=\"dataframe\">\n",
       "  <thead>\n",
       "    <tr style=\"text-align: right;\">\n",
       "      <th></th>\n",
       "      <th>region</th>\n",
       "      <th>region_</th>\n",
       "      <th>province</th>\n",
       "      <th>province_</th>\n",
       "      <th>city_village</th>\n",
       "    </tr>\n",
       "  </thead>\n",
       "  <tbody>\n",
       "    <tr>\n",
       "      <th>374</th>\n",
       "      <td>Catalonia</td>\n",
       "      <td>None</td>\n",
       "      <td>Province of Tarragona</td>\n",
       "      <td>None</td>\n",
       "      <td>None</td>\n",
       "    </tr>\n",
       "    <tr>\n",
       "      <th>606</th>\n",
       "      <td>Asturias</td>\n",
       "      <td>None</td>\n",
       "      <td>0</td>\n",
       "      <td>None</td>\n",
       "      <td>Llanera</td>\n",
       "    </tr>\n",
       "    <tr>\n",
       "      <th>607</th>\n",
       "      <td>Asturias</td>\n",
       "      <td>None</td>\n",
       "      <td>0</td>\n",
       "      <td>None</td>\n",
       "      <td>Llanera</td>\n",
       "    </tr>\n",
       "    <tr>\n",
       "      <th>609</th>\n",
       "      <td>Asturias</td>\n",
       "      <td>None</td>\n",
       "      <td>0</td>\n",
       "      <td>None</td>\n",
       "      <td>Llanera</td>\n",
       "    </tr>\n",
       "    <tr>\n",
       "      <th>610</th>\n",
       "      <td>Asturias</td>\n",
       "      <td>None</td>\n",
       "      <td>0</td>\n",
       "      <td>None</td>\n",
       "      <td>Llanera</td>\n",
       "    </tr>\n",
       "    <tr>\n",
       "      <th>...</th>\n",
       "      <td>...</td>\n",
       "      <td>...</td>\n",
       "      <td>...</td>\n",
       "      <td>...</td>\n",
       "      <td>...</td>\n",
       "    </tr>\n",
       "    <tr>\n",
       "      <th>151234</th>\n",
       "      <td>Asturias</td>\n",
       "      <td>None</td>\n",
       "      <td>0</td>\n",
       "      <td>None</td>\n",
       "      <td>Tapia de Casariego</td>\n",
       "    </tr>\n",
       "    <tr>\n",
       "      <th>152490</th>\n",
       "      <td>Asturias</td>\n",
       "      <td>None</td>\n",
       "      <td>Siero Municipality</td>\n",
       "      <td>None</td>\n",
       "      <td>Siero</td>\n",
       "    </tr>\n",
       "    <tr>\n",
       "      <th>152492</th>\n",
       "      <td>Asturias</td>\n",
       "      <td>None</td>\n",
       "      <td>0</td>\n",
       "      <td>None</td>\n",
       "      <td>Sotrondio</td>\n",
       "    </tr>\n",
       "    <tr>\n",
       "      <th>152493</th>\n",
       "      <td>Asturias</td>\n",
       "      <td>None</td>\n",
       "      <td>0</td>\n",
       "      <td>None</td>\n",
       "      <td>Sotrondio</td>\n",
       "    </tr>\n",
       "    <tr>\n",
       "      <th>152550</th>\n",
       "      <td>Asturias</td>\n",
       "      <td>None</td>\n",
       "      <td>Caravia Municipality</td>\n",
       "      <td>None</td>\n",
       "      <td>Caravia</td>\n",
       "    </tr>\n",
       "  </tbody>\n",
       "</table>\n",
       "<p>2088 rows × 5 columns</p>\n",
       "</div>"
      ],
      "text/plain": [
       "           region region_               province province_        city_village\n",
       "374     Catalonia    None  Province of Tarragona      None                None\n",
       "606      Asturias    None                      0      None             Llanera\n",
       "607      Asturias    None                      0      None             Llanera\n",
       "609      Asturias    None                      0      None             Llanera\n",
       "610      Asturias    None                      0      None             Llanera\n",
       "...           ...     ...                    ...       ...                 ...\n",
       "151234   Asturias    None                      0      None  Tapia de Casariego\n",
       "152490   Asturias    None     Siero Municipality      None               Siero\n",
       "152492   Asturias    None                      0      None           Sotrondio\n",
       "152493   Asturias    None                      0      None           Sotrondio\n",
       "152550   Asturias    None   Caravia Municipality      None             Caravia\n",
       "\n",
       "[2088 rows x 5 columns]"
      ]
     },
     "execution_count": 68,
     "metadata": {},
     "output_type": "execute_result"
    }
   ],
   "source": [
    "df_clean_region[df_location.province_ == 'None']"
   ]
  },
  {
   "cell_type": "code",
   "execution_count": 71,
   "metadata": {},
   "outputs": [
    {
     "data": {
      "text/plain": [
       "(2088, 12525)"
      ]
     },
     "execution_count": 71,
     "metadata": {},
     "output_type": "execute_result"
    }
   ],
   "source": [
    "# PRUEBA                       PROVINCE                                                    REGION\n",
    "len(df_clean_region[df_clean_region.province_ == 'None']), len(df_clean_region[(df_clean_region.region_ == 'None')])"
   ]
  },
  {
   "cell_type": "code",
   "execution_count": 73,
   "metadata": {},
   "outputs": [],
   "source": [
    "# DROP  'None'  -  DF_LOCATION\n",
    "df_location = df_location.drop(df_location[df_location.province_ == 'None'].index)"
   ]
  },
  {
   "cell_type": "code",
   "execution_count": 84,
   "metadata": {},
   "outputs": [],
   "source": [
    "df_clean_region = df_clean_region.drop(df_clean_region[df_clean_region.province_ == 'None'].index)"
   ]
  },
  {
   "cell_type": "code",
   "execution_count": 83,
   "metadata": {},
   "outputs": [
    {
     "data": {
      "text/plain": [
       "(0, 10437)"
      ]
     },
     "execution_count": 83,
     "metadata": {},
     "output_type": "execute_result"
    }
   ],
   "source": [
    "len(df_location[df_location.province_ == 'None']), len(df_location[(df_location.region_ == 'None')])\n",
    "#comprobamos que esos 'None' son de CANARIAS = i['archipielago']"
   ]
  },
  {
   "cell_type": "code",
   "execution_count": null,
   "metadata": {},
   "outputs": [],
   "source": []
  },
  {
   "cell_type": "code",
   "execution_count": 115,
   "metadata": {},
   "outputs": [],
   "source": [
    "df_clean_region = df_location[['region_', 'province_', 'full_location',]].copy()  "
   ]
  },
  {
   "cell_type": "code",
   "execution_count": null,
   "metadata": {},
   "outputs": [],
   "source": []
  },
  {
   "cell_type": "code",
   "execution_count": 116,
   "metadata": {
    "scrolled": false
   },
   "outputs": [
    {
     "data": {
      "text/plain": [
       "array(['Andalucía', 'Catalunya', 'Canarias', 'Illes Balears', 'Euskadi',\n",
       "       'Comunitat Valenciana', 'Castilla y León', 'Galicia',\n",
       "       'Castilla-La Mancha', 'Aragón', 'Asturias / Asturies',\n",
       "       'Comunidad de Madrid', 'Navarra - Nafarroa', 'Región de Murcia',\n",
       "       'Cantabria', 'La Rioja', 'Extremadura', 'None', 'Norte',\n",
       "       'Tizi Ouzou Tizi Wezzu ⵜⵉⵣⵉ ⵡⴻⵣⵣⵓ', 'Sétif ⵙⵟⵉⴼ سطيف',\n",
       "       \"Provence-Alpes-Côte d'Azur\", 'Ceuta', 'Melilla', 'Occitanie'],\n",
       "      dtype=object)"
      ]
     },
     "execution_count": 116,
     "metadata": {},
     "output_type": "execute_result"
    }
   ],
   "source": [
    "df_location.region_.unique()"
   ]
  },
  {
   "cell_type": "code",
   "execution_count": 119,
   "metadata": {},
   "outputs": [
    {
     "data": {
      "text/plain": [
       "Andalucía                           26167\n",
       "Catalunya                           24389\n",
       "Comunidad de Madrid                 15880\n",
       "Comunitat Valenciana                15830\n",
       "Canarias                            10435\n",
       "Illes Balears                        8269\n",
       "Galicia                              7166\n",
       "Castilla y León                      6073\n",
       "Euskadi                              4628\n",
       "Castilla-La Mancha                   3283\n",
       "Aragón                               3150\n",
       "Región de Murcia                     3031\n",
       "Cantabria                            2091\n",
       "Extremadura                          1730\n",
       "Navarra - Nafarroa                   1210\n",
       "Asturias / Asturies                  1156\n",
       "La Rioja                              786\n",
       "Melilla                               349\n",
       "Ceuta                                  96\n",
       "Provence-Alpes-Côte d'Azur              3\n",
       "None                                    2\n",
       "Tizi Ouzou Tizi Wezzu ⵜⵉⵣⵉ ⵡⴻⵣⵣⵓ        2\n",
       "Norte                                   2\n",
       "Sétif ⵙⵟⵉⴼ سطيف                         1\n",
       "Occitanie                               1\n",
       "Name: region_, dtype: int64"
      ]
     },
     "execution_count": 119,
     "metadata": {},
     "output_type": "execute_result"
    }
   ],
   "source": [
    "df_clean_region.region_.value_counts(dropna=False)"
   ]
  },
  {
   "cell_type": "code",
   "execution_count": 130,
   "metadata": {
    "scrolled": true
   },
   "outputs": [
    {
     "data": {
      "text/html": [
       "<div>\n",
       "<style scoped>\n",
       "    .dataframe tbody tr th:only-of-type {\n",
       "        vertical-align: middle;\n",
       "    }\n",
       "\n",
       "    .dataframe tbody tr th {\n",
       "        vertical-align: top;\n",
       "    }\n",
       "\n",
       "    .dataframe thead th {\n",
       "        text-align: right;\n",
       "    }\n",
       "</style>\n",
       "<table border=\"1\" class=\"dataframe\">\n",
       "  <thead>\n",
       "    <tr style=\"text-align: right;\">\n",
       "      <th></th>\n",
       "      <th>region_</th>\n",
       "      <th>province_</th>\n",
       "      <th>full_location</th>\n",
       "    </tr>\n",
       "  </thead>\n",
       "  <tbody>\n",
       "    <tr>\n",
       "      <th>22837</th>\n",
       "      <td>Norte</td>\n",
       "      <td>Valencia</td>\n",
       "      <td>{'house_number': '497', 'road': 'Avenida Forte...</td>\n",
       "    </tr>\n",
       "    <tr>\n",
       "      <th>69565</th>\n",
       "      <td>Norte</td>\n",
       "      <td>Barcelona</td>\n",
       "      <td>{'neighbourhood': 'Souto', 'suburb': 'Vermoim'...</td>\n",
       "    </tr>\n",
       "  </tbody>\n",
       "</table>\n",
       "</div>"
      ],
      "text/plain": [
       "      region_  province_                                      full_location\n",
       "22837   Norte   Valencia  {'house_number': '497', 'road': 'Avenida Forte...\n",
       "69565   Norte  Barcelona  {'neighbourhood': 'Souto', 'suburb': 'Vermoim'..."
      ]
     },
     "execution_count": 130,
     "metadata": {},
     "output_type": "execute_result"
    }
   ],
   "source": [
    "df_clean_region[(df_clean_region.region_ == \"Norte\")]"
   ]
  },
  {
   "cell_type": "code",
   "execution_count": 133,
   "metadata": {
    "scrolled": true
   },
   "outputs": [
    {
     "data": {
      "text/html": [
       "<div>\n",
       "<style scoped>\n",
       "    .dataframe tbody tr th:only-of-type {\n",
       "        vertical-align: middle;\n",
       "    }\n",
       "\n",
       "    .dataframe tbody tr th {\n",
       "        vertical-align: top;\n",
       "    }\n",
       "\n",
       "    .dataframe thead th {\n",
       "        text-align: right;\n",
       "    }\n",
       "</style>\n",
       "<table border=\"1\" class=\"dataframe\">\n",
       "  <thead>\n",
       "    <tr style=\"text-align: right;\">\n",
       "      <th></th>\n",
       "      <th>region_</th>\n",
       "      <th>province_</th>\n",
       "      <th>full_location</th>\n",
       "    </tr>\n",
       "  </thead>\n",
       "  <tbody>\n",
       "    <tr>\n",
       "      <th>39157</th>\n",
       "      <td>Sétif ⵙⵟⵉⴼ سطيف</td>\n",
       "      <td>Malaga</td>\n",
       "      <td>{'suburb': 'Taghorfet ثاغورفتس', 'village': 'S...</td>\n",
       "    </tr>\n",
       "  </tbody>\n",
       "</table>\n",
       "</div>"
      ],
      "text/plain": [
       "               region_ province_  \\\n",
       "39157  Sétif ⵙⵟⵉⴼ سطيف    Malaga   \n",
       "\n",
       "                                           full_location  \n",
       "39157  {'suburb': 'Taghorfet ثاغورفتس', 'village': 'S...  "
      ]
     },
     "execution_count": 133,
     "metadata": {},
     "output_type": "execute_result"
    }
   ],
   "source": [
    "df_clean_region[df_clean_region.region_.str.contains('Sétif', regex=True)]"
   ]
  },
  {
   "cell_type": "code",
   "execution_count": 126,
   "metadata": {},
   "outputs": [],
   "source": [
    "df_location = df_location.drop([15260, 112490, 47967, 119895, 139054, 37235, 37832, 22837, 69565, \n",
    "                                112275, 39157], axis=0)"
   ]
  },
  {
   "cell_type": "code",
   "execution_count": 142,
   "metadata": {},
   "outputs": [
    {
     "data": {
      "text/plain": [
       "Andalucía               26167\n",
       "Catalunya               24389\n",
       "Comunidad de Madrid     15880\n",
       "Comunidad Valenciana    15830\n",
       "Canarias                10435\n",
       "Illes Balears            8269\n",
       "Galicia                  7166\n",
       "Castilla y León          6073\n",
       "Euskadi                  4628\n",
       "Castilla-La Mancha       3283\n",
       "Aragón                   3150\n",
       "Región de Murcia         3031\n",
       "Cantabria                2091\n",
       "Extremadura              1730\n",
       "Navarra                  1210\n",
       "Asturias                 1156\n",
       "La Rioja                  786\n",
       "Melilla                   349\n",
       "Ceuta                      96\n",
       "Name: region_, dtype: int64"
      ]
     },
     "execution_count": 142,
     "metadata": {},
     "output_type": "execute_result"
    }
   ],
   "source": [
    "df_location.region_.value_counts(dropna=False)"
   ]
  },
  {
   "cell_type": "code",
   "execution_count": 140,
   "metadata": {},
   "outputs": [
    {
     "data": {
      "text/plain": [
       "(135719, 31)"
      ]
     },
     "execution_count": 140,
     "metadata": {},
     "output_type": "execute_result"
    }
   ],
   "source": [
    "df_location.shape"
   ]
  },
  {
   "cell_type": "code",
   "execution_count": 141,
   "metadata": {},
   "outputs": [],
   "source": [
    "df_location.region_ = df_location.region_.str.replace('Asturias / Asturies', 'Asturias')\n",
    "df_location.region_ = df_location.region_.str.replace('Comunitat Valenciana', 'Comunidad Valenciana')\n",
    "df_location.region_ = df_location.region_.str.replace('Navarra - Nafarroa', 'Navarra')"
   ]
  },
  {
   "cell_type": "code",
   "execution_count": null,
   "metadata": {},
   "outputs": [],
   "source": []
  },
  {
   "cell_type": "code",
   "execution_count": null,
   "metadata": {},
   "outputs": [],
   "source": []
  },
  {
   "cell_type": "code",
   "execution_count": null,
   "metadata": {},
   "outputs": [],
   "source": []
  },
  {
   "cell_type": "markdown",
   "metadata": {
    "heading_collapsed": true
   },
   "source": [
    "### DROPNA 'nan'"
   ]
  },
  {
   "cell_type": "code",
   "execution_count": null,
   "metadata": {
    "hidden": true
   },
   "outputs": [],
   "source": [
    "df1.full_location = df1.full_location.apply(eval)\n",
    "\n",
    "df1.full_location[0]['state']\n",
    "\n",
    "df_location[df_location.full_location == 'nan'].head(1)\n",
    "\n",
    "df_location = df_location.drop(df_location[df_location['full_location'] == 'nan'].index)\n",
    "\n",
    "df_location = df_location.reset_index(drop=True)\n",
    "\n",
    "df_location[df_location.full_location == 'nan'].head(1)\n",
    "\n",
    "df_location.full_location = df_location.full_location.apply(eval)\n",
    "\n",
    "prueba = dict(df_location.full_location)\n",
    "\n",
    "prueba[0].keys()"
   ]
  },
  {
   "cell_type": "code",
   "execution_count": null,
   "metadata": {
    "hidden": true
   },
   "outputs": [],
   "source": []
  },
  {
   "cell_type": "markdown",
   "metadata": {
    "heading_collapsed": true
   },
   "source": [
    "## REGEX"
   ]
  },
  {
   "cell_type": "code",
   "execution_count": null,
   "metadata": {
    "hidden": true,
    "scrolled": false
   },
   "outputs": [],
   "source": [
    "df_location['full_location'] = df_location['full_location'].str.replace(r'(\")', '')\n",
    "\n",
    "df_location.full_location \n",
    "\n",
    "df_location.full_location.iloc[1000]\n",
    "\n",
    "df_location.full_location = df_location.full_location.str.replace(r'\\\"', '')\n",
    "\n",
    "\n",
    "df_location.full_location = df_location.full_location.str.replace(r'\\\"', '')\n",
    "\n",
    "df_location['region_'] = df_location.full_location.str.extract(r'(state+...\\W+\\w+)', expand=False)\n",
    "\n",
    "df_location"
   ]
  },
  {
   "cell_type": "code",
   "execution_count": null,
   "metadata": {
    "hidden": true
   },
   "outputs": [],
   "source": []
  },
  {
   "cell_type": "code",
   "execution_count": null,
   "metadata": {
    "hidden": true
   },
   "outputs": [],
   "source": [
    "df_location = df_location.reset_index()"
   ]
  },
  {
   "cell_type": "code",
   "execution_count": null,
   "metadata": {
    "hidden": true
   },
   "outputs": [],
   "source": [
    "def lat_long():  #NOT RUUUUNNNN, only LAT_LONG \n",
    "        lat = df1.latitude.astype(str)\n",
    "        long = df1.longitude.astype(str)\n",
    "        mask = tuple(zip(lat,long))\n",
    "        return mask \n",
    "df1['lat_long'] = df1.loc[:,['lat_long']].apply(lambda x: lat_long())   #ya tenemos 'lat_long' de DF8\n",
    "df1['full_location'] = ''            "
   ]
  },
  {
   "cell_type": "code",
   "execution_count": null,
   "metadata": {
    "hidden": true
   },
   "outputs": [],
   "source": [
    "df10['full_location'] = list(map(lambda regi: geolocator.reverse(regi).raw['address'], df10['lat_long']))"
   ]
  },
  {
   "cell_type": "code",
   "execution_count": null,
   "metadata": {
    "hidden": true
   },
   "outputs": [],
   "source": [
    "def province():\n",
    "    try:\n",
    "        for val in df.full_location:\n",
    "            return val['city']\n",
    "    except:\n",
    "        try:\n",
    "            return val['village']\n",
    "        except:\n",
    "            return 'none'"
   ]
  },
  {
   "cell_type": "code",
   "execution_count": null,
   "metadata": {
    "hidden": true
   },
   "outputs": [],
   "source": [
    "df.full_location.apply(lambda x: province())"
   ]
  },
  {
   "cell_type": "code",
   "execution_count": null,
   "metadata": {
    "hidden": true
   },
   "outputs": [],
   "source": []
  },
  {
   "cell_type": "code",
   "execution_count": null,
   "metadata": {
    "hidden": true
   },
   "outputs": [],
   "source": []
  },
  {
   "cell_type": "markdown",
   "metadata": {},
   "source": [
    "# CHECK ✅ "
   ]
  },
  {
   "cell_type": "code",
   "execution_count": 439,
   "metadata": {},
   "outputs": [],
   "source": [
    "df_Restaurants_Spain = df[['restaurant_link', 'restaurant_name', 'region','province_', 'city_village', 'latitude', \n",
    "                                             'longitude', 'lat_long', 'address', 'top_tags', 'avg_rating', 'claimed', \n",
    "                                             'vegetarian_friendly', 'vegan_options', 'gluten_free','default_language', \n",
    "                                             'food', 'service', 'value']].copy()"
   ]
  },
  {
   "cell_type": "code",
   "execution_count": 440,
   "metadata": {},
   "outputs": [
    {
     "data": {
      "text/html": [
       "<div>\n",
       "<style scoped>\n",
       "    .dataframe tbody tr th:only-of-type {\n",
       "        vertical-align: middle;\n",
       "    }\n",
       "\n",
       "    .dataframe tbody tr th {\n",
       "        vertical-align: top;\n",
       "    }\n",
       "\n",
       "    .dataframe thead th {\n",
       "        text-align: right;\n",
       "    }\n",
       "</style>\n",
       "<table border=\"1\" class=\"dataframe\">\n",
       "  <thead>\n",
       "    <tr style=\"text-align: right;\">\n",
       "      <th></th>\n",
       "      <th>restaurant_link</th>\n",
       "      <th>restaurant_name</th>\n",
       "      <th>region</th>\n",
       "      <th>province_</th>\n",
       "      <th>city_village</th>\n",
       "      <th>latitude</th>\n",
       "      <th>longitude</th>\n",
       "      <th>lat_long</th>\n",
       "      <th>address</th>\n",
       "      <th>top_tags</th>\n",
       "      <th>avg_rating</th>\n",
       "      <th>claimed</th>\n",
       "      <th>vegetarian_friendly</th>\n",
       "      <th>vegan_options</th>\n",
       "      <th>gluten_free</th>\n",
       "      <th>default_language</th>\n",
       "      <th>food</th>\n",
       "      <th>service</th>\n",
       "      <th>value</th>\n",
       "    </tr>\n",
       "  </thead>\n",
       "  <tbody>\n",
       "    <tr>\n",
       "      <th>67373</th>\n",
       "      <td>g187497-d19087288</td>\n",
       "      <td>Restaurante Casa Zamarron</td>\n",
       "      <td>Catalonia</td>\n",
       "      <td>Barcelona</td>\n",
       "      <td>Barcelona</td>\n",
       "      <td>41.42763</td>\n",
       "      <td>2.17383</td>\n",
       "      <td>('41.42763', '2.17383')</td>\n",
       "      <td>Carrer De Costa I Cuxart, 2, 08016 Barcelona S...</td>\n",
       "      <td>Spanish</td>\n",
       "      <td>3.0</td>\n",
       "      <td>Unclaimed</td>\n",
       "      <td>N</td>\n",
       "      <td>N</td>\n",
       "      <td>N</td>\n",
       "      <td>All languages</td>\n",
       "      <td>Info no disponible</td>\n",
       "      <td>Info no disponible</td>\n",
       "      <td>Info no disponible</td>\n",
       "    </tr>\n",
       "    <tr>\n",
       "      <th>125334</th>\n",
       "      <td>g609019-d4182897</td>\n",
       "      <td>Ambrosia la Vida</td>\n",
       "      <td>Extremadura</td>\n",
       "      <td>Cáceres</td>\n",
       "      <td>Plasencia</td>\n",
       "      <td>40.02889</td>\n",
       "      <td>-6.09416</td>\n",
       "      <td>('40.02889', '-6.09416')</td>\n",
       "      <td>Calle Coria Puerta 8, 10600 Plasencia Spain</td>\n",
       "      <td>Mediterranean</td>\n",
       "      <td>4.0</td>\n",
       "      <td>Unclaimed</td>\n",
       "      <td>N</td>\n",
       "      <td>N</td>\n",
       "      <td>N</td>\n",
       "      <td>All languages</td>\n",
       "      <td>Info no disponible</td>\n",
       "      <td>Info no disponible</td>\n",
       "      <td>Info no disponible</td>\n",
       "    </tr>\n",
       "  </tbody>\n",
       "</table>\n",
       "</div>"
      ],
      "text/plain": [
       "          restaurant_link            restaurant_name       region  province_  \\\n",
       "67373   g187497-d19087288  Restaurante Casa Zamarron    Catalonia  Barcelona   \n",
       "125334   g609019-d4182897           Ambrosia la Vida  Extremadura    Cáceres   \n",
       "\n",
       "       city_village  latitude  longitude                  lat_long  \\\n",
       "67373     Barcelona  41.42763    2.17383   ('41.42763', '2.17383')   \n",
       "125334    Plasencia  40.02889   -6.09416  ('40.02889', '-6.09416')   \n",
       "\n",
       "                                                  address       top_tags  \\\n",
       "67373   Carrer De Costa I Cuxart, 2, 08016 Barcelona S...        Spanish   \n",
       "125334        Calle Coria Puerta 8, 10600 Plasencia Spain  Mediterranean   \n",
       "\n",
       "       avg_rating    claimed vegetarian_friendly vegan_options gluten_free  \\\n",
       "67373         3.0  Unclaimed                   N             N           N   \n",
       "125334        4.0  Unclaimed                   N             N           N   \n",
       "\n",
       "       default_language                food             service  \\\n",
       "67373     All languages  Info no disponible  Info no disponible   \n",
       "125334    All languages  Info no disponible  Info no disponible   \n",
       "\n",
       "                     value  \n",
       "67373   Info no disponible  \n",
       "125334  Info no disponible  "
      ]
     },
     "execution_count": 440,
     "metadata": {},
     "output_type": "execute_result"
    }
   ],
   "source": [
    "df_Restaurants_Spain.sample(2)"
   ]
  },
  {
   "cell_type": "code",
   "execution_count": 448,
   "metadata": {},
   "outputs": [
    {
     "data": {
      "text/plain": [
       "region             avg_rating        \n",
       "Andalucia          1.0                     319\n",
       "                   2.0                    1164\n",
       "                   3.0                    5884\n",
       "                   4.0                   14769\n",
       "                   5.0                    3839\n",
       "                                         ...  \n",
       "Valencian Country  2.0                     808\n",
       "                   3.0                    3825\n",
       "                   4.0                    8912\n",
       "                   5.0                    2073\n",
       "                   Info no disponible     1757\n",
       "Name: region, Length: 114, dtype: int64"
      ]
     },
     "execution_count": 448,
     "metadata": {},
     "output_type": "execute_result"
    }
   ],
   "source": [
    "bs = df_Restaurants_Spain.groupby(['region', 'avg_rating']).region.count()\n",
    "bs"
   ]
  },
  {
   "cell_type": "code",
   "execution_count": null,
   "metadata": {},
   "outputs": [],
   "source": []
  }
 ],
 "metadata": {
  "kernelspec": {
   "display_name": "Python 3",
   "language": "python",
   "name": "python3"
  },
  "language_info": {
   "codemirror_mode": {
    "name": "ipython",
    "version": 3
   },
   "file_extension": ".py",
   "mimetype": "text/x-python",
   "name": "python",
   "nbconvert_exporter": "python",
   "pygments_lexer": "ipython3",
   "version": "3.8.5"
  },
  "toc": {
   "base_numbering": 1,
   "nav_menu": {},
   "number_sections": true,
   "sideBar": true,
   "skip_h1_title": false,
   "title_cell": "Table of Contents",
   "title_sidebar": "Contents",
   "toc_cell": false,
   "toc_position": {
    "height": "calc(100% - 180px)",
    "left": "10px",
    "top": "150px",
    "width": "227.188px"
   },
   "toc_section_display": true,
   "toc_window_display": true
  },
  "varInspector": {
   "cols": {
    "lenName": 16,
    "lenType": 16,
    "lenVar": 40
   },
   "kernels_config": {
    "python": {
     "delete_cmd_postfix": "",
     "delete_cmd_prefix": "del ",
     "library": "var_list.py",
     "varRefreshCmd": "print(var_dic_list())"
    },
    "r": {
     "delete_cmd_postfix": ") ",
     "delete_cmd_prefix": "rm(",
     "library": "var_list.r",
     "varRefreshCmd": "cat(var_dic_list()) "
    }
   },
   "types_to_exclude": [
    "module",
    "function",
    "builtin_function_or_method",
    "instance",
    "_Feature"
   ],
   "window_display": false
  }
 },
 "nbformat": 4,
 "nbformat_minor": 4
}
