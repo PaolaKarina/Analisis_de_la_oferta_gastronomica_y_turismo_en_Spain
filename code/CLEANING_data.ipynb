{
 "cells": [
  {
   "cell_type": "code",
   "execution_count": 9,
   "metadata": {},
   "outputs": [],
   "source": [
    "import pandas as pd\n",
    "\n",
    "(son las 2 formas de importar tus funciones propias)\n",
    "from src.my_functions import * \n",
    "import src.my_functions import as paola\n",
    "\n",
    "src = carpeta donde has guardado tus funciones \n",
    "        (que tienes que estar en un .py hecho en visual console)\n",
    ".my_funtions = es como se llama tu .py (funcioncitas.py)\n",
    "\n",
    "\n",
    "\n",
    "\n",
    "\n",
    "\n",
    "import numpy as np\n",
    "import json"
   ]
  },
  {
   "cell_type": "code",
   "execution_count": 30,
   "metadata": {},
   "outputs": [],
   "source": [
    "import seaborn as sns"
   ]
  },
  {
   "cell_type": "code",
   "execution_count": 60,
   "metadata": {},
   "outputs": [],
   "source": [
    "pd.set_option('display.max_columns', None)"
   ]
  },
  {
   "cell_type": "markdown",
   "metadata": {},
   "source": [
    "# Data Tripadvisor Europa 🍟"
   ]
  },
  {
   "cell_type": "code",
   "execution_count": 3,
   "metadata": {},
   "outputs": [
    {
     "name": "stderr",
     "output_type": "stream",
     "text": [
      "C:\\ProgramData\\Anaconda3\\lib\\site-packages\\IPython\\core\\interactiveshell.py:3146: DtypeWarning: Columns (4) have mixed types.Specify dtype option on import or set low_memory=False.\n",
      "  has_raised = await self.run_ast_nodes(code_ast.body, cell_name,\n"
     ]
    },
    {
     "data": {
      "text/html": [
       "<div>\n",
       "<style scoped>\n",
       "    .dataframe tbody tr th:only-of-type {\n",
       "        vertical-align: middle;\n",
       "    }\n",
       "\n",
       "    .dataframe tbody tr th {\n",
       "        vertical-align: top;\n",
       "    }\n",
       "\n",
       "    .dataframe thead th {\n",
       "        text-align: right;\n",
       "    }\n",
       "</style>\n",
       "<table border=\"1\" class=\"dataframe\">\n",
       "  <thead>\n",
       "    <tr style=\"text-align: right;\">\n",
       "      <th></th>\n",
       "      <th>restaurant_link</th>\n",
       "      <th>restaurant_name</th>\n",
       "      <th>original_location</th>\n",
       "      <th>country</th>\n",
       "      <th>region</th>\n",
       "      <th>province</th>\n",
       "      <th>city</th>\n",
       "      <th>address</th>\n",
       "      <th>latitude</th>\n",
       "      <th>longitude</th>\n",
       "      <th>claimed</th>\n",
       "      <th>awards</th>\n",
       "      <th>popularity_detailed</th>\n",
       "      <th>popularity_generic</th>\n",
       "      <th>top_tags</th>\n",
       "      <th>price_level</th>\n",
       "      <th>price_range</th>\n",
       "      <th>meals</th>\n",
       "      <th>cuisines</th>\n",
       "      <th>special_diets</th>\n",
       "      <th>features</th>\n",
       "      <th>vegetarian_friendly</th>\n",
       "      <th>vegan_options</th>\n",
       "      <th>gluten_free</th>\n",
       "      <th>original_open_hours</th>\n",
       "      <th>open_days_per_week</th>\n",
       "      <th>open_hours_per_week</th>\n",
       "      <th>working_shifts_per_week</th>\n",
       "      <th>avg_rating</th>\n",
       "      <th>total_reviews_count</th>\n",
       "      <th>default_language</th>\n",
       "      <th>reviews_count_in_default_language</th>\n",
       "      <th>excellent</th>\n",
       "      <th>very_good</th>\n",
       "      <th>average</th>\n",
       "      <th>poor</th>\n",
       "      <th>terrible</th>\n",
       "      <th>food</th>\n",
       "      <th>service</th>\n",
       "      <th>value</th>\n",
       "      <th>atmosphere</th>\n",
       "      <th>keywords</th>\n",
       "    </tr>\n",
       "  </thead>\n",
       "  <tbody>\n",
       "    <tr>\n",
       "      <th>0</th>\n",
       "      <td>g10001637-d10002227</td>\n",
       "      <td>Le 147</td>\n",
       "      <td>[\"Europe\", \"France\", \"Nouvelle-Aquitaine\", \"Ha...</td>\n",
       "      <td>France</td>\n",
       "      <td>Nouvelle-Aquitaine</td>\n",
       "      <td>Haute-Vienne</td>\n",
       "      <td>Saint-Jouvent</td>\n",
       "      <td>10 Maison Neuve, 87510 Saint-Jouvent France</td>\n",
       "      <td>45.961674</td>\n",
       "      <td>1.169131</td>\n",
       "      <td>Claimed</td>\n",
       "      <td>NaN</td>\n",
       "      <td>#1 of 2 Restaurants in Saint-Jouvent</td>\n",
       "      <td>#1 of 2 places to eat in Saint-Jouvent</td>\n",
       "      <td>Cheap Eats, French</td>\n",
       "      <td>€</td>\n",
       "      <td>NaN</td>\n",
       "      <td>Lunch, Dinner</td>\n",
       "      <td>French</td>\n",
       "      <td>NaN</td>\n",
       "      <td>Reservations, Seating, Wheelchair Accessible, ...</td>\n",
       "      <td>N</td>\n",
       "      <td>N</td>\n",
       "      <td>N</td>\n",
       "      <td>NaN</td>\n",
       "      <td>NaN</td>\n",
       "      <td>NaN</td>\n",
       "      <td>NaN</td>\n",
       "      <td>4.0</td>\n",
       "      <td>36.0</td>\n",
       "      <td>English</td>\n",
       "      <td>2.0</td>\n",
       "      <td>2.0</td>\n",
       "      <td>0.0</td>\n",
       "      <td>0.0</td>\n",
       "      <td>0.0</td>\n",
       "      <td>0.0</td>\n",
       "      <td>4.0</td>\n",
       "      <td>4.5</td>\n",
       "      <td>4.0</td>\n",
       "      <td>NaN</td>\n",
       "      <td>NaN</td>\n",
       "    </tr>\n",
       "    <tr>\n",
       "      <th>1</th>\n",
       "      <td>g10001637-d14975787</td>\n",
       "      <td>Le Saint Jouvent</td>\n",
       "      <td>[\"Europe\", \"France\", \"Nouvelle-Aquitaine\", \"Ha...</td>\n",
       "      <td>France</td>\n",
       "      <td>Nouvelle-Aquitaine</td>\n",
       "      <td>Haute-Vienne</td>\n",
       "      <td>Saint-Jouvent</td>\n",
       "      <td>16 Place de l Eglise, 87510 Saint-Jouvent France</td>\n",
       "      <td>45.957040</td>\n",
       "      <td>1.205480</td>\n",
       "      <td>Unclaimed</td>\n",
       "      <td>NaN</td>\n",
       "      <td>#2 of 2 Restaurants in Saint-Jouvent</td>\n",
       "      <td>#2 of 2 places to eat in Saint-Jouvent</td>\n",
       "      <td>Cheap Eats</td>\n",
       "      <td>€</td>\n",
       "      <td>NaN</td>\n",
       "      <td>NaN</td>\n",
       "      <td>NaN</td>\n",
       "      <td>NaN</td>\n",
       "      <td>NaN</td>\n",
       "      <td>N</td>\n",
       "      <td>N</td>\n",
       "      <td>N</td>\n",
       "      <td>NaN</td>\n",
       "      <td>NaN</td>\n",
       "      <td>NaN</td>\n",
       "      <td>NaN</td>\n",
       "      <td>4.0</td>\n",
       "      <td>5.0</td>\n",
       "      <td>All languages</td>\n",
       "      <td>5.0</td>\n",
       "      <td>2.0</td>\n",
       "      <td>2.0</td>\n",
       "      <td>1.0</td>\n",
       "      <td>0.0</td>\n",
       "      <td>0.0</td>\n",
       "      <td>NaN</td>\n",
       "      <td>NaN</td>\n",
       "      <td>NaN</td>\n",
       "      <td>NaN</td>\n",
       "      <td>NaN</td>\n",
       "    </tr>\n",
       "    <tr>\n",
       "      <th>2</th>\n",
       "      <td>g10002858-d4586832</td>\n",
       "      <td>Au Bout du Pont</td>\n",
       "      <td>[\"Europe\", \"France\", \"Centre-Val de Loire\", \"B...</td>\n",
       "      <td>France</td>\n",
       "      <td>Centre-Val de Loire</td>\n",
       "      <td>Berry</td>\n",
       "      <td>Rivarennes</td>\n",
       "      <td>2 rue des Dames, 36800 Rivarennes France</td>\n",
       "      <td>46.635895</td>\n",
       "      <td>1.386133</td>\n",
       "      <td>Claimed</td>\n",
       "      <td>NaN</td>\n",
       "      <td>#1 of 1 Restaurant in Rivarennes</td>\n",
       "      <td>#1 of 1 places to eat in Rivarennes</td>\n",
       "      <td>Cheap Eats, French, European</td>\n",
       "      <td>€</td>\n",
       "      <td>NaN</td>\n",
       "      <td>Dinner, Lunch, Drinks</td>\n",
       "      <td>French, European</td>\n",
       "      <td>NaN</td>\n",
       "      <td>Reservations, Seating, Table Service, Wheelcha...</td>\n",
       "      <td>N</td>\n",
       "      <td>N</td>\n",
       "      <td>N</td>\n",
       "      <td>NaN</td>\n",
       "      <td>NaN</td>\n",
       "      <td>NaN</td>\n",
       "      <td>NaN</td>\n",
       "      <td>5.0</td>\n",
       "      <td>13.0</td>\n",
       "      <td>English</td>\n",
       "      <td>4.0</td>\n",
       "      <td>3.0</td>\n",
       "      <td>1.0</td>\n",
       "      <td>0.0</td>\n",
       "      <td>0.0</td>\n",
       "      <td>0.0</td>\n",
       "      <td>NaN</td>\n",
       "      <td>NaN</td>\n",
       "      <td>NaN</td>\n",
       "      <td>NaN</td>\n",
       "      <td>NaN</td>\n",
       "    </tr>\n",
       "    <tr>\n",
       "      <th>3</th>\n",
       "      <td>g10002986-d3510044</td>\n",
       "      <td>Le Relais de Naiade</td>\n",
       "      <td>[\"Europe\", \"France\", \"Nouvelle-Aquitaine\", \"Co...</td>\n",
       "      <td>France</td>\n",
       "      <td>Nouvelle-Aquitaine</td>\n",
       "      <td>Correze</td>\n",
       "      <td>Lacelle</td>\n",
       "      <td>9 avenue Porte de la Correze 19170, 19170 Lace...</td>\n",
       "      <td>45.642610</td>\n",
       "      <td>1.824460</td>\n",
       "      <td>Claimed</td>\n",
       "      <td>NaN</td>\n",
       "      <td>#1 of 1 Restaurant in Lacelle</td>\n",
       "      <td>#1 of 1 places to eat in Lacelle</td>\n",
       "      <td>Cheap Eats, French</td>\n",
       "      <td>€</td>\n",
       "      <td>NaN</td>\n",
       "      <td>Lunch, Dinner</td>\n",
       "      <td>French</td>\n",
       "      <td>NaN</td>\n",
       "      <td>Reservations, Seating, Serves Alcohol, Table S...</td>\n",
       "      <td>N</td>\n",
       "      <td>N</td>\n",
       "      <td>N</td>\n",
       "      <td>NaN</td>\n",
       "      <td>NaN</td>\n",
       "      <td>NaN</td>\n",
       "      <td>NaN</td>\n",
       "      <td>4.0</td>\n",
       "      <td>34.0</td>\n",
       "      <td>English</td>\n",
       "      <td>1.0</td>\n",
       "      <td>1.0</td>\n",
       "      <td>0.0</td>\n",
       "      <td>0.0</td>\n",
       "      <td>0.0</td>\n",
       "      <td>0.0</td>\n",
       "      <td>4.5</td>\n",
       "      <td>4.5</td>\n",
       "      <td>4.5</td>\n",
       "      <td>NaN</td>\n",
       "      <td>NaN</td>\n",
       "    </tr>\n",
       "    <tr>\n",
       "      <th>4</th>\n",
       "      <td>g10022428-d9767191</td>\n",
       "      <td>Relais Du MontSeigne</td>\n",
       "      <td>[\"Europe\", \"France\", \"Occitanie\", \"Aveyron\", \"...</td>\n",
       "      <td>France</td>\n",
       "      <td>Occitanie</td>\n",
       "      <td>Aveyron</td>\n",
       "      <td>Saint-Laurent-de-Levezou</td>\n",
       "      <td>route du Montseigne, 12620 Saint-Laurent-de-Le...</td>\n",
       "      <td>44.208860</td>\n",
       "      <td>2.960470</td>\n",
       "      <td>Unclaimed</td>\n",
       "      <td>NaN</td>\n",
       "      <td>#1 of 1 Restaurant in Saint-Laurent-de-Levezou</td>\n",
       "      <td>#1 of 1 places to eat in Saint-Laurent-de-Levezou</td>\n",
       "      <td>Mid-range, French</td>\n",
       "      <td>€€-€€€</td>\n",
       "      <td>NaN</td>\n",
       "      <td>Lunch, Dinner</td>\n",
       "      <td>French</td>\n",
       "      <td>NaN</td>\n",
       "      <td>Reservations, Seating, Wheelchair Accessible, ...</td>\n",
       "      <td>N</td>\n",
       "      <td>N</td>\n",
       "      <td>N</td>\n",
       "      <td>NaN</td>\n",
       "      <td>NaN</td>\n",
       "      <td>NaN</td>\n",
       "      <td>NaN</td>\n",
       "      <td>4.5</td>\n",
       "      <td>11.0</td>\n",
       "      <td>All languages</td>\n",
       "      <td>11.0</td>\n",
       "      <td>4.0</td>\n",
       "      <td>7.0</td>\n",
       "      <td>0.0</td>\n",
       "      <td>0.0</td>\n",
       "      <td>0.0</td>\n",
       "      <td>4.5</td>\n",
       "      <td>4.5</td>\n",
       "      <td>4.5</td>\n",
       "      <td>NaN</td>\n",
       "      <td>NaN</td>\n",
       "    </tr>\n",
       "  </tbody>\n",
       "</table>\n",
       "</div>"
      ],
      "text/plain": [
       "       restaurant_link       restaurant_name  \\\n",
       "0  g10001637-d10002227                Le 147   \n",
       "1  g10001637-d14975787      Le Saint Jouvent   \n",
       "2   g10002858-d4586832       Au Bout du Pont   \n",
       "3   g10002986-d3510044   Le Relais de Naiade   \n",
       "4   g10022428-d9767191  Relais Du MontSeigne   \n",
       "\n",
       "                                   original_location country  \\\n",
       "0  [\"Europe\", \"France\", \"Nouvelle-Aquitaine\", \"Ha...  France   \n",
       "1  [\"Europe\", \"France\", \"Nouvelle-Aquitaine\", \"Ha...  France   \n",
       "2  [\"Europe\", \"France\", \"Centre-Val de Loire\", \"B...  France   \n",
       "3  [\"Europe\", \"France\", \"Nouvelle-Aquitaine\", \"Co...  France   \n",
       "4  [\"Europe\", \"France\", \"Occitanie\", \"Aveyron\", \"...  France   \n",
       "\n",
       "                region      province                      city  \\\n",
       "0   Nouvelle-Aquitaine  Haute-Vienne             Saint-Jouvent   \n",
       "1   Nouvelle-Aquitaine  Haute-Vienne             Saint-Jouvent   \n",
       "2  Centre-Val de Loire         Berry                Rivarennes   \n",
       "3   Nouvelle-Aquitaine       Correze                   Lacelle   \n",
       "4            Occitanie       Aveyron  Saint-Laurent-de-Levezou   \n",
       "\n",
       "                                             address   latitude  longitude  \\\n",
       "0        10 Maison Neuve, 87510 Saint-Jouvent France  45.961674   1.169131   \n",
       "1   16 Place de l Eglise, 87510 Saint-Jouvent France  45.957040   1.205480   \n",
       "2           2 rue des Dames, 36800 Rivarennes France  46.635895   1.386133   \n",
       "3  9 avenue Porte de la Correze 19170, 19170 Lace...  45.642610   1.824460   \n",
       "4  route du Montseigne, 12620 Saint-Laurent-de-Le...  44.208860   2.960470   \n",
       "\n",
       "     claimed awards                             popularity_detailed  \\\n",
       "0    Claimed    NaN            #1 of 2 Restaurants in Saint-Jouvent   \n",
       "1  Unclaimed    NaN            #2 of 2 Restaurants in Saint-Jouvent   \n",
       "2    Claimed    NaN                #1 of 1 Restaurant in Rivarennes   \n",
       "3    Claimed    NaN                   #1 of 1 Restaurant in Lacelle   \n",
       "4  Unclaimed    NaN  #1 of 1 Restaurant in Saint-Laurent-de-Levezou   \n",
       "\n",
       "                                  popularity_generic  \\\n",
       "0             #1 of 2 places to eat in Saint-Jouvent   \n",
       "1             #2 of 2 places to eat in Saint-Jouvent   \n",
       "2                #1 of 1 places to eat in Rivarennes   \n",
       "3                   #1 of 1 places to eat in Lacelle   \n",
       "4  #1 of 1 places to eat in Saint-Laurent-de-Levezou   \n",
       "\n",
       "                       top_tags price_level price_range  \\\n",
       "0            Cheap Eats, French           €         NaN   \n",
       "1                    Cheap Eats           €         NaN   \n",
       "2  Cheap Eats, French, European           €         NaN   \n",
       "3            Cheap Eats, French           €         NaN   \n",
       "4             Mid-range, French      €€-€€€         NaN   \n",
       "\n",
       "                   meals          cuisines special_diets  \\\n",
       "0          Lunch, Dinner            French           NaN   \n",
       "1                    NaN               NaN           NaN   \n",
       "2  Dinner, Lunch, Drinks  French, European           NaN   \n",
       "3          Lunch, Dinner            French           NaN   \n",
       "4          Lunch, Dinner            French           NaN   \n",
       "\n",
       "                                            features vegetarian_friendly  \\\n",
       "0  Reservations, Seating, Wheelchair Accessible, ...                   N   \n",
       "1                                                NaN                   N   \n",
       "2  Reservations, Seating, Table Service, Wheelcha...                   N   \n",
       "3  Reservations, Seating, Serves Alcohol, Table S...                   N   \n",
       "4  Reservations, Seating, Wheelchair Accessible, ...                   N   \n",
       "\n",
       "  vegan_options gluten_free original_open_hours  open_days_per_week  \\\n",
       "0             N           N                 NaN                 NaN   \n",
       "1             N           N                 NaN                 NaN   \n",
       "2             N           N                 NaN                 NaN   \n",
       "3             N           N                 NaN                 NaN   \n",
       "4             N           N                 NaN                 NaN   \n",
       "\n",
       "   open_hours_per_week  working_shifts_per_week  avg_rating  \\\n",
       "0                  NaN                      NaN         4.0   \n",
       "1                  NaN                      NaN         4.0   \n",
       "2                  NaN                      NaN         5.0   \n",
       "3                  NaN                      NaN         4.0   \n",
       "4                  NaN                      NaN         4.5   \n",
       "\n",
       "   total_reviews_count default_language  reviews_count_in_default_language  \\\n",
       "0                 36.0          English                                2.0   \n",
       "1                  5.0    All languages                                5.0   \n",
       "2                 13.0          English                                4.0   \n",
       "3                 34.0          English                                1.0   \n",
       "4                 11.0    All languages                               11.0   \n",
       "\n",
       "   excellent  very_good  average  poor  terrible  food  service  value  \\\n",
       "0        2.0        0.0      0.0   0.0       0.0   4.0      4.5    4.0   \n",
       "1        2.0        2.0      1.0   0.0       0.0   NaN      NaN    NaN   \n",
       "2        3.0        1.0      0.0   0.0       0.0   NaN      NaN    NaN   \n",
       "3        1.0        0.0      0.0   0.0       0.0   4.5      4.5    4.5   \n",
       "4        4.0        7.0      0.0   0.0       0.0   4.5      4.5    4.5   \n",
       "\n",
       "   atmosphere keywords  \n",
       "0         NaN      NaN  \n",
       "1         NaN      NaN  \n",
       "2         NaN      NaN  \n",
       "3         NaN      NaN  \n",
       "4         NaN      NaN  "
      ]
     },
     "execution_count": 3,
     "metadata": {},
     "output_type": "execute_result"
    }
   ],
   "source": [
    "df = pd.read_csv('./DATA/tripadvisor_european_restaurants.csv')\n",
    "df.head()"
   ]
  },
  {
   "cell_type": "code",
   "execution_count": 4,
   "metadata": {},
   "outputs": [
    {
     "data": {
      "text/plain": [
       "(1083397, 42)"
      ]
     },
     "execution_count": 4,
     "metadata": {},
     "output_type": "execute_result"
    }
   ],
   "source": [
    "df.shape"
   ]
  },
  {
   "cell_type": "code",
   "execution_count": 5,
   "metadata": {},
   "outputs": [
    {
     "data": {
      "text/plain": [
       "4.0    99726\n",
       "4.5    69508\n",
       "3.5    56092\n",
       "3.0    20329\n",
       "5.0     8686\n",
       "2.5     5439\n",
       "2.0     1554\n",
       "1.5      387\n",
       "1.0       64\n",
       "Name: atmosphere, dtype: int64"
      ]
     },
     "execution_count": 5,
     "metadata": {},
     "output_type": "execute_result"
    }
   ],
   "source": [
    "df.atmosphere.value_counts()"
   ]
  },
  {
   "cell_type": "markdown",
   "metadata": {},
   "source": [
    "## % de nulos"
   ]
  },
  {
   "cell_type": "markdown",
   "metadata": {},
   "source": [
    "<H4> COLUMNS </H4>"
   ]
  },
  {
   "cell_type": "code",
   "execution_count": 4,
   "metadata": {},
   "outputs": [
    {
     "data": {
      "text/plain": [
       "526351    0.738095\n",
       "521199    0.738095\n",
       "525716    0.738095\n",
       "526346    0.738095\n",
       "521187    0.738095\n",
       "dtype: float64"
      ]
     },
     "execution_count": 4,
     "metadata": {},
     "output_type": "execute_result"
    }
   ],
   "source": [
    "porcentageROW(df).head()  #en realidad son FILAS"
   ]
  },
  {
   "cell_type": "markdown",
   "metadata": {},
   "source": [
    "<H4> ROWS </H4>"
   ]
  },
  {
   "cell_type": "code",
   "execution_count": 5,
   "metadata": {},
   "outputs": [
    {
     "data": {
      "text/plain": [
       "keywords                             0.908438\n",
       "atmosphere                           0.758367\n",
       "awards                               0.757122\n",
       "price_range                          0.719099\n",
       "features                             0.707026\n",
       "special_diets                        0.685936\n",
       "working_shifts_per_week              0.451880\n",
       "open_hours_per_week                  0.451880\n",
       "open_days_per_week                   0.451880\n",
       "original_open_hours                  0.451880\n",
       "food                                 0.446809\n",
       "value                                0.443702\n",
       "service                              0.442229\n",
       "meals                                0.413560\n",
       "city                                 0.369841\n",
       "province                             0.314411\n",
       "price_level                          0.255867\n",
       "cuisines                             0.156086\n",
       "top_tags                             0.102118\n",
       "popularity_generic                   0.090264\n",
       "avg_rating                           0.089197\n",
       "excellent                            0.087865\n",
       "reviews_count_in_default_language    0.087865\n",
       "default_language                     0.087865\n",
       "very_good                            0.087865\n",
       "poor                                 0.087865\n",
       "terrible                             0.087865\n",
       "average                              0.087865\n",
       "popularity_detailed                  0.087676\n",
       "total_reviews_count                  0.048214\n",
       "region                               0.046449\n",
       "longitude                            0.014575\n",
       "latitude                             0.014575\n",
       "claimed                              0.001700\n",
       "restaurant_link                      0.000000\n",
       "gluten_free                          0.000000\n",
       "vegan_options                        0.000000\n",
       "restaurant_name                      0.000000\n",
       "address                              0.000000\n",
       "country                              0.000000\n",
       "original_location                    0.000000\n",
       "vegetarian_friendly                  0.000000\n",
       "dtype: float64"
      ]
     },
     "execution_count": 5,
     "metadata": {},
     "output_type": "execute_result"
    }
   ],
   "source": [
    "porcentageROW(df)  #en realidad son COLUMNAS"
   ]
  },
  {
   "cell_type": "markdown",
   "metadata": {},
   "source": [
    "## Delete Nulls"
   ]
  },
  {
   "cell_type": "code",
   "execution_count": 6,
   "metadata": {},
   "outputs": [
    {
     "data": {
      "text/plain": [
       "(1083397, 42)"
      ]
     },
     "execution_count": 6,
     "metadata": {},
     "output_type": "execute_result"
    }
   ],
   "source": [
    "df1 = df.dropna(axis=0, how='all')\n",
    "df1 = df.dropna(axis=1, how='all')\n",
    "df1.shape   #No tenemos ninguna fila ni columnas vacia (NaN)"
   ]
  },
  {
   "cell_type": "code",
   "execution_count": 7,
   "metadata": {},
   "outputs": [
    {
     "data": {
      "text/plain": [
       "array(['France', 'The Netherlands', 'Germany', 'Austria', 'Spain',\n",
       "       'England', 'Northern Ireland', 'Scotland', 'Wales', 'Italy',\n",
       "       'Ireland', 'Poland', 'Sweden', 'Belgium', 'Greece', 'Croatia',\n",
       "       'Portugal', 'Slovakia', 'Czech Republic', 'Hungary', 'Finland',\n",
       "       'Denmark', 'Bulgaria', 'Romania'], dtype=object)"
      ]
     },
     "execution_count": 7,
     "metadata": {},
     "output_type": "execute_result"
    }
   ],
   "source": [
    "df.country.unique()   #SPAIN is here"
   ]
  },
  {
   "cell_type": "code",
   "execution_count": 8,
   "metadata": {},
   "outputs": [
    {
     "data": {
      "text/plain": [
       "0    g10001637-d10002227\n",
       "1    g10001637-d14975787\n",
       "2     g10002858-d4586832\n",
       "Name: restaurant_link, dtype: object"
      ]
     },
     "execution_count": 8,
     "metadata": {},
     "output_type": "execute_result"
    }
   ],
   "source": [
    "df.restaurant_link[:3]"
   ]
  },
  {
   "cell_type": "code",
   "execution_count": null,
   "metadata": {},
   "outputs": [],
   "source": [
    "1+1"
   ]
  },
  {
   "cell_type": "markdown",
   "metadata": {},
   "source": [
    "# Data Tripadvisor SPAIN 🥘"
   ]
  },
  {
   "cell_type": "code",
   "execution_count": 4,
   "metadata": {},
   "outputs": [
    {
     "data": {
      "text/html": [
       "<div>\n",
       "<style scoped>\n",
       "    .dataframe tbody tr th:only-of-type {\n",
       "        vertical-align: middle;\n",
       "    }\n",
       "\n",
       "    .dataframe tbody tr th {\n",
       "        vertical-align: top;\n",
       "    }\n",
       "\n",
       "    .dataframe thead th {\n",
       "        text-align: right;\n",
       "    }\n",
       "</style>\n",
       "<table border=\"1\" class=\"dataframe\">\n",
       "  <thead>\n",
       "    <tr style=\"text-align: right;\">\n",
       "      <th></th>\n",
       "      <th>restaurant_link</th>\n",
       "      <th>restaurant_name</th>\n",
       "      <th>original_location</th>\n",
       "      <th>country</th>\n",
       "      <th>region</th>\n",
       "      <th>province</th>\n",
       "      <th>city</th>\n",
       "      <th>address</th>\n",
       "      <th>latitude</th>\n",
       "      <th>longitude</th>\n",
       "      <th>claimed</th>\n",
       "      <th>awards</th>\n",
       "      <th>popularity_detailed</th>\n",
       "      <th>popularity_generic</th>\n",
       "      <th>top_tags</th>\n",
       "      <th>price_level</th>\n",
       "      <th>price_range</th>\n",
       "      <th>meals</th>\n",
       "      <th>cuisines</th>\n",
       "      <th>special_diets</th>\n",
       "      <th>features</th>\n",
       "      <th>vegetarian_friendly</th>\n",
       "      <th>vegan_options</th>\n",
       "      <th>gluten_free</th>\n",
       "      <th>original_open_hours</th>\n",
       "      <th>open_days_per_week</th>\n",
       "      <th>open_hours_per_week</th>\n",
       "      <th>working_shifts_per_week</th>\n",
       "      <th>avg_rating</th>\n",
       "      <th>total_reviews_count</th>\n",
       "      <th>default_language</th>\n",
       "      <th>reviews_count_in_default_language</th>\n",
       "      <th>excellent</th>\n",
       "      <th>very_good</th>\n",
       "      <th>average</th>\n",
       "      <th>poor</th>\n",
       "      <th>terrible</th>\n",
       "      <th>food</th>\n",
       "      <th>service</th>\n",
       "      <th>value</th>\n",
       "      <th>atmosphere</th>\n",
       "      <th>keywords</th>\n",
       "    </tr>\n",
       "  </thead>\n",
       "  <tbody>\n",
       "    <tr>\n",
       "      <th>320900</th>\n",
       "      <td>g10021880-d13763192</td>\n",
       "      <td>Taberna La Sacristia</td>\n",
       "      <td>[\"Europe\", \"Spain\", \"Andalucia\", \"Province of ...</td>\n",
       "      <td>Spain</td>\n",
       "      <td>Andalucia</td>\n",
       "      <td>Province of Seville</td>\n",
       "      <td>NaN</td>\n",
       "      <td>Calle del Concejo 19, 41870 Aznalcollar Spain</td>\n",
       "      <td>37.51928</td>\n",
       "      <td>-6.26885</td>\n",
       "      <td>Unclaimed</td>\n",
       "      <td>NaN</td>\n",
       "      <td>#4 of 5 Restaurants in Aznalcollar</td>\n",
       "      <td>#4 of 6 places to eat in Aznalcollar</td>\n",
       "      <td>Spanish</td>\n",
       "      <td>NaN</td>\n",
       "      <td>NaN</td>\n",
       "      <td>NaN</td>\n",
       "      <td>Spanish</td>\n",
       "      <td>NaN</td>\n",
       "      <td>NaN</td>\n",
       "      <td>N</td>\n",
       "      <td>N</td>\n",
       "      <td>N</td>\n",
       "      <td>NaN</td>\n",
       "      <td>NaN</td>\n",
       "      <td>NaN</td>\n",
       "      <td>NaN</td>\n",
       "      <td>3.0</td>\n",
       "      <td>1.0</td>\n",
       "      <td>English</td>\n",
       "      <td>1.0</td>\n",
       "      <td>0.0</td>\n",
       "      <td>0.0</td>\n",
       "      <td>1.0</td>\n",
       "      <td>0.0</td>\n",
       "      <td>0.0</td>\n",
       "      <td>NaN</td>\n",
       "      <td>NaN</td>\n",
       "      <td>NaN</td>\n",
       "      <td>NaN</td>\n",
       "      <td>NaN</td>\n",
       "    </tr>\n",
       "    <tr>\n",
       "      <th>320901</th>\n",
       "      <td>g10021880-d15758746</td>\n",
       "      <td>Tasca el Capricho</td>\n",
       "      <td>[\"Europe\", \"Spain\", \"Andalucia\", \"Province of ...</td>\n",
       "      <td>Spain</td>\n",
       "      <td>Andalucia</td>\n",
       "      <td>Province of Seville</td>\n",
       "      <td>NaN</td>\n",
       "      <td>Calle del 28 de Febrero 9, 41870 Aznalcollar S...</td>\n",
       "      <td>37.52065</td>\n",
       "      <td>-6.26822</td>\n",
       "      <td>Unclaimed</td>\n",
       "      <td>NaN</td>\n",
       "      <td>#3 of 5 Restaurants in Aznalcollar</td>\n",
       "      <td>#3 of 6 places to eat in Aznalcollar</td>\n",
       "      <td>Spanish</td>\n",
       "      <td>NaN</td>\n",
       "      <td>NaN</td>\n",
       "      <td>NaN</td>\n",
       "      <td>Spanish</td>\n",
       "      <td>NaN</td>\n",
       "      <td>NaN</td>\n",
       "      <td>N</td>\n",
       "      <td>N</td>\n",
       "      <td>N</td>\n",
       "      <td>NaN</td>\n",
       "      <td>NaN</td>\n",
       "      <td>NaN</td>\n",
       "      <td>NaN</td>\n",
       "      <td>5.0</td>\n",
       "      <td>2.0</td>\n",
       "      <td>All languages</td>\n",
       "      <td>2.0</td>\n",
       "      <td>2.0</td>\n",
       "      <td>0.0</td>\n",
       "      <td>0.0</td>\n",
       "      <td>0.0</td>\n",
       "      <td>0.0</td>\n",
       "      <td>NaN</td>\n",
       "      <td>NaN</td>\n",
       "      <td>NaN</td>\n",
       "      <td>NaN</td>\n",
       "      <td>NaN</td>\n",
       "    </tr>\n",
       "    <tr>\n",
       "      <th>320902</th>\n",
       "      <td>g10021880-d19332558</td>\n",
       "      <td>Bar Las Adelfas</td>\n",
       "      <td>[\"Europe\", \"Spain\", \"Andalucia\", \"Province of ...</td>\n",
       "      <td>Spain</td>\n",
       "      <td>Andalucia</td>\n",
       "      <td>Province of Seville</td>\n",
       "      <td>NaN</td>\n",
       "      <td>Calle Perdon N° 23 Capilla de La Cruz, 41870 A...</td>\n",
       "      <td>37.52428</td>\n",
       "      <td>-6.27144</td>\n",
       "      <td>Claimed</td>\n",
       "      <td>NaN</td>\n",
       "      <td>#5 of 5 Restaurants in Aznalcollar</td>\n",
       "      <td>#5 of 6 places to eat in Aznalcollar</td>\n",
       "      <td>Mediterranean, Spanish, Grill, Diner</td>\n",
       "      <td>NaN</td>\n",
       "      <td>NaN</td>\n",
       "      <td>Breakfast, Lunch, Dinner, Brunch, Drinks</td>\n",
       "      <td>Mediterranean, Spanish, Grill, Diner, Dining bars</td>\n",
       "      <td>NaN</td>\n",
       "      <td>NaN</td>\n",
       "      <td>N</td>\n",
       "      <td>N</td>\n",
       "      <td>N</td>\n",
       "      <td>{\"Mon\": [], \"Tue\": [\"19:30-23:45\"], \"Wed\": [\"1...</td>\n",
       "      <td>6.0</td>\n",
       "      <td>51.0</td>\n",
       "      <td>6.0</td>\n",
       "      <td>3.0</td>\n",
       "      <td>2.0</td>\n",
       "      <td>All languages</td>\n",
       "      <td>2.0</td>\n",
       "      <td>1.0</td>\n",
       "      <td>0.0</td>\n",
       "      <td>0.0</td>\n",
       "      <td>0.0</td>\n",
       "      <td>1.0</td>\n",
       "      <td>NaN</td>\n",
       "      <td>NaN</td>\n",
       "      <td>NaN</td>\n",
       "      <td>NaN</td>\n",
       "      <td>NaN</td>\n",
       "    </tr>\n",
       "  </tbody>\n",
       "</table>\n",
       "</div>"
      ],
      "text/plain": [
       "            restaurant_link       restaurant_name  \\\n",
       "320900  g10021880-d13763192  Taberna La Sacristia   \n",
       "320901  g10021880-d15758746     Tasca el Capricho   \n",
       "320902  g10021880-d19332558       Bar Las Adelfas   \n",
       "\n",
       "                                        original_location country     region  \\\n",
       "320900  [\"Europe\", \"Spain\", \"Andalucia\", \"Province of ...   Spain  Andalucia   \n",
       "320901  [\"Europe\", \"Spain\", \"Andalucia\", \"Province of ...   Spain  Andalucia   \n",
       "320902  [\"Europe\", \"Spain\", \"Andalucia\", \"Province of ...   Spain  Andalucia   \n",
       "\n",
       "                   province city  \\\n",
       "320900  Province of Seville  NaN   \n",
       "320901  Province of Seville  NaN   \n",
       "320902  Province of Seville  NaN   \n",
       "\n",
       "                                                  address  latitude  \\\n",
       "320900      Calle del Concejo 19, 41870 Aznalcollar Spain  37.51928   \n",
       "320901  Calle del 28 de Febrero 9, 41870 Aznalcollar S...  37.52065   \n",
       "320902  Calle Perdon N° 23 Capilla de La Cruz, 41870 A...  37.52428   \n",
       "\n",
       "        longitude    claimed awards                 popularity_detailed  \\\n",
       "320900   -6.26885  Unclaimed    NaN  #4 of 5 Restaurants in Aznalcollar   \n",
       "320901   -6.26822  Unclaimed    NaN  #3 of 5 Restaurants in Aznalcollar   \n",
       "320902   -6.27144    Claimed    NaN  #5 of 5 Restaurants in Aznalcollar   \n",
       "\n",
       "                          popularity_generic  \\\n",
       "320900  #4 of 6 places to eat in Aznalcollar   \n",
       "320901  #3 of 6 places to eat in Aznalcollar   \n",
       "320902  #5 of 6 places to eat in Aznalcollar   \n",
       "\n",
       "                                    top_tags price_level price_range  \\\n",
       "320900                               Spanish         NaN         NaN   \n",
       "320901                               Spanish         NaN         NaN   \n",
       "320902  Mediterranean, Spanish, Grill, Diner         NaN         NaN   \n",
       "\n",
       "                                           meals  \\\n",
       "320900                                       NaN   \n",
       "320901                                       NaN   \n",
       "320902  Breakfast, Lunch, Dinner, Brunch, Drinks   \n",
       "\n",
       "                                                 cuisines special_diets  \\\n",
       "320900                                            Spanish           NaN   \n",
       "320901                                            Spanish           NaN   \n",
       "320902  Mediterranean, Spanish, Grill, Diner, Dining bars           NaN   \n",
       "\n",
       "       features vegetarian_friendly vegan_options gluten_free  \\\n",
       "320900      NaN                   N             N           N   \n",
       "320901      NaN                   N             N           N   \n",
       "320902      NaN                   N             N           N   \n",
       "\n",
       "                                      original_open_hours  open_days_per_week  \\\n",
       "320900                                                NaN                 NaN   \n",
       "320901                                                NaN                 NaN   \n",
       "320902  {\"Mon\": [], \"Tue\": [\"19:30-23:45\"], \"Wed\": [\"1...                 6.0   \n",
       "\n",
       "        open_hours_per_week  working_shifts_per_week  avg_rating  \\\n",
       "320900                  NaN                      NaN         3.0   \n",
       "320901                  NaN                      NaN         5.0   \n",
       "320902                 51.0                      6.0         3.0   \n",
       "\n",
       "        total_reviews_count default_language  \\\n",
       "320900                  1.0          English   \n",
       "320901                  2.0    All languages   \n",
       "320902                  2.0    All languages   \n",
       "\n",
       "        reviews_count_in_default_language  excellent  very_good  average  \\\n",
       "320900                                1.0        0.0        0.0      1.0   \n",
       "320901                                2.0        2.0        0.0      0.0   \n",
       "320902                                2.0        1.0        0.0      0.0   \n",
       "\n",
       "        poor  terrible  food  service  value  atmosphere keywords  \n",
       "320900   0.0       0.0   NaN      NaN    NaN         NaN      NaN  \n",
       "320901   0.0       0.0   NaN      NaN    NaN         NaN      NaN  \n",
       "320902   0.0       1.0   NaN      NaN    NaN         NaN      NaN  "
      ]
     },
     "execution_count": 4,
     "metadata": {},
     "output_type": "execute_result"
    }
   ],
   "source": [
    "df1 = df[(df.country == 'Spain')]\n",
    "df1.head(3)"
   ]
  },
  {
   "cell_type": "code",
   "execution_count": 5,
   "metadata": {},
   "outputs": [
    {
     "data": {
      "text/plain": [
       "((157479, 42), (1083397, 42))"
      ]
     },
     "execution_count": 5,
     "metadata": {},
     "output_type": "execute_result"
    }
   ],
   "source": [
    "#Spain           #EU\n",
    "df1.shape    ,  df.shape"
   ]
  },
  {
   "cell_type": "code",
   "execution_count": 6,
   "metadata": {
    "scrolled": false
   },
   "outputs": [
    {
     "data": {
      "text/plain": [
       "keywords                             0.942786\n",
       "atmosphere                           0.799999\n",
       "awards                               0.772224\n",
       "special_diets                        0.732942\n",
       "price_range                          0.693216\n",
       "features                             0.676681\n",
       "city                                 0.653319\n",
       "working_shifts_per_week              0.519110\n",
       "open_hours_per_week                  0.519110\n",
       "open_days_per_week                   0.519110\n",
       "original_open_hours                  0.519110\n",
       "food                                 0.486687\n",
       "value                                0.483906\n",
       "service                              0.482350\n",
       "meals                                0.449362\n",
       "price_level                          0.258263\n",
       "province                             0.187771\n",
       "cuisines                             0.142965\n",
       "top_tags                             0.099270\n",
       "popularity_generic                   0.094247\n",
       "avg_rating                           0.094051\n",
       "popularity_detailed                  0.092082\n",
       "excellent                            0.092019\n",
       "reviews_count_in_default_language    0.092019\n",
       "default_language                     0.092019\n",
       "very_good                            0.092019\n",
       "poor                                 0.092019\n",
       "terrible                             0.092019\n",
       "average                              0.092019\n",
       "total_reviews_count                  0.056312\n",
       "latitude                             0.015005\n",
       "longitude                            0.015005\n",
       "claimed                              0.001816\n",
       "region                               0.000013\n",
       "restaurant_link                      0.000000\n",
       "gluten_free                          0.000000\n",
       "vegan_options                        0.000000\n",
       "restaurant_name                      0.000000\n",
       "address                              0.000000\n",
       "country                              0.000000\n",
       "original_location                    0.000000\n",
       "vegetarian_friendly                  0.000000\n",
       "dtype: float64"
      ]
     },
     "execution_count": 6,
     "metadata": {},
     "output_type": "execute_result"
    }
   ],
   "source": [
    "porcentageCOL(df1)  #DELETE COLS > 70% de Nulls awards, keywords, atmosphere  "
   ]
  },
  {
   "cell_type": "markdown",
   "metadata": {},
   "source": [
    "**DROP COLUMN**"
   ]
  },
  {
   "cell_type": "code",
   "execution_count": 7,
   "metadata": {},
   "outputs": [],
   "source": [
    "descartar =['popularity_detailed', 'popularity_generic', \n",
    "            'price_level', 'reviews_count_in_default_language']\n",
    "\n",
    "df1 = df1.drop(axis=1, columns=descartar)"
   ]
  },
  {
   "cell_type": "markdown",
   "metadata": {},
   "source": [
    "## CHECKING  NULLS & FILLNA  🧐"
   ]
  },
  {
   "cell_type": "code",
   "execution_count": 8,
   "metadata": {},
   "outputs": [
    {
     "data": {
      "text/plain": [
       "(157479, 38)"
      ]
     },
     "execution_count": 8,
     "metadata": {},
     "output_type": "execute_result"
    }
   ],
   "source": [
    "df1.shape"
   ]
  },
  {
   "cell_type": "code",
   "execution_count": 9,
   "metadata": {},
   "outputs": [
    {
     "data": {
      "text/plain": [
       "30"
      ]
     },
     "execution_count": 9,
     "metadata": {},
     "output_type": "execute_result"
    }
   ],
   "source": [
    "(porcentageCOL(df1) > 0).sum()  #30 columnas tienen algún NaN - 30 columnas a analizar y LIMPIAR"
   ]
  },
  {
   "cell_type": "code",
   "execution_count": null,
   "metadata": {},
   "outputs": [],
   "source": []
  },
  {
   "cell_type": "markdown",
   "metadata": {},
   "source": [
    "**COL REGION 🗺**"
   ]
  },
  {
   "cell_type": "code",
   "execution_count": 10,
   "metadata": {},
   "outputs": [
    {
     "data": {
      "text/plain": [
       "Andalucia              29562\n",
       "Catalonia              28569\n",
       "Valencian Country      18406\n",
       "Community of Madrid    18130\n",
       "Canary Islands         12039\n",
       "Balearic Islands        9190\n",
       "Galicia                 8082\n",
       "Castile and Leon        6842\n",
       "Basque Country          5226\n",
       "Castile-La Mancha       3793\n",
       "Asturias                3659\n",
       "Aragon                  3523\n",
       "Region of Murcia        3443\n",
       "Cantabria               2286\n",
       "Extremadura             1963\n",
       "Navarra                 1378\n",
       "La Rioja                 901\n",
       "Melilla                  365\n",
       "Ceuta                    120\n",
       "NaN                        2\n",
       "Name: region, dtype: int64"
      ]
     },
     "execution_count": 10,
     "metadata": {},
     "output_type": "execute_result"
    }
   ],
   "source": [
    "df1.region.value_counts(dropna=False)  #2 NaN"
   ]
  },
  {
   "cell_type": "code",
   "execution_count": 11,
   "metadata": {
    "scrolled": true
   },
   "outputs": [],
   "source": [
    "df1.region = df1.region.fillna(0)  # asigno a los NaN el valor '0', para identificarlos "
   ]
  },
  {
   "cell_type": "code",
   "execution_count": 12,
   "metadata": {},
   "outputs": [
    {
     "data": {
      "text/html": [
       "<div>\n",
       "<style scoped>\n",
       "    .dataframe tbody tr th:only-of-type {\n",
       "        vertical-align: middle;\n",
       "    }\n",
       "\n",
       "    .dataframe tbody tr th {\n",
       "        vertical-align: top;\n",
       "    }\n",
       "\n",
       "    .dataframe thead th {\n",
       "        text-align: right;\n",
       "    }\n",
       "</style>\n",
       "<table border=\"1\" class=\"dataframe\">\n",
       "  <thead>\n",
       "    <tr style=\"text-align: right;\">\n",
       "      <th></th>\n",
       "      <th>restaurant_link</th>\n",
       "      <th>restaurant_name</th>\n",
       "      <th>original_location</th>\n",
       "      <th>country</th>\n",
       "      <th>region</th>\n",
       "      <th>province</th>\n",
       "      <th>city</th>\n",
       "      <th>address</th>\n",
       "      <th>latitude</th>\n",
       "      <th>longitude</th>\n",
       "      <th>claimed</th>\n",
       "      <th>awards</th>\n",
       "      <th>top_tags</th>\n",
       "      <th>price_range</th>\n",
       "      <th>meals</th>\n",
       "      <th>cuisines</th>\n",
       "      <th>special_diets</th>\n",
       "      <th>features</th>\n",
       "      <th>vegetarian_friendly</th>\n",
       "      <th>vegan_options</th>\n",
       "      <th>gluten_free</th>\n",
       "      <th>original_open_hours</th>\n",
       "      <th>open_days_per_week</th>\n",
       "      <th>open_hours_per_week</th>\n",
       "      <th>working_shifts_per_week</th>\n",
       "      <th>avg_rating</th>\n",
       "      <th>total_reviews_count</th>\n",
       "      <th>default_language</th>\n",
       "      <th>excellent</th>\n",
       "      <th>very_good</th>\n",
       "      <th>average</th>\n",
       "      <th>poor</th>\n",
       "      <th>terrible</th>\n",
       "      <th>food</th>\n",
       "      <th>service</th>\n",
       "      <th>value</th>\n",
       "      <th>atmosphere</th>\n",
       "      <th>keywords</th>\n",
       "    </tr>\n",
       "  </thead>\n",
       "  <tbody>\n",
       "    <tr>\n",
       "      <th>354203</th>\n",
       "      <td>g187427-d21293370</td>\n",
       "      <td>Café Bar Los Luises</td>\n",
       "      <td>[\"Europe\", \"Spain\"]</td>\n",
       "      <td>Spain</td>\n",
       "      <td>0</td>\n",
       "      <td>NaN</td>\n",
       "      <td>NaN</td>\n",
       "      <td>Calle Antonio Andres Gonzalez, 17, 04431 Spain</td>\n",
       "      <td>40.41070</td>\n",
       "      <td>-3.727419</td>\n",
       "      <td>Unclaimed</td>\n",
       "      <td>NaN</td>\n",
       "      <td>Spanish</td>\n",
       "      <td>NaN</td>\n",
       "      <td>NaN</td>\n",
       "      <td>Spanish</td>\n",
       "      <td>NaN</td>\n",
       "      <td>NaN</td>\n",
       "      <td>N</td>\n",
       "      <td>N</td>\n",
       "      <td>N</td>\n",
       "      <td>NaN</td>\n",
       "      <td>NaN</td>\n",
       "      <td>NaN</td>\n",
       "      <td>NaN</td>\n",
       "      <td>4.0</td>\n",
       "      <td>1.0</td>\n",
       "      <td>English</td>\n",
       "      <td>0.0</td>\n",
       "      <td>1.0</td>\n",
       "      <td>0.0</td>\n",
       "      <td>0.0</td>\n",
       "      <td>0.0</td>\n",
       "      <td>NaN</td>\n",
       "      <td>NaN</td>\n",
       "      <td>NaN</td>\n",
       "      <td>NaN</td>\n",
       "      <td>NaN</td>\n",
       "    </tr>\n",
       "    <tr>\n",
       "      <th>354204</th>\n",
       "      <td>g187427-d21509069</td>\n",
       "      <td>Restaurante La Única</td>\n",
       "      <td>[\"Europe\", \"Spain\"]</td>\n",
       "      <td>Spain</td>\n",
       "      <td>0</td>\n",
       "      <td>NaN</td>\n",
       "      <td>NaN</td>\n",
       "      <td>Calle La Fuente 27 Camino entre Oceja de Valde...</td>\n",
       "      <td>41.63044</td>\n",
       "      <td>-0.888875</td>\n",
       "      <td>Claimed</td>\n",
       "      <td>NaN</td>\n",
       "      <td>Fine Dining, International, Mediterranean</td>\n",
       "      <td>€20-€50</td>\n",
       "      <td>Lunch, Dinner, Drinks</td>\n",
       "      <td>International, Mediterranean</td>\n",
       "      <td>NaN</td>\n",
       "      <td>NaN</td>\n",
       "      <td>N</td>\n",
       "      <td>N</td>\n",
       "      <td>N</td>\n",
       "      <td>{\"Mon\": [], \"Tue\": [], \"Wed\": [\"12:30-17:00\", ...</td>\n",
       "      <td>5.0</td>\n",
       "      <td>42.0</td>\n",
       "      <td>8.0</td>\n",
       "      <td>NaN</td>\n",
       "      <td>NaN</td>\n",
       "      <td>NaN</td>\n",
       "      <td>NaN</td>\n",
       "      <td>NaN</td>\n",
       "      <td>NaN</td>\n",
       "      <td>NaN</td>\n",
       "      <td>NaN</td>\n",
       "      <td>NaN</td>\n",
       "      <td>NaN</td>\n",
       "      <td>NaN</td>\n",
       "      <td>NaN</td>\n",
       "      <td>NaN</td>\n",
       "    </tr>\n",
       "  </tbody>\n",
       "</table>\n",
       "</div>"
      ],
      "text/plain": [
       "          restaurant_link       restaurant_name    original_location country  \\\n",
       "354203  g187427-d21293370   Café Bar Los Luises  [\"Europe\", \"Spain\"]   Spain   \n",
       "354204  g187427-d21509069  Restaurante La Única  [\"Europe\", \"Spain\"]   Spain   \n",
       "\n",
       "       region province city  \\\n",
       "354203      0      NaN  NaN   \n",
       "354204      0      NaN  NaN   \n",
       "\n",
       "                                                  address  latitude  \\\n",
       "354203     Calle Antonio Andres Gonzalez, 17, 04431 Spain  40.41070   \n",
       "354204  Calle La Fuente 27 Camino entre Oceja de Valde...  41.63044   \n",
       "\n",
       "        longitude    claimed awards  \\\n",
       "354203  -3.727419  Unclaimed    NaN   \n",
       "354204  -0.888875    Claimed    NaN   \n",
       "\n",
       "                                         top_tags price_range  \\\n",
       "354203                                    Spanish         NaN   \n",
       "354204  Fine Dining, International, Mediterranean     €20-€50   \n",
       "\n",
       "                        meals                      cuisines special_diets  \\\n",
       "354203                    NaN                       Spanish           NaN   \n",
       "354204  Lunch, Dinner, Drinks  International, Mediterranean           NaN   \n",
       "\n",
       "       features vegetarian_friendly vegan_options gluten_free  \\\n",
       "354203      NaN                   N             N           N   \n",
       "354204      NaN                   N             N           N   \n",
       "\n",
       "                                      original_open_hours  open_days_per_week  \\\n",
       "354203                                                NaN                 NaN   \n",
       "354204  {\"Mon\": [], \"Tue\": [], \"Wed\": [\"12:30-17:00\", ...                 5.0   \n",
       "\n",
       "        open_hours_per_week  working_shifts_per_week  avg_rating  \\\n",
       "354203                  NaN                      NaN         4.0   \n",
       "354204                 42.0                      8.0         NaN   \n",
       "\n",
       "        total_reviews_count default_language  excellent  very_good  average  \\\n",
       "354203                  1.0          English        0.0        1.0      0.0   \n",
       "354204                  NaN              NaN        NaN        NaN      NaN   \n",
       "\n",
       "        poor  terrible  food  service  value  atmosphere keywords  \n",
       "354203   0.0       0.0   NaN      NaN    NaN         NaN      NaN  \n",
       "354204   NaN       NaN   NaN      NaN    NaN         NaN      NaN  "
      ]
     },
     "execution_count": 12,
     "metadata": {},
     "output_type": "execute_result"
    }
   ],
   "source": [
    "df1[(df1.region == 0)] #eliminamos estas 2 filas porque dan conflicto en su búsqueda (cerraron o existen en varias ciudades)"
   ]
  },
  {
   "cell_type": "code",
   "execution_count": 13,
   "metadata": {},
   "outputs": [],
   "source": [
    "df1 = df1.drop([354204, 354203], axis=0)   #Elemino las únicas 2 filas con NaN"
   ]
  },
  {
   "cell_type": "code",
   "execution_count": 14,
   "metadata": {},
   "outputs": [
    {
     "data": {
      "text/html": [
       "<div>\n",
       "<style scoped>\n",
       "    .dataframe tbody tr th:only-of-type {\n",
       "        vertical-align: middle;\n",
       "    }\n",
       "\n",
       "    .dataframe tbody tr th {\n",
       "        vertical-align: top;\n",
       "    }\n",
       "\n",
       "    .dataframe thead th {\n",
       "        text-align: right;\n",
       "    }\n",
       "</style>\n",
       "<table border=\"1\" class=\"dataframe\">\n",
       "  <thead>\n",
       "    <tr style=\"text-align: right;\">\n",
       "      <th></th>\n",
       "      <th>restaurant_link</th>\n",
       "      <th>restaurant_name</th>\n",
       "      <th>original_location</th>\n",
       "      <th>country</th>\n",
       "      <th>region</th>\n",
       "      <th>province</th>\n",
       "      <th>city</th>\n",
       "      <th>address</th>\n",
       "      <th>latitude</th>\n",
       "      <th>longitude</th>\n",
       "      <th>claimed</th>\n",
       "      <th>awards</th>\n",
       "      <th>top_tags</th>\n",
       "      <th>price_range</th>\n",
       "      <th>meals</th>\n",
       "      <th>cuisines</th>\n",
       "      <th>special_diets</th>\n",
       "      <th>features</th>\n",
       "      <th>vegetarian_friendly</th>\n",
       "      <th>vegan_options</th>\n",
       "      <th>gluten_free</th>\n",
       "      <th>original_open_hours</th>\n",
       "      <th>open_days_per_week</th>\n",
       "      <th>open_hours_per_week</th>\n",
       "      <th>working_shifts_per_week</th>\n",
       "      <th>avg_rating</th>\n",
       "      <th>total_reviews_count</th>\n",
       "      <th>default_language</th>\n",
       "      <th>excellent</th>\n",
       "      <th>very_good</th>\n",
       "      <th>average</th>\n",
       "      <th>poor</th>\n",
       "      <th>terrible</th>\n",
       "      <th>food</th>\n",
       "      <th>service</th>\n",
       "      <th>value</th>\n",
       "      <th>atmosphere</th>\n",
       "      <th>keywords</th>\n",
       "    </tr>\n",
       "  </thead>\n",
       "  <tbody>\n",
       "  </tbody>\n",
       "</table>\n",
       "</div>"
      ],
      "text/plain": [
       "Empty DataFrame\n",
       "Columns: [restaurant_link, restaurant_name, original_location, country, region, province, city, address, latitude, longitude, claimed, awards, top_tags, price_range, meals, cuisines, special_diets, features, vegetarian_friendly, vegan_options, gluten_free, original_open_hours, open_days_per_week, open_hours_per_week, working_shifts_per_week, avg_rating, total_reviews_count, default_language, excellent, very_good, average, poor, terrible, food, service, value, atmosphere, keywords]\n",
       "Index: []"
      ]
     },
     "execution_count": 14,
     "metadata": {},
     "output_type": "execute_result"
    }
   ],
   "source": [
    "df1[(df1.region == 0)]"
   ]
  },
  {
   "cell_type": "markdown",
   "metadata": {},
   "source": [
    "**COL CLAIMED**"
   ]
  },
  {
   "cell_type": "code",
   "execution_count": 16,
   "metadata": {},
   "outputs": [
    {
     "data": {
      "text/plain": [
       "Unclaimed    88093\n",
       "Claimed      69098\n",
       "NaN            286\n",
       "Name: claimed, dtype: int64"
      ]
     },
     "execution_count": 16,
     "metadata": {},
     "output_type": "execute_result"
    }
   ],
   "source": [
    "df1.claimed.value_counts(dropna=False)"
   ]
  },
  {
   "cell_type": "code",
   "execution_count": 17,
   "metadata": {},
   "outputs": [],
   "source": [
    "df1.claimed = df1.claimed.fillna('Unclaimed')"
   ]
  },
  {
   "cell_type": "code",
   "execution_count": 18,
   "metadata": {},
   "outputs": [
    {
     "data": {
      "text/plain": [
       "Unclaimed    88379\n",
       "Claimed      69098\n",
       "Name: claimed, dtype: int64"
      ]
     },
     "execution_count": 18,
     "metadata": {},
     "output_type": "execute_result"
    }
   ],
   "source": [
    "df1.claimed.value_counts(dropna=False)"
   ]
  },
  {
   "cell_type": "markdown",
   "metadata": {},
   "source": [
    "**COL [EXCELENT - VERY GOOD - AVERAGE - POOR - TERRIBLE]   ---->   DROPPPPPPPPP**"
   ]
  },
  {
   "cell_type": "code",
   "execution_count": 19,
   "metadata": {},
   "outputs": [
    {
     "data": {
      "text/plain": [
       "1.0     29767\n",
       "0.0     23597\n",
       "2.0     15880\n",
       "NaN     14490\n",
       "3.0     10225\n",
       "4.0      7526\n",
       "5.0      5856\n",
       "6.0      4578\n",
       "7.0      3855\n",
       "8.0      3240\n",
       "9.0      2753\n",
       "10.0     2333\n",
       "11.0     1993\n",
       "12.0     1862\n",
       "13.0     1586\n",
       "14.0     1419\n",
       "15.0     1310\n",
       "16.0     1156\n",
       "17.0     1027\n",
       "18.0      982\n",
       "19.0      883\n",
       "20.0      820\n",
       "21.0      750\n",
       "22.0      706\n",
       "23.0      629\n",
       "Name: excellent, dtype: int64"
      ]
     },
     "execution_count": 19,
     "metadata": {},
     "output_type": "execute_result"
    }
   ],
   "source": [
    "df1.excellent.value_counts(dropna=False).head(25)  "
   ]
  },
  {
   "cell_type": "code",
   "execution_count": 20,
   "metadata": {},
   "outputs": [
    {
     "data": {
      "text/plain": [
       "[2.0, 3.0, 1.0, 4.0, 44.0, 9.0, 18.0, 19.0, nan, 36.0, 48.0, 0.0, 6.0]"
      ]
     },
     "execution_count": 20,
     "metadata": {},
     "output_type": "execute_result"
    }
   ],
   "source": [
    "list(df.excellent.unique())[:13]"
   ]
  },
  {
   "cell_type": "markdown",
   "metadata": {},
   "source": [
    "**COL DEFAULT LANGUAGES**"
   ]
  },
  {
   "cell_type": "code",
   "execution_count": 21,
   "metadata": {},
   "outputs": [
    {
     "data": {
      "text/plain": [
       "English          90751\n",
       "All languages    52236\n",
       "NaN              14490\n",
       "Name: default_language, dtype: int64"
      ]
     },
     "execution_count": 21,
     "metadata": {},
     "output_type": "execute_result"
    }
   ],
   "source": [
    "df1.default_language.value_counts(dropna=False)"
   ]
  },
  {
   "cell_type": "code",
   "execution_count": 22,
   "metadata": {},
   "outputs": [],
   "source": [
    "df1.default_language = df1.default_language.fillna('All languages')  #Cambio los NAN x All  languages "
   ]
  },
  {
   "cell_type": "code",
   "execution_count": 23,
   "metadata": {},
   "outputs": [
    {
     "data": {
      "text/plain": [
       "English          90751\n",
       "All languages    66726\n",
       "Name: default_language, dtype: int64"
      ]
     },
     "execution_count": 23,
     "metadata": {},
     "output_type": "execute_result"
    }
   ],
   "source": [
    "df1.default_language.value_counts(dropna=False)"
   ]
  },
  {
   "cell_type": "markdown",
   "metadata": {},
   "source": [
    "**COL TOP TAGS**"
   ]
  },
  {
   "cell_type": "code",
   "execution_count": 24,
   "metadata": {},
   "outputs": [
    {
     "data": {
      "text/plain": [
       "NaN                                            15633\n",
       "Mid-range, Spanish                              9472\n",
       "Spanish                                         7553\n",
       "Mid-range, Mediterranean, Spanish               6870\n",
       "Mid-range, Mediterranean, European, Spanish     6642\n",
       "Name: top_tags, dtype: int64"
      ]
     },
     "execution_count": 24,
     "metadata": {},
     "output_type": "execute_result"
    }
   ],
   "source": [
    "df1.top_tags.value_counts(dropna=False).head(5)"
   ]
  },
  {
   "cell_type": "code",
   "execution_count": 25,
   "metadata": {},
   "outputs": [],
   "source": [
    "df1.top_tags = df1.top_tags.fillna('Info no disponible') "
   ]
  },
  {
   "cell_type": "code",
   "execution_count": 27,
   "metadata": {},
   "outputs": [
    {
     "data": {
      "text/plain": [
       "Info no disponible                                        15633\n",
       "Mid-range, Spanish                                         9472\n",
       "Spanish                                                    7553\n",
       "Mid-range, Mediterranean, Spanish                          6870\n",
       "Mid-range, Mediterranean, European, Spanish                6642\n",
       "Cheap Eats, Spanish                                        5544\n",
       "Mid-range, Mediterranean, Spanish, Vegetarian Friendly     3762\n",
       "Mid-range                                                  2448\n",
       "Cheap Eats                                                 2141\n",
       "Cheap Eats, Mediterranean, Spanish                         2139\n",
       "Mid-range, Italian, Pizza, Mediterranean                   2010\n",
       "Mid-range, Seafood, Mediterranean, European                1611\n",
       "Mid-range, Seafood, Mediterranean, Spanish                 1417\n",
       "Mid-range, Mediterranean                                   1336\n",
       "Mediterranean, Spanish                                     1178\n",
       "Name: top_tags, dtype: int64"
      ]
     },
     "execution_count": 27,
     "metadata": {},
     "output_type": "execute_result"
    }
   ],
   "source": [
    "df1.top_tags.value_counts(dropna=False).head(15)"
   ]
  },
  {
   "cell_type": "markdown",
   "metadata": {},
   "source": [
    "**COL CUISINES**"
   ]
  },
  {
   "cell_type": "code",
   "execution_count": 28,
   "metadata": {},
   "outputs": [
    {
     "data": {
      "text/plain": [
       "Spanish                             26234\n",
       "NaN                                 22514\n",
       "Mediterranean, Spanish              10622\n",
       "Spanish, Mediterranean               5450\n",
       "Mediterranean, European, Spanish     3845\n",
       "Cafe                                 3842\n",
       "Mediterranean                        3344\n",
       "Bar, Pub                             1581\n",
       "Italian                              1495\n",
       "Italian, Pizza                       1239\n",
       "Name: cuisines, dtype: int64"
      ]
     },
     "execution_count": 28,
     "metadata": {},
     "output_type": "execute_result"
    }
   ],
   "source": [
    "df1.cuisines.value_counts(dropna=False).head(10)"
   ]
  },
  {
   "cell_type": "code",
   "execution_count": 29,
   "metadata": {},
   "outputs": [],
   "source": [
    "df1.cuisines = df1.cuisines.fillna('Info no disponible')"
   ]
  },
  {
   "cell_type": "code",
   "execution_count": 30,
   "metadata": {},
   "outputs": [
    {
     "data": {
      "text/plain": [
       "Spanish                             26234\n",
       "Info no disponible                  22514\n",
       "Mediterranean, Spanish              10622\n",
       "Spanish, Mediterranean               5450\n",
       "Mediterranean, European, Spanish     3845\n",
       "Name: cuisines, dtype: int64"
      ]
     },
     "execution_count": 30,
     "metadata": {},
     "output_type": "execute_result"
    }
   ],
   "source": [
    "df1.cuisines.value_counts(dropna=False).head(5)"
   ]
  },
  {
   "cell_type": "markdown",
   "metadata": {},
   "source": [
    "**COL MEALS**"
   ]
  },
  {
   "cell_type": "code",
   "execution_count": 31,
   "metadata": {},
   "outputs": [
    {
     "data": {
      "text/plain": [
       "NaN                           70764\n",
       "Lunch, Dinner                 23862\n",
       "Breakfast, Lunch, Dinner       9873\n",
       "Dinner                         6164\n",
       "Lunch, Dinner, After-hours     4795\n",
       "Name: meals, dtype: int64"
      ]
     },
     "execution_count": 31,
     "metadata": {},
     "output_type": "execute_result"
    }
   ],
   "source": [
    "df1.meals.value_counts(dropna=False).head()"
   ]
  },
  {
   "cell_type": "code",
   "execution_count": 32,
   "metadata": {},
   "outputs": [],
   "source": [
    "df1.meals = df1.meals.fillna('Info no disponible')"
   ]
  },
  {
   "cell_type": "code",
   "execution_count": 33,
   "metadata": {},
   "outputs": [
    {
     "data": {
      "text/plain": [
       "Info no disponible            70764\n",
       "Lunch, Dinner                 23862\n",
       "Breakfast, Lunch, Dinner       9873\n",
       "Dinner                         6164\n",
       "Lunch, Dinner, After-hours     4795\n",
       "Name: meals, dtype: int64"
      ]
     },
     "execution_count": 33,
     "metadata": {},
     "output_type": "execute_result"
    }
   ],
   "source": [
    "df1.meals.value_counts(dropna=False).head()"
   ]
  },
  {
   "cell_type": "markdown",
   "metadata": {},
   "source": [
    "**COL [FOOD - SERVICE - VALUE - ATMOSPHERE    |  AVG-RATING] ⭐**"
   ]
  },
  {
   "cell_type": "code",
   "execution_count": 34,
   "metadata": {},
   "outputs": [
    {
     "data": {
      "text/plain": [
       "NaN    125981\n",
       "4.0     12463\n",
       "4.5      8444\n",
       "3.5      6675\n",
       "3.0      2179\n",
       "5.0       999\n",
       "2.5       525\n",
       "2.0       165\n",
       "1.5        36\n",
       "1.0        10\n",
       "Name: atmosphere, dtype: int64"
      ]
     },
     "execution_count": 34,
     "metadata": {},
     "output_type": "execute_result"
    }
   ],
   "source": [
    "df1.atmosphere.value_counts(dropna=False)    #Tiene un 79% de NaN, basicamente un 80% NaN y 20% datos útiles  -----> DROPPP"
   ]
  },
  {
   "cell_type": "code",
   "execution_count": 39,
   "metadata": {},
   "outputs": [
    {
     "data": {
      "text/plain": [
       "NaN    76641\n",
       "4.5    28291\n",
       "4.0    27368\n",
       "3.5    12744\n",
       "5.0     5292\n",
       "3.0     4842\n",
       "2.5     1607\n",
       "2.0      525\n",
       "1.5      148\n",
       "1.0       19\n",
       "Name: food, dtype: int64"
      ]
     },
     "execution_count": 39,
     "metadata": {},
     "output_type": "execute_result"
    }
   ],
   "source": [
    "df1.food.value_counts(dropna=False)       #48,6% NaN   FOOD"
   ]
  },
  {
   "cell_type": "code",
   "execution_count": 42,
   "metadata": {},
   "outputs": [
    {
     "data": {
      "text/plain": [
       "NaN    75958\n",
       "4.0    26815\n",
       "4.5    25586\n",
       "3.5    14204\n",
       "5.0     6301\n",
       "3.0     5840\n",
       "2.5     1960\n",
       "2.0      636\n",
       "1.5      157\n",
       "1.0       20\n",
       "Name: service, dtype: int64"
      ]
     },
     "execution_count": 42,
     "metadata": {},
     "output_type": "execute_result"
    }
   ],
   "source": [
    "df1.service.value_counts(dropna=False)    #48,2% NaN     SERVICE"
   ]
  },
  {
   "cell_type": "code",
   "execution_count": 43,
   "metadata": {},
   "outputs": [
    {
     "data": {
      "text/plain": [
       "NaN    76203\n",
       "4.0    28628\n",
       "4.5    21930\n",
       "3.5    16697\n",
       "3.0     6736\n",
       "5.0     4175\n",
       "2.5     2161\n",
       "2.0      696\n",
       "1.5      217\n",
       "1.0       34\n",
       "Name: value, dtype: int64"
      ]
     },
     "execution_count": 43,
     "metadata": {},
     "output_type": "execute_result"
    }
   ],
   "source": [
    "df1.value.value_counts(dropna=False)   #48,3% NaN      VALUE"
   ]
  },
  {
   "cell_type": "code",
   "execution_count": 182,
   "metadata": {},
   "outputs": [
    {
     "data": {
      "text/plain": [
       "4.0    41707\n",
       "4.5    38150\n",
       "3.5    23054\n",
       "5.0    17508\n",
       "NaN    14810\n",
       "3.0    12677\n",
       "2.5     5177\n",
       "2.0     2444\n",
       "1.0     1147\n",
       "1.5      803\n",
       "Name: avg_rating, dtype: int64"
      ]
     },
     "execution_count": 182,
     "metadata": {},
     "output_type": "execute_result"
    }
   ],
   "source": [
    "df1.avg_rating.value_counts(dropna=False)     # 9% de NaN      AVG RATING"
   ]
  },
  {
   "cell_type": "code",
   "execution_count": 35,
   "metadata": {},
   "outputs": [],
   "source": [
    "df1.value = df1.value.replace([1.5, 2.5, 3.5, 4.5], [1, 2, 3, 4])\n",
    "df1.service = df1.service.replace([1.5, 2.5, 3.5, 4.5], [1, 2, 3, 4])\n",
    "df1.food = df1.food.replace([1.5, 2.5, 3.5, 4.5], [1, 2, 3, 4])\n",
    "df1.avg_rating = df1.avg_rating.replace([1.5, 2.5, 3.5, 4.5], [1, 2, 3, 4])"
   ]
  },
  {
   "cell_type": "code",
   "execution_count": 36,
   "metadata": {},
   "outputs": [],
   "source": [
    "df1.value =df1.value.fillna('Info no disponible')\n",
    "df1.service =df1.service.fillna('Info no disponible')\n",
    "df1.food =df1.food.fillna('Info no disponible')\n",
    "df1.avg_rating =df1.avg_rating.fillna('Info no disponible')"
   ]
  },
  {
   "cell_type": "code",
   "execution_count": 37,
   "metadata": {},
   "outputs": [
    {
     "data": {
      "text/plain": [
       "Info no disponible    76203\n",
       "4.0                   50558\n",
       "3.0                   23433\n",
       "5.0                    4175\n",
       "2.0                    2857\n",
       "1.0                     251\n",
       "Name: value, dtype: int64"
      ]
     },
     "execution_count": 37,
     "metadata": {},
     "output_type": "execute_result"
    }
   ],
   "source": [
    "df1.value.value_counts(dropna=False)"
   ]
  },
  {
   "cell_type": "code",
   "execution_count": 43,
   "metadata": {},
   "outputs": [
    {
     "data": {
      "text/plain": [
       "50558"
      ]
     },
     "execution_count": 43,
     "metadata": {},
     "output_type": "execute_result"
    }
   ],
   "source": [
    "28628 + 21930  #(1.5 + 1), comprobamos que se han agrupado correctamente "
   ]
  },
  {
   "cell_type": "code",
   "execution_count": 44,
   "metadata": {},
   "outputs": [
    {
     "data": {
      "text/plain": [
       "Info no disponible    75958\n",
       "4.0                   52401\n",
       "3.0                   20044\n",
       "5.0                    6301\n",
       "2.0                    2596\n",
       "1.0                     177\n",
       "Name: service, dtype: int64"
      ]
     },
     "execution_count": 44,
     "metadata": {},
     "output_type": "execute_result"
    }
   ],
   "source": [
    "df1.service.value_counts(dropna=False)"
   ]
  },
  {
   "cell_type": "code",
   "execution_count": 45,
   "metadata": {},
   "outputs": [
    {
     "data": {
      "text/plain": [
       "Info no disponible    76641\n",
       "4.0                   55659\n",
       "3.0                   17586\n",
       "5.0                    5292\n",
       "2.0                    2132\n",
       "1.0                     167\n",
       "Name: food, dtype: int64"
      ]
     },
     "execution_count": 45,
     "metadata": {},
     "output_type": "execute_result"
    }
   ],
   "source": [
    "df1.food.value_counts(dropna=False)"
   ]
  },
  {
   "cell_type": "code",
   "execution_count": 46,
   "metadata": {},
   "outputs": [
    {
     "data": {
      "text/plain": [
       "4.0                   79857\n",
       "3.0                   35731\n",
       "5.0                   17508\n",
       "Info no disponible    14810\n",
       "2.0                    7621\n",
       "1.0                    1950\n",
       "Name: avg_rating, dtype: int64"
      ]
     },
     "execution_count": 46,
     "metadata": {},
     "output_type": "execute_result"
    }
   ],
   "source": [
    "df1.avg_rating.value_counts(dropna=False)"
   ]
  },
  {
   "cell_type": "code",
   "execution_count": null,
   "metadata": {},
   "outputs": [],
   "source": []
  },
  {
   "cell_type": "markdown",
   "metadata": {},
   "source": [
    "**COL [OPEN DAYS PER WEEK - OPEN HOURS PER WEEK - ORIGINAL OPEN HOURS]**"
   ]
  },
  {
   "cell_type": "code",
   "execution_count": 46,
   "metadata": {},
   "outputs": [
    {
     "data": {
      "text/plain": [
       "NaN      81748\n",
       "84.0      2417\n",
       "42.0      1622\n",
       "98.0      1452\n",
       "105.0     1355\n",
       "91.0      1339\n",
       "56.0      1262\n",
       "77.0      1179\n",
       "63.0      1163\n",
       "112.0     1140\n",
       "Name: open_hours_per_week, dtype: int64"
      ]
     },
     "execution_count": 46,
     "metadata": {},
     "output_type": "execute_result"
    }
   ],
   "source": [
    "df1.open_hours_per_week.value_counts(dropna=False).head(10)      #DROPPPPPPPP   HOURSSS OPEN "
   ]
  },
  {
   "cell_type": "code",
   "execution_count": 45,
   "metadata": {},
   "outputs": [
    {
     "data": {
      "text/plain": [
       "NaN    81748\n",
       "7.0    38863\n",
       "6.0    28075\n",
       "5.0     5043\n",
       "4.0     1375\n",
       "3.0     1368\n",
       "2.0      560\n",
       "1.0      445\n",
       "Name: open_days_per_week, dtype: int64"
      ]
     },
     "execution_count": 45,
     "metadata": {},
     "output_type": "execute_result"
    }
   ],
   "source": [
    "df1.open_days_per_week.value_counts(dropna=False)          #DAYSSSS   OPEN "
   ]
  },
  {
   "cell_type": "code",
   "execution_count": 38,
   "metadata": {},
   "outputs": [
    {
     "data": {
      "text/plain": [
       "NaN                                                                                                                                                                         81748\n",
       "{\"Mon\": [\"12:00-00:00\"], \"Tue\": [\"12:00-00:00\"], \"Wed\": [\"12:00-00:00\"], \"Thu\": [\"12:00-00:00\"], \"Fri\": [\"12:00-00:00\"], \"Sat\": [\"12:00-00:00\"], \"Sun\": [\"12:00-00:00\"]}      841\n",
       "{\"Mon\": [\"00:00-23:59\"], \"Tue\": [\"00:00-23:59\"], \"Wed\": [\"00:00-23:59\"], \"Thu\": [\"00:00-23:59\"], \"Fri\": [\"00:00-23:59\"], \"Sat\": [\"00:00-23:59\"], \"Sun\": [\"00:00-23:59\"]}      783\n",
       "{\"Mon\": [\"09:00-00:00\"], \"Tue\": [\"09:00-00:00\"], \"Wed\": [\"09:00-00:00\"], \"Thu\": [\"09:00-00:00\"], \"Fri\": [\"09:00-00:00\"], \"Sat\": [\"09:00-00:00\"], \"Sun\": [\"09:00-00:00\"]}      510\n",
       "{\"Mon\": [\"08:00-00:00\"], \"Tue\": [\"08:00-00:00\"], \"Wed\": [\"08:00-00:00\"], \"Thu\": [\"08:00-00:00\"], \"Fri\": [\"08:00-00:00\"], \"Sat\": [\"08:00-00:00\"], \"Sun\": [\"08:00-00:00\"]}      491\n",
       "{\"Mon\": [\"10:00-00:00\"], \"Tue\": [\"10:00-00:00\"], \"Wed\": [\"10:00-00:00\"], \"Thu\": [\"10:00-00:00\"], \"Fri\": [\"10:00-00:00\"], \"Sat\": [\"10:00-00:00\"], \"Sun\": [\"10:00-00:00\"]}      401\n",
       "{\"Mon\": [\"09:00-23:00\"], \"Tue\": [\"09:00-23:00\"], \"Wed\": [\"09:00-23:00\"], \"Thu\": [\"09:00-23:00\"], \"Fri\": [\"09:00-23:00\"], \"Sat\": [\"09:00-23:00\"], \"Sun\": [\"09:00-23:00\"]}      368\n",
       "Name: original_open_hours, dtype: int64"
      ]
     },
     "execution_count": 38,
     "metadata": {},
     "output_type": "execute_result"
    }
   ],
   "source": [
    "df1.original_open_hours.value_counts(dropna=False).head(7)      "
   ]
  },
  {
   "cell_type": "code",
   "execution_count": 39,
   "metadata": {},
   "outputs": [],
   "source": [
    "df1.original_open_hours = df1.original_open_hours.fillna('Info no disponible')"
   ]
  },
  {
   "cell_type": "code",
   "execution_count": 40,
   "metadata": {},
   "outputs": [
    {
     "data": {
      "text/plain": [
       "Info no disponible                                                                                                                                                          81748\n",
       "{\"Mon\": [\"12:00-00:00\"], \"Tue\": [\"12:00-00:00\"], \"Wed\": [\"12:00-00:00\"], \"Thu\": [\"12:00-00:00\"], \"Fri\": [\"12:00-00:00\"], \"Sat\": [\"12:00-00:00\"], \"Sun\": [\"12:00-00:00\"]}      841\n",
       "Name: original_open_hours, dtype: int64"
      ]
     },
     "execution_count": 40,
     "metadata": {},
     "output_type": "execute_result"
    }
   ],
   "source": [
    "df1.original_open_hours.value_counts(dropna=False).head(2)"
   ]
  },
  {
   "cell_type": "markdown",
   "metadata": {},
   "source": [
    "**WORKING SHIFTS PER WEEK**"
   ]
  },
  {
   "cell_type": "code",
   "execution_count": 50,
   "metadata": {},
   "outputs": [
    {
     "data": {
      "text/plain": [
       "NaN     81748\n",
       "7.0     29609\n",
       "6.0     17926\n",
       "14.0     5663\n",
       "12.0     4888\n",
       "11.0     3573\n",
       "5.0      3239\n",
       "10.0     2237\n",
       "8.0      2119\n",
       "9.0      1932\n",
       "13.0     1604\n",
       "3.0       996\n",
       "4.0       985\n",
       "2.0       508\n",
       "1.0       425\n",
       "15.0       25\n",
       "Name: working_shifts_per_week, dtype: int64"
      ]
     },
     "execution_count": 50,
     "metadata": {},
     "output_type": "execute_result"
    }
   ],
   "source": [
    "df1.working_shifts_per_week.value_counts(dropna=False)   #DROOOOOPPPPPP"
   ]
  },
  {
   "cell_type": "markdown",
   "metadata": {},
   "source": [
    "**COL FEATURES**"
   ]
  },
  {
   "cell_type": "code",
   "execution_count": 41,
   "metadata": {},
   "outputs": [
    {
     "data": {
      "text/plain": [
       "NaN                                                                            106561\n",
       "Reservations                                                                     5619\n",
       "Reservations, Seating, Table Service                                             1831\n",
       "Seating, Table Service                                                           1367\n",
       "Reservations, Seating, Serves Alcohol, Table Service                             1181\n",
       "Wheelchair Accessible                                                             911\n",
       "Reservations, Seating, Wheelchair Accessible, Serves Alcohol, Table Service       769\n",
       "Reservations, Table Service, Seating                                              756\n",
       "Seating                                                                           750\n",
       "Reservations, Seating, Wheelchair Accessible, Table Service                       693\n",
       "Seating, Wheelchair Accessible, Table Service                                     682\n",
       "Reservations, Table Service                                                       664\n",
       "Table Service                                                                     617\n",
       "Reservations, Seating, Table Service, Wheelchair Accessible                       505\n",
       "Seating, Table Service, Reservations                                              489\n",
       "Name: features, dtype: int64"
      ]
     },
     "execution_count": 41,
     "metadata": {},
     "output_type": "execute_result"
    }
   ],
   "source": [
    "df1.features.value_counts(dropna=False).head(15)"
   ]
  },
  {
   "cell_type": "code",
   "execution_count": 42,
   "metadata": {},
   "outputs": [],
   "source": [
    "df1.features = df1.features.fillna('Info no disponible')"
   ]
  },
  {
   "cell_type": "code",
   "execution_count": 43,
   "metadata": {},
   "outputs": [
    {
     "data": {
      "text/plain": [
       "Info no disponible                                      106561\n",
       "Reservations                                              5619\n",
       "Reservations, Seating, Table Service                      1831\n",
       "Seating, Table Service                                    1367\n",
       "Reservations, Seating, Serves Alcohol, Table Service      1181\n",
       "Name: features, dtype: int64"
      ]
     },
     "execution_count": 43,
     "metadata": {},
     "output_type": "execute_result"
    }
   ],
   "source": [
    "df1.features.value_counts(dropna=False).head()"
   ]
  },
  {
   "cell_type": "markdown",
   "metadata": {},
   "source": [
    "**PRICE RANGE**"
   ]
  },
  {
   "cell_type": "code",
   "execution_count": 44,
   "metadata": {},
   "outputs": [
    {
     "data": {
      "text/plain": [
       "NaN        109166\n",
       "€10-€30      1482\n",
       "€10-€20      1418\n",
       "€10-€25      1168\n",
       "€5-€15       1110\n",
       "€5-€20       1091\n",
       "€15-€30       852\n",
       "€3-€10        722\n",
       "€15-€25       721\n",
       "€2-€10        689\n",
       "€5-€10        626\n",
       "€3-€15        524\n",
       "€10-€50       505\n",
       "€10-€15       503\n",
       "€5-€25        502\n",
       "Name: price_range, dtype: int64"
      ]
     },
     "execution_count": 44,
     "metadata": {},
     "output_type": "execute_result"
    }
   ],
   "source": [
    "df1.price_range.value_counts(dropna=False).head(15)   #69% de Nulos ~ 70%, 30% datos útiles "
   ]
  },
  {
   "cell_type": "code",
   "execution_count": 45,
   "metadata": {},
   "outputs": [],
   "source": [
    "df1.price_range = df1.price_range.fillna('Info no disponible')"
   ]
  },
  {
   "cell_type": "code",
   "execution_count": 46,
   "metadata": {},
   "outputs": [
    {
     "data": {
      "text/plain": [
       "Info no disponible    109166\n",
       "€10-€30                 1482\n",
       "€10-€20                 1418\n",
       "€10-€25                 1168\n",
       "€5-€15                  1110\n",
       "Name: price_range, dtype: int64"
      ]
     },
     "execution_count": 46,
     "metadata": {},
     "output_type": "execute_result"
    }
   ],
   "source": [
    "df1.price_range.value_counts(dropna=False).head()"
   ]
  },
  {
   "cell_type": "markdown",
   "metadata": {},
   "source": [
    "**SPECIAL DIETS**"
   ]
  },
  {
   "cell_type": "code",
   "execution_count": 47,
   "metadata": {},
   "outputs": [
    {
     "data": {
      "text/plain": [
       "Halal, Vegetarian Friendly, Vegan Options, Gluten Free Options       5\n",
       "Halal, Vegan Options                                                 1\n",
       "Vegetarian Friendly, Gluten Free Options                          4743\n",
       "Kosher, Vegetarian Friendly                                          1\n",
       "Vegan Options, Gluten Free Options                                 230\n",
       "Vegetarian Friendly, Vegan Options, Kosher                           2\n",
       "Vegan Options, Halal, Vegetarian Friendly, Gluten Free Options       1\n",
       "Vegetarian Friendly, Vegan Options, Halal                           47\n",
       "Vegan Options, Halal, Vegetarian Friendly                            1\n",
       "Vegetarian Friendly, Gluten Free Options, Vegan Options            596\n",
       "Name: special_diets, dtype: int64"
      ]
     },
     "execution_count": 47,
     "metadata": {},
     "output_type": "execute_result"
    }
   ],
   "source": [
    "df1.special_diets.value_counts(dropna=False).sample(10)  #73% de NaN, \n",
    "#puede significar que solo hay un 17% de restaurantes que se dediquen a este tipo de dietas y un 73% de restaurantes que no."
   ]
  },
  {
   "cell_type": "code",
   "execution_count": 48,
   "metadata": {},
   "outputs": [],
   "source": [
    "df1.special_diets = df1.special_diets.fillna('Info no disponible')"
   ]
  },
  {
   "cell_type": "code",
   "execution_count": 49,
   "metadata": {},
   "outputs": [
    {
     "data": {
      "text/plain": [
       "Info no disponible                                         115421\n",
       "Vegetarian Friendly                                         14116\n",
       "Vegetarian Friendly, Vegan Options, Gluten Free Options     11393\n",
       "Vegetarian Friendly, Vegan Options                           5729\n",
       "Vegetarian Friendly, Gluten Free Options                     4743\n",
       "Name: special_diets, dtype: int64"
      ]
     },
     "execution_count": 49,
     "metadata": {},
     "output_type": "execute_result"
    }
   ],
   "source": [
    "df1.special_diets.value_counts(dropna=False).head()"
   ]
  },
  {
   "cell_type": "markdown",
   "metadata": {},
   "source": [
    "**TOTAL REVIEWS COUNT**"
   ]
  },
  {
   "cell_type": "code",
   "execution_count": 50,
   "metadata": {},
   "outputs": [
    {
     "data": {
      "text/plain": [
       "1.0     9362\n",
       "NaN     8867\n",
       "2.0     6955\n",
       "0.0     5883\n",
       "3.0     5557\n",
       "4.0     4716\n",
       "5.0     4212\n",
       "6.0     3666\n",
       "7.0     3327\n",
       "8.0     3054\n",
       "9.0     2756\n",
       "10.0    2575\n",
       "11.0    2294\n",
       "12.0    2184\n",
       "13.0    2078\n",
       "14.0    1989\n",
       "15.0    1822\n",
       "16.0    1659\n",
       "17.0    1656\n",
       "18.0    1559\n",
       "Name: total_reviews_count, dtype: int64"
      ]
     },
     "execution_count": 50,
     "metadata": {},
     "output_type": "execute_result"
    }
   ],
   "source": [
    "df1.total_reviews_count.value_counts(dropna=False).head(20)"
   ]
  },
  {
   "cell_type": "code",
   "execution_count": 51,
   "metadata": {},
   "outputs": [],
   "source": [
    "df1.total_reviews_count = df1.total_reviews_count.fillna('Info no disponible')"
   ]
  },
  {
   "cell_type": "code",
   "execution_count": 52,
   "metadata": {},
   "outputs": [
    {
     "data": {
      "text/plain": [
       "1.0                   9362\n",
       "Info no disponible    8867\n",
       "2.0                   6955\n",
       "0.0                   5883\n",
       "3.0                   5557\n",
       "Name: total_reviews_count, dtype: int64"
      ]
     },
     "execution_count": 52,
     "metadata": {},
     "output_type": "execute_result"
    }
   ],
   "source": [
    "df1.total_reviews_count.value_counts(dropna=False).head()"
   ]
  },
  {
   "cell_type": "code",
   "execution_count": null,
   "metadata": {},
   "outputs": [],
   "source": []
  },
  {
   "cell_type": "markdown",
   "metadata": {},
   "source": [
    "## TODO OK(hasta aquí) ✅"
   ]
  },
  {
   "cell_type": "code",
   "execution_count": 53,
   "metadata": {},
   "outputs": [],
   "source": [
    "dropping_col(df1)  #BORRAMOS LAS COLUMNAS que no vamos a usar y con más del 70% de NaNs"
   ]
  },
  {
   "cell_type": "code",
   "execution_count": 54,
   "metadata": {},
   "outputs": [
    {
     "data": {
      "text/html": [
       "<div>\n",
       "<style scoped>\n",
       "    .dataframe tbody tr th:only-of-type {\n",
       "        vertical-align: middle;\n",
       "    }\n",
       "\n",
       "    .dataframe tbody tr th {\n",
       "        vertical-align: top;\n",
       "    }\n",
       "\n",
       "    .dataframe thead th {\n",
       "        text-align: right;\n",
       "    }\n",
       "</style>\n",
       "<table border=\"1\" class=\"dataframe\">\n",
       "  <thead>\n",
       "    <tr style=\"text-align: right;\">\n",
       "      <th></th>\n",
       "      <th>restaurant_link</th>\n",
       "      <th>restaurant_name</th>\n",
       "      <th>country</th>\n",
       "      <th>region</th>\n",
       "      <th>province</th>\n",
       "      <th>city</th>\n",
       "      <th>address</th>\n",
       "      <th>latitude</th>\n",
       "      <th>longitude</th>\n",
       "      <th>claimed</th>\n",
       "      <th>top_tags</th>\n",
       "      <th>price_range</th>\n",
       "      <th>meals</th>\n",
       "      <th>cuisines</th>\n",
       "      <th>special_diets</th>\n",
       "      <th>features</th>\n",
       "      <th>vegetarian_friendly</th>\n",
       "      <th>vegan_options</th>\n",
       "      <th>gluten_free</th>\n",
       "      <th>original_open_hours</th>\n",
       "      <th>avg_rating</th>\n",
       "      <th>total_reviews_count</th>\n",
       "      <th>default_language</th>\n",
       "      <th>food</th>\n",
       "      <th>service</th>\n",
       "      <th>value</th>\n",
       "    </tr>\n",
       "  </thead>\n",
       "  <tbody>\n",
       "    <tr>\n",
       "      <th>320900</th>\n",
       "      <td>g10021880-d13763192</td>\n",
       "      <td>Taberna La Sacristia</td>\n",
       "      <td>Spain</td>\n",
       "      <td>Andalucia</td>\n",
       "      <td>Province of Seville</td>\n",
       "      <td>NaN</td>\n",
       "      <td>Calle del Concejo 19, 41870 Aznalcollar Spain</td>\n",
       "      <td>37.51928</td>\n",
       "      <td>-6.26885</td>\n",
       "      <td>Unclaimed</td>\n",
       "      <td>Spanish</td>\n",
       "      <td>Info no disponible</td>\n",
       "      <td>Info no disponible</td>\n",
       "      <td>Spanish</td>\n",
       "      <td>Info no disponible</td>\n",
       "      <td>Info no disponible</td>\n",
       "      <td>N</td>\n",
       "      <td>N</td>\n",
       "      <td>N</td>\n",
       "      <td>Info no disponible</td>\n",
       "      <td>3.0</td>\n",
       "      <td>1.0</td>\n",
       "      <td>English</td>\n",
       "      <td>Info no disponible</td>\n",
       "      <td>Info no disponible</td>\n",
       "      <td>Info no disponible</td>\n",
       "    </tr>\n",
       "    <tr>\n",
       "      <th>320901</th>\n",
       "      <td>g10021880-d15758746</td>\n",
       "      <td>Tasca el Capricho</td>\n",
       "      <td>Spain</td>\n",
       "      <td>Andalucia</td>\n",
       "      <td>Province of Seville</td>\n",
       "      <td>NaN</td>\n",
       "      <td>Calle del 28 de Febrero 9, 41870 Aznalcollar S...</td>\n",
       "      <td>37.52065</td>\n",
       "      <td>-6.26822</td>\n",
       "      <td>Unclaimed</td>\n",
       "      <td>Spanish</td>\n",
       "      <td>Info no disponible</td>\n",
       "      <td>Info no disponible</td>\n",
       "      <td>Spanish</td>\n",
       "      <td>Info no disponible</td>\n",
       "      <td>Info no disponible</td>\n",
       "      <td>N</td>\n",
       "      <td>N</td>\n",
       "      <td>N</td>\n",
       "      <td>Info no disponible</td>\n",
       "      <td>5.0</td>\n",
       "      <td>2.0</td>\n",
       "      <td>All languages</td>\n",
       "      <td>Info no disponible</td>\n",
       "      <td>Info no disponible</td>\n",
       "      <td>Info no disponible</td>\n",
       "    </tr>\n",
       "    <tr>\n",
       "      <th>320902</th>\n",
       "      <td>g10021880-d19332558</td>\n",
       "      <td>Bar Las Adelfas</td>\n",
       "      <td>Spain</td>\n",
       "      <td>Andalucia</td>\n",
       "      <td>Province of Seville</td>\n",
       "      <td>NaN</td>\n",
       "      <td>Calle Perdon N° 23 Capilla de La Cruz, 41870 A...</td>\n",
       "      <td>37.52428</td>\n",
       "      <td>-6.27144</td>\n",
       "      <td>Claimed</td>\n",
       "      <td>Mediterranean, Spanish, Grill, Diner</td>\n",
       "      <td>Info no disponible</td>\n",
       "      <td>Breakfast, Lunch, Dinner, Brunch, Drinks</td>\n",
       "      <td>Mediterranean, Spanish, Grill, Diner, Dining bars</td>\n",
       "      <td>Info no disponible</td>\n",
       "      <td>Info no disponible</td>\n",
       "      <td>N</td>\n",
       "      <td>N</td>\n",
       "      <td>N</td>\n",
       "      <td>{\"Mon\": [], \"Tue\": [\"19:30-23:45\"], \"Wed\": [\"1...</td>\n",
       "      <td>3.0</td>\n",
       "      <td>2.0</td>\n",
       "      <td>All languages</td>\n",
       "      <td>Info no disponible</td>\n",
       "      <td>Info no disponible</td>\n",
       "      <td>Info no disponible</td>\n",
       "    </tr>\n",
       "  </tbody>\n",
       "</table>\n",
       "</div>"
      ],
      "text/plain": [
       "            restaurant_link       restaurant_name country     region  \\\n",
       "320900  g10021880-d13763192  Taberna La Sacristia   Spain  Andalucia   \n",
       "320901  g10021880-d15758746     Tasca el Capricho   Spain  Andalucia   \n",
       "320902  g10021880-d19332558       Bar Las Adelfas   Spain  Andalucia   \n",
       "\n",
       "                   province city  \\\n",
       "320900  Province of Seville  NaN   \n",
       "320901  Province of Seville  NaN   \n",
       "320902  Province of Seville  NaN   \n",
       "\n",
       "                                                  address  latitude  \\\n",
       "320900      Calle del Concejo 19, 41870 Aznalcollar Spain  37.51928   \n",
       "320901  Calle del 28 de Febrero 9, 41870 Aznalcollar S...  37.52065   \n",
       "320902  Calle Perdon N° 23 Capilla de La Cruz, 41870 A...  37.52428   \n",
       "\n",
       "        longitude    claimed                              top_tags  \\\n",
       "320900   -6.26885  Unclaimed                               Spanish   \n",
       "320901   -6.26822  Unclaimed                               Spanish   \n",
       "320902   -6.27144    Claimed  Mediterranean, Spanish, Grill, Diner   \n",
       "\n",
       "               price_range                                     meals  \\\n",
       "320900  Info no disponible                        Info no disponible   \n",
       "320901  Info no disponible                        Info no disponible   \n",
       "320902  Info no disponible  Breakfast, Lunch, Dinner, Brunch, Drinks   \n",
       "\n",
       "                                                 cuisines       special_diets  \\\n",
       "320900                                            Spanish  Info no disponible   \n",
       "320901                                            Spanish  Info no disponible   \n",
       "320902  Mediterranean, Spanish, Grill, Diner, Dining bars  Info no disponible   \n",
       "\n",
       "                  features vegetarian_friendly vegan_options gluten_free  \\\n",
       "320900  Info no disponible                   N             N           N   \n",
       "320901  Info no disponible                   N             N           N   \n",
       "320902  Info no disponible                   N             N           N   \n",
       "\n",
       "                                      original_open_hours avg_rating  \\\n",
       "320900                                 Info no disponible        3.0   \n",
       "320901                                 Info no disponible        5.0   \n",
       "320902  {\"Mon\": [], \"Tue\": [\"19:30-23:45\"], \"Wed\": [\"1...        3.0   \n",
       "\n",
       "       total_reviews_count default_language                food  \\\n",
       "320900                 1.0          English  Info no disponible   \n",
       "320901                 2.0    All languages  Info no disponible   \n",
       "320902                 2.0    All languages  Info no disponible   \n",
       "\n",
       "                   service               value  \n",
       "320900  Info no disponible  Info no disponible  \n",
       "320901  Info no disponible  Info no disponible  \n",
       "320902  Info no disponible  Info no disponible  "
      ]
     },
     "execution_count": 54,
     "metadata": {},
     "output_type": "execute_result"
    }
   ],
   "source": [
    "df1.head(3)"
   ]
  },
  {
   "cell_type": "code",
   "execution_count": 55,
   "metadata": {},
   "outputs": [
    {
     "data": {
      "text/plain": [
       "city                   0.653314\n",
       "province               0.187761\n",
       "latitude               0.015005\n",
       "longitude              0.015005\n",
       "restaurant_link        0.000000\n",
       "features               0.000000\n",
       "service                0.000000\n",
       "food                   0.000000\n",
       "default_language       0.000000\n",
       "total_reviews_count    0.000000\n",
       "avg_rating             0.000000\n",
       "original_open_hours    0.000000\n",
       "gluten_free            0.000000\n",
       "vegan_options          0.000000\n",
       "vegetarian_friendly    0.000000\n",
       "cuisines               0.000000\n",
       "special_diets          0.000000\n",
       "restaurant_name        0.000000\n",
       "meals                  0.000000\n",
       "price_range            0.000000\n",
       "top_tags               0.000000\n",
       "claimed                0.000000\n",
       "address                0.000000\n",
       "region                 0.000000\n",
       "country                0.000000\n",
       "value                  0.000000\n",
       "dtype: float64"
      ]
     },
     "execution_count": 55,
     "metadata": {},
     "output_type": "execute_result"
    }
   ],
   "source": [
    "porcentageCOL(df1)"
   ]
  },
  {
   "cell_type": "code",
   "execution_count": null,
   "metadata": {},
   "outputs": [],
   "source": []
  },
  {
   "cell_type": "code",
   "execution_count": null,
   "metadata": {},
   "outputs": [],
   "source": []
  },
  {
   "cell_type": "markdown",
   "metadata": {},
   "source": [
    "# DF2 (cleaned)"
   ]
  },
  {
   "cell_type": "code",
   "execution_count": 56,
   "metadata": {},
   "outputs": [],
   "source": [
    "df2 = df1.reset_index(drop=True)     # RE-INDEXXXXX"
   ]
  },
  {
   "cell_type": "code",
   "execution_count": 115,
   "metadata": {
    "scrolled": true
   },
   "outputs": [
    {
     "data": {
      "text/html": [
       "<div>\n",
       "<style scoped>\n",
       "    .dataframe tbody tr th:only-of-type {\n",
       "        vertical-align: middle;\n",
       "    }\n",
       "\n",
       "    .dataframe tbody tr th {\n",
       "        vertical-align: top;\n",
       "    }\n",
       "\n",
       "    .dataframe thead th {\n",
       "        text-align: right;\n",
       "    }\n",
       "</style>\n",
       "<table border=\"1\" class=\"dataframe\">\n",
       "  <thead>\n",
       "    <tr style=\"text-align: right;\">\n",
       "      <th></th>\n",
       "      <th>restaurant_link</th>\n",
       "      <th>restaurant_name</th>\n",
       "      <th>country</th>\n",
       "      <th>region</th>\n",
       "      <th>province</th>\n",
       "      <th>city</th>\n",
       "      <th>address</th>\n",
       "      <th>latitude</th>\n",
       "      <th>longitude</th>\n",
       "      <th>claimed</th>\n",
       "      <th>top_tags</th>\n",
       "      <th>price_range</th>\n",
       "      <th>meals</th>\n",
       "      <th>cuisines</th>\n",
       "      <th>special_diets</th>\n",
       "      <th>features</th>\n",
       "      <th>vegetarian_friendly</th>\n",
       "      <th>vegan_options</th>\n",
       "      <th>gluten_free</th>\n",
       "      <th>original_open_hours</th>\n",
       "      <th>avg_rating</th>\n",
       "      <th>total_reviews_count</th>\n",
       "      <th>default_language</th>\n",
       "      <th>food</th>\n",
       "      <th>service</th>\n",
       "      <th>value</th>\n",
       "    </tr>\n",
       "  </thead>\n",
       "  <tbody>\n",
       "    <tr>\n",
       "      <th>0</th>\n",
       "      <td>g10021880-d13763192</td>\n",
       "      <td>Taberna La Sacristia</td>\n",
       "      <td>Spain</td>\n",
       "      <td>Andalucia</td>\n",
       "      <td>Province of Seville</td>\n",
       "      <td>NaN</td>\n",
       "      <td>Calle del Concejo 19, 41870 Aznalcollar Spain</td>\n",
       "      <td>37.51928</td>\n",
       "      <td>-6.26885</td>\n",
       "      <td>Unclaimed</td>\n",
       "      <td>Spanish</td>\n",
       "      <td>Info no disponible</td>\n",
       "      <td>Info no disponible</td>\n",
       "      <td>Spanish</td>\n",
       "      <td>Info no disponible</td>\n",
       "      <td>Info no disponible</td>\n",
       "      <td>N</td>\n",
       "      <td>N</td>\n",
       "      <td>N</td>\n",
       "      <td>Info no disponible</td>\n",
       "      <td>3.0</td>\n",
       "      <td>1.0</td>\n",
       "      <td>English</td>\n",
       "      <td>Info no disponible</td>\n",
       "      <td>Info no disponible</td>\n",
       "      <td>Info no disponible</td>\n",
       "    </tr>\n",
       "    <tr>\n",
       "      <th>1</th>\n",
       "      <td>g10021880-d15758746</td>\n",
       "      <td>Tasca el Capricho</td>\n",
       "      <td>Spain</td>\n",
       "      <td>Andalucia</td>\n",
       "      <td>Province of Seville</td>\n",
       "      <td>NaN</td>\n",
       "      <td>Calle del 28 de Febrero 9, 41870 Aznalcollar S...</td>\n",
       "      <td>37.52065</td>\n",
       "      <td>-6.26822</td>\n",
       "      <td>Unclaimed</td>\n",
       "      <td>Spanish</td>\n",
       "      <td>Info no disponible</td>\n",
       "      <td>Info no disponible</td>\n",
       "      <td>Spanish</td>\n",
       "      <td>Info no disponible</td>\n",
       "      <td>Info no disponible</td>\n",
       "      <td>N</td>\n",
       "      <td>N</td>\n",
       "      <td>N</td>\n",
       "      <td>Info no disponible</td>\n",
       "      <td>5.0</td>\n",
       "      <td>2.0</td>\n",
       "      <td>All languages</td>\n",
       "      <td>Info no disponible</td>\n",
       "      <td>Info no disponible</td>\n",
       "      <td>Info no disponible</td>\n",
       "    </tr>\n",
       "    <tr>\n",
       "      <th>2</th>\n",
       "      <td>g10021880-d19332558</td>\n",
       "      <td>Bar Las Adelfas</td>\n",
       "      <td>Spain</td>\n",
       "      <td>Andalucia</td>\n",
       "      <td>Province of Seville</td>\n",
       "      <td>NaN</td>\n",
       "      <td>Calle Perdon N° 23 Capilla de La Cruz, 41870 A...</td>\n",
       "      <td>37.52428</td>\n",
       "      <td>-6.27144</td>\n",
       "      <td>Claimed</td>\n",
       "      <td>Mediterranean, Spanish, Grill, Diner</td>\n",
       "      <td>Info no disponible</td>\n",
       "      <td>Breakfast, Lunch, Dinner, Brunch, Drinks</td>\n",
       "      <td>Mediterranean, Spanish, Grill, Diner, Dining bars</td>\n",
       "      <td>Info no disponible</td>\n",
       "      <td>Info no disponible</td>\n",
       "      <td>N</td>\n",
       "      <td>N</td>\n",
       "      <td>N</td>\n",
       "      <td>{\"Mon\": [], \"Tue\": [\"19:30-23:45\"], \"Wed\": [\"1...</td>\n",
       "      <td>3.0</td>\n",
       "      <td>2.0</td>\n",
       "      <td>All languages</td>\n",
       "      <td>Info no disponible</td>\n",
       "      <td>Info no disponible</td>\n",
       "      <td>Info no disponible</td>\n",
       "    </tr>\n",
       "  </tbody>\n",
       "</table>\n",
       "</div>"
      ],
      "text/plain": [
       "       restaurant_link       restaurant_name country     region  \\\n",
       "0  g10021880-d13763192  Taberna La Sacristia   Spain  Andalucia   \n",
       "1  g10021880-d15758746     Tasca el Capricho   Spain  Andalucia   \n",
       "2  g10021880-d19332558       Bar Las Adelfas   Spain  Andalucia   \n",
       "\n",
       "              province city  \\\n",
       "0  Province of Seville  NaN   \n",
       "1  Province of Seville  NaN   \n",
       "2  Province of Seville  NaN   \n",
       "\n",
       "                                             address  latitude  longitude  \\\n",
       "0      Calle del Concejo 19, 41870 Aznalcollar Spain  37.51928   -6.26885   \n",
       "1  Calle del 28 de Febrero 9, 41870 Aznalcollar S...  37.52065   -6.26822   \n",
       "2  Calle Perdon N° 23 Capilla de La Cruz, 41870 A...  37.52428   -6.27144   \n",
       "\n",
       "     claimed                              top_tags         price_range  \\\n",
       "0  Unclaimed                               Spanish  Info no disponible   \n",
       "1  Unclaimed                               Spanish  Info no disponible   \n",
       "2    Claimed  Mediterranean, Spanish, Grill, Diner  Info no disponible   \n",
       "\n",
       "                                      meals  \\\n",
       "0                        Info no disponible   \n",
       "1                        Info no disponible   \n",
       "2  Breakfast, Lunch, Dinner, Brunch, Drinks   \n",
       "\n",
       "                                            cuisines       special_diets  \\\n",
       "0                                            Spanish  Info no disponible   \n",
       "1                                            Spanish  Info no disponible   \n",
       "2  Mediterranean, Spanish, Grill, Diner, Dining bars  Info no disponible   \n",
       "\n",
       "             features vegetarian_friendly vegan_options gluten_free  \\\n",
       "0  Info no disponible                   N             N           N   \n",
       "1  Info no disponible                   N             N           N   \n",
       "2  Info no disponible                   N             N           N   \n",
       "\n",
       "                                 original_open_hours avg_rating  \\\n",
       "0                                 Info no disponible        3.0   \n",
       "1                                 Info no disponible        5.0   \n",
       "2  {\"Mon\": [], \"Tue\": [\"19:30-23:45\"], \"Wed\": [\"1...        3.0   \n",
       "\n",
       "  total_reviews_count default_language                food  \\\n",
       "0                 1.0          English  Info no disponible   \n",
       "1                 2.0    All languages  Info no disponible   \n",
       "2                 2.0    All languages  Info no disponible   \n",
       "\n",
       "              service               value  \n",
       "0  Info no disponible  Info no disponible  \n",
       "1  Info no disponible  Info no disponible  \n",
       "2  Info no disponible  Info no disponible  "
      ]
     },
     "execution_count": 115,
     "metadata": {},
     "output_type": "execute_result"
    }
   ],
   "source": [
    "df2.head(3)"
   ]
  },
  {
   "cell_type": "code",
   "execution_count": 116,
   "metadata": {},
   "outputs": [
    {
     "data": {
      "text/plain": [
       "(157477, 26)"
      ]
     },
     "execution_count": 116,
     "metadata": {},
     "output_type": "execute_result"
    }
   ],
   "source": [
    "df2.shape"
   ]
  },
  {
   "cell_type": "markdown",
   "metadata": {},
   "source": [
    "# DROPNA Latitude and Longitude 📍"
   ]
  },
  {
   "cell_type": "markdown",
   "metadata": {},
   "source": [
    "**NaNs**\n",
    "latitude - 1,5 % (2363 filas con Nans) \n",
    "longitude - 1,5% (2363 filas con Nans)"
   ]
  },
  {
   "cell_type": "code",
   "execution_count": 118,
   "metadata": {
    "scrolled": false
   },
   "outputs": [
    {
     "data": {
      "text/plain": [
       "NaN          2363\n",
       "40.429913      54\n",
       "40.090950      37\n",
       "41.400350      34\n",
       "39.575750      29\n",
       "Name: latitude, dtype: int64"
      ]
     },
     "execution_count": 118,
     "metadata": {},
     "output_type": "execute_result"
    }
   ],
   "source": [
    "df2.latitude.value_counts(dropna=False).head()"
   ]
  },
  {
   "cell_type": "code",
   "execution_count": 119,
   "metadata": {},
   "outputs": [],
   "source": [
    "df2.latitude = df2.latitude.fillna('hola')     #FILLNA LATITUDE"
   ]
  },
  {
   "cell_type": "code",
   "execution_count": 121,
   "metadata": {
    "scrolled": true
   },
   "outputs": [
    {
     "data": {
      "text/plain": [
       "2363"
      ]
     },
     "execution_count": 121,
     "metadata": {},
     "output_type": "execute_result"
    }
   ],
   "source": [
    "len(df2[(df2.latitude == 'hola')])"
   ]
  },
  {
   "cell_type": "code",
   "execution_count": 122,
   "metadata": {},
   "outputs": [],
   "source": [
    "df2 = df2.drop(df2[df2.latitude == 'hola'].index)      #  DROPPPP LATITUDE      "
   ]
  },
  {
   "cell_type": "code",
   "execution_count": 130,
   "metadata": {},
   "outputs": [
    {
     "data": {
      "text/plain": [
       "155114"
      ]
     },
     "execution_count": 130,
     "metadata": {},
     "output_type": "execute_result"
    }
   ],
   "source": [
    "#total filas     NaNs\n",
    "157477        -  2363"
   ]
  },
  {
   "cell_type": "code",
   "execution_count": 128,
   "metadata": {},
   "outputs": [
    {
     "data": {
      "text/plain": [
       "155114"
      ]
     },
     "execution_count": 128,
     "metadata": {},
     "output_type": "execute_result"
    }
   ],
   "source": [
    "len(df2.latitude)  "
   ]
  },
  {
   "cell_type": "code",
   "execution_count": 132,
   "metadata": {},
   "outputs": [
    {
     "data": {
      "text/plain": [
       "city                   0.653249\n",
       "province               0.188861\n",
       "restaurant_link        0.000000\n",
       "special_diets          0.000000\n",
       "service                0.000000\n",
       "food                   0.000000\n",
       "default_language       0.000000\n",
       "total_reviews_count    0.000000\n",
       "avg_rating             0.000000\n",
       "original_open_hours    0.000000\n",
       "gluten_free            0.000000\n",
       "vegan_options          0.000000\n",
       "vegetarian_friendly    0.000000\n",
       "features               0.000000\n",
       "cuisines               0.000000\n",
       "restaurant_name        0.000000\n",
       "meals                  0.000000\n",
       "price_range            0.000000\n",
       "top_tags               0.000000\n",
       "claimed                0.000000\n",
       "longitude              0.000000\n",
       "latitude               0.000000\n",
       "address                0.000000\n",
       "region                 0.000000\n",
       "country                0.000000\n",
       "value                  0.000000\n",
       "dtype: float64"
      ]
     },
     "execution_count": 132,
     "metadata": {},
     "output_type": "execute_result"
    }
   ],
   "source": [
    "porcentageCOL(df2)  #Comprobamos que al Dropear Latitude también longitude (con mismos NaNs)"
   ]
  },
  {
   "cell_type": "code",
   "execution_count": 10,
   "metadata": {
    "scrolled": false
   },
   "outputs": [
    {
     "data": {
      "text/plain": [
       "restaurant_link        0.0\n",
       "vegetarian_friendly    0.0\n",
       "city_village           0.0\n",
       "province_              0.0\n",
       "full_location          0.0\n",
       "lat_long               0.0\n",
       "value                  0.0\n",
       "service                0.0\n",
       "food                   0.0\n",
       "default_language       0.0\n",
       "total_reviews_count    0.0\n",
       "avg_rating             0.0\n",
       "original_open_hours    0.0\n",
       "gluten_free            0.0\n",
       "vegan_options          0.0\n",
       "features               0.0\n",
       "restaurant_name        0.0\n",
       "special_diets          0.0\n",
       "cuisines               0.0\n",
       "meals                  0.0\n",
       "price_range            0.0\n",
       "top_tags               0.0\n",
       "claimed                0.0\n",
       "longitude              0.0\n",
       "latitude               0.0\n",
       "address                0.0\n",
       "city                   0.0\n",
       "province               0.0\n",
       "region                 0.0\n",
       "country                0.0\n",
       "region_                0.0\n",
       "dtype: float64"
      ]
     },
     "execution_count": 10,
     "metadata": {},
     "output_type": "execute_result"
    }
   ],
   "source": [
    "porcentageCOL(df)"
   ]
  },
  {
   "cell_type": "code",
   "execution_count": 21,
   "metadata": {},
   "outputs": [
    {
     "data": {
      "text/plain": [
       "15000                                   Info no disponible\n",
       "15001                                   Info no disponible\n",
       "15002    Outdoor Seating, Seating, Wheelchair Accessibl...\n",
       "15003    Reservations, Seating, Wheelchair Accessible, ...\n",
       "Name: features, dtype: object"
      ]
     },
     "execution_count": 21,
     "metadata": {},
     "output_type": "execute_result"
    }
   ],
   "source": [
    "df.features.loc[15_000:15_003]"
   ]
  },
  {
   "cell_type": "markdown",
   "metadata": {},
   "source": [
    "# Obtain & Count  KEYWORDS  👩‍💻"
   ]
  },
  {
   "cell_type": "code",
   "execution_count": null,
   "metadata": {},
   "outputs": [],
   "source": [
    "lis= {}\n",
    "for kw in keywords_top_tags:\n",
    "    lis[kw]= 0\n",
    "    for index, fila in df1.iterrows():\n",
    "        if kw in str(fila['top_tags']):\n",
    "            lis[kw] += 1\n",
    "        else:\n",
    "            lis[kw] += 0"
   ]
  },
  {
   "cell_type": "code",
   "execution_count": 105,
   "metadata": {},
   "outputs": [],
   "source": [
    "def contador_kw(dataframe,lista_kws, column):\n",
    "    \"\"\"\n",
    "    Función para que me cuente cuantas veces aparece una Keyword (palabra clave) en cada fila, es decir,\n",
    "    que me vaya sumando las filas cada vez que se encuentre con esa palabra clave\n",
    "    \"\"\"\n",
    "    lis= {}\n",
    "    for kw in lista_kws:\n",
    "        lis[kw]= 0\n",
    "        for index, fila in dataframe.iterrows():\n",
    "            if kw in str(fila[str(column)]):\n",
    "                lis[kw] += 1\n",
    "            else:\n",
    "                lis[kw] += 0\n",
    "    return lis"
   ]
  },
  {
   "cell_type": "code",
   "execution_count": 21,
   "metadata": {},
   "outputs": [
    {
     "data": {
      "text/plain": [
       "0"
      ]
     },
     "execution_count": 21,
     "metadata": {},
     "output_type": "execute_result"
    }
   ],
   "source": [
    "keywords_top_tags.index('Native American')   #en la lista"
   ]
  },
  {
   "cell_type": "code",
   "execution_count": 210,
   "metadata": {
    "scrolled": true
   },
   "outputs": [
    {
     "data": {
      "text/html": [
       "<div>\n",
       "<style scoped>\n",
       "    .dataframe tbody tr th:only-of-type {\n",
       "        vertical-align: middle;\n",
       "    }\n",
       "\n",
       "    .dataframe tbody tr th {\n",
       "        vertical-align: top;\n",
       "    }\n",
       "\n",
       "    .dataframe thead th {\n",
       "        text-align: right;\n",
       "    }\n",
       "</style>\n",
       "<table border=\"1\" class=\"dataframe\">\n",
       "  <thead>\n",
       "    <tr style=\"text-align: right;\">\n",
       "      <th></th>\n",
       "      <th>restaurant_link</th>\n",
       "      <th>restaurant_name</th>\n",
       "      <th>original_location</th>\n",
       "      <th>country</th>\n",
       "      <th>region</th>\n",
       "      <th>province</th>\n",
       "      <th>city</th>\n",
       "      <th>address</th>\n",
       "      <th>latitude</th>\n",
       "      <th>longitude</th>\n",
       "      <th>claimed</th>\n",
       "      <th>awards</th>\n",
       "      <th>top_tags</th>\n",
       "      <th>price_range</th>\n",
       "      <th>meals</th>\n",
       "      <th>cuisines</th>\n",
       "      <th>special_diets</th>\n",
       "      <th>features</th>\n",
       "      <th>vegetarian_friendly</th>\n",
       "      <th>vegan_options</th>\n",
       "      <th>gluten_free</th>\n",
       "      <th>original_open_hours</th>\n",
       "      <th>open_days_per_week</th>\n",
       "      <th>open_hours_per_week</th>\n",
       "      <th>working_shifts_per_week</th>\n",
       "      <th>avg_rating</th>\n",
       "      <th>total_reviews_count</th>\n",
       "      <th>default_language</th>\n",
       "      <th>excellent</th>\n",
       "      <th>very_good</th>\n",
       "      <th>average</th>\n",
       "      <th>poor</th>\n",
       "      <th>terrible</th>\n",
       "      <th>food</th>\n",
       "      <th>service</th>\n",
       "      <th>value</th>\n",
       "      <th>atmosphere</th>\n",
       "      <th>keywords</th>\n",
       "    </tr>\n",
       "  </thead>\n",
       "  <tbody>\n",
       "    <tr>\n",
       "      <th>322353</th>\n",
       "      <td>g1026172-d7778478</td>\n",
       "      <td>Texas Tavern Guadarrama</td>\n",
       "      <td>[\"Europe\", \"Spain\", \"Community of Madrid\", \"Gu...</td>\n",
       "      <td>Spain</td>\n",
       "      <td>Community of Madrid</td>\n",
       "      <td>NaN</td>\n",
       "      <td>Guadarrama</td>\n",
       "      <td>Calle Doctor Fleming 8, 28440 Guadarrama Spain</td>\n",
       "      <td>40.674465</td>\n",
       "      <td>-4.092483</td>\n",
       "      <td>Unclaimed</td>\n",
       "      <td>Travellers' Choice, Certificate of Excellence ...</td>\n",
       "      <td>Cheap Eats, American, Native American, Gluten ...</td>\n",
       "      <td>Info no disponible</td>\n",
       "      <td>Lunch, Dinner</td>\n",
       "      <td>American, Native American</td>\n",
       "      <td>Gluten Free Options</td>\n",
       "      <td>Info no disponible</td>\n",
       "      <td>N</td>\n",
       "      <td>N</td>\n",
       "      <td>Y</td>\n",
       "      <td>Info no disponible</td>\n",
       "      <td>NaN</td>\n",
       "      <td>NaN</td>\n",
       "      <td>NaN</td>\n",
       "      <td>4.0</td>\n",
       "      <td>236.0</td>\n",
       "      <td>English</td>\n",
       "      <td>2.0</td>\n",
       "      <td>1.0</td>\n",
       "      <td>0.0</td>\n",
       "      <td>0.0</td>\n",
       "      <td>0.0</td>\n",
       "      <td>4.0</td>\n",
       "      <td>4.0</td>\n",
       "      <td>4.0</td>\n",
       "      <td>NaN</td>\n",
       "      <td>NaN</td>\n",
       "    </tr>\n",
       "    <tr>\n",
       "      <th>326318</th>\n",
       "      <td>g1063697-d13278162</td>\n",
       "      <td>Foster's Hollywood</td>\n",
       "      <td>[\"Europe\", \"Spain\", \"Valencian Country\", \"Prov...</td>\n",
       "      <td>Spain</td>\n",
       "      <td>Valencian Country</td>\n",
       "      <td>Province of Valencia</td>\n",
       "      <td>NaN</td>\n",
       "      <td>Autovía del Este, Km. 345 C.C. Bonaire, 46026 ...</td>\n",
       "      <td>39.472202</td>\n",
       "      <td>-0.487404</td>\n",
       "      <td>Unclaimed</td>\n",
       "      <td>NaN</td>\n",
       "      <td>Mid-range, American, Spanish, Native American</td>\n",
       "      <td>Info no disponible</td>\n",
       "      <td>Info no disponible</td>\n",
       "      <td>American, Spanish, Native American</td>\n",
       "      <td>Info no disponible</td>\n",
       "      <td>Seating, Wheelchair Accessible, Table Service</td>\n",
       "      <td>N</td>\n",
       "      <td>N</td>\n",
       "      <td>N</td>\n",
       "      <td>{\"Mon\": [\"13:00-18:00\"], \"Tue\": [\"13:00-18:00\"...</td>\n",
       "      <td>7.0</td>\n",
       "      <td>35.00</td>\n",
       "      <td>7.0</td>\n",
       "      <td>2.0</td>\n",
       "      <td>70.0</td>\n",
       "      <td>English</td>\n",
       "      <td>0.0</td>\n",
       "      <td>1.0</td>\n",
       "      <td>1.0</td>\n",
       "      <td>1.0</td>\n",
       "      <td>3.0</td>\n",
       "      <td>2.0</td>\n",
       "      <td>2.0</td>\n",
       "      <td>2.0</td>\n",
       "      <td>NaN</td>\n",
       "      <td>NaN</td>\n",
       "    </tr>\n",
       "    <tr>\n",
       "      <th>326806</th>\n",
       "      <td>g1063729-d3673968</td>\n",
       "      <td>El Olivo</td>\n",
       "      <td>[\"Europe\", \"Spain\", \"Valencian Country\", \"Prov...</td>\n",
       "      <td>Spain</td>\n",
       "      <td>Valencian Country</td>\n",
       "      <td>Province of Valencia</td>\n",
       "      <td>NaN</td>\n",
       "      <td>Calle Blasco Ibanez 1, 46370 Chiva Spain</td>\n",
       "      <td>39.472350</td>\n",
       "      <td>-0.714600</td>\n",
       "      <td>Claimed</td>\n",
       "      <td>NaN</td>\n",
       "      <td>Cheap Eats, American, Spanish, Native American</td>\n",
       "      <td>Info no disponible</td>\n",
       "      <td>Dinner</td>\n",
       "      <td>Spanish, American, Native American</td>\n",
       "      <td>Vegan Options</td>\n",
       "      <td>Info no disponible</td>\n",
       "      <td>N</td>\n",
       "      <td>Y</td>\n",
       "      <td>N</td>\n",
       "      <td>Info no disponible</td>\n",
       "      <td>NaN</td>\n",
       "      <td>NaN</td>\n",
       "      <td>NaN</td>\n",
       "      <td>3.0</td>\n",
       "      <td>31.0</td>\n",
       "      <td>English</td>\n",
       "      <td>1.0</td>\n",
       "      <td>2.0</td>\n",
       "      <td>1.0</td>\n",
       "      <td>0.0</td>\n",
       "      <td>0.0</td>\n",
       "      <td>3.0</td>\n",
       "      <td>3.0</td>\n",
       "      <td>3.0</td>\n",
       "      <td>NaN</td>\n",
       "      <td>NaN</td>\n",
       "    </tr>\n",
       "    <tr>\n",
       "      <th>368122</th>\n",
       "      <td>g187448-d17557601</td>\n",
       "      <td>Mai Tai BURGER&amp;COCKTAIL Bar</td>\n",
       "      <td>[\"Europe\", \"Spain\", \"Aragon\", \"Province of Zar...</td>\n",
       "      <td>Spain</td>\n",
       "      <td>Aragon</td>\n",
       "      <td>Province of Zaragoza</td>\n",
       "      <td>NaN</td>\n",
       "      <td>CALLE/ Marceliano Isabal número 3, pasaje CC E...</td>\n",
       "      <td>41.650486</td>\n",
       "      <td>-0.884644</td>\n",
       "      <td>Claimed</td>\n",
       "      <td>NaN</td>\n",
       "      <td>Mid-range, Native American</td>\n",
       "      <td>€15-€25</td>\n",
       "      <td>Lunch, Dinner, Brunch, After-hours, Drinks</td>\n",
       "      <td>Native American</td>\n",
       "      <td>Info no disponible</td>\n",
       "      <td>Info no disponible</td>\n",
       "      <td>N</td>\n",
       "      <td>N</td>\n",
       "      <td>N</td>\n",
       "      <td>{\"Mon\": [], \"Tue\": [\"12:00-16:00\", \"20:00-00:0...</td>\n",
       "      <td>6.0</td>\n",
       "      <td>52.00</td>\n",
       "      <td>11.0</td>\n",
       "      <td>4.0</td>\n",
       "      <td>35.0</td>\n",
       "      <td>All languages</td>\n",
       "      <td>20.0</td>\n",
       "      <td>6.0</td>\n",
       "      <td>2.0</td>\n",
       "      <td>4.0</td>\n",
       "      <td>3.0</td>\n",
       "      <td>4.0</td>\n",
       "      <td>5.0</td>\n",
       "      <td>4.0</td>\n",
       "      <td>NaN</td>\n",
       "      <td>NaN</td>\n",
       "    </tr>\n",
       "    <tr>\n",
       "      <th>387616</th>\n",
       "      <td>g187497-d13810601</td>\n",
       "      <td>The Fish &amp; Chips Shop Universitat</td>\n",
       "      <td>[\"Europe\", \"Spain\", \"Catalonia\", \"Province of ...</td>\n",
       "      <td>Spain</td>\n",
       "      <td>Catalonia</td>\n",
       "      <td>Province of Barcelona</td>\n",
       "      <td>NaN</td>\n",
       "      <td>Aribau 18, 08011 Barcelona Spain</td>\n",
       "      <td>41.386370</td>\n",
       "      <td>2.162170</td>\n",
       "      <td>Claimed</td>\n",
       "      <td>Travellers' Choice, Certificate of Excellence ...</td>\n",
       "      <td>Mid-range, Native American</td>\n",
       "      <td>€7-€12</td>\n",
       "      <td>Lunch, Dinner, After-hours, Drinks</td>\n",
       "      <td>Native American</td>\n",
       "      <td>Info no disponible</td>\n",
       "      <td>Info no disponible</td>\n",
       "      <td>N</td>\n",
       "      <td>N</td>\n",
       "      <td>N</td>\n",
       "      <td>{\"Mon\": [\"13:00-23:45\"], \"Tue\": [\"13:00-23:45\"...</td>\n",
       "      <td>7.0</td>\n",
       "      <td>75.75</td>\n",
       "      <td>7.0</td>\n",
       "      <td>4.0</td>\n",
       "      <td>50.0</td>\n",
       "      <td>English</td>\n",
       "      <td>8.0</td>\n",
       "      <td>3.0</td>\n",
       "      <td>2.0</td>\n",
       "      <td>1.0</td>\n",
       "      <td>0.0</td>\n",
       "      <td>4.0</td>\n",
       "      <td>4.0</td>\n",
       "      <td>4.0</td>\n",
       "      <td>NaN</td>\n",
       "      <td>NaN</td>\n",
       "    </tr>\n",
       "  </tbody>\n",
       "</table>\n",
       "</div>"
      ],
      "text/plain": [
       "           restaurant_link                    restaurant_name  \\\n",
       "322353   g1026172-d7778478            Texas Tavern Guadarrama   \n",
       "326318  g1063697-d13278162                 Foster's Hollywood   \n",
       "326806   g1063729-d3673968                           El Olivo   \n",
       "368122   g187448-d17557601        Mai Tai BURGER&COCKTAIL Bar   \n",
       "387616   g187497-d13810601  The Fish & Chips Shop Universitat   \n",
       "\n",
       "                                        original_location country  \\\n",
       "322353  [\"Europe\", \"Spain\", \"Community of Madrid\", \"Gu...   Spain   \n",
       "326318  [\"Europe\", \"Spain\", \"Valencian Country\", \"Prov...   Spain   \n",
       "326806  [\"Europe\", \"Spain\", \"Valencian Country\", \"Prov...   Spain   \n",
       "368122  [\"Europe\", \"Spain\", \"Aragon\", \"Province of Zar...   Spain   \n",
       "387616  [\"Europe\", \"Spain\", \"Catalonia\", \"Province of ...   Spain   \n",
       "\n",
       "                     region               province        city  \\\n",
       "322353  Community of Madrid                    NaN  Guadarrama   \n",
       "326318    Valencian Country   Province of Valencia         NaN   \n",
       "326806    Valencian Country   Province of Valencia         NaN   \n",
       "368122               Aragon   Province of Zaragoza         NaN   \n",
       "387616            Catalonia  Province of Barcelona         NaN   \n",
       "\n",
       "                                                  address   latitude  \\\n",
       "322353     Calle Doctor Fleming 8, 28440 Guadarrama Spain  40.674465   \n",
       "326318  Autovía del Este, Km. 345 C.C. Bonaire, 46026 ...  39.472202   \n",
       "326806           Calle Blasco Ibanez 1, 46370 Chiva Spain  39.472350   \n",
       "368122  CALLE/ Marceliano Isabal número 3, pasaje CC E...  41.650486   \n",
       "387616                   Aribau 18, 08011 Barcelona Spain  41.386370   \n",
       "\n",
       "        longitude    claimed  \\\n",
       "322353  -4.092483  Unclaimed   \n",
       "326318  -0.487404  Unclaimed   \n",
       "326806  -0.714600    Claimed   \n",
       "368122  -0.884644    Claimed   \n",
       "387616   2.162170    Claimed   \n",
       "\n",
       "                                                   awards  \\\n",
       "322353  Travellers' Choice, Certificate of Excellence ...   \n",
       "326318                                                NaN   \n",
       "326806                                                NaN   \n",
       "368122                                                NaN   \n",
       "387616  Travellers' Choice, Certificate of Excellence ...   \n",
       "\n",
       "                                                 top_tags         price_range  \\\n",
       "322353  Cheap Eats, American, Native American, Gluten ...  Info no disponible   \n",
       "326318      Mid-range, American, Spanish, Native American  Info no disponible   \n",
       "326806     Cheap Eats, American, Spanish, Native American  Info no disponible   \n",
       "368122                         Mid-range, Native American             €15-€25   \n",
       "387616                         Mid-range, Native American              €7-€12   \n",
       "\n",
       "                                             meals  \\\n",
       "322353                               Lunch, Dinner   \n",
       "326318                          Info no disponible   \n",
       "326806                                      Dinner   \n",
       "368122  Lunch, Dinner, Brunch, After-hours, Drinks   \n",
       "387616          Lunch, Dinner, After-hours, Drinks   \n",
       "\n",
       "                                  cuisines        special_diets  \\\n",
       "322353           American, Native American  Gluten Free Options   \n",
       "326318  American, Spanish, Native American   Info no disponible   \n",
       "326806  Spanish, American, Native American        Vegan Options   \n",
       "368122                     Native American   Info no disponible   \n",
       "387616                     Native American   Info no disponible   \n",
       "\n",
       "                                             features vegetarian_friendly  \\\n",
       "322353                             Info no disponible                   N   \n",
       "326318  Seating, Wheelchair Accessible, Table Service                   N   \n",
       "326806                             Info no disponible                   N   \n",
       "368122                             Info no disponible                   N   \n",
       "387616                             Info no disponible                   N   \n",
       "\n",
       "       vegan_options gluten_free  \\\n",
       "322353             N           Y   \n",
       "326318             N           N   \n",
       "326806             Y           N   \n",
       "368122             N           N   \n",
       "387616             N           N   \n",
       "\n",
       "                                      original_open_hours  open_days_per_week  \\\n",
       "322353                                 Info no disponible                 NaN   \n",
       "326318  {\"Mon\": [\"13:00-18:00\"], \"Tue\": [\"13:00-18:00\"...                 7.0   \n",
       "326806                                 Info no disponible                 NaN   \n",
       "368122  {\"Mon\": [], \"Tue\": [\"12:00-16:00\", \"20:00-00:0...                 6.0   \n",
       "387616  {\"Mon\": [\"13:00-23:45\"], \"Tue\": [\"13:00-23:45\"...                 7.0   \n",
       "\n",
       "        open_hours_per_week  working_shifts_per_week avg_rating  \\\n",
       "322353                  NaN                      NaN        4.0   \n",
       "326318                35.00                      7.0        2.0   \n",
       "326806                  NaN                      NaN        3.0   \n",
       "368122                52.00                     11.0        4.0   \n",
       "387616                75.75                      7.0        4.0   \n",
       "\n",
       "       total_reviews_count default_language  excellent  very_good  average  \\\n",
       "322353               236.0          English        2.0        1.0      0.0   \n",
       "326318                70.0          English        0.0        1.0      1.0   \n",
       "326806                31.0          English        1.0        2.0      1.0   \n",
       "368122                35.0    All languages       20.0        6.0      2.0   \n",
       "387616                50.0          English        8.0        3.0      2.0   \n",
       "\n",
       "        poor  terrible food service value  atmosphere keywords  \n",
       "322353   0.0       0.0  4.0     4.0   4.0         NaN      NaN  \n",
       "326318   1.0       3.0  2.0     2.0   2.0         NaN      NaN  \n",
       "326806   0.0       0.0  3.0     3.0   3.0         NaN      NaN  \n",
       "368122   4.0       3.0  4.0     5.0   4.0         NaN      NaN  \n",
       "387616   1.0       0.0  4.0     4.0   4.0         NaN      NaN  "
      ]
     },
     "execution_count": 210,
     "metadata": {},
     "output_type": "execute_result"
    }
   ],
   "source": [
    "df1[df1.top_tags.str.contains('Native American', regex=False)].head()    #en el df"
   ]
  },
  {
   "cell_type": "code",
   "execution_count": null,
   "metadata": {},
   "outputs": [],
   "source": []
  },
  {
   "cell_type": "code",
   "execution_count": 197,
   "metadata": {},
   "outputs": [],
   "source": [
    "def kw_sorted(dict_kw):\n",
    "    \"\"\"\n",
    "    Guardado en el .py, devuelve el diccionario ordenado de forma ascendente  \n",
    "    \"\"\"\n",
    "    kw_count = dict(sorted(dict_kw.items(), key=lambda item: item[1], reverse=True))\n",
    "    return kw_count "
   ]
  },
  {
   "cell_type": "code",
   "execution_count": null,
   "metadata": {},
   "outputs": [],
   "source": []
  },
  {
   "cell_type": "code",
   "execution_count": null,
   "metadata": {},
   "outputs": [],
   "source": []
  },
  {
   "cell_type": "markdown",
   "metadata": {},
   "source": [
    "# OPEN DF2"
   ]
  },
  {
   "cell_type": "code",
   "execution_count": 3,
   "metadata": {},
   "outputs": [
    {
     "data": {
      "text/html": [
       "<div>\n",
       "<style scoped>\n",
       "    .dataframe tbody tr th:only-of-type {\n",
       "        vertical-align: middle;\n",
       "    }\n",
       "\n",
       "    .dataframe tbody tr th {\n",
       "        vertical-align: top;\n",
       "    }\n",
       "\n",
       "    .dataframe thead th {\n",
       "        text-align: right;\n",
       "    }\n",
       "</style>\n",
       "<table border=\"1\" class=\"dataframe\">\n",
       "  <thead>\n",
       "    <tr style=\"text-align: right;\">\n",
       "      <th></th>\n",
       "      <th>restaurant_link</th>\n",
       "      <th>restaurant_name</th>\n",
       "      <th>country</th>\n",
       "      <th>region</th>\n",
       "      <th>province</th>\n",
       "      <th>city</th>\n",
       "      <th>address</th>\n",
       "      <th>latitude</th>\n",
       "      <th>longitude</th>\n",
       "      <th>claimed</th>\n",
       "      <th>...</th>\n",
       "      <th>vegetarian_friendly</th>\n",
       "      <th>vegan_options</th>\n",
       "      <th>gluten_free</th>\n",
       "      <th>original_open_hours</th>\n",
       "      <th>avg_rating</th>\n",
       "      <th>total_reviews_count</th>\n",
       "      <th>default_language</th>\n",
       "      <th>food</th>\n",
       "      <th>service</th>\n",
       "      <th>value</th>\n",
       "    </tr>\n",
       "  </thead>\n",
       "  <tbody>\n",
       "    <tr>\n",
       "      <th>0</th>\n",
       "      <td>g10021880-d13763192</td>\n",
       "      <td>Taberna La Sacristia</td>\n",
       "      <td>Spain</td>\n",
       "      <td>Andalucia</td>\n",
       "      <td>Province of Seville</td>\n",
       "      <td>NaN</td>\n",
       "      <td>Calle del Concejo 19, 41870 Aznalcollar Spain</td>\n",
       "      <td>37.51928</td>\n",
       "      <td>-6.26885</td>\n",
       "      <td>Unclaimed</td>\n",
       "      <td>...</td>\n",
       "      <td>N</td>\n",
       "      <td>N</td>\n",
       "      <td>N</td>\n",
       "      <td>Info no disponible</td>\n",
       "      <td>3.0</td>\n",
       "      <td>1.0</td>\n",
       "      <td>English</td>\n",
       "      <td>Info no disponible</td>\n",
       "      <td>Info no disponible</td>\n",
       "      <td>Info no disponible</td>\n",
       "    </tr>\n",
       "    <tr>\n",
       "      <th>1</th>\n",
       "      <td>g10021880-d15758746</td>\n",
       "      <td>Tasca el Capricho</td>\n",
       "      <td>Spain</td>\n",
       "      <td>Andalucia</td>\n",
       "      <td>Province of Seville</td>\n",
       "      <td>NaN</td>\n",
       "      <td>Calle del 28 de Febrero 9, 41870 Aznalcollar S...</td>\n",
       "      <td>37.52065</td>\n",
       "      <td>-6.26822</td>\n",
       "      <td>Unclaimed</td>\n",
       "      <td>...</td>\n",
       "      <td>N</td>\n",
       "      <td>N</td>\n",
       "      <td>N</td>\n",
       "      <td>Info no disponible</td>\n",
       "      <td>5.0</td>\n",
       "      <td>2.0</td>\n",
       "      <td>All languages</td>\n",
       "      <td>Info no disponible</td>\n",
       "      <td>Info no disponible</td>\n",
       "      <td>Info no disponible</td>\n",
       "    </tr>\n",
       "    <tr>\n",
       "      <th>2</th>\n",
       "      <td>g10021880-d19332558</td>\n",
       "      <td>Bar Las Adelfas</td>\n",
       "      <td>Spain</td>\n",
       "      <td>Andalucia</td>\n",
       "      <td>Province of Seville</td>\n",
       "      <td>NaN</td>\n",
       "      <td>Calle Perdon N° 23 Capilla de La Cruz, 41870 A...</td>\n",
       "      <td>37.52428</td>\n",
       "      <td>-6.27144</td>\n",
       "      <td>Claimed</td>\n",
       "      <td>...</td>\n",
       "      <td>N</td>\n",
       "      <td>N</td>\n",
       "      <td>N</td>\n",
       "      <td>{\"Mon\": [], \"Tue\": [\"19:30-23:45\"], \"Wed\": [\"1...</td>\n",
       "      <td>3.0</td>\n",
       "      <td>2.0</td>\n",
       "      <td>All languages</td>\n",
       "      <td>Info no disponible</td>\n",
       "      <td>Info no disponible</td>\n",
       "      <td>Info no disponible</td>\n",
       "    </tr>\n",
       "  </tbody>\n",
       "</table>\n",
       "<p>3 rows × 26 columns</p>\n",
       "</div>"
      ],
      "text/plain": [
       "       restaurant_link       restaurant_name country     region  \\\n",
       "0  g10021880-d13763192  Taberna La Sacristia   Spain  Andalucia   \n",
       "1  g10021880-d15758746     Tasca el Capricho   Spain  Andalucia   \n",
       "2  g10021880-d19332558       Bar Las Adelfas   Spain  Andalucia   \n",
       "\n",
       "              province city  \\\n",
       "0  Province of Seville  NaN   \n",
       "1  Province of Seville  NaN   \n",
       "2  Province of Seville  NaN   \n",
       "\n",
       "                                             address  latitude  longitude  \\\n",
       "0      Calle del Concejo 19, 41870 Aznalcollar Spain  37.51928   -6.26885   \n",
       "1  Calle del 28 de Febrero 9, 41870 Aznalcollar S...  37.52065   -6.26822   \n",
       "2  Calle Perdon N° 23 Capilla de La Cruz, 41870 A...  37.52428   -6.27144   \n",
       "\n",
       "     claimed  ... vegetarian_friendly vegan_options gluten_free  \\\n",
       "0  Unclaimed  ...                   N             N           N   \n",
       "1  Unclaimed  ...                   N             N           N   \n",
       "2    Claimed  ...                   N             N           N   \n",
       "\n",
       "                                 original_open_hours avg_rating  \\\n",
       "0                                 Info no disponible        3.0   \n",
       "1                                 Info no disponible        5.0   \n",
       "2  {\"Mon\": [], \"Tue\": [\"19:30-23:45\"], \"Wed\": [\"1...        3.0   \n",
       "\n",
       "  total_reviews_count default_language                food  \\\n",
       "0                 1.0          English  Info no disponible   \n",
       "1                 2.0    All languages  Info no disponible   \n",
       "2                 2.0    All languages  Info no disponible   \n",
       "\n",
       "              service               value  \n",
       "0  Info no disponible  Info no disponible  \n",
       "1  Info no disponible  Info no disponible  \n",
       "2  Info no disponible  Info no disponible  \n",
       "\n",
       "[3 rows x 26 columns]"
      ]
     },
     "execution_count": 3,
     "metadata": {},
     "output_type": "execute_result"
    }
   ],
   "source": [
    "#OPEN\n",
    "df2 = pd.read_csv('./DATA/data.CSV/df_Spain_good.csv')\n",
    "df2.head(3)"
   ]
  },
  {
   "cell_type": "code",
   "execution_count": 4,
   "metadata": {},
   "outputs": [
    {
     "data": {
      "text/html": [
       "<div>\n",
       "<style scoped>\n",
       "    .dataframe tbody tr th:only-of-type {\n",
       "        vertical-align: middle;\n",
       "    }\n",
       "\n",
       "    .dataframe tbody tr th {\n",
       "        vertical-align: top;\n",
       "    }\n",
       "\n",
       "    .dataframe thead th {\n",
       "        text-align: right;\n",
       "    }\n",
       "</style>\n",
       "<table border=\"1\" class=\"dataframe\">\n",
       "  <thead>\n",
       "    <tr style=\"text-align: right;\">\n",
       "      <th></th>\n",
       "      <th>restaurant_link</th>\n",
       "      <th>restaurant_name</th>\n",
       "      <th>country</th>\n",
       "      <th>region</th>\n",
       "      <th>province</th>\n",
       "      <th>city</th>\n",
       "      <th>address</th>\n",
       "      <th>latitude</th>\n",
       "      <th>longitude</th>\n",
       "      <th>claimed</th>\n",
       "      <th>...</th>\n",
       "      <th>total_reviews_count</th>\n",
       "      <th>default_language</th>\n",
       "      <th>food</th>\n",
       "      <th>service</th>\n",
       "      <th>value</th>\n",
       "      <th>lat_long</th>\n",
       "      <th>full_location</th>\n",
       "      <th>province_</th>\n",
       "      <th>city_village</th>\n",
       "      <th>region_</th>\n",
       "    </tr>\n",
       "  </thead>\n",
       "  <tbody>\n",
       "    <tr>\n",
       "      <th>0</th>\n",
       "      <td>g10021880-d13763192</td>\n",
       "      <td>Taberna La Sacristia</td>\n",
       "      <td>Spain</td>\n",
       "      <td>Andalucia</td>\n",
       "      <td>Province of Seville</td>\n",
       "      <td>0</td>\n",
       "      <td>Calle del Concejo 19, 41870 Aznalcollar Spain</td>\n",
       "      <td>37.51928</td>\n",
       "      <td>-6.26885</td>\n",
       "      <td>Unclaimed</td>\n",
       "      <td>...</td>\n",
       "      <td>1.0</td>\n",
       "      <td>English</td>\n",
       "      <td>Info no disponible</td>\n",
       "      <td>Info no disponible</td>\n",
       "      <td>Info no disponible</td>\n",
       "      <td>('37.51928', '-6.26885')</td>\n",
       "      <td>{'road': 'Calle Concejo', 'village': 'Aznalcól...</td>\n",
       "      <td>Sevilla</td>\n",
       "      <td>Aznalcóllar</td>\n",
       "      <td>Andalucía</td>\n",
       "    </tr>\n",
       "  </tbody>\n",
       "</table>\n",
       "<p>1 rows × 31 columns</p>\n",
       "</div>"
      ],
      "text/plain": [
       "       restaurant_link       restaurant_name country     region  \\\n",
       "0  g10021880-d13763192  Taberna La Sacristia   Spain  Andalucia   \n",
       "\n",
       "              province city                                        address  \\\n",
       "0  Province of Seville    0  Calle del Concejo 19, 41870 Aznalcollar Spain   \n",
       "\n",
       "   latitude  longitude    claimed  ... total_reviews_count default_language  \\\n",
       "0  37.51928   -6.26885  Unclaimed  ...                 1.0          English   \n",
       "\n",
       "                 food             service               value  \\\n",
       "0  Info no disponible  Info no disponible  Info no disponible   \n",
       "\n",
       "                   lat_long  \\\n",
       "0  ('37.51928', '-6.26885')   \n",
       "\n",
       "                                       full_location province_ city_village  \\\n",
       "0  {'road': 'Calle Concejo', 'village': 'Aznalcól...   Sevilla  Aznalcóllar   \n",
       "\n",
       "     region_  \n",
       "0  Andalucía  \n",
       "\n",
       "[1 rows x 31 columns]"
      ]
     },
     "execution_count": 4,
     "metadata": {},
     "output_type": "execute_result"
    }
   ],
   "source": [
    "df = pd.read_csv('df_tripAD_Spain.csv')\n",
    "df.head(1)"
   ]
  },
  {
   "cell_type": "code",
   "execution_count": 5,
   "metadata": {},
   "outputs": [
    {
     "data": {
      "text/plain": [
       "((155114, 26), (135719, 31))"
      ]
     },
     "execution_count": 5,
     "metadata": {},
     "output_type": "execute_result"
    }
   ],
   "source": [
    "df2.shape, df.shape"
   ]
  },
  {
   "cell_type": "markdown",
   "metadata": {},
   "source": [
    "### Meals"
   ]
  },
  {
   "cell_type": "code",
   "execution_count": 182,
   "metadata": {},
   "outputs": [
    {
     "data": {
      "text/plain": [
       "['Lunch',\n",
       " 'Breakfast',\n",
       " 'Drinks',\n",
       " 'Dinner',\n",
       " 'Info no disponible',\n",
       " 'Brunch',\n",
       " 'After-hours']"
      ]
     },
     "execution_count": 182,
     "metadata": {},
     "output_type": "execute_result"
    }
   ],
   "source": [
    "kw_meals = list(kw_column(df2, 'meals'))                \n",
    "kw_meals"
   ]
  },
  {
   "cell_type": "code",
   "execution_count": 183,
   "metadata": {},
   "outputs": [
    {
     "data": {
      "text/plain": [
       "7"
      ]
     },
     "execution_count": 183,
     "metadata": {},
     "output_type": "execute_result"
    }
   ],
   "source": [
    "len(kw_meals)"
   ]
  },
  {
   "cell_type": "code",
   "execution_count": 108,
   "metadata": {},
   "outputs": [
    {
     "data": {
      "text/plain": [
       "{'Lunch': 71951,\n",
       " 'Breakfast': 31982,\n",
       " 'Drinks': 18677,\n",
       " 'Dinner': 73790,\n",
       " 'Info no disponible': 70764,\n",
       " 'Brunch': 16331,\n",
       " 'After-hours': 15481}"
      ]
     },
     "execution_count": 108,
     "metadata": {},
     "output_type": "execute_result"
    }
   ],
   "source": [
    "kw_meals_count = contador_kw(df2, kw_meals, 'meals')    #CONTADOR -->  NO TOCAR\n",
    "kw_meals_count"
   ]
  },
  {
   "cell_type": "code",
   "execution_count": 107,
   "metadata": {},
   "outputs": [
    {
     "data": {
      "text/plain": [
       "Info no disponible            70764\n",
       "Lunch, Dinner                 23862\n",
       "Breakfast, Lunch, Dinner       9873\n",
       "Dinner                         6164\n",
       "Lunch, Dinner, After-hours     4795\n",
       "Name: meals, dtype: int64"
      ]
     },
     "execution_count": 107,
     "metadata": {},
     "output_type": "execute_result"
    }
   ],
   "source": [
    "df2.meals.value_counts().head()   #COMPROBAMOS   con 'Info no disponible' que haya contado bien"
   ]
  },
  {
   "cell_type": "code",
   "execution_count": 207,
   "metadata": {
    "scrolled": true
   },
   "outputs": [],
   "source": [
    "#SAVE dict_meals_JSON\n",
    "with open('dict_kw_meals_count.json', 'w') as kw:\n",
    "    json.dump(kw_meals_count, kw)  #GUARDAR"
   ]
  },
  {
   "cell_type": "code",
   "execution_count": 22,
   "metadata": {
    "scrolled": true
   },
   "outputs": [],
   "source": [
    "with open('./DATA/data.JSON/dict_kw_meals_count.json', 'r') as kw:\n",
    "    kw_meals_count = json.load(kw)  #ABRIR (en otra celda)\n",
    "    \n",
    "kw_meals_count_sorted = kw_sorted(kw_meals_count)   #DICT_.json para convertir en un df"
   ]
  },
  {
   "cell_type": "markdown",
   "metadata": {},
   "source": [
    "#### DF Meals"
   ]
  },
  {
   "cell_type": "code",
   "execution_count": 59,
   "metadata": {},
   "outputs": [
    {
     "data": {
      "text/html": [
       "<div>\n",
       "<style scoped>\n",
       "    .dataframe tbody tr th:only-of-type {\n",
       "        vertical-align: middle;\n",
       "    }\n",
       "\n",
       "    .dataframe tbody tr th {\n",
       "        vertical-align: top;\n",
       "    }\n",
       "\n",
       "    .dataframe thead th {\n",
       "        text-align: right;\n",
       "    }\n",
       "</style>\n",
       "<table border=\"1\" class=\"dataframe\">\n",
       "  <thead>\n",
       "    <tr style=\"text-align: right;\">\n",
       "      <th></th>\n",
       "      <th>total_kw</th>\n",
       "    </tr>\n",
       "    <tr>\n",
       "      <th>keyword_meals</th>\n",
       "      <th></th>\n",
       "    </tr>\n",
       "  </thead>\n",
       "  <tbody>\n",
       "    <tr>\n",
       "      <th>Dinner</th>\n",
       "      <td>73790</td>\n",
       "    </tr>\n",
       "    <tr>\n",
       "      <th>Lunch</th>\n",
       "      <td>71951</td>\n",
       "    </tr>\n",
       "    <tr>\n",
       "      <th>Info no disponible</th>\n",
       "      <td>70764</td>\n",
       "    </tr>\n",
       "    <tr>\n",
       "      <th>Breakfast</th>\n",
       "      <td>31982</td>\n",
       "    </tr>\n",
       "    <tr>\n",
       "      <th>Drinks</th>\n",
       "      <td>18677</td>\n",
       "    </tr>\n",
       "    <tr>\n",
       "      <th>Brunch</th>\n",
       "      <td>16331</td>\n",
       "    </tr>\n",
       "    <tr>\n",
       "      <th>After-hours</th>\n",
       "      <td>15481</td>\n",
       "    </tr>\n",
       "  </tbody>\n",
       "</table>\n",
       "</div>"
      ],
      "text/plain": [
       "                    total_kw\n",
       "keyword_meals               \n",
       "Dinner                 73790\n",
       "Lunch                  71951\n",
       "Info no disponible     70764\n",
       "Breakfast              31982\n",
       "Drinks                 18677\n",
       "Brunch                 16331\n",
       "After-hours            15481"
      ]
     },
     "execution_count": 59,
     "metadata": {},
     "output_type": "execute_result"
    }
   ],
   "source": [
    "df_kw_meals = pd.DataFrame(  [[key, kw_meals_count_sorted[key]]    for key in kw_meals_count_sorted.keys()],\n",
    "                          columns=['keyword_meals', 'total_kw' ])\n",
    "df_kw_meals = df_kw_meals.set_index('keyword_meals')\n",
    "df_kw_meals"
   ]
  },
  {
   "cell_type": "code",
   "execution_count": 58,
   "metadata": {},
   "outputs": [],
   "source": [
    "# df_kw_meals.plot(kind='bar')   GRAICAR CON PANDAS RAPIDAMENTE"
   ]
  },
  {
   "cell_type": "code",
   "execution_count": 57,
   "metadata": {},
   "outputs": [
    {
     "data": {
      "image/png": "[encoded data removed]",
      "text/plain": [
       "<Figure size 432x288 with 1 Axes>"
      ]
     },
     "metadata": {
      "needs_background": "light"
     },
     "output_type": "display_data"
    }
   ],
   "source": [
    "sns.barplot(x=df_kw_meals.total_kw, y=df_kw_meals.index, palette='mako');"
   ]
  },
  {
   "cell_type": "markdown",
   "metadata": {},
   "source": [
    "### Top Tags"
   ]
  },
  {
   "cell_type": "code",
   "execution_count": 178,
   "metadata": {},
   "outputs": [
    {
     "data": {
      "text/plain": [
       "['Latvian',\n",
       " 'Yunnan',\n",
       " 'Austrian',\n",
       " 'Asian',\n",
       " 'Danish',\n",
       " 'Brew Pub',\n",
       " 'Vegetarian Friendly',\n",
       " 'Anhui',\n",
       " 'Tibetan',\n",
       " 'Street Food',\n",
       " 'Eastern European',\n",
       " 'Assyrian',\n",
       " 'Scottish',\n",
       " 'Vegan Options',\n",
       " 'Latin']"
      ]
     },
     "execution_count": 178,
     "metadata": {},
     "output_type": "execute_result"
    }
   ],
   "source": [
    "kw_top_tags = list(kw_column(df2,'top_tags'))\n",
    "kw_top_tags[:15]"
   ]
  },
  {
   "cell_type": "code",
   "execution_count": 206,
   "metadata": {},
   "outputs": [
    {
     "data": {
      "text/plain": [
       "(176, 176)"
      ]
     },
     "execution_count": 206,
     "metadata": {},
     "output_type": "execute_result"
    }
   ],
   "source": [
    "len(kw_top_tags), len(lis_kw)"
   ]
  },
  {
   "cell_type": "code",
   "execution_count": 212,
   "metadata": {},
   "outputs": [],
   "source": [
    "import json\n",
    "\n",
    "#SAVE dict_JSON\n",
    "\n",
    "with open('lis_kw.json', 'w') as kw:  \n",
    "    json.dump(lis, kw)  #GUARDAR  (si lo guardamos sin un .json, se guarda en un .txt)"
   ]
  },
  {
   "cell_type": "code",
   "execution_count": 27,
   "metadata": {},
   "outputs": [],
   "source": [
    "with open('./DATA/data.JSON/lis_kw.json', 'r') as kw:\n",
    "    lis_kw = json.load(kw)  #ABRIR\n",
    "    \n",
    "kw_top_tags_count = lis_kw   #renombramos el dict.json\n",
    "kw_top_tags_count_sorted = kw_sorted(kw_top_tags_count)  #DICT_.json para convertir en un df"
   ]
  },
  {
   "cell_type": "raw",
   "metadata": {},
   "source": []
  },
  {
   "cell_type": "markdown",
   "metadata": {},
   "source": [
    "#### DF Top tags"
   ]
  },
  {
   "cell_type": "code",
   "execution_count": 62,
   "metadata": {
    "scrolled": false
   },
   "outputs": [],
   "source": [
    "df_kw_top_tags = pd.DataFrame( [[key, kw_top_tags_count_sorted[key]]    for key in kw_top_tags_count_sorted.keys()],\n",
    "                          columns=['keyword_top_tags', 'total_kw' ])\n",
    "df_kw_top_tags = df_kw_top_tags.set_index('keyword_top_tags')"
   ]
  },
  {
   "cell_type": "code",
   "execution_count": 61,
   "metadata": {},
   "outputs": [
    {
     "data": {
      "text/html": [
       "<div>\n",
       "<style scoped>\n",
       "    .dataframe tbody tr th:only-of-type {\n",
       "        vertical-align: middle;\n",
       "    }\n",
       "\n",
       "    .dataframe tbody tr th {\n",
       "        vertical-align: top;\n",
       "    }\n",
       "\n",
       "    .dataframe thead th {\n",
       "        text-align: right;\n",
       "    }\n",
       "</style>\n",
       "<table border=\"1\" class=\"dataframe\">\n",
       "  <thead>\n",
       "    <tr style=\"text-align: right;\">\n",
       "      <th></th>\n",
       "      <th>keyword_top_tags</th>\n",
       "      <th>total_kw</th>\n",
       "    </tr>\n",
       "  </thead>\n",
       "  <tbody>\n",
       "    <tr>\n",
       "      <th>0</th>\n",
       "      <td>Mid-range</td>\n",
       "      <td>79424</td>\n",
       "    </tr>\n",
       "    <tr>\n",
       "      <th>1</th>\n",
       "      <td>Spanish</td>\n",
       "      <td>76857</td>\n",
       "    </tr>\n",
       "    <tr>\n",
       "      <th>2</th>\n",
       "      <td>Mediterranean</td>\n",
       "      <td>53632</td>\n",
       "    </tr>\n",
       "    <tr>\n",
       "      <th>3</th>\n",
       "      <td>Cheap Eats</td>\n",
       "      <td>33494</td>\n",
       "    </tr>\n",
       "    <tr>\n",
       "      <th>4</th>\n",
       "      <td>European</td>\n",
       "      <td>20693</td>\n",
       "    </tr>\n",
       "    <tr>\n",
       "      <th>5</th>\n",
       "      <td>Bar</td>\n",
       "      <td>17524</td>\n",
       "    </tr>\n",
       "    <tr>\n",
       "      <th>6</th>\n",
       "      <td>Info no disponible</td>\n",
       "      <td>15633</td>\n",
       "    </tr>\n",
       "    <tr>\n",
       "      <th>7</th>\n",
       "      <td>Vegetarian Friendly</td>\n",
       "      <td>14291</td>\n",
       "    </tr>\n",
       "    <tr>\n",
       "      <th>8</th>\n",
       "      <td>Cafe</td>\n",
       "      <td>13308</td>\n",
       "    </tr>\n",
       "    <tr>\n",
       "      <th>9</th>\n",
       "      <td>Italian</td>\n",
       "      <td>10678</td>\n",
       "    </tr>\n",
       "    <tr>\n",
       "      <th>10</th>\n",
       "      <td>Pizza</td>\n",
       "      <td>8736</td>\n",
       "    </tr>\n",
       "    <tr>\n",
       "      <th>11</th>\n",
       "      <td>Pub</td>\n",
       "      <td>6635</td>\n",
       "    </tr>\n",
       "    <tr>\n",
       "      <th>12</th>\n",
       "      <td>International</td>\n",
       "      <td>6536</td>\n",
       "    </tr>\n",
       "    <tr>\n",
       "      <th>13</th>\n",
       "      <td>Seafood</td>\n",
       "      <td>6385</td>\n",
       "    </tr>\n",
       "    <tr>\n",
       "      <th>14</th>\n",
       "      <td>Fast food</td>\n",
       "      <td>5829</td>\n",
       "    </tr>\n",
       "  </tbody>\n",
       "</table>\n",
       "</div>"
      ],
      "text/plain": [
       "       keyword_top_tags  total_kw\n",
       "0             Mid-range     79424\n",
       "1               Spanish     76857\n",
       "2         Mediterranean     53632\n",
       "3            Cheap Eats     33494\n",
       "4              European     20693\n",
       "5                   Bar     17524\n",
       "6    Info no disponible     15633\n",
       "7   Vegetarian Friendly     14291\n",
       "8                  Cafe     13308\n",
       "9               Italian     10678\n",
       "10                Pizza      8736\n",
       "11                  Pub      6635\n",
       "12        International      6536\n",
       "13              Seafood      6385\n",
       "14            Fast food      5829"
      ]
     },
     "execution_count": 61,
     "metadata": {},
     "output_type": "execute_result"
    }
   ],
   "source": [
    "df_kw_top_tags.head(15)"
   ]
  },
  {
   "cell_type": "code",
   "execution_count": 64,
   "metadata": {},
   "outputs": [],
   "source": [
    "#df_kw_top_tags.head(20).plot(kind='bar')"
   ]
  },
  {
   "cell_type": "code",
   "execution_count": 66,
   "metadata": {},
   "outputs": [],
   "source": [
    "df_kw_top_tags = df_kw_top_tags.head(20)"
   ]
  },
  {
   "cell_type": "code",
   "execution_count": 67,
   "metadata": {},
   "outputs": [
    {
     "data": {
      "image/png": "[encoded data removed]",
      "text/plain": [
       "<Figure size 432x288 with 1 Axes>"
      ]
     },
     "metadata": {
      "needs_background": "light"
     },
     "output_type": "display_data"
    }
   ],
   "source": [
    "sns.barplot(x= df_kw_top_tags.total_kw, y=df_kw_top_tags.index, palette='crest');"
   ]
  },
  {
   "cell_type": "markdown",
   "metadata": {},
   "source": [
    "### Cuisines"
   ]
  },
  {
   "cell_type": "code",
   "execution_count": 180,
   "metadata": {},
   "outputs": [
    {
     "data": {
      "text/plain": [
       "['Latvian',\n",
       " 'Yunnan',\n",
       " 'Austrian',\n",
       " 'Asian',\n",
       " 'Danish',\n",
       " 'Brew Pub',\n",
       " 'Tibetan',\n",
       " 'Street Food',\n",
       " 'Eastern European',\n",
       " 'Assyrian']"
      ]
     },
     "execution_count": 180,
     "metadata": {},
     "output_type": "execute_result"
    }
   ],
   "source": [
    "kw_cuisines = list(kw_column(df2, 'cuisines'))\n",
    "kw_cuisines[:10]"
   ]
  },
  {
   "cell_type": "code",
   "execution_count": 181,
   "metadata": {},
   "outputs": [
    {
     "data": {
      "text/plain": [
       "153"
      ]
     },
     "execution_count": 181,
     "metadata": {},
     "output_type": "execute_result"
    }
   ],
   "source": [
    "len(kw_cuisines)"
   ]
  },
  {
   "cell_type": "code",
   "execution_count": null,
   "metadata": {
    "scrolled": false
   },
   "outputs": [],
   "source": [
    "kw_cuisines_count = contador_kw(df2, kw_cuisines, 'cuisines')     #CONTADOR   -->  NO TOCAR\n",
    "kw_cuisines_count"
   ]
  },
  {
   "cell_type": "code",
   "execution_count": 202,
   "metadata": {
    "scrolled": true
   },
   "outputs": [],
   "source": [
    "#SAVE dict_cuisin_JSON\n",
    "with open('dict_kw_cuisines_count.json', 'w') as kw:\n",
    "    json.dump(kw_cuisines_count, kw)  #GUARDAR"
   ]
  },
  {
   "cell_type": "code",
   "execution_count": 68,
   "metadata": {},
   "outputs": [],
   "source": [
    "with open('./DATA/data.JSON/dict_kw_cuisines_count.json', 'r') as kw:\n",
    "    kw_cuisines_count = json.load(kw)  #ABRIR (en otra celda)\n",
    "    \n",
    "kw_cuisines_count_sorted = kw_sorted(kw_cuisines_count)  #DICT_.json para convertir en un df"
   ]
  },
  {
   "cell_type": "markdown",
   "metadata": {},
   "source": [
    "#### DF Cuisines"
   ]
  },
  {
   "cell_type": "code",
   "execution_count": 69,
   "metadata": {},
   "outputs": [],
   "source": [
    "df_kw_cuisines = pd.DataFrame( [[key, kw_cuisines_count_sorted[key]]    for key in kw_cuisines_count_sorted.keys()],\n",
    "                          columns=['keyword_cuisines', 'total_kw' ])\n",
    "df_kw_cuisines = df_kw_cuisines.set_index('keyword_cuisines')"
   ]
  },
  {
   "cell_type": "code",
   "execution_count": 73,
   "metadata": {},
   "outputs": [],
   "source": [
    "df_kw_cuisines = df_kw_cuisines.head(20)"
   ]
  },
  {
   "cell_type": "code",
   "execution_count": 71,
   "metadata": {},
   "outputs": [],
   "source": [
    "# df_kw_cuisines.head(20).plot(kind='bar')"
   ]
  },
  {
   "cell_type": "code",
   "execution_count": 74,
   "metadata": {},
   "outputs": [
    {
     "data": {
      "image/png": "[encoded data removed]",
      "text/plain": [
       "<Figure size 432x288 with 1 Axes>"
      ]
     },
     "metadata": {
      "needs_background": "light"
     },
     "output_type": "display_data"
    }
   ],
   "source": [
    "sns.barplot(x=df_kw_cuisines.total_kw, y= df_kw_cuisines.index, palette='magma');"
   ]
  },
  {
   "cell_type": "markdown",
   "metadata": {},
   "source": [
    "### Special diets"
   ]
  },
  {
   "cell_type": "code",
   "execution_count": 69,
   "metadata": {},
   "outputs": [
    {
     "data": {
      "text/plain": [
       "['Kosher',\n",
       " 'Info no disponible',\n",
       " 'Halal',\n",
       " 'Vegan Options',\n",
       " 'Vegetarian Friendly',\n",
       " 'Gluten Free Options']"
      ]
     },
     "execution_count": 69,
     "metadata": {},
     "output_type": "execute_result"
    }
   ],
   "source": [
    "kw_special_diets = list(kw_column(df2,'special_diets'))\n",
    "kw_special_diets"
   ]
  },
  {
   "cell_type": "code",
   "execution_count": 112,
   "metadata": {},
   "outputs": [
    {
     "data": {
      "text/plain": [
       "6"
      ]
     },
     "execution_count": 112,
     "metadata": {},
     "output_type": "execute_result"
    }
   ],
   "source": [
    "len(kw_special_diets)"
   ]
  },
  {
   "cell_type": "code",
   "execution_count": 185,
   "metadata": {},
   "outputs": [
    {
     "data": {
      "text/plain": [
       "{'Kosher': 19,\n",
       " 'Info no disponible': 113158,\n",
       " 'Halal': 248,\n",
       " 'Vegan Options': 19934,\n",
       " 'Vegetarian Friendly': 37648,\n",
       " 'Gluten Free Options': 20630}"
      ]
     },
     "execution_count": 185,
     "metadata": {},
     "output_type": "execute_result"
    }
   ],
   "source": [
    "kw_special_diets_count = contador_kw(df2, kw_special_diets, 'special_diets')    #CONTADOR  -->  NO TOCAR\n",
    "kw_special_diets_count"
   ]
  },
  {
   "cell_type": "code",
   "execution_count": 209,
   "metadata": {},
   "outputs": [],
   "source": [
    "#SAVE dict_special_diets_JSON\n",
    "with open('dict_kw_special_diets_count.json', 'w') as kw:\n",
    "    json.dump(kw_special_diets_count, kw)  #GUARDAR\n"
   ]
  },
  {
   "cell_type": "code",
   "execution_count": 10,
   "metadata": {},
   "outputs": [],
   "source": [
    "with open('./DATA/data.JSON/dict_kw_special_diets_count.json', 'r') as kw:\n",
    "    kw_special_diets_count = json.load(kw)  #ABRIR (en otra celda)\n",
    "    \n",
    "kw_special_diets_count_sorted = kw_sorted(kw_special_diets_count)  #DICT_.json para convertir en un df"
   ]
  },
  {
   "cell_type": "markdown",
   "metadata": {},
   "source": [
    "#### DF Special diets  (NO usar)"
   ]
  },
  {
   "cell_type": "code",
   "execution_count": 11,
   "metadata": {},
   "outputs": [
    {
     "data": {
      "text/html": [
       "<div>\n",
       "<style scoped>\n",
       "    .dataframe tbody tr th:only-of-type {\n",
       "        vertical-align: middle;\n",
       "    }\n",
       "\n",
       "    .dataframe tbody tr th {\n",
       "        vertical-align: top;\n",
       "    }\n",
       "\n",
       "    .dataframe thead th {\n",
       "        text-align: right;\n",
       "    }\n",
       "</style>\n",
       "<table border=\"1\" class=\"dataframe\">\n",
       "  <thead>\n",
       "    <tr style=\"text-align: right;\">\n",
       "      <th></th>\n",
       "      <th>keyword</th>\n",
       "      <th>total_kw</th>\n",
       "    </tr>\n",
       "  </thead>\n",
       "  <tbody>\n",
       "    <tr>\n",
       "      <th>0</th>\n",
       "      <td>Info no disponible</td>\n",
       "      <td>113158</td>\n",
       "    </tr>\n",
       "    <tr>\n",
       "      <th>1</th>\n",
       "      <td>Vegetarian Friendly</td>\n",
       "      <td>37648</td>\n",
       "    </tr>\n",
       "    <tr>\n",
       "      <th>2</th>\n",
       "      <td>Gluten Free Options</td>\n",
       "      <td>20630</td>\n",
       "    </tr>\n",
       "    <tr>\n",
       "      <th>3</th>\n",
       "      <td>Vegan Options</td>\n",
       "      <td>19934</td>\n",
       "    </tr>\n",
       "    <tr>\n",
       "      <th>4</th>\n",
       "      <td>Halal</td>\n",
       "      <td>248</td>\n",
       "    </tr>\n",
       "    <tr>\n",
       "      <th>5</th>\n",
       "      <td>Kosher</td>\n",
       "      <td>19</td>\n",
       "    </tr>\n",
       "  </tbody>\n",
       "</table>\n",
       "</div>"
      ],
      "text/plain": [
       "               keyword  total_kw\n",
       "0   Info no disponible    113158\n",
       "1  Vegetarian Friendly     37648\n",
       "2  Gluten Free Options     20630\n",
       "3        Vegan Options     19934\n",
       "4                Halal       248\n",
       "5               Kosher        19"
      ]
     },
     "execution_count": 11,
     "metadata": {},
     "output_type": "execute_result"
    }
   ],
   "source": [
    "df_kw_special_diets = pd.DataFrame( [[key, kw_special_diets_count_sorted[key]]for key in kw_special_diets_count_sorted.keys()],\n",
    "                          columns=['keyword', 'total_kw' ])\n",
    "df_kw_special_diets"
   ]
  },
  {
   "cell_type": "code",
   "execution_count": 63,
   "metadata": {},
   "outputs": [
    {
     "data": {
      "text/plain": [
       "<AxesSubplot:>"
      ]
     },
     "execution_count": 63,
     "metadata": {},
     "output_type": "execute_result"
    },
    {
     "data": {
      "image/png": "[encoded data removed]",
      "text/plain": [
       "<Figure size 432x288 with 1 Axes>"
      ]
     },
     "metadata": {
      "needs_background": "light"
     },
     "output_type": "display_data"
    }
   ],
   "source": [
    "df_kw_special_diets.plot(kind='bar')"
   ]
  },
  {
   "cell_type": "markdown",
   "metadata": {},
   "source": [
    "### Features"
   ]
  },
  {
   "cell_type": "code",
   "execution_count": 72,
   "metadata": {},
   "outputs": [
    {
     "data": {
      "text/plain": [
       "['Waterfront',\n",
       " 'Wine and Beer',\n",
       " 'Parking Available',\n",
       " 'Jazz Bar',\n",
       " 'Digital Payments',\n",
       " 'Gift Cards Available',\n",
       " 'Family style',\n",
       " 'Live Music',\n",
       " 'Free Wifi',\n",
       " 'Accepts Visa',\n",
       " 'Free off-street parking',\n",
       " 'Drive Thru',\n",
       " 'Accepts Discover',\n",
       " 'Dog Friendly',\n",
       " 'Accepts Credit Cards']"
      ]
     },
     "execution_count": 72,
     "metadata": {},
     "output_type": "execute_result"
    }
   ],
   "source": [
    "kw_features = list(kw_column(df2, 'features'))\n",
    "kw_features[:15]"
   ]
  },
  {
   "cell_type": "code",
   "execution_count": 113,
   "metadata": {},
   "outputs": [
    {
     "data": {
      "text/plain": [
       "40"
      ]
     },
     "execution_count": 113,
     "metadata": {},
     "output_type": "execute_result"
    }
   ],
   "source": [
    "len(kw_features)"
   ]
  },
  {
   "cell_type": "code",
   "execution_count": null,
   "metadata": {},
   "outputs": [],
   "source": [
    "kw_features_count = contador_kw(df2, kw_features, 'features')    #CONTADOR  -->  NO TOCAR\n",
    "kw_features_count"
   ]
  },
  {
   "cell_type": "code",
   "execution_count": 211,
   "metadata": {},
   "outputs": [],
   "source": [
    "#SAVE dict_special_diets_JSON\n",
    "with open('dict_kw_features_count.json', 'w') as kw:\n",
    "    json.dump(kw_features_count, kw)                  #GUARDAR\n",
    "    "
   ]
  },
  {
   "cell_type": "code",
   "execution_count": 28,
   "metadata": {},
   "outputs": [],
   "source": [
    "# CHULETILLA SORTED   kw_features_count = dict(sorted(kw_features_count.items(), key=lambda item: item[1], reverse=True))"
   ]
  },
  {
   "cell_type": "code",
   "execution_count": 75,
   "metadata": {},
   "outputs": [],
   "source": [
    "with open('./DATA/data.JSON/dict_kw_features_count.json', 'r') as kw:\n",
    "    kw_features_count = json.load(kw)                #ABRIR (en otra celda)\n",
    "    \n",
    "kw_features_count_sorted = kw_sorted(kw_features_count)  #DICT_.json para convertir en un df"
   ]
  },
  {
   "cell_type": "markdown",
   "metadata": {},
   "source": [
    "#### DF Features"
   ]
  },
  {
   "cell_type": "code",
   "execution_count": 76,
   "metadata": {},
   "outputs": [],
   "source": [
    "df_kw_features = pd.DataFrame( [[key, kw_features_count_sorted[key]]    for key in kw_features_count_sorted.keys()],\n",
    "                          columns=['keyword_features', 'total_kw' ])\n",
    "df_kw_features = df_kw_features.set_index('keyword_features')"
   ]
  },
  {
   "cell_type": "code",
   "execution_count": 77,
   "metadata": {},
   "outputs": [],
   "source": [
    "df_kw_features = df_kw_features.head(20)"
   ]
  },
  {
   "cell_type": "code",
   "execution_count": 78,
   "metadata": {},
   "outputs": [],
   "source": [
    "#df_kw_features.head(20).plot(kind='bar')"
   ]
  },
  {
   "cell_type": "code",
   "execution_count": 79,
   "metadata": {},
   "outputs": [
    {
     "data": {
      "text/plain": [
       "<AxesSubplot:xlabel='total_kw', ylabel='keyword_features'>"
      ]
     },
     "execution_count": 79,
     "metadata": {},
     "output_type": "execute_result"
    },
    {
     "data": {
      "image/png": "[encoded data removed]",
      "text/plain": [
       "<Figure size 432x288 with 1 Axes>"
      ]
     },
     "metadata": {
      "needs_background": "light"
     },
     "output_type": "display_data"
    }
   ],
   "source": [
    "sns.barplot(x=df_kw_features.total_kw, y=df_kw_features.index, palette='viridis');"
   ]
  },
  {
   "cell_type": "markdown",
   "metadata": {},
   "source": [
    "### FAILS (no mirar)"
   ]
  },
  {
   "cell_type": "markdown",
   "metadata": {},
   "source": [
    "**funciones de keywords + counts (TOP TAGS)**"
   ]
  },
  {
   "cell_type": "code",
   "execution_count": 41,
   "metadata": {},
   "outputs": [],
   "source": [
    "def kw_column(columns):        #listas únicas de KW\n",
    "    d=list(df1[str(columns)].unique())\n",
    "    de = [e for e in d if type(e) == str]\n",
    "    dee = []\n",
    "    for e in de:\n",
    "        b = e.split(',')\n",
    "        dee.append(b)\n",
    "    lista = []\n",
    "    for e in dee:\n",
    "        for x in e:\n",
    "            lista.append(x.strip())\n",
    "    lista_unica_kw = set(lista)\n",
    "    return lista_unica_kw"
   ]
  },
  {
   "cell_type": "code",
   "execution_count": 83,
   "metadata": {},
   "outputs": [],
   "source": [
    "def contador_kw(lista_kws):   #CONTADOR \n",
    "    \"\"\"\n",
    "    \"\"\"\n",
    "    lis= {}\n",
    "    for kw in lista_kws:\n",
    "        lis[kw]= 0\n",
    "        for index, fila in df1.iterrows():\n",
    "            if kw in str(fila['top_tags']):\n",
    "                lis[kw] += 1\n",
    "            else:\n",
    "                lis[kw] += 0\n",
    "    return lis          "
   ]
  },
  {
   "cell_type": "code",
   "execution_count": 49,
   "metadata": {
    "scrolled": true
   },
   "outputs": [],
   "source": [
    "lis= {}\n",
    "for kw in keywords_top_tags:\n",
    "    lis[kw]= 0\n",
    "    for index, fila in df1.iterrows():\n",
    "        if kw in str(fila['top_tags']):\n",
    "            lis[kw] += 1\n",
    "        else:\n",
    "            lis[kw] += 0"
   ]
  },
  {
   "cell_type": "code",
   "execution_count": null,
   "metadata": {},
   "outputs": [],
   "source": []
  },
  {
   "cell_type": "markdown",
   "metadata": {},
   "source": [
    "## ANÁLISIS KW ⌨"
   ]
  },
  {
   "cell_type": "code",
   "execution_count": 17,
   "metadata": {},
   "outputs": [
    {
     "data": {
      "text/html": [
       "<div>\n",
       "<style scoped>\n",
       "    .dataframe tbody tr th:only-of-type {\n",
       "        vertical-align: middle;\n",
       "    }\n",
       "\n",
       "    .dataframe tbody tr th {\n",
       "        vertical-align: top;\n",
       "    }\n",
       "\n",
       "    .dataframe thead th {\n",
       "        text-align: right;\n",
       "    }\n",
       "</style>\n",
       "<table border=\"1\" class=\"dataframe\">\n",
       "  <thead>\n",
       "    <tr style=\"text-align: right;\">\n",
       "      <th></th>\n",
       "      <th>keyword</th>\n",
       "      <th>total_kw</th>\n",
       "    </tr>\n",
       "  </thead>\n",
       "  <tbody>\n",
       "    <tr>\n",
       "      <th>50</th>\n",
       "      <td>Street Food</td>\n",
       "      <td>521</td>\n",
       "    </tr>\n",
       "    <tr>\n",
       "      <th>51</th>\n",
       "      <td>Peruvian</td>\n",
       "      <td>520</td>\n",
       "    </tr>\n",
       "    <tr>\n",
       "      <th>52</th>\n",
       "      <td>Dining bars</td>\n",
       "      <td>503</td>\n",
       "    </tr>\n",
       "    <tr>\n",
       "      <th>53</th>\n",
       "      <td>Moroccan</td>\n",
       "      <td>494</td>\n",
       "    </tr>\n",
       "    <tr>\n",
       "      <th>54</th>\n",
       "      <td>Venezuelan</td>\n",
       "      <td>382</td>\n",
       "    </tr>\n",
       "    <tr>\n",
       "      <th>...</th>\n",
       "      <td>...</td>\n",
       "      <td>...</td>\n",
       "    </tr>\n",
       "    <tr>\n",
       "      <th>171</th>\n",
       "      <td>Latvian</td>\n",
       "      <td>1</td>\n",
       "    </tr>\n",
       "    <tr>\n",
       "      <th>172</th>\n",
       "      <td>Anhui</td>\n",
       "      <td>1</td>\n",
       "    </tr>\n",
       "    <tr>\n",
       "      <th>173</th>\n",
       "      <td>Ligurian</td>\n",
       "      <td>1</td>\n",
       "    </tr>\n",
       "    <tr>\n",
       "      <th>174</th>\n",
       "      <td>Beijing Specialties</td>\n",
       "      <td>1</td>\n",
       "    </tr>\n",
       "    <tr>\n",
       "      <th>175</th>\n",
       "      <td>Xinjiang</td>\n",
       "      <td>1</td>\n",
       "    </tr>\n",
       "  </tbody>\n",
       "</table>\n",
       "<p>126 rows × 2 columns</p>\n",
       "</div>"
      ],
      "text/plain": [
       "                 keyword  total_kw\n",
       "50           Street Food       521\n",
       "51              Peruvian       520\n",
       "52           Dining bars       503\n",
       "53              Moroccan       494\n",
       "54            Venezuelan       382\n",
       "..                   ...       ...\n",
       "171              Latvian         1\n",
       "172                Anhui         1\n",
       "173             Ligurian         1\n",
       "174  Beijing Specialties         1\n",
       "175             Xinjiang         1\n",
       "\n",
       "[126 rows x 2 columns]"
      ]
     },
     "execution_count": 17,
     "metadata": {},
     "output_type": "execute_result"
    }
   ],
   "source": [
    "df_kw_.loc[50:]"
   ]
  },
  {
   "cell_type": "code",
   "execution_count": 14,
   "metadata": {},
   "outputs": [
    {
     "data": {
      "text/html": [
       "<div>\n",
       "<style scoped>\n",
       "    .dataframe tbody tr th:only-of-type {\n",
       "        vertical-align: middle;\n",
       "    }\n",
       "\n",
       "    .dataframe tbody tr th {\n",
       "        vertical-align: top;\n",
       "    }\n",
       "\n",
       "    .dataframe thead th {\n",
       "        text-align: right;\n",
       "    }\n",
       "</style>\n",
       "<table border=\"1\" class=\"dataframe\">\n",
       "  <thead>\n",
       "    <tr style=\"text-align: right;\">\n",
       "      <th></th>\n",
       "      <th>keyword</th>\n",
       "      <th>total_kw</th>\n",
       "    </tr>\n",
       "  </thead>\n",
       "  <tbody>\n",
       "    <tr>\n",
       "      <th>25</th>\n",
       "      <td>Validated Parking</td>\n",
       "      <td>541</td>\n",
       "    </tr>\n",
       "    <tr>\n",
       "      <th>26</th>\n",
       "      <td>Dog Friendly</td>\n",
       "      <td>490</td>\n",
       "    </tr>\n",
       "    <tr>\n",
       "      <th>27</th>\n",
       "      <td>Private Dining</td>\n",
       "      <td>487</td>\n",
       "    </tr>\n",
       "    <tr>\n",
       "      <th>28</th>\n",
       "      <td>Live Music</td>\n",
       "      <td>454</td>\n",
       "    </tr>\n",
       "    <tr>\n",
       "      <th>29</th>\n",
       "      <td>Waterfront</td>\n",
       "      <td>448</td>\n",
       "    </tr>\n",
       "    <tr>\n",
       "      <th>30</th>\n",
       "      <td>Non-smoking restaurants</td>\n",
       "      <td>204</td>\n",
       "    </tr>\n",
       "    <tr>\n",
       "      <th>31</th>\n",
       "      <td>Beach</td>\n",
       "      <td>192</td>\n",
       "    </tr>\n",
       "    <tr>\n",
       "      <th>32</th>\n",
       "      <td>Buffet</td>\n",
       "      <td>176</td>\n",
       "    </tr>\n",
       "    <tr>\n",
       "      <th>33</th>\n",
       "      <td>Playgrounds</td>\n",
       "      <td>154</td>\n",
       "    </tr>\n",
       "    <tr>\n",
       "      <th>34</th>\n",
       "      <td>Accepts Discover</td>\n",
       "      <td>152</td>\n",
       "    </tr>\n",
       "    <tr>\n",
       "      <th>35</th>\n",
       "      <td>Sports bars</td>\n",
       "      <td>77</td>\n",
       "    </tr>\n",
       "    <tr>\n",
       "      <th>36</th>\n",
       "      <td>Valet Parking</td>\n",
       "      <td>64</td>\n",
       "    </tr>\n",
       "    <tr>\n",
       "      <th>37</th>\n",
       "      <td>Drive Thru</td>\n",
       "      <td>51</td>\n",
       "    </tr>\n",
       "    <tr>\n",
       "      <th>38</th>\n",
       "      <td>Jazz Bar</td>\n",
       "      <td>25</td>\n",
       "    </tr>\n",
       "    <tr>\n",
       "      <th>39</th>\n",
       "      <td>BYOB</td>\n",
       "      <td>19</td>\n",
       "    </tr>\n",
       "  </tbody>\n",
       "</table>\n",
       "</div>"
      ],
      "text/plain": [
       "                    keyword  total_kw\n",
       "25        Validated Parking       541\n",
       "26             Dog Friendly       490\n",
       "27           Private Dining       487\n",
       "28               Live Music       454\n",
       "29               Waterfront       448\n",
       "30  Non-smoking restaurants       204\n",
       "31                    Beach       192\n",
       "32                   Buffet       176\n",
       "33              Playgrounds       154\n",
       "34         Accepts Discover       152\n",
       "35              Sports bars        77\n",
       "36            Valet Parking        64\n",
       "37               Drive Thru        51\n",
       "38                 Jazz Bar        25\n",
       "39                     BYOB        19"
      ]
     },
     "execution_count": 14,
     "metadata": {},
     "output_type": "execute_result"
    }
   ],
   "source": [
    "df_kw_features.tail(15)"
   ]
  },
  {
   "cell_type": "code",
   "execution_count": 1355,
   "metadata": {},
   "outputs": [
    {
     "data": {
      "text/html": [
       "<div>\n",
       "<style scoped>\n",
       "    .dataframe tbody tr th:only-of-type {\n",
       "        vertical-align: middle;\n",
       "    }\n",
       "\n",
       "    .dataframe tbody tr th {\n",
       "        vertical-align: top;\n",
       "    }\n",
       "\n",
       "    .dataframe thead th {\n",
       "        text-align: right;\n",
       "    }\n",
       "</style>\n",
       "<table border=\"1\" class=\"dataframe\">\n",
       "  <thead>\n",
       "    <tr style=\"text-align: right;\">\n",
       "      <th></th>\n",
       "      <th>restaurant_link</th>\n",
       "      <th>restaurant_name</th>\n",
       "      <th>country</th>\n",
       "      <th>region</th>\n",
       "      <th>province</th>\n",
       "      <th>city</th>\n",
       "      <th>address</th>\n",
       "      <th>latitude</th>\n",
       "      <th>longitude</th>\n",
       "      <th>claimed</th>\n",
       "      <th>top_tags</th>\n",
       "      <th>price_range</th>\n",
       "      <th>meals</th>\n",
       "      <th>cuisines</th>\n",
       "      <th>special_diets</th>\n",
       "      <th>features</th>\n",
       "      <th>vegetarian_friendly</th>\n",
       "      <th>vegan_options</th>\n",
       "      <th>gluten_free</th>\n",
       "      <th>original_open_hours</th>\n",
       "      <th>avg_rating</th>\n",
       "      <th>total_reviews_count</th>\n",
       "      <th>default_language</th>\n",
       "      <th>food</th>\n",
       "      <th>service</th>\n",
       "      <th>value</th>\n",
       "    </tr>\n",
       "  </thead>\n",
       "  <tbody>\n",
       "    <tr>\n",
       "      <th>4</th>\n",
       "      <td>g10021880-d19847377</td>\n",
       "      <td>Nuevo jacaranda</td>\n",
       "      <td>Spain</td>\n",
       "      <td>Andalucia</td>\n",
       "      <td>Province of Seville</td>\n",
       "      <td>NaN</td>\n",
       "      <td>Calle del 28 de Febrero 2, 41870 Aznalcollar S...</td>\n",
       "      <td>37.52088</td>\n",
       "      <td>-6.26844</td>\n",
       "      <td>Claimed</td>\n",
       "      <td>Info no disponible</td>\n",
       "      <td>Info no disponible</td>\n",
       "      <td>Info no disponible</td>\n",
       "      <td>Info no disponible</td>\n",
       "      <td>Info no disponible</td>\n",
       "      <td>Reservations</td>\n",
       "      <td>N</td>\n",
       "      <td>N</td>\n",
       "      <td>N</td>\n",
       "      <td>Info no disponible</td>\n",
       "      <td>Info no disponible</td>\n",
       "      <td>Info no disponible</td>\n",
       "      <td>All languages</td>\n",
       "      <td>Info no disponible</td>\n",
       "      <td>Info no disponible</td>\n",
       "      <td>Info no disponible</td>\n",
       "    </tr>\n",
       "    <tr>\n",
       "      <th>7</th>\n",
       "      <td>g10052043-d12414243</td>\n",
       "      <td>Casal M&amp;M</td>\n",
       "      <td>Spain</td>\n",
       "      <td>Catalonia</td>\n",
       "      <td>Province of Barcelona</td>\n",
       "      <td>NaN</td>\n",
       "      <td>c/josep Fornells s/n Casal Del Poble, 08231 Ul...</td>\n",
       "      <td>41.52691</td>\n",
       "      <td>1.95851</td>\n",
       "      <td>Unclaimed</td>\n",
       "      <td>Info no disponible</td>\n",
       "      <td>Info no disponible</td>\n",
       "      <td>Breakfast, Lunch, Dinner</td>\n",
       "      <td>Info no disponible</td>\n",
       "      <td>Info no disponible</td>\n",
       "      <td>Info no disponible</td>\n",
       "      <td>N</td>\n",
       "      <td>N</td>\n",
       "      <td>N</td>\n",
       "      <td>{\"Mon\": [\"08:00-20:00\"], \"Tue\": [\"08:00-23:00\"...</td>\n",
       "      <td>5.0</td>\n",
       "      <td>4.0</td>\n",
       "      <td>All languages</td>\n",
       "      <td>Info no disponible</td>\n",
       "      <td>Info no disponible</td>\n",
       "      <td>Info no disponible</td>\n",
       "    </tr>\n",
       "    <tr>\n",
       "      <th>39</th>\n",
       "      <td>g1006061-d9767471</td>\n",
       "      <td>Es Raconet</td>\n",
       "      <td>Spain</td>\n",
       "      <td>Balearic Islands</td>\n",
       "      <td>Majorca</td>\n",
       "      <td>Esporles</td>\n",
       "      <td>Nou de San Pere 33 B, 07190 Esporles, Majorca ...</td>\n",
       "      <td>39.66948</td>\n",
       "      <td>2.57834</td>\n",
       "      <td>Unclaimed</td>\n",
       "      <td>Info no disponible</td>\n",
       "      <td>Info no disponible</td>\n",
       "      <td>Breakfast, Lunch</td>\n",
       "      <td>Info no disponible</td>\n",
       "      <td>Info no disponible</td>\n",
       "      <td>Info no disponible</td>\n",
       "      <td>N</td>\n",
       "      <td>N</td>\n",
       "      <td>N</td>\n",
       "      <td>{\"Mon\": [\"08:30-16:00\"], \"Tue\": [\"08:30-16:00\"...</td>\n",
       "      <td>5.0</td>\n",
       "      <td>1.0</td>\n",
       "      <td>All languages</td>\n",
       "      <td>Info no disponible</td>\n",
       "      <td>Info no disponible</td>\n",
       "      <td>Info no disponible</td>\n",
       "    </tr>\n",
       "    <tr>\n",
       "      <th>43</th>\n",
       "      <td>g1007323-d10153865</td>\n",
       "      <td>Sol Naixent</td>\n",
       "      <td>Spain</td>\n",
       "      <td>Catalonia</td>\n",
       "      <td>Province of Lleida</td>\n",
       "      <td>NaN</td>\n",
       "      <td>Calle Nacional 230 S/N, 25179, Vall de Boi Spain</td>\n",
       "      <td>41.62654</td>\n",
       "      <td>0.60559</td>\n",
       "      <td>Unclaimed</td>\n",
       "      <td>Info no disponible</td>\n",
       "      <td>Info no disponible</td>\n",
       "      <td>Info no disponible</td>\n",
       "      <td>Info no disponible</td>\n",
       "      <td>Info no disponible</td>\n",
       "      <td>Info no disponible</td>\n",
       "      <td>N</td>\n",
       "      <td>N</td>\n",
       "      <td>N</td>\n",
       "      <td>Info no disponible</td>\n",
       "      <td>Info no disponible</td>\n",
       "      <td>Info no disponible</td>\n",
       "      <td>All languages</td>\n",
       "      <td>Info no disponible</td>\n",
       "      <td>Info no disponible</td>\n",
       "      <td>Info no disponible</td>\n",
       "    </tr>\n",
       "    <tr>\n",
       "      <th>44</th>\n",
       "      <td>g1007323-d10153867</td>\n",
       "      <td>Braseria Coloma</td>\n",
       "      <td>Spain</td>\n",
       "      <td>Catalonia</td>\n",
       "      <td>Province of Lleida</td>\n",
       "      <td>NaN</td>\n",
       "      <td>Placa Eliseo Sales, 20, 25179, Vall de Boi Spain</td>\n",
       "      <td>41.36350</td>\n",
       "      <td>0.50661</td>\n",
       "      <td>Unclaimed</td>\n",
       "      <td>Info no disponible</td>\n",
       "      <td>Info no disponible</td>\n",
       "      <td>Info no disponible</td>\n",
       "      <td>Info no disponible</td>\n",
       "      <td>Info no disponible</td>\n",
       "      <td>Info no disponible</td>\n",
       "      <td>N</td>\n",
       "      <td>N</td>\n",
       "      <td>N</td>\n",
       "      <td>Info no disponible</td>\n",
       "      <td>Info no disponible</td>\n",
       "      <td>Info no disponible</td>\n",
       "      <td>All languages</td>\n",
       "      <td>Info no disponible</td>\n",
       "      <td>Info no disponible</td>\n",
       "      <td>Info no disponible</td>\n",
       "    </tr>\n",
       "  </tbody>\n",
       "</table>\n",
       "</div>"
      ],
      "text/plain": [
       "        restaurant_link  restaurant_name country            region  \\\n",
       "4   g10021880-d19847377  Nuevo jacaranda   Spain         Andalucia   \n",
       "7   g10052043-d12414243        Casal M&M   Spain         Catalonia   \n",
       "39    g1006061-d9767471       Es Raconet   Spain  Balearic Islands   \n",
       "43   g1007323-d10153865      Sol Naixent   Spain         Catalonia   \n",
       "44   g1007323-d10153867  Braseria Coloma   Spain         Catalonia   \n",
       "\n",
       "                 province      city  \\\n",
       "4     Province of Seville       NaN   \n",
       "7   Province of Barcelona       NaN   \n",
       "39                Majorca  Esporles   \n",
       "43     Province of Lleida       NaN   \n",
       "44     Province of Lleida       NaN   \n",
       "\n",
       "                                              address  latitude  longitude  \\\n",
       "4   Calle del 28 de Febrero 2, 41870 Aznalcollar S...  37.52088   -6.26844   \n",
       "7   c/josep Fornells s/n Casal Del Poble, 08231 Ul...  41.52691    1.95851   \n",
       "39  Nou de San Pere 33 B, 07190 Esporles, Majorca ...  39.66948    2.57834   \n",
       "43   Calle Nacional 230 S/N, 25179, Vall de Boi Spain  41.62654    0.60559   \n",
       "44   Placa Eliseo Sales, 20, 25179, Vall de Boi Spain  41.36350    0.50661   \n",
       "\n",
       "      claimed            top_tags         price_range  \\\n",
       "4     Claimed  Info no disponible  Info no disponible   \n",
       "7   Unclaimed  Info no disponible  Info no disponible   \n",
       "39  Unclaimed  Info no disponible  Info no disponible   \n",
       "43  Unclaimed  Info no disponible  Info no disponible   \n",
       "44  Unclaimed  Info no disponible  Info no disponible   \n",
       "\n",
       "                       meals            cuisines       special_diets  \\\n",
       "4         Info no disponible  Info no disponible  Info no disponible   \n",
       "7   Breakfast, Lunch, Dinner  Info no disponible  Info no disponible   \n",
       "39          Breakfast, Lunch  Info no disponible  Info no disponible   \n",
       "43        Info no disponible  Info no disponible  Info no disponible   \n",
       "44        Info no disponible  Info no disponible  Info no disponible   \n",
       "\n",
       "              features vegetarian_friendly vegan_options gluten_free  \\\n",
       "4         Reservations                   N             N           N   \n",
       "7   Info no disponible                   N             N           N   \n",
       "39  Info no disponible                   N             N           N   \n",
       "43  Info no disponible                   N             N           N   \n",
       "44  Info no disponible                   N             N           N   \n",
       "\n",
       "                                  original_open_hours          avg_rating  \\\n",
       "4                                  Info no disponible  Info no disponible   \n",
       "7   {\"Mon\": [\"08:00-20:00\"], \"Tue\": [\"08:00-23:00\"...                 5.0   \n",
       "39  {\"Mon\": [\"08:30-16:00\"], \"Tue\": [\"08:30-16:00\"...                 5.0   \n",
       "43                                 Info no disponible  Info no disponible   \n",
       "44                                 Info no disponible  Info no disponible   \n",
       "\n",
       "   total_reviews_count default_language                food  \\\n",
       "4   Info no disponible    All languages  Info no disponible   \n",
       "7                  4.0    All languages  Info no disponible   \n",
       "39                 1.0    All languages  Info no disponible   \n",
       "43  Info no disponible    All languages  Info no disponible   \n",
       "44  Info no disponible    All languages  Info no disponible   \n",
       "\n",
       "               service               value  \n",
       "4   Info no disponible  Info no disponible  \n",
       "7   Info no disponible  Info no disponible  \n",
       "39  Info no disponible  Info no disponible  \n",
       "43  Info no disponible  Info no disponible  \n",
       "44  Info no disponible  Info no disponible  "
      ]
     },
     "execution_count": 1355,
     "metadata": {},
     "output_type": "execute_result"
    }
   ],
   "source": [
    "df2[df2.top_tags.str.contains('Info no disponible', regex=False)].head()"
   ]
  },
  {
   "cell_type": "code",
   "execution_count": null,
   "metadata": {},
   "outputs": [],
   "source": []
  },
  {
   "cell_type": "markdown",
   "metadata": {},
   "source": [
    "# SAVE df 🔐"
   ]
  },
  {
   "cell_type": "markdown",
   "metadata": {},
   "source": [
    "## TOTAL DE RESTAURANTES x REGION"
   ]
  },
  {
   "cell_type": "code",
   "execution_count": 71,
   "metadata": {},
   "outputs": [],
   "source": [
    "table_region= dict(df2.region.value_counts(dropna=False))   #Diccionario "
   ]
  },
  {
   "cell_type": "code",
   "execution_count": 73,
   "metadata": {},
   "outputs": [],
   "source": [
    "df_table_region = pd.DataFrame.from_dict(table_region, orient='index').reset_index()"
   ]
  },
  {
   "cell_type": "code",
   "execution_count": 72,
   "metadata": {},
   "outputs": [],
   "source": [
    "columnas =['region', 'total_restaurantes']"
   ]
  },
  {
   "cell_type": "code",
   "execution_count": 74,
   "metadata": {},
   "outputs": [
    {
     "data": {
      "text/html": [
       "<div>\n",
       "<style scoped>\n",
       "    .dataframe tbody tr th:only-of-type {\n",
       "        vertical-align: middle;\n",
       "    }\n",
       "\n",
       "    .dataframe tbody tr th {\n",
       "        vertical-align: top;\n",
       "    }\n",
       "\n",
       "    .dataframe thead th {\n",
       "        text-align: right;\n",
       "    }\n",
       "</style>\n",
       "<table border=\"1\" class=\"dataframe\">\n",
       "  <thead>\n",
       "    <tr style=\"text-align: right;\">\n",
       "      <th></th>\n",
       "      <th>region</th>\n",
       "      <th>total_restaurantes</th>\n",
       "    </tr>\n",
       "  </thead>\n",
       "  <tbody>\n",
       "    <tr>\n",
       "      <th>0</th>\n",
       "      <td>Andalucia</td>\n",
       "      <td>29562</td>\n",
       "    </tr>\n",
       "    <tr>\n",
       "      <th>1</th>\n",
       "      <td>Catalonia</td>\n",
       "      <td>28569</td>\n",
       "    </tr>\n",
       "    <tr>\n",
       "      <th>2</th>\n",
       "      <td>Valencian Country</td>\n",
       "      <td>18406</td>\n",
       "    </tr>\n",
       "    <tr>\n",
       "      <th>3</th>\n",
       "      <td>Community of Madrid</td>\n",
       "      <td>18130</td>\n",
       "    </tr>\n",
       "    <tr>\n",
       "      <th>4</th>\n",
       "      <td>Canary Islands</td>\n",
       "      <td>12039</td>\n",
       "    </tr>\n",
       "    <tr>\n",
       "      <th>5</th>\n",
       "      <td>Balearic Islands</td>\n",
       "      <td>9190</td>\n",
       "    </tr>\n",
       "    <tr>\n",
       "      <th>6</th>\n",
       "      <td>Galicia</td>\n",
       "      <td>8082</td>\n",
       "    </tr>\n",
       "    <tr>\n",
       "      <th>7</th>\n",
       "      <td>Castile and Leon</td>\n",
       "      <td>6842</td>\n",
       "    </tr>\n",
       "    <tr>\n",
       "      <th>8</th>\n",
       "      <td>Basque Country</td>\n",
       "      <td>5226</td>\n",
       "    </tr>\n",
       "    <tr>\n",
       "      <th>9</th>\n",
       "      <td>Castile-La Mancha</td>\n",
       "      <td>3793</td>\n",
       "    </tr>\n",
       "    <tr>\n",
       "      <th>10</th>\n",
       "      <td>Asturias</td>\n",
       "      <td>3659</td>\n",
       "    </tr>\n",
       "    <tr>\n",
       "      <th>11</th>\n",
       "      <td>Aragon</td>\n",
       "      <td>3523</td>\n",
       "    </tr>\n",
       "    <tr>\n",
       "      <th>12</th>\n",
       "      <td>Region of Murcia</td>\n",
       "      <td>3443</td>\n",
       "    </tr>\n",
       "    <tr>\n",
       "      <th>13</th>\n",
       "      <td>Cantabria</td>\n",
       "      <td>2286</td>\n",
       "    </tr>\n",
       "    <tr>\n",
       "      <th>14</th>\n",
       "      <td>Extremadura</td>\n",
       "      <td>1963</td>\n",
       "    </tr>\n",
       "    <tr>\n",
       "      <th>15</th>\n",
       "      <td>Navarra</td>\n",
       "      <td>1378</td>\n",
       "    </tr>\n",
       "    <tr>\n",
       "      <th>16</th>\n",
       "      <td>La Rioja</td>\n",
       "      <td>901</td>\n",
       "    </tr>\n",
       "    <tr>\n",
       "      <th>17</th>\n",
       "      <td>Melilla</td>\n",
       "      <td>365</td>\n",
       "    </tr>\n",
       "    <tr>\n",
       "      <th>18</th>\n",
       "      <td>Ceuta</td>\n",
       "      <td>120</td>\n",
       "    </tr>\n",
       "  </tbody>\n",
       "</table>\n",
       "</div>"
      ],
      "text/plain": [
       "                 region  total_restaurantes\n",
       "0             Andalucia               29562\n",
       "1             Catalonia               28569\n",
       "2     Valencian Country               18406\n",
       "3   Community of Madrid               18130\n",
       "4        Canary Islands               12039\n",
       "5      Balearic Islands                9190\n",
       "6               Galicia                8082\n",
       "7      Castile and Leon                6842\n",
       "8        Basque Country                5226\n",
       "9     Castile-La Mancha                3793\n",
       "10             Asturias                3659\n",
       "11               Aragon                3523\n",
       "12     Region of Murcia                3443\n",
       "13            Cantabria                2286\n",
       "14          Extremadura                1963\n",
       "15              Navarra                1378\n",
       "16             La Rioja                 901\n",
       "17              Melilla                 365\n",
       "18                Ceuta                 120"
      ]
     },
     "execution_count": 74,
     "metadata": {},
     "output_type": "execute_result"
    }
   ],
   "source": [
    "df_table_region.columns = columnas\n",
    "df_table_region"
   ]
  },
  {
   "cell_type": "markdown",
   "metadata": {},
   "source": [
    "## Save DataFrame TripAd-Spain - RESTAURANTS 🔐"
   ]
  },
  {
   "cell_type": "code",
   "execution_count": 69,
   "metadata": {},
   "outputs": [],
   "source": [
    "df1.to_csv('df_tripAd_Spain_Restaurants.csv', header=True, index=False)"
   ]
  },
  {
   "cell_type": "code",
   "execution_count": 75,
   "metadata": {},
   "outputs": [],
   "source": [
    "df_table_region.to_csv('df_tablatotal_region_restaurant.csv', header=True, index=False)"
   ]
  },
  {
   "cell_type": "code",
   "execution_count": 78,
   "metadata": {},
   "outputs": [],
   "source": [
    "df_table_region.to_json('geo_jason_ccaa.json', orient=\"split\")"
   ]
  },
  {
   "cell_type": "code",
   "execution_count": null,
   "metadata": {},
   "outputs": [],
   "source": []
  },
  {
   "cell_type": "markdown",
   "metadata": {},
   "source": [
    "## SAVE DF2_SPAIN 🔔"
   ]
  },
  {
   "cell_type": "code",
   "execution_count": 61,
   "metadata": {},
   "outputs": [],
   "source": [
    "#SAVE\n",
    "df2.to_csv('df_Spain_good.csv', header=True, index=False)"
   ]
  },
  {
   "cell_type": "code",
   "execution_count": 35,
   "metadata": {},
   "outputs": [
    {
     "data": {
      "text/html": [
       "<div>\n",
       "<style scoped>\n",
       "    .dataframe tbody tr th:only-of-type {\n",
       "        vertical-align: middle;\n",
       "    }\n",
       "\n",
       "    .dataframe tbody tr th {\n",
       "        vertical-align: top;\n",
       "    }\n",
       "\n",
       "    .dataframe thead th {\n",
       "        text-align: right;\n",
       "    }\n",
       "</style>\n",
       "<table border=\"1\" class=\"dataframe\">\n",
       "  <thead>\n",
       "    <tr style=\"text-align: right;\">\n",
       "      <th></th>\n",
       "      <th>restaurant_link</th>\n",
       "      <th>restaurant_name</th>\n",
       "      <th>country</th>\n",
       "      <th>region</th>\n",
       "      <th>province</th>\n",
       "      <th>city</th>\n",
       "      <th>address</th>\n",
       "      <th>latitude</th>\n",
       "      <th>longitude</th>\n",
       "      <th>claimed</th>\n",
       "      <th>top_tags</th>\n",
       "      <th>price_range</th>\n",
       "      <th>meals</th>\n",
       "      <th>cuisines</th>\n",
       "      <th>special_diets</th>\n",
       "      <th>features</th>\n",
       "      <th>vegetarian_friendly</th>\n",
       "      <th>vegan_options</th>\n",
       "      <th>gluten_free</th>\n",
       "      <th>original_open_hours</th>\n",
       "      <th>avg_rating</th>\n",
       "      <th>total_reviews_count</th>\n",
       "      <th>default_language</th>\n",
       "      <th>food</th>\n",
       "      <th>service</th>\n",
       "      <th>value</th>\n",
       "    </tr>\n",
       "  </thead>\n",
       "  <tbody>\n",
       "    <tr>\n",
       "      <th>0</th>\n",
       "      <td>g10021880-d13763192</td>\n",
       "      <td>Taberna La Sacristia</td>\n",
       "      <td>Spain</td>\n",
       "      <td>Andalucia</td>\n",
       "      <td>Province of Seville</td>\n",
       "      <td>NaN</td>\n",
       "      <td>Calle del Concejo 19, 41870 Aznalcollar Spain</td>\n",
       "      <td>37.51928</td>\n",
       "      <td>-6.26885</td>\n",
       "      <td>Unclaimed</td>\n",
       "      <td>Spanish</td>\n",
       "      <td>Info no disponible</td>\n",
       "      <td>Info no disponible</td>\n",
       "      <td>Spanish</td>\n",
       "      <td>Info no disponible</td>\n",
       "      <td>Info no disponible</td>\n",
       "      <td>N</td>\n",
       "      <td>N</td>\n",
       "      <td>N</td>\n",
       "      <td>Info no disponible</td>\n",
       "      <td>3.0</td>\n",
       "      <td>1.0</td>\n",
       "      <td>English</td>\n",
       "      <td>Info no disponible</td>\n",
       "      <td>Info no disponible</td>\n",
       "      <td>Info no disponible</td>\n",
       "    </tr>\n",
       "    <tr>\n",
       "      <th>1</th>\n",
       "      <td>g10021880-d15758746</td>\n",
       "      <td>Tasca el Capricho</td>\n",
       "      <td>Spain</td>\n",
       "      <td>Andalucia</td>\n",
       "      <td>Province of Seville</td>\n",
       "      <td>NaN</td>\n",
       "      <td>Calle del 28 de Febrero 9, 41870 Aznalcollar S...</td>\n",
       "      <td>37.52065</td>\n",
       "      <td>-6.26822</td>\n",
       "      <td>Unclaimed</td>\n",
       "      <td>Spanish</td>\n",
       "      <td>Info no disponible</td>\n",
       "      <td>Info no disponible</td>\n",
       "      <td>Spanish</td>\n",
       "      <td>Info no disponible</td>\n",
       "      <td>Info no disponible</td>\n",
       "      <td>N</td>\n",
       "      <td>N</td>\n",
       "      <td>N</td>\n",
       "      <td>Info no disponible</td>\n",
       "      <td>5.0</td>\n",
       "      <td>2.0</td>\n",
       "      <td>All languages</td>\n",
       "      <td>Info no disponible</td>\n",
       "      <td>Info no disponible</td>\n",
       "      <td>Info no disponible</td>\n",
       "    </tr>\n",
       "    <tr>\n",
       "      <th>2</th>\n",
       "      <td>g10021880-d19332558</td>\n",
       "      <td>Bar Las Adelfas</td>\n",
       "      <td>Spain</td>\n",
       "      <td>Andalucia</td>\n",
       "      <td>Province of Seville</td>\n",
       "      <td>NaN</td>\n",
       "      <td>Calle Perdon N° 23 Capilla de La Cruz, 41870 A...</td>\n",
       "      <td>37.52428</td>\n",
       "      <td>-6.27144</td>\n",
       "      <td>Claimed</td>\n",
       "      <td>Mediterranean, Spanish, Grill, Diner</td>\n",
       "      <td>Info no disponible</td>\n",
       "      <td>Breakfast, Lunch, Dinner, Brunch, Drinks</td>\n",
       "      <td>Mediterranean, Spanish, Grill, Diner, Dining bars</td>\n",
       "      <td>Info no disponible</td>\n",
       "      <td>Info no disponible</td>\n",
       "      <td>N</td>\n",
       "      <td>N</td>\n",
       "      <td>N</td>\n",
       "      <td>{\"Mon\": [], \"Tue\": [\"19:30-23:45\"], \"Wed\": [\"1...</td>\n",
       "      <td>3.0</td>\n",
       "      <td>2.0</td>\n",
       "      <td>All languages</td>\n",
       "      <td>Info no disponible</td>\n",
       "      <td>Info no disponible</td>\n",
       "      <td>Info no disponible</td>\n",
       "    </tr>\n",
       "  </tbody>\n",
       "</table>\n",
       "</div>"
      ],
      "text/plain": [
       "       restaurant_link       restaurant_name country     region  \\\n",
       "0  g10021880-d13763192  Taberna La Sacristia   Spain  Andalucia   \n",
       "1  g10021880-d15758746     Tasca el Capricho   Spain  Andalucia   \n",
       "2  g10021880-d19332558       Bar Las Adelfas   Spain  Andalucia   \n",
       "\n",
       "              province city  \\\n",
       "0  Province of Seville  NaN   \n",
       "1  Province of Seville  NaN   \n",
       "2  Province of Seville  NaN   \n",
       "\n",
       "                                             address  latitude  longitude  \\\n",
       "0      Calle del Concejo 19, 41870 Aznalcollar Spain  37.51928   -6.26885   \n",
       "1  Calle del 28 de Febrero 9, 41870 Aznalcollar S...  37.52065   -6.26822   \n",
       "2  Calle Perdon N° 23 Capilla de La Cruz, 41870 A...  37.52428   -6.27144   \n",
       "\n",
       "     claimed                              top_tags         price_range  \\\n",
       "0  Unclaimed                               Spanish  Info no disponible   \n",
       "1  Unclaimed                               Spanish  Info no disponible   \n",
       "2    Claimed  Mediterranean, Spanish, Grill, Diner  Info no disponible   \n",
       "\n",
       "                                      meals  \\\n",
       "0                        Info no disponible   \n",
       "1                        Info no disponible   \n",
       "2  Breakfast, Lunch, Dinner, Brunch, Drinks   \n",
       "\n",
       "                                            cuisines       special_diets  \\\n",
       "0                                            Spanish  Info no disponible   \n",
       "1                                            Spanish  Info no disponible   \n",
       "2  Mediterranean, Spanish, Grill, Diner, Dining bars  Info no disponible   \n",
       "\n",
       "             features vegetarian_friendly vegan_options gluten_free  \\\n",
       "0  Info no disponible                   N             N           N   \n",
       "1  Info no disponible                   N             N           N   \n",
       "2  Info no disponible                   N             N           N   \n",
       "\n",
       "                                 original_open_hours avg_rating  \\\n",
       "0                                 Info no disponible        3.0   \n",
       "1                                 Info no disponible        5.0   \n",
       "2  {\"Mon\": [], \"Tue\": [\"19:30-23:45\"], \"Wed\": [\"1...        3.0   \n",
       "\n",
       "  total_reviews_count default_language                food  \\\n",
       "0                 1.0          English  Info no disponible   \n",
       "1                 2.0    All languages  Info no disponible   \n",
       "2                 2.0    All languages  Info no disponible   \n",
       "\n",
       "              service               value  \n",
       "0  Info no disponible  Info no disponible  \n",
       "1  Info no disponible  Info no disponible  \n",
       "2  Info no disponible  Info no disponible  "
      ]
     },
     "execution_count": 35,
     "metadata": {},
     "output_type": "execute_result"
    }
   ],
   "source": [
    "#OPEN\n",
    "df2 = pd.read_csv('./DATA/data.CSV/df_Spain_good.csv')\n",
    "df2.head(3)"
   ]
  },
  {
   "cell_type": "code",
   "execution_count": 7,
   "metadata": {},
   "outputs": [
    {
     "data": {
      "text/plain": [
       "(155114, 26)"
      ]
     },
     "execution_count": 7,
     "metadata": {},
     "output_type": "execute_result"
    }
   ],
   "source": [
    "df2.shape"
   ]
  },
  {
   "cell_type": "code",
   "execution_count": null,
   "metadata": {},
   "outputs": [],
   "source": []
  },
  {
   "cell_type": "code",
   "execution_count": null,
   "metadata": {},
   "outputs": [],
   "source": []
  },
  {
   "cell_type": "code",
   "execution_count": null,
   "metadata": {},
   "outputs": [],
   "source": []
  },
  {
   "cell_type": "markdown",
   "metadata": {},
   "source": [
    "# DF3 DROPNA Province & City 🏙"
   ]
  },
  {
   "cell_type": "code",
   "execution_count": 62,
   "metadata": {},
   "outputs": [],
   "source": [
    "df3 = df2.copy() "
   ]
  },
  {
   "cell_type": "code",
   "execution_count": 44,
   "metadata": {},
   "outputs": [
    {
     "data": {
      "text/plain": [
       "(155114, 26)"
      ]
     },
     "execution_count": 44,
     "metadata": {},
     "output_type": "execute_result"
    }
   ],
   "source": [
    "df3.shape"
   ]
  },
  {
   "cell_type": "markdown",
   "metadata": {},
   "source": [
    "# GEOPY"
   ]
  },
  {
   "cell_type": "markdown",
   "metadata": {},
   "source": [
    "## City"
   ]
  },
  {
   "cell_type": "code",
   "execution_count": null,
   "metadata": {},
   "outputs": [],
   "source": [
    "!pip install geopy"
   ]
  },
  {
   "cell_type": "code",
   "execution_count": 63,
   "metadata": {},
   "outputs": [],
   "source": [
    "from geopy.geocoders import Nominatim"
   ]
  },
  {
   "cell_type": "code",
   "execution_count": 64,
   "metadata": {},
   "outputs": [],
   "source": [
    "from geopy.extra.rate_limiter import RateLimiter"
   ]
  },
  {
   "cell_type": "code",
   "execution_count": 65,
   "metadata": {},
   "outputs": [],
   "source": [
    "geolocator = Nominatim(user_agent= 'geoapiExercises')"
   ]
  },
  {
   "cell_type": "code",
   "execution_count": 66,
   "metadata": {},
   "outputs": [],
   "source": [
    "geocode = RateLimiter(geolocator.geocode, min_delay_seconds=1)"
   ]
  },
  {
   "cell_type": "code",
   "execution_count": 67,
   "metadata": {},
   "outputs": [],
   "source": [
    "reverse = RateLimiter(geolocator.reverse, min_delay_seconds=1)"
   ]
  },
  {
   "cell_type": "code",
   "execution_count": null,
   "metadata": {},
   "outputs": [],
   "source": []
  },
  {
   "cell_type": "code",
   "execution_count": 42,
   "metadata": {},
   "outputs": [
    {
     "name": "stdout",
     "output_type": "stream",
     "text": [
      "4, Estrada Madrid - A Coruña, A Lapela, Coirós, A Coruña, Galicia, 15316, España\n"
     ]
    }
   ],
   "source": [
    "Latitude = \"43.248390\"\n",
    "Longitude = \"-8.161417\"\n",
    "\n",
    "location = geolocator.reverse(Latitude+\",\"+Longitude)\n",
    "print(location)"
   ]
  },
  {
   "cell_type": "code",
   "execution_count": 71,
   "metadata": {},
   "outputs": [
    {
     "data": {
      "text/plain": [
       "{'house_number': '4',\n",
       " 'road': 'Estrada Madrid - A Coruña',\n",
       " 'hamlet': 'A Lapela',\n",
       " 'borough': 'Coirós',\n",
       " 'village': 'Coirós',\n",
       " 'municipality': 'Coirós',\n",
       " 'province': 'A Coruña',\n",
       " 'state': 'Galicia',\n",
       " 'postcode': '15316',\n",
       " 'country': 'España',\n",
       " 'country_code': 'es'}"
      ]
     },
     "execution_count": 71,
     "metadata": {},
     "output_type": "execute_result"
    }
   ],
   "source": [
    "address = location.raw['address']\n",
    "address"
   ]
  },
  {
   "cell_type": "code",
   "execution_count": 73,
   "metadata": {},
   "outputs": [
    {
     "name": "stdout",
     "output_type": "stream",
     "text": [
      "city: Coirós\n",
      "province: A Coruña\n",
      "region: Galicia\n"
     ]
    }
   ],
   "source": [
    "city = address.get('borough', '')\n",
    "province = address.get('province', '')\n",
    "region = address.get('state', '')\n",
    "\n",
    "print(f'city: {city}')\n",
    "print(f'province: {province}')\n",
    "print(f'region: {region}')"
   ]
  },
  {
   "cell_type": "markdown",
   "metadata": {},
   "source": [
    "# GEOPY DF4 - PRUEBA Y ERROR 🌎"
   ]
  },
  {
   "cell_type": "code",
   "execution_count": 68,
   "metadata": {},
   "outputs": [],
   "source": [
    "df4 = df3.head(10).copy()"
   ]
  },
  {
   "cell_type": "code",
   "execution_count": 69,
   "metadata": {},
   "outputs": [],
   "source": [
    "#Creamos una columna vacia en el df para una -> TUPLA DE LAT Y LONG\n",
    "df4[\"lat_long\"] = ''"
   ]
  },
  {
   "cell_type": "code",
   "execution_count": 70,
   "metadata": {},
   "outputs": [],
   "source": [
    "def lat_lon():   #FAIL\n",
    "    mask = tuple(df4.latitude.astype(str)+','+df4.longitude.astype(str))\n",
    "    return mask"
   ]
  },
  {
   "cell_type": "code",
   "execution_count": 71,
   "metadata": {},
   "outputs": [],
   "source": [
    "def lat_lon():   #GOOD\n",
    "    lat = df4.latitude.astype(str)\n",
    "    long = df4.longitude.astype(str)\n",
    "    mask = tuple(zip(lat,long))\n",
    "    return mask"
   ]
  },
  {
   "cell_type": "code",
   "execution_count": 72,
   "metadata": {
    "scrolled": false
   },
   "outputs": [],
   "source": [
    "df4['lat_long'] = df4.loc[:,['lat_long']].apply(lambda x: lat_lon())"
   ]
  },
  {
   "cell_type": "code",
   "execution_count": 23,
   "metadata": {},
   "outputs": [
    {
     "name": "stdout",
     "output_type": "stream",
     "text": [
      "<class 'tuple'>\n",
      "<class 'tuple'>\n",
      "<class 'tuple'>\n"
     ]
    }
   ],
   "source": [
    "for lar in df4.lat_long.head(3):\n",
    "    print(type(lar))"
   ]
  },
  {
   "cell_type": "code",
   "execution_count": null,
   "metadata": {},
   "outputs": [],
   "source": []
  },
  {
   "cell_type": "code",
   "execution_count": null,
   "metadata": {
    "scrolled": true
   },
   "outputs": [],
   "source": [
    "#df4.region_ = df4.#lat_long.apply(lambda reg: geocolocator.reverse(reg).raw['address']['city'])\n",
    "#df4['region_'] = [x.state for x ]"
   ]
  },
  {
   "cell_type": "code",
   "execution_count": 276,
   "metadata": {},
   "outputs": [],
   "source": [
    "geocode = RateLimiter(geocolocator.geocode, min_delay_seconds=1)"
   ]
  },
  {
   "cell_type": "markdown",
   "metadata": {},
   "source": [
    "**df ['FULL_LOCATION']**"
   ]
  },
  {
   "cell_type": "code",
   "execution_count": 74,
   "metadata": {},
   "outputs": [],
   "source": [
    "df4['full_location'] = list(map(lambda regi: geolocator.reverse(regi).raw['address'], df4['lat_long']))\n",
    "# OR    df[\"city\"] = df[\"location_tuple\"].apply(lambda el: geolocator.reverse(el).raw[\"address\"][\"city\"])"
   ]
  },
  {
   "cell_type": "code",
   "execution_count": null,
   "metadata": {},
   "outputs": [],
   "source": [
    "df4.full_location = df4.full_location.apply(lambda x: list(x))   #NO APLICAR"
   ]
  },
  {
   "cell_type": "code",
   "execution_count": 75,
   "metadata": {
    "scrolled": true
   },
   "outputs": [
    {
     "data": {
      "text/html": [
       "<div>\n",
       "<style scoped>\n",
       "    .dataframe tbody tr th:only-of-type {\n",
       "        vertical-align: middle;\n",
       "    }\n",
       "\n",
       "    .dataframe tbody tr th {\n",
       "        vertical-align: top;\n",
       "    }\n",
       "\n",
       "    .dataframe thead th {\n",
       "        text-align: right;\n",
       "    }\n",
       "</style>\n",
       "<table border=\"1\" class=\"dataframe\">\n",
       "  <thead>\n",
       "    <tr style=\"text-align: right;\">\n",
       "      <th></th>\n",
       "      <th>region</th>\n",
       "      <th>full_location</th>\n",
       "      <th>lat_long</th>\n",
       "    </tr>\n",
       "  </thead>\n",
       "  <tbody>\n",
       "    <tr>\n",
       "      <th>0</th>\n",
       "      <td>Andalucia</td>\n",
       "      <td>{'road': 'Calle Concejo', 'village': 'Aznalcól...</td>\n",
       "      <td>(37.51928, -6.26885)</td>\n",
       "    </tr>\n",
       "    <tr>\n",
       "      <th>1</th>\n",
       "      <td>Andalucia</td>\n",
       "      <td>{'amenity': 'Farmacia Sánchez Martín', 'road':...</td>\n",
       "      <td>(37.52065, -6.26822)</td>\n",
       "    </tr>\n",
       "    <tr>\n",
       "      <th>2</th>\n",
       "      <td>Andalucia</td>\n",
       "      <td>{'road': 'Calle Perdón', 'village': 'Aznalcóll...</td>\n",
       "      <td>(37.52428, -6.27144)</td>\n",
       "    </tr>\n",
       "    <tr>\n",
       "      <th>3</th>\n",
       "      <td>Andalucia</td>\n",
       "      <td>{'road': 'Calle Concejo', 'village': 'Aznalcól...</td>\n",
       "      <td>(37.51714, -6.2686)</td>\n",
       "    </tr>\n",
       "    <tr>\n",
       "      <th>4</th>\n",
       "      <td>Andalucia</td>\n",
       "      <td>{'road': 'Calle Juan Carlos I', 'village': 'Az...</td>\n",
       "      <td>(37.52088, -6.26844)</td>\n",
       "    </tr>\n",
       "    <tr>\n",
       "      <th>5</th>\n",
       "      <td>Andalucia</td>\n",
       "      <td>{'amenity': 'Iglesia de Ntra. Sra. de la Conso...</td>\n",
       "      <td>(37.522625, -6.268723)</td>\n",
       "    </tr>\n",
       "    <tr>\n",
       "      <th>6</th>\n",
       "      <td>Catalonia</td>\n",
       "      <td>{'house_number': '272', 'road': 'Carrer de la ...</td>\n",
       "      <td>(41.41357, 2.18)</td>\n",
       "    </tr>\n",
       "    <tr>\n",
       "      <th>7</th>\n",
       "      <td>Catalonia</td>\n",
       "      <td>{'road': 'Carrer de Josep Fornell', 'village':...</td>\n",
       "      <td>(41.52691, 1.95851)</td>\n",
       "    </tr>\n",
       "    <tr>\n",
       "      <th>8</th>\n",
       "      <td>Catalonia</td>\n",
       "      <td>{'road': 'Carretera d'Olesa', 'village': 'Ulla...</td>\n",
       "      <td>(41.525303, 1.956932)</td>\n",
       "    </tr>\n",
       "    <tr>\n",
       "      <th>9</th>\n",
       "      <td>Catalonia</td>\n",
       "      <td>{'road': 'Carrer de la Serra', 'village': 'Ull...</td>\n",
       "      <td>(41.52775, 1.958487)</td>\n",
       "    </tr>\n",
       "  </tbody>\n",
       "</table>\n",
       "</div>"
      ],
      "text/plain": [
       "      region                                      full_location  \\\n",
       "0  Andalucia  {'road': 'Calle Concejo', 'village': 'Aznalcól...   \n",
       "1  Andalucia  {'amenity': 'Farmacia Sánchez Martín', 'road':...   \n",
       "2  Andalucia  {'road': 'Calle Perdón', 'village': 'Aznalcóll...   \n",
       "3  Andalucia  {'road': 'Calle Concejo', 'village': 'Aznalcól...   \n",
       "4  Andalucia  {'road': 'Calle Juan Carlos I', 'village': 'Az...   \n",
       "5  Andalucia  {'amenity': 'Iglesia de Ntra. Sra. de la Conso...   \n",
       "6  Catalonia  {'house_number': '272', 'road': 'Carrer de la ...   \n",
       "7  Catalonia  {'road': 'Carrer de Josep Fornell', 'village':...   \n",
       "8  Catalonia  {'road': 'Carretera d'Olesa', 'village': 'Ulla...   \n",
       "9  Catalonia  {'road': 'Carrer de la Serra', 'village': 'Ull...   \n",
       "\n",
       "                 lat_long  \n",
       "0    (37.51928, -6.26885)  \n",
       "1    (37.52065, -6.26822)  \n",
       "2    (37.52428, -6.27144)  \n",
       "3     (37.51714, -6.2686)  \n",
       "4    (37.52088, -6.26844)  \n",
       "5  (37.522625, -6.268723)  \n",
       "6        (41.41357, 2.18)  \n",
       "7     (41.52691, 1.95851)  \n",
       "8   (41.525303, 1.956932)  \n",
       "9    (41.52775, 1.958487)  "
      ]
     },
     "execution_count": 75,
     "metadata": {},
     "output_type": "execute_result"
    }
   ],
   "source": [
    "df4[['region', 'full_location', 'lat_long']]"
   ]
  },
  {
   "cell_type": "code",
   "execution_count": 78,
   "metadata": {},
   "outputs": [
    {
     "name": "stdout",
     "output_type": "stream",
     "text": [
      "<class 'dict'>\n",
      "<class 'dict'>\n",
      "<class 'dict'>\n",
      "<class 'dict'>\n",
      "<class 'dict'>\n",
      "<class 'dict'>\n",
      "<class 'dict'>\n",
      "<class 'dict'>\n",
      "<class 'dict'>\n",
      "<class 'dict'>\n"
     ]
    }
   ],
   "source": [
    "for v in df4.full_location:\n",
    "    print(type(v))"
   ]
  },
  {
   "cell_type": "code",
   "execution_count": null,
   "metadata": {},
   "outputs": [],
   "source": []
  },
  {
   "cell_type": "code",
   "execution_count": 481,
   "metadata": {},
   "outputs": [
    {
     "data": {
      "text/plain": [
       "{'house_number': '272',\n",
       " 'road': 'Carrer de la Indústria',\n",
       " 'neighbourhood': \"el Camp de l'Arpa del Clot\",\n",
       " 'city_district': 'Sant Martí',\n",
       " 'city': 'Barcelona',\n",
       " 'municipality': 'Barcelonès',\n",
       " 'county': 'Barcelona',\n",
       " 'state': 'Catalunya',\n",
       " 'postcode': '08037',\n",
       " 'country': 'España',\n",
       " 'country_code': 'es'}"
      ]
     },
     "execution_count": 481,
     "metadata": {},
     "output_type": "execute_result"
    }
   ],
   "source": [
    "df4.full_location.loc[6]"
   ]
  },
  {
   "cell_type": "code",
   "execution_count": 79,
   "metadata": {},
   "outputs": [
    {
     "ename": "KeyError",
     "evalue": "'city'",
     "output_type": "error",
     "traceback": [
      "\u001b[1;31m---------------------------------------------------------------------------\u001b[0m",
      "\u001b[1;31mKeyError\u001b[0m                                  Traceback (most recent call last)",
      "\u001b[1;32m<ipython-input-79-145fd395350a>\u001b[0m in \u001b[0;36m<module>\u001b[1;34m\u001b[0m\n\u001b[1;32m----> 1\u001b[1;33m \u001b[0mdf4\u001b[0m\u001b[1;33m[\u001b[0m\u001b[1;34m'province_'\u001b[0m\u001b[1;33m]\u001b[0m \u001b[1;33m=\u001b[0m \u001b[1;33m[\u001b[0m\u001b[0mval\u001b[0m\u001b[1;33m[\u001b[0m\u001b[1;34m'city'\u001b[0m\u001b[1;33m]\u001b[0m \u001b[1;32mfor\u001b[0m \u001b[0mval\u001b[0m \u001b[1;32min\u001b[0m \u001b[0mdf4\u001b[0m\u001b[1;33m.\u001b[0m\u001b[0mfull_location\u001b[0m\u001b[1;33m]\u001b[0m\u001b[1;33m\u001b[0m\u001b[1;33m\u001b[0m\u001b[0m\n\u001b[0m",
      "\u001b[1;32m<ipython-input-79-145fd395350a>\u001b[0m in \u001b[0;36m<listcomp>\u001b[1;34m(.0)\u001b[0m\n\u001b[1;32m----> 1\u001b[1;33m \u001b[0mdf4\u001b[0m\u001b[1;33m[\u001b[0m\u001b[1;34m'province_'\u001b[0m\u001b[1;33m]\u001b[0m \u001b[1;33m=\u001b[0m \u001b[1;33m[\u001b[0m\u001b[0mval\u001b[0m\u001b[1;33m[\u001b[0m\u001b[1;34m'city'\u001b[0m\u001b[1;33m]\u001b[0m \u001b[1;32mfor\u001b[0m \u001b[0mval\u001b[0m \u001b[1;32min\u001b[0m \u001b[0mdf4\u001b[0m\u001b[1;33m.\u001b[0m\u001b[0mfull_location\u001b[0m\u001b[1;33m]\u001b[0m\u001b[1;33m\u001b[0m\u001b[1;33m\u001b[0m\u001b[0m\n\u001b[0m",
      "\u001b[1;31mKeyError\u001b[0m: 'city'"
     ]
    }
   ],
   "source": [
    "df4['province_'] = [val['city'] for val in df4.full_location]"
   ]
  },
  {
   "cell_type": "code",
   "execution_count": 26,
   "metadata": {},
   "outputs": [],
   "source": [
    "df4['region_'] = [val['state'] for val in df4.full_location]\n",
    "df4['province_'] = [val['county'] for val in df4.full_location]"
   ]
  },
  {
   "cell_type": "code",
   "execution_count": 59,
   "metadata": {},
   "outputs": [
    {
     "data": {
      "text/html": [
       "<div>\n",
       "<style scoped>\n",
       "    .dataframe tbody tr th:only-of-type {\n",
       "        vertical-align: middle;\n",
       "    }\n",
       "\n",
       "    .dataframe tbody tr th {\n",
       "        vertical-align: top;\n",
       "    }\n",
       "\n",
       "    .dataframe thead th {\n",
       "        text-align: right;\n",
       "    }\n",
       "</style>\n",
       "<table border=\"1\" class=\"dataframe\">\n",
       "  <thead>\n",
       "    <tr style=\"text-align: right;\">\n",
       "      <th></th>\n",
       "      <th>region</th>\n",
       "      <th>region_</th>\n",
       "      <th>city</th>\n",
       "      <th>province</th>\n",
       "      <th>province_</th>\n",
       "      <th>city_</th>\n",
       "    </tr>\n",
       "  </thead>\n",
       "  <tbody>\n",
       "    <tr>\n",
       "      <th>0</th>\n",
       "      <td>Andalucia</td>\n",
       "      <td>Andalucía</td>\n",
       "      <td>NaN</td>\n",
       "      <td>Province of Seville</td>\n",
       "      <td>Sevilla</td>\n",
       "      <td>Andalucía</td>\n",
       "    </tr>\n",
       "    <tr>\n",
       "      <th>1</th>\n",
       "      <td>Andalucia</td>\n",
       "      <td>Andalucía</td>\n",
       "      <td>NaN</td>\n",
       "      <td>Province of Seville</td>\n",
       "      <td>Sevilla</td>\n",
       "      <td>Andalucía</td>\n",
       "    </tr>\n",
       "    <tr>\n",
       "      <th>2</th>\n",
       "      <td>Andalucia</td>\n",
       "      <td>Andalucía</td>\n",
       "      <td>NaN</td>\n",
       "      <td>Province of Seville</td>\n",
       "      <td>Sevilla</td>\n",
       "      <td>Andalucía</td>\n",
       "    </tr>\n",
       "    <tr>\n",
       "      <th>3</th>\n",
       "      <td>Andalucia</td>\n",
       "      <td>Andalucía</td>\n",
       "      <td>NaN</td>\n",
       "      <td>Province of Seville</td>\n",
       "      <td>Sevilla</td>\n",
       "      <td>Andalucía</td>\n",
       "    </tr>\n",
       "    <tr>\n",
       "      <th>4</th>\n",
       "      <td>Andalucia</td>\n",
       "      <td>Andalucía</td>\n",
       "      <td>NaN</td>\n",
       "      <td>Province of Seville</td>\n",
       "      <td>Sevilla</td>\n",
       "      <td>Andalucía</td>\n",
       "    </tr>\n",
       "    <tr>\n",
       "      <th>5</th>\n",
       "      <td>Andalucia</td>\n",
       "      <td>Andalucía</td>\n",
       "      <td>NaN</td>\n",
       "      <td>Province of Seville</td>\n",
       "      <td>Sevilla</td>\n",
       "      <td>Andalucía</td>\n",
       "    </tr>\n",
       "    <tr>\n",
       "      <th>6</th>\n",
       "      <td>Catalonia</td>\n",
       "      <td>Catalunya</td>\n",
       "      <td>NaN</td>\n",
       "      <td>Province of Barcelona</td>\n",
       "      <td>Barcelona</td>\n",
       "      <td>Catalunya</td>\n",
       "    </tr>\n",
       "    <tr>\n",
       "      <th>7</th>\n",
       "      <td>Catalonia</td>\n",
       "      <td>Catalunya</td>\n",
       "      <td>NaN</td>\n",
       "      <td>Province of Barcelona</td>\n",
       "      <td>Barcelona</td>\n",
       "      <td>Catalunya</td>\n",
       "    </tr>\n",
       "    <tr>\n",
       "      <th>8</th>\n",
       "      <td>Catalonia</td>\n",
       "      <td>Catalunya</td>\n",
       "      <td>NaN</td>\n",
       "      <td>Province of Barcelona</td>\n",
       "      <td>Barcelona</td>\n",
       "      <td>Catalunya</td>\n",
       "    </tr>\n",
       "    <tr>\n",
       "      <th>9</th>\n",
       "      <td>Catalonia</td>\n",
       "      <td>Catalunya</td>\n",
       "      <td>NaN</td>\n",
       "      <td>Province of Barcelona</td>\n",
       "      <td>Barcelona</td>\n",
       "      <td>Catalunya</td>\n",
       "    </tr>\n",
       "  </tbody>\n",
       "</table>\n",
       "</div>"
      ],
      "text/plain": [
       "      region    region_ city               province  province_      city_\n",
       "0  Andalucia  Andalucía  NaN    Province of Seville    Sevilla  Andalucía\n",
       "1  Andalucia  Andalucía  NaN    Province of Seville    Sevilla  Andalucía\n",
       "2  Andalucia  Andalucía  NaN    Province of Seville    Sevilla  Andalucía\n",
       "3  Andalucia  Andalucía  NaN    Province of Seville    Sevilla  Andalucía\n",
       "4  Andalucia  Andalucía  NaN    Province of Seville    Sevilla  Andalucía\n",
       "5  Andalucia  Andalucía  NaN    Province of Seville    Sevilla  Andalucía\n",
       "6  Catalonia  Catalunya  NaN  Province of Barcelona  Barcelona  Catalunya\n",
       "7  Catalonia  Catalunya  NaN  Province of Barcelona  Barcelona  Catalunya\n",
       "8  Catalonia  Catalunya  NaN  Province of Barcelona  Barcelona  Catalunya\n",
       "9  Catalonia  Catalunya  NaN  Province of Barcelona  Barcelona  Catalunya"
      ]
     },
     "execution_count": 59,
     "metadata": {},
     "output_type": "execute_result"
    }
   ],
   "source": [
    "df4[['region', 'region_', 'city', 'province', 'province_', 'city_']]"
   ]
  },
  {
   "cell_type": "markdown",
   "metadata": {},
   "source": [
    "**ANÁLISAMOS EL DICT DE [ 'FULL_LOCATION' ]**"
   ]
  },
  {
   "cell_type": "code",
   "execution_count": 44,
   "metadata": {},
   "outputs": [
    {
     "data": {
      "text/plain": [
       "[{'house_number': '272',\n",
       "  'road': 'Carrer de la Indústria',\n",
       "  'neighbourhood': \"el Camp de l'Arpa del Clot\",\n",
       "  'city_district': 'Sant Martí',\n",
       "  'city': 'Barcelona',\n",
       "  'municipality': 'Barcelonès',\n",
       "  'county': 'Barcelona',\n",
       "  'state': 'Catalunya',\n",
       "  'postcode': '08037',\n",
       "  'country': 'España',\n",
       "  'country_code': 'es'},\n",
       " {'road': 'Carrer de Josep Fornell',\n",
       "  'village': 'Ullastrell',\n",
       "  'municipality': 'Vallès Occidental',\n",
       "  'county': 'Barcelona',\n",
       "  'state': 'Catalunya',\n",
       "  'postcode': '08231',\n",
       "  'country': 'España',\n",
       "  'country_code': 'es'}]"
      ]
     },
     "execution_count": 44,
     "metadata": {},
     "output_type": "execute_result"
    }
   ],
   "source": [
    "a=list(df4.full_location) \n",
    "a[6:8]   #city vs village"
   ]
  },
  {
   "cell_type": "code",
   "execution_count": 84,
   "metadata": {},
   "outputs": [
    {
     "data": {
      "text/plain": [
       "dict_keys(['road', 'village', 'county', 'state', 'postcode', 'country', 'country_code'])"
      ]
     },
     "execution_count": 84,
     "metadata": {},
     "output_type": "execute_result"
    }
   ],
   "source": [
    "a[0].keys()"
   ]
  },
  {
   "cell_type": "code",
   "execution_count": 85,
   "metadata": {},
   "outputs": [
    {
     "data": {
      "text/plain": [
       "dict_values(['Calle Concejo', 'Aznalcóllar', 'Sevilla', 'Andalucía', '41870', 'España', 'es'])"
      ]
     },
     "execution_count": 85,
     "metadata": {},
     "output_type": "execute_result"
    }
   ],
   "source": [
    "a[0].values()"
   ]
  },
  {
   "cell_type": "code",
   "execution_count": 36,
   "metadata": {},
   "outputs": [
    {
     "data": {
      "text/plain": [
       "[['Calle Concejo',\n",
       "  'Aznalcóllar',\n",
       "  'Sevilla',\n",
       "  'Andalucía',\n",
       "  '41870',\n",
       "  'España',\n",
       "  'es'],\n",
       " ['Farmacia Sánchez Martín',\n",
       "  'Calle 28 de Febrero',\n",
       "  'Aznalcóllar',\n",
       "  'Sevilla',\n",
       "  'Andalucía',\n",
       "  '41870',\n",
       "  'España',\n",
       "  'es']]"
      ]
     },
     "execution_count": 36,
     "metadata": {},
     "output_type": "execute_result"
    }
   ],
   "source": [
    "b=[]\n",
    "for val in a:\n",
    "    va = list(val.values())\n",
    "    b.append(va)\n",
    "b[7:8]    "
   ]
  },
  {
   "cell_type": "code",
   "execution_count": 449,
   "metadata": {},
   "outputs": [
    {
     "data": {
      "text/plain": [
       "['Andalucía',\n",
       " 'Andalucía',\n",
       " 'Andalucía',\n",
       " 'Andalucía',\n",
       " 'Andalucía',\n",
       " 'Andalucía',\n",
       " 'Catalunya',\n",
       " 'Catalunya',\n",
       " 'Catalunya',\n",
       " 'Catalunya']"
      ]
     },
     "execution_count": 449,
     "metadata": {},
     "output_type": "execute_result"
    }
   ],
   "source": [
    "c = [val['state'] for val in a]  # or 'province'\n",
    "c"
   ]
  },
  {
   "cell_type": "code",
   "execution_count": null,
   "metadata": {},
   "outputs": [],
   "source": []
  },
  {
   "cell_type": "code",
   "execution_count": 255,
   "metadata": {},
   "outputs": [],
   "source": [
    "d = []\n",
    "for val in a:\n",
    "    try:\n",
    "        d.append(val['city'])  #  or  ['village']\n",
    "    except:\n",
    "        try:\n",
    "            d.append(val['village'])\n",
    "        except:\n",
    "            d.append(val['none'])"
   ]
  },
  {
   "cell_type": "code",
   "execution_count": 256,
   "metadata": {},
   "outputs": [
    {
     "data": {
      "text/plain": [
       "['Aznalcóllar',\n",
       " 'Aznalcóllar',\n",
       " 'Aznalcóllar',\n",
       " 'Aznalcóllar',\n",
       " 'Aznalcóllar',\n",
       " 'Aznalcóllar',\n",
       " 'Barcelona',\n",
       " 'Ullastrell',\n",
       " 'Ullastrell',\n",
       " 'Ullastrell']"
      ]
     },
     "execution_count": 256,
     "metadata": {},
     "output_type": "execute_result"
    }
   ],
   "source": [
    "d"
   ]
  },
  {
   "cell_type": "code",
   "execution_count": 48,
   "metadata": {
    "scrolled": false
   },
   "outputs": [
    {
     "data": {
      "text/plain": [
       "['none',\n",
       " 'none',\n",
       " 'none',\n",
       " 'none',\n",
       " 'none',\n",
       " 'none',\n",
       " 'Barcelona',\n",
       " 'none',\n",
       " 'none',\n",
       " 'none']"
      ]
     },
     "execution_count": 48,
     "metadata": {},
     "output_type": "execute_result"
    }
   ],
   "source": [
    "d"
   ]
  },
  {
   "cell_type": "markdown",
   "metadata": {},
   "source": [
    "## UNPACKING DICT PANDAS 🗝👜"
   ]
  },
  {
   "cell_type": "code",
   "execution_count": 76,
   "metadata": {},
   "outputs": [],
   "source": [
    "df5 = df4[['full_location']]  #UNPACKING una columna de diccionario en varias columnas"
   ]
  },
  {
   "cell_type": "code",
   "execution_count": 82,
   "metadata": {},
   "outputs": [],
   "source": [
    "df5 = df5.full_location.apply(pd.Series)   "
   ]
  },
  {
   "cell_type": "code",
   "execution_count": 1357,
   "metadata": {},
   "outputs": [
    {
     "data": {
      "text/html": [
       "<div>\n",
       "<style scoped>\n",
       "    .dataframe tbody tr th:only-of-type {\n",
       "        vertical-align: middle;\n",
       "    }\n",
       "\n",
       "    .dataframe tbody tr th {\n",
       "        vertical-align: top;\n",
       "    }\n",
       "\n",
       "    .dataframe thead th {\n",
       "        text-align: right;\n",
       "    }\n",
       "</style>\n",
       "<table border=\"1\" class=\"dataframe\">\n",
       "  <thead>\n",
       "    <tr style=\"text-align: right;\">\n",
       "      <th></th>\n",
       "      <th>road</th>\n",
       "      <th>village</th>\n",
       "      <th>county</th>\n",
       "      <th>state</th>\n",
       "      <th>postcode</th>\n",
       "      <th>country</th>\n",
       "      <th>country_code</th>\n",
       "      <th>amenity</th>\n",
       "      <th>house_number</th>\n",
       "      <th>neighbourhood</th>\n",
       "      <th>city_district</th>\n",
       "      <th>city</th>\n",
       "      <th>municipality</th>\n",
       "    </tr>\n",
       "  </thead>\n",
       "  <tbody>\n",
       "    <tr>\n",
       "      <th>0</th>\n",
       "      <td>Calle Concejo</td>\n",
       "      <td>Aznalcóllar</td>\n",
       "      <td>Sevilla</td>\n",
       "      <td>Andalucía</td>\n",
       "      <td>41870</td>\n",
       "      <td>España</td>\n",
       "      <td>es</td>\n",
       "      <td>NaN</td>\n",
       "      <td>NaN</td>\n",
       "      <td>NaN</td>\n",
       "      <td>NaN</td>\n",
       "      <td>NaN</td>\n",
       "      <td>NaN</td>\n",
       "    </tr>\n",
       "    <tr>\n",
       "      <th>1</th>\n",
       "      <td>Calle 28 de Febrero</td>\n",
       "      <td>Aznalcóllar</td>\n",
       "      <td>Sevilla</td>\n",
       "      <td>Andalucía</td>\n",
       "      <td>41870</td>\n",
       "      <td>España</td>\n",
       "      <td>es</td>\n",
       "      <td>Farmacia Sánchez Martín</td>\n",
       "      <td>NaN</td>\n",
       "      <td>NaN</td>\n",
       "      <td>NaN</td>\n",
       "      <td>NaN</td>\n",
       "      <td>NaN</td>\n",
       "    </tr>\n",
       "  </tbody>\n",
       "</table>\n",
       "</div>"
      ],
      "text/plain": [
       "                  road      village   county      state postcode country  \\\n",
       "0        Calle Concejo  Aznalcóllar  Sevilla  Andalucía    41870  España   \n",
       "1  Calle 28 de Febrero  Aznalcóllar  Sevilla  Andalucía    41870  España   \n",
       "\n",
       "  country_code                  amenity house_number neighbourhood  \\\n",
       "0           es                      NaN          NaN           NaN   \n",
       "1           es  Farmacia Sánchez Martín          NaN           NaN   \n",
       "\n",
       "  city_district city municipality  \n",
       "0           NaN  NaN          NaN  \n",
       "1           NaN  NaN          NaN  "
      ]
     },
     "execution_count": 1357,
     "metadata": {},
     "output_type": "execute_result"
    }
   ],
   "source": [
    "df5.head(2)"
   ]
  },
  {
   "cell_type": "code",
   "execution_count": 83,
   "metadata": {
    "scrolled": true
   },
   "outputs": [
    {
     "data": {
      "text/plain": [
       "house_number     0.9\n",
       "neighbourhood    0.9\n",
       "city_district    0.9\n",
       "city             0.9\n",
       "amenity          0.8\n",
       "municipality     0.6\n",
       "village          0.1\n",
       "postcode         0.1\n",
       "road             0.0\n",
       "county           0.0\n",
       "state            0.0\n",
       "country          0.0\n",
       "country_code     0.0\n",
       "dtype: float64"
      ]
     },
     "execution_count": 83,
     "metadata": {},
     "output_type": "execute_result"
    }
   ],
   "source": [
    "porcentageCOL(df5)"
   ]
  },
  {
   "cell_type": "code",
   "execution_count": 87,
   "metadata": {},
   "outputs": [
    {
     "data": {
      "text/html": [
       "<div>\n",
       "<style scoped>\n",
       "    .dataframe tbody tr th:only-of-type {\n",
       "        vertical-align: middle;\n",
       "    }\n",
       "\n",
       "    .dataframe tbody tr th {\n",
       "        vertical-align: top;\n",
       "    }\n",
       "\n",
       "    .dataframe thead th {\n",
       "        text-align: right;\n",
       "    }\n",
       "</style>\n",
       "<table border=\"1\" class=\"dataframe\">\n",
       "  <thead>\n",
       "    <tr style=\"text-align: right;\">\n",
       "      <th></th>\n",
       "      <th>state</th>\n",
       "      <th>county</th>\n",
       "      <th>city</th>\n",
       "      <th>village</th>\n",
       "    </tr>\n",
       "  </thead>\n",
       "  <tbody>\n",
       "    <tr>\n",
       "      <th>0</th>\n",
       "      <td>Andalucía</td>\n",
       "      <td>Sevilla</td>\n",
       "      <td>NaN</td>\n",
       "      <td>Aznalcóllar</td>\n",
       "    </tr>\n",
       "    <tr>\n",
       "      <th>1</th>\n",
       "      <td>Andalucía</td>\n",
       "      <td>Sevilla</td>\n",
       "      <td>NaN</td>\n",
       "      <td>Aznalcóllar</td>\n",
       "    </tr>\n",
       "    <tr>\n",
       "      <th>2</th>\n",
       "      <td>Andalucía</td>\n",
       "      <td>Sevilla</td>\n",
       "      <td>NaN</td>\n",
       "      <td>Aznalcóllar</td>\n",
       "    </tr>\n",
       "    <tr>\n",
       "      <th>3</th>\n",
       "      <td>Andalucía</td>\n",
       "      <td>Sevilla</td>\n",
       "      <td>NaN</td>\n",
       "      <td>Aznalcóllar</td>\n",
       "    </tr>\n",
       "    <tr>\n",
       "      <th>4</th>\n",
       "      <td>Andalucía</td>\n",
       "      <td>Sevilla</td>\n",
       "      <td>NaN</td>\n",
       "      <td>Aznalcóllar</td>\n",
       "    </tr>\n",
       "    <tr>\n",
       "      <th>5</th>\n",
       "      <td>Andalucía</td>\n",
       "      <td>Sevilla</td>\n",
       "      <td>NaN</td>\n",
       "      <td>Aznalcóllar</td>\n",
       "    </tr>\n",
       "    <tr>\n",
       "      <th>6</th>\n",
       "      <td>Catalunya</td>\n",
       "      <td>Barcelona</td>\n",
       "      <td>Barcelona</td>\n",
       "      <td>NaN</td>\n",
       "    </tr>\n",
       "    <tr>\n",
       "      <th>7</th>\n",
       "      <td>Catalunya</td>\n",
       "      <td>Barcelona</td>\n",
       "      <td>NaN</td>\n",
       "      <td>Ullastrell</td>\n",
       "    </tr>\n",
       "    <tr>\n",
       "      <th>8</th>\n",
       "      <td>Catalunya</td>\n",
       "      <td>Barcelona</td>\n",
       "      <td>NaN</td>\n",
       "      <td>Ullastrell</td>\n",
       "    </tr>\n",
       "    <tr>\n",
       "      <th>9</th>\n",
       "      <td>Catalunya</td>\n",
       "      <td>Barcelona</td>\n",
       "      <td>NaN</td>\n",
       "      <td>Ullastrell</td>\n",
       "    </tr>\n",
       "  </tbody>\n",
       "</table>\n",
       "</div>"
      ],
      "text/plain": [
       "       state     county       city      village\n",
       "0  Andalucía    Sevilla        NaN  Aznalcóllar\n",
       "1  Andalucía    Sevilla        NaN  Aznalcóllar\n",
       "2  Andalucía    Sevilla        NaN  Aznalcóllar\n",
       "3  Andalucía    Sevilla        NaN  Aznalcóllar\n",
       "4  Andalucía    Sevilla        NaN  Aznalcóllar\n",
       "5  Andalucía    Sevilla        NaN  Aznalcóllar\n",
       "6  Catalunya  Barcelona  Barcelona          NaN\n",
       "7  Catalunya  Barcelona        NaN   Ullastrell\n",
       "8  Catalunya  Barcelona        NaN   Ullastrell\n",
       "9  Catalunya  Barcelona        NaN   Ullastrell"
      ]
     },
     "execution_count": 87,
     "metadata": {},
     "output_type": "execute_result"
    }
   ],
   "source": [
    "df5[['state', 'county', 'city', 'village']]"
   ]
  },
  {
   "cell_type": "code",
   "execution_count": 122,
   "metadata": {},
   "outputs": [
    {
     "data": {
      "text/html": [
       "<div>\n",
       "<style scoped>\n",
       "    .dataframe tbody tr th:only-of-type {\n",
       "        vertical-align: middle;\n",
       "    }\n",
       "\n",
       "    .dataframe tbody tr th {\n",
       "        vertical-align: top;\n",
       "    }\n",
       "\n",
       "    .dataframe thead th {\n",
       "        text-align: right;\n",
       "    }\n",
       "</style>\n",
       "<table border=\"1\" class=\"dataframe\">\n",
       "  <thead>\n",
       "    <tr style=\"text-align: right;\">\n",
       "      <th></th>\n",
       "      <th>region_</th>\n",
       "      <th>province_</th>\n",
       "    </tr>\n",
       "  </thead>\n",
       "  <tbody>\n",
       "    <tr>\n",
       "      <th>0</th>\n",
       "      <td>Andalucía</td>\n",
       "      <td>Sevilla</td>\n",
       "    </tr>\n",
       "    <tr>\n",
       "      <th>1</th>\n",
       "      <td>Andalucía</td>\n",
       "      <td>Sevilla</td>\n",
       "    </tr>\n",
       "    <tr>\n",
       "      <th>2</th>\n",
       "      <td>Andalucía</td>\n",
       "      <td>Sevilla</td>\n",
       "    </tr>\n",
       "    <tr>\n",
       "      <th>3</th>\n",
       "      <td>Andalucía</td>\n",
       "      <td>Sevilla</td>\n",
       "    </tr>\n",
       "    <tr>\n",
       "      <th>4</th>\n",
       "      <td>Andalucía</td>\n",
       "      <td>Sevilla</td>\n",
       "    </tr>\n",
       "    <tr>\n",
       "      <th>5</th>\n",
       "      <td>Andalucía</td>\n",
       "      <td>Sevilla</td>\n",
       "    </tr>\n",
       "    <tr>\n",
       "      <th>6</th>\n",
       "      <td>Catalunya</td>\n",
       "      <td>Barcelona</td>\n",
       "    </tr>\n",
       "    <tr>\n",
       "      <th>7</th>\n",
       "      <td>Catalunya</td>\n",
       "      <td>Barcelona</td>\n",
       "    </tr>\n",
       "    <tr>\n",
       "      <th>8</th>\n",
       "      <td>Catalunya</td>\n",
       "      <td>Barcelona</td>\n",
       "    </tr>\n",
       "    <tr>\n",
       "      <th>9</th>\n",
       "      <td>Catalunya</td>\n",
       "      <td>Barcelona</td>\n",
       "    </tr>\n",
       "  </tbody>\n",
       "</table>\n",
       "</div>"
      ],
      "text/plain": [
       "     region_  province_\n",
       "0  Andalucía    Sevilla\n",
       "1  Andalucía    Sevilla\n",
       "2  Andalucía    Sevilla\n",
       "3  Andalucía    Sevilla\n",
       "4  Andalucía    Sevilla\n",
       "5  Andalucía    Sevilla\n",
       "6  Catalunya  Barcelona\n",
       "7  Catalunya  Barcelona\n",
       "8  Catalunya  Barcelona\n",
       "9  Catalunya  Barcelona"
      ]
     },
     "execution_count": 122,
     "metadata": {},
     "output_type": "execute_result"
    }
   ],
   "source": [
    "df4[['region_', 'province_']]"
   ]
  },
  {
   "cell_type": "code",
   "execution_count": 150,
   "metadata": {},
   "outputs": [],
   "source": [
    "def city_village(dataframe):\n",
    "    df7 = dataframe.copy()\n",
    "    df7 ['lat_long'] = ''\n",
    "    df7['lat_long'] = df7.loc[:,['lat_long']].apply(lambda x: lat_long(df7))\n",
    "    df7['full_location'] = ''\n",
    "    #df7['full_location'] = list(map(lambda regi: geocolocator.reverse(regi).raw['address'], df7['lat_long']))\n",
    "    #df7 = df7.full_location.apply(pd.Series)\n",
    "    return df7.copy()"
   ]
  },
  {
   "cell_type": "code",
   "execution_count": 328,
   "metadata": {
    "scrolled": true
   },
   "outputs": [
    {
     "data": {
      "text/html": [
       "<div>\n",
       "<style scoped>\n",
       "    .dataframe tbody tr th:only-of-type {\n",
       "        vertical-align: middle;\n",
       "    }\n",
       "\n",
       "    .dataframe tbody tr th {\n",
       "        vertical-align: top;\n",
       "    }\n",
       "\n",
       "    .dataframe thead th {\n",
       "        text-align: right;\n",
       "    }\n",
       "</style>\n",
       "<table border=\"1\" class=\"dataframe\">\n",
       "  <thead>\n",
       "    <tr style=\"text-align: right;\">\n",
       "      <th></th>\n",
       "      <th>restaurant_link</th>\n",
       "      <th>restaurant_name</th>\n",
       "      <th>country</th>\n",
       "      <th>region</th>\n",
       "      <th>province</th>\n",
       "      <th>city</th>\n",
       "      <th>address</th>\n",
       "      <th>latitude</th>\n",
       "      <th>longitude</th>\n",
       "      <th>claimed</th>\n",
       "      <th>top_tags</th>\n",
       "      <th>price_range</th>\n",
       "      <th>meals</th>\n",
       "      <th>cuisines</th>\n",
       "      <th>special_diets</th>\n",
       "      <th>features</th>\n",
       "      <th>vegetarian_friendly</th>\n",
       "      <th>vegan_options</th>\n",
       "      <th>gluten_free</th>\n",
       "      <th>original_open_hours</th>\n",
       "      <th>avg_rating</th>\n",
       "      <th>total_reviews_count</th>\n",
       "      <th>default_language</th>\n",
       "      <th>food</th>\n",
       "      <th>service</th>\n",
       "      <th>value</th>\n",
       "      <th>lat_long</th>\n",
       "      <th>full_location</th>\n",
       "      <th>region_</th>\n",
       "      <th>province_</th>\n",
       "      <th>city_</th>\n",
       "    </tr>\n",
       "  </thead>\n",
       "  <tbody>\n",
       "    <tr>\n",
       "      <th>5</th>\n",
       "      <td>g10021880-d23180773</td>\n",
       "      <td>Bar Restaurante El Mena</td>\n",
       "      <td>Spain</td>\n",
       "      <td>Andalucia</td>\n",
       "      <td>Province of Seville</td>\n",
       "      <td>NaN</td>\n",
       "      <td>Calle de Guillermo Gutierrez Vidal 2 Frente A ...</td>\n",
       "      <td>37.522625</td>\n",
       "      <td>-6.268723</td>\n",
       "      <td>Claimed</td>\n",
       "      <td>Mid-range, Cafe, Mediterranean, Spanish</td>\n",
       "      <td>€8-€20</td>\n",
       "      <td>Info no disponible</td>\n",
       "      <td>Dining bars, Cafe, Mediterranean, Spanish, Hea...</td>\n",
       "      <td>Info no disponible</td>\n",
       "      <td>Info no disponible</td>\n",
       "      <td>N</td>\n",
       "      <td>N</td>\n",
       "      <td>N</td>\n",
       "      <td>Info no disponible</td>\n",
       "      <td>5.0</td>\n",
       "      <td>7.0</td>\n",
       "      <td>All languages</td>\n",
       "      <td>Info no disponible</td>\n",
       "      <td>Info no disponible</td>\n",
       "      <td>Info no disponible</td>\n",
       "      <td>(37.522625, -6.268723)</td>\n",
       "      <td>{'amenity': 'Iglesia de Ntra. Sra. de la Conso...</td>\n",
       "      <td>Andalucía</td>\n",
       "      <td>Sevilla</td>\n",
       "      <td></td>\n",
       "    </tr>\n",
       "    <tr>\n",
       "      <th>6</th>\n",
       "      <td>g10052043-d10454176</td>\n",
       "      <td>Tu Mateix Bar</td>\n",
       "      <td>Spain</td>\n",
       "      <td>Catalonia</td>\n",
       "      <td>Province of Barcelona</td>\n",
       "      <td>NaN</td>\n",
       "      <td>Calle Conca 21 Tda 1, 08026 Ullastrell Spain</td>\n",
       "      <td>41.413570</td>\n",
       "      <td>2.180000</td>\n",
       "      <td>Unclaimed</td>\n",
       "      <td>Cheap Eats, Bar, Pizza, Cafe</td>\n",
       "      <td>Info no disponible</td>\n",
       "      <td>Info no disponible</td>\n",
       "      <td>Bar, Pizza, Cafe, Fast food, Pub</td>\n",
       "      <td>Info no disponible</td>\n",
       "      <td>Info no disponible</td>\n",
       "      <td>N</td>\n",
       "      <td>N</td>\n",
       "      <td>N</td>\n",
       "      <td>Info no disponible</td>\n",
       "      <td>Info no disponible</td>\n",
       "      <td>Info no disponible</td>\n",
       "      <td>All languages</td>\n",
       "      <td>Info no disponible</td>\n",
       "      <td>Info no disponible</td>\n",
       "      <td>Info no disponible</td>\n",
       "      <td>(41.41357, 2.18)</td>\n",
       "      <td>{'house_number': '272', 'road': 'Carrer de la ...</td>\n",
       "      <td>Catalunya</td>\n",
       "      <td>Barcelona</td>\n",
       "      <td></td>\n",
       "    </tr>\n",
       "    <tr>\n",
       "      <th>7</th>\n",
       "      <td>g10052043-d12414243</td>\n",
       "      <td>Casal M&amp;M</td>\n",
       "      <td>Spain</td>\n",
       "      <td>Catalonia</td>\n",
       "      <td>Province of Barcelona</td>\n",
       "      <td>NaN</td>\n",
       "      <td>c/josep Fornells s/n Casal Del Poble, 08231 Ul...</td>\n",
       "      <td>41.526910</td>\n",
       "      <td>1.958510</td>\n",
       "      <td>Unclaimed</td>\n",
       "      <td>Info no disponible</td>\n",
       "      <td>Info no disponible</td>\n",
       "      <td>Breakfast, Lunch, Dinner</td>\n",
       "      <td>Info no disponible</td>\n",
       "      <td>Info no disponible</td>\n",
       "      <td>Info no disponible</td>\n",
       "      <td>N</td>\n",
       "      <td>N</td>\n",
       "      <td>N</td>\n",
       "      <td>{\"Mon\": [\"08:00-20:00\"], \"Tue\": [\"08:00-23:00\"...</td>\n",
       "      <td>5.0</td>\n",
       "      <td>4.0</td>\n",
       "      <td>All languages</td>\n",
       "      <td>Info no disponible</td>\n",
       "      <td>Info no disponible</td>\n",
       "      <td>Info no disponible</td>\n",
       "      <td>(41.52691, 1.95851)</td>\n",
       "      <td>{'road': 'Carrer de Josep Fornell', 'village':...</td>\n",
       "      <td>Catalunya</td>\n",
       "      <td>Barcelona</td>\n",
       "      <td></td>\n",
       "    </tr>\n",
       "    <tr>\n",
       "      <th>8</th>\n",
       "      <td>g10052043-d23131396</td>\n",
       "      <td>La Panxa Del Bou</td>\n",
       "      <td>Spain</td>\n",
       "      <td>Catalonia</td>\n",
       "      <td>Province of Barcelona</td>\n",
       "      <td>NaN</td>\n",
       "      <td>Arquitecte Alsius 1, 08231 Ullastrell Spain</td>\n",
       "      <td>41.525303</td>\n",
       "      <td>1.956932</td>\n",
       "      <td>Unclaimed</td>\n",
       "      <td>Mid-range, Steakhouse, Mediterranean, Barbecue</td>\n",
       "      <td>€13-€50</td>\n",
       "      <td>Breakfast, Lunch</td>\n",
       "      <td>Steakhouse, Mediterranean, Barbecue, Catalan</td>\n",
       "      <td>Info no disponible</td>\n",
       "      <td>Info no disponible</td>\n",
       "      <td>N</td>\n",
       "      <td>N</td>\n",
       "      <td>N</td>\n",
       "      <td>{\"Mon\": [\"12:00-17:00\"], \"Tue\": [\"13:00-17:00\"...</td>\n",
       "      <td>3.0</td>\n",
       "      <td>9.0</td>\n",
       "      <td>All languages</td>\n",
       "      <td>Info no disponible</td>\n",
       "      <td>Info no disponible</td>\n",
       "      <td>Info no disponible</td>\n",
       "      <td>(41.525303, 1.956932)</td>\n",
       "      <td>{'road': 'Carretera d'Olesa', 'village': 'Ulla...</td>\n",
       "      <td>Catalunya</td>\n",
       "      <td>Barcelona</td>\n",
       "      <td></td>\n",
       "    </tr>\n",
       "    <tr>\n",
       "      <th>9</th>\n",
       "      <td>g10052043-d23236236</td>\n",
       "      <td>Casal D'ullastrell</td>\n",
       "      <td>Spain</td>\n",
       "      <td>Catalonia</td>\n",
       "      <td>Province of Barcelona</td>\n",
       "      <td>NaN</td>\n",
       "      <td>Carretera D'olesa, S/n, 08231 Ullastrell Spain</td>\n",
       "      <td>41.527750</td>\n",
       "      <td>1.958487</td>\n",
       "      <td>Unclaimed</td>\n",
       "      <td>Cheap Eats, Fast food, Mediterranean</td>\n",
       "      <td>Info no disponible</td>\n",
       "      <td>Info no disponible</td>\n",
       "      <td>Fast food, Mediterranean</td>\n",
       "      <td>Info no disponible</td>\n",
       "      <td>Info no disponible</td>\n",
       "      <td>N</td>\n",
       "      <td>N</td>\n",
       "      <td>N</td>\n",
       "      <td>Info no disponible</td>\n",
       "      <td>Info no disponible</td>\n",
       "      <td>Info no disponible</td>\n",
       "      <td>All languages</td>\n",
       "      <td>Info no disponible</td>\n",
       "      <td>Info no disponible</td>\n",
       "      <td>Info no disponible</td>\n",
       "      <td>(41.52775, 1.958487)</td>\n",
       "      <td>{'road': 'Carrer de la Serra', 'village': 'Ull...</td>\n",
       "      <td>Catalunya</td>\n",
       "      <td>Barcelona</td>\n",
       "      <td></td>\n",
       "    </tr>\n",
       "  </tbody>\n",
       "</table>\n",
       "</div>"
      ],
      "text/plain": [
       "       restaurant_link          restaurant_name country     region  \\\n",
       "5  g10021880-d23180773  Bar Restaurante El Mena   Spain  Andalucia   \n",
       "6  g10052043-d10454176            Tu Mateix Bar   Spain  Catalonia   \n",
       "7  g10052043-d12414243                Casal M&M   Spain  Catalonia   \n",
       "8  g10052043-d23131396         La Panxa Del Bou   Spain  Catalonia   \n",
       "9  g10052043-d23236236       Casal D'ullastrell   Spain  Catalonia   \n",
       "\n",
       "                province city  \\\n",
       "5    Province of Seville  NaN   \n",
       "6  Province of Barcelona  NaN   \n",
       "7  Province of Barcelona  NaN   \n",
       "8  Province of Barcelona  NaN   \n",
       "9  Province of Barcelona  NaN   \n",
       "\n",
       "                                             address   latitude  longitude  \\\n",
       "5  Calle de Guillermo Gutierrez Vidal 2 Frente A ...  37.522625  -6.268723   \n",
       "6       Calle Conca 21 Tda 1, 08026 Ullastrell Spain  41.413570   2.180000   \n",
       "7  c/josep Fornells s/n Casal Del Poble, 08231 Ul...  41.526910   1.958510   \n",
       "8        Arquitecte Alsius 1, 08231 Ullastrell Spain  41.525303   1.956932   \n",
       "9     Carretera D'olesa, S/n, 08231 Ullastrell Spain  41.527750   1.958487   \n",
       "\n",
       "     claimed                                        top_tags  \\\n",
       "5    Claimed         Mid-range, Cafe, Mediterranean, Spanish   \n",
       "6  Unclaimed                    Cheap Eats, Bar, Pizza, Cafe   \n",
       "7  Unclaimed                              Info no disponible   \n",
       "8  Unclaimed  Mid-range, Steakhouse, Mediterranean, Barbecue   \n",
       "9  Unclaimed            Cheap Eats, Fast food, Mediterranean   \n",
       "\n",
       "          price_range                     meals  \\\n",
       "5              €8-€20        Info no disponible   \n",
       "6  Info no disponible        Info no disponible   \n",
       "7  Info no disponible  Breakfast, Lunch, Dinner   \n",
       "8             €13-€50          Breakfast, Lunch   \n",
       "9  Info no disponible        Info no disponible   \n",
       "\n",
       "                                            cuisines       special_diets  \\\n",
       "5  Dining bars, Cafe, Mediterranean, Spanish, Hea...  Info no disponible   \n",
       "6                   Bar, Pizza, Cafe, Fast food, Pub  Info no disponible   \n",
       "7                                 Info no disponible  Info no disponible   \n",
       "8       Steakhouse, Mediterranean, Barbecue, Catalan  Info no disponible   \n",
       "9                           Fast food, Mediterranean  Info no disponible   \n",
       "\n",
       "             features vegetarian_friendly vegan_options gluten_free  \\\n",
       "5  Info no disponible                   N             N           N   \n",
       "6  Info no disponible                   N             N           N   \n",
       "7  Info no disponible                   N             N           N   \n",
       "8  Info no disponible                   N             N           N   \n",
       "9  Info no disponible                   N             N           N   \n",
       "\n",
       "                                 original_open_hours          avg_rating  \\\n",
       "5                                 Info no disponible                 5.0   \n",
       "6                                 Info no disponible  Info no disponible   \n",
       "7  {\"Mon\": [\"08:00-20:00\"], \"Tue\": [\"08:00-23:00\"...                 5.0   \n",
       "8  {\"Mon\": [\"12:00-17:00\"], \"Tue\": [\"13:00-17:00\"...                 3.0   \n",
       "9                                 Info no disponible  Info no disponible   \n",
       "\n",
       "  total_reviews_count default_language                food  \\\n",
       "5                 7.0    All languages  Info no disponible   \n",
       "6  Info no disponible    All languages  Info no disponible   \n",
       "7                 4.0    All languages  Info no disponible   \n",
       "8                 9.0    All languages  Info no disponible   \n",
       "9  Info no disponible    All languages  Info no disponible   \n",
       "\n",
       "              service               value                lat_long  \\\n",
       "5  Info no disponible  Info no disponible  (37.522625, -6.268723)   \n",
       "6  Info no disponible  Info no disponible        (41.41357, 2.18)   \n",
       "7  Info no disponible  Info no disponible     (41.52691, 1.95851)   \n",
       "8  Info no disponible  Info no disponible   (41.525303, 1.956932)   \n",
       "9  Info no disponible  Info no disponible    (41.52775, 1.958487)   \n",
       "\n",
       "                                       full_location    region_  province_  \\\n",
       "5  {'amenity': 'Iglesia de Ntra. Sra. de la Conso...  Andalucía    Sevilla   \n",
       "6  {'house_number': '272', 'road': 'Carrer de la ...  Catalunya  Barcelona   \n",
       "7  {'road': 'Carrer de Josep Fornell', 'village':...  Catalunya  Barcelona   \n",
       "8  {'road': 'Carretera d'Olesa', 'village': 'Ulla...  Catalunya  Barcelona   \n",
       "9  {'road': 'Carrer de la Serra', 'village': 'Ull...  Catalunya  Barcelona   \n",
       "\n",
       "  city_  \n",
       "5        \n",
       "6        \n",
       "7        \n",
       "8        \n",
       "9        "
      ]
     },
     "execution_count": 328,
     "metadata": {},
     "output_type": "execute_result"
    }
   ],
   "source": [
    "df4.tail()"
   ]
  },
  {
   "cell_type": "code",
   "execution_count": null,
   "metadata": {},
   "outputs": [],
   "source": []
  },
  {
   "cell_type": "code",
   "execution_count": null,
   "metadata": {},
   "outputs": [],
   "source": [
    "df8= city_village(df3)  #optener la latitud y longitud en TUPLA"
   ]
  },
  {
   "cell_type": "markdown",
   "metadata": {},
   "source": [
    "## DF8  -- ALL DATAFRAME -  [ ' LAT_LONG' ] TUPLE  -> IMPORTANTE"
   ]
  },
  {
   "cell_type": "code",
   "execution_count": 47,
   "metadata": {},
   "outputs": [],
   "source": [
    "df8 = df3.copy()"
   ]
  },
  {
   "cell_type": "code",
   "execution_count": 48,
   "metadata": {},
   "outputs": [
    {
     "data": {
      "text/plain": [
       "(155114, 26)"
      ]
     },
     "execution_count": 48,
     "metadata": {},
     "output_type": "execute_result"
    }
   ],
   "source": [
    "df8.shape"
   ]
  },
  {
   "cell_type": "code",
   "execution_count": 49,
   "metadata": {},
   "outputs": [],
   "source": [
    "df8 ['lat_long'] = ''"
   ]
  },
  {
   "cell_type": "code",
   "execution_count": 50,
   "metadata": {},
   "outputs": [],
   "source": [
    "def lat_long():\n",
    "        lat = df8.latitude.astype(str)\n",
    "        long = df8.longitude.astype(str)\n",
    "        mask = tuple(zip(lat,long))\n",
    "        return mask "
   ]
  },
  {
   "cell_type": "code",
   "execution_count": 51,
   "metadata": {},
   "outputs": [],
   "source": [
    "df8['lat_long'] = df8.loc[:,['lat_long']].apply(lambda x: lat_long())"
   ]
  },
  {
   "cell_type": "code",
   "execution_count": 52,
   "metadata": {},
   "outputs": [],
   "source": [
    "df8['full_location'] = ''"
   ]
  },
  {
   "cell_type": "markdown",
   "metadata": {},
   "source": [
    "### para optener el DICCIONARIO de addresses  (FAILS - NO MIRAR)"
   ]
  },
  {
   "cell_type": "code",
   "execution_count": 251,
   "metadata": {},
   "outputs": [],
   "source": [
    "def dict_city_village(df8):\n",
    "    try:\n",
    "        df8['full_location'] = list(map(lambda regi: geocolocator.reverse(regi).raw['address'], df8['lat_long']))\n",
    "        return df8\n",
    "    except:\n",
    "        return df8 "
   ]
  },
  {
   "cell_type": "code",
   "execution_count": 238,
   "metadata": {},
   "outputs": [],
   "source": [
    "df9 = dict_city_cillage(df8)   #obtener el diccionario de ADDRESSE para la COL ['full_location']"
   ]
  },
  {
   "cell_type": "markdown",
   "metadata": {
    "scrolled": false
   },
   "source": [
    "df8['full_location'] = list(map(lambda regi: geocolocator.reverse(regi).raw['address'], df8['lat_long']))\n",
    "\n",
    "**GeocoderUnavailable**: HTTPSConnectionPool(host='nominatim.openstreetmap.org', port=443): Max retries exceeded with url: /reverse?lat=40.31885&lon=-3.86002&format=json&addressdetails=1 (Caused by ReadTimeoutError(\"HTTPSConnectionPool(host='nominatim.openstreetmap.org', port=443): Read timed out. (read timeout=1)\"))"
   ]
  },
  {
   "cell_type": "code",
   "execution_count": 222,
   "metadata": {},
   "outputs": [],
   "source": [
    "df9 = df9.full_location.apply(pd.Series)         #Como un GET_DUMMIES de full_location para todo el dataframe de un DICCIONARIO"
   ]
  },
  {
   "cell_type": "code",
   "execution_count": 409,
   "metadata": {
    "scrolled": false
   },
   "outputs": [
    {
     "data": {
      "text/html": [
       "<div>\n",
       "<style scoped>\n",
       "    .dataframe tbody tr th:only-of-type {\n",
       "        vertical-align: middle;\n",
       "    }\n",
       "\n",
       "    .dataframe tbody tr th {\n",
       "        vertical-align: top;\n",
       "    }\n",
       "\n",
       "    .dataframe thead th {\n",
       "        text-align: right;\n",
       "    }\n",
       "</style>\n",
       "<table border=\"1\" class=\"dataframe\">\n",
       "  <thead>\n",
       "    <tr style=\"text-align: right;\">\n",
       "      <th></th>\n",
       "      <th>0</th>\n",
       "      <th>1</th>\n",
       "      <th>2</th>\n",
       "      <th>3</th>\n",
       "      <th>4</th>\n",
       "      <th>5</th>\n",
       "      <th>6</th>\n",
       "      <th>7</th>\n",
       "    </tr>\n",
       "  </thead>\n",
       "  <tbody>\n",
       "    <tr>\n",
       "      <th>1996</th>\n",
       "      <td>Mallorquines 13</td>\n",
       "      <td>Santa Coloma de Farners Spain</td>\n",
       "      <td>None</td>\n",
       "      <td>None</td>\n",
       "      <td>None</td>\n",
       "      <td>None</td>\n",
       "      <td>None</td>\n",
       "      <td>None</td>\n",
       "    </tr>\n",
       "    <tr>\n",
       "      <th>1997</th>\n",
       "      <td>Pol. Residencial de Santa Coloma De Farners</td>\n",
       "      <td>Santa Coloma de Farners Spain</td>\n",
       "      <td>None</td>\n",
       "      <td>None</td>\n",
       "      <td>None</td>\n",
       "      <td>None</td>\n",
       "      <td>None</td>\n",
       "      <td>None</td>\n",
       "    </tr>\n",
       "    <tr>\n",
       "      <th>1998</th>\n",
       "      <td>C. Francesc Moragas</td>\n",
       "      <td>35</td>\n",
       "      <td>17430 Santa Coloma de Farners Spain</td>\n",
       "      <td>None</td>\n",
       "      <td>None</td>\n",
       "      <td>None</td>\n",
       "      <td>None</td>\n",
       "      <td>None</td>\n",
       "    </tr>\n",
       "    <tr>\n",
       "      <th>1999</th>\n",
       "      <td>Carrer Firal</td>\n",
       "      <td>36</td>\n",
       "      <td>17430 Santa Coloma de Farners Spain</td>\n",
       "      <td>None</td>\n",
       "      <td>None</td>\n",
       "      <td>None</td>\n",
       "      <td>None</td>\n",
       "      <td>None</td>\n",
       "    </tr>\n",
       "    <tr>\n",
       "      <th>2000</th>\n",
       "      <td>Dr.Trueta 47</td>\n",
       "      <td>17430 Santa Coloma de Farners Spain</td>\n",
       "      <td>None</td>\n",
       "      <td>None</td>\n",
       "      <td>None</td>\n",
       "      <td>None</td>\n",
       "      <td>None</td>\n",
       "      <td>None</td>\n",
       "    </tr>\n",
       "  </tbody>\n",
       "</table>\n",
       "</div>"
      ],
      "text/plain": [
       "                                                0  \\\n",
       "1996                              Mallorquines 13   \n",
       "1997  Pol. Residencial de Santa Coloma De Farners   \n",
       "1998                          C. Francesc Moragas   \n",
       "1999                                 Carrer Firal   \n",
       "2000                                 Dr.Trueta 47   \n",
       "\n",
       "                                         1  \\\n",
       "1996         Santa Coloma de Farners Spain   \n",
       "1997         Santa Coloma de Farners Spain   \n",
       "1998                                    35   \n",
       "1999                                    36   \n",
       "2000   17430 Santa Coloma de Farners Spain   \n",
       "\n",
       "                                         2     3     4     5     6     7  \n",
       "1996                                  None  None  None  None  None  None  \n",
       "1997                                  None  None  None  None  None  None  \n",
       "1998   17430 Santa Coloma de Farners Spain  None  None  None  None  None  \n",
       "1999   17430 Santa Coloma de Farners Spain  None  None  None  None  None  \n",
       "2000                                  None  None  None  None  None  None  "
      ]
     },
     "execution_count": 409,
     "metadata": {},
     "output_type": "execute_result"
    }
   ],
   "source": [
    "df10.address.str.split(',', expand=True).tail(5) #.split(',',1, expand=True) Para q el siguiente split salte a una COL 1, LISTA "
   ]
  },
  {
   "cell_type": "code",
   "execution_count": null,
   "metadata": {},
   "outputs": [],
   "source": [
    "df8['region_'] = [val['state'] for val in df8.full_location]\n",
    "df8['province_'] = [val['county'] for val in df8.full_location]"
   ]
  },
  {
   "cell_type": "code",
   "execution_count": null,
   "metadata": {},
   "outputs": [],
   "source": []
  },
  {
   "cell_type": "code",
   "execution_count": null,
   "metadata": {},
   "outputs": [],
   "source": []
  },
  {
   "cell_type": "markdown",
   "metadata": {},
   "source": [
    "# DF FULL LOCATION "
   ]
  },
  {
   "cell_type": "code",
   "execution_count": 7,
   "metadata": {},
   "outputs": [],
   "source": [
    "df_full_location_concat = pd.read_csv('df_full_location_concat.csv')"
   ]
  },
  {
   "cell_type": "code",
   "execution_count": 1354,
   "metadata": {},
   "outputs": [
    {
     "data": {
      "text/plain": [
       "((152575, 28), (155114, 28))"
      ]
     },
     "execution_count": 1354,
     "metadata": {},
     "output_type": "execute_result"
    }
   ],
   "source": [
    "df_full_location_concat.shape, df9.shape"
   ]
  },
  {
   "cell_type": "code",
   "execution_count": null,
   "metadata": {},
   "outputs": [],
   "source": [
    "df_full_location_concat['region_'] = [val['state'] if val == val['state'] else 'none' for val in df_full_location_concat.full_location]\n",
    "df_full_location_concat['province_'] = [val['county'] for val in df_full_location_concat.full_location]"
   ]
  },
  {
   "cell_type": "code",
   "execution_count": 9,
   "metadata": {},
   "outputs": [
    {
     "data": {
      "text/html": [
       "<div>\n",
       "<style scoped>\n",
       "    .dataframe tbody tr th:only-of-type {\n",
       "        vertical-align: middle;\n",
       "    }\n",
       "\n",
       "    .dataframe tbody tr th {\n",
       "        vertical-align: top;\n",
       "    }\n",
       "\n",
       "    .dataframe thead th {\n",
       "        text-align: right;\n",
       "    }\n",
       "</style>\n",
       "<table border=\"1\" class=\"dataframe\">\n",
       "  <thead>\n",
       "    <tr style=\"text-align: right;\">\n",
       "      <th></th>\n",
       "      <th>full_location</th>\n",
       "    </tr>\n",
       "  </thead>\n",
       "  <tbody>\n",
       "    <tr>\n",
       "      <th>0</th>\n",
       "      <td>{'road': 'Calle Concejo', 'village': 'Aznalcól...</td>\n",
       "    </tr>\n",
       "    <tr>\n",
       "      <th>1</th>\n",
       "      <td>{'amenity': 'Farmacia Sánchez Martín', 'road':...</td>\n",
       "    </tr>\n",
       "    <tr>\n",
       "      <th>2</th>\n",
       "      <td>{'road': 'Calle Perdón', 'village': 'Aznalcóll...</td>\n",
       "    </tr>\n",
       "    <tr>\n",
       "      <th>3</th>\n",
       "      <td>{'road': 'Calle Concejo', 'village': 'Aznalcól...</td>\n",
       "    </tr>\n",
       "    <tr>\n",
       "      <th>4</th>\n",
       "      <td>{'road': 'Calle Juan Carlos I', 'village': 'Az...</td>\n",
       "    </tr>\n",
       "    <tr>\n",
       "      <th>...</th>\n",
       "      <td>...</td>\n",
       "    </tr>\n",
       "    <tr>\n",
       "      <th>152570</th>\n",
       "      <td>{'house_number': '5', 'road': 'Estrada Madrid ...</td>\n",
       "    </tr>\n",
       "    <tr>\n",
       "      <th>152571</th>\n",
       "      <td>{'hamlet': 'A Espenuca', 'borough': 'Coirós', ...</td>\n",
       "    </tr>\n",
       "    <tr>\n",
       "      <th>152572</th>\n",
       "      <td>{'amenity': 'Parrillada O Barral', 'house_numb...</td>\n",
       "    </tr>\n",
       "    <tr>\n",
       "      <th>152573</th>\n",
       "      <td>{'house_number': '4', 'road': 'Estrada Madrid ...</td>\n",
       "    </tr>\n",
       "    <tr>\n",
       "      <th>152574</th>\n",
       "      <td>{'amenity': 'Restaurante Fitomar', 'house_numb...</td>\n",
       "    </tr>\n",
       "  </tbody>\n",
       "</table>\n",
       "<p>152575 rows × 1 columns</p>\n",
       "</div>"
      ],
      "text/plain": [
       "                                            full_location\n",
       "0       {'road': 'Calle Concejo', 'village': 'Aznalcól...\n",
       "1       {'amenity': 'Farmacia Sánchez Martín', 'road':...\n",
       "2       {'road': 'Calle Perdón', 'village': 'Aznalcóll...\n",
       "3       {'road': 'Calle Concejo', 'village': 'Aznalcól...\n",
       "4       {'road': 'Calle Juan Carlos I', 'village': 'Az...\n",
       "...                                                   ...\n",
       "152570  {'house_number': '5', 'road': 'Estrada Madrid ...\n",
       "152571  {'hamlet': 'A Espenuca', 'borough': 'Coirós', ...\n",
       "152572  {'amenity': 'Parrillada O Barral', 'house_numb...\n",
       "152573  {'house_number': '4', 'road': 'Estrada Madrid ...\n",
       "152574  {'amenity': 'Restaurante Fitomar', 'house_numb...\n",
       "\n",
       "[152575 rows x 1 columns]"
      ]
     },
     "execution_count": 9,
     "metadata": {},
     "output_type": "execute_result"
    }
   ],
   "source": [
    "df_full_location_concat[['full_location']]"
   ]
  },
  {
   "cell_type": "code",
   "execution_count": 12,
   "metadata": {},
   "outputs": [
    {
     "data": {
      "text/html": [
       "<div>\n",
       "<style scoped>\n",
       "    .dataframe tbody tr th:only-of-type {\n",
       "        vertical-align: middle;\n",
       "    }\n",
       "\n",
       "    .dataframe tbody tr th {\n",
       "        vertical-align: top;\n",
       "    }\n",
       "\n",
       "    .dataframe thead th {\n",
       "        text-align: right;\n",
       "    }\n",
       "</style>\n",
       "<table border=\"1\" class=\"dataframe\">\n",
       "  <thead>\n",
       "    <tr style=\"text-align: right;\">\n",
       "      <th></th>\n",
       "      <th>restaurant_link</th>\n",
       "      <th>restaurant_name</th>\n",
       "      <th>country</th>\n",
       "      <th>region</th>\n",
       "      <th>province</th>\n",
       "      <th>city</th>\n",
       "      <th>address</th>\n",
       "      <th>latitude</th>\n",
       "      <th>longitude</th>\n",
       "      <th>claimed</th>\n",
       "      <th>top_tags</th>\n",
       "      <th>price_range</th>\n",
       "      <th>meals</th>\n",
       "      <th>cuisines</th>\n",
       "      <th>special_diets</th>\n",
       "      <th>features</th>\n",
       "      <th>vegetarian_friendly</th>\n",
       "      <th>vegan_options</th>\n",
       "      <th>gluten_free</th>\n",
       "      <th>original_open_hours</th>\n",
       "      <th>avg_rating</th>\n",
       "      <th>total_reviews_count</th>\n",
       "      <th>default_language</th>\n",
       "      <th>food</th>\n",
       "      <th>service</th>\n",
       "      <th>value</th>\n",
       "      <th>lat_long</th>\n",
       "      <th>full_location</th>\n",
       "    </tr>\n",
       "  </thead>\n",
       "  <tbody>\n",
       "  </tbody>\n",
       "</table>\n",
       "</div>"
      ],
      "text/plain": [
       "Empty DataFrame\n",
       "Columns: [restaurant_link, restaurant_name, country, region, province, city, address, latitude, longitude, claimed, top_tags, price_range, meals, cuisines, special_diets, features, vegetarian_friendly, vegan_options, gluten_free, original_open_hours, avg_rating, total_reviews_count, default_language, food, service, value, lat_long, full_location]\n",
       "Index: []"
      ]
     },
     "execution_count": 12,
     "metadata": {},
     "output_type": "execute_result"
    }
   ],
   "source": [
    "df_full_location_concat[df_full_location_concat.full_location == float]"
   ]
  },
  {
   "cell_type": "code",
   "execution_count": null,
   "metadata": {},
   "outputs": [],
   "source": []
  },
  {
   "cell_type": "code",
   "execution_count": 22,
   "metadata": {},
   "outputs": [
    {
     "ename": "AttributeError",
     "evalue": "'str' object has no attribute 'keys'",
     "output_type": "error",
     "traceback": [
      "\u001b[1;31m---------------------------------------------------------------------------\u001b[0m",
      "\u001b[1;31mAttributeError\u001b[0m                            Traceback (most recent call last)",
      "\u001b[1;32m<ipython-input-22-34d46acacb1d>\u001b[0m in \u001b[0;36m<module>\u001b[1;34m\u001b[0m\n\u001b[0;32m      1\u001b[0m \u001b[1;32mfor\u001b[0m \u001b[0mval\u001b[0m \u001b[1;32min\u001b[0m \u001b[0mdf_full_location_concat\u001b[0m\u001b[1;33m.\u001b[0m\u001b[0mfull_location\u001b[0m\u001b[1;33m:\u001b[0m\u001b[1;33m\u001b[0m\u001b[1;33m\u001b[0m\u001b[0m\n\u001b[1;32m----> 2\u001b[1;33m     \u001b[0mprint\u001b[0m\u001b[1;33m(\u001b[0m\u001b[0mval\u001b[0m\u001b[1;33m.\u001b[0m\u001b[0mkeys\u001b[0m\u001b[1;33m(\u001b[0m\u001b[1;33m)\u001b[0m\u001b[1;33m)\u001b[0m\u001b[1;33m\u001b[0m\u001b[1;33m\u001b[0m\u001b[0m\n\u001b[0m",
      "\u001b[1;31mAttributeError\u001b[0m: 'str' object has no attribute 'keys'"
     ]
    }
   ],
   "source": [
    "for val in df_full_location_concat.full_location:\n",
    "    print(val.keys())"
   ]
  },
  {
   "cell_type": "code",
   "execution_count": 25,
   "metadata": {},
   "outputs": [
    {
     "data": {
      "text/plain": [
       "\"{'road': 'OU-1104', 'residential': 'Vila de Rei', 'borough': 'Lodoselo', 'village': 'Sarreaus', 'municipality': 'A Limia', 'province': 'Ourense', 'state': 'Galicia', 'postcode': '32696', 'country': 'España', 'country_code': 'es'}\""
      ]
     },
     "execution_count": 25,
     "metadata": {},
     "output_type": "execute_result"
    }
   ],
   "source": [
    "df_full_location_concat.full_location.iloc[150000]"
   ]
  },
  {
   "cell_type": "code",
   "execution_count": 30,
   "metadata": {},
   "outputs": [],
   "source": [
    "df = df_full_location_concat.head(10)"
   ]
  },
  {
   "cell_type": "code",
   "execution_count": 31,
   "metadata": {},
   "outputs": [
    {
     "ename": "TypeError",
     "evalue": "string indices must be integers",
     "output_type": "error",
     "traceback": [
      "\u001b[1;31m---------------------------------------------------------------------------\u001b[0m",
      "\u001b[1;31mTypeError\u001b[0m                                 Traceback (most recent call last)",
      "\u001b[1;32m<ipython-input-31-3c9597d73825>\u001b[0m in \u001b[0;36m<module>\u001b[1;34m\u001b[0m\n\u001b[1;32m----> 1\u001b[1;33m \u001b[0mdf\u001b[0m\u001b[1;33m[\u001b[0m\u001b[1;34m'province_'\u001b[0m\u001b[1;33m]\u001b[0m \u001b[1;33m=\u001b[0m \u001b[1;33m[\u001b[0m\u001b[0mval\u001b[0m\u001b[1;33m[\u001b[0m\u001b[1;34m'county'\u001b[0m\u001b[1;33m]\u001b[0m \u001b[1;32mfor\u001b[0m \u001b[0mval\u001b[0m \u001b[1;32min\u001b[0m \u001b[0mdf\u001b[0m\u001b[1;33m.\u001b[0m\u001b[0mfull_location\u001b[0m\u001b[1;33m]\u001b[0m\u001b[1;33m\u001b[0m\u001b[1;33m\u001b[0m\u001b[0m\n\u001b[0m",
      "\u001b[1;32m<ipython-input-31-3c9597d73825>\u001b[0m in \u001b[0;36m<listcomp>\u001b[1;34m(.0)\u001b[0m\n\u001b[1;32m----> 1\u001b[1;33m \u001b[0mdf\u001b[0m\u001b[1;33m[\u001b[0m\u001b[1;34m'province_'\u001b[0m\u001b[1;33m]\u001b[0m \u001b[1;33m=\u001b[0m \u001b[1;33m[\u001b[0m\u001b[0mval\u001b[0m\u001b[1;33m[\u001b[0m\u001b[1;34m'county'\u001b[0m\u001b[1;33m]\u001b[0m \u001b[1;32mfor\u001b[0m \u001b[0mval\u001b[0m \u001b[1;32min\u001b[0m \u001b[0mdf\u001b[0m\u001b[1;33m.\u001b[0m\u001b[0mfull_location\u001b[0m\u001b[1;33m]\u001b[0m\u001b[1;33m\u001b[0m\u001b[1;33m\u001b[0m\u001b[0m\n\u001b[0m",
      "\u001b[1;31mTypeError\u001b[0m: string indices must be integers"
     ]
    }
   ],
   "source": [
    "df['province_'] = [val['county'] for val in df.full_location]"
   ]
  },
  {
   "cell_type": "code",
   "execution_count": null,
   "metadata": {},
   "outputs": [],
   "source": []
  },
  {
   "cell_type": "markdown",
   "metadata": {},
   "source": [
    "# DIVIDIR EL DATAFRAME ( DF8 ) - para obtener el dict de GEOLOCATOR"
   ]
  },
  {
   "cell_type": "markdown",
   "metadata": {},
   "source": [
    "# DIVIDIR  DF9"
   ]
  },
  {
   "cell_type": "code",
   "execution_count": 397,
   "metadata": {},
   "outputs": [],
   "source": [
    "from geopy.geocoders import Nominatim\n",
    "from geopy.extra.rate_limiter import RateLimiter\n",
    "geolocator = Nominatim(user_agent= 'geoapiExercises')\n",
    "#geocode = RateLimiter(geolocator.geocode, min_delay_seconds=1)\n",
    "reverse = RateLimiter(geolocator.reverse)"
   ]
  },
  {
   "cell_type": "code",
   "execution_count": 53,
   "metadata": {},
   "outputs": [
    {
     "data": {
      "text/plain": [
       "(155114, 28)"
      ]
     },
     "execution_count": 53,
     "metadata": {},
     "output_type": "execute_result"
    }
   ],
   "source": [
    "df9 = df8.loc[:].copy()\n",
    "df9.shape"
   ]
  },
  {
   "cell_type": "code",
   "execution_count": 461,
   "metadata": {},
   "outputs": [
    {
     "data": {
      "text/plain": [
       "Index(['restaurant_link', 'restaurant_name', 'country', 'region', 'province',\n",
       "       'city', 'address', 'latitude', 'longitude', 'claimed', 'top_tags',\n",
       "       'price_range', 'meals', 'cuisines', 'special_diets', 'features',\n",
       "       'vegetarian_friendly', 'vegan_options', 'gluten_free',\n",
       "       'original_open_hours', 'avg_rating', 'total_reviews_count',\n",
       "       'default_language', 'food', 'service', 'value', 'lat_long',\n",
       "       'full_location'],\n",
       "      dtype='object')"
      ]
     },
     "execution_count": 461,
     "metadata": {},
     "output_type": "execute_result"
    }
   ],
   "source": [
    "df9.columns"
   ]
  },
  {
   "cell_type": "code",
   "execution_count": 54,
   "metadata": {},
   "outputs": [],
   "source": [
    "def lat_long():  #NOT RUUUUNNNN \n",
    "        lat = df9.latitude.astype(str)\n",
    "        long = df9.longitude.astype(str)\n",
    "        mask = tuple(zip(lat,long))\n",
    "        return mask \n",
    "df9['lat_long'] = df9.loc[:,['lat_long']].apply(lambda x: lat_long())   #ya tenemos 'lat_long' de DF8\n",
    "df9['full_location'] = ''                                               #ya tenemos 'full_location' de DF8"
   ]
  },
  {
   "cell_type": "code",
   "execution_count": null,
   "metadata": {},
   "outputs": [],
   "source": []
  },
  {
   "cell_type": "code",
   "execution_count": 55,
   "metadata": {},
   "outputs": [
    {
     "data": {
      "text/html": [
       "<div>\n",
       "<style scoped>\n",
       "    .dataframe tbody tr th:only-of-type {\n",
       "        vertical-align: middle;\n",
       "    }\n",
       "\n",
       "    .dataframe tbody tr th {\n",
       "        vertical-align: top;\n",
       "    }\n",
       "\n",
       "    .dataframe thead th {\n",
       "        text-align: right;\n",
       "    }\n",
       "</style>\n",
       "<table border=\"1\" class=\"dataframe\">\n",
       "  <thead>\n",
       "    <tr style=\"text-align: right;\">\n",
       "      <th></th>\n",
       "      <th>lat_long</th>\n",
       "      <th>full_location</th>\n",
       "    </tr>\n",
       "  </thead>\n",
       "  <tbody>\n",
       "    <tr>\n",
       "      <th>0</th>\n",
       "      <td>(37.51928, -6.26885)</td>\n",
       "      <td></td>\n",
       "    </tr>\n",
       "  </tbody>\n",
       "</table>\n",
       "</div>"
      ],
      "text/plain": [
       "               lat_long full_location\n",
       "0  (37.51928, -6.26885)              "
      ]
     },
     "execution_count": 55,
     "metadata": {},
     "output_type": "execute_result"
    }
   ],
   "source": [
    "df9[['lat_long', 'full_location']].head(1)"
   ]
  },
  {
   "cell_type": "markdown",
   "metadata": {},
   "source": [
    "## DIVIDIENDO EL DATAFRAME"
   ]
  },
  {
   "cell_type": "code",
   "execution_count": 56,
   "metadata": {},
   "outputs": [],
   "source": [
    "df10 = df9.loc[:2000].copy()       # DE 0-2000"
   ]
  },
  {
   "cell_type": "code",
   "execution_count": 57,
   "metadata": {},
   "outputs": [],
   "source": [
    "df10['full_location'] = list(map(lambda regi: geolocator.reverse(regi).raw['address'], df10['lat_long']))"
   ]
  },
  {
   "cell_type": "code",
   "execution_count": 58,
   "metadata": {},
   "outputs": [],
   "source": [
    "df11 = df9.loc[2001:4000].copy()   # DE 2001-4000\n",
    "df11['full_location'] = list(map(lambda regi: geolocator.reverse(regi).raw['address'], df11['lat_long']))"
   ]
  },
  {
   "cell_type": "code",
   "execution_count": 474,
   "metadata": {
    "scrolled": true
   },
   "outputs": [],
   "source": [
    "df12 = df9.loc[4001:4100].copy()   # DE 4001-4100\n",
    "df12['full_location'] = list(map(lambda regi: geolocator.reverse(regi).raw['address'], df12['lat_long']))"
   ]
  },
  {
   "cell_type": "code",
   "execution_count": 475,
   "metadata": {
    "scrolled": true
   },
   "outputs": [],
   "source": [
    "df13 = df9.loc[4101:4200].copy()   # DE 4101-4200\n",
    "df13['full_location'] = list(map(lambda regi: geolocator.reverse(regi).raw['address'], df13['lat_long']))"
   ]
  },
  {
   "cell_type": "code",
   "execution_count": 476,
   "metadata": {},
   "outputs": [],
   "source": [
    "df14 = df9.loc[4201:4300].copy()   # DE 4201-4300\n",
    "df14['full_location'] = list(map(lambda regi: geolocator.reverse(regi).raw['address'], df14['lat_long']))"
   ]
  },
  {
   "cell_type": "code",
   "execution_count": 477,
   "metadata": {},
   "outputs": [],
   "source": [
    "df15 = df9.loc[4301:4400].copy()   # DE 4301-4400\n",
    "df15['full_location'] = list(map(lambda regi: geolocator.reverse(regi).raw['address'], df15['lat_long']))"
   ]
  },
  {
   "cell_type": "code",
   "execution_count": 483,
   "metadata": {},
   "outputs": [],
   "source": [
    "df16 = df9.loc[4401:4420].copy()   # DE 4401-4420 de 20 en 20\n",
    "df16['full_location'] = list(map(lambda regi: geolocator.reverse(regi).raw['address'], df16['lat_long']))"
   ]
  },
  {
   "cell_type": "code",
   "execution_count": 484,
   "metadata": {},
   "outputs": [],
   "source": [
    "df17 = df9.loc[4421:4440].copy()   # DE 4421-4440 de 20 en 20\n",
    "df17['full_location'] = list(map(lambda regi: geolocator.reverse(regi).raw['address'], df17['lat_long']))"
   ]
  },
  {
   "cell_type": "code",
   "execution_count": null,
   "metadata": {},
   "outputs": [],
   "source": []
  },
  {
   "cell_type": "markdown",
   "metadata": {},
   "source": [
    "**FAIL**"
   ]
  },
  {
   "cell_type": "code",
   "execution_count": 507,
   "metadata": {},
   "outputs": [],
   "source": [
    "df18 = df9.loc[4441:4442].copy()  #  FAIL  4441, cogemos el 4442 también para poder operar luego, tiene que ser más de una fila "
   ]
  },
  {
   "cell_type": "code",
   "execution_count": 508,
   "metadata": {},
   "outputs": [
    {
     "data": {
      "text/plain": [
       "lat_long    (40.4687, 3.8528)\n",
       "Name: 4441, dtype: object"
      ]
     },
     "execution_count": 508,
     "metadata": {},
     "output_type": "execute_result"
    }
   ],
   "source": [
    "df18[['lat_long']]"
   ]
  },
  {
   "cell_type": "code",
   "execution_count": 505,
   "metadata": {
    "scrolled": true
   },
   "outputs": [
    {
     "data": {
      "text/html": [
       "<div>\n",
       "<style scoped>\n",
       "    .dataframe tbody tr th:only-of-type {\n",
       "        vertical-align: middle;\n",
       "    }\n",
       "\n",
       "    .dataframe tbody tr th {\n",
       "        vertical-align: top;\n",
       "    }\n",
       "\n",
       "    .dataframe thead th {\n",
       "        text-align: right;\n",
       "    }\n",
       "</style>\n",
       "<table border=\"1\" class=\"dataframe\">\n",
       "  <thead>\n",
       "    <tr style=\"text-align: right;\">\n",
       "      <th></th>\n",
       "      <th>lat_long</th>\n",
       "    </tr>\n",
       "  </thead>\n",
       "  <tbody>\n",
       "    <tr>\n",
       "      <th>4441</th>\n",
       "      <td>(40.4687, 3.8528)</td>\n",
       "    </tr>\n",
       "    <tr>\n",
       "      <th>4442</th>\n",
       "      <td>(40.470676, -3.871458)</td>\n",
       "    </tr>\n",
       "    <tr>\n",
       "      <th>4443</th>\n",
       "      <td>(40.47094, -3.87143)</td>\n",
       "    </tr>\n",
       "    <tr>\n",
       "      <th>4444</th>\n",
       "      <td>(40.469234, -3.853454)</td>\n",
       "    </tr>\n",
       "    <tr>\n",
       "      <th>4445</th>\n",
       "      <td>(40.47396, -3.87339)</td>\n",
       "    </tr>\n",
       "  </tbody>\n",
       "</table>\n",
       "</div>"
      ],
      "text/plain": [
       "                    lat_long\n",
       "4441       (40.4687, 3.8528)\n",
       "4442  (40.470676, -3.871458)\n",
       "4443    (40.47094, -3.87143)\n",
       "4444  (40.469234, -3.853454)\n",
       "4445    (40.47396, -3.87339)"
      ]
     },
     "execution_count": 505,
     "metadata": {},
     "output_type": "execute_result"
    }
   ],
   "source": [
    "df18[['lat_long']]  ## 4441 le falta un -3.85... ->   MMAAAAALLLLLL"
   ]
  },
  {
   "cell_type": "markdown",
   "metadata": {},
   "source": [
    "**CONTINUE**"
   ]
  },
  {
   "cell_type": "code",
   "execution_count": 515,
   "metadata": {},
   "outputs": [],
   "source": [
    "df19 = df9.loc[4443:6000].copy()   # DE 4443-6000   ->  START en 4443\n",
    "df19['full_location'] = list(map(lambda regi: geolocator.reverse(regi).raw['address'], df19['lat_long']))"
   ]
  },
  {
   "cell_type": "code",
   "execution_count": 517,
   "metadata": {},
   "outputs": [],
   "source": [
    "df20 = df9.loc[6001:10000].copy()   # DE 6000-10000  \n",
    "df20['full_location'] = list(map(lambda regi: geolocator.reverse(regi).raw['address'], df20['lat_long']))"
   ]
  },
  {
   "cell_type": "code",
   "execution_count": 520,
   "metadata": {},
   "outputs": [],
   "source": [
    "df21 = df9.loc[10_001:15_000].copy()   # DE 10.001 - 15.000  \n",
    "df21['full_location'] = list(map(lambda regi: geolocator.reverse(regi).raw['address'], df21['lat_long']))"
   ]
  },
  {
   "cell_type": "code",
   "execution_count": 565,
   "metadata": {},
   "outputs": [],
   "source": [
    "df22 = df9.loc[15_001:16_000].copy()   # DE 15.001 - 20.000  \n",
    "df22['full_location'] = list(map(lambda regi: geolocator.reverse(regi).raw['address'], df22['lat_long']))"
   ]
  },
  {
   "cell_type": "code",
   "execution_count": 535,
   "metadata": {},
   "outputs": [],
   "source": [
    "df23 = df9.loc[16_001:17_000].copy()   # DE 16.001 - 17.000  \n",
    "df23['full_location'] = list(map(lambda regi: geolocator.reverse(regi).raw['address'], df23['lat_long']))"
   ]
  },
  {
   "cell_type": "code",
   "execution_count": 538,
   "metadata": {},
   "outputs": [],
   "source": [
    "df24 = df9.loc[17_001:19_000].copy()   # DE 17.001 - 19.000  \n",
    "df24['full_location'] = list(map(lambda regi: geolocator.reverse(regi).raw['address'], df24['lat_long']))"
   ]
  },
  {
   "cell_type": "code",
   "execution_count": 543,
   "metadata": {},
   "outputs": [],
   "source": [
    "df25 = df9.loc[19_001:19_010].copy()   # DE 19_001 - 19_010   de 10 en 10\n",
    "df25['full_location'] = list(map(lambda regi: geolocator.reverse(regi).raw['address'], df25['lat_long']))"
   ]
  },
  {
   "cell_type": "code",
   "execution_count": 546,
   "metadata": {},
   "outputs": [],
   "source": [
    "df26 = df9.loc[19_011:19_013].copy()   # DE 19_001 - 19_010   de 10 en 10\n",
    "df26['full_location'] = list(map(lambda regi: geolocator.reverse(regi).raw['address'], df26['lat_long']))"
   ]
  },
  {
   "cell_type": "markdown",
   "metadata": {},
   "source": [
    "**FAIL**"
   ]
  },
  {
   "cell_type": "code",
   "execution_count": 548,
   "metadata": {
    "scrolled": true
   },
   "outputs": [
    {
     "data": {
      "text/html": [
       "<div>\n",
       "<style scoped>\n",
       "    .dataframe tbody tr th:only-of-type {\n",
       "        vertical-align: middle;\n",
       "    }\n",
       "\n",
       "    .dataframe tbody tr th {\n",
       "        vertical-align: top;\n",
       "    }\n",
       "\n",
       "    .dataframe thead th {\n",
       "        text-align: right;\n",
       "    }\n",
       "</style>\n",
       "<table border=\"1\" class=\"dataframe\">\n",
       "  <thead>\n",
       "    <tr style=\"text-align: right;\">\n",
       "      <th></th>\n",
       "      <th>full_location</th>\n",
       "      <th>lat_long</th>\n",
       "    </tr>\n",
       "  </thead>\n",
       "  <tbody>\n",
       "    <tr>\n",
       "      <th>19014</th>\n",
       "      <td></td>\n",
       "      <td>(37.19, 3.6103)</td>\n",
       "    </tr>\n",
       "    <tr>\n",
       "      <th>19015</th>\n",
       "      <td></td>\n",
       "      <td>(38.16672, -0.481804)</td>\n",
       "    </tr>\n",
       "  </tbody>\n",
       "</table>\n",
       "</div>"
      ],
      "text/plain": [
       "      full_location               lat_long\n",
       "19014                      (37.19, 3.6103)\n",
       "19015                (38.16672, -0.481804)"
      ]
     },
     "execution_count": 548,
     "metadata": {},
     "output_type": "execute_result"
    }
   ],
   "source": [
    "df27 = df9.loc[19_014:19_015].copy()   # FAIL  19014  - (Cogemos del 14-15 (par) para que no den problemas al guardar en df)\n",
    "df27[['full_location', 'lat_long']]"
   ]
  },
  {
   "cell_type": "markdown",
   "metadata": {},
   "source": [
    "**CONTINUE**"
   ]
  },
  {
   "cell_type": "code",
   "execution_count": 552,
   "metadata": {},
   "outputs": [],
   "source": [
    "df28 = df9.loc[19_016:20_000].copy()   # DE 19.016  - 20.000\n",
    "df28['full_location'] = list(map(lambda regi: geolocator.reverse(regi).raw['address'], df28['lat_long']))"
   ]
  },
  {
   "cell_type": "code",
   "execution_count": 555,
   "metadata": {},
   "outputs": [],
   "source": [
    "df29 = df9.loc[20_001:20_250].copy()   # DE 20.001 - 20.250\n",
    "df29['full_location'] = list(map(lambda regi: geolocator.reverse(regi).raw['address'], df29['lat_long']))"
   ]
  },
  {
   "cell_type": "code",
   "execution_count": 576,
   "metadata": {},
   "outputs": [],
   "source": [
    "df30 = df9.loc[20_251:20_800].copy()   # DE 20.251 - 20.800\n",
    "df30['full_location'] = list(map(lambda regi: geolocator.reverse(regi).raw['address'], df30['lat_long']))"
   ]
  },
  {
   "cell_type": "code",
   "execution_count": 598,
   "metadata": {},
   "outputs": [],
   "source": [
    "df31 = df9.loc[20_801:21_041].copy()   # DE 20.801 - 21.041\n",
    "df31['full_location'] = list(map(lambda regi: geolocator.reverse(regi).raw['address'], df31['lat_long']))"
   ]
  },
  {
   "cell_type": "markdown",
   "metadata": {},
   "source": [
    "**FAIL**"
   ]
  },
  {
   "cell_type": "code",
   "execution_count": 599,
   "metadata": {},
   "outputs": [
    {
     "data": {
      "text/html": [
       "<div>\n",
       "<style scoped>\n",
       "    .dataframe tbody tr th:only-of-type {\n",
       "        vertical-align: middle;\n",
       "    }\n",
       "\n",
       "    .dataframe tbody tr th {\n",
       "        vertical-align: top;\n",
       "    }\n",
       "\n",
       "    .dataframe thead th {\n",
       "        text-align: right;\n",
       "    }\n",
       "</style>\n",
       "<table border=\"1\" class=\"dataframe\">\n",
       "  <thead>\n",
       "    <tr style=\"text-align: right;\">\n",
       "      <th></th>\n",
       "      <th>full_location</th>\n",
       "      <th>lat_long</th>\n",
       "    </tr>\n",
       "  </thead>\n",
       "  <tbody>\n",
       "    <tr>\n",
       "      <th>21042</th>\n",
       "      <td></td>\n",
       "      <td>(39.4662, 0.3678)</td>\n",
       "    </tr>\n",
       "    <tr>\n",
       "      <th>21043</th>\n",
       "      <td></td>\n",
       "      <td>(39.672943, -0.263159)</td>\n",
       "    </tr>\n",
       "  </tbody>\n",
       "</table>\n",
       "</div>"
      ],
      "text/plain": [
       "      full_location                lat_long\n",
       "21042                     (39.4662, 0.3678)\n",
       "21043                (39.672943, -0.263159)"
      ]
     },
     "execution_count": 599,
     "metadata": {},
     "output_type": "execute_result"
    }
   ],
   "source": [
    "df32 = df9.loc[21_042:21_043].copy()   # FAIL  21.042  - (Cogemos del 42-43 (par) para que no den problemas al guardar en df)\n",
    "df32[['full_location', 'lat_long']]"
   ]
  },
  {
   "cell_type": "markdown",
   "metadata": {},
   "source": [
    "**CONTINUE**"
   ]
  },
  {
   "cell_type": "code",
   "execution_count": 621,
   "metadata": {},
   "outputs": [],
   "source": [
    "df33 = df9.loc[21_044:21_107].copy()   # DE 21.044 - 20.107\n",
    "df33['full_location'] = list(map(lambda regi: geolocator.reverse(regi).raw['address'], df33['lat_long']))"
   ]
  },
  {
   "cell_type": "markdown",
   "metadata": {},
   "source": [
    "**FAIL**"
   ]
  },
  {
   "cell_type": "code",
   "execution_count": 622,
   "metadata": {},
   "outputs": [
    {
     "data": {
      "text/html": [
       "<div>\n",
       "<style scoped>\n",
       "    .dataframe tbody tr th:only-of-type {\n",
       "        vertical-align: middle;\n",
       "    }\n",
       "\n",
       "    .dataframe tbody tr th {\n",
       "        vertical-align: top;\n",
       "    }\n",
       "\n",
       "    .dataframe thead th {\n",
       "        text-align: right;\n",
       "    }\n",
       "</style>\n",
       "<table border=\"1\" class=\"dataframe\">\n",
       "  <thead>\n",
       "    <tr style=\"text-align: right;\">\n",
       "      <th></th>\n",
       "      <th>full_location</th>\n",
       "      <th>lat_long</th>\n",
       "    </tr>\n",
       "  </thead>\n",
       "  <tbody>\n",
       "    <tr>\n",
       "      <th>21108</th>\n",
       "      <td></td>\n",
       "      <td>(39.4699, 0.3571)</td>\n",
       "    </tr>\n",
       "    <tr>\n",
       "      <th>21109</th>\n",
       "      <td></td>\n",
       "      <td>(39.47383, -0.37661)</td>\n",
       "    </tr>\n",
       "  </tbody>\n",
       "</table>\n",
       "</div>"
      ],
      "text/plain": [
       "      full_location              lat_long\n",
       "21108                   (39.4699, 0.3571)\n",
       "21109                (39.47383, -0.37661)"
      ]
     },
     "execution_count": 622,
     "metadata": {},
     "output_type": "execute_result"
    }
   ],
   "source": [
    "df34 = df9.loc[21_108:21_109].copy()  # FAIL 21_108 -21_109 \n",
    "df34[['full_location', 'lat_long']]"
   ]
  },
  {
   "cell_type": "markdown",
   "metadata": {},
   "source": [
    "**CONTINUE**"
   ]
  },
  {
   "cell_type": "code",
   "execution_count": 623,
   "metadata": {},
   "outputs": [],
   "source": [
    "df35 = df9.loc[21_110:25_000].copy()   # DE 21.100 - 25.000\n",
    "df35['full_location'] = list(map(lambda regi: geolocator.reverse(regi).raw['address'], df35['lat_long']))"
   ]
  },
  {
   "cell_type": "code",
   "execution_count": 639,
   "metadata": {},
   "outputs": [],
   "source": [
    "df36 = df9.loc[25_001:25_500].copy()   # DE 25.0001 - 20.500\n",
    "df36['full_location'] = list(map(lambda regi: geolocator.reverse(regi).raw['address'], df36['lat_long']))"
   ]
  },
  {
   "cell_type": "code",
   "execution_count": 644,
   "metadata": {},
   "outputs": [],
   "source": [
    "df37 = df9.loc[25_501:26_000].copy()   # DE 25.501 - 26.000\n",
    "df37['full_location'] = list(map(lambda regi: geolocator.reverse(regi).raw['address'], df37['lat_long']))"
   ]
  },
  {
   "cell_type": "code",
   "execution_count": 657,
   "metadata": {},
   "outputs": [],
   "source": [
    "df38 = df9.loc[26_001:26_156].copy()   # DE 26.001 - 20.156\n",
    "df38['full_location'] = list(map(lambda regi: geolocator.reverse(regi).raw['address'], df38['lat_long']))"
   ]
  },
  {
   "cell_type": "markdown",
   "metadata": {},
   "source": [
    "**FAIL**"
   ]
  },
  {
   "cell_type": "code",
   "execution_count": 658,
   "metadata": {},
   "outputs": [
    {
     "data": {
      "text/html": [
       "<div>\n",
       "<style scoped>\n",
       "    .dataframe tbody tr th:only-of-type {\n",
       "        vertical-align: middle;\n",
       "    }\n",
       "\n",
       "    .dataframe tbody tr th {\n",
       "        vertical-align: top;\n",
       "    }\n",
       "\n",
       "    .dataframe thead th {\n",
       "        text-align: right;\n",
       "    }\n",
       "</style>\n",
       "<table border=\"1\" class=\"dataframe\">\n",
       "  <thead>\n",
       "    <tr style=\"text-align: right;\">\n",
       "      <th></th>\n",
       "      <th>full_location</th>\n",
       "      <th>lat_long</th>\n",
       "    </tr>\n",
       "  </thead>\n",
       "  <tbody>\n",
       "    <tr>\n",
       "      <th>26157</th>\n",
       "      <td></td>\n",
       "      <td>(37.942, 0.7251)</td>\n",
       "    </tr>\n",
       "    <tr>\n",
       "      <th>26158</th>\n",
       "      <td></td>\n",
       "      <td>(37.91345, -0.73891)</td>\n",
       "    </tr>\n",
       "  </tbody>\n",
       "</table>\n",
       "</div>"
      ],
      "text/plain": [
       "      full_location              lat_long\n",
       "26157                    (37.942, 0.7251)\n",
       "26158                (37.91345, -0.73891)"
      ]
     },
     "execution_count": 658,
     "metadata": {},
     "output_type": "execute_result"
    }
   ],
   "source": [
    "df39 = df9.loc[26_157:26_158].copy()  # FAIL 26_157 \n",
    "df39[['full_location', 'lat_long']]"
   ]
  },
  {
   "cell_type": "markdown",
   "metadata": {},
   "source": [
    "**CONTINUE**"
   ]
  },
  {
   "cell_type": "code",
   "execution_count": 679,
   "metadata": {},
   "outputs": [],
   "source": [
    "df40 = df9.loc[26_159:26_475].copy()   # DE 26.159 - 26.475\n",
    "df40['full_location'] = list(map(lambda regi: geolocator.reverse(regi).raw['address'], df40['lat_long']))"
   ]
  },
  {
   "cell_type": "markdown",
   "metadata": {},
   "source": [
    "**FAIL**"
   ]
  },
  {
   "cell_type": "code",
   "execution_count": 680,
   "metadata": {},
   "outputs": [
    {
     "data": {
      "text/html": [
       "<div>\n",
       "<style scoped>\n",
       "    .dataframe tbody tr th:only-of-type {\n",
       "        vertical-align: middle;\n",
       "    }\n",
       "\n",
       "    .dataframe tbody tr th {\n",
       "        vertical-align: top;\n",
       "    }\n",
       "\n",
       "    .dataframe thead th {\n",
       "        text-align: right;\n",
       "    }\n",
       "</style>\n",
       "<table border=\"1\" class=\"dataframe\">\n",
       "  <thead>\n",
       "    <tr style=\"text-align: right;\">\n",
       "      <th></th>\n",
       "      <th>full_location</th>\n",
       "      <th>lat_long</th>\n",
       "    </tr>\n",
       "  </thead>\n",
       "  <tbody>\n",
       "    <tr>\n",
       "      <th>26157</th>\n",
       "      <td></td>\n",
       "      <td>(37.942, 0.7251)</td>\n",
       "    </tr>\n",
       "    <tr>\n",
       "      <th>26158</th>\n",
       "      <td></td>\n",
       "      <td>(37.91345, -0.73891)</td>\n",
       "    </tr>\n",
       "  </tbody>\n",
       "</table>\n",
       "</div>"
      ],
      "text/plain": [
       "      full_location              lat_long\n",
       "26157                    (37.942, 0.7251)\n",
       "26158                (37.91345, -0.73891)"
      ]
     },
     "execution_count": 680,
     "metadata": {},
     "output_type": "execute_result"
    }
   ],
   "source": [
    "df41 = df9.loc[26_157:26_158].copy()  # FAIL 26_157 \n",
    "df41[['full_location', 'lat_long']]"
   ]
  },
  {
   "cell_type": "markdown",
   "metadata": {},
   "source": [
    "**CONTINUE**"
   ]
  },
  {
   "cell_type": "code",
   "execution_count": 684,
   "metadata": {},
   "outputs": [],
   "source": [
    "df42 = df9.loc[26_478:29_000].copy()   # DE 20.478 - 29.000\n",
    "df42['full_location'] = list(map(lambda regi: geolocator.reverse(regi).raw['address'], df42['lat_long']))"
   ]
  },
  {
   "cell_type": "code",
   "execution_count": 692,
   "metadata": {},
   "outputs": [],
   "source": [
    "df43 = df9.loc[29_001:31_000].copy()   # DE 29.001 - 31.000\n",
    "df43['full_location'] = list(map(lambda regi: geolocator.reverse(regi).raw['address'], df43['lat_long']))"
   ]
  },
  {
   "cell_type": "code",
   "execution_count": 695,
   "metadata": {},
   "outputs": [],
   "source": [
    "df44 = df9.loc[31_001:32_000].copy()   # DE 31.001 - 32.000\n",
    "df44['full_location'] = list(map(lambda regi: geolocator.reverse(regi).raw['address'], df44['lat_long']))"
   ]
  },
  {
   "cell_type": "code",
   "execution_count": 710,
   "metadata": {},
   "outputs": [],
   "source": [
    "df45 = df9.loc[32_001:32_494].copy()   # DE 32.001 - 32.300\n",
    "df45['full_location'] = list(map(lambda regi: geolocator.reverse(regi).raw['address'], df45['lat_long']))"
   ]
  },
  {
   "cell_type": "markdown",
   "metadata": {},
   "source": [
    "**FAIL**"
   ]
  },
  {
   "cell_type": "code",
   "execution_count": 709,
   "metadata": {},
   "outputs": [
    {
     "data": {
      "text/html": [
       "<div>\n",
       "<style scoped>\n",
       "    .dataframe tbody tr th:only-of-type {\n",
       "        vertical-align: middle;\n",
       "    }\n",
       "\n",
       "    .dataframe tbody tr th {\n",
       "        vertical-align: top;\n",
       "    }\n",
       "\n",
       "    .dataframe thead th {\n",
       "        text-align: right;\n",
       "    }\n",
       "</style>\n",
       "<table border=\"1\" class=\"dataframe\">\n",
       "  <thead>\n",
       "    <tr style=\"text-align: right;\">\n",
       "      <th></th>\n",
       "      <th>full_location</th>\n",
       "      <th>lat_long</th>\n",
       "    </tr>\n",
       "  </thead>\n",
       "  <tbody>\n",
       "    <tr>\n",
       "      <th>32495</th>\n",
       "      <td></td>\n",
       "      <td>(31.200275, -17.066751)</td>\n",
       "    </tr>\n",
       "    <tr>\n",
       "      <th>32496</th>\n",
       "      <td></td>\n",
       "      <td>(28.198862, -16.827738)</td>\n",
       "    </tr>\n",
       "  </tbody>\n",
       "</table>\n",
       "</div>"
      ],
      "text/plain": [
       "      full_location                 lat_long\n",
       "32495                (31.200275, -17.066751)\n",
       "32496                (28.198862, -16.827738)"
      ]
     },
     "execution_count": 709,
     "metadata": {},
     "output_type": "execute_result"
    }
   ],
   "source": [
    "df46 = df9.loc[32_495:32_496].copy()  # FAIL 32.495 o 32.496  \n",
    "df46[['full_location', 'lat_long']]"
   ]
  },
  {
   "cell_type": "markdown",
   "metadata": {},
   "source": [
    "**CONTINUE**"
   ]
  },
  {
   "cell_type": "code",
   "execution_count": 711,
   "metadata": {},
   "outputs": [],
   "source": [
    "df47 = df9.loc[32_497:37_000].copy()   # DE 32.497 - 37.000\n",
    "df47['full_location'] = list(map(lambda regi: geolocator.reverse(regi).raw['address'], df47['lat_long']))"
   ]
  },
  {
   "cell_type": "code",
   "execution_count": 716,
   "metadata": {},
   "outputs": [
    {
     "data": {
      "text/html": [
       "<div>\n",
       "<style scoped>\n",
       "    .dataframe tbody tr th:only-of-type {\n",
       "        vertical-align: middle;\n",
       "    }\n",
       "\n",
       "    .dataframe tbody tr th {\n",
       "        vertical-align: top;\n",
       "    }\n",
       "\n",
       "    .dataframe thead th {\n",
       "        text-align: right;\n",
       "    }\n",
       "</style>\n",
       "<table border=\"1\" class=\"dataframe\">\n",
       "  <thead>\n",
       "    <tr style=\"text-align: right;\">\n",
       "      <th></th>\n",
       "      <th>restaurant_link</th>\n",
       "      <th>restaurant_name</th>\n",
       "      <th>country</th>\n",
       "      <th>region</th>\n",
       "      <th>province</th>\n",
       "      <th>city</th>\n",
       "      <th>address</th>\n",
       "      <th>latitude</th>\n",
       "      <th>longitude</th>\n",
       "      <th>claimed</th>\n",
       "      <th>top_tags</th>\n",
       "      <th>price_range</th>\n",
       "      <th>meals</th>\n",
       "      <th>cuisines</th>\n",
       "      <th>special_diets</th>\n",
       "      <th>features</th>\n",
       "      <th>vegetarian_friendly</th>\n",
       "      <th>vegan_options</th>\n",
       "      <th>gluten_free</th>\n",
       "      <th>original_open_hours</th>\n",
       "      <th>avg_rating</th>\n",
       "      <th>total_reviews_count</th>\n",
       "      <th>default_language</th>\n",
       "      <th>food</th>\n",
       "      <th>service</th>\n",
       "      <th>value</th>\n",
       "      <th>lat_long</th>\n",
       "      <th>full_location</th>\n",
       "    </tr>\n",
       "  </thead>\n",
       "  <tbody>\n",
       "    <tr>\n",
       "      <th>36999</th>\n",
       "      <td>g187438-d14176882</td>\n",
       "      <td>El Azteca Restaurante Mexicano y Tequila Bar</td>\n",
       "      <td>Spain</td>\n",
       "      <td>Andalucia</td>\n",
       "      <td>Province of Malaga</td>\n",
       "      <td>NaN</td>\n",
       "      <td>Calle de Juan de Padilla 5 100m de plaza Uncib...</td>\n",
       "      <td>36.72284</td>\n",
       "      <td>-4.42103</td>\n",
       "      <td>Claimed</td>\n",
       "      <td>Mid-range, Mexican, Latin, Spanish</td>\n",
       "      <td>CHF 10-CHF 24</td>\n",
       "      <td>Dinner, Lunch, After-hours, Drinks</td>\n",
       "      <td>Mexican, Latin, Spanish, Healthy, South Americ...</td>\n",
       "      <td>Info no disponible</td>\n",
       "      <td>Info no disponible</td>\n",
       "      <td>N</td>\n",
       "      <td>N</td>\n",
       "      <td>N</td>\n",
       "      <td>{\"Mon\": [], \"Tue\": [\"14:00-17:00\", \"20:00-23:0...</td>\n",
       "      <td>4.0</td>\n",
       "      <td>40.0</td>\n",
       "      <td>English</td>\n",
       "      <td>4.0</td>\n",
       "      <td>5.0</td>\n",
       "      <td>4.0</td>\n",
       "      <td>(36.72284, -4.42103)</td>\n",
       "      <td>{'historic': 'Centro Histórico', 'road': 'Call...</td>\n",
       "    </tr>\n",
       "    <tr>\n",
       "      <th>37000</th>\n",
       "      <td>g187438-d14182102</td>\n",
       "      <td>Blue Centro</td>\n",
       "      <td>Spain</td>\n",
       "      <td>Andalucia</td>\n",
       "      <td>Province of Malaga</td>\n",
       "      <td>NaN</td>\n",
       "      <td>Calle de San Juan de Letran 11, 29012 Malaga S...</td>\n",
       "      <td>36.72404</td>\n",
       "      <td>-4.41835</td>\n",
       "      <td>Claimed</td>\n",
       "      <td>Cheap Eats, Cafe</td>\n",
       "      <td>CHF 2-CHF 11</td>\n",
       "      <td>Info no disponible</td>\n",
       "      <td>Cafe</td>\n",
       "      <td>Info no disponible</td>\n",
       "      <td>Info no disponible</td>\n",
       "      <td>N</td>\n",
       "      <td>N</td>\n",
       "      <td>N</td>\n",
       "      <td>Info no disponible</td>\n",
       "      <td>5.0</td>\n",
       "      <td>1.0</td>\n",
       "      <td>All languages</td>\n",
       "      <td>Info no disponible</td>\n",
       "      <td>Info no disponible</td>\n",
       "      <td>Info no disponible</td>\n",
       "      <td>(36.72404, -4.41835)</td>\n",
       "      <td>{'amenity': 'NicPic', 'house_number': '7-9', '...</td>\n",
       "    </tr>\n",
       "  </tbody>\n",
       "</table>\n",
       "</div>"
      ],
      "text/plain": [
       "         restaurant_link                               restaurant_name  \\\n",
       "36999  g187438-d14176882  El Azteca Restaurante Mexicano y Tequila Bar   \n",
       "37000  g187438-d14182102                                   Blue Centro   \n",
       "\n",
       "      country     region            province city  \\\n",
       "36999   Spain  Andalucia  Province of Malaga  NaN   \n",
       "37000   Spain  Andalucia  Province of Malaga  NaN   \n",
       "\n",
       "                                                 address  latitude  longitude  \\\n",
       "36999  Calle de Juan de Padilla 5 100m de plaza Uncib...  36.72284   -4.42103   \n",
       "37000  Calle de San Juan de Letran 11, 29012 Malaga S...  36.72404   -4.41835   \n",
       "\n",
       "       claimed                            top_tags    price_range  \\\n",
       "36999  Claimed  Mid-range, Mexican, Latin, Spanish  CHF 10-CHF 24   \n",
       "37000  Claimed                    Cheap Eats, Cafe   CHF 2-CHF 11   \n",
       "\n",
       "                                    meals  \\\n",
       "36999  Dinner, Lunch, After-hours, Drinks   \n",
       "37000                  Info no disponible   \n",
       "\n",
       "                                                cuisines       special_diets  \\\n",
       "36999  Mexican, Latin, Spanish, Healthy, South Americ...  Info no disponible   \n",
       "37000                                               Cafe  Info no disponible   \n",
       "\n",
       "                 features vegetarian_friendly vegan_options gluten_free  \\\n",
       "36999  Info no disponible                   N             N           N   \n",
       "37000  Info no disponible                   N             N           N   \n",
       "\n",
       "                                     original_open_hours avg_rating  \\\n",
       "36999  {\"Mon\": [], \"Tue\": [\"14:00-17:00\", \"20:00-23:0...        4.0   \n",
       "37000                                 Info no disponible        5.0   \n",
       "\n",
       "      total_reviews_count default_language                food  \\\n",
       "36999                40.0          English                 4.0   \n",
       "37000                 1.0    All languages  Info no disponible   \n",
       "\n",
       "                  service               value              lat_long  \\\n",
       "36999                 5.0                 4.0  (36.72284, -4.42103)   \n",
       "37000  Info no disponible  Info no disponible  (36.72404, -4.41835)   \n",
       "\n",
       "                                           full_location  \n",
       "36999  {'historic': 'Centro Histórico', 'road': 'Call...  \n",
       "37000  {'amenity': 'NicPic', 'house_number': '7-9', '...  "
      ]
     },
     "execution_count": 716,
     "metadata": {},
     "output_type": "execute_result"
    }
   ],
   "source": [
    "df47.tail(2)"
   ]
  },
  {
   "cell_type": "code",
   "execution_count": 717,
   "metadata": {},
   "outputs": [],
   "source": [
    "df48 = df9.loc[37_001:40_000].copy()   # DE 37.001 - 40.000\n",
    "df48['full_location'] = list(map(lambda regi: geolocator.reverse(regi).raw['address'], df48['lat_long']))"
   ]
  },
  {
   "cell_type": "code",
   "execution_count": 736,
   "metadata": {},
   "outputs": [],
   "source": [
    "df49 = df9.loc[40_001:41_000].copy()   # DE 40.001 - 41.000\n",
    "df49['full_location'] = list(map(lambda regi: geolocator.reverse(regi).raw['address'], df49['lat_long']))"
   ]
  },
  {
   "cell_type": "code",
   "execution_count": 737,
   "metadata": {},
   "outputs": [],
   "source": [
    "df50 = df9.loc[41_001:41_223].copy()   # DE 41.001 - 41.\n",
    "df50['full_location'] = list(map(lambda regi: geolocator.reverse(regi).raw['address'], df50['lat_long']))"
   ]
  },
  {
   "cell_type": "markdown",
   "metadata": {},
   "source": [
    "**FAIL**"
   ]
  },
  {
   "cell_type": "code",
   "execution_count": 738,
   "metadata": {},
   "outputs": [
    {
     "data": {
      "text/html": [
       "<div>\n",
       "<style scoped>\n",
       "    .dataframe tbody tr th:only-of-type {\n",
       "        vertical-align: middle;\n",
       "    }\n",
       "\n",
       "    .dataframe tbody tr th {\n",
       "        vertical-align: top;\n",
       "    }\n",
       "\n",
       "    .dataframe thead th {\n",
       "        text-align: right;\n",
       "    }\n",
       "</style>\n",
       "<table border=\"1\" class=\"dataframe\">\n",
       "  <thead>\n",
       "    <tr style=\"text-align: right;\">\n",
       "      <th></th>\n",
       "      <th>full_location</th>\n",
       "      <th>lat_long</th>\n",
       "    </tr>\n",
       "  </thead>\n",
       "  <tbody>\n",
       "    <tr>\n",
       "      <th>41224</th>\n",
       "      <td></td>\n",
       "      <td>(37.1617, 3.602)</td>\n",
       "    </tr>\n",
       "    <tr>\n",
       "      <th>41225</th>\n",
       "      <td></td>\n",
       "      <td>(37.17754, -3.59488)</td>\n",
       "    </tr>\n",
       "  </tbody>\n",
       "</table>\n",
       "</div>"
      ],
      "text/plain": [
       "      full_location              lat_long\n",
       "41224                    (37.1617, 3.602)\n",
       "41225                (37.17754, -3.59488)"
      ]
     },
     "execution_count": 738,
     "metadata": {},
     "output_type": "execute_result"
    }
   ],
   "source": [
    "df51 = df9.loc[41_224:41_225].copy()  # FAIL 41.224\n",
    "df51[['full_location', 'lat_long']]"
   ]
  },
  {
   "cell_type": "markdown",
   "metadata": {},
   "source": [
    "**CONTINUE**"
   ]
  },
  {
   "cell_type": "code",
   "execution_count": 752,
   "metadata": {},
   "outputs": [],
   "source": [
    "df52 = df9.loc[41_226:41_559].copy()   # DE 41.226 - 41.559\n",
    "df52['full_location'] = list(map(lambda regi: geolocator.reverse(regi).raw['address'], df52['lat_long']))"
   ]
  },
  {
   "cell_type": "markdown",
   "metadata": {},
   "source": [
    "**FAIL**"
   ]
  },
  {
   "cell_type": "code",
   "execution_count": 753,
   "metadata": {},
   "outputs": [
    {
     "data": {
      "text/html": [
       "<div>\n",
       "<style scoped>\n",
       "    .dataframe tbody tr th:only-of-type {\n",
       "        vertical-align: middle;\n",
       "    }\n",
       "\n",
       "    .dataframe tbody tr th {\n",
       "        vertical-align: top;\n",
       "    }\n",
       "\n",
       "    .dataframe thead th {\n",
       "        text-align: right;\n",
       "    }\n",
       "</style>\n",
       "<table border=\"1\" class=\"dataframe\">\n",
       "  <thead>\n",
       "    <tr style=\"text-align: right;\">\n",
       "      <th></th>\n",
       "      <th>full_location</th>\n",
       "      <th>lat_long</th>\n",
       "    </tr>\n",
       "  </thead>\n",
       "  <tbody>\n",
       "    <tr>\n",
       "      <th>41600</th>\n",
       "      <td></td>\n",
       "      <td>(37.1736, 3.5981)</td>\n",
       "    </tr>\n",
       "    <tr>\n",
       "      <th>41601</th>\n",
       "      <td></td>\n",
       "      <td>(37.1719, -3.603253)</td>\n",
       "    </tr>\n",
       "  </tbody>\n",
       "</table>\n",
       "</div>"
      ],
      "text/plain": [
       "      full_location              lat_long\n",
       "41600                   (37.1736, 3.5981)\n",
       "41601                (37.1719, -3.603253)"
      ]
     },
     "execution_count": 753,
     "metadata": {},
     "output_type": "execute_result"
    }
   ],
   "source": [
    "df53 = df9.loc[41_600:41_601].copy()  # FAIL 41.600 o 41_601\n",
    "df53[['full_location', 'lat_long']]"
   ]
  },
  {
   "cell_type": "markdown",
   "metadata": {},
   "source": [
    "**CONTINUE**"
   ]
  },
  {
   "cell_type": "code",
   "execution_count": 794,
   "metadata": {
    "scrolled": true
   },
   "outputs": [],
   "source": [
    "df54 = df9.loc[41_602:41_612].copy()   # DE 41.602 - 41.612   (nos hemos saltado 613)\n",
    "df54['full_location'] = list(map(lambda regi: geolocator.reverse(regi).raw['address'], df54['lat_long']))"
   ]
  },
  {
   "cell_type": "markdown",
   "metadata": {},
   "source": [
    "**FAIL**"
   ]
  },
  {
   "cell_type": "code",
   "execution_count": 795,
   "metadata": {},
   "outputs": [
    {
     "data": {
      "text/html": [
       "<div>\n",
       "<style scoped>\n",
       "    .dataframe tbody tr th:only-of-type {\n",
       "        vertical-align: middle;\n",
       "    }\n",
       "\n",
       "    .dataframe tbody tr th {\n",
       "        vertical-align: top;\n",
       "    }\n",
       "\n",
       "    .dataframe thead th {\n",
       "        text-align: right;\n",
       "    }\n",
       "</style>\n",
       "<table border=\"1\" class=\"dataframe\">\n",
       "  <thead>\n",
       "    <tr style=\"text-align: right;\">\n",
       "      <th></th>\n",
       "      <th>full_location</th>\n",
       "      <th>lat_long</th>\n",
       "    </tr>\n",
       "  </thead>\n",
       "  <tbody>\n",
       "    <tr>\n",
       "      <th>41614</th>\n",
       "      <td></td>\n",
       "      <td>(37.180386, -3.590299)</td>\n",
       "    </tr>\n",
       "    <tr>\n",
       "      <th>41615</th>\n",
       "      <td></td>\n",
       "      <td>(37.176773, -3.596497)</td>\n",
       "    </tr>\n",
       "  </tbody>\n",
       "</table>\n",
       "</div>"
      ],
      "text/plain": [
       "      full_location                lat_long\n",
       "41614                (37.180386, -3.590299)\n",
       "41615                (37.176773, -3.596497)"
      ]
     },
     "execution_count": 795,
     "metadata": {},
     "output_type": "execute_result"
    }
   ],
   "source": [
    "df55 = df9.loc[41_614:41_615].copy()  # FAIL 41_614\n",
    "df55[['full_location', 'lat_long']]"
   ]
  },
  {
   "cell_type": "markdown",
   "metadata": {},
   "source": [
    "**CONTINUE**"
   ]
  },
  {
   "cell_type": "code",
   "execution_count": 810,
   "metadata": {
    "scrolled": true
   },
   "outputs": [],
   "source": [
    "df56 = df9.loc[41_616:41_699].copy()   # DE 41.616 - 41.699\n",
    "df56['full_location'] = list(map(lambda regi: geolocator.reverse(regi).raw['address'], df56['lat_long']))"
   ]
  },
  {
   "cell_type": "code",
   "execution_count": 818,
   "metadata": {
    "scrolled": true
   },
   "outputs": [],
   "source": [
    "df57 = df9.loc[42_000:43_000].copy()   # DE 42.000 - 43.000\n",
    "df57['full_location'] = list(map(lambda regi: geolocator.reverse(regi).raw['address'], df57['lat_long']))"
   ]
  },
  {
   "cell_type": "code",
   "execution_count": 822,
   "metadata": {},
   "outputs": [],
   "source": [
    "df58 = df9.loc[43_001:43_500].copy()   # DE 41.001 - 43.000\n",
    "df58['full_location'] = list(map(lambda regi: geolocator.reverse(regi).raw['address'], df58['lat_long']))"
   ]
  },
  {
   "cell_type": "code",
   "execution_count": 838,
   "metadata": {},
   "outputs": [],
   "source": [
    "df59 = df9.loc[43_501:43_964].copy()   # DE 43.501 - 43.964\n",
    "df59['full_location'] = list(map(lambda regi: geolocator.reverse(regi).raw['address'], df59['lat_long']))"
   ]
  },
  {
   "cell_type": "markdown",
   "metadata": {},
   "source": [
    "**FAIL**"
   ]
  },
  {
   "cell_type": "code",
   "execution_count": 839,
   "metadata": {
    "scrolled": true
   },
   "outputs": [
    {
     "data": {
      "text/html": [
       "<div>\n",
       "<style scoped>\n",
       "    .dataframe tbody tr th:only-of-type {\n",
       "        vertical-align: middle;\n",
       "    }\n",
       "\n",
       "    .dataframe tbody tr th {\n",
       "        vertical-align: top;\n",
       "    }\n",
       "\n",
       "    .dataframe thead th {\n",
       "        text-align: right;\n",
       "    }\n",
       "</style>\n",
       "<table border=\"1\" class=\"dataframe\">\n",
       "  <thead>\n",
       "    <tr style=\"text-align: right;\">\n",
       "      <th></th>\n",
       "      <th>full_location</th>\n",
       "      <th>lat_long</th>\n",
       "    </tr>\n",
       "  </thead>\n",
       "  <tbody>\n",
       "    <tr>\n",
       "      <th>43965</th>\n",
       "      <td></td>\n",
       "      <td>(37.386707, -5.998562)</td>\n",
       "    </tr>\n",
       "    <tr>\n",
       "      <th>43966</th>\n",
       "      <td></td>\n",
       "      <td>(37.3934, 5.9936)</td>\n",
       "    </tr>\n",
       "  </tbody>\n",
       "</table>\n",
       "</div>"
      ],
      "text/plain": [
       "      full_location                lat_long\n",
       "43965                (37.386707, -5.998562)\n",
       "43966                     (37.3934, 5.9936)"
      ]
     },
     "execution_count": 839,
     "metadata": {},
     "output_type": "execute_result"
    }
   ],
   "source": [
    "df60 = df9.loc[43_965:43_966].copy()  # FAIL 43_965\n",
    "df60[['full_location', 'lat_long']]"
   ]
  },
  {
   "cell_type": "markdown",
   "metadata": {},
   "source": [
    "**CONTINUE**"
   ]
  },
  {
   "cell_type": "code",
   "execution_count": 852,
   "metadata": {
    "scrolled": true
   },
   "outputs": [],
   "source": [
    "df61 = df9.loc[43_967:44_050].copy()   # DE 43_967 - 44.050\n",
    "df61['full_location'] = list(map(lambda regi: geolocator.reverse(regi).raw['address'], df61['lat_long']))"
   ]
  },
  {
   "cell_type": "markdown",
   "metadata": {},
   "source": [
    "**FAIL**"
   ]
  },
  {
   "cell_type": "code",
   "execution_count": 850,
   "metadata": {
    "scrolled": true
   },
   "outputs": [
    {
     "data": {
      "text/html": [
       "<div>\n",
       "<style scoped>\n",
       "    .dataframe tbody tr th:only-of-type {\n",
       "        vertical-align: middle;\n",
       "    }\n",
       "\n",
       "    .dataframe tbody tr th {\n",
       "        vertical-align: top;\n",
       "    }\n",
       "\n",
       "    .dataframe thead th {\n",
       "        text-align: right;\n",
       "    }\n",
       "</style>\n",
       "<table border=\"1\" class=\"dataframe\">\n",
       "  <thead>\n",
       "    <tr style=\"text-align: right;\">\n",
       "      <th></th>\n",
       "      <th>full_location</th>\n",
       "      <th>lat_long</th>\n",
       "    </tr>\n",
       "  </thead>\n",
       "  <tbody>\n",
       "    <tr>\n",
       "      <th>44051</th>\n",
       "      <td></td>\n",
       "      <td>(39.4824, 0.3599)</td>\n",
       "    </tr>\n",
       "    <tr>\n",
       "      <th>44052</th>\n",
       "      <td></td>\n",
       "      <td>(37.39515, -5.99135)</td>\n",
       "    </tr>\n",
       "  </tbody>\n",
       "</table>\n",
       "</div>"
      ],
      "text/plain": [
       "      full_location              lat_long\n",
       "44051                   (39.4824, 0.3599)\n",
       "44052                (37.39515, -5.99135)"
      ]
     },
     "execution_count": 850,
     "metadata": {},
     "output_type": "execute_result"
    }
   ],
   "source": [
    "df62 = df9.loc[44_051:44_052].copy()  # FAIL 44_051 - 44_052\n",
    "df62[['full_location', 'lat_long']]"
   ]
  },
  {
   "cell_type": "markdown",
   "metadata": {},
   "source": [
    "**CONTINUE**"
   ]
  },
  {
   "cell_type": "code",
   "execution_count": 863,
   "metadata": {},
   "outputs": [],
   "source": [
    "df63 = df9.loc[44_053:44_500].copy()   # DE 44_053 - 44_500\n",
    "df63['full_location'] = list(map(lambda regi: geolocator.reverse(regi).raw['address'], df63['lat_long']))"
   ]
  },
  {
   "cell_type": "code",
   "execution_count": 897,
   "metadata": {},
   "outputs": [],
   "source": [
    "df64 = df9.loc[44_501:44_818].copy()   # DE 44_501 - 44_818 \n",
    "df64['full_location'] = list(map(lambda regi: geolocator.reverse(regi).raw['address'], df64['lat_long']))"
   ]
  },
  {
   "cell_type": "markdown",
   "metadata": {},
   "source": [
    "**FAIL**"
   ]
  },
  {
   "cell_type": "code",
   "execution_count": 898,
   "metadata": {},
   "outputs": [
    {
     "data": {
      "text/html": [
       "<div>\n",
       "<style scoped>\n",
       "    .dataframe tbody tr th:only-of-type {\n",
       "        vertical-align: middle;\n",
       "    }\n",
       "\n",
       "    .dataframe tbody tr th {\n",
       "        vertical-align: top;\n",
       "    }\n",
       "\n",
       "    .dataframe thead th {\n",
       "        text-align: right;\n",
       "    }\n",
       "</style>\n",
       "<table border=\"1\" class=\"dataframe\">\n",
       "  <thead>\n",
       "    <tr style=\"text-align: right;\">\n",
       "      <th></th>\n",
       "      <th>full_location</th>\n",
       "      <th>lat_long</th>\n",
       "    </tr>\n",
       "  </thead>\n",
       "  <tbody>\n",
       "    <tr>\n",
       "      <th>44819</th>\n",
       "      <td></td>\n",
       "      <td>(37.3858, 5.9956)</td>\n",
       "    </tr>\n",
       "    <tr>\n",
       "      <th>44820</th>\n",
       "      <td></td>\n",
       "      <td>(37.39145, -5.9941)</td>\n",
       "    </tr>\n",
       "  </tbody>\n",
       "</table>\n",
       "</div>"
      ],
      "text/plain": [
       "      full_location             lat_long\n",
       "44819                  (37.3858, 5.9956)\n",
       "44820                (37.39145, -5.9941)"
      ]
     },
     "execution_count": 898,
     "metadata": {},
     "output_type": "execute_result"
    }
   ],
   "source": [
    "df65 = df9.loc[44_819:44_820].copy()  # FAIL 44_819\n",
    "df65[['full_location', 'lat_long']]"
   ]
  },
  {
   "cell_type": "markdown",
   "metadata": {},
   "source": [
    "**CONTINUE**"
   ]
  },
  {
   "cell_type": "code",
   "execution_count": 899,
   "metadata": {},
   "outputs": [],
   "source": [
    "df66 = df9.loc[44_821:46_000].copy()   # DE 43_821 - 46_000\n",
    "df66['full_location'] = list(map(lambda regi: geolocator.reverse(regi).raw['address'], df66['lat_long']))"
   ]
  },
  {
   "cell_type": "code",
   "execution_count": 918,
   "metadata": {
    "scrolled": true
   },
   "outputs": [],
   "source": [
    "df67 = df9.loc[46_001:48_321].copy()   # DE 43_001 - 48_321 \n",
    "df67['full_location'] = list(map(lambda regi: geolocator.reverse(regi).raw['address'], df67['lat_long']))"
   ]
  },
  {
   "cell_type": "markdown",
   "metadata": {},
   "source": [
    "**FAIL**"
   ]
  },
  {
   "cell_type": "code",
   "execution_count": 917,
   "metadata": {
    "scrolled": true
   },
   "outputs": [
    {
     "data": {
      "text/html": [
       "<div>\n",
       "<style scoped>\n",
       "    .dataframe tbody tr th:only-of-type {\n",
       "        vertical-align: middle;\n",
       "    }\n",
       "\n",
       "    .dataframe tbody tr th {\n",
       "        vertical-align: top;\n",
       "    }\n",
       "\n",
       "    .dataframe thead th {\n",
       "        text-align: right;\n",
       "    }\n",
       "</style>\n",
       "<table border=\"1\" class=\"dataframe\">\n",
       "  <thead>\n",
       "    <tr style=\"text-align: right;\">\n",
       "      <th></th>\n",
       "      <th>full_location</th>\n",
       "      <th>lat_long</th>\n",
       "    </tr>\n",
       "  </thead>\n",
       "  <tbody>\n",
       "    <tr>\n",
       "      <th>48322</th>\n",
       "      <td></td>\n",
       "      <td>(43.82233, -6.756433)</td>\n",
       "    </tr>\n",
       "    <tr>\n",
       "      <th>48323</th>\n",
       "      <td></td>\n",
       "      <td>(43.537113, -5.662719)</td>\n",
       "    </tr>\n",
       "  </tbody>\n",
       "</table>\n",
       "</div>"
      ],
      "text/plain": [
       "      full_location                lat_long\n",
       "48322                 (43.82233, -6.756433)\n",
       "48323                (43.537113, -5.662719)"
      ]
     },
     "execution_count": 917,
     "metadata": {},
     "output_type": "execute_result"
    }
   ],
   "source": [
    "df68 = df9.loc[48_322:48_323].copy()  # FAIL 44_819\n",
    "df68[['full_location', 'lat_long']]"
   ]
  },
  {
   "cell_type": "markdown",
   "metadata": {},
   "source": [
    "**CONTINUE**"
   ]
  },
  {
   "cell_type": "code",
   "execution_count": 925,
   "metadata": {},
   "outputs": [],
   "source": [
    "df69 = df9.loc[48_324:50_000].copy()   # DE 48_324 - 50_000 \n",
    "df69['full_location'] = list(map(lambda regi: geolocator.reverse(regi).raw['address'], df69['lat_long']))"
   ]
  },
  {
   "cell_type": "code",
   "execution_count": 919,
   "metadata": {},
   "outputs": [],
   "source": [
    "df70 = df9.loc[50_001:55_000].copy()   # DE 50_001 - 55_000 \n",
    "df70['full_location'] = list(map(lambda regi: geolocator.reverse(regi).raw['address'], df70['lat_long']))"
   ]
  },
  {
   "cell_type": "code",
   "execution_count": 933,
   "metadata": {},
   "outputs": [],
   "source": [
    "df71 = df9.loc[55_001:55_500].copy()   # DE 55_501 - 55_500 \n",
    "df71['full_location'] = list(map(lambda regi: geolocator.reverse(regi).raw['address'], df71['lat_long']))"
   ]
  },
  {
   "cell_type": "code",
   "execution_count": 935,
   "metadata": {},
   "outputs": [],
   "source": [
    "df72 = df9.loc[55_501:56_000].copy()   # DE 50_501 - 56_000  \n",
    "df72['full_location'] = list(map(lambda regi: geolocator.reverse(regi).raw['address'], df72['lat_long']))"
   ]
  },
  {
   "cell_type": "code",
   "execution_count": 943,
   "metadata": {},
   "outputs": [],
   "source": [
    "df73 = df9.loc[56_001:56_310].copy()   # DE 56_001 -  56_310 \n",
    "df73['full_location'] = list(map(lambda regi: geolocator.reverse(regi).raw['address'], df73['lat_long']))"
   ]
  },
  {
   "cell_type": "code",
   "execution_count": 944,
   "metadata": {},
   "outputs": [],
   "source": [
    "df74 = df9.loc[56_311:56_500].copy()   # DE 56_311 - 56_500 \n",
    "df74['full_location'] = list(map(lambda regi: geolocator.reverse(regi).raw['address'], df74['lat_long']))"
   ]
  },
  {
   "cell_type": "code",
   "execution_count": 945,
   "metadata": {},
   "outputs": [],
   "source": [
    "df75 = df9.loc[56_501:57_500].copy()   # DE 56_501 - 57_500  \n",
    "df75['full_location'] = list(map(lambda regi: geolocator.reverse(regi).raw['address'], df75['lat_long']))"
   ]
  },
  {
   "cell_type": "code",
   "execution_count": 952,
   "metadata": {},
   "outputs": [],
   "source": [
    "df76 = df9.loc[57_501:59_500].copy()   # DE 57_501 - 59_500\n",
    "df76['full_location'] = list(map(lambda regi: geolocator.reverse(regi).raw['address'], df76['lat_long']))"
   ]
  },
  {
   "cell_type": "code",
   "execution_count": 954,
   "metadata": {},
   "outputs": [],
   "source": [
    "df77 = df9.loc[59_501:61_500].copy()   # DE 59_501 - 61_500 \n",
    "df77['full_location'] = list(map(lambda regi: geolocator.reverse(regi).raw['address'], df77['lat_long']))"
   ]
  },
  {
   "cell_type": "code",
   "execution_count": 955,
   "metadata": {},
   "outputs": [],
   "source": [
    "df78 = df9.loc[61_501:65_000].copy()   # DE 61_501 - 65_000 \n",
    "df78['full_location'] = list(map(lambda regi: geolocator.reverse(regi).raw['address'], df78['lat_long']))"
   ]
  },
  {
   "cell_type": "code",
   "execution_count": 956,
   "metadata": {},
   "outputs": [],
   "source": [
    "df79 = df9.loc[65_001:70_000].copy()   # DE 65_001 - 70_000 \n",
    "df79['full_location'] = list(map(lambda regi: geolocator.reverse(regi).raw['address'], df79['lat_long']))  "
   ]
  },
  {
   "cell_type": "code",
   "execution_count": 960,
   "metadata": {},
   "outputs": [],
   "source": [
    "df80 = df9.loc[71_001:75_000].copy()   # DE 71_001 -  75_000\n",
    "df80['full_location'] = list(map(lambda regi: geolocator.reverse(regi).raw['address'], df80['lat_long']))"
   ]
  },
  {
   "cell_type": "code",
   "execution_count": 961,
   "metadata": {},
   "outputs": [],
   "source": [
    "df81 = df9.loc[75_001:80_000].copy()   # DE 75_001 - 80_000 \n",
    "df81['full_location'] = list(map(lambda regi: geolocator.reverse(regi).raw['address'], df81['lat_long']))"
   ]
  },
  {
   "cell_type": "code",
   "execution_count": 978,
   "metadata": {},
   "outputs": [],
   "source": [
    "df82 = df9.loc[80_001:83_080].copy()   # DE 80_001 - 83_080 \n",
    "df82['full_location'] = list(map(lambda regi: geolocator.reverse(regi).raw['address'], df82['lat_long']))"
   ]
  },
  {
   "cell_type": "markdown",
   "metadata": {},
   "source": [
    "**FAIL**"
   ]
  },
  {
   "cell_type": "code",
   "execution_count": 990,
   "metadata": {},
   "outputs": [
    {
     "data": {
      "text/html": [
       "<div>\n",
       "<style scoped>\n",
       "    .dataframe tbody tr th:only-of-type {\n",
       "        vertical-align: middle;\n",
       "    }\n",
       "\n",
       "    .dataframe tbody tr th {\n",
       "        vertical-align: top;\n",
       "    }\n",
       "\n",
       "    .dataframe thead th {\n",
       "        text-align: right;\n",
       "    }\n",
       "</style>\n",
       "<table border=\"1\" class=\"dataframe\">\n",
       "  <thead>\n",
       "    <tr style=\"text-align: right;\">\n",
       "      <th></th>\n",
       "      <th>full_location</th>\n",
       "      <th>lat_long</th>\n",
       "    </tr>\n",
       "  </thead>\n",
       "  <tbody>\n",
       "    <tr>\n",
       "      <th>83081</th>\n",
       "      <td></td>\n",
       "      <td>(40.411823, -3.710378)</td>\n",
       "    </tr>\n",
       "    <tr>\n",
       "      <th>83082</th>\n",
       "      <td></td>\n",
       "      <td>(40.4231, 3.7044)</td>\n",
       "    </tr>\n",
       "  </tbody>\n",
       "</table>\n",
       "</div>"
      ],
      "text/plain": [
       "      full_location                lat_long\n",
       "83081                (40.411823, -3.710378)\n",
       "83082                     (40.4231, 3.7044)"
      ]
     },
     "execution_count": 990,
     "metadata": {},
     "output_type": "execute_result"
    }
   ],
   "source": [
    "df83 = df9.loc[83_081:83_082].copy()  # FAIL 83_082\n",
    "df83[['full_location', 'lat_long']]"
   ]
  },
  {
   "cell_type": "markdown",
   "metadata": {},
   "source": [
    "**CONTINUE**"
   ]
  },
  {
   "cell_type": "code",
   "execution_count": 992,
   "metadata": {},
   "outputs": [],
   "source": [
    "df84 = df9.loc[83_083:83_096].copy()   # DE  83_083 - 83_096\n",
    "df84['full_location'] = list(map(lambda regi: geolocator.reverse(regi).raw['address'], df84['lat_long']))"
   ]
  },
  {
   "cell_type": "markdown",
   "metadata": {},
   "source": [
    "**FAIL**"
   ]
  },
  {
   "cell_type": "code",
   "execution_count": 991,
   "metadata": {
    "scrolled": true
   },
   "outputs": [
    {
     "data": {
      "text/html": [
       "<div>\n",
       "<style scoped>\n",
       "    .dataframe tbody tr th:only-of-type {\n",
       "        vertical-align: middle;\n",
       "    }\n",
       "\n",
       "    .dataframe tbody tr th {\n",
       "        vertical-align: top;\n",
       "    }\n",
       "\n",
       "    .dataframe thead th {\n",
       "        text-align: right;\n",
       "    }\n",
       "</style>\n",
       "<table border=\"1\" class=\"dataframe\">\n",
       "  <thead>\n",
       "    <tr style=\"text-align: right;\">\n",
       "      <th></th>\n",
       "      <th>full_location</th>\n",
       "      <th>lat_long</th>\n",
       "    </tr>\n",
       "  </thead>\n",
       "  <tbody>\n",
       "    <tr>\n",
       "      <th>83097</th>\n",
       "      <td></td>\n",
       "      <td>(40.45724, -3.68721)</td>\n",
       "    </tr>\n",
       "    <tr>\n",
       "      <th>83098</th>\n",
       "      <td></td>\n",
       "      <td>(40.4012, 3.7155)</td>\n",
       "    </tr>\n",
       "  </tbody>\n",
       "</table>\n",
       "</div>"
      ],
      "text/plain": [
       "      full_location              lat_long\n",
       "83097                (40.45724, -3.68721)\n",
       "83098                   (40.4012, 3.7155)"
      ]
     },
     "execution_count": 991,
     "metadata": {},
     "output_type": "execute_result"
    }
   ],
   "source": [
    "df85 = df9.loc[83_097:83_098].copy()  # FAIL 83_098\n",
    "df85[['full_location', 'lat_long']]"
   ]
  },
  {
   "cell_type": "markdown",
   "metadata": {},
   "source": [
    "**CONTINUE**"
   ]
  },
  {
   "cell_type": "code",
   "execution_count": 995,
   "metadata": {},
   "outputs": [],
   "source": [
    "df86 = df9.loc[83_099:83_500].copy()   # DE 83_099 - 83_500 \n",
    "df86['full_location'] = list(map(lambda regi: geolocator.reverse(regi).raw['address'], df86['lat_long']))"
   ]
  },
  {
   "cell_type": "code",
   "execution_count": 1006,
   "metadata": {},
   "outputs": [],
   "source": [
    "df87 = df9.loc[83_501:83_627].copy()   # DE 83_501 - 83_627  \n",
    "df87['full_location'] = list(map(lambda regi: geolocator.reverse(regi).raw['address'], df87['lat_long']))"
   ]
  },
  {
   "cell_type": "markdown",
   "metadata": {},
   "source": [
    "**FAIL**"
   ]
  },
  {
   "cell_type": "code",
   "execution_count": 1005,
   "metadata": {},
   "outputs": [
    {
     "data": {
      "text/html": [
       "<div>\n",
       "<style scoped>\n",
       "    .dataframe tbody tr th:only-of-type {\n",
       "        vertical-align: middle;\n",
       "    }\n",
       "\n",
       "    .dataframe tbody tr th {\n",
       "        vertical-align: top;\n",
       "    }\n",
       "\n",
       "    .dataframe thead th {\n",
       "        text-align: right;\n",
       "    }\n",
       "</style>\n",
       "<table border=\"1\" class=\"dataframe\">\n",
       "  <thead>\n",
       "    <tr style=\"text-align: right;\">\n",
       "      <th></th>\n",
       "      <th>full_location</th>\n",
       "      <th>lat_long</th>\n",
       "    </tr>\n",
       "  </thead>\n",
       "  <tbody>\n",
       "    <tr>\n",
       "      <th>83628</th>\n",
       "      <td></td>\n",
       "      <td>(40.4234, 3.6744)</td>\n",
       "    </tr>\n",
       "    <tr>\n",
       "      <th>83629</th>\n",
       "      <td></td>\n",
       "      <td>(40.42242, -3.681812)</td>\n",
       "    </tr>\n",
       "  </tbody>\n",
       "</table>\n",
       "</div>"
      ],
      "text/plain": [
       "      full_location               lat_long\n",
       "83628                    (40.4234, 3.6744)\n",
       "83629                (40.42242, -3.681812)"
      ]
     },
     "execution_count": 1005,
     "metadata": {},
     "output_type": "execute_result"
    }
   ],
   "source": [
    "df88 = df9.loc[83_628:83_629].copy()  # FAIL 83_628 - 83_629\n",
    "df88[['full_location', 'lat_long']]"
   ]
  },
  {
   "cell_type": "markdown",
   "metadata": {},
   "source": [
    "**CONTINUE**"
   ]
  },
  {
   "cell_type": "code",
   "execution_count": 1010,
   "metadata": {},
   "outputs": [],
   "source": [
    "df89 = df9.loc[83_630:83_700].copy()   # DE 83_630 - 83_700\n",
    "df89['full_location'] = list(map(lambda regi: geolocator.reverse(regi).raw['address'], df89['lat_long']))"
   ]
  },
  {
   "cell_type": "code",
   "execution_count": 1034,
   "metadata": {},
   "outputs": [],
   "source": [
    "df90 = df9.loc[83_701:84_000].copy()   # DE 83_630 - 84_000\n",
    "df90['full_location'] = list(map(lambda regi: geolocator.reverse(regi).raw['address'], df90['lat_long']))"
   ]
  },
  {
   "cell_type": "code",
   "execution_count": 1044,
   "metadata": {},
   "outputs": [],
   "source": [
    "df91 = df9.loc[84_001:84_155].copy()   # DE 83_001 - 84_155  \n",
    "df91['full_location'] = list(map(lambda regi: geolocator.reverse(regi).raw['address'], df91['lat_long']))"
   ]
  },
  {
   "cell_type": "markdown",
   "metadata": {},
   "source": [
    "**FAIL**"
   ]
  },
  {
   "cell_type": "code",
   "execution_count": 1043,
   "metadata": {},
   "outputs": [
    {
     "data": {
      "text/html": [
       "<div>\n",
       "<style scoped>\n",
       "    .dataframe tbody tr th:only-of-type {\n",
       "        vertical-align: middle;\n",
       "    }\n",
       "\n",
       "    .dataframe tbody tr th {\n",
       "        vertical-align: top;\n",
       "    }\n",
       "\n",
       "    .dataframe thead th {\n",
       "        text-align: right;\n",
       "    }\n",
       "</style>\n",
       "<table border=\"1\" class=\"dataframe\">\n",
       "  <thead>\n",
       "    <tr style=\"text-align: right;\">\n",
       "      <th></th>\n",
       "      <th>full_location</th>\n",
       "      <th>lat_long</th>\n",
       "    </tr>\n",
       "  </thead>\n",
       "  <tbody>\n",
       "    <tr>\n",
       "      <th>84156</th>\n",
       "      <td></td>\n",
       "      <td>(40.40968, -3.70233)</td>\n",
       "    </tr>\n",
       "    <tr>\n",
       "      <th>84157</th>\n",
       "      <td></td>\n",
       "      <td>(40.4234, 3.6744)</td>\n",
       "    </tr>\n",
       "  </tbody>\n",
       "</table>\n",
       "</div>"
      ],
      "text/plain": [
       "      full_location              lat_long\n",
       "84156                (40.40968, -3.70233)\n",
       "84157                   (40.4234, 3.6744)"
      ]
     },
     "execution_count": 1043,
     "metadata": {},
     "output_type": "execute_result"
    }
   ],
   "source": [
    "df92 = df9.loc[84_156:84_157].copy()  # FAIL 84_157\n",
    "df92[['full_location', 'lat_long']]"
   ]
  },
  {
   "cell_type": "markdown",
   "metadata": {},
   "source": [
    "**CONTINUE**"
   ]
  },
  {
   "cell_type": "code",
   "execution_count": 1051,
   "metadata": {},
   "outputs": [],
   "source": [
    "df94 = df9.loc[84_158:84_161].copy()   # DE 84_158 -84_161\n",
    "df94['full_location'] = list(map(lambda regi: geolocator.reverse(regi).raw['address'], df94['lat_long']))"
   ]
  },
  {
   "cell_type": "markdown",
   "metadata": {},
   "source": [
    "**FAIL**"
   ]
  },
  {
   "cell_type": "code",
   "execution_count": 1052,
   "metadata": {
    "scrolled": true
   },
   "outputs": [
    {
     "data": {
      "text/html": [
       "<div>\n",
       "<style scoped>\n",
       "    .dataframe tbody tr th:only-of-type {\n",
       "        vertical-align: middle;\n",
       "    }\n",
       "\n",
       "    .dataframe tbody tr th {\n",
       "        vertical-align: top;\n",
       "    }\n",
       "\n",
       "    .dataframe thead th {\n",
       "        text-align: right;\n",
       "    }\n",
       "</style>\n",
       "<table border=\"1\" class=\"dataframe\">\n",
       "  <thead>\n",
       "    <tr style=\"text-align: right;\">\n",
       "      <th></th>\n",
       "      <th>full_location</th>\n",
       "      <th>lat_long</th>\n",
       "    </tr>\n",
       "  </thead>\n",
       "  <tbody>\n",
       "    <tr>\n",
       "      <th>84162</th>\n",
       "      <td></td>\n",
       "      <td>(40.4258, 3.6767)</td>\n",
       "    </tr>\n",
       "    <tr>\n",
       "      <th>84163</th>\n",
       "      <td></td>\n",
       "      <td>(40.41591, -3.69965)</td>\n",
       "    </tr>\n",
       "  </tbody>\n",
       "</table>\n",
       "</div>"
      ],
      "text/plain": [
       "      full_location              lat_long\n",
       "84162                   (40.4258, 3.6767)\n",
       "84163                (40.41591, -3.69965)"
      ]
     },
     "execution_count": 1052,
     "metadata": {},
     "output_type": "execute_result"
    }
   ],
   "source": [
    "df95 = df9.loc[84_162:84_163].copy()  # FAIL 84_162 - 84_163\n",
    "df95[['full_location', 'lat_long']]\n"
   ]
  },
  {
   "cell_type": "markdown",
   "metadata": {},
   "source": [
    "**CONTINUE**"
   ]
  },
  {
   "cell_type": "code",
   "execution_count": 1053,
   "metadata": {},
   "outputs": [],
   "source": [
    "df96 = df9.loc[84_164:86_000].copy()   # DE 84_164 - 86_000  \n",
    "df96['full_location'] = list(map(lambda regi: geolocator.reverse(regi).raw['address'], df96['lat_long']))"
   ]
  },
  {
   "cell_type": "code",
   "execution_count": 1055,
   "metadata": {},
   "outputs": [],
   "source": [
    "df97 = df9.loc[86_001:90_000].copy()   # DE 86_001 - 90_000  \n",
    "df97['full_location'] = list(map(lambda regi: geolocator.reverse(regi).raw['address'], df97['lat_long']))"
   ]
  },
  {
   "cell_type": "code",
   "execution_count": 1060,
   "metadata": {},
   "outputs": [],
   "source": [
    "df98 = df9.loc[90_001:95_000].copy()   # DE 90_001 - 95_000\n",
    "df98['full_location'] = list(map(lambda regi: geolocator.reverse(regi).raw['address'], df98['lat_long']))"
   ]
  },
  {
   "cell_type": "code",
   "execution_count": 1061,
   "metadata": {},
   "outputs": [],
   "source": [
    "df99 = df9.loc[95_001:100_000].copy()   # DE 95_001 - 100_000  \n",
    "df99['full_location'] = list(map(lambda regi: geolocator.reverse(regi).raw['address'], df99['lat_long']))"
   ]
  },
  {
   "cell_type": "code",
   "execution_count": 1062,
   "metadata": {},
   "outputs": [],
   "source": [
    "df100 = df9.loc[100_001:105_000].copy()   # DE 100_001 - 105_000   \n",
    "df100['full_location'] = list(map(lambda regi: geolocator.reverse(regi).raw['address'], df100['lat_long']))"
   ]
  },
  {
   "cell_type": "code",
   "execution_count": 1065,
   "metadata": {
    "scrolled": true
   },
   "outputs": [],
   "source": [
    "df101 = df9.loc[105_001:107_000].copy()   # DE  105_001 - 107_000  \n",
    "df101['full_location'] = list(map(lambda regi: geolocator.reverse(regi).raw['address'], df101['lat_long']))"
   ]
  },
  {
   "cell_type": "code",
   "execution_count": 1079,
   "metadata": {},
   "outputs": [],
   "source": [
    "df102 = df9.loc[107_001:107_100].copy()   # DE  107_001 - 107_100\n",
    "df102['full_location'] = list(map(lambda regi: geolocator.reverse(regi).raw['address'], df102['lat_long']))"
   ]
  },
  {
   "cell_type": "code",
   "execution_count": 1102,
   "metadata": {},
   "outputs": [],
   "source": [
    "df103 = df9.loc[107_101:107_200].copy()   # DE  107_101 - 107_200  \n",
    "df103['full_location'] = list(map(lambda regi: geolocator.reverse(regi).raw['address'], df103['lat_long']))"
   ]
  },
  {
   "cell_type": "code",
   "execution_count": 1100,
   "metadata": {},
   "outputs": [],
   "source": [
    "df104 = df9.loc[107_201:107_303].copy()   # DE  107_201 - 107_303 \n",
    "df104['full_location'] = list(map(lambda regi: geolocator.reverse(regi).raw['address'], df104['lat_long']))"
   ]
  },
  {
   "cell_type": "markdown",
   "metadata": {},
   "source": [
    "**FAIL**"
   ]
  },
  {
   "cell_type": "code",
   "execution_count": 1129,
   "metadata": {
    "scrolled": true
   },
   "outputs": [
    {
     "data": {
      "text/html": [
       "<div>\n",
       "<style scoped>\n",
       "    .dataframe tbody tr th:only-of-type {\n",
       "        vertical-align: middle;\n",
       "    }\n",
       "\n",
       "    .dataframe tbody tr th {\n",
       "        vertical-align: top;\n",
       "    }\n",
       "\n",
       "    .dataframe thead th {\n",
       "        text-align: right;\n",
       "    }\n",
       "</style>\n",
       "<table border=\"1\" class=\"dataframe\">\n",
       "  <thead>\n",
       "    <tr style=\"text-align: right;\">\n",
       "      <th></th>\n",
       "      <th>full_location</th>\n",
       "      <th>lat_long</th>\n",
       "    </tr>\n",
       "  </thead>\n",
       "  <tbody>\n",
       "    <tr>\n",
       "      <th>107304</th>\n",
       "      <td></td>\n",
       "      <td>(38.567, 0.617)</td>\n",
       "    </tr>\n",
       "    <tr>\n",
       "      <th>107305</th>\n",
       "      <td></td>\n",
       "      <td>(40.07111, -2.134753)</td>\n",
       "    </tr>\n",
       "  </tbody>\n",
       "</table>\n",
       "</div>"
      ],
      "text/plain": [
       "       full_location               lat_long\n",
       "107304                      (38.567, 0.617)\n",
       "107305                (40.07111, -2.134753)"
      ]
     },
     "execution_count": 1129,
     "metadata": {},
     "output_type": "execute_result"
    }
   ],
   "source": [
    "df105 = df9.loc[107_304:107_305].copy()  # FAIL 107_304\n",
    "df105[['full_location', 'lat_long']]"
   ]
  },
  {
   "cell_type": "markdown",
   "metadata": {},
   "source": [
    "**CONTINUE**"
   ]
  },
  {
   "cell_type": "code",
   "execution_count": 1106,
   "metadata": {},
   "outputs": [],
   "source": [
    "df106 = df9.loc[107_305:108_000].copy()   # DE 107_305 - 108_000   \n",
    "df106['full_location'] = list(map(lambda regi: geolocator.reverse(regi).raw['address'], df106['lat_long']))"
   ]
  },
  {
   "cell_type": "code",
   "execution_count": 1112,
   "metadata": {},
   "outputs": [],
   "source": [
    "df107 = df9.loc[108_001:108_500].copy()   # DE 108_001 - 108_500\n",
    "df107['full_location'] = list(map(lambda regi: geolocator.reverse(regi).raw['address'], df107['lat_long']))"
   ]
  },
  {
   "cell_type": "code",
   "execution_count": 1127,
   "metadata": {},
   "outputs": [],
   "source": [
    "df108 = df9.loc[108_501:108_545].copy()   # DE 108_501 - 108_545\n",
    "df108['full_location'] = list(map(lambda regi: geolocator.reverse(regi).raw['address'], df108['lat_long']))"
   ]
  },
  {
   "cell_type": "markdown",
   "metadata": {},
   "source": [
    "**FAIL**"
   ]
  },
  {
   "cell_type": "code",
   "execution_count": 1130,
   "metadata": {},
   "outputs": [
    {
     "data": {
      "text/html": [
       "<div>\n",
       "<style scoped>\n",
       "    .dataframe tbody tr th:only-of-type {\n",
       "        vertical-align: middle;\n",
       "    }\n",
       "\n",
       "    .dataframe tbody tr th {\n",
       "        vertical-align: top;\n",
       "    }\n",
       "\n",
       "    .dataframe thead th {\n",
       "        text-align: right;\n",
       "    }\n",
       "</style>\n",
       "<table border=\"1\" class=\"dataframe\">\n",
       "  <thead>\n",
       "    <tr style=\"text-align: right;\">\n",
       "      <th></th>\n",
       "      <th>full_location</th>\n",
       "      <th>lat_long</th>\n",
       "    </tr>\n",
       "  </thead>\n",
       "  <tbody>\n",
       "    <tr>\n",
       "      <th>108546</th>\n",
       "      <td></td>\n",
       "      <td>(37.909, 2.9998)</td>\n",
       "    </tr>\n",
       "    <tr>\n",
       "      <th>108547</th>\n",
       "      <td></td>\n",
       "      <td>(37.91139, -3.002716)</td>\n",
       "    </tr>\n",
       "  </tbody>\n",
       "</table>\n",
       "</div>"
      ],
      "text/plain": [
       "       full_location               lat_long\n",
       "108546                     (37.909, 2.9998)\n",
       "108547                (37.91139, -3.002716)"
      ]
     },
     "execution_count": 1130,
     "metadata": {},
     "output_type": "execute_result"
    }
   ],
   "source": [
    "df109 = df9.loc[108_546:108_547].copy()  # FAIL 108_546\n",
    "df109[['full_location', 'lat_long']]"
   ]
  },
  {
   "cell_type": "markdown",
   "metadata": {},
   "source": [
    "**CONTINUE**"
   ]
  },
  {
   "cell_type": "code",
   "execution_count": 1131,
   "metadata": {},
   "outputs": [],
   "source": [
    "df110 = df9.loc[108_548:109_000].copy()   # DE 108_548 - 109_000 \n",
    "df110['full_location'] = list(map(lambda regi: geolocator.reverse(regi).raw['address'], df110['lat_long']))"
   ]
  },
  {
   "cell_type": "code",
   "execution_count": 1138,
   "metadata": {},
   "outputs": [],
   "source": [
    "df111 = df9.loc[109_001:112_000].copy()   # DE 109_001 - 112_000\n",
    "df111['full_location'] = list(map(lambda regi: geolocator.reverse(regi).raw['address'], df111['lat_long']))"
   ]
  },
  {
   "cell_type": "code",
   "execution_count": 1139,
   "metadata": {},
   "outputs": [],
   "source": [
    "df112 = df9.loc[112_001:113_000].copy()   # DE 112_001 - 113_000\n",
    "df112['full_location'] = list(map(lambda regi: geolocator.reverse(regi).raw['address'], df112['lat_long']))"
   ]
  },
  {
   "cell_type": "code",
   "execution_count": 1140,
   "metadata": {},
   "outputs": [],
   "source": [
    "df113 = df9.loc[113_001:113_500].copy()   # DE 113_001 - 113_500\n",
    "df113['full_location'] = list(map(lambda regi: geolocator.reverse(regi).raw['address'], df113['lat_long']))"
   ]
  },
  {
   "cell_type": "code",
   "execution_count": 1141,
   "metadata": {},
   "outputs": [],
   "source": [
    "df114 = df9.loc[113_501:113_999].copy()   # DE 113_001 - 113_999\n",
    "df114['full_location'] = list(map(lambda regi: geolocator.reverse(regi).raw['address'], df114['lat_long']))"
   ]
  },
  {
   "cell_type": "code",
   "execution_count": 1148,
   "metadata": {},
   "outputs": [],
   "source": [
    "df115 = df9.loc[114_000:114_500].copy()   # DE 114_000 - 114_500\n",
    "df115['full_location'] = list(map(lambda regi: geolocator.reverse(regi).raw['address'], df115['lat_long']))"
   ]
  },
  {
   "cell_type": "code",
   "execution_count": 1161,
   "metadata": {},
   "outputs": [],
   "source": [
    "df116 = df9.loc[114_501:114_886].copy()   # DE 114_501 - 114_886\n",
    "df116['full_location'] = list(map(lambda regi: geolocator.reverse(regi).raw['address'], df116['lat_long']))"
   ]
  },
  {
   "cell_type": "markdown",
   "metadata": {},
   "source": [
    "**FAIL**"
   ]
  },
  {
   "cell_type": "code",
   "execution_count": 1162,
   "metadata": {},
   "outputs": [
    {
     "data": {
      "text/html": [
       "<div>\n",
       "<style scoped>\n",
       "    .dataframe tbody tr th:only-of-type {\n",
       "        vertical-align: middle;\n",
       "    }\n",
       "\n",
       "    .dataframe tbody tr th {\n",
       "        vertical-align: top;\n",
       "    }\n",
       "\n",
       "    .dataframe thead th {\n",
       "        text-align: right;\n",
       "    }\n",
       "</style>\n",
       "<table border=\"1\" class=\"dataframe\">\n",
       "  <thead>\n",
       "    <tr style=\"text-align: right;\">\n",
       "      <th></th>\n",
       "      <th>full_location</th>\n",
       "      <th>lat_long</th>\n",
       "    </tr>\n",
       "  </thead>\n",
       "  <tbody>\n",
       "    <tr>\n",
       "      <th>114887</th>\n",
       "      <td></td>\n",
       "      <td>(37.6, 4.7333)</td>\n",
       "    </tr>\n",
       "    <tr>\n",
       "      <th>114888</th>\n",
       "      <td></td>\n",
       "      <td>(41.698154, 2.846944)</td>\n",
       "    </tr>\n",
       "  </tbody>\n",
       "</table>\n",
       "</div>"
      ],
      "text/plain": [
       "       full_location               lat_long\n",
       "114887                       (37.6, 4.7333)\n",
       "114888                (41.698154, 2.846944)"
      ]
     },
     "execution_count": 1162,
     "metadata": {},
     "output_type": "execute_result"
    }
   ],
   "source": [
    "df117 = df9.loc[114_887:114_888].copy()  # FAIL 114_887\n",
    "df117[['full_location', 'lat_long']]"
   ]
  },
  {
   "cell_type": "markdown",
   "metadata": {},
   "source": [
    "**CONTINUE**"
   ]
  },
  {
   "cell_type": "code",
   "execution_count": 1166,
   "metadata": {},
   "outputs": [],
   "source": [
    "df118 = df9.loc[114_889:116_000].copy()   # DE 114_889 - 116_000\n",
    "df118['full_location'] = list(map(lambda regi: geolocator.reverse(regi).raw['address'], df118['lat_long']))"
   ]
  },
  {
   "cell_type": "code",
   "execution_count": 1169,
   "metadata": {},
   "outputs": [],
   "source": [
    "df119 = df9.loc[116_001:117_000].copy()   # DE 116_001 - 117_000\n",
    "df119['full_location'] = list(map(lambda regi: geolocator.reverse(regi).raw['address'], df119['lat_long']))"
   ]
  },
  {
   "cell_type": "code",
   "execution_count": 1184,
   "metadata": {},
   "outputs": [],
   "source": [
    "df120 = df9.loc[117_001:117_320].copy()   # DE 117_001 - 117_320\n",
    "df120['full_location'] = list(map(lambda regi: geolocator.reverse(regi).raw['address'], df120['lat_long']))"
   ]
  },
  {
   "cell_type": "markdown",
   "metadata": {},
   "source": [
    "**FAIL**"
   ]
  },
  {
   "cell_type": "code",
   "execution_count": 1185,
   "metadata": {},
   "outputs": [
    {
     "data": {
      "text/html": [
       "<div>\n",
       "<style scoped>\n",
       "    .dataframe tbody tr th:only-of-type {\n",
       "        vertical-align: middle;\n",
       "    }\n",
       "\n",
       "    .dataframe tbody tr th {\n",
       "        vertical-align: top;\n",
       "    }\n",
       "\n",
       "    .dataframe thead th {\n",
       "        text-align: right;\n",
       "    }\n",
       "</style>\n",
       "<table border=\"1\" class=\"dataframe\">\n",
       "  <thead>\n",
       "    <tr style=\"text-align: right;\">\n",
       "      <th></th>\n",
       "      <th>full_location</th>\n",
       "      <th>lat_long</th>\n",
       "    </tr>\n",
       "  </thead>\n",
       "  <tbody>\n",
       "    <tr>\n",
       "      <th>117321</th>\n",
       "      <td></td>\n",
       "      <td>(40.3449, 3.7506)</td>\n",
       "    </tr>\n",
       "    <tr>\n",
       "      <th>117322</th>\n",
       "      <td></td>\n",
       "      <td>(40.32009, -3.78552)</td>\n",
       "    </tr>\n",
       "  </tbody>\n",
       "</table>\n",
       "</div>"
      ],
      "text/plain": [
       "       full_location              lat_long\n",
       "117321                   (40.3449, 3.7506)\n",
       "117322                (40.32009, -3.78552)"
      ]
     },
     "execution_count": 1185,
     "metadata": {},
     "output_type": "execute_result"
    }
   ],
   "source": [
    "df121 = df9.loc[117_321:117_322].copy()  # FAIL 117_321\n",
    "df121[['full_location', 'lat_long']]"
   ]
  },
  {
   "cell_type": "markdown",
   "metadata": {},
   "source": [
    "**CONTINUE**"
   ]
  },
  {
   "cell_type": "code",
   "execution_count": 1209,
   "metadata": {},
   "outputs": [],
   "source": [
    "df122 = df9.loc[117_323:117_500].copy()   # DE 117_323 - 117_500\n",
    "df122['full_location'] = list(map(lambda regi: geolocator.reverse(regi).raw['address'], df122['lat_long']))"
   ]
  },
  {
   "cell_type": "code",
   "execution_count": 1210,
   "metadata": {},
   "outputs": [],
   "source": [
    "df123 = df9.loc[117_501:117_647].copy()   # DE 117_501 - 117_647 \n",
    "df123['full_location'] = list(map(lambda regi: geolocator.reverse(regi).raw['address'], df123['lat_long']))"
   ]
  },
  {
   "cell_type": "markdown",
   "metadata": {},
   "source": [
    "**FAIL**"
   ]
  },
  {
   "cell_type": "code",
   "execution_count": 1212,
   "metadata": {},
   "outputs": [
    {
     "data": {
      "text/html": [
       "<div>\n",
       "<style scoped>\n",
       "    .dataframe tbody tr th:only-of-type {\n",
       "        vertical-align: middle;\n",
       "    }\n",
       "\n",
       "    .dataframe tbody tr th {\n",
       "        vertical-align: top;\n",
       "    }\n",
       "\n",
       "    .dataframe thead th {\n",
       "        text-align: right;\n",
       "    }\n",
       "</style>\n",
       "<table border=\"1\" class=\"dataframe\">\n",
       "  <thead>\n",
       "    <tr style=\"text-align: right;\">\n",
       "      <th></th>\n",
       "      <th>full_location</th>\n",
       "      <th>lat_long</th>\n",
       "    </tr>\n",
       "  </thead>\n",
       "  <tbody>\n",
       "    <tr>\n",
       "      <th>117648</th>\n",
       "      <td></td>\n",
       "      <td>(40.2385, 3.6988)</td>\n",
       "    </tr>\n",
       "    <tr>\n",
       "      <th>117649</th>\n",
       "      <td></td>\n",
       "      <td>(40.24538, -3.69348)</td>\n",
       "    </tr>\n",
       "  </tbody>\n",
       "</table>\n",
       "</div>"
      ],
      "text/plain": [
       "       full_location              lat_long\n",
       "117648                   (40.2385, 3.6988)\n",
       "117649                (40.24538, -3.69348)"
      ]
     },
     "execution_count": 1212,
     "metadata": {},
     "output_type": "execute_result"
    }
   ],
   "source": [
    "df124 = df9.loc[117_648:117_649].copy()  # FAIL 117_648\n",
    "df124[['full_location', 'lat_long']]"
   ]
  },
  {
   "cell_type": "markdown",
   "metadata": {},
   "source": [
    "**CONTINUE**"
   ]
  },
  {
   "cell_type": "code",
   "execution_count": 1213,
   "metadata": {},
   "outputs": [],
   "source": [
    "df125 = df9.loc[117_650:119_000].copy()   # DE  117_650 - 119_000\n",
    "df125['full_location'] = list(map(lambda regi: geolocator.reverse(regi).raw['address'], df125['lat_long']))"
   ]
  },
  {
   "cell_type": "code",
   "execution_count": 1216,
   "metadata": {},
   "outputs": [],
   "source": [
    "df126 = df9.loc[119_001:122_000].copy()   # DE  119_001 - 122_000\n",
    "df126['full_location'] = list(map(lambda regi: geolocator.reverse(regi).raw['address'], df126['lat_long']))"
   ]
  },
  {
   "cell_type": "code",
   "execution_count": 1219,
   "metadata": {},
   "outputs": [],
   "source": [
    "df127 = df9.loc[122_001:122_700].copy()   # DE 122_001 - 122_700\n",
    "df127['full_location'] = list(map(lambda regi: geolocator.reverse(regi).raw['address'], df127['lat_long']))"
   ]
  },
  {
   "cell_type": "code",
   "execution_count": 1231,
   "metadata": {},
   "outputs": [],
   "source": [
    "df128 = df9.loc[122_701:122_899].copy()   # DE 122_701 - 122_899\n",
    "df128['full_location'] = list(map(lambda regi: geolocator.reverse(regi).raw['address'], df128['lat_long']))"
   ]
  },
  {
   "cell_type": "markdown",
   "metadata": {},
   "source": [
    "**FAIL**"
   ]
  },
  {
   "cell_type": "code",
   "execution_count": 1233,
   "metadata": {},
   "outputs": [
    {
     "data": {
      "text/html": [
       "<div>\n",
       "<style scoped>\n",
       "    .dataframe tbody tr th:only-of-type {\n",
       "        vertical-align: middle;\n",
       "    }\n",
       "\n",
       "    .dataframe tbody tr th {\n",
       "        vertical-align: top;\n",
       "    }\n",
       "\n",
       "    .dataframe thead th {\n",
       "        text-align: right;\n",
       "    }\n",
       "</style>\n",
       "<table border=\"1\" class=\"dataframe\">\n",
       "  <thead>\n",
       "    <tr style=\"text-align: right;\">\n",
       "      <th></th>\n",
       "      <th>full_location</th>\n",
       "      <th>lat_long</th>\n",
       "    </tr>\n",
       "  </thead>\n",
       "  <tbody>\n",
       "    <tr>\n",
       "      <th>122900</th>\n",
       "      <td></td>\n",
       "      <td>(40.176853, 3.283857)</td>\n",
       "    </tr>\n",
       "    <tr>\n",
       "      <th>122901</th>\n",
       "      <td></td>\n",
       "      <td>(39.62102, 3.360317)</td>\n",
       "    </tr>\n",
       "  </tbody>\n",
       "</table>\n",
       "</div>"
      ],
      "text/plain": [
       "       full_location               lat_long\n",
       "122900                (40.176853, 3.283857)\n",
       "122901                 (39.62102, 3.360317)"
      ]
     },
     "execution_count": 1233,
     "metadata": {},
     "output_type": "execute_result"
    }
   ],
   "source": [
    "df129 = df9.loc[122_900:122_901].copy()  # FAIL 122_900\n",
    "df129[['full_location', 'lat_long']]"
   ]
  },
  {
   "cell_type": "markdown",
   "metadata": {},
   "source": [
    "**CONTINUE**"
   ]
  },
  {
   "cell_type": "code",
   "execution_count": 1237,
   "metadata": {},
   "outputs": [],
   "source": [
    "df130 = df9.loc[122_902:123_000].copy()   # DE 122_902 - 123_000\n",
    "df130['full_location'] = list(map(lambda regi: geolocator.reverse(regi).raw['address'], df130['lat_long']))"
   ]
  },
  {
   "cell_type": "code",
   "execution_count": 1245,
   "metadata": {},
   "outputs": [],
   "source": [
    "df130_1 = df9.loc[123_001:123_100].copy()   # DE 122_902 - 123_000\n",
    "df130_1['full_location'] = list(map(lambda regi: geolocator.reverse(regi).raw['address'], df130_1['lat_long']))"
   ]
  },
  {
   "cell_type": "markdown",
   "metadata": {},
   "source": [
    "**FAIL**"
   ]
  },
  {
   "cell_type": "code",
   "execution_count": 1243,
   "metadata": {},
   "outputs": [
    {
     "data": {
      "text/html": [
       "<div>\n",
       "<style scoped>\n",
       "    .dataframe tbody tr th:only-of-type {\n",
       "        vertical-align: middle;\n",
       "    }\n",
       "\n",
       "    .dataframe tbody tr th {\n",
       "        vertical-align: top;\n",
       "    }\n",
       "\n",
       "    .dataframe thead th {\n",
       "        text-align: right;\n",
       "    }\n",
       "</style>\n",
       "<table border=\"1\" class=\"dataframe\">\n",
       "  <thead>\n",
       "    <tr style=\"text-align: right;\">\n",
       "      <th></th>\n",
       "      <th>full_location</th>\n",
       "      <th>lat_long</th>\n",
       "    </tr>\n",
       "  </thead>\n",
       "  <tbody>\n",
       "    <tr>\n",
       "      <th>123101</th>\n",
       "      <td></td>\n",
       "      <td>(37.3862, 5.9907)</td>\n",
       "    </tr>\n",
       "    <tr>\n",
       "      <th>123102</th>\n",
       "      <td></td>\n",
       "      <td>(28.739468, -13.867425)</td>\n",
       "    </tr>\n",
       "  </tbody>\n",
       "</table>\n",
       "</div>"
      ],
      "text/plain": [
       "       full_location                 lat_long\n",
       "123101                      (37.3862, 5.9907)\n",
       "123102                (28.739468, -13.867425)"
      ]
     },
     "execution_count": 1243,
     "metadata": {},
     "output_type": "execute_result"
    }
   ],
   "source": [
    "df131 = df9.loc[123_101:123_102].copy()  # FAIL 122_900\n",
    "df131[['full_location', 'lat_long']]"
   ]
  },
  {
   "cell_type": "markdown",
   "metadata": {},
   "source": [
    "**CONTINUE**"
   ]
  },
  {
   "cell_type": "code",
   "execution_count": 1244,
   "metadata": {},
   "outputs": [],
   "source": [
    "df132 = df9.loc[123_103:125_000].copy()   # DE 123_103 - 125_000\n",
    "df132['full_location'] = list(map(lambda regi: geolocator.reverse(regi).raw['address'], df132['lat_long']))"
   ]
  },
  {
   "cell_type": "code",
   "execution_count": 1251,
   "metadata": {},
   "outputs": [],
   "source": [
    "df133 = df9.loc[125_001:130_000].copy()   # DE 123_001 - 130_000\n",
    "df133['full_location'] = list(map(lambda regi: geolocator.reverse(regi).raw['address'], df133['lat_long']))"
   ]
  },
  {
   "cell_type": "code",
   "execution_count": 1254,
   "metadata": {},
   "outputs": [],
   "source": [
    "df134 = df9.loc[130_001:135_000].copy()   # DE 130_001 - 135_000\n",
    "df134['full_location'] = list(map(lambda regi: geolocator.reverse(regi).raw['address'], df134['lat_long']))"
   ]
  },
  {
   "cell_type": "code",
   "execution_count": 1264,
   "metadata": {},
   "outputs": [],
   "source": [
    "df135 = df9.loc[135_001:137_000].copy()   # DE 135_001 - 137_000\n",
    "df135['full_location'] = list(map(lambda regi: geolocator.reverse(regi).raw['address'], df135['lat_long']))"
   ]
  },
  {
   "cell_type": "code",
   "execution_count": 1266,
   "metadata": {},
   "outputs": [],
   "source": [
    "df136 = df9.loc[137_001:137_500].copy()   # DE 137_001 - 137_500\n",
    "df136['full_location'] = list(map(lambda regi: geolocator.reverse(regi).raw['address'], df136['lat_long']))"
   ]
  },
  {
   "cell_type": "code",
   "execution_count": 1276,
   "metadata": {},
   "outputs": [],
   "source": [
    "df137 = df9.loc[137_501:137_743].copy()   # DE 137_501 - 137_743\n",
    "df137['full_location'] = list(map(lambda regi: geolocator.reverse(regi).raw['address'], df137['lat_long']))"
   ]
  },
  {
   "cell_type": "markdown",
   "metadata": {},
   "source": [
    "**FAIL**"
   ]
  },
  {
   "cell_type": "code",
   "execution_count": 1277,
   "metadata": {},
   "outputs": [
    {
     "data": {
      "text/html": [
       "<div>\n",
       "<style scoped>\n",
       "    .dataframe tbody tr th:only-of-type {\n",
       "        vertical-align: middle;\n",
       "    }\n",
       "\n",
       "    .dataframe tbody tr th {\n",
       "        vertical-align: top;\n",
       "    }\n",
       "\n",
       "    .dataframe thead th {\n",
       "        text-align: right;\n",
       "    }\n",
       "</style>\n",
       "<table border=\"1\" class=\"dataframe\">\n",
       "  <thead>\n",
       "    <tr style=\"text-align: right;\">\n",
       "      <th></th>\n",
       "      <th>full_location</th>\n",
       "      <th>lat_long</th>\n",
       "    </tr>\n",
       "  </thead>\n",
       "  <tbody>\n",
       "    <tr>\n",
       "      <th>137784</th>\n",
       "      <td></td>\n",
       "      <td>(39.8958, 5.5428)</td>\n",
       "    </tr>\n",
       "    <tr>\n",
       "      <th>137785</th>\n",
       "      <td></td>\n",
       "      <td>(39.889965, -5.536724)</td>\n",
       "    </tr>\n",
       "  </tbody>\n",
       "</table>\n",
       "</div>"
      ],
      "text/plain": [
       "       full_location                lat_long\n",
       "137784                     (39.8958, 5.5428)\n",
       "137785                (39.889965, -5.536724)"
      ]
     },
     "execution_count": 1277,
     "metadata": {},
     "output_type": "execute_result"
    }
   ],
   "source": [
    "df138 = df9.loc[137_784:137_785].copy()  # FAIL 122_900\n",
    "df138[['full_location', 'lat_long']]"
   ]
  },
  {
   "cell_type": "markdown",
   "metadata": {},
   "source": [
    "**CONTINUE**"
   ]
  },
  {
   "cell_type": "code",
   "execution_count": 1279,
   "metadata": {},
   "outputs": [],
   "source": [
    "df139 = df9.loc[137_786:140_000].copy()   # DE 137_786 - 140_000\n",
    "df139['full_location'] = list(map(lambda regi: geolocator.reverse(regi).raw['address'], df139['lat_long']))"
   ]
  },
  {
   "cell_type": "code",
   "execution_count": 1280,
   "metadata": {},
   "outputs": [],
   "source": [
    "df140 = df9.loc[141_001:145_000].copy()   # DE 141_001 - 145_000\n",
    "df140['full_location'] = list(map(lambda regi: geolocator.reverse(regi).raw['address'], df140['lat_long']))"
   ]
  },
  {
   "cell_type": "code",
   "execution_count": 1296,
   "metadata": {},
   "outputs": [],
   "source": [
    "df141 = df9.loc[145_001:145_224].copy()   # DE 145_001 - 145_224\n",
    "df141['full_location'] = list(map(lambda regi: geolocator.reverse(regi).raw['address'], df141['lat_long']))"
   ]
  },
  {
   "cell_type": "markdown",
   "metadata": {},
   "source": [
    "**FAIL**"
   ]
  },
  {
   "cell_type": "code",
   "execution_count": 1297,
   "metadata": {},
   "outputs": [
    {
     "data": {
      "text/html": [
       "<div>\n",
       "<style scoped>\n",
       "    .dataframe tbody tr th:only-of-type {\n",
       "        vertical-align: middle;\n",
       "    }\n",
       "\n",
       "    .dataframe tbody tr th {\n",
       "        vertical-align: top;\n",
       "    }\n",
       "\n",
       "    .dataframe thead th {\n",
       "        text-align: right;\n",
       "    }\n",
       "</style>\n",
       "<table border=\"1\" class=\"dataframe\">\n",
       "  <thead>\n",
       "    <tr style=\"text-align: right;\">\n",
       "      <th></th>\n",
       "      <th>full_location</th>\n",
       "      <th>lat_long</th>\n",
       "    </tr>\n",
       "  </thead>\n",
       "  <tbody>\n",
       "    <tr>\n",
       "      <th>145225</th>\n",
       "      <td></td>\n",
       "      <td>(40.671177, 1.608392)</td>\n",
       "    </tr>\n",
       "    <tr>\n",
       "      <th>145226</th>\n",
       "      <td></td>\n",
       "      <td>(41.60789, 2.28665)</td>\n",
       "    </tr>\n",
       "  </tbody>\n",
       "</table>\n",
       "</div>"
      ],
      "text/plain": [
       "       full_location               lat_long\n",
       "145225                (40.671177, 1.608392)\n",
       "145226                  (41.60789, 2.28665)"
      ]
     },
     "execution_count": 1297,
     "metadata": {},
     "output_type": "execute_result"
    }
   ],
   "source": [
    "df142 = df9.loc[145_225:145_226].copy()  # FAIL 145_225 \n",
    "df142[['full_location', 'lat_long']]"
   ]
  },
  {
   "cell_type": "markdown",
   "metadata": {},
   "source": [
    "**CONTINUE**"
   ]
  },
  {
   "cell_type": "code",
   "execution_count": 1299,
   "metadata": {},
   "outputs": [],
   "source": [
    "df143 = df9.loc[145_226:148_000].copy()   # DE 145_000 - 148_000\n",
    "df143['full_location'] = list(map(lambda regi: geolocator.reverse(regi).raw['address'], df143['lat_long']))"
   ]
  },
  {
   "cell_type": "code",
   "execution_count": 1301,
   "metadata": {},
   "outputs": [],
   "source": [
    "df144 = df9.loc[148_001:148_500].copy()   # DE 148_001 - 148_500\n",
    "df144['full_location'] = list(map(lambda regi: geolocator.reverse(regi).raw['address'], df144['lat_long']))"
   ]
  },
  {
   "cell_type": "code",
   "execution_count": 1313,
   "metadata": {},
   "outputs": [],
   "source": [
    "df145 = df9.loc[148_501:148_708].copy()   # DE 149_501 - 148_708\n",
    "df145['full_location'] = list(map(lambda regi: geolocator.reverse(regi).raw['address'], df145['lat_long']))"
   ]
  },
  {
   "cell_type": "markdown",
   "metadata": {},
   "source": [
    "**FAIL**"
   ]
  },
  {
   "cell_type": "code",
   "execution_count": 1326,
   "metadata": {},
   "outputs": [
    {
     "data": {
      "text/html": [
       "<div>\n",
       "<style scoped>\n",
       "    .dataframe tbody tr th:only-of-type {\n",
       "        vertical-align: middle;\n",
       "    }\n",
       "\n",
       "    .dataframe tbody tr th {\n",
       "        vertical-align: top;\n",
       "    }\n",
       "\n",
       "    .dataframe thead th {\n",
       "        text-align: right;\n",
       "    }\n",
       "</style>\n",
       "<table border=\"1\" class=\"dataframe\">\n",
       "  <thead>\n",
       "    <tr style=\"text-align: right;\">\n",
       "      <th></th>\n",
       "      <th>full_location</th>\n",
       "      <th>lat_long</th>\n",
       "    </tr>\n",
       "  </thead>\n",
       "  <tbody>\n",
       "    <tr>\n",
       "      <th>148708</th>\n",
       "      <td></td>\n",
       "      <td>(28.164064, -17.334293)</td>\n",
       "    </tr>\n",
       "    <tr>\n",
       "      <th>148709</th>\n",
       "      <td></td>\n",
       "      <td>(31.440643, -12.526634)</td>\n",
       "    </tr>\n",
       "  </tbody>\n",
       "</table>\n",
       "</div>"
      ],
      "text/plain": [
       "       full_location                 lat_long\n",
       "148708                (28.164064, -17.334293)\n",
       "148709                (31.440643, -12.526634)"
      ]
     },
     "execution_count": 1326,
     "metadata": {},
     "output_type": "execute_result"
    }
   ],
   "source": [
    "df146 = df9.loc[148_708:148_709].copy()  # FAIL 148_709 \n",
    "df146[['full_location', 'lat_long']]"
   ]
  },
  {
   "cell_type": "markdown",
   "metadata": {},
   "source": [
    "**CONTINUE**"
   ]
  },
  {
   "cell_type": "code",
   "execution_count": 1322,
   "metadata": {},
   "outputs": [],
   "source": [
    "df147 = df9.loc[148_710:148_817].copy()   # DE 149_000 - 14\n",
    "df147['full_location'] = list(map(lambda regi: geolocator.reverse(regi).raw['address'], df147['lat_long']))"
   ]
  },
  {
   "cell_type": "markdown",
   "metadata": {},
   "source": [
    "**FAIL**"
   ]
  },
  {
   "cell_type": "code",
   "execution_count": 1321,
   "metadata": {
    "scrolled": true
   },
   "outputs": [
    {
     "data": {
      "text/html": [
       "<div>\n",
       "<style scoped>\n",
       "    .dataframe tbody tr th:only-of-type {\n",
       "        vertical-align: middle;\n",
       "    }\n",
       "\n",
       "    .dataframe tbody tr th {\n",
       "        vertical-align: top;\n",
       "    }\n",
       "\n",
       "    .dataframe thead th {\n",
       "        text-align: right;\n",
       "    }\n",
       "</style>\n",
       "<table border=\"1\" class=\"dataframe\">\n",
       "  <thead>\n",
       "    <tr style=\"text-align: right;\">\n",
       "      <th></th>\n",
       "      <th>full_location</th>\n",
       "      <th>lat_long</th>\n",
       "    </tr>\n",
       "  </thead>\n",
       "  <tbody>\n",
       "    <tr>\n",
       "      <th>148818</th>\n",
       "      <td></td>\n",
       "      <td>(36.498676, -4.972636)</td>\n",
       "    </tr>\n",
       "    <tr>\n",
       "      <th>148819</th>\n",
       "      <td></td>\n",
       "      <td>(36.510853, -4.963781)</td>\n",
       "    </tr>\n",
       "  </tbody>\n",
       "</table>\n",
       "</div>"
      ],
      "text/plain": [
       "       full_location                lat_long\n",
       "148818                (36.498676, -4.972636)\n",
       "148819                (36.510853, -4.963781)"
      ]
     },
     "execution_count": 1321,
     "metadata": {},
     "output_type": "execute_result"
    }
   ],
   "source": [
    "df148 = df9.loc[148_818:148_819].copy()  # FAIL \n",
    "df148[['full_location', 'lat_long']]"
   ]
  },
  {
   "cell_type": "markdown",
   "metadata": {},
   "source": [
    "**CONTINUE**"
   ]
  },
  {
   "cell_type": "code",
   "execution_count": 1323,
   "metadata": {},
   "outputs": [],
   "source": [
    "df149 = df9.loc[148_819:149_000].copy()   # DE 148_819 - 149_000 \n",
    "df149['full_location'] = list(map(lambda regi: geolocator.reverse(regi).raw['address'], df149['lat_long']))"
   ]
  },
  {
   "cell_type": "code",
   "execution_count": 1335,
   "metadata": {},
   "outputs": [],
   "source": [
    "df150 = df9.loc[149_001:151_000].copy()   # DE 149_001 - 151_000\n",
    "df150['full_location'] = list(map(lambda regi: geolocator.reverse(regi).raw['address'], df150['lat_long']))"
   ]
  },
  {
   "cell_type": "code",
   "execution_count": 1345,
   "metadata": {},
   "outputs": [],
   "source": [
    "df151 = df9.loc[151_001:151_019].copy()   # DE 151_001 - 151_019\n",
    "df151['full_location'] = list(map(lambda regi: geolocator.reverse(regi).raw['address'], df151['lat_long']))"
   ]
  },
  {
   "cell_type": "markdown",
   "metadata": {},
   "source": [
    "**FAIL**"
   ]
  },
  {
   "cell_type": "code",
   "execution_count": 1346,
   "metadata": {},
   "outputs": [
    {
     "data": {
      "text/html": [
       "<div>\n",
       "<style scoped>\n",
       "    .dataframe tbody tr th:only-of-type {\n",
       "        vertical-align: middle;\n",
       "    }\n",
       "\n",
       "    .dataframe tbody tr th {\n",
       "        vertical-align: top;\n",
       "    }\n",
       "\n",
       "    .dataframe thead th {\n",
       "        text-align: right;\n",
       "    }\n",
       "</style>\n",
       "<table border=\"1\" class=\"dataframe\">\n",
       "  <thead>\n",
       "    <tr style=\"text-align: right;\">\n",
       "      <th></th>\n",
       "      <th>full_location</th>\n",
       "      <th>lat_long</th>\n",
       "    </tr>\n",
       "  </thead>\n",
       "  <tbody>\n",
       "    <tr>\n",
       "      <th>151019</th>\n",
       "      <td></td>\n",
       "      <td>(43.489487, -3.527225)</td>\n",
       "    </tr>\n",
       "    <tr>\n",
       "      <th>151020</th>\n",
       "      <td></td>\n",
       "      <td>(43.81686, -3.40497)</td>\n",
       "    </tr>\n",
       "  </tbody>\n",
       "</table>\n",
       "</div>"
      ],
      "text/plain": [
       "       full_location                lat_long\n",
       "151019                (43.489487, -3.527225)\n",
       "151020                  (43.81686, -3.40497)"
      ]
     },
     "execution_count": 1346,
     "metadata": {},
     "output_type": "execute_result"
    }
   ],
   "source": [
    "df152 = df9.loc[151_019:151_020].copy()  # FAIL \n",
    "df152[['full_location', 'lat_long']]"
   ]
  },
  {
   "cell_type": "markdown",
   "metadata": {},
   "source": [
    "**CONTINUE**"
   ]
  },
  {
   "cell_type": "code",
   "execution_count": 1347,
   "metadata": {},
   "outputs": [],
   "source": [
    "df153 = df9.loc[151_021:153_000].copy()   # DE 151_021 - 153_000\n",
    "df153['full_location'] = list(map(lambda regi: geolocator.reverse(regi).raw['address'], df153['lat_long']))"
   ]
  },
  {
   "cell_type": "code",
   "execution_count": null,
   "metadata": {},
   "outputs": [],
   "source": []
  },
  {
   "cell_type": "code",
   "execution_count": 1348,
   "metadata": {},
   "outputs": [],
   "source": [
    "df154 = df9.loc[153_000:].copy()   # DE \n",
    "df154['full_location'] = list(map(lambda regi: geolocator.reverse(regi).raw['address'], df154['lat_long']))"
   ]
  },
  {
   "cell_type": "code",
   "execution_count": 1215,
   "metadata": {
    "scrolled": false
   },
   "outputs": [
    {
     "data": {
      "text/plain": [
       "(155114, 28)"
      ]
     },
     "execution_count": 1215,
     "metadata": {},
     "output_type": "execute_result"
    }
   ],
   "source": [
    "df9.shape"
   ]
  },
  {
   "cell_type": "code",
   "execution_count": 1312,
   "metadata": {
    "scrolled": false
   },
   "outputs": [
    {
     "data": {
      "text/html": [
       "<div>\n",
       "<style scoped>\n",
       "    .dataframe tbody tr th:only-of-type {\n",
       "        vertical-align: middle;\n",
       "    }\n",
       "\n",
       "    .dataframe tbody tr th {\n",
       "        vertical-align: top;\n",
       "    }\n",
       "\n",
       "    .dataframe thead th {\n",
       "        text-align: right;\n",
       "    }\n",
       "</style>\n",
       "<table border=\"1\" class=\"dataframe\">\n",
       "  <thead>\n",
       "    <tr style=\"text-align: right;\">\n",
       "      <th></th>\n",
       "      <th>148708</th>\n",
       "      <th>148709</th>\n",
       "    </tr>\n",
       "  </thead>\n",
       "  <tbody>\n",
       "    <tr>\n",
       "      <th>lat_long</th>\n",
       "      <td>(28.164064, -17.334293)</td>\n",
       "      <td>(31.440643, -12.526634)</td>\n",
       "    </tr>\n",
       "  </tbody>\n",
       "</table>\n",
       "</div>"
      ],
      "text/plain": [
       "                           148708                   148709\n",
       "lat_long  (28.164064, -17.334293)  (31.440643, -12.526634)"
      ]
     },
     "execution_count": 1312,
     "metadata": {},
     "output_type": "execute_result"
    }
   ],
   "source": [
    "fallos = df9.loc[148_708:148_709].copy()\n",
    "fallos = fallos[['lat_long']]\n",
    "fallos.T   # "
   ]
  },
  {
   "cell_type": "code",
   "execution_count": null,
   "metadata": {},
   "outputs": [],
   "source": []
  },
  {
   "cell_type": "code",
   "execution_count": 1349,
   "metadata": {},
   "outputs": [
    {
     "data": {
      "text/html": [
       "<div>\n",
       "<style scoped>\n",
       "    .dataframe tbody tr th:only-of-type {\n",
       "        vertical-align: middle;\n",
       "    }\n",
       "\n",
       "    .dataframe tbody tr th {\n",
       "        vertical-align: top;\n",
       "    }\n",
       "\n",
       "    .dataframe thead th {\n",
       "        text-align: right;\n",
       "    }\n",
       "</style>\n",
       "<table border=\"1\" class=\"dataframe\">\n",
       "  <thead>\n",
       "    <tr style=\"text-align: right;\">\n",
       "      <th></th>\n",
       "      <th>restaurant_link</th>\n",
       "      <th>restaurant_name</th>\n",
       "      <th>country</th>\n",
       "      <th>region</th>\n",
       "      <th>province</th>\n",
       "      <th>city</th>\n",
       "      <th>address</th>\n",
       "      <th>latitude</th>\n",
       "      <th>longitude</th>\n",
       "      <th>claimed</th>\n",
       "      <th>top_tags</th>\n",
       "      <th>price_range</th>\n",
       "      <th>meals</th>\n",
       "      <th>cuisines</th>\n",
       "      <th>special_diets</th>\n",
       "      <th>features</th>\n",
       "      <th>vegetarian_friendly</th>\n",
       "      <th>vegan_options</th>\n",
       "      <th>gluten_free</th>\n",
       "      <th>original_open_hours</th>\n",
       "      <th>avg_rating</th>\n",
       "      <th>total_reviews_count</th>\n",
       "      <th>default_language</th>\n",
       "      <th>food</th>\n",
       "      <th>service</th>\n",
       "      <th>value</th>\n",
       "      <th>lat_long</th>\n",
       "      <th>full_location</th>\n",
       "    </tr>\n",
       "  </thead>\n",
       "  <tbody>\n",
       "    <tr>\n",
       "      <th>155113</th>\n",
       "      <td>g9984094-d15652066</td>\n",
       "      <td>Restaurante Fito Mar</td>\n",
       "      <td>Spain</td>\n",
       "      <td>Asturias</td>\n",
       "      <td>Caravia Municipality</td>\n",
       "      <td>Playa de La Espasa</td>\n",
       "      <td>Calle Espasa, La Bajo, 33343 Playa de La Espas...</td>\n",
       "      <td>43.47393</td>\n",
       "      <td>-5.211904</td>\n",
       "      <td>Unclaimed</td>\n",
       "      <td>Spanish</td>\n",
       "      <td>Info no disponible</td>\n",
       "      <td>Dinner, Lunch</td>\n",
       "      <td>Spanish</td>\n",
       "      <td>Info no disponible</td>\n",
       "      <td>Table Service</td>\n",
       "      <td>N</td>\n",
       "      <td>N</td>\n",
       "      <td>N</td>\n",
       "      <td>{\"Mon\": [\"10:00-23:59\"], \"Tue\": [\"10:00-23:59\"...</td>\n",
       "      <td>3.0</td>\n",
       "      <td>17.0</td>\n",
       "      <td>All languages</td>\n",
       "      <td>Info no disponible</td>\n",
       "      <td>Info no disponible</td>\n",
       "      <td>Info no disponible</td>\n",
       "      <td>(43.47393, -5.211904)</td>\n",
       "      <td>{'amenity': 'Restaurante Fitomar', 'house_numb...</td>\n",
       "    </tr>\n",
       "  </tbody>\n",
       "</table>\n",
       "</div>"
      ],
      "text/plain": [
       "           restaurant_link       restaurant_name country    region  \\\n",
       "155113  g9984094-d15652066  Restaurante Fito Mar   Spain  Asturias   \n",
       "\n",
       "                    province                city  \\\n",
       "155113  Caravia Municipality  Playa de La Espasa   \n",
       "\n",
       "                                                  address  latitude  \\\n",
       "155113  Calle Espasa, La Bajo, 33343 Playa de La Espas...  43.47393   \n",
       "\n",
       "        longitude    claimed top_tags         price_range          meals  \\\n",
       "155113  -5.211904  Unclaimed  Spanish  Info no disponible  Dinner, Lunch   \n",
       "\n",
       "       cuisines       special_diets       features vegetarian_friendly  \\\n",
       "155113  Spanish  Info no disponible  Table Service                   N   \n",
       "\n",
       "       vegan_options gluten_free  \\\n",
       "155113             N           N   \n",
       "\n",
       "                                      original_open_hours avg_rating  \\\n",
       "155113  {\"Mon\": [\"10:00-23:59\"], \"Tue\": [\"10:00-23:59\"...        3.0   \n",
       "\n",
       "       total_reviews_count default_language                food  \\\n",
       "155113                17.0    All languages  Info no disponible   \n",
       "\n",
       "                   service               value               lat_long  \\\n",
       "155113  Info no disponible  Info no disponible  (43.47393, -5.211904)   \n",
       "\n",
       "                                            full_location  \n",
       "155113  {'amenity': 'Restaurante Fitomar', 'house_numb...  "
      ]
     },
     "execution_count": 1349,
     "metadata": {},
     "output_type": "execute_result"
    }
   ],
   "source": [
    "#FRAMESSSSSS GOODs                                                                          SAVE DF's FAILS  \n",
    "frames_concant_full_location = [df10, df11, df12, df13, df14, df15, df16, df17,     #FAILS  df18     (fail(4.441))\n",
    "                        df19, df20, df21, df22, df23, df24, df25, df26,     #       df27    (fail(19.014))\n",
    "                        df27, df28, df29, df30, df31, df33,                 #       df32    (fail(21.042)) | df34(fail(21.042))\n",
    "                        df35, df36, df37, df38,                             #       df39    (fail(26.157))\n",
    "                        df40,                                               #       df41    (fail(26.157))\n",
    "                        df42, df43, df44, df45,                             #       df46    (fail(32.495 o 32.496)) \n",
    "                        df47, df48, df49, df50,                             #       df51    (fail(41.224))\n",
    "                        df52,                                               #       df53    (fail(41.224))\n",
    "                        df54,                                               #       df55    (fail(41_614))\n",
    "                        df56, df57, df58, df59,                             #       df60    (fail(43_965))\n",
    "                        df61, df63, df64,                                   #       df62    (fail(44_051)) | df65(fail(44_819))\n",
    "                        df66, df67,                                         #       df68    (fail(44_819))\n",
    "                        df69, df70, df71, df72, df73, df74, df75, df76, df77, df78, df79, df80, df81, df82, # df68(fail(43_082))\n",
    "                        df83, df84,                                         #       df85    (fail(83_098))\n",
    "                        df86, df87,                                         #       df88    (fail(83_628))\n",
    "                        df89, df90, df91, df94,                             #       df92    (fail(44_157)) | df95(fail(44_819))\n",
    "                        df96, df97, df98, df99, df100, df101, df102, df103, df104, #df105   (fail(107_304))\n",
    "                        df106, df107, df108,                                #       df109   (fail(108_546))\n",
    "                        df110, df111, df112, df113, df114, df115, df116,    #       df117   (fail(114_887))\n",
    "                        df118, df119, df120,                                #       df121   (fail(114_887))\n",
    "                        df122, df123,                                       #       df124   (fail(117_648))\n",
    "                        df125, df126, df127, df128,                         #       df129   (fail(122_900))\n",
    "                        df130, df130_1,                                     #       df131   (fail(122_900))\n",
    "                        df132, df133, df134, df135, df136, df137,           #       df138   (fail(122_900))\n",
    "                        df139, df140, df141,                                #       df142   (fail(145_225))\n",
    "                        df143, df144, df145,                                #       df146   (fail(148_709 ))\n",
    "                        df146, df149,                                       #       df148   \n",
    "                        df150, df151,                                       #       df152\n",
    "                        df153, df154\n",
    "                        ]                    \n",
    "\n",
    "df_full_location_concat = pd.concat(frames_concant_full_location)\n",
    "df_full_location_concat.tail(1)"
   ]
  },
  {
   "cell_type": "markdown",
   "metadata": {},
   "source": [
    "# SAVE DF CONCAT (full_location) 🔐"
   ]
  },
  {
   "cell_type": "code",
   "execution_count": null,
   "metadata": {
    "scrolled": true
   },
   "outputs": [],
   "source": [
    "df_full_location_concat.to_csv('df_full_location_concat.csv', header=True, index=False) # HASTA AQUÍ"
   ]
  },
  {
   "cell_type": "code",
   "execution_count": 1350,
   "metadata": {
    "scrolled": false
   },
   "outputs": [
    {
     "data": {
      "text/plain": [
       "(152575, 28)"
      ]
     },
     "execution_count": 1350,
     "metadata": {},
     "output_type": "execute_result"
    }
   ],
   "source": [
    "df_full_location_concat.shape"
   ]
  },
  {
   "cell_type": "code",
   "execution_count": null,
   "metadata": {},
   "outputs": [],
   "source": []
  },
  {
   "cell_type": "code",
   "execution_count": null,
   "metadata": {},
   "outputs": [],
   "source": [
    "df_full_location_concat.to_csv('df_full_location_concat_1.csv', header=True, index=False)"
   ]
  },
  {
   "cell_type": "code",
   "execution_count": null,
   "metadata": {},
   "outputs": [],
   "source": []
  },
  {
   "cell_type": "code",
   "execution_count": 534,
   "metadata": {},
   "outputs": [
    {
     "data": {
      "text/plain": [
       "lat_long                                       (41.52124, 0.35159)\n",
       "full_location    {'house_number': '19', 'road': 'Plaza de Españ...\n",
       "Name: 15380, dtype: object"
      ]
     },
     "execution_count": 534,
     "metadata": {},
     "output_type": "execute_result"
    }
   ],
   "source": [
    "df22[['lat_long', 'full_location']].loc[15380]"
   ]
  },
  {
   "cell_type": "code",
   "execution_count": 527,
   "metadata": {},
   "outputs": [],
   "source": [
    "df22[['lat_long', 'full_location']]"
   ]
  },
  {
   "cell_type": "code",
   "execution_count": null,
   "metadata": {},
   "outputs": [],
   "source": []
  },
  {
   "cell_type": "code",
   "execution_count": null,
   "metadata": {},
   "outputs": [],
   "source": []
  },
  {
   "cell_type": "code",
   "execution_count": null,
   "metadata": {},
   "outputs": [],
   "source": []
  },
  {
   "cell_type": "code",
   "execution_count": null,
   "metadata": {},
   "outputs": [],
   "source": []
  },
  {
   "cell_type": "code",
   "execution_count": 469,
   "metadata": {},
   "outputs": [
    {
     "data": {
      "text/html": [
       "<div>\n",
       "<style scoped>\n",
       "    .dataframe tbody tr th:only-of-type {\n",
       "        vertical-align: middle;\n",
       "    }\n",
       "\n",
       "    .dataframe tbody tr th {\n",
       "        vertical-align: top;\n",
       "    }\n",
       "\n",
       "    .dataframe thead th {\n",
       "        text-align: right;\n",
       "    }\n",
       "</style>\n",
       "<table border=\"1\" class=\"dataframe\">\n",
       "  <thead>\n",
       "    <tr style=\"text-align: right;\">\n",
       "      <th></th>\n",
       "      <th>full_location</th>\n",
       "    </tr>\n",
       "  </thead>\n",
       "  <tbody>\n",
       "    <tr>\n",
       "      <th>2001</th>\n",
       "      <td>{'road': 'Plaça del Firal', 'town': 'Santa Col...</td>\n",
       "    </tr>\n",
       "    <tr>\n",
       "      <th>2002</th>\n",
       "      <td>{'leisure': 'Catalunya Tennis Resort', 'road':...</td>\n",
       "    </tr>\n",
       "    <tr>\n",
       "      <th>2003</th>\n",
       "      <td>{'amenity': 'Galicia', 'house_number': '44', '...</td>\n",
       "    </tr>\n",
       "    <tr>\n",
       "      <th>2004</th>\n",
       "      <td>{'house_number': '30', 'road': 'Carrer del Par...</td>\n",
       "    </tr>\n",
       "    <tr>\n",
       "      <th>2005</th>\n",
       "      <td>{'amenity': 'BP', 'road': 'Carretera de Sils',...</td>\n",
       "    </tr>\n",
       "    <tr>\n",
       "      <th>...</th>\n",
       "      <td>...</td>\n",
       "    </tr>\n",
       "    <tr>\n",
       "      <th>3996</th>\n",
       "      <td>{'craft': 'Bodegas Marqués de Riscal', 'road':...</td>\n",
       "    </tr>\n",
       "    <tr>\n",
       "      <th>3997</th>\n",
       "      <td>{'tourism': 'Marqués de Riscal', 'road': 'A-42...</td>\n",
       "    </tr>\n",
       "    <tr>\n",
       "      <th>3998</th>\n",
       "      <td>{'tourism': 'Marqués de Riscal', 'road': 'A-42...</td>\n",
       "    </tr>\n",
       "    <tr>\n",
       "      <th>3999</th>\n",
       "      <td>{'amenity': 'Licenciada Mª Carmen García', 'ro...</td>\n",
       "    </tr>\n",
       "    <tr>\n",
       "      <th>4000</th>\n",
       "      <td>{'amenity': 'Kutxabank', 'road': 'Plaza Mayor'...</td>\n",
       "    </tr>\n",
       "  </tbody>\n",
       "</table>\n",
       "<p>2000 rows × 1 columns</p>\n",
       "</div>"
      ],
      "text/plain": [
       "                                          full_location\n",
       "2001  {'road': 'Plaça del Firal', 'town': 'Santa Col...\n",
       "2002  {'leisure': 'Catalunya Tennis Resort', 'road':...\n",
       "2003  {'amenity': 'Galicia', 'house_number': '44', '...\n",
       "2004  {'house_number': '30', 'road': 'Carrer del Par...\n",
       "2005  {'amenity': 'BP', 'road': 'Carretera de Sils',...\n",
       "...                                                 ...\n",
       "3996  {'craft': 'Bodegas Marqués de Riscal', 'road':...\n",
       "3997  {'tourism': 'Marqués de Riscal', 'road': 'A-42...\n",
       "3998  {'tourism': 'Marqués de Riscal', 'road': 'A-42...\n",
       "3999  {'amenity': 'Licenciada Mª Carmen García', 'ro...\n",
       "4000  {'amenity': 'Kutxabank', 'road': 'Plaza Mayor'...\n",
       "\n",
       "[2000 rows x 1 columns]"
      ]
     },
     "execution_count": 469,
     "metadata": {},
     "output_type": "execute_result"
    }
   ],
   "source": [
    "df11[['full_location']]    #comprobando los INDEXS (fin-inicio)"
   ]
  },
  {
   "cell_type": "code",
   "execution_count": null,
   "metadata": {},
   "outputs": [],
   "source": []
  },
  {
   "cell_type": "code",
   "execution_count": null,
   "metadata": {},
   "outputs": [],
   "source": []
  },
  {
   "cell_type": "markdown",
   "metadata": {},
   "source": [
    "# CONCAT DATAFRAMES"
   ]
  },
  {
   "cell_type": "code",
   "execution_count": 438,
   "metadata": {
    "scrolled": true
   },
   "outputs": [
    {
     "data": {
      "text/html": [
       "<div>\n",
       "<style scoped>\n",
       "    .dataframe tbody tr th:only-of-type {\n",
       "        vertical-align: middle;\n",
       "    }\n",
       "\n",
       "    .dataframe tbody tr th {\n",
       "        vertical-align: top;\n",
       "    }\n",
       "\n",
       "    .dataframe thead th {\n",
       "        text-align: right;\n",
       "    }\n",
       "</style>\n",
       "<table border=\"1\" class=\"dataframe\">\n",
       "  <thead>\n",
       "    <tr style=\"text-align: right;\">\n",
       "      <th></th>\n",
       "      <th>lat_long</th>\n",
       "      <th>full_location</th>\n",
       "    </tr>\n",
       "  </thead>\n",
       "  <tbody>\n",
       "    <tr>\n",
       "      <th>0</th>\n",
       "      <td>(37.51928, -6.26885)</td>\n",
       "      <td>{'road': 'Calle Concejo', 'village': 'Aznalcól...</td>\n",
       "    </tr>\n",
       "    <tr>\n",
       "      <th>1</th>\n",
       "      <td>(37.52065, -6.26822)</td>\n",
       "      <td>{'amenity': 'Farmacia Sánchez Martín', 'road':...</td>\n",
       "    </tr>\n",
       "    <tr>\n",
       "      <th>2</th>\n",
       "      <td>(37.52428, -6.27144)</td>\n",
       "      <td>{'road': 'Calle Perdón', 'village': 'Aznalcóll...</td>\n",
       "    </tr>\n",
       "    <tr>\n",
       "      <th>3</th>\n",
       "      <td>(37.51714, -6.2686)</td>\n",
       "      <td>{'road': 'Calle Concejo', 'village': 'Aznalcól...</td>\n",
       "    </tr>\n",
       "    <tr>\n",
       "      <th>4</th>\n",
       "      <td>(37.52088, -6.26844)</td>\n",
       "      <td>{'road': 'Calle Juan Carlos I', 'village': 'Az...</td>\n",
       "    </tr>\n",
       "    <tr>\n",
       "      <th>5</th>\n",
       "      <td>(37.522625, -6.268723)</td>\n",
       "      <td>{'amenity': 'Iglesia de Ntra. Sra. de la Conso...</td>\n",
       "    </tr>\n",
       "  </tbody>\n",
       "</table>\n",
       "</div>"
      ],
      "text/plain": [
       "                 lat_long                                      full_location\n",
       "0    (37.51928, -6.26885)  {'road': 'Calle Concejo', 'village': 'Aznalcól...\n",
       "1    (37.52065, -6.26822)  {'amenity': 'Farmacia Sánchez Martín', 'road':...\n",
       "2    (37.52428, -6.27144)  {'road': 'Calle Perdón', 'village': 'Aznalcóll...\n",
       "3     (37.51714, -6.2686)  {'road': 'Calle Concejo', 'village': 'Aznalcól...\n",
       "4    (37.52088, -6.26844)  {'road': 'Calle Juan Carlos I', 'village': 'Az...\n",
       "5  (37.522625, -6.268723)  {'amenity': 'Iglesia de Ntra. Sra. de la Conso..."
      ]
     },
     "execution_count": 438,
     "metadata": {},
     "output_type": "execute_result"
    }
   ],
   "source": [
    "df11[['lat_long', 'full_location']]"
   ]
  },
  {
   "cell_type": "code",
   "execution_count": 445,
   "metadata": {},
   "outputs": [],
   "source": [
    "df12 = df10.loc[6:11].copy()\n",
    "df12['full_location'] = list(map(lambda regi: geolocator.reverse(regi).raw['address'], df12['lat_long']))"
   ]
  },
  {
   "cell_type": "code",
   "execution_count": 446,
   "metadata": {
    "scrolled": false
   },
   "outputs": [
    {
     "data": {
      "text/html": [
       "<div>\n",
       "<style scoped>\n",
       "    .dataframe tbody tr th:only-of-type {\n",
       "        vertical-align: middle;\n",
       "    }\n",
       "\n",
       "    .dataframe tbody tr th {\n",
       "        vertical-align: top;\n",
       "    }\n",
       "\n",
       "    .dataframe thead th {\n",
       "        text-align: right;\n",
       "    }\n",
       "</style>\n",
       "<table border=\"1\" class=\"dataframe\">\n",
       "  <thead>\n",
       "    <tr style=\"text-align: right;\">\n",
       "      <th></th>\n",
       "      <th>lat_long</th>\n",
       "      <th>full_location</th>\n",
       "    </tr>\n",
       "  </thead>\n",
       "  <tbody>\n",
       "    <tr>\n",
       "      <th>6</th>\n",
       "      <td>(41.41357, 2.18)</td>\n",
       "      <td>{'house_number': '272', 'road': 'Carrer de la ...</td>\n",
       "    </tr>\n",
       "    <tr>\n",
       "      <th>7</th>\n",
       "      <td>(41.52691, 1.95851)</td>\n",
       "      <td>{'road': 'Carrer de Josep Fornell', 'village':...</td>\n",
       "    </tr>\n",
       "    <tr>\n",
       "      <th>8</th>\n",
       "      <td>(41.525303, 1.956932)</td>\n",
       "      <td>{'road': 'Carretera d'Olesa', 'village': 'Ulla...</td>\n",
       "    </tr>\n",
       "    <tr>\n",
       "      <th>9</th>\n",
       "      <td>(41.52775, 1.958487)</td>\n",
       "      <td>{'road': 'Carrer de la Serra', 'village': 'Ull...</td>\n",
       "    </tr>\n",
       "    <tr>\n",
       "      <th>10</th>\n",
       "      <td>(41.526646, 1.955678)</td>\n",
       "      <td>{'amenity': 'Cal Taiet', 'house_number': '43',...</td>\n",
       "    </tr>\n",
       "    <tr>\n",
       "      <th>11</th>\n",
       "      <td>(27.995207, -15.615803)</td>\n",
       "      <td>{'amenity': 'Comisaría Local', 'road': 'Plaza ...</td>\n",
       "    </tr>\n",
       "  </tbody>\n",
       "</table>\n",
       "</div>"
      ],
      "text/plain": [
       "                   lat_long                                      full_location\n",
       "6          (41.41357, 2.18)  {'house_number': '272', 'road': 'Carrer de la ...\n",
       "7       (41.52691, 1.95851)  {'road': 'Carrer de Josep Fornell', 'village':...\n",
       "8     (41.525303, 1.956932)  {'road': 'Carretera d'Olesa', 'village': 'Ulla...\n",
       "9      (41.52775, 1.958487)  {'road': 'Carrer de la Serra', 'village': 'Ull...\n",
       "10    (41.526646, 1.955678)  {'amenity': 'Cal Taiet', 'house_number': '43',...\n",
       "11  (27.995207, -15.615803)  {'amenity': 'Comisaría Local', 'road': 'Plaza ..."
      ]
     },
     "execution_count": 446,
     "metadata": {},
     "output_type": "execute_result"
    }
   ],
   "source": [
    "df12[['lat_long', 'full_location']]"
   ]
  },
  {
   "cell_type": "code",
   "execution_count": null,
   "metadata": {},
   "outputs": [],
   "source": []
  },
  {
   "cell_type": "code",
   "execution_count": 449,
   "metadata": {},
   "outputs": [],
   "source": [
    "frames = [df11, df12]\n",
    "df_ = pd.concat(frames)"
   ]
  },
  {
   "cell_type": "code",
   "execution_count": 451,
   "metadata": {},
   "outputs": [
    {
     "data": {
      "text/html": [
       "<div>\n",
       "<style scoped>\n",
       "    .dataframe tbody tr th:only-of-type {\n",
       "        vertical-align: middle;\n",
       "    }\n",
       "\n",
       "    .dataframe tbody tr th {\n",
       "        vertical-align: top;\n",
       "    }\n",
       "\n",
       "    .dataframe thead th {\n",
       "        text-align: right;\n",
       "    }\n",
       "</style>\n",
       "<table border=\"1\" class=\"dataframe\">\n",
       "  <thead>\n",
       "    <tr style=\"text-align: right;\">\n",
       "      <th></th>\n",
       "      <th>full_location</th>\n",
       "    </tr>\n",
       "  </thead>\n",
       "  <tbody>\n",
       "    <tr>\n",
       "      <th>0</th>\n",
       "      <td>{'road': 'Calle Concejo', 'village': 'Aznalcól...</td>\n",
       "    </tr>\n",
       "    <tr>\n",
       "      <th>1</th>\n",
       "      <td>{'amenity': 'Farmacia Sánchez Martín', 'road':...</td>\n",
       "    </tr>\n",
       "    <tr>\n",
       "      <th>2</th>\n",
       "      <td>{'road': 'Calle Perdón', 'village': 'Aznalcóll...</td>\n",
       "    </tr>\n",
       "    <tr>\n",
       "      <th>3</th>\n",
       "      <td>{'road': 'Calle Concejo', 'village': 'Aznalcól...</td>\n",
       "    </tr>\n",
       "    <tr>\n",
       "      <th>4</th>\n",
       "      <td>{'road': 'Calle Juan Carlos I', 'village': 'Az...</td>\n",
       "    </tr>\n",
       "    <tr>\n",
       "      <th>5</th>\n",
       "      <td>{'amenity': 'Iglesia de Ntra. Sra. de la Conso...</td>\n",
       "    </tr>\n",
       "    <tr>\n",
       "      <th>6</th>\n",
       "      <td>{'house_number': '272', 'road': 'Carrer de la ...</td>\n",
       "    </tr>\n",
       "    <tr>\n",
       "      <th>7</th>\n",
       "      <td>{'road': 'Carrer de Josep Fornell', 'village':...</td>\n",
       "    </tr>\n",
       "    <tr>\n",
       "      <th>8</th>\n",
       "      <td>{'road': 'Carretera d'Olesa', 'village': 'Ulla...</td>\n",
       "    </tr>\n",
       "    <tr>\n",
       "      <th>9</th>\n",
       "      <td>{'road': 'Carrer de la Serra', 'village': 'Ull...</td>\n",
       "    </tr>\n",
       "    <tr>\n",
       "      <th>10</th>\n",
       "      <td>{'amenity': 'Cal Taiet', 'house_number': '43',...</td>\n",
       "    </tr>\n",
       "    <tr>\n",
       "      <th>11</th>\n",
       "      <td>{'amenity': 'Comisaría Local', 'road': 'Plaza ...</td>\n",
       "    </tr>\n",
       "  </tbody>\n",
       "</table>\n",
       "</div>"
      ],
      "text/plain": [
       "                                        full_location\n",
       "0   {'road': 'Calle Concejo', 'village': 'Aznalcól...\n",
       "1   {'amenity': 'Farmacia Sánchez Martín', 'road':...\n",
       "2   {'road': 'Calle Perdón', 'village': 'Aznalcóll...\n",
       "3   {'road': 'Calle Concejo', 'village': 'Aznalcól...\n",
       "4   {'road': 'Calle Juan Carlos I', 'village': 'Az...\n",
       "5   {'amenity': 'Iglesia de Ntra. Sra. de la Conso...\n",
       "6   {'house_number': '272', 'road': 'Carrer de la ...\n",
       "7   {'road': 'Carrer de Josep Fornell', 'village':...\n",
       "8   {'road': 'Carretera d'Olesa', 'village': 'Ulla...\n",
       "9   {'road': 'Carrer de la Serra', 'village': 'Ull...\n",
       "10  {'amenity': 'Cal Taiet', 'house_number': '43',...\n",
       "11  {'amenity': 'Comisaría Local', 'road': 'Plaza ..."
      ]
     },
     "execution_count": 451,
     "metadata": {},
     "output_type": "execute_result"
    }
   ],
   "source": [
    "df_[['full_location']]"
   ]
  },
  {
   "cell_type": "code",
   "execution_count": null,
   "metadata": {},
   "outputs": [],
   "source": []
  },
  {
   "cell_type": "code",
   "execution_count": null,
   "metadata": {},
   "outputs": [],
   "source": []
  },
  {
   "cell_type": "code",
   "execution_count": null,
   "metadata": {},
   "outputs": [],
   "source": []
  },
  {
   "cell_type": "code",
   "execution_count": null,
   "metadata": {},
   "outputs": [],
   "source": []
  },
  {
   "cell_type": "code",
   "execution_count": null,
   "metadata": {},
   "outputs": [],
   "source": []
  },
  {
   "cell_type": "code",
   "execution_count": null,
   "metadata": {},
   "outputs": [],
   "source": []
  },
  {
   "cell_type": "code",
   "execution_count": null,
   "metadata": {},
   "outputs": [],
   "source": [
    "df8['lat_long'] = df8.loc[:,['lat_long']].apply(lambda x: lat_long())"
   ]
  },
  {
   "cell_type": "code",
   "execution_count": null,
   "metadata": {},
   "outputs": [],
   "source": [
    "df9['full_location'] = df8.loc[:5, list(map(lambda regi: geolocator.reverse(regi).raw['address'], df9['lat_long']))]"
   ]
  },
  {
   "cell_type": "code",
   "execution_count": 402,
   "metadata": {
    "scrolled": false
   },
   "outputs": [
    {
     "data": {
      "text/plain": [
       "0       {'road': 'Calle Concejo', 'village': 'Aznalcól...\n",
       "1       {'amenity': 'Farmacia Sánchez Martín', 'road':...\n",
       "2       {'road': 'Calle Perdón', 'village': 'Aznalcóll...\n",
       "3       {'road': 'Calle Concejo', 'village': 'Aznalcól...\n",
       "4       {'road': 'Calle Juan Carlos I', 'village': 'Az...\n",
       "                              ...                        \n",
       "996     {'road': 'Avinguda de Barcelona 92', 'town': '...\n",
       "997     {'house_number': '4', 'road': 'Calle Numancia'...\n",
       "998     {'road': 'Ruta de Faja Guasa', 'village': 'Tor...\n",
       "999     {'road': 'Carrer del Rector Joaquín Escrivá Pe...\n",
       "1000    {'road': 'Avinguda de Múrcia', 'town': 'Catarr...\n",
       "Name: full_location, Length: 1001, dtype: object"
      ]
     },
     "execution_count": 402,
     "metadata": {},
     "output_type": "execute_result"
    }
   ],
   "source": [
    "df9=[['lat_long', 'full_location']]"
   ]
  },
  {
   "cell_type": "code",
   "execution_count": null,
   "metadata": {},
   "outputs": [],
   "source": []
  },
  {
   "cell_type": "code",
   "execution_count": null,
   "metadata": {},
   "outputs": [],
   "source": []
  },
  {
   "cell_type": "code",
   "execution_count": null,
   "metadata": {},
   "outputs": [],
   "source": []
  },
  {
   "cell_type": "code",
   "execution_count": 86,
   "metadata": {},
   "outputs": [
    {
     "data": {
      "text/plain": [
       "Index(['restaurant_link', 'restaurant_name', 'country', 'region', 'province',\n",
       "       'city', 'address', 'latitude', 'longitude', 'claimed', 'top_tags',\n",
       "       'price_range', 'meals', 'cuisines', 'special_diets', 'features',\n",
       "       'vegetarian_friendly', 'vegan_options', 'gluten_free',\n",
       "       'original_open_hours', 'avg_rating', 'total_reviews_count',\n",
       "       'default_language', 'food', 'service', 'value', 'lat_long',\n",
       "       'full_location', 'province_', 'city_village', 'region_'],\n",
       "      dtype='object')"
      ]
     },
     "execution_count": 86,
     "metadata": {},
     "output_type": "execute_result"
    }
   ],
   "source": [
    "df.columns"
   ]
  },
  {
   "cell_type": "code",
   "execution_count": 92,
   "metadata": {},
   "outputs": [],
   "source": [
    "df1 = df[['region', 'province', 'city', 'region_', 'province', 'city_village', 'full_location']]"
   ]
  },
  {
   "cell_type": "code",
   "execution_count": 94,
   "metadata": {},
   "outputs": [
    {
     "data": {
      "text/html": [
       "<div>\n",
       "<style scoped>\n",
       "    .dataframe tbody tr th:only-of-type {\n",
       "        vertical-align: middle;\n",
       "    }\n",
       "\n",
       "    .dataframe tbody tr th {\n",
       "        vertical-align: top;\n",
       "    }\n",
       "\n",
       "    .dataframe thead th {\n",
       "        text-align: right;\n",
       "    }\n",
       "</style>\n",
       "<table border=\"1\" class=\"dataframe\">\n",
       "  <thead>\n",
       "    <tr style=\"text-align: right;\">\n",
       "      <th></th>\n",
       "      <th>region</th>\n",
       "      <th>province</th>\n",
       "      <th>city</th>\n",
       "      <th>region_</th>\n",
       "      <th>province</th>\n",
       "      <th>city_village</th>\n",
       "      <th>full_location</th>\n",
       "    </tr>\n",
       "  </thead>\n",
       "  <tbody>\n",
       "    <tr>\n",
       "      <th>81690</th>\n",
       "      <td>Valencian Country</td>\n",
       "      <td>Province of Alicante</td>\n",
       "      <td>0</td>\n",
       "      <td>Comunidad Valenciana</td>\n",
       "      <td>Province of Alicante</td>\n",
       "      <td>Benidorm</td>\n",
       "      <td>{'tourism': 'Hotel Presidente', 'road': 'Calle...</td>\n",
       "    </tr>\n",
       "    <tr>\n",
       "      <th>60058</th>\n",
       "      <td>Catalonia</td>\n",
       "      <td>Province of Barcelona</td>\n",
       "      <td>0</td>\n",
       "      <td>Catalunya</td>\n",
       "      <td>Province of Barcelona</td>\n",
       "      <td>Barcelona</td>\n",
       "      <td>{'house_number': '101-103-105-107', 'road': 'C...</td>\n",
       "    </tr>\n",
       "    <tr>\n",
       "      <th>98291</th>\n",
       "      <td>Castile and Leon</td>\n",
       "      <td>Province of Palencia</td>\n",
       "      <td>0</td>\n",
       "      <td>Castilla y León</td>\n",
       "      <td>Province of Palencia</td>\n",
       "      <td>Monzón de Campos</td>\n",
       "      <td>{'tourism': 'La Casa de Piedra', 'house_number...</td>\n",
       "    </tr>\n",
       "    <tr>\n",
       "      <th>44267</th>\n",
       "      <td>Basque Country</td>\n",
       "      <td>Province of Guipuzcoa</td>\n",
       "      <td>0</td>\n",
       "      <td>Euskadi</td>\n",
       "      <td>Province of Guipuzcoa</td>\n",
       "      <td>Donostia/San Sebastián</td>\n",
       "      <td>{'amenity': 'Lore toki', 'road': 'Artolategi',...</td>\n",
       "    </tr>\n",
       "    <tr>\n",
       "      <th>65069</th>\n",
       "      <td>Catalonia</td>\n",
       "      <td>Province of Tarragona</td>\n",
       "      <td>0</td>\n",
       "      <td>Catalunya</td>\n",
       "      <td>Province of Tarragona</td>\n",
       "      <td>Vila-seca</td>\n",
       "      <td>{'building': 'Residència Gent Gran Vila-seca',...</td>\n",
       "    </tr>\n",
       "  </tbody>\n",
       "</table>\n",
       "</div>"
      ],
      "text/plain": [
       "                  region               province city               region_  \\\n",
       "81690  Valencian Country   Province of Alicante    0  Comunidad Valenciana   \n",
       "60058          Catalonia  Province of Barcelona    0             Catalunya   \n",
       "98291   Castile and Leon   Province of Palencia    0       Castilla y León   \n",
       "44267     Basque Country  Province of Guipuzcoa    0               Euskadi   \n",
       "65069          Catalonia  Province of Tarragona    0             Catalunya   \n",
       "\n",
       "                    province            city_village  \\\n",
       "81690   Province of Alicante                Benidorm   \n",
       "60058  Province of Barcelona               Barcelona   \n",
       "98291   Province of Palencia        Monzón de Campos   \n",
       "44267  Province of Guipuzcoa  Donostia/San Sebastián   \n",
       "65069  Province of Tarragona               Vila-seca   \n",
       "\n",
       "                                           full_location  \n",
       "81690  {'tourism': 'Hotel Presidente', 'road': 'Calle...  \n",
       "60058  {'house_number': '101-103-105-107', 'road': 'C...  \n",
       "98291  {'tourism': 'La Casa de Piedra', 'house_number...  \n",
       "44267  {'amenity': 'Lore toki', 'road': 'Artolategi',...  \n",
       "65069  {'building': 'Residència Gent Gran Vila-seca',...  "
      ]
     },
     "execution_count": 94,
     "metadata": {},
     "output_type": "execute_result"
    }
   ],
   "source": [
    "df1.sample(5)"
   ]
  },
  {
   "cell_type": "code",
   "execution_count": 99,
   "metadata": {
    "scrolled": true
   },
   "outputs": [
    {
     "data": {
      "text/plain": [
       "\"{'amenity': 'Lore toki', 'road': 'Artolategi', 'suburb': 'Martutene', 'city': 'Donostia/San Sebastián', 'municipality': 'Donostialdea', 'province': 'Gipuzkoa', 'state': 'Euskadi', 'postcode': '20014', 'country': 'España', 'country_code': 'es'}\""
      ]
     },
     "execution_count": 99,
     "metadata": {},
     "output_type": "execute_result"
    }
   ],
   "source": [
    "df1.full_location.loc[44267]"
   ]
  },
  {
   "cell_type": "code",
   "execution_count": null,
   "metadata": {},
   "outputs": [],
   "source": []
  },
  {
   "cell_type": "code",
   "execution_count": null,
   "metadata": {},
   "outputs": [],
   "source": []
  },
  {
   "cell_type": "code",
   "execution_count": null,
   "metadata": {},
   "outputs": [],
   "source": []
  },
  {
   "cell_type": "code",
   "execution_count": null,
   "metadata": {},
   "outputs": [],
   "source": []
  },
  {
   "cell_type": "code",
   "execution_count": 377,
   "metadata": {},
   "outputs": [],
   "source": [
    "def dict_city_village(df9):\n",
    "    try:\n",
    "        df9['full_location'] = list(map(lambda regi: geolocator.reverse(regi).raw['address'], df9['lat_long']))\n",
    "        return df9\n",
    "    except:\n",
    "        df9['full_location'] = 'none'\n",
    "        return df9"
   ]
  },
  {
   "cell_type": "code",
   "execution_count": null,
   "metadata": {},
   "outputs": [],
   "source": [
    "df10 = dict_city_village(df9)\n",
    "df10"
   ]
  },
  {
   "cell_type": "code",
   "execution_count": null,
   "metadata": {},
   "outputs": [],
   "source": [
    "df8['region_'] = [val['state'] for val in df8.full_location]\n",
    "df8['province_'] = [val['county'] for val in df8.full_location]"
   ]
  },
  {
   "cell_type": "code",
   "execution_count": null,
   "metadata": {},
   "outputs": [],
   "source": []
  },
  {
   "cell_type": "code",
   "execution_count": null,
   "metadata": {},
   "outputs": [],
   "source": []
  },
  {
   "cell_type": "code",
   "execution_count": null,
   "metadata": {},
   "outputs": [],
   "source": []
  },
  {
   "cell_type": "code",
   "execution_count": null,
   "metadata": {},
   "outputs": [],
   "source": []
  },
  {
   "cell_type": "code",
   "execution_count": null,
   "metadata": {},
   "outputs": [],
   "source": []
  },
  {
   "cell_type": "code",
   "execution_count": null,
   "metadata": {},
   "outputs": [],
   "source": []
  },
  {
   "cell_type": "code",
   "execution_count": null,
   "metadata": {},
   "outputs": [],
   "source": []
  },
  {
   "cell_type": "code",
   "execution_count": null,
   "metadata": {},
   "outputs": [],
   "source": []
  },
  {
   "cell_type": "code",
   "execution_count": null,
   "metadata": {},
   "outputs": [],
   "source": []
  },
  {
   "cell_type": "markdown",
   "metadata": {},
   "source": [
    "**FAILS CITY & VILLAGE  (NO MIRAR)**"
   ]
  },
  {
   "cell_type": "code",
   "execution_count": null,
   "metadata": {},
   "outputs": [],
   "source": [
    "df4[\"city_\"] = df4.lat_long.apply(lambda val: geocolocator.reverse(val).raw[\"address\"]['village'] \n",
    "                                  if geocolocator.reverse(val).raw[\"address\"]['village'] in val \n",
    "                                  else 'none')"
   ]
  },
  {
   "cell_type": "code",
   "execution_count": 484,
   "metadata": {},
   "outputs": [],
   "source": [
    "def city_village():\n",
    "    for val in df4.full_location:\n",
    "        try:\n",
    "            df4['city_'] = [val['city'] for val in df4.full_location]\n",
    "            return df4['city']\n",
    "        except:\n",
    "            return 'none'       "
   ]
  },
  {
   "cell_type": "code",
   "execution_count": 485,
   "metadata": {},
   "outputs": [
    {
     "data": {
      "text/plain": [
       "'none'"
      ]
     },
     "execution_count": 485,
     "metadata": {},
     "output_type": "execute_result"
    }
   ],
   "source": [
    "city_village()"
   ]
  },
  {
   "cell_type": "code",
   "execution_count": null,
   "metadata": {},
   "outputs": [],
   "source": [
    "df4['city_']= df4.city_.apply(lambda val: \n",
    "                              val['village'] \n",
    "                              if val['city'] not in val \n",
    "                              else 'none'  \n",
    "                              for val in df4.full_location)"
   ]
  },
  {
   "cell_type": "code",
   "execution_count": 49,
   "metadata": {},
   "outputs": [],
   "source": [
    "def city_village():\n",
    "    for val in df4.full_location:\n",
    "        try:\n",
    "            if val['city'] not in val: \n",
    "                return 'none'\n",
    "            else:\n",
    "                return val['city']\n",
    "        except:\n",
    "            return 'fallo'"
   ]
  },
  {
   "cell_type": "code",
   "execution_count": 74,
   "metadata": {},
   "outputs": [],
   "source": [
    "def city_village():\n",
    "    df4['city_'] = ''  #columna vacia\n",
    "    for val in df4.full_location:\n",
    "        try:\n",
    "            return df4['city_'].append(val['village']) \n",
    "        except:\n",
    "            return df4['city_'].append('none')"
   ]
  },
  {
   "cell_type": "code",
   "execution_count": null,
   "metadata": {},
   "outputs": [],
   "source": [
    "df4.city_.apply(lambda x: city_village())"
   ]
  },
  {
   "cell_type": "code",
   "execution_count": 52,
   "metadata": {},
   "outputs": [
    {
     "data": {
      "text/plain": [
       "0    fallo\n",
       "1    fallo\n",
       "2    fallo\n",
       "3    fallo\n",
       "4    fallo\n",
       "5    fallo\n",
       "6    fallo\n",
       "7    fallo\n",
       "8    fallo\n",
       "9    fallo\n",
       "Name: city_, dtype: object"
      ]
     },
     "execution_count": 52,
     "metadata": {},
     "output_type": "execute_result"
    }
   ],
   "source": [
    "df4.city_"
   ]
  },
  {
   "cell_type": "code",
   "execution_count": 51,
   "metadata": {},
   "outputs": [],
   "source": [
    "df4.city_ = df4.city_.apply(lambda x: city_village() )"
   ]
  },
  {
   "cell_type": "code",
   "execution_count": null,
   "metadata": {},
   "outputs": [],
   "source": []
  }
 ],
 "metadata": {
  "kernelspec": {
   "display_name": "Python 3",
   "language": "python",
   "name": "python3"
  },
  "language_info": {
   "codemirror_mode": {
    "name": "ipython",
    "version": 3
   },
   "file_extension": ".py",
   "mimetype": "text/x-python",
   "name": "python",
   "nbconvert_exporter": "python",
   "pygments_lexer": "ipython3",
   "version": "3.8.5"
  },
  "toc": {
   "base_numbering": 1,
   "nav_menu": {},
   "number_sections": true,
   "sideBar": true,
   "skip_h1_title": false,
   "title_cell": "Table of Contents",
   "title_sidebar": "Contents",
   "toc_cell": false,
   "toc_position": {
    "height": "calc(100% - 180px)",
    "left": "10px",
    "top": "150px",
    "width": "389.188px"
   },
   "toc_section_display": true,
   "toc_window_display": true
  },
  "varInspector": {
   "cols": {
    "lenName": 16,
    "lenType": 16,
    "lenVar": 40
   },
   "kernels_config": {
    "python": {
     "delete_cmd_postfix": "",
     "delete_cmd_prefix": "del ",
     "library": "var_list.py",
     "varRefreshCmd": "print(var_dic_list())"
    },
    "r": {
     "delete_cmd_postfix": ") ",
     "delete_cmd_prefix": "rm(",
     "library": "var_list.r",
     "varRefreshCmd": "cat(var_dic_list()) "
    }
   },
   "types_to_exclude": [
    "module",
    "function",
    "builtin_function_or_method",
    "instance",
    "_Feature"
   ],
   "window_display": false
  }
 },
 "nbformat": 4,
 "nbformat_minor": 4
}
