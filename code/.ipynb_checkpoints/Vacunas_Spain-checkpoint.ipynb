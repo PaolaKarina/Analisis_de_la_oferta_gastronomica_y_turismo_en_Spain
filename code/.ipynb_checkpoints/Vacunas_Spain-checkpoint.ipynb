{
 "cells": [
  {
   "cell_type": "code",
   "execution_count": 36,
   "metadata": {},
   "outputs": [],
   "source": [
    "from pymongo import MongoClient\n",
    "import os \n",
    "from dotenv import load_dotenv\n",
    "import src.funcioncitas as pk\n",
    "import pandas as pd"
   ]
  },
  {
   "cell_type": "markdown",
   "metadata": {},
   "source": [
    "# EVOLUCIÓN DE LA VACUNA SPAIN - Mongo"
   ]
  },
  {
   "cell_type": "code",
   "execution_count": 37,
   "metadata": {},
   "outputs": [],
   "source": [
    "mongo = os.getenv('mongo')\n",
    "client = MongoClient(mongo)"
   ]
  },
  {
   "cell_type": "code",
   "execution_count": 38,
   "metadata": {},
   "outputs": [
    {
     "data": {
      "text/plain": [
       "['Ironhack_1', 'Lab-mango', 'Proyecto_Data', 'admin', 'config', 'local']"
      ]
     },
     "execution_count": 38,
     "metadata": {},
     "output_type": "execute_result"
    }
   ],
   "source": [
    "client.list_database_names()"
   ]
  },
  {
   "cell_type": "code",
   "execution_count": null,
   "metadata": {},
   "outputs": [],
   "source": [
    "db = client.get_database('Proyecto_Data')"
   ]
  },
  {
   "cell_type": "code",
   "execution_count": 39,
   "metadata": {},
   "outputs": [
    {
     "data": {
      "text/plain": [
       "['vacunas']"
      ]
     },
     "execution_count": 39,
     "metadata": {},
     "output_type": "execute_result"
    }
   ],
   "source": [
    "db.list_collection_names()"
   ]
  },
  {
   "cell_type": "code",
   "execution_count": 40,
   "metadata": {},
   "outputs": [],
   "source": [
    "collection = db.get_collection('vacunas')"
   ]
  },
  {
   "cell_type": "code",
   "execution_count": 41,
   "metadata": {},
   "outputs": [
    {
     "data": {
      "text/plain": [
       "<pymongo.cursor.Cursor at 0x1b5343b2970>"
      ]
     },
     "execution_count": 41,
     "metadata": {},
     "output_type": "execute_result"
    }
   ],
   "source": [
    "documentos = collection.find()\n",
    "documentos"
   ]
  },
  {
   "cell_type": "code",
   "execution_count": 42,
   "metadata": {},
   "outputs": [
    {
     "data": {
      "text/plain": [
       "{'_id': ObjectId('60ab6383514a37dd6bcc3bb5'),\n",
       " 'ccaa': 'Andalucía',\n",
       " 'dosisAdministradas': 4087772,\n",
       " 'dosisEntregadas': 4270610,\n",
       " 'dosisEntregadasModerna': 392000,\n",
       " 'dosisEntregadasPfizer': 2768310,\n",
       " 'dosisEntregadasAstrazeneca': 1007500,\n",
       " 'dosisEntregadasJanssen': 102800,\n",
       " 'dosisPrimeraDosis': 2804632,\n",
       " 'dosisPautaCompletada': 1324848,\n",
       " 'porcentajeEntregadas': 0.9571869124082977,\n",
       " 'porcentajePoblacionAdministradas': 0.4829363791526664,\n",
       " 'porcentajePoblacionPrimeraDosis': 0.33134402381925926,\n",
       " 'porcentajePoblacionCompletas': 0.1565198098249246,\n",
       " 'fechaUltRegistro': 1621468800000,\n",
       " 'etarios': {'unaDosis': {'etarioTotal': {'vacunados': 2804632,\n",
       "    'personasINE': 7062213,\n",
       "    'porcentaje': 0.3971321737251482},\n",
       "   'etarioRangos': [{'rango': {'min': 16, 'max': 17},\n",
       "     'vacunados': 479,\n",
       "     'personasINE': 181921,\n",
       "     'porcentaje': 0.0026330110322612564},\n",
       "    {'rango': {'min': 18, 'max': 24},\n",
       "     'vacunados': 35248,\n",
       "     'personasINE': 625846,\n",
       "     'porcentaje': 0.05632056448391457},\n",
       "    {'rango': {'min': 25, 'max': 49},\n",
       "     'vacunados': 371210,\n",
       "     'personasINE': 3009381,\n",
       "     'porcentaje': 0.12335094825148428},\n",
       "    {'rango': {'min': 50, 'max': 59},\n",
       "     'vacunados': 541102,\n",
       "     'personasINE': 1265021,\n",
       "     'porcentaje': 0.4277415157534934},\n",
       "    {'rango': {'min': 60, 'max': 69},\n",
       "     'vacunados': 793166,\n",
       "     'personasINE': 916147,\n",
       "     'porcentaje': 0.8657628088068836},\n",
       "    {'rango': {'min': 70, 'max': 79},\n",
       "     'vacunados': 634625,\n",
       "     'personasINE': 650381,\n",
       "     'porcentaje': 0.9757742000458193},\n",
       "    {'rango': {'min': 80, 'max': None},\n",
       "     'vacunados': 428802,\n",
       "     'personasINE': 413516,\n",
       "     'porcentaje': 1}]},\n",
       "  'pautaCompleta': {'etarioTotal': {'vacunados': 1324848,\n",
       "    'personasINE': 7062213,\n",
       "    'porcentaje': 0.18759672074461645},\n",
       "   'etarioRangos': [{'rango': {'min': 16, 'max': 17},\n",
       "     'vacunados': 338,\n",
       "     'personasINE': 181921,\n",
       "     'porcentaje': 0.0018579493296540805},\n",
       "    {'rango': {'min': 18, 'max': 24},\n",
       "     'vacunados': 15429,\n",
       "     'personasINE': 625846,\n",
       "     'porcentaje': 0.024653029659053506},\n",
       "    {'rango': {'min': 25, 'max': 49},\n",
       "     'vacunados': 158970,\n",
       "     'personasINE': 3009381,\n",
       "     'porcentaje': 0.05282481679787305},\n",
       "    {'rango': {'min': 50, 'max': 59},\n",
       "     'vacunados': 88701,\n",
       "     'personasINE': 1265021,\n",
       "     'porcentaje': 0.07011820357132412},\n",
       "    {'rango': {'min': 60, 'max': 69},\n",
       "     'vacunados': 85348,\n",
       "     'personasINE': 916147,\n",
       "     'porcentaje': 0.09315972218432195},\n",
       "    {'rango': {'min': 70, 'max': 79},\n",
       "     'vacunados': 558376,\n",
       "     'personasINE': 650381,\n",
       "     'porcentaje': 0.8585367653729122},\n",
       "    {'rango': {'min': 80, 'max': None},\n",
       "     'vacunados': 417686,\n",
       "     'personasINE': 413516,\n",
       "     'porcentaje': 1}]}}}"
      ]
     },
     "execution_count": 42,
     "metadata": {},
     "output_type": "execute_result"
    }
   ],
   "source": [
    "documentos.next()"
   ]
  },
  {
   "cell_type": "code",
   "execution_count": 43,
   "metadata": {},
   "outputs": [
    {
     "data": {
      "text/plain": [
       "21"
      ]
     },
     "execution_count": 43,
     "metadata": {},
     "output_type": "execute_result"
    }
   ],
   "source": [
    "collection.count_documents({})"
   ]
  },
  {
   "cell_type": "markdown",
   "metadata": {},
   "source": [
    "**CCAA**"
   ]
  },
  {
   "cell_type": "code",
   "execution_count": 44,
   "metadata": {},
   "outputs": [
    {
     "data": {
      "text/plain": [
       "['Andalucía',\n",
       " 'Aragón',\n",
       " 'Asturias',\n",
       " 'Baleares',\n",
       " 'C. Valenciana',\n",
       " 'Canarias',\n",
       " 'Cantabria',\n",
       " 'Castilla La Mancha',\n",
       " 'Castilla y Leon',\n",
       " 'Cataluña',\n",
       " 'Ceuta',\n",
       " 'Extremadura',\n",
       " 'Fuerzas Armadas',\n",
       " 'Galicia',\n",
       " 'La Rioja',\n",
       " 'Madrid',\n",
       " 'Melilla',\n",
       " 'Murcia',\n",
       " 'Navarra',\n",
       " 'País Vasco',\n",
       " 'Totales']"
      ]
     },
     "execution_count": 44,
     "metadata": {},
     "output_type": "execute_result"
    }
   ],
   "source": [
    "collection.distinct('ccaa')"
   ]
  },
  {
   "cell_type": "code",
   "execution_count": 45,
   "metadata": {},
   "outputs": [
    {
     "data": {
      "text/plain": [
       "dict_keys(['_id', 'ccaa', 'dosisAdministradas', 'dosisEntregadas', 'dosisEntregadasModerna', 'dosisEntregadasPfizer', 'dosisEntregadasAstrazeneca', 'dosisEntregadasJanssen', 'dosisPrimeraDosis', 'dosisPautaCompletada', 'porcentajeEntregadas', 'porcentajePoblacionAdministradas', 'porcentajePoblacionPrimeraDosis', 'porcentajePoblacionCompletas', 'fechaUltRegistro', 'etarios'])"
      ]
     },
     "execution_count": 45,
     "metadata": {},
     "output_type": "execute_result"
    }
   ],
   "source": [
    "collection.find_one().keys()"
   ]
  },
  {
   "cell_type": "code",
   "execution_count": null,
   "metadata": {},
   "outputs": [],
   "source": []
  },
  {
   "cell_type": "code",
   "execution_count": 557,
   "metadata": {},
   "outputs": [
    {
     "data": {
      "text/plain": [
       "[{'ccaa': 'Andalucía',\n",
       "  'dosisAdministradas': 4087772,\n",
       "  'dosisEntregadas': 4270610,\n",
       "  'dosisEntregadasModerna': 392000,\n",
       "  'dosisEntregadasPfizer': 2768310,\n",
       "  'dosisEntregadasAstrazeneca': 1007500,\n",
       "  'dosisEntregadasJanssen': 102800,\n",
       "  'dosisPrimeraDosis': 2804632,\n",
       "  'dosisPautaCompletada': 1324848,\n",
       "  'fechaUltRegistro': 1621468800000},\n",
       " {'ccaa': 'Aragón',\n",
       "  'dosisAdministradas': 757163,\n",
       "  'dosisEntregadas': 794565,\n",
       "  'dosisEntregadasModerna': 75900,\n",
       "  'dosisEntregadasPfizer': 544365,\n",
       "  'dosisEntregadasAstrazeneca': 158300,\n",
       "  'dosisEntregadasJanssen': 16000,\n",
       "  'dosisPrimeraDosis': 494372,\n",
       "  'dosisPautaCompletada': 270668,\n",
       "  'fechaUltRegistro': 1621468800000}]"
      ]
     },
     "execution_count": 557,
     "metadata": {},
     "output_type": "execute_result"
    }
   ],
   "source": [
    "proj = {'_id': 0, 'ccaa': 1, 'dosisAdministradas':1, 'dosisEntregadas':1, 'dosisPrimeraDosis': 1, 'dosisPautaCompletada': 1,\n",
    "        'dosisEntregadasModerna':1, 'dosisEntregadasPfizer': 1, 'dosisEntregadasAstrazeneca': 1, \n",
    "        'dosisEntregadasJanssen':1, 'fechaUltRegistro':1}\n",
    "\n",
    "filtro = {'dosisAdministradas': {'$gt': 0}, 'dosisEntregadas': {'$gt': 0}, 'dosisPrimeraDosis': {'$gte': 0}, \n",
    "          'dosisPautaCompletada': {'$gte': 0},'dosisEntregadasModerna': {'$gt': 0}, \n",
    "         'dosisEntregadasPfizer': {'$gt': 0}, 'dosisEntregadasAstrazeneca': {'$gt': 0}, \n",
    "          'dosisEntregadasJanssen': {'$gt': 0}, 'fechaUltRegistro': {'$gt': 0}}\n",
    "\n",
    "dosis = list(collection.find(filtro, proj))\n",
    "dosis[:2]"
   ]
  },
  {
   "cell_type": "code",
   "execution_count": 558,
   "metadata": {
    "scrolled": true
   },
   "outputs": [
    {
     "data": {
      "text/html": [
       "<div>\n",
       "<style scoped>\n",
       "    .dataframe tbody tr th:only-of-type {\n",
       "        vertical-align: middle;\n",
       "    }\n",
       "\n",
       "    .dataframe tbody tr th {\n",
       "        vertical-align: top;\n",
       "    }\n",
       "\n",
       "    .dataframe thead th {\n",
       "        text-align: right;\n",
       "    }\n",
       "</style>\n",
       "<table border=\"1\" class=\"dataframe\">\n",
       "  <thead>\n",
       "    <tr style=\"text-align: right;\">\n",
       "      <th></th>\n",
       "      <th>ccaa</th>\n",
       "      <th>dosisAdministradas</th>\n",
       "      <th>dosisEntregadas</th>\n",
       "      <th>dosisEntregadasModerna</th>\n",
       "      <th>dosisEntregadasPfizer</th>\n",
       "      <th>dosisEntregadasAstrazeneca</th>\n",
       "      <th>dosisEntregadasJanssen</th>\n",
       "      <th>dosisPrimeraDosis</th>\n",
       "      <th>dosisPautaCompletada</th>\n",
       "      <th>fechaUltRegistro</th>\n",
       "    </tr>\n",
       "  </thead>\n",
       "  <tbody>\n",
       "    <tr>\n",
       "      <th>0</th>\n",
       "      <td>Andalucía</td>\n",
       "      <td>4087772</td>\n",
       "      <td>4270610</td>\n",
       "      <td>392000</td>\n",
       "      <td>2768310</td>\n",
       "      <td>1007500</td>\n",
       "      <td>102800</td>\n",
       "      <td>2804632</td>\n",
       "      <td>1324848</td>\n",
       "      <td>1621468800000</td>\n",
       "    </tr>\n",
       "    <tr>\n",
       "      <th>1</th>\n",
       "      <td>Aragón</td>\n",
       "      <td>757163</td>\n",
       "      <td>794565</td>\n",
       "      <td>75900</td>\n",
       "      <td>544365</td>\n",
       "      <td>158300</td>\n",
       "      <td>16000</td>\n",
       "      <td>494372</td>\n",
       "      <td>270668</td>\n",
       "      <td>1621468800000</td>\n",
       "    </tr>\n",
       "    <tr>\n",
       "      <th>2</th>\n",
       "      <td>Asturias</td>\n",
       "      <td>689279</td>\n",
       "      <td>703635</td>\n",
       "      <td>67000</td>\n",
       "      <td>502835</td>\n",
       "      <td>121400</td>\n",
       "      <td>12400</td>\n",
       "      <td>447261</td>\n",
       "      <td>248389</td>\n",
       "      <td>1621468800000</td>\n",
       "    </tr>\n",
       "    <tr>\n",
       "      <th>3</th>\n",
       "      <td>Baleares</td>\n",
       "      <td>471730</td>\n",
       "      <td>525150</td>\n",
       "      <td>47200</td>\n",
       "      <td>324450</td>\n",
       "      <td>139300</td>\n",
       "      <td>14200</td>\n",
       "      <td>336944</td>\n",
       "      <td>141426</td>\n",
       "      <td>1621468800000</td>\n",
       "    </tr>\n",
       "    <tr>\n",
       "      <th>4</th>\n",
       "      <td>Canarias</td>\n",
       "      <td>883279</td>\n",
       "      <td>1007870</td>\n",
       "      <td>90700</td>\n",
       "      <td>631770</td>\n",
       "      <td>259000</td>\n",
       "      <td>26400</td>\n",
       "      <td>616270</td>\n",
       "      <td>283662</td>\n",
       "      <td>1621468800000</td>\n",
       "    </tr>\n",
       "    <tr>\n",
       "      <th>5</th>\n",
       "      <td>Cantabria</td>\n",
       "      <td>323878</td>\n",
       "      <td>351105</td>\n",
       "      <td>33100</td>\n",
       "      <td>241755</td>\n",
       "      <td>69300</td>\n",
       "      <td>6950</td>\n",
       "      <td>216835</td>\n",
       "      <td>110435</td>\n",
       "      <td>1621468800000</td>\n",
       "    </tr>\n",
       "    <tr>\n",
       "      <th>6</th>\n",
       "      <td>Castilla y Leon</td>\n",
       "      <td>1510435</td>\n",
       "      <td>1647075</td>\n",
       "      <td>159600</td>\n",
       "      <td>1173225</td>\n",
       "      <td>285100</td>\n",
       "      <td>29150</td>\n",
       "      <td>959720</td>\n",
       "      <td>567430</td>\n",
       "      <td>1621468800000</td>\n",
       "    </tr>\n",
       "    <tr>\n",
       "      <th>7</th>\n",
       "      <td>Castilla La Mancha</td>\n",
       "      <td>1073858</td>\n",
       "      <td>1136685</td>\n",
       "      <td>107800</td>\n",
       "      <td>761535</td>\n",
       "      <td>242500</td>\n",
       "      <td>24850</td>\n",
       "      <td>724018</td>\n",
       "      <td>362666</td>\n",
       "      <td>1621468800000</td>\n",
       "    </tr>\n",
       "    <tr>\n",
       "      <th>8</th>\n",
       "      <td>Cataluña</td>\n",
       "      <td>3744065</td>\n",
       "      <td>4121100</td>\n",
       "      <td>386700</td>\n",
       "      <td>2713850</td>\n",
       "      <td>926100</td>\n",
       "      <td>94450</td>\n",
       "      <td>2642992</td>\n",
       "      <td>1135792</td>\n",
       "      <td>1621468800000</td>\n",
       "    </tr>\n",
       "    <tr>\n",
       "      <th>9</th>\n",
       "      <td>C. Valenciana</td>\n",
       "      <td>2413113</td>\n",
       "      <td>2596380</td>\n",
       "      <td>239900</td>\n",
       "      <td>1693180</td>\n",
       "      <td>601900</td>\n",
       "      <td>61400</td>\n",
       "      <td>1668460</td>\n",
       "      <td>776451</td>\n",
       "      <td>1621468800000</td>\n",
       "    </tr>\n",
       "    <tr>\n",
       "      <th>10</th>\n",
       "      <td>Extremadura</td>\n",
       "      <td>615201</td>\n",
       "      <td>639785</td>\n",
       "      <td>59800</td>\n",
       "      <td>440585</td>\n",
       "      <td>126500</td>\n",
       "      <td>12900</td>\n",
       "      <td>404699</td>\n",
       "      <td>216051</td>\n",
       "      <td>1621468800000</td>\n",
       "    </tr>\n",
       "    <tr>\n",
       "      <th>11</th>\n",
       "      <td>Galicia</td>\n",
       "      <td>1705317</td>\n",
       "      <td>1751725</td>\n",
       "      <td>165000</td>\n",
       "      <td>1232125</td>\n",
       "      <td>321700</td>\n",
       "      <td>32900</td>\n",
       "      <td>1115803</td>\n",
       "      <td>603245</td>\n",
       "      <td>1621468800000</td>\n",
       "    </tr>\n",
       "    <tr>\n",
       "      <th>12</th>\n",
       "      <td>La Rioja</td>\n",
       "      <td>174544</td>\n",
       "      <td>186695</td>\n",
       "      <td>17400</td>\n",
       "      <td>127595</td>\n",
       "      <td>37800</td>\n",
       "      <td>3900</td>\n",
       "      <td>115235</td>\n",
       "      <td>61926</td>\n",
       "      <td>1621468800000</td>\n",
       "    </tr>\n",
       "    <tr>\n",
       "      <th>13</th>\n",
       "      <td>Madrid</td>\n",
       "      <td>3162722</td>\n",
       "      <td>3445595</td>\n",
       "      <td>320200</td>\n",
       "      <td>2235795</td>\n",
       "      <td>807300</td>\n",
       "      <td>82300</td>\n",
       "      <td>2168152</td>\n",
       "      <td>1018574</td>\n",
       "      <td>1621468800000</td>\n",
       "    </tr>\n",
       "    <tr>\n",
       "      <th>14</th>\n",
       "      <td>Murcia</td>\n",
       "      <td>638774</td>\n",
       "      <td>743685</td>\n",
       "      <td>67500</td>\n",
       "      <td>478085</td>\n",
       "      <td>179800</td>\n",
       "      <td>18300</td>\n",
       "      <td>429379</td>\n",
       "      <td>214026</td>\n",
       "      <td>1621468800000</td>\n",
       "    </tr>\n",
       "    <tr>\n",
       "      <th>15</th>\n",
       "      <td>Navarra</td>\n",
       "      <td>353577</td>\n",
       "      <td>365345</td>\n",
       "      <td>34500</td>\n",
       "      <td>244095</td>\n",
       "      <td>78700</td>\n",
       "      <td>8050</td>\n",
       "      <td>237738</td>\n",
       "      <td>121398</td>\n",
       "      <td>1621468800000</td>\n",
       "    </tr>\n",
       "    <tr>\n",
       "      <th>16</th>\n",
       "      <td>País Vasco</td>\n",
       "      <td>1216832</td>\n",
       "      <td>1298560</td>\n",
       "      <td>121800</td>\n",
       "      <td>885510</td>\n",
       "      <td>264300</td>\n",
       "      <td>26950</td>\n",
       "      <td>849078</td>\n",
       "      <td>382394</td>\n",
       "      <td>1621468800000</td>\n",
       "    </tr>\n",
       "    <tr>\n",
       "      <th>17</th>\n",
       "      <td>Ceuta</td>\n",
       "      <td>33283</td>\n",
       "      <td>35550</td>\n",
       "      <td>3200</td>\n",
       "      <td>20700</td>\n",
       "      <td>10600</td>\n",
       "      <td>1050</td>\n",
       "      <td>25381</td>\n",
       "      <td>8631</td>\n",
       "      <td>1621468800000</td>\n",
       "    </tr>\n",
       "    <tr>\n",
       "      <th>18</th>\n",
       "      <td>Melilla</td>\n",
       "      <td>29595</td>\n",
       "      <td>35450</td>\n",
       "      <td>3100</td>\n",
       "      <td>20700</td>\n",
       "      <td>10600</td>\n",
       "      <td>1050</td>\n",
       "      <td>22354</td>\n",
       "      <td>7713</td>\n",
       "      <td>1621382400000</td>\n",
       "    </tr>\n",
       "  </tbody>\n",
       "</table>\n",
       "</div>"
      ],
      "text/plain": [
       "                  ccaa  dosisAdministradas  dosisEntregadas  \\\n",
       "0            Andalucía             4087772          4270610   \n",
       "1               Aragón              757163           794565   \n",
       "2             Asturias              689279           703635   \n",
       "3             Baleares              471730           525150   \n",
       "4             Canarias              883279          1007870   \n",
       "5            Cantabria              323878           351105   \n",
       "6      Castilla y Leon             1510435          1647075   \n",
       "7   Castilla La Mancha             1073858          1136685   \n",
       "8             Cataluña             3744065          4121100   \n",
       "9        C. Valenciana             2413113          2596380   \n",
       "10         Extremadura              615201           639785   \n",
       "11             Galicia             1705317          1751725   \n",
       "12            La Rioja              174544           186695   \n",
       "13              Madrid             3162722          3445595   \n",
       "14              Murcia              638774           743685   \n",
       "15             Navarra              353577           365345   \n",
       "16          País Vasco             1216832          1298560   \n",
       "17               Ceuta               33283            35550   \n",
       "18             Melilla               29595            35450   \n",
       "\n",
       "    dosisEntregadasModerna  dosisEntregadasPfizer  dosisEntregadasAstrazeneca  \\\n",
       "0                   392000                2768310                     1007500   \n",
       "1                    75900                 544365                      158300   \n",
       "2                    67000                 502835                      121400   \n",
       "3                    47200                 324450                      139300   \n",
       "4                    90700                 631770                      259000   \n",
       "5                    33100                 241755                       69300   \n",
       "6                   159600                1173225                      285100   \n",
       "7                   107800                 761535                      242500   \n",
       "8                   386700                2713850                      926100   \n",
       "9                   239900                1693180                      601900   \n",
       "10                   59800                 440585                      126500   \n",
       "11                  165000                1232125                      321700   \n",
       "12                   17400                 127595                       37800   \n",
       "13                  320200                2235795                      807300   \n",
       "14                   67500                 478085                      179800   \n",
       "15                   34500                 244095                       78700   \n",
       "16                  121800                 885510                      264300   \n",
       "17                    3200                  20700                       10600   \n",
       "18                    3100                  20700                       10600   \n",
       "\n",
       "    dosisEntregadasJanssen  dosisPrimeraDosis  dosisPautaCompletada  \\\n",
       "0                   102800            2804632               1324848   \n",
       "1                    16000             494372                270668   \n",
       "2                    12400             447261                248389   \n",
       "3                    14200             336944                141426   \n",
       "4                    26400             616270                283662   \n",
       "5                     6950             216835                110435   \n",
       "6                    29150             959720                567430   \n",
       "7                    24850             724018                362666   \n",
       "8                    94450            2642992               1135792   \n",
       "9                    61400            1668460                776451   \n",
       "10                   12900             404699                216051   \n",
       "11                   32900            1115803                603245   \n",
       "12                    3900             115235                 61926   \n",
       "13                   82300            2168152               1018574   \n",
       "14                   18300             429379                214026   \n",
       "15                    8050             237738                121398   \n",
       "16                   26950             849078                382394   \n",
       "17                    1050              25381                  8631   \n",
       "18                    1050              22354                  7713   \n",
       "\n",
       "    fechaUltRegistro  \n",
       "0      1621468800000  \n",
       "1      1621468800000  \n",
       "2      1621468800000  \n",
       "3      1621468800000  \n",
       "4      1621468800000  \n",
       "5      1621468800000  \n",
       "6      1621468800000  \n",
       "7      1621468800000  \n",
       "8      1621468800000  \n",
       "9      1621468800000  \n",
       "10     1621468800000  \n",
       "11     1621468800000  \n",
       "12     1621468800000  \n",
       "13     1621468800000  \n",
       "14     1621468800000  \n",
       "15     1621468800000  \n",
       "16     1621468800000  \n",
       "17     1621468800000  \n",
       "18     1621382400000  "
      ]
     },
     "execution_count": 558,
     "metadata": {},
     "output_type": "execute_result"
    }
   ],
   "source": [
    "df_FARMA = pd.DataFrame(dosis)\n",
    "df_FARMA"
   ]
  },
  {
   "cell_type": "code",
   "execution_count": 559,
   "metadata": {},
   "outputs": [
    {
     "data": {
      "text/plain": [
       "(19, 10)"
      ]
     },
     "execution_count": 559,
     "metadata": {},
     "output_type": "execute_result"
    }
   ],
   "source": [
    "df_FARMA.shape"
   ]
  },
  {
   "cell_type": "code",
   "execution_count": 567,
   "metadata": {},
   "outputs": [
    {
     "data": {
      "text/plain": [
       "dosisEntregadasModerna         2392400\n",
       "dosisEntregadasPfizer         17040465\n",
       "dosisEntregadasAstrazeneca     5647700\n",
       "dosisEntregadasJanssen          576000\n",
       "dtype: int64"
      ]
     },
     "execution_count": 567,
     "metadata": {},
     "output_type": "execute_result"
    }
   ],
   "source": [
    "df_FARMA[['dosisEntregadasModerna', 'dosisEntregadasPfizer', 'dosisEntregadasAstrazeneca', 'dosisEntregadasJanssen']].sum()"
   ]
  },
  {
   "cell_type": "code",
   "execution_count": null,
   "metadata": {},
   "outputs": [],
   "source": []
  },
  {
   "cell_type": "code",
   "execution_count": null,
   "metadata": {},
   "outputs": [],
   "source": []
  },
  {
   "cell_type": "code",
   "execution_count": null,
   "metadata": {},
   "outputs": [],
   "source": []
  },
  {
   "cell_type": "code",
   "execution_count": null,
   "metadata": {},
   "outputs": [],
   "source": []
  },
  {
   "cell_type": "code",
   "execution_count": 583,
   "metadata": {},
   "outputs": [
    {
     "data": {
      "text/plain": [
       "[{'ccaa': 'Andalucía',\n",
       "  'dosisPrimeraDosis': 2804632,\n",
       "  'dosisPautaCompletada': 1324848,\n",
       "  'porcentajeEntregadas': 0.9571869124082977,\n",
       "  'porcentajePoblacionAdministradas': 0.4829363791526664,\n",
       "  'porcentajePoblacionPrimeraDosis': 0.33134402381925926,\n",
       "  'porcentajePoblacionCompletas': 0.1565198098249246,\n",
       "  'fechaUltRegistro': 1621468800000}]"
      ]
     },
     "execution_count": 583,
     "metadata": {},
     "output_type": "execute_result"
    }
   ],
   "source": [
    "projec = {'_id': 0, 'ccaa': 1, 'dosisPrimeraDosis': 1, 'dosisPautaCompletada': 1, 'porcentajeEntregadas': 1,\n",
    "          'porcentajePoblacionAdministradas': 1, 'porcentajePoblacionPrimeraDosis': 1, 'porcentajePoblacionCompletas': 1,\n",
    "          'fechaUltRegistro': 1}\n",
    "\n",
    "filte = {'dosisPrimeraDosis': {'$gte': 0}, 'dosisPautaCompletada': {'$gte': 0}, 'porcentajeEntregadas': {'$gte': 0},\n",
    "          'porcentajePoblacionAdministradas': {'$gte': 0}, 'porcentajePoblacionPrimeraDosis': {'$gte': 0}, \n",
    "          'porcentajePoblacionCompletas': {'$gte': 0}, 'fechaUltRegistro': {'$gte': 0}}\n",
    "\n",
    "dos = list(collection.find(filte, projec))\n",
    "dos[:1]"
   ]
  },
  {
   "cell_type": "code",
   "execution_count": 581,
   "metadata": {
    "scrolled": true
   },
   "outputs": [
    {
     "data": {
      "text/html": [
       "<div>\n",
       "<style scoped>\n",
       "    .dataframe tbody tr th:only-of-type {\n",
       "        vertical-align: middle;\n",
       "    }\n",
       "\n",
       "    .dataframe tbody tr th {\n",
       "        vertical-align: top;\n",
       "    }\n",
       "\n",
       "    .dataframe thead th {\n",
       "        text-align: right;\n",
       "    }\n",
       "</style>\n",
       "<table border=\"1\" class=\"dataframe\">\n",
       "  <thead>\n",
       "    <tr style=\"text-align: right;\">\n",
       "      <th></th>\n",
       "      <th>ccaa</th>\n",
       "      <th>dosisPrimeraDosis</th>\n",
       "      <th>dosisPautaCompletada</th>\n",
       "      <th>porcentajeEntregadas</th>\n",
       "      <th>porcentajePoblacionAdministradas</th>\n",
       "      <th>porcentajePoblacionPrimeraDosis</th>\n",
       "      <th>porcentajePoblacionCompletas</th>\n",
       "      <th>fechaUltRegistro</th>\n",
       "    </tr>\n",
       "  </thead>\n",
       "  <tbody>\n",
       "    <tr>\n",
       "      <th>0</th>\n",
       "      <td>Andalucía</td>\n",
       "      <td>2804632</td>\n",
       "      <td>1324848</td>\n",
       "      <td>0.957187</td>\n",
       "      <td>0.482936</td>\n",
       "      <td>0.331344</td>\n",
       "      <td>0.156520</td>\n",
       "      <td>1621468800000</td>\n",
       "    </tr>\n",
       "    <tr>\n",
       "      <th>1</th>\n",
       "      <td>Aragón</td>\n",
       "      <td>494372</td>\n",
       "      <td>270668</td>\n",
       "      <td>0.952928</td>\n",
       "      <td>0.569556</td>\n",
       "      <td>0.371879</td>\n",
       "      <td>0.203603</td>\n",
       "      <td>1621468800000</td>\n",
       "    </tr>\n",
       "    <tr>\n",
       "      <th>2</th>\n",
       "      <td>Asturias</td>\n",
       "      <td>447261</td>\n",
       "      <td>248389</td>\n",
       "      <td>0.979597</td>\n",
       "      <td>0.676570</td>\n",
       "      <td>0.439015</td>\n",
       "      <td>0.243809</td>\n",
       "      <td>1621468800000</td>\n",
       "    </tr>\n",
       "    <tr>\n",
       "      <th>3</th>\n",
       "      <td>Baleares</td>\n",
       "      <td>336944</td>\n",
       "      <td>141426</td>\n",
       "      <td>0.898277</td>\n",
       "      <td>0.402657</td>\n",
       "      <td>0.287607</td>\n",
       "      <td>0.120718</td>\n",
       "      <td>1621468800000</td>\n",
       "    </tr>\n",
       "    <tr>\n",
       "      <th>4</th>\n",
       "      <td>Canarias</td>\n",
       "      <td>616270</td>\n",
       "      <td>283662</td>\n",
       "      <td>0.876382</td>\n",
       "      <td>0.405928</td>\n",
       "      <td>0.283219</td>\n",
       "      <td>0.130362</td>\n",
       "      <td>1621468800000</td>\n",
       "    </tr>\n",
       "    <tr>\n",
       "      <th>5</th>\n",
       "      <td>Cantabria</td>\n",
       "      <td>216835</td>\n",
       "      <td>110435</td>\n",
       "      <td>0.922453</td>\n",
       "      <td>0.555627</td>\n",
       "      <td>0.371990</td>\n",
       "      <td>0.189456</td>\n",
       "      <td>1621468800000</td>\n",
       "    </tr>\n",
       "    <tr>\n",
       "      <th>6</th>\n",
       "      <td>Castilla y Leon</td>\n",
       "      <td>959720</td>\n",
       "      <td>567430</td>\n",
       "      <td>0.917041</td>\n",
       "      <td>0.630683</td>\n",
       "      <td>0.400732</td>\n",
       "      <td>0.236931</td>\n",
       "      <td>1621468800000</td>\n",
       "    </tr>\n",
       "    <tr>\n",
       "      <th>7</th>\n",
       "      <td>Castilla La Mancha</td>\n",
       "      <td>724018</td>\n",
       "      <td>362666</td>\n",
       "      <td>0.944728</td>\n",
       "      <td>0.525057</td>\n",
       "      <td>0.354005</td>\n",
       "      <td>0.177324</td>\n",
       "      <td>1621468800000</td>\n",
       "    </tr>\n",
       "    <tr>\n",
       "      <th>8</th>\n",
       "      <td>Cataluña</td>\n",
       "      <td>2642992</td>\n",
       "      <td>1135792</td>\n",
       "      <td>0.908511</td>\n",
       "      <td>0.481213</td>\n",
       "      <td>0.339695</td>\n",
       "      <td>0.145980</td>\n",
       "      <td>1621468800000</td>\n",
       "    </tr>\n",
       "    <tr>\n",
       "      <th>9</th>\n",
       "      <td>C. Valenciana</td>\n",
       "      <td>1668460</td>\n",
       "      <td>776451</td>\n",
       "      <td>0.929414</td>\n",
       "      <td>0.477149</td>\n",
       "      <td>0.329908</td>\n",
       "      <td>0.153529</td>\n",
       "      <td>1621468800000</td>\n",
       "    </tr>\n",
       "    <tr>\n",
       "      <th>10</th>\n",
       "      <td>Extremadura</td>\n",
       "      <td>404699</td>\n",
       "      <td>216051</td>\n",
       "      <td>0.961575</td>\n",
       "      <td>0.578203</td>\n",
       "      <td>0.380361</td>\n",
       "      <td>0.203058</td>\n",
       "      <td>1621468800000</td>\n",
       "    </tr>\n",
       "    <tr>\n",
       "      <th>11</th>\n",
       "      <td>Galicia</td>\n",
       "      <td>1115803</td>\n",
       "      <td>603245</td>\n",
       "      <td>0.973507</td>\n",
       "      <td>0.631174</td>\n",
       "      <td>0.412982</td>\n",
       "      <td>0.223274</td>\n",
       "      <td>1621468800000</td>\n",
       "    </tr>\n",
       "    <tr>\n",
       "      <th>12</th>\n",
       "      <td>La Rioja</td>\n",
       "      <td>115235</td>\n",
       "      <td>61926</td>\n",
       "      <td>0.934915</td>\n",
       "      <td>0.545597</td>\n",
       "      <td>0.360206</td>\n",
       "      <td>0.193571</td>\n",
       "      <td>1621468800000</td>\n",
       "    </tr>\n",
       "    <tr>\n",
       "      <th>13</th>\n",
       "      <td>Madrid</td>\n",
       "      <td>2168152</td>\n",
       "      <td>1018574</td>\n",
       "      <td>0.917903</td>\n",
       "      <td>0.466486</td>\n",
       "      <td>0.319792</td>\n",
       "      <td>0.150235</td>\n",
       "      <td>1621468800000</td>\n",
       "    </tr>\n",
       "    <tr>\n",
       "      <th>14</th>\n",
       "      <td>Murcia</td>\n",
       "      <td>429379</td>\n",
       "      <td>214026</td>\n",
       "      <td>0.858931</td>\n",
       "      <td>0.422679</td>\n",
       "      <td>0.284122</td>\n",
       "      <td>0.141622</td>\n",
       "      <td>1621468800000</td>\n",
       "    </tr>\n",
       "    <tr>\n",
       "      <th>15</th>\n",
       "      <td>Navarra</td>\n",
       "      <td>237738</td>\n",
       "      <td>121398</td>\n",
       "      <td>0.967789</td>\n",
       "      <td>0.534753</td>\n",
       "      <td>0.359557</td>\n",
       "      <td>0.183603</td>\n",
       "      <td>1621468800000</td>\n",
       "    </tr>\n",
       "    <tr>\n",
       "      <th>16</th>\n",
       "      <td>País Vasco</td>\n",
       "      <td>849078</td>\n",
       "      <td>382394</td>\n",
       "      <td>0.937063</td>\n",
       "      <td>0.547998</td>\n",
       "      <td>0.382381</td>\n",
       "      <td>0.172210</td>\n",
       "      <td>1621468800000</td>\n",
       "    </tr>\n",
       "    <tr>\n",
       "      <th>17</th>\n",
       "      <td>Ceuta</td>\n",
       "      <td>25381</td>\n",
       "      <td>8631</td>\n",
       "      <td>0.936231</td>\n",
       "      <td>0.395276</td>\n",
       "      <td>0.301430</td>\n",
       "      <td>0.102504</td>\n",
       "      <td>1621468800000</td>\n",
       "    </tr>\n",
       "    <tr>\n",
       "      <th>18</th>\n",
       "      <td>Melilla</td>\n",
       "      <td>22354</td>\n",
       "      <td>7713</td>\n",
       "      <td>0.834838</td>\n",
       "      <td>0.339876</td>\n",
       "      <td>0.256718</td>\n",
       "      <td>0.088578</td>\n",
       "      <td>1621382400000</td>\n",
       "    </tr>\n",
       "  </tbody>\n",
       "</table>\n",
       "</div>"
      ],
      "text/plain": [
       "                  ccaa  dosisPrimeraDosis  dosisPautaCompletada  \\\n",
       "0            Andalucía            2804632               1324848   \n",
       "1               Aragón             494372                270668   \n",
       "2             Asturias             447261                248389   \n",
       "3             Baleares             336944                141426   \n",
       "4             Canarias             616270                283662   \n",
       "5            Cantabria             216835                110435   \n",
       "6      Castilla y Leon             959720                567430   \n",
       "7   Castilla La Mancha             724018                362666   \n",
       "8             Cataluña            2642992               1135792   \n",
       "9        C. Valenciana            1668460                776451   \n",
       "10         Extremadura             404699                216051   \n",
       "11             Galicia            1115803                603245   \n",
       "12            La Rioja             115235                 61926   \n",
       "13              Madrid            2168152               1018574   \n",
       "14              Murcia             429379                214026   \n",
       "15             Navarra             237738                121398   \n",
       "16          País Vasco             849078                382394   \n",
       "17               Ceuta              25381                  8631   \n",
       "18             Melilla              22354                  7713   \n",
       "\n",
       "    porcentajeEntregadas  porcentajePoblacionAdministradas  \\\n",
       "0               0.957187                          0.482936   \n",
       "1               0.952928                          0.569556   \n",
       "2               0.979597                          0.676570   \n",
       "3               0.898277                          0.402657   \n",
       "4               0.876382                          0.405928   \n",
       "5               0.922453                          0.555627   \n",
       "6               0.917041                          0.630683   \n",
       "7               0.944728                          0.525057   \n",
       "8               0.908511                          0.481213   \n",
       "9               0.929414                          0.477149   \n",
       "10              0.961575                          0.578203   \n",
       "11              0.973507                          0.631174   \n",
       "12              0.934915                          0.545597   \n",
       "13              0.917903                          0.466486   \n",
       "14              0.858931                          0.422679   \n",
       "15              0.967789                          0.534753   \n",
       "16              0.937063                          0.547998   \n",
       "17              0.936231                          0.395276   \n",
       "18              0.834838                          0.339876   \n",
       "\n",
       "    porcentajePoblacionPrimeraDosis  porcentajePoblacionCompletas  \\\n",
       "0                          0.331344                      0.156520   \n",
       "1                          0.371879                      0.203603   \n",
       "2                          0.439015                      0.243809   \n",
       "3                          0.287607                      0.120718   \n",
       "4                          0.283219                      0.130362   \n",
       "5                          0.371990                      0.189456   \n",
       "6                          0.400732                      0.236931   \n",
       "7                          0.354005                      0.177324   \n",
       "8                          0.339695                      0.145980   \n",
       "9                          0.329908                      0.153529   \n",
       "10                         0.380361                      0.203058   \n",
       "11                         0.412982                      0.223274   \n",
       "12                         0.360206                      0.193571   \n",
       "13                         0.319792                      0.150235   \n",
       "14                         0.284122                      0.141622   \n",
       "15                         0.359557                      0.183603   \n",
       "16                         0.382381                      0.172210   \n",
       "17                         0.301430                      0.102504   \n",
       "18                         0.256718                      0.088578   \n",
       "\n",
       "    fechaUltRegistro  \n",
       "0      1621468800000  \n",
       "1      1621468800000  \n",
       "2      1621468800000  \n",
       "3      1621468800000  \n",
       "4      1621468800000  \n",
       "5      1621468800000  \n",
       "6      1621468800000  \n",
       "7      1621468800000  \n",
       "8      1621468800000  \n",
       "9      1621468800000  \n",
       "10     1621468800000  \n",
       "11     1621468800000  \n",
       "12     1621468800000  \n",
       "13     1621468800000  \n",
       "14     1621468800000  \n",
       "15     1621468800000  \n",
       "16     1621468800000  \n",
       "17     1621468800000  \n",
       "18     1621382400000  "
      ]
     },
     "execution_count": 581,
     "metadata": {},
     "output_type": "execute_result"
    }
   ],
   "source": [
    "df1_DOSIS = pd.DataFrame(dos)\n",
    "df1_DOSIS"
   ]
  },
  {
   "cell_type": "code",
   "execution_count": 94,
   "metadata": {},
   "outputs": [
    {
     "data": {
      "text/plain": [
       "dict_keys(['ccaa', 'etarios'])"
      ]
     },
     "execution_count": 94,
     "metadata": {},
     "output_type": "execute_result"
    }
   ],
   "source": [
    "tres[0].keys()"
   ]
  },
  {
   "cell_type": "code",
   "execution_count": 50,
   "metadata": {},
   "outputs": [
    {
     "data": {
      "text/plain": [
       "{'unaDosis': {'etarioTotal': {'vacunados': 22354,\n",
       "   'personasINE': 66178,\n",
       "   'porcentaje': 0.3377859711686663},\n",
       "  'etarioRangos': [{'rango': {'min': 16, 'max': 17},\n",
       "    'vacunados': 6,\n",
       "    'personasINE': 2324,\n",
       "    'porcentaje': 0.0025817555938037868},\n",
       "   {'rango': {'min': 18, 'max': 24},\n",
       "    'vacunados': 298,\n",
       "    'personasINE': 8536,\n",
       "    'porcentaje': 0.03491096532333646},\n",
       "   {'rango': {'min': 25, 'max': 49},\n",
       "    'vacunados': 4420,\n",
       "    'personasINE': 30095,\n",
       "    'porcentaje': 0.1468682505399568},\n",
       "   {'rango': {'min': 50, 'max': 59},\n",
       "    'vacunados': 7135,\n",
       "    'personasINE': 11299,\n",
       "    'porcentaje': 0.6314718116647491},\n",
       "   {'rango': {'min': 60, 'max': 69},\n",
       "    'vacunados': 5582,\n",
       "    'personasINE': 7827,\n",
       "    'porcentaje': 0.7131723521144755},\n",
       "   {'rango': {'min': 70, 'max': 79},\n",
       "    'vacunados': 3027,\n",
       "    'personasINE': 3748,\n",
       "    'porcentaje': 0.8076307363927427},\n",
       "   {'rango': {'min': 80, 'max': None},\n",
       "    'vacunados': 1886,\n",
       "    'personasINE': 2349,\n",
       "    'porcentaje': 0.8028948488718604}]},\n",
       " 'pautaCompleta': {'etarioTotal': {'vacunados': 7713,\n",
       "   'personasINE': 66178,\n",
       "   'porcentaje': 0.1165493064160295},\n",
       "  'etarioRangos': [{'rango': {'min': 16, 'max': 17},\n",
       "    'vacunados': 6,\n",
       "    'personasINE': 2324,\n",
       "    'porcentaje': 0.0025817555938037868},\n",
       "   {'rango': {'min': 18, 'max': 24},\n",
       "    'vacunados': 88,\n",
       "    'personasINE': 8536,\n",
       "    'porcentaje': 0.010309278350515464},\n",
       "   {'rango': {'min': 25, 'max': 49},\n",
       "    'vacunados': 972,\n",
       "    'personasINE': 30095,\n",
       "    'porcentaje': 0.03229772387439774},\n",
       "   {'rango': {'min': 50, 'max': 59},\n",
       "    'vacunados': 645,\n",
       "    'personasINE': 11299,\n",
       "    'porcentaje': 0.05708469776086379},\n",
       "   {'rango': {'min': 60, 'max': 69},\n",
       "    'vacunados': 1454,\n",
       "    'personasINE': 7827,\n",
       "    'porcentaje': 0.18576721604701674},\n",
       "   {'rango': {'min': 70, 'max': 79},\n",
       "    'vacunados': 2772,\n",
       "    'personasINE': 3748,\n",
       "    'porcentaje': 0.7395944503735326},\n",
       "   {'rango': {'min': 80, 'max': None},\n",
       "    'vacunados': 1776,\n",
       "    'personasINE': 2349,\n",
       "    'porcentaje': 0.756066411238825}]}}"
      ]
     },
     "execution_count": 50,
     "metadata": {},
     "output_type": "execute_result"
    }
   ],
   "source": [
    "list(collection.distinct('etarios'))[0]"
   ]
  },
  {
   "cell_type": "code",
   "execution_count": 56,
   "metadata": {},
   "outputs": [
    {
     "data": {
      "text/plain": [
       "{'rango': {'min': 50, 'max': 59},\n",
       " 'vacunados': 541102,\n",
       " 'personasINE': 1265021,\n",
       " 'porcentaje': 0.4277415157534934}"
      ]
     },
     "execution_count": 56,
     "metadata": {},
     "output_type": "execute_result"
    }
   ],
   "source": [
    "tres[0]['etarios']['unaDosis']['etarioRangos'][3]"
   ]
  },
  {
   "cell_type": "code",
   "execution_count": null,
   "metadata": {},
   "outputs": [],
   "source": [
    "lista = [rang['etarios.unaDosis'] for rang in tres]"
   ]
  },
  {
   "cell_type": "code",
   "execution_count": null,
   "metadata": {},
   "outputs": [],
   "source": [
    "l = [le.get('etarios').get('unaDosis').get('etarioRangos')[0] for le in tres ]"
   ]
  },
  {
   "cell_type": "code",
   "execution_count": null,
   "metadata": {},
   "outputs": [],
   "source": []
  },
  {
   "cell_type": "code",
   "execution_count": null,
   "metadata": {},
   "outputs": [],
   "source": [
    "#List Comprhensions\n",
    "unaDosis_vacunados_total_COL = [vacuna.get('unaDosis').get('etarioTotal') for vacuna in d]\n",
    "pautaCompleta_vacunados_total_COL = [vacuna['pautaCompleta']['etarioTotal'] if vacuna!= 0 else 0 for vacuna in d]"
   ]
  },
  {
   "cell_type": "code",
   "execution_count": null,
   "metadata": {},
   "outputs": [],
   "source": [
    "#Variables en las que voy guardando los valores del dict de 'etarios'\n",
    "unaDosis_vacunados_total\n",
    "pautaCompleta_vacunados_total_COL"
   ]
  },
  {
   "cell_type": "markdown",
   "metadata": {},
   "source": [
    "# ETARIOS"
   ]
  },
  {
   "cell_type": "markdown",
   "metadata": {},
   "source": [
    "## UNA DOSIS"
   ]
  },
  {
   "cell_type": "markdown",
   "metadata": {},
   "source": [
    "**ETARIO TOTAL  ->  VACUNADOS**"
   ]
  },
  {
   "cell_type": "markdown",
   "metadata": {},
   "source": [
    "`unaDosis_vacunados_total_COL`,   `unaDosis_vacunados_total_INE_COL`,    `unaDosis_vacunados_total_porcentaje_COL`"
   ]
  },
  {
   "cell_type": "code",
   "execution_count": 209,
   "metadata": {
    "scrolled": true
   },
   "outputs": [
    {
     "data": {
      "text/plain": [
       "{'ccaa': 'Andalucía',\n",
       " 'etarios': {'unaDosis': {'etarioTotal': {'vacunados': 2804632}}}}"
      ]
     },
     "execution_count": 209,
     "metadata": {},
     "output_type": "execute_result"
    }
   ],
   "source": [
    "projection = {'_id':0, 'ccaa':1,'etarios.unaDosis.etarioTotal.vacunados': 1} # UNA DOSIS - VACUNADOS TOTAL\n",
    "unaDosis_vacunados_total = list(collection.find(filtro, projection))\n",
    "unaDosis_vacunados_total[0]"
   ]
  },
  {
   "cell_type": "code",
   "execution_count": 213,
   "metadata": {},
   "outputs": [
    {
     "data": {
      "text/html": [
       "<div>\n",
       "<style scoped>\n",
       "    .dataframe tbody tr th:only-of-type {\n",
       "        vertical-align: middle;\n",
       "    }\n",
       "\n",
       "    .dataframe tbody tr th {\n",
       "        vertical-align: top;\n",
       "    }\n",
       "\n",
       "    .dataframe thead th {\n",
       "        text-align: right;\n",
       "    }\n",
       "</style>\n",
       "<table border=\"1\" class=\"dataframe\">\n",
       "  <thead>\n",
       "    <tr style=\"text-align: right;\">\n",
       "      <th></th>\n",
       "      <th>ccaa</th>\n",
       "      <th>etarios</th>\n",
       "    </tr>\n",
       "  </thead>\n",
       "  <tbody>\n",
       "    <tr>\n",
       "      <th>0</th>\n",
       "      <td>Andalucía</td>\n",
       "      <td>{'unaDosis': {'etarioTotal': {'vacunados': 280...</td>\n",
       "    </tr>\n",
       "    <tr>\n",
       "      <th>1</th>\n",
       "      <td>Aragón</td>\n",
       "      <td>{'unaDosis': {'etarioTotal': {'vacunados': 494...</td>\n",
       "    </tr>\n",
       "    <tr>\n",
       "      <th>2</th>\n",
       "      <td>Asturias</td>\n",
       "      <td>{'unaDosis': {'etarioTotal': {'vacunados': 447...</td>\n",
       "    </tr>\n",
       "  </tbody>\n",
       "</table>\n",
       "</div>"
      ],
      "text/plain": [
       "        ccaa                                            etarios\n",
       "0  Andalucía  {'unaDosis': {'etarioTotal': {'vacunados': 280...\n",
       "1     Aragón  {'unaDosis': {'etarioTotal': {'vacunados': 494...\n",
       "2   Asturias  {'unaDosis': {'etarioTotal': {'vacunados': 447..."
      ]
     },
     "execution_count": 213,
     "metadata": {},
     "output_type": "execute_result"
    }
   ],
   "source": [
    "df2 = pd.DataFrame(unaDosis_vacunados_total) \n",
    "df2.head(3)"
   ]
  },
  {
   "cell_type": "code",
   "execution_count": 215,
   "metadata": {},
   "outputs": [
    {
     "data": {
      "text/plain": [
       "{'unaDosis': {'etarioTotal': {'vacunados': 2804632}}}"
      ]
     },
     "execution_count": 215,
     "metadata": {},
     "output_type": "execute_result"
    }
   ],
   "source": [
    "a = list(df2.etarios)\n",
    "a[0]"
   ]
  },
  {
   "cell_type": "code",
   "execution_count": 414,
   "metadata": {},
   "outputs": [
    {
     "data": {
      "text/plain": [
       "[2804632, 494372]"
      ]
     },
     "execution_count": 414,
     "metadata": {},
     "output_type": "execute_result"
    }
   ],
   "source": [
    "unaDosis_vacunados_total_COL = [vacuna.get('unaDosis').get('etarioTotal').get('vacunados') for vacuna in a]\n",
    "unaDosis_vacunados_total_COL[:2]"
   ]
  },
  {
   "cell_type": "markdown",
   "metadata": {},
   "source": [
    "**ETARIO TOTAL  ->  INE**"
   ]
  },
  {
   "cell_type": "code",
   "execution_count": 241,
   "metadata": {
    "scrolled": true
   },
   "outputs": [
    {
     "data": {
      "text/plain": [
       "{'ccaa': 'Andalucía',\n",
       " 'etarios': {'unaDosis': {'etarioTotal': {'personasINE': 7062213}}}}"
      ]
     },
     "execution_count": 241,
     "metadata": {},
     "output_type": "execute_result"
    }
   ],
   "source": [
    "projection = {'_id':0, 'ccaa':1,'etarios.unaDosis.etarioTotal.personasINE': 1} # UNA DOSIS - personas INE\n",
    "unaDosis_vacunados_total_INE = list(collection.find(filtro, projection))\n",
    "unaDosis_vacunados_total_INE[0]"
   ]
  },
  {
   "cell_type": "code",
   "execution_count": 244,
   "metadata": {},
   "outputs": [
    {
     "data": {
      "text/html": [
       "<div>\n",
       "<style scoped>\n",
       "    .dataframe tbody tr th:only-of-type {\n",
       "        vertical-align: middle;\n",
       "    }\n",
       "\n",
       "    .dataframe tbody tr th {\n",
       "        vertical-align: top;\n",
       "    }\n",
       "\n",
       "    .dataframe thead th {\n",
       "        text-align: right;\n",
       "    }\n",
       "</style>\n",
       "<table border=\"1\" class=\"dataframe\">\n",
       "  <thead>\n",
       "    <tr style=\"text-align: right;\">\n",
       "      <th></th>\n",
       "      <th>ccaa</th>\n",
       "      <th>etarios</th>\n",
       "    </tr>\n",
       "  </thead>\n",
       "  <tbody>\n",
       "    <tr>\n",
       "      <th>0</th>\n",
       "      <td>Andalucía</td>\n",
       "      <td>{'unaDosis': {'etarioTotal': {'personasINE': 7...</td>\n",
       "    </tr>\n",
       "    <tr>\n",
       "      <th>1</th>\n",
       "      <td>Aragón</td>\n",
       "      <td>{'unaDosis': {'etarioTotal': {'personasINE': 1...</td>\n",
       "    </tr>\n",
       "    <tr>\n",
       "      <th>2</th>\n",
       "      <td>Asturias</td>\n",
       "      <td>{'unaDosis': {'etarioTotal': {'personasINE': 9...</td>\n",
       "    </tr>\n",
       "  </tbody>\n",
       "</table>\n",
       "</div>"
      ],
      "text/plain": [
       "        ccaa                                            etarios\n",
       "0  Andalucía  {'unaDosis': {'etarioTotal': {'personasINE': 7...\n",
       "1     Aragón  {'unaDosis': {'etarioTotal': {'personasINE': 1...\n",
       "2   Asturias  {'unaDosis': {'etarioTotal': {'personasINE': 9..."
      ]
     },
     "execution_count": 244,
     "metadata": {},
     "output_type": "execute_result"
    }
   ],
   "source": [
    "df4 = pd.DataFrame(unaDosis_vacunados_total_INE) \n",
    "df4.head(3)"
   ]
  },
  {
   "cell_type": "code",
   "execution_count": 245,
   "metadata": {},
   "outputs": [
    {
     "data": {
      "text/plain": [
       "{'unaDosis': {'etarioTotal': {'personasINE': 7062213}}}"
      ]
     },
     "execution_count": 245,
     "metadata": {},
     "output_type": "execute_result"
    }
   ],
   "source": [
    "c = list(df4.etarios)\n",
    "c[0]"
   ]
  },
  {
   "cell_type": "code",
   "execution_count": 415,
   "metadata": {
    "scrolled": true
   },
   "outputs": [
    {
     "data": {
      "text/plain": [
       "[7062213, 1132764]"
      ]
     },
     "execution_count": 415,
     "metadata": {},
     "output_type": "execute_result"
    }
   ],
   "source": [
    "unaDosis_vacunados_total_INE_COL = [vacuna.get('unaDosis').get('etarioTotal').get('personasINE') for vacuna in c]\n",
    "unaDosis_vacunados_total_INE_COL[:2]"
   ]
  },
  {
   "cell_type": "markdown",
   "metadata": {},
   "source": [
    "**ETARIO TOTAL  ->  %**"
   ]
  },
  {
   "cell_type": "code",
   "execution_count": 251,
   "metadata": {
    "scrolled": true
   },
   "outputs": [
    {
     "data": {
      "text/plain": [
       "{'ccaa': 'Andalucía',\n",
       " 'etarios': {'unaDosis': {'etarioTotal': {'porcentaje': 0.3971321737251482}}}}"
      ]
     },
     "execution_count": 251,
     "metadata": {},
     "output_type": "execute_result"
    }
   ],
   "source": [
    "projection = {'_id':0, 'ccaa':1,'etarios.unaDosis.etarioTotal.porcentaje': 1} # UNA DOSIS - VACUNADOS TOTAL\n",
    "unaDosis_vacunados_total_Porcentaje = list(collection.find(filtro, projection))\n",
    "unaDosis_vacunados_total_Porcentaje[0]"
   ]
  },
  {
   "cell_type": "code",
   "execution_count": 253,
   "metadata": {},
   "outputs": [
    {
     "data": {
      "text/html": [
       "<div>\n",
       "<style scoped>\n",
       "    .dataframe tbody tr th:only-of-type {\n",
       "        vertical-align: middle;\n",
       "    }\n",
       "\n",
       "    .dataframe tbody tr th {\n",
       "        vertical-align: top;\n",
       "    }\n",
       "\n",
       "    .dataframe thead th {\n",
       "        text-align: right;\n",
       "    }\n",
       "</style>\n",
       "<table border=\"1\" class=\"dataframe\">\n",
       "  <thead>\n",
       "    <tr style=\"text-align: right;\">\n",
       "      <th></th>\n",
       "      <th>ccaa</th>\n",
       "      <th>etarios</th>\n",
       "    </tr>\n",
       "  </thead>\n",
       "  <tbody>\n",
       "    <tr>\n",
       "      <th>0</th>\n",
       "      <td>Andalucía</td>\n",
       "      <td>{'unaDosis': {'etarioTotal': {'porcentaje': 0....</td>\n",
       "    </tr>\n",
       "    <tr>\n",
       "      <th>1</th>\n",
       "      <td>Aragón</td>\n",
       "      <td>{'unaDosis': {'etarioTotal': {'porcentaje': 0....</td>\n",
       "    </tr>\n",
       "    <tr>\n",
       "      <th>2</th>\n",
       "      <td>Asturias</td>\n",
       "      <td>{'unaDosis': {'etarioTotal': {'porcentaje': 0....</td>\n",
       "    </tr>\n",
       "  </tbody>\n",
       "</table>\n",
       "</div>"
      ],
      "text/plain": [
       "        ccaa                                            etarios\n",
       "0  Andalucía  {'unaDosis': {'etarioTotal': {'porcentaje': 0....\n",
       "1     Aragón  {'unaDosis': {'etarioTotal': {'porcentaje': 0....\n",
       "2   Asturias  {'unaDosis': {'etarioTotal': {'porcentaje': 0...."
      ]
     },
     "execution_count": 253,
     "metadata": {},
     "output_type": "execute_result"
    }
   ],
   "source": [
    "df5 = pd.DataFrame(unaDosis_vacunados_total_Porcentaje) \n",
    "df5.head(3)"
   ]
  },
  {
   "cell_type": "code",
   "execution_count": 362,
   "metadata": {},
   "outputs": [
    {
     "data": {
      "text/plain": [
       "{'unaDosis': {'etarioTotal': {'porcentaje': 0.3971321737251482}}}"
      ]
     },
     "execution_count": 362,
     "metadata": {},
     "output_type": "execute_result"
    }
   ],
   "source": [
    "d = list(df5.etarios)\n",
    "d[0]"
   ]
  },
  {
   "cell_type": "code",
   "execution_count": 416,
   "metadata": {
    "scrolled": true
   },
   "outputs": [
    {
     "data": {
      "text/plain": [
       "[0.3971321737251482, 0.4364298300440339]"
      ]
     },
     "execution_count": 416,
     "metadata": {},
     "output_type": "execute_result"
    }
   ],
   "source": [
    "unaDosis_vacunados_total_porcentaje_COL = [vacuna.get('unaDosis').get('etarioTotal').get('porcentaje') for vacuna in d]\n",
    "unaDosis_vacunados_total_porcentaje_COL[:2]"
   ]
  },
  {
   "cell_type": "code",
   "execution_count": null,
   "metadata": {},
   "outputs": [],
   "source": []
  },
  {
   "cell_type": "code",
   "execution_count": null,
   "metadata": {},
   "outputs": [],
   "source": []
  },
  {
   "cell_type": "code",
   "execution_count": null,
   "metadata": {},
   "outputs": [],
   "source": []
  },
  {
   "cell_type": "markdown",
   "metadata": {},
   "source": [
    "## UNA DOSIS etarios RANGOS"
   ]
  },
  {
   "cell_type": "markdown",
   "metadata": {},
   "source": [
    "**RANGO de Edades - VACUNADOS**"
   ]
  },
  {
   "cell_type": "code",
   "execution_count": 447,
   "metadata": {
    "scrolled": true
   },
   "outputs": [
    {
     "data": {
      "text/plain": [
       "{'ccaa': 'Andalucía',\n",
       " 'etarios': {'unaDosis': {'etarioRangos': [{'vacunados': 479},\n",
       "    {'vacunados': 35248},\n",
       "    {'vacunados': 371210},\n",
       "    {'vacunados': 541102},\n",
       "    {'vacunados': 793166},\n",
       "    {'vacunados': 634625},\n",
       "    {'vacunados': 428802}]}}}"
      ]
     },
     "execution_count": 447,
     "metadata": {},
     "output_type": "execute_result"
    }
   ],
   "source": [
    "projection = {'_id':0, 'ccaa':1,'etarios.unaDosis.etarioRangos.vacunados': 1} # UNA DOSIS - VACUNADOS TOTAL\n",
    "unaDosis_vacunados_RANGOS_VACUNADOS = list(collection.find(filtro, projection))\n",
    "unaDosis_vacunados_RANGOS_VACUNADOS[0]"
   ]
  },
  {
   "cell_type": "code",
   "execution_count": 448,
   "metadata": {},
   "outputs": [
    {
     "data": {
      "text/html": [
       "<div>\n",
       "<style scoped>\n",
       "    .dataframe tbody tr th:only-of-type {\n",
       "        vertical-align: middle;\n",
       "    }\n",
       "\n",
       "    .dataframe tbody tr th {\n",
       "        vertical-align: top;\n",
       "    }\n",
       "\n",
       "    .dataframe thead th {\n",
       "        text-align: right;\n",
       "    }\n",
       "</style>\n",
       "<table border=\"1\" class=\"dataframe\">\n",
       "  <thead>\n",
       "    <tr style=\"text-align: right;\">\n",
       "      <th></th>\n",
       "      <th>ccaa</th>\n",
       "      <th>etarios</th>\n",
       "    </tr>\n",
       "  </thead>\n",
       "  <tbody>\n",
       "    <tr>\n",
       "      <th>0</th>\n",
       "      <td>Andalucía</td>\n",
       "      <td>{'unaDosis': {'etarioRangos': [{'vacunados': 4...</td>\n",
       "    </tr>\n",
       "  </tbody>\n",
       "</table>\n",
       "</div>"
      ],
      "text/plain": [
       "        ccaa                                            etarios\n",
       "0  Andalucía  {'unaDosis': {'etarioRangos': [{'vacunados': 4..."
      ]
     },
     "execution_count": 448,
     "metadata": {},
     "output_type": "execute_result"
    }
   ],
   "source": [
    "df6 = pd.DataFrame(unaDosis_vacunados_RANGOS_VACUNADOS) \n",
    "df6.head(1)"
   ]
  },
  {
   "cell_type": "code",
   "execution_count": 449,
   "metadata": {},
   "outputs": [
    {
     "data": {
      "text/plain": [
       "{'unaDosis': {'etarioRangos': [{'vacunados': 479},\n",
       "   {'vacunados': 35248},\n",
       "   {'vacunados': 371210},\n",
       "   {'vacunados': 541102},\n",
       "   {'vacunados': 793166},\n",
       "   {'vacunados': 634625},\n",
       "   {'vacunados': 428802}]}}"
      ]
     },
     "execution_count": 449,
     "metadata": {},
     "output_type": "execute_result"
    }
   ],
   "source": [
    "e = list(df6.etarios)\n",
    "e[0]"
   ]
  },
  {
   "cell_type": "code",
   "execution_count": 450,
   "metadata": {},
   "outputs": [
    {
     "data": {
      "text/plain": [
       "{'vacunados': 479}"
      ]
     },
     "execution_count": 450,
     "metadata": {},
     "output_type": "execute_result"
    }
   ],
   "source": [
    "e[0]['unaDosis']['etarioRangos'][0]   #16-17"
   ]
  },
  {
   "cell_type": "code",
   "execution_count": 451,
   "metadata": {},
   "outputs": [
    {
     "data": {
      "text/plain": [
       "{'vacunados': 35248}"
      ]
     },
     "execution_count": 451,
     "metadata": {},
     "output_type": "execute_result"
    }
   ],
   "source": [
    "e[0]['unaDosis']['etarioRangos'][1]   #18-24"
   ]
  },
  {
   "cell_type": "markdown",
   "metadata": {},
   "source": [
    "**RANGO de Edades - INE**"
   ]
  },
  {
   "cell_type": "code",
   "execution_count": 452,
   "metadata": {
    "scrolled": true
   },
   "outputs": [
    {
     "data": {
      "text/plain": [
       "{'ccaa': 'Andalucía',\n",
       " 'etarios': {'unaDosis': {'etarioRangos': [{'personasINE': 181921},\n",
       "    {'personasINE': 625846},\n",
       "    {'personasINE': 3009381},\n",
       "    {'personasINE': 1265021},\n",
       "    {'personasINE': 916147},\n",
       "    {'personasINE': 650381},\n",
       "    {'personasINE': 413516}]}}}"
      ]
     },
     "execution_count": 452,
     "metadata": {},
     "output_type": "execute_result"
    }
   ],
   "source": [
    "projection = {'_id':0, 'ccaa':1,'etarios.unaDosis.etarioRangos.personasINE': 1} # UNA DOSIS - VACUNADOS TOTAL\n",
    "unaDosis_vacunados_RANGOS_INE = list(collection.find(filtro, projection))\n",
    "unaDosis_vacunados_RANGOS_INE[0]"
   ]
  },
  {
   "cell_type": "code",
   "execution_count": 453,
   "metadata": {},
   "outputs": [
    {
     "data": {
      "text/html": [
       "<div>\n",
       "<style scoped>\n",
       "    .dataframe tbody tr th:only-of-type {\n",
       "        vertical-align: middle;\n",
       "    }\n",
       "\n",
       "    .dataframe tbody tr th {\n",
       "        vertical-align: top;\n",
       "    }\n",
       "\n",
       "    .dataframe thead th {\n",
       "        text-align: right;\n",
       "    }\n",
       "</style>\n",
       "<table border=\"1\" class=\"dataframe\">\n",
       "  <thead>\n",
       "    <tr style=\"text-align: right;\">\n",
       "      <th></th>\n",
       "      <th>ccaa</th>\n",
       "      <th>etarios</th>\n",
       "    </tr>\n",
       "  </thead>\n",
       "  <tbody>\n",
       "    <tr>\n",
       "      <th>0</th>\n",
       "      <td>Andalucía</td>\n",
       "      <td>{'unaDosis': {'etarioRangos': [{'personasINE':...</td>\n",
       "    </tr>\n",
       "  </tbody>\n",
       "</table>\n",
       "</div>"
      ],
      "text/plain": [
       "        ccaa                                            etarios\n",
       "0  Andalucía  {'unaDosis': {'etarioRangos': [{'personasINE':..."
      ]
     },
     "execution_count": 453,
     "metadata": {},
     "output_type": "execute_result"
    }
   ],
   "source": [
    "df66 = pd.DataFrame(unaDosis_vacunados_RANGOS_INE) \n",
    "df66.head(1)"
   ]
  },
  {
   "cell_type": "code",
   "execution_count": 454,
   "metadata": {},
   "outputs": [
    {
     "data": {
      "text/plain": [
       "{'unaDosis': {'etarioRangos': [{'personasINE': 181921},\n",
       "   {'personasINE': 625846},\n",
       "   {'personasINE': 3009381},\n",
       "   {'personasINE': 1265021},\n",
       "   {'personasINE': 916147},\n",
       "   {'personasINE': 650381},\n",
       "   {'personasINE': 413516}]}}"
      ]
     },
     "execution_count": 454,
     "metadata": {},
     "output_type": "execute_result"
    }
   ],
   "source": [
    "ee = list(df66.etarios)\n",
    "ee[0]"
   ]
  },
  {
   "cell_type": "code",
   "execution_count": 457,
   "metadata": {},
   "outputs": [
    {
     "data": {
      "text/plain": [
       "{'personasINE': 181921}"
      ]
     },
     "execution_count": 457,
     "metadata": {},
     "output_type": "execute_result"
    }
   ],
   "source": [
    "ee[0]['unaDosis']['etarioRangos'][0]   #16-17"
   ]
  },
  {
   "cell_type": "code",
   "execution_count": 458,
   "metadata": {},
   "outputs": [
    {
     "data": {
      "text/plain": [
       "{'personasINE': 625846}"
      ]
     },
     "execution_count": 458,
     "metadata": {},
     "output_type": "execute_result"
    }
   ],
   "source": [
    "ee[0]['unaDosis']['etarioRangos'][1]   #18-24"
   ]
  },
  {
   "cell_type": "markdown",
   "metadata": {},
   "source": [
    "**RANGO de Edades - %**"
   ]
  },
  {
   "cell_type": "code",
   "execution_count": 460,
   "metadata": {
    "scrolled": true
   },
   "outputs": [
    {
     "data": {
      "text/plain": [
       "{'ccaa': 'Andalucía',\n",
       " 'etarios': {'unaDosis': {'etarioRangos': [{'porcentaje': 0.0026330110322612564},\n",
       "    {'porcentaje': 0.05632056448391457},\n",
       "    {'porcentaje': 0.12335094825148428},\n",
       "    {'porcentaje': 0.4277415157534934},\n",
       "    {'porcentaje': 0.8657628088068836},\n",
       "    {'porcentaje': 0.9757742000458193},\n",
       "    {'porcentaje': 1}]}}}"
      ]
     },
     "execution_count": 460,
     "metadata": {},
     "output_type": "execute_result"
    }
   ],
   "source": [
    "projection = {'_id':0, 'ccaa':1,'etarios.unaDosis.etarioRangos.porcentaje': 1}\n",
    "unaDosis_vacunados_RANGOS_PORCEN = list(collection.find(filtro, projection))\n",
    "unaDosis_vacunados_RANGOS_PORCEN[0]"
   ]
  },
  {
   "cell_type": "code",
   "execution_count": 461,
   "metadata": {},
   "outputs": [
    {
     "data": {
      "text/html": [
       "<div>\n",
       "<style scoped>\n",
       "    .dataframe tbody tr th:only-of-type {\n",
       "        vertical-align: middle;\n",
       "    }\n",
       "\n",
       "    .dataframe tbody tr th {\n",
       "        vertical-align: top;\n",
       "    }\n",
       "\n",
       "    .dataframe thead th {\n",
       "        text-align: right;\n",
       "    }\n",
       "</style>\n",
       "<table border=\"1\" class=\"dataframe\">\n",
       "  <thead>\n",
       "    <tr style=\"text-align: right;\">\n",
       "      <th></th>\n",
       "      <th>ccaa</th>\n",
       "      <th>etarios</th>\n",
       "    </tr>\n",
       "  </thead>\n",
       "  <tbody>\n",
       "    <tr>\n",
       "      <th>0</th>\n",
       "      <td>Andalucía</td>\n",
       "      <td>{'unaDosis': {'etarioRangos': [{'porcentaje': ...</td>\n",
       "    </tr>\n",
       "  </tbody>\n",
       "</table>\n",
       "</div>"
      ],
      "text/plain": [
       "        ccaa                                            etarios\n",
       "0  Andalucía  {'unaDosis': {'etarioRangos': [{'porcentaje': ..."
      ]
     },
     "execution_count": 461,
     "metadata": {},
     "output_type": "execute_result"
    }
   ],
   "source": [
    "df666 = pd.DataFrame(unaDosis_vacunados_RANGOS_PORCEN) \n",
    "df666.head(1)"
   ]
  },
  {
   "cell_type": "code",
   "execution_count": 462,
   "metadata": {},
   "outputs": [
    {
     "data": {
      "text/plain": [
       "{'unaDosis': {'etarioRangos': [{'porcentaje': 0.0026330110322612564},\n",
       "   {'porcentaje': 0.05632056448391457},\n",
       "   {'porcentaje': 0.12335094825148428},\n",
       "   {'porcentaje': 0.4277415157534934},\n",
       "   {'porcentaje': 0.8657628088068836},\n",
       "   {'porcentaje': 0.9757742000458193},\n",
       "   {'porcentaje': 1}]}}"
      ]
     },
     "execution_count": 462,
     "metadata": {},
     "output_type": "execute_result"
    }
   ],
   "source": [
    "eee = list(df666.etarios)\n",
    "eee[0]"
   ]
  },
  {
   "cell_type": "code",
   "execution_count": 463,
   "metadata": {},
   "outputs": [
    {
     "data": {
      "text/plain": [
       "{'porcentaje': 0.0026330110322612564}"
      ]
     },
     "execution_count": 463,
     "metadata": {},
     "output_type": "execute_result"
    }
   ],
   "source": [
    "eee[0]['unaDosis']['etarioRangos'][0]   #16-17"
   ]
  },
  {
   "cell_type": "code",
   "execution_count": 464,
   "metadata": {},
   "outputs": [
    {
     "data": {
      "text/plain": [
       "{'porcentaje': 0.05632056448391457}"
      ]
     },
     "execution_count": 464,
     "metadata": {},
     "output_type": "execute_result"
    }
   ],
   "source": [
    "eee[0]['unaDosis']['etarioRangos'][1]   #18-24"
   ]
  },
  {
   "cell_type": "markdown",
   "metadata": {},
   "source": [
    "**16-17**"
   ]
  },
  {
   "cell_type": "code",
   "execution_count": 471,
   "metadata": {
    "scrolled": true
   },
   "outputs": [
    {
     "data": {
      "text/plain": [
       "[479, 54, 41]"
      ]
     },
     "execution_count": 471,
     "metadata": {},
     "output_type": "execute_result"
    }
   ],
   "source": [
    "unaDosis_vacunados_RANGOS_16_17_VACUNA = [vacuna.get('unaDosis').get('etarioRangos')[0].get('vacunados') for vacuna in e]\n",
    "unaDosis_vacunados_RANGOS_16_17_VACUNA[:3]"
   ]
  },
  {
   "cell_type": "code",
   "execution_count": 473,
   "metadata": {
    "scrolled": true
   },
   "outputs": [
    {
     "data": {
      "text/plain": [
       "[181921, 25106, 15563]"
      ]
     },
     "execution_count": 473,
     "metadata": {},
     "output_type": "execute_result"
    }
   ],
   "source": [
    "unaDosis_vacunados_RANGOS_16_17_INE = [vacuna.get('unaDosis').get('etarioRangos')[0].get('personasINE') for vacuna in ee]\n",
    "unaDosis_vacunados_RANGOS_16_17_INE[:3]"
   ]
  },
  {
   "cell_type": "code",
   "execution_count": 474,
   "metadata": {
    "scrolled": true
   },
   "outputs": [
    {
     "data": {
      "text/plain": [
       "[0.0026330110322612564, 0.0021508802676651, 0.002634453511533766]"
      ]
     },
     "execution_count": 474,
     "metadata": {},
     "output_type": "execute_result"
    }
   ],
   "source": [
    "unaDosis_vacunados_RANGOS_16_17_PORCEN = [vacuna.get('unaDosis').get('etarioRangos')[0].get('porcentaje') for vacuna in eee]\n",
    "unaDosis_vacunados_RANGOS_16_17_PORCEN[:3]"
   ]
  },
  {
   "cell_type": "markdown",
   "metadata": {},
   "source": [
    "**18-24**"
   ]
  },
  {
   "cell_type": "code",
   "execution_count": 475,
   "metadata": {},
   "outputs": [
    {
     "data": {
      "text/plain": [
       "[35248, 6492, 4488]"
      ]
     },
     "execution_count": 475,
     "metadata": {},
     "output_type": "execute_result"
    }
   ],
   "source": [
    "unaDosis_vacunados_RANGOS_18_24_VACUNA = [vacuna.get('unaDosis').get('etarioRangos')[1].get('vacunados') for vacuna in e]\n",
    "unaDosis_vacunados_RANGOS_18_24_VACUNA[:3]"
   ]
  },
  {
   "cell_type": "code",
   "execution_count": 476,
   "metadata": {},
   "outputs": [
    {
     "data": {
      "text/plain": [
       "[625846, 89180, 54179]"
      ]
     },
     "execution_count": 476,
     "metadata": {},
     "output_type": "execute_result"
    }
   ],
   "source": [
    "unaDosis_vacunados_RANGOS_18_24_INE = [vacuna.get('unaDosis').get('etarioRangos')[1].get('personasINE') for vacuna in ee]\n",
    "unaDosis_vacunados_RANGOS_18_24_INE[:3]"
   ]
  },
  {
   "cell_type": "code",
   "execution_count": 477,
   "metadata": {},
   "outputs": [
    {
     "data": {
      "text/plain": [
       "[0.05632056448391457, 0.0727965911639381, 0.08283652337621587]"
      ]
     },
     "execution_count": 477,
     "metadata": {},
     "output_type": "execute_result"
    }
   ],
   "source": [
    "unaDosis_vacunados_RANGOS_18_24_PORCEN = [vacuna.get('unaDosis').get('etarioRangos')[1].get('porcentaje') for vacuna in eee]\n",
    "unaDosis_vacunados_RANGOS_18_24_PORCEN[:3]"
   ]
  },
  {
   "cell_type": "markdown",
   "metadata": {},
   "source": [
    "**25-49**"
   ]
  },
  {
   "cell_type": "code",
   "execution_count": 481,
   "metadata": {},
   "outputs": [
    {
     "data": {
      "text/plain": [
       "[371210, 59129, 44321]"
      ]
     },
     "execution_count": 481,
     "metadata": {},
     "output_type": "execute_result"
    }
   ],
   "source": [
    "unaDosis_vacunados_RANGOS_25_49_VACUNA = [vacuna.get('unaDosis').get('etarioRangos')[2].get('vacunados') for vacuna in e]\n",
    "unaDosis_vacunados_RANGOS_25_49_VACUNA[:3]"
   ]
  },
  {
   "cell_type": "code",
   "execution_count": 482,
   "metadata": {},
   "outputs": [
    {
     "data": {
      "text/plain": [
       "[3009381, 446083, 322095]"
      ]
     },
     "execution_count": 482,
     "metadata": {},
     "output_type": "execute_result"
    }
   ],
   "source": [
    "unaDosis_vacunados_RANGOS_25_49_INE = [vacuna.get('unaDosis').get('etarioRangos')[2].get('personasINE') for vacuna in ee]\n",
    "unaDosis_vacunados_RANGOS_25_49_INE[:3]"
   ]
  },
  {
   "cell_type": "code",
   "execution_count": 483,
   "metadata": {},
   "outputs": [
    {
     "data": {
      "text/plain": [
       "[0.12335094825148428, 0.1325515655158345, 0.13760226020273522]"
      ]
     },
     "execution_count": 483,
     "metadata": {},
     "output_type": "execute_result"
    }
   ],
   "source": [
    "unaDosis_vacunados_RANGOS_25_49_PORCEN = [vacuna.get('unaDosis').get('etarioRangos')[2].get('porcentaje') for vacuna in eee]\n",
    "unaDosis_vacunados_RANGOS_25_49_PORCEN[:3]"
   ]
  },
  {
   "cell_type": "markdown",
   "metadata": {},
   "source": [
    "**50-59**"
   ]
  },
  {
   "cell_type": "code",
   "execution_count": 484,
   "metadata": {},
   "outputs": [
    {
     "data": {
      "text/plain": [
       "[541102, 74695, 66311]"
      ]
     },
     "execution_count": 484,
     "metadata": {},
     "output_type": "execute_result"
    }
   ],
   "source": [
    "unaDosis_vacunados_RANGOS_50_59_VACUNA = [vacuna.get('unaDosis').get('etarioRangos')[3].get('vacunados') for vacuna in e]\n",
    "unaDosis_vacunados_RANGOS_50_59_VACUNA[:3]"
   ]
  },
  {
   "cell_type": "code",
   "execution_count": 485,
   "metadata": {},
   "outputs": [
    {
     "data": {
      "text/plain": [
       "[1265021, 198266, 162645]"
      ]
     },
     "execution_count": 485,
     "metadata": {},
     "output_type": "execute_result"
    }
   ],
   "source": [
    "unaDosis_vacunados_RANGOS_50_59_INE = [vacuna.get('unaDosis').get('etarioRangos')[3].get('personasINE') for vacuna in ee]\n",
    "unaDosis_vacunados_RANGOS_50_59_INE[:3]"
   ]
  },
  {
   "cell_type": "code",
   "execution_count": 486,
   "metadata": {},
   "outputs": [
    {
     "data": {
      "text/plain": [
       "[0.4277415157534934, 0.3767413474826748, 0.4077038949860125]"
      ]
     },
     "execution_count": 486,
     "metadata": {},
     "output_type": "execute_result"
    }
   ],
   "source": [
    "unaDosis_vacunados_RANGOS_50_59_PORCEN = [vacuna.get('unaDosis').get('etarioRangos')[3].get('porcentaje') for vacuna in eee]\n",
    "unaDosis_vacunados_RANGOS_50_59_PORCEN[:3]"
   ]
  },
  {
   "cell_type": "markdown",
   "metadata": {},
   "source": [
    "**60-69**"
   ]
  },
  {
   "cell_type": "code",
   "execution_count": 487,
   "metadata": {},
   "outputs": [
    {
     "data": {
      "text/plain": [
       "[793166, 138052, 132571]"
      ]
     },
     "execution_count": 487,
     "metadata": {},
     "output_type": "execute_result"
    }
   ],
   "source": [
    "unaDosis_vacunados_RANGOS_60_69_VACUNA = [vacuna.get('unaDosis').get('etarioRangos')[4].get('vacunados')  for vacuna in e]\n",
    "unaDosis_vacunados_RANGOS_60_69_VACUNA[:3]"
   ]
  },
  {
   "cell_type": "code",
   "execution_count": 488,
   "metadata": {},
   "outputs": [
    {
     "data": {
      "text/plain": [
       "[916147, 156367, 149652]"
      ]
     },
     "execution_count": 488,
     "metadata": {},
     "output_type": "execute_result"
    }
   ],
   "source": [
    "unaDosis_vacunados_RANGOS_60_69_INE = [vacuna.get('unaDosis').get('etarioRangos')[4].get('personasINE') for vacuna in ee]\n",
    "unaDosis_vacunados_RANGOS_60_69_INE[:3]"
   ]
  },
  {
   "cell_type": "code",
   "execution_count": 489,
   "metadata": {},
   "outputs": [
    {
     "data": {
      "text/plain": [
       "[0.8657628088068836, 0.8828717056667967, 0.885861866196242]"
      ]
     },
     "execution_count": 489,
     "metadata": {},
     "output_type": "execute_result"
    }
   ],
   "source": [
    "unaDosis_vacunados_RANGOS_60_69_PORCEN = [vacuna.get('unaDosis').get('etarioRangos')[4].get('porcentaje') for vacuna in eee]\n",
    "unaDosis_vacunados_RANGOS_60_69_PORCEN[:3]"
   ]
  },
  {
   "cell_type": "markdown",
   "metadata": {},
   "source": [
    "**70-79**"
   ]
  },
  {
   "cell_type": "code",
   "execution_count": 490,
   "metadata": {},
   "outputs": [
    {
     "data": {
      "text/plain": [
       "[634625, 115822, 111644]"
      ]
     },
     "execution_count": 490,
     "metadata": {},
     "output_type": "execute_result"
    }
   ],
   "source": [
    "unaDosis_vacunados_RANGOS_70_79_VACUNA = [vacuna.get('unaDosis').get('etarioRangos')[5].get('vacunados') for vacuna in e]\n",
    "unaDosis_vacunados_RANGOS_70_79_VACUNA[:3]"
   ]
  },
  {
   "cell_type": "code",
   "execution_count": 491,
   "metadata": {},
   "outputs": [
    {
     "data": {
      "text/plain": [
       "[650381, 118955, 109249]"
      ]
     },
     "execution_count": 491,
     "metadata": {},
     "output_type": "execute_result"
    }
   ],
   "source": [
    "unaDosis_vacunados_RANGOS_70_79_INE = [vacuna.get('unaDosis').get('etarioRangos')[5].get('personasINE') for vacuna in ee]\n",
    "unaDosis_vacunados_RANGOS_70_79_INE[:3]"
   ]
  },
  {
   "cell_type": "code",
   "execution_count": 492,
   "metadata": {},
   "outputs": [
    {
     "data": {
      "text/plain": [
       "[0.9757742000458193, 0.9736623092766172, 1]"
      ]
     },
     "execution_count": 492,
     "metadata": {},
     "output_type": "execute_result"
    }
   ],
   "source": [
    "unaDosis_vacunados_RANGOS_70_79_PORCEN = [vacuna.get('unaDosis').get('etarioRangos')[5].get('porcentaje') for vacuna in eee]\n",
    "unaDosis_vacunados_RANGOS_70_79_PORCEN[:3]"
   ]
  },
  {
   "cell_type": "markdown",
   "metadata": {},
   "source": [
    "**80-None**"
   ]
  },
  {
   "cell_type": "code",
   "execution_count": 493,
   "metadata": {},
   "outputs": [
    {
     "data": {
      "text/plain": [
       "[428802, 100128, 87885]"
      ]
     },
     "execution_count": 493,
     "metadata": {},
     "output_type": "execute_result"
    }
   ],
   "source": [
    "unaDosis_vacunados_RANGOS_80_VACUNA = [vacuna.get('unaDosis').get('etarioRangos')[6].get('vacunados') for vacuna in e]\n",
    "unaDosis_vacunados_RANGOS_80_VACUNA[:3]"
   ]
  },
  {
   "cell_type": "code",
   "execution_count": 494,
   "metadata": {},
   "outputs": [
    {
     "data": {
      "text/plain": [
       "[413516, 98807, 87826]"
      ]
     },
     "execution_count": 494,
     "metadata": {},
     "output_type": "execute_result"
    }
   ],
   "source": [
    "unaDosis_vacunados_RANGOS_80_INE = [vacuna.get('unaDosis').get('etarioRangos')[6].get('personasINE') for vacuna in ee]\n",
    "unaDosis_vacunados_RANGOS_80_INE[:3]"
   ]
  },
  {
   "cell_type": "code",
   "execution_count": 495,
   "metadata": {},
   "outputs": [
    {
     "data": {
      "text/plain": [
       "[1, 1, 1]"
      ]
     },
     "execution_count": 495,
     "metadata": {},
     "output_type": "execute_result"
    }
   ],
   "source": [
    "unaDosis_vacunados_RANGOS_80_PORCEN = [vacuna.get('unaDosis').get('etarioRangos')[6].get('porcentaje') for vacuna in eee]\n",
    "unaDosis_vacunados_RANGOS_80_PORCEN[:3]"
   ]
  },
  {
   "cell_type": "code",
   "execution_count": null,
   "metadata": {},
   "outputs": [],
   "source": []
  },
  {
   "cell_type": "code",
   "execution_count": null,
   "metadata": {},
   "outputs": [],
   "source": []
  },
  {
   "cell_type": "code",
   "execution_count": null,
   "metadata": {},
   "outputs": [],
   "source": []
  },
  {
   "cell_type": "markdown",
   "metadata": {},
   "source": [
    "## PAUTA COMPLETA"
   ]
  },
  {
   "cell_type": "markdown",
   "metadata": {},
   "source": [
    "**PAUTA COMPLETA VACUNAS**"
   ]
  },
  {
   "cell_type": "code",
   "execution_count": 352,
   "metadata": {
    "scrolled": true
   },
   "outputs": [
    {
     "data": {
      "text/plain": [
       "{'ccaa': 'Andalucía',\n",
       " 'etarios': {'pautaCompleta': {'etarioTotal': {'vacunados': 1324848}}}}"
      ]
     },
     "execution_count": 352,
     "metadata": {},
     "output_type": "execute_result"
    }
   ],
   "source": [
    "projection = {'_id':0, 'ccaa':1,'etarios.pautaCompleta.etarioTotal.vacunados': 1} # PAUTA COMPLETA - VACUNADOS TOTAL\n",
    "pautacompleta_vacunados_total = list(collection.find({}, projection))\n",
    "pautacompleta_vacunados_total[0]"
   ]
  },
  {
   "cell_type": "code",
   "execution_count": 353,
   "metadata": {},
   "outputs": [
    {
     "data": {
      "text/html": [
       "<div>\n",
       "<style scoped>\n",
       "    .dataframe tbody tr th:only-of-type {\n",
       "        vertical-align: middle;\n",
       "    }\n",
       "\n",
       "    .dataframe tbody tr th {\n",
       "        vertical-align: top;\n",
       "    }\n",
       "\n",
       "    .dataframe thead th {\n",
       "        text-align: right;\n",
       "    }\n",
       "</style>\n",
       "<table border=\"1\" class=\"dataframe\">\n",
       "  <thead>\n",
       "    <tr style=\"text-align: right;\">\n",
       "      <th></th>\n",
       "      <th>ccaa</th>\n",
       "      <th>etarios</th>\n",
       "    </tr>\n",
       "  </thead>\n",
       "  <tbody>\n",
       "    <tr>\n",
       "      <th>0</th>\n",
       "      <td>Andalucía</td>\n",
       "      <td>{'pautaCompleta': {'etarioTotal': {'vacunados'...</td>\n",
       "    </tr>\n",
       "    <tr>\n",
       "      <th>1</th>\n",
       "      <td>Aragón</td>\n",
       "      <td>{'pautaCompleta': {'etarioTotal': {'vacunados'...</td>\n",
       "    </tr>\n",
       "    <tr>\n",
       "      <th>2</th>\n",
       "      <td>Asturias</td>\n",
       "      <td>{'pautaCompleta': {'etarioTotal': {'vacunados'...</td>\n",
       "    </tr>\n",
       "    <tr>\n",
       "      <th>3</th>\n",
       "      <td>Baleares</td>\n",
       "      <td>{'pautaCompleta': {'etarioTotal': {'vacunados'...</td>\n",
       "    </tr>\n",
       "    <tr>\n",
       "      <th>4</th>\n",
       "      <td>Canarias</td>\n",
       "      <td>{'pautaCompleta': {'etarioTotal': {'vacunados'...</td>\n",
       "    </tr>\n",
       "    <tr>\n",
       "      <th>5</th>\n",
       "      <td>Cantabria</td>\n",
       "      <td>{'pautaCompleta': {'etarioTotal': {'vacunados'...</td>\n",
       "    </tr>\n",
       "    <tr>\n",
       "      <th>6</th>\n",
       "      <td>Castilla y Leon</td>\n",
       "      <td>{'pautaCompleta': {'etarioTotal': {'vacunados'...</td>\n",
       "    </tr>\n",
       "    <tr>\n",
       "      <th>7</th>\n",
       "      <td>Castilla La Mancha</td>\n",
       "      <td>NaN</td>\n",
       "    </tr>\n",
       "  </tbody>\n",
       "</table>\n",
       "</div>"
      ],
      "text/plain": [
       "                 ccaa                                            etarios\n",
       "0           Andalucía  {'pautaCompleta': {'etarioTotal': {'vacunados'...\n",
       "1              Aragón  {'pautaCompleta': {'etarioTotal': {'vacunados'...\n",
       "2            Asturias  {'pautaCompleta': {'etarioTotal': {'vacunados'...\n",
       "3            Baleares  {'pautaCompleta': {'etarioTotal': {'vacunados'...\n",
       "4            Canarias  {'pautaCompleta': {'etarioTotal': {'vacunados'...\n",
       "5           Cantabria  {'pautaCompleta': {'etarioTotal': {'vacunados'...\n",
       "6     Castilla y Leon  {'pautaCompleta': {'etarioTotal': {'vacunados'...\n",
       "7  Castilla La Mancha                                                NaN"
      ]
     },
     "execution_count": 353,
     "metadata": {},
     "output_type": "execute_result"
    }
   ],
   "source": [
    "df3 = pd.DataFrame(pautacompleta_vacunados_total) \n",
    "df3.head(8)   #hay una NaN que dificulta la iteración ❗👀"
   ]
  },
  {
   "cell_type": "code",
   "execution_count": 354,
   "metadata": {},
   "outputs": [],
   "source": [
    "df3.etarios = df3.etarios.fillna(0)"
   ]
  },
  {
   "cell_type": "code",
   "execution_count": 357,
   "metadata": {},
   "outputs": [
    {
     "data": {
      "text/plain": [
       "[{'pautaCompleta': {'etarioTotal': {'vacunados': 1324848}}},\n",
       " {'pautaCompleta': {'etarioTotal': {'vacunados': 270668}}},\n",
       " {'pautaCompleta': {'etarioTotal': {'vacunados': 248389}}},\n",
       " {'pautaCompleta': {'etarioTotal': {'vacunados': 141426}}},\n",
       " {'pautaCompleta': {'etarioTotal': {'vacunados': 283662}}},\n",
       " {'pautaCompleta': {'etarioTotal': {'vacunados': 110435}}},\n",
       " {'pautaCompleta': {'etarioTotal': {'vacunados': 567430}}},\n",
       " 0,\n",
       " {'pautaCompleta': {'etarioTotal': {'vacunados': 1135792}}},\n",
       " {'pautaCompleta': {'etarioTotal': {'vacunados': 776451}}}]"
      ]
     },
     "execution_count": 357,
     "metadata": {},
     "output_type": "execute_result"
    }
   ],
   "source": [
    "b = list(df3.etarios)\n",
    "b[:10]"
   ]
  },
  {
   "cell_type": "code",
   "execution_count": 417,
   "metadata": {
    "scrolled": true
   },
   "outputs": [
    {
     "data": {
      "text/plain": [
       "[1324848, 270668, 248389, 141426, 283662, 110435, 567430, 0]"
      ]
     },
     "execution_count": 417,
     "metadata": {},
     "output_type": "execute_result"
    }
   ],
   "source": [
    "pautaCompleta_vacunados_total_COL = [vacuna['pautaCompleta']['etarioTotal']['vacunados'] if vacuna!= 0 else 0 for vacuna in b]\n",
    "pautaCompleta_vacunados_total_COL[:8]"
   ]
  },
  {
   "cell_type": "code",
   "execution_count": null,
   "metadata": {},
   "outputs": [],
   "source": []
  },
  {
   "cell_type": "code",
   "execution_count": null,
   "metadata": {},
   "outputs": [],
   "source": []
  },
  {
   "cell_type": "code",
   "execution_count": null,
   "metadata": {},
   "outputs": [],
   "source": []
  },
  {
   "cell_type": "markdown",
   "metadata": {},
   "source": [
    "**PAUTA COMPLETA INE**"
   ]
  },
  {
   "cell_type": "code",
   "execution_count": 288,
   "metadata": {
    "scrolled": true
   },
   "outputs": [
    {
     "data": {
      "text/plain": [
       "{'ccaa': 'Andalucía',\n",
       " 'etarios': {'pautaCompleta': {'etarioTotal': {'personasINE': 7062213}}}}"
      ]
     },
     "execution_count": 288,
     "metadata": {},
     "output_type": "execute_result"
    }
   ],
   "source": [
    "projection = {'_id':0, 'ccaa':1,'etarios.pautaCompleta.etarioTotal.personasINE': 1} # PAUTA COMPLETA - VACUNADOS TOTAL\n",
    "pautacompleta_vacunados_total_INE= list(collection.find({}, projection))\n",
    "pautacompleta_vacunados_total_INE[0]"
   ]
  },
  {
   "cell_type": "code",
   "execution_count": 289,
   "metadata": {},
   "outputs": [
    {
     "data": {
      "text/html": [
       "<div>\n",
       "<style scoped>\n",
       "    .dataframe tbody tr th:only-of-type {\n",
       "        vertical-align: middle;\n",
       "    }\n",
       "\n",
       "    .dataframe tbody tr th {\n",
       "        vertical-align: top;\n",
       "    }\n",
       "\n",
       "    .dataframe thead th {\n",
       "        text-align: right;\n",
       "    }\n",
       "</style>\n",
       "<table border=\"1\" class=\"dataframe\">\n",
       "  <thead>\n",
       "    <tr style=\"text-align: right;\">\n",
       "      <th></th>\n",
       "      <th>ccaa</th>\n",
       "      <th>etarios</th>\n",
       "    </tr>\n",
       "  </thead>\n",
       "  <tbody>\n",
       "    <tr>\n",
       "      <th>0</th>\n",
       "      <td>Andalucía</td>\n",
       "      <td>{'pautaCompleta': {'etarioTotal': {'personasIN...</td>\n",
       "    </tr>\n",
       "    <tr>\n",
       "      <th>1</th>\n",
       "      <td>Aragón</td>\n",
       "      <td>{'pautaCompleta': {'etarioTotal': {'personasIN...</td>\n",
       "    </tr>\n",
       "    <tr>\n",
       "      <th>2</th>\n",
       "      <td>Asturias</td>\n",
       "      <td>{'pautaCompleta': {'etarioTotal': {'personasIN...</td>\n",
       "    </tr>\n",
       "    <tr>\n",
       "      <th>3</th>\n",
       "      <td>Baleares</td>\n",
       "      <td>{'pautaCompleta': {'etarioTotal': {'personasIN...</td>\n",
       "    </tr>\n",
       "    <tr>\n",
       "      <th>4</th>\n",
       "      <td>Canarias</td>\n",
       "      <td>{'pautaCompleta': {'etarioTotal': {'personasIN...</td>\n",
       "    </tr>\n",
       "    <tr>\n",
       "      <th>5</th>\n",
       "      <td>Cantabria</td>\n",
       "      <td>{'pautaCompleta': {'etarioTotal': {'personasIN...</td>\n",
       "    </tr>\n",
       "    <tr>\n",
       "      <th>6</th>\n",
       "      <td>Castilla y Leon</td>\n",
       "      <td>{'pautaCompleta': {'etarioTotal': {'personasIN...</td>\n",
       "    </tr>\n",
       "    <tr>\n",
       "      <th>7</th>\n",
       "      <td>Castilla La Mancha</td>\n",
       "      <td>NaN</td>\n",
       "    </tr>\n",
       "  </tbody>\n",
       "</table>\n",
       "</div>"
      ],
      "text/plain": [
       "                 ccaa                                            etarios\n",
       "0           Andalucía  {'pautaCompleta': {'etarioTotal': {'personasIN...\n",
       "1              Aragón  {'pautaCompleta': {'etarioTotal': {'personasIN...\n",
       "2            Asturias  {'pautaCompleta': {'etarioTotal': {'personasIN...\n",
       "3            Baleares  {'pautaCompleta': {'etarioTotal': {'personasIN...\n",
       "4            Canarias  {'pautaCompleta': {'etarioTotal': {'personasIN...\n",
       "5           Cantabria  {'pautaCompleta': {'etarioTotal': {'personasIN...\n",
       "6     Castilla y Leon  {'pautaCompleta': {'etarioTotal': {'personasIN...\n",
       "7  Castilla La Mancha                                                NaN"
      ]
     },
     "execution_count": 289,
     "metadata": {},
     "output_type": "execute_result"
    }
   ],
   "source": [
    "df8 = pd.DataFrame(pautacompleta_vacunados_total_INE) \n",
    "df8.head(8)   #hay una NaN que dificulta la iteración ❗👀"
   ]
  },
  {
   "cell_type": "code",
   "execution_count": 290,
   "metadata": {},
   "outputs": [],
   "source": [
    "df8.etarios = df8.etarios.fillna(0)"
   ]
  },
  {
   "cell_type": "code",
   "execution_count": 307,
   "metadata": {},
   "outputs": [
    {
     "data": {
      "text/plain": [
       "[{'pautaCompleta': {'etarioTotal': {'personasINE': 7062213}}},\n",
       " {'pautaCompleta': {'etarioTotal': {'personasINE': 1132764}}},\n",
       " {'pautaCompleta': {'etarioTotal': {'personasINE': 901209}}},\n",
       " {'pautaCompleta': {'etarioTotal': {'personasINE': 986279}}},\n",
       " {'pautaCompleta': {'etarioTotal': {'personasINE': 1871033}}},\n",
       " {'pautaCompleta': {'etarioTotal': {'personasINE': 501384}}},\n",
       " {'pautaCompleta': {'etarioTotal': {'personasINE': 2092873}}},\n",
       " 0,\n",
       " {'pautaCompleta': {'etarioTotal': {'personasINE': 6531658}}},\n",
       " {'pautaCompleta': {'etarioTotal': {'personasINE': 4269305}}}]"
      ]
     },
     "execution_count": 307,
     "metadata": {},
     "output_type": "execute_result"
    }
   ],
   "source": [
    "m = list(df8.etarios)\n",
    "m[:10]"
   ]
  },
  {
   "cell_type": "code",
   "execution_count": 418,
   "metadata": {
    "scrolled": true
   },
   "outputs": [
    {
     "data": {
      "text/plain": [
       "[7062213, 1132764, 901209, 986279, 1871033, 501384, 2092873, 0]"
      ]
     },
     "execution_count": 418,
     "metadata": {},
     "output_type": "execute_result"
    }
   ],
   "source": [
    "pautaCompleta_vacunados_total_INE_COL = [vacuna['pautaCompleta']['etarioTotal']['personasINE'] if vacuna!= 0 else 0 for vacuna in m]\n",
    "pautaCompleta_vacunados_total_INE_COL[:8]"
   ]
  },
  {
   "cell_type": "markdown",
   "metadata": {},
   "source": [
    "**PAUTA COMPLETA PORCENTAJE**"
   ]
  },
  {
   "cell_type": "code",
   "execution_count": 298,
   "metadata": {
    "scrolled": true
   },
   "outputs": [
    {
     "data": {
      "text/plain": [
       "{'ccaa': 'Andalucía',\n",
       " 'etarios': {'pautaCompleta': {'etarioTotal': {'porcentaje': 0.18759672074461645}}}}"
      ]
     },
     "execution_count": 298,
     "metadata": {},
     "output_type": "execute_result"
    }
   ],
   "source": [
    "projection = {'_id':0, 'ccaa':1,'etarios.pautaCompleta.etarioTotal.porcentaje': 1} # PAUTA COMPLETA %\n",
    "pautacompleta_vacunados_porcentaje= list(collection.find({}, projection))\n",
    "pautacompleta_vacunados_porcentaje[0]"
   ]
  },
  {
   "cell_type": "code",
   "execution_count": 299,
   "metadata": {},
   "outputs": [
    {
     "data": {
      "text/html": [
       "<div>\n",
       "<style scoped>\n",
       "    .dataframe tbody tr th:only-of-type {\n",
       "        vertical-align: middle;\n",
       "    }\n",
       "\n",
       "    .dataframe tbody tr th {\n",
       "        vertical-align: top;\n",
       "    }\n",
       "\n",
       "    .dataframe thead th {\n",
       "        text-align: right;\n",
       "    }\n",
       "</style>\n",
       "<table border=\"1\" class=\"dataframe\">\n",
       "  <thead>\n",
       "    <tr style=\"text-align: right;\">\n",
       "      <th></th>\n",
       "      <th>ccaa</th>\n",
       "      <th>etarios</th>\n",
       "    </tr>\n",
       "  </thead>\n",
       "  <tbody>\n",
       "    <tr>\n",
       "      <th>0</th>\n",
       "      <td>Andalucía</td>\n",
       "      <td>{'pautaCompleta': {'etarioTotal': {'porcentaje...</td>\n",
       "    </tr>\n",
       "    <tr>\n",
       "      <th>1</th>\n",
       "      <td>Aragón</td>\n",
       "      <td>{'pautaCompleta': {'etarioTotal': {'porcentaje...</td>\n",
       "    </tr>\n",
       "    <tr>\n",
       "      <th>2</th>\n",
       "      <td>Asturias</td>\n",
       "      <td>{'pautaCompleta': {'etarioTotal': {'porcentaje...</td>\n",
       "    </tr>\n",
       "    <tr>\n",
       "      <th>3</th>\n",
       "      <td>Baleares</td>\n",
       "      <td>{'pautaCompleta': {'etarioTotal': {'porcentaje...</td>\n",
       "    </tr>\n",
       "    <tr>\n",
       "      <th>4</th>\n",
       "      <td>Canarias</td>\n",
       "      <td>{'pautaCompleta': {'etarioTotal': {'porcentaje...</td>\n",
       "    </tr>\n",
       "    <tr>\n",
       "      <th>5</th>\n",
       "      <td>Cantabria</td>\n",
       "      <td>{'pautaCompleta': {'etarioTotal': {'porcentaje...</td>\n",
       "    </tr>\n",
       "    <tr>\n",
       "      <th>6</th>\n",
       "      <td>Castilla y Leon</td>\n",
       "      <td>{'pautaCompleta': {'etarioTotal': {'porcentaje...</td>\n",
       "    </tr>\n",
       "    <tr>\n",
       "      <th>7</th>\n",
       "      <td>Castilla La Mancha</td>\n",
       "      <td>NaN</td>\n",
       "    </tr>\n",
       "  </tbody>\n",
       "</table>\n",
       "</div>"
      ],
      "text/plain": [
       "                 ccaa                                            etarios\n",
       "0           Andalucía  {'pautaCompleta': {'etarioTotal': {'porcentaje...\n",
       "1              Aragón  {'pautaCompleta': {'etarioTotal': {'porcentaje...\n",
       "2            Asturias  {'pautaCompleta': {'etarioTotal': {'porcentaje...\n",
       "3            Baleares  {'pautaCompleta': {'etarioTotal': {'porcentaje...\n",
       "4            Canarias  {'pautaCompleta': {'etarioTotal': {'porcentaje...\n",
       "5           Cantabria  {'pautaCompleta': {'etarioTotal': {'porcentaje...\n",
       "6     Castilla y Leon  {'pautaCompleta': {'etarioTotal': {'porcentaje...\n",
       "7  Castilla La Mancha                                                NaN"
      ]
     },
     "execution_count": 299,
     "metadata": {},
     "output_type": "execute_result"
    }
   ],
   "source": [
    "df9 = pd.DataFrame(pautacompleta_vacunados_porcentaje) \n",
    "df9.head(8)   #hay una NaN que dificulta la iteración ❗👀"
   ]
  },
  {
   "cell_type": "code",
   "execution_count": 300,
   "metadata": {},
   "outputs": [],
   "source": [
    "df9.etarios = df9.etarios.fillna(0)"
   ]
  },
  {
   "cell_type": "code",
   "execution_count": 309,
   "metadata": {},
   "outputs": [
    {
     "data": {
      "text/plain": [
       "[{'pautaCompleta': {'etarioTotal': {'porcentaje': 0.18759672074461645}}},\n",
       " {'pautaCompleta': {'etarioTotal': {'porcentaje': 0.23894474047550945}}},\n",
       " {'pautaCompleta': {'etarioTotal': {'porcentaje': 0.27561753156038166}}},\n",
       " {'pautaCompleta': {'etarioTotal': {'porcentaje': 0.14339350224429395}}},\n",
       " {'pautaCompleta': {'etarioTotal': {'porcentaje': 0.1516071603226667}}},\n",
       " {'pautaCompleta': {'etarioTotal': {'porcentaje': 0.2202603194358017}}},\n",
       " {'pautaCompleta': {'etarioTotal': {'porcentaje': 0.27112490820035423}}},\n",
       " 0,\n",
       " {'pautaCompleta': {'etarioTotal': {'porcentaje': 0.17389030472814102}}},\n",
       " {'pautaCompleta': {'etarioTotal': {'porcentaje': 0.18186824319180755}}}]"
      ]
     },
     "execution_count": 309,
     "metadata": {},
     "output_type": "execute_result"
    }
   ],
   "source": [
    "n = list(df9.etarios)\n",
    "n[:10]"
   ]
  },
  {
   "cell_type": "code",
   "execution_count": 420,
   "metadata": {
    "scrolled": false
   },
   "outputs": [
    {
     "data": {
      "text/plain": [
       "[0.18759672074461645,\n",
       " 0.23894474047550945,\n",
       " 0.27561753156038166,\n",
       " 0.14339350224429395,\n",
       " 0.1516071603226667,\n",
       " 0.2202603194358017,\n",
       " 0.27112490820035423,\n",
       " 0]"
      ]
     },
     "execution_count": 420,
     "metadata": {},
     "output_type": "execute_result"
    }
   ],
   "source": [
    "pautaCompleta_vacunados_total_porcentaje_COL = [vacuna['pautaCompleta']['etarioTotal']['porcentaje'] if vacuna!= 0 else 0 for vacuna in n]\n",
    "pautaCompleta_vacunados_total_porcentaje_COL[:8]"
   ]
  },
  {
   "cell_type": "code",
   "execution_count": null,
   "metadata": {},
   "outputs": [],
   "source": []
  },
  {
   "cell_type": "code",
   "execution_count": null,
   "metadata": {},
   "outputs": [],
   "source": []
  },
  {
   "cell_type": "code",
   "execution_count": null,
   "metadata": {},
   "outputs": [],
   "source": []
  },
  {
   "cell_type": "markdown",
   "metadata": {},
   "source": [
    "## PAUTA COMPLETA RANGOS"
   ]
  },
  {
   "cell_type": "markdown",
   "metadata": {},
   "source": [
    "**RANGO EDADES VACUNADOS**"
   ]
  },
  {
   "cell_type": "code",
   "execution_count": 496,
   "metadata": {
    "scrolled": true
   },
   "outputs": [
    {
     "data": {
      "text/plain": [
       "{'ccaa': 'Andalucía',\n",
       " 'etarios': {'pautaCompleta': {'etarioRangos': [{'vacunados': 338},\n",
       "    {'vacunados': 15429},\n",
       "    {'vacunados': 158970},\n",
       "    {'vacunados': 88701},\n",
       "    {'vacunados': 85348},\n",
       "    {'vacunados': 558376},\n",
       "    {'vacunados': 417686}]}}}"
      ]
     },
     "execution_count": 496,
     "metadata": {},
     "output_type": "execute_result"
    }
   ],
   "source": [
    "projection = {'_id':0, 'ccaa':1,'etarios.pautaCompleta.etarioRangos.vacunados': 1} # PAUTA COMPLETA \n",
    "pautacompleta_vacunados_rangos_VACUNADOS= list(collection.find({}, projection))\n",
    "pautacompleta_vacunados_rangos_VACUNADOS[0]"
   ]
  },
  {
   "cell_type": "code",
   "execution_count": 512,
   "metadata": {},
   "outputs": [
    {
     "data": {
      "text/html": [
       "<div>\n",
       "<style scoped>\n",
       "    .dataframe tbody tr th:only-of-type {\n",
       "        vertical-align: middle;\n",
       "    }\n",
       "\n",
       "    .dataframe tbody tr th {\n",
       "        vertical-align: top;\n",
       "    }\n",
       "\n",
       "    .dataframe thead th {\n",
       "        text-align: right;\n",
       "    }\n",
       "</style>\n",
       "<table border=\"1\" class=\"dataframe\">\n",
       "  <thead>\n",
       "    <tr style=\"text-align: right;\">\n",
       "      <th></th>\n",
       "      <th>ccaa</th>\n",
       "      <th>etarios</th>\n",
       "    </tr>\n",
       "  </thead>\n",
       "  <tbody>\n",
       "    <tr>\n",
       "      <th>0</th>\n",
       "      <td>Andalucía</td>\n",
       "      <td>{'pautaCompleta': {'etarioRangos': [{'vacunado...</td>\n",
       "    </tr>\n",
       "  </tbody>\n",
       "</table>\n",
       "</div>"
      ],
      "text/plain": [
       "        ccaa                                            etarios\n",
       "0  Andalucía  {'pautaCompleta': {'etarioRangos': [{'vacunado..."
      ]
     },
     "execution_count": 512,
     "metadata": {},
     "output_type": "execute_result"
    }
   ],
   "source": [
    "df100 = pd.DataFrame(pautacompleta_vacunados_rangos_VACUNADOS) \n",
    "df100.head(1)   #hay una NaN que dificulta la iteración ❗👀"
   ]
  },
  {
   "cell_type": "code",
   "execution_count": 513,
   "metadata": {},
   "outputs": [],
   "source": [
    "df100.etarios = df100.etarios.fillna(0)"
   ]
  },
  {
   "cell_type": "code",
   "execution_count": 514,
   "metadata": {
    "scrolled": false
   },
   "outputs": [
    {
     "data": {
      "text/plain": [
       "{'pautaCompleta': {'etarioRangos': [{'vacunados': 338},\n",
       "   {'vacunados': 15429},\n",
       "   {'vacunados': 158970},\n",
       "   {'vacunados': 88701},\n",
       "   {'vacunados': 85348},\n",
       "   {'vacunados': 558376},\n",
       "   {'vacunados': 417686}]}}"
      ]
     },
     "execution_count": 514,
     "metadata": {},
     "output_type": "execute_result"
    }
   ],
   "source": [
    "s = list(df100.etarios)\n",
    "s[0]"
   ]
  },
  {
   "cell_type": "markdown",
   "metadata": {},
   "source": [
    "**RANGO EDADES INE**"
   ]
  },
  {
   "cell_type": "code",
   "execution_count": 501,
   "metadata": {
    "scrolled": true
   },
   "outputs": [
    {
     "data": {
      "text/plain": [
       "{'ccaa': 'Andalucía',\n",
       " 'etarios': {'pautaCompleta': {'etarioRangos': [{'personasINE': 181921},\n",
       "    {'personasINE': 625846},\n",
       "    {'personasINE': 3009381},\n",
       "    {'personasINE': 1265021},\n",
       "    {'personasINE': 916147},\n",
       "    {'personasINE': 650381},\n",
       "    {'personasINE': 413516}]}}}"
      ]
     },
     "execution_count": 501,
     "metadata": {},
     "output_type": "execute_result"
    }
   ],
   "source": [
    "projection = {'_id':0, 'ccaa':1,'etarios.pautaCompleta.etarioRangos.personasINE': 1} # PAUTA COMPLETA \n",
    "pautacompleta_vacunados_rangos_INE= list(collection.find({}, projection))\n",
    "pautacompleta_vacunados_rangos_INE[0]"
   ]
  },
  {
   "cell_type": "code",
   "execution_count": 515,
   "metadata": {},
   "outputs": [
    {
     "data": {
      "text/html": [
       "<div>\n",
       "<style scoped>\n",
       "    .dataframe tbody tr th:only-of-type {\n",
       "        vertical-align: middle;\n",
       "    }\n",
       "\n",
       "    .dataframe tbody tr th {\n",
       "        vertical-align: top;\n",
       "    }\n",
       "\n",
       "    .dataframe thead th {\n",
       "        text-align: right;\n",
       "    }\n",
       "</style>\n",
       "<table border=\"1\" class=\"dataframe\">\n",
       "  <thead>\n",
       "    <tr style=\"text-align: right;\">\n",
       "      <th></th>\n",
       "      <th>ccaa</th>\n",
       "      <th>etarios</th>\n",
       "    </tr>\n",
       "  </thead>\n",
       "  <tbody>\n",
       "    <tr>\n",
       "      <th>0</th>\n",
       "      <td>Andalucía</td>\n",
       "      <td>{'pautaCompleta': {'etarioRangos': [{'personas...</td>\n",
       "    </tr>\n",
       "  </tbody>\n",
       "</table>\n",
       "</div>"
      ],
      "text/plain": [
       "        ccaa                                            etarios\n",
       "0  Andalucía  {'pautaCompleta': {'etarioRangos': [{'personas..."
      ]
     },
     "execution_count": 515,
     "metadata": {},
     "output_type": "execute_result"
    }
   ],
   "source": [
    "df1000 = pd.DataFrame(pautacompleta_vacunados_rangos_INE) \n",
    "df1000.head(1)   #hay una NaN que dificulta la iteración ❗👀"
   ]
  },
  {
   "cell_type": "code",
   "execution_count": 516,
   "metadata": {},
   "outputs": [],
   "source": [
    "df1000.etarios = df1000.etarios.fillna(0)"
   ]
  },
  {
   "cell_type": "code",
   "execution_count": 517,
   "metadata": {
    "scrolled": true
   },
   "outputs": [
    {
     "data": {
      "text/plain": [
       "{'pautaCompleta': {'etarioRangos': [{'personasINE': 181921},\n",
       "   {'personasINE': 625846},\n",
       "   {'personasINE': 3009381},\n",
       "   {'personasINE': 1265021},\n",
       "   {'personasINE': 916147},\n",
       "   {'personasINE': 650381},\n",
       "   {'personasINE': 413516}]}}"
      ]
     },
     "execution_count": 517,
     "metadata": {},
     "output_type": "execute_result"
    }
   ],
   "source": [
    "ss = list(df1000.etarios)\n",
    "ss[0]"
   ]
  },
  {
   "cell_type": "markdown",
   "metadata": {},
   "source": [
    "**RANGO EDADES %**"
   ]
  },
  {
   "cell_type": "code",
   "execution_count": 506,
   "metadata": {
    "scrolled": true
   },
   "outputs": [
    {
     "data": {
      "text/plain": [
       "{'ccaa': 'Andalucía',\n",
       " 'etarios': {'pautaCompleta': {'etarioRangos': [{'porcentaje': 0.0018579493296540805},\n",
       "    {'porcentaje': 0.024653029659053506},\n",
       "    {'porcentaje': 0.05282481679787305},\n",
       "    {'porcentaje': 0.07011820357132412},\n",
       "    {'porcentaje': 0.09315972218432195},\n",
       "    {'porcentaje': 0.8585367653729122},\n",
       "    {'porcentaje': 1}]}}}"
      ]
     },
     "execution_count": 506,
     "metadata": {},
     "output_type": "execute_result"
    }
   ],
   "source": [
    "projection = {'_id':0, 'ccaa':1,'etarios.pautaCompleta.etarioRangos.porcentaje': 1} # PAUTA COMPLETA \n",
    "pautacompleta_vacunados_rangos_PORCENTAJE= list(collection.find({}, projection))\n",
    "pautacompleta_vacunados_rangos_PORCENTAJE[0]"
   ]
  },
  {
   "cell_type": "code",
   "execution_count": 518,
   "metadata": {},
   "outputs": [
    {
     "data": {
      "text/html": [
       "<div>\n",
       "<style scoped>\n",
       "    .dataframe tbody tr th:only-of-type {\n",
       "        vertical-align: middle;\n",
       "    }\n",
       "\n",
       "    .dataframe tbody tr th {\n",
       "        vertical-align: top;\n",
       "    }\n",
       "\n",
       "    .dataframe thead th {\n",
       "        text-align: right;\n",
       "    }\n",
       "</style>\n",
       "<table border=\"1\" class=\"dataframe\">\n",
       "  <thead>\n",
       "    <tr style=\"text-align: right;\">\n",
       "      <th></th>\n",
       "      <th>ccaa</th>\n",
       "      <th>etarios</th>\n",
       "    </tr>\n",
       "  </thead>\n",
       "  <tbody>\n",
       "    <tr>\n",
       "      <th>0</th>\n",
       "      <td>Andalucía</td>\n",
       "      <td>{'pautaCompleta': {'etarioRangos': [{'porcenta...</td>\n",
       "    </tr>\n",
       "  </tbody>\n",
       "</table>\n",
       "</div>"
      ],
      "text/plain": [
       "        ccaa                                            etarios\n",
       "0  Andalucía  {'pautaCompleta': {'etarioRangos': [{'porcenta..."
      ]
     },
     "execution_count": 518,
     "metadata": {},
     "output_type": "execute_result"
    }
   ],
   "source": [
    "df10000 = pd.DataFrame(pautacompleta_vacunados_rangos_PORCENTAJE) \n",
    "df10000.head(1)   #hay una NaN que dificulta la iteración ❗👀"
   ]
  },
  {
   "cell_type": "code",
   "execution_count": 519,
   "metadata": {},
   "outputs": [],
   "source": [
    "df10000.etarios = df10000.etarios.fillna(0)"
   ]
  },
  {
   "cell_type": "code",
   "execution_count": 520,
   "metadata": {
    "scrolled": true
   },
   "outputs": [
    {
     "data": {
      "text/plain": [
       "{'pautaCompleta': {'etarioRangos': [{'porcentaje': 0.0018579493296540805},\n",
       "   {'porcentaje': 0.024653029659053506},\n",
       "   {'porcentaje': 0.05282481679787305},\n",
       "   {'porcentaje': 0.07011820357132412},\n",
       "   {'porcentaje': 0.09315972218432195},\n",
       "   {'porcentaje': 0.8585367653729122},\n",
       "   {'porcentaje': 1}]}}"
      ]
     },
     "execution_count": 520,
     "metadata": {},
     "output_type": "execute_result"
    }
   ],
   "source": [
    "sss = list(df10000.etarios)\n",
    "sss[0]"
   ]
  },
  {
   "cell_type": "markdown",
   "metadata": {},
   "source": [
    "**16-17**"
   ]
  },
  {
   "cell_type": "code",
   "execution_count": 521,
   "metadata": {},
   "outputs": [
    {
     "data": {
      "text/plain": [
       "{'vacunados': 338}"
      ]
     },
     "execution_count": 521,
     "metadata": {},
     "output_type": "execute_result"
    }
   ],
   "source": [
    "s[0]['pautaCompleta']['etarioRangos'][0]"
   ]
  },
  {
   "cell_type": "code",
   "execution_count": 549,
   "metadata": {
    "scrolled": false
   },
   "outputs": [
    {
     "data": {
      "text/plain": [
       "[338, 31, 36, 33, 48, 5, 102, 0]"
      ]
     },
     "execution_count": 549,
     "metadata": {},
     "output_type": "execute_result"
    }
   ],
   "source": [
    "pautaCompleta_vacunados_16_17_VACUN = [vacuna['pautaCompleta']['etarioRangos'][0]['vacunados'] if vacuna!= 0 else 0 for vacuna in s]\n",
    "pautaCompleta_vacunados_17_18_VACUN[:8]"
   ]
  },
  {
   "cell_type": "code",
   "execution_count": 550,
   "metadata": {
    "scrolled": false
   },
   "outputs": [
    {
     "data": {
      "text/plain": [
       "[181921, 25106, 15563, 23300, 44352, 10791, 40684, 0]"
      ]
     },
     "execution_count": 550,
     "metadata": {},
     "output_type": "execute_result"
    }
   ],
   "source": [
    "pautaCompleta_vacunados_16_17_INE = [vacuna['pautaCompleta']['etarioRangos'][0]['personasINE'] if vacuna!= 0 else 0 for vacuna in ss]\n",
    "pautaCompleta_vacunados_16_17_INE[:8]"
   ]
  },
  {
   "cell_type": "code",
   "execution_count": 551,
   "metadata": {
    "scrolled": false
   },
   "outputs": [
    {
     "data": {
      "text/plain": [
       "[0.0018579493296540805,\n",
       " 0.001234764598104039,\n",
       " 0.0023131786930540386,\n",
       " 0.0014163090128755365,\n",
       " 0.0010822510822510823,\n",
       " 0.0004633490872022982,\n",
       " 0.002507128109330449,\n",
       " 0]"
      ]
     },
     "execution_count": 551,
     "metadata": {},
     "output_type": "execute_result"
    }
   ],
   "source": [
    "pautaCompleta_vacunados_16_17_PORCEN = [vacuna['pautaCompleta']['etarioRangos'][0]['porcentaje'] if vacuna!= 0 else 0 for vacuna in sss]\n",
    "pautaCompleta_vacunados_16_17_PORCEN[:8]"
   ]
  },
  {
   "cell_type": "markdown",
   "metadata": {},
   "source": [
    "**18-24**"
   ]
  },
  {
   "cell_type": "code",
   "execution_count": 526,
   "metadata": {
    "scrolled": true
   },
   "outputs": [
    {
     "data": {
      "text/plain": [
       "[15429, 1609, 3457, 1398, 2822, 723, 3001, 0]"
      ]
     },
     "execution_count": 526,
     "metadata": {},
     "output_type": "execute_result"
    }
   ],
   "source": [
    "pautaCompleta_vacunados_18_24_VACUN = [vacuna['pautaCompleta']['etarioRangos'][1]['vacunados'] if vacuna!= 0 else 0 for vacuna in s]\n",
    "pautaCompleta_vacunados_18_24_VACUN[:8]"
   ]
  },
  {
   "cell_type": "code",
   "execution_count": 527,
   "metadata": {
    "scrolled": true
   },
   "outputs": [
    {
     "data": {
      "text/plain": [
       "[625846, 89180, 54179, 85839, 163899, 34935, 144422, 0]"
      ]
     },
     "execution_count": 527,
     "metadata": {},
     "output_type": "execute_result"
    }
   ],
   "source": [
    "pautaCompleta_vacunados_18_24_INE = [vacuna['pautaCompleta']['etarioRangos'][1]['personasINE'] if vacuna!= 0 else 0 for vacuna in ss]\n",
    "pautaCompleta_vacunados_18_24_INE[:8]"
   ]
  },
  {
   "cell_type": "code",
   "execution_count": 528,
   "metadata": {
    "scrolled": true
   },
   "outputs": [
    {
     "data": {
      "text/plain": [
       "[0.024653029659053506,\n",
       " 0.01804216191971294,\n",
       " 0.06380701009616271,\n",
       " 0.016286303428511516,\n",
       " 0.0172179207926833,\n",
       " 0.020695577501073422,\n",
       " 0.020779382642533685,\n",
       " 0]"
      ]
     },
     "execution_count": 528,
     "metadata": {},
     "output_type": "execute_result"
    }
   ],
   "source": [
    "pautaCompleta_vacunados_18_24_PORCEN = [vacuna['pautaCompleta']['etarioRangos'][1]['porcentaje'] if vacuna!= 0 else 0 for vacuna in sss]\n",
    "pautaCompleta_vacunados_18_24_PORCEN[:8]"
   ]
  },
  {
   "cell_type": "markdown",
   "metadata": {},
   "source": [
    "**25-49**"
   ]
  },
  {
   "cell_type": "code",
   "execution_count": 529,
   "metadata": {
    "scrolled": false
   },
   "outputs": [
    {
     "data": {
      "text/plain": [
       "[158970, 23691, 32588, 19262, 38810, 12248, 45803, 0]"
      ]
     },
     "execution_count": 529,
     "metadata": {},
     "output_type": "execute_result"
    }
   ],
   "source": [
    "pautaCompleta_vacunados_25_49_VACUN = [vacuna['pautaCompleta']['etarioRangos'][2]['vacunados'] if vacuna!= 0 else 0 for vacuna in s]\n",
    "pautaCompleta_vacunados_25_49_VACUN[:8]"
   ]
  },
  {
   "cell_type": "code",
   "execution_count": 530,
   "metadata": {
    "scrolled": false
   },
   "outputs": [
    {
     "data": {
      "text/plain": [
       "[3009381, 446083, 322095, 464054, 832411, 194241, 738950, 0]"
      ]
     },
     "execution_count": 530,
     "metadata": {},
     "output_type": "execute_result"
    }
   ],
   "source": [
    "pautaCompleta_vacunados_25_49_INE = [vacuna['pautaCompleta']['etarioRangos'][2]['personasINE'] if vacuna!= 0 else 0 for vacuna in ss]\n",
    "pautaCompleta_vacunados_25_49_INE[:8]"
   ]
  },
  {
   "cell_type": "code",
   "execution_count": 531,
   "metadata": {
    "scrolled": false
   },
   "outputs": [
    {
     "data": {
      "text/plain": [
       "[0.05282481679787305,\n",
       " 0.05310895057646223,\n",
       " 0.10117511914186808,\n",
       " 0.04150810035039026,\n",
       " 0.04662360300380461,\n",
       " 0.06305568855185054,\n",
       " 0.06198389606874619,\n",
       " 0]"
      ]
     },
     "execution_count": 531,
     "metadata": {},
     "output_type": "execute_result"
    }
   ],
   "source": [
    "pautaCompleta_vacunados_25_49_PORCEN = [vacuna['pautaCompleta']['etarioRangos'][2]['porcentaje'] if vacuna!= 0 else 0 for vacuna in sss]\n",
    "pautaCompleta_vacunados_25_49_PORCEN[:8]"
   ]
  },
  {
   "cell_type": "markdown",
   "metadata": {},
   "source": [
    "**50-59**"
   ]
  },
  {
   "cell_type": "code",
   "execution_count": 532,
   "metadata": {
    "scrolled": false
   },
   "outputs": [
    {
     "data": {
      "text/plain": [
       "[88701, 15983, 19552, 8819, 24955, 6957, 33697, 0]"
      ]
     },
     "execution_count": 532,
     "metadata": {},
     "output_type": "execute_result"
    }
   ],
   "source": [
    "pautaCompleta_vacunados_50_59_VACUN = [vacuna['pautaCompleta']['etarioRangos'][3]['vacunados'] if vacuna!= 0 else 0 for vacuna in s]\n",
    "pautaCompleta_vacunados_50_59_VACUN[:8]"
   ]
  },
  {
   "cell_type": "code",
   "execution_count": 533,
   "metadata": {
    "scrolled": false
   },
   "outputs": [
    {
     "data": {
      "text/plain": [
       "[1265021, 198266, 162645, 165797, 350512, 89964, 381175, 0]"
      ]
     },
     "execution_count": 533,
     "metadata": {},
     "output_type": "execute_result"
    }
   ],
   "source": [
    "pautaCompleta_vacunados_50_59_INE = [vacuna['pautaCompleta']['etarioRangos'][3]['personasINE'] if vacuna!= 0 else 0 for vacuna in ss]\n",
    "pautaCompleta_vacunados_50_59_INE[:8]"
   ]
  },
  {
   "cell_type": "code",
   "execution_count": 534,
   "metadata": {
    "scrolled": false
   },
   "outputs": [
    {
     "data": {
      "text/plain": [
       "[0.07011820357132412,\n",
       " 0.08061392270989479,\n",
       " 0.12021273325340466,\n",
       " 0.053191553526300235,\n",
       " 0.07119585064134751,\n",
       " 0.07733093237294918,\n",
       " 0.08840296451761002,\n",
       " 0]"
      ]
     },
     "execution_count": 534,
     "metadata": {},
     "output_type": "execute_result"
    }
   ],
   "source": [
    "pautaCompleta_vacunados_50_59_PORCEN = [vacuna['pautaCompleta']['etarioRangos'][3]['porcentaje'] if vacuna!= 0 else 0 for vacuna in sss]\n",
    "pautaCompleta_vacunados_50_59_PORCEN[:8]"
   ]
  },
  {
   "cell_type": "markdown",
   "metadata": {},
   "source": [
    "**60-69**"
   ]
  },
  {
   "cell_type": "code",
   "execution_count": 535,
   "metadata": {
    "scrolled": true
   },
   "outputs": [
    {
     "data": {
      "text/plain": [
       "[85348, 29003, 14268, 6284, 18468, 5029, 45398, 0]"
      ]
     },
     "execution_count": 535,
     "metadata": {},
     "output_type": "execute_result"
    }
   ],
   "source": [
    "pautaCompleta_vacunados_60_69_VACUN = [vacuna['pautaCompleta']['etarioRangos'][4]['vacunados'] if vacuna!= 0 else 0 for vacuna in s]\n",
    "pautaCompleta_vacunados_60_69_VACUN[:8]"
   ]
  },
  {
   "cell_type": "code",
   "execution_count": 536,
   "metadata": {
    "scrolled": true
   },
   "outputs": [
    {
     "data": {
      "text/plain": [
       "[916147, 156367, 149652, 117231, 235092, 77345, 318575, 0]"
      ]
     },
     "execution_count": 536,
     "metadata": {},
     "output_type": "execute_result"
    }
   ],
   "source": [
    "pautaCompleta_vacunados_60_69_INE = [vacuna['pautaCompleta']['etarioRangos'][4]['personasINE'] if vacuna!= 0 else 0 for vacuna in ss]\n",
    "pautaCompleta_vacunados_60_69_INE[:8]"
   ]
  },
  {
   "cell_type": "code",
   "execution_count": 537,
   "metadata": {
    "scrolled": true
   },
   "outputs": [
    {
     "data": {
      "text/plain": [
       "[0.09315972218432195,\n",
       " 0.18548031234211823,\n",
       " 0.09534119156442948,\n",
       " 0.05360356902184576,\n",
       " 0.07855648001633403,\n",
       " 0.06502036330725967,\n",
       " 0.142503335164404,\n",
       " 0]"
      ]
     },
     "execution_count": 537,
     "metadata": {},
     "output_type": "execute_result"
    }
   ],
   "source": [
    "pautaCompleta_vacunados_60_69_PORCEN = [vacuna['pautaCompleta']['etarioRangos'][4]['porcentaje'] if vacuna!= 0 else 0 for vacuna in sss]\n",
    "pautaCompleta_vacunados_60_69_PORCEN[:8]"
   ]
  },
  {
   "cell_type": "markdown",
   "metadata": {},
   "source": [
    "**70-79**"
   ]
  },
  {
   "cell_type": "code",
   "execution_count": 538,
   "metadata": {
    "scrolled": true
   },
   "outputs": [
    {
     "data": {
      "text/plain": [
       "[558376, 102637, 92812, 57349, 113981, 44317, 216204, 0]"
      ]
     },
     "execution_count": 538,
     "metadata": {},
     "output_type": "execute_result"
    }
   ],
   "source": [
    "pautaCompleta_vacunados_70_79_VACUN = [vacuna['pautaCompleta']['etarioRangos'][5]['vacunados'] if vacuna!= 0 else 0 for vacuna in s]\n",
    "pautaCompleta_vacunados_70_79_VACUN[:8]"
   ]
  },
  {
   "cell_type": "code",
   "execution_count": 539,
   "metadata": {
    "scrolled": true
   },
   "outputs": [
    {
     "data": {
      "text/plain": [
       "[650381, 118955, 109249, 80516, 154531, 53066, 245410, 0]"
      ]
     },
     "execution_count": 539,
     "metadata": {},
     "output_type": "execute_result"
    }
   ],
   "source": [
    "pautaCompleta_vacunados_70_79_INE = [vacuna['pautaCompleta']['etarioRangos'][5]['personasINE'] if vacuna!= 0 else 0 for vacuna in ss]\n",
    "pautaCompleta_vacunados_70_79_INE[:8]"
   ]
  },
  {
   "cell_type": "code",
   "execution_count": 540,
   "metadata": {
    "scrolled": true
   },
   "outputs": [
    {
     "data": {
      "text/plain": [
       "[0.8585367653729122,\n",
       " 0.8628220755747972,\n",
       " 0.8495455335975616,\n",
       " 0.7122683690198222,\n",
       " 0.7375931042962254,\n",
       " 0.8351298383145517,\n",
       " 0.8809909946619943,\n",
       " 0]"
      ]
     },
     "execution_count": 540,
     "metadata": {},
     "output_type": "execute_result"
    }
   ],
   "source": [
    "pautaCompleta_vacunados_70_79_PORCEN = [vacuna['pautaCompleta']['etarioRangos'][5]['porcentaje'] if vacuna!= 0 else 0 for vacuna in sss]\n",
    "pautaCompleta_vacunados_70_79_PORCEN[:8]"
   ]
  },
  {
   "cell_type": "markdown",
   "metadata": {},
   "source": [
    "**80+**"
   ]
  },
  {
   "cell_type": "code",
   "execution_count": 541,
   "metadata": {
    "scrolled": false
   },
   "outputs": [
    {
     "data": {
      "text/plain": [
       "[417686, 97714, 85676, 48281, 84578, 41156, 223225, 0]"
      ]
     },
     "execution_count": 541,
     "metadata": {},
     "output_type": "execute_result"
    }
   ],
   "source": [
    "pautaCompleta_vacunados_80_VACUN = [vacuna['pautaCompleta']['etarioRangos'][6]['vacunados'] if vacuna!= 0 else 0 for vacuna in s]\n",
    "pautaCompleta_vacunados_80_VACUN[:8]"
   ]
  },
  {
   "cell_type": "code",
   "execution_count": 542,
   "metadata": {
    "scrolled": false
   },
   "outputs": [
    {
     "data": {
      "text/plain": [
       "[413516, 98807, 87826, 49542, 90236, 41042, 223657, 0]"
      ]
     },
     "execution_count": 542,
     "metadata": {},
     "output_type": "execute_result"
    }
   ],
   "source": [
    "pautaCompleta_vacunados_80_INE = [vacuna['pautaCompleta']['etarioRangos'][6]['personasINE']  if vacuna!= 0 else 0 for vacuna in ss]\n",
    "pautaCompleta_vacunados_80_INE[:8]"
   ]
  },
  {
   "cell_type": "code",
   "execution_count": 543,
   "metadata": {
    "scrolled": false
   },
   "outputs": [
    {
     "data": {
      "text/plain": [
       "[1,\n",
       " 0.9889380307063265,\n",
       " 0.9755197777423542,\n",
       " 0.9745468491381051,\n",
       " 0.9372977525599538,\n",
       " 1,\n",
       " 0.998068470917521,\n",
       " 0]"
      ]
     },
     "execution_count": 543,
     "metadata": {},
     "output_type": "execute_result"
    }
   ],
   "source": [
    "pautaCompleta_vacunados_80_PORCEN = [vacuna['pautaCompleta']['etarioRangos'][6]['porcentaje'] if vacuna!= 0 else 0 for vacuna in sss]\n",
    "pautaCompleta_vacunados_80_PORCEN[:8]"
   ]
  },
  {
   "cell_type": "markdown",
   "metadata": {},
   "source": [
    "# DATAFRAME (UnaDosis -DosisCompleta)"
   ]
  },
  {
   "cell_type": "markdown",
   "metadata": {},
   "source": [
    "**UNA DOSIS - CCAA**"
   ]
  },
  {
   "cell_type": "code",
   "execution_count": 386,
   "metadata": {},
   "outputs": [
    {
     "data": {
      "text/plain": [
       "'Andalucía'"
      ]
     },
     "execution_count": 386,
     "metadata": {},
     "output_type": "execute_result"
    }
   ],
   "source": [
    "unaDosis_vacunados_total[0]['ccaa']   "
   ]
  },
  {
   "cell_type": "code",
   "execution_count": 388,
   "metadata": {
    "scrolled": true
   },
   "outputs": [
    {
     "data": {
      "text/plain": [
       "['Andalucía',\n",
       " 'Aragón',\n",
       " 'Asturias',\n",
       " 'Baleares',\n",
       " 'Canarias',\n",
       " 'Cantabria',\n",
       " 'Castilla y Leon',\n",
       " 'Cataluña',\n",
       " 'C. Valenciana',\n",
       " 'Extremadura',\n",
       " 'Galicia',\n",
       " 'La Rioja',\n",
       " 'Madrid',\n",
       " 'Murcia',\n",
       " 'Navarra',\n",
       " 'País Vasco',\n",
       " 'Ceuta',\n",
       " 'Melilla',\n",
       " 'Totales']"
      ]
     },
     "execution_count": 388,
     "metadata": {},
     "output_type": "execute_result"
    }
   ],
   "source": [
    "unaDosis_vacunados_total_CCAA = [ccaa['ccaa']  for ccaa in unaDosis_vacunados_total]\n",
    "unaDosis_vacunados_total_CCAA"
   ]
  },
  {
   "cell_type": "markdown",
   "metadata": {},
   "source": [
    "**PAUTA COMPLETA - CCAA**"
   ]
  },
  {
   "cell_type": "code",
   "execution_count": 391,
   "metadata": {},
   "outputs": [
    {
     "data": {
      "text/plain": [
       "'Andalucía'"
      ]
     },
     "execution_count": 391,
     "metadata": {},
     "output_type": "execute_result"
    }
   ],
   "source": [
    "pautacompleta_vacunados_total[0]['ccaa']"
   ]
  },
  {
   "cell_type": "code",
   "execution_count": 392,
   "metadata": {},
   "outputs": [
    {
     "data": {
      "text/plain": [
       "['Andalucía',\n",
       " 'Aragón',\n",
       " 'Asturias',\n",
       " 'Baleares',\n",
       " 'Canarias',\n",
       " 'Cantabria',\n",
       " 'Castilla y Leon',\n",
       " 'Castilla La Mancha',\n",
       " 'Cataluña',\n",
       " 'C. Valenciana',\n",
       " 'Extremadura',\n",
       " 'Galicia',\n",
       " 'La Rioja',\n",
       " 'Madrid',\n",
       " 'Murcia',\n",
       " 'Navarra',\n",
       " 'País Vasco',\n",
       " 'Ceuta',\n",
       " 'Melilla',\n",
       " 'Fuerzas Armadas',\n",
       " 'Totales']"
      ]
     },
     "execution_count": 392,
     "metadata": {},
     "output_type": "execute_result"
    }
   ],
   "source": [
    "pautacompleta_vacunados_total_CCAA = [ ccaa['ccaa']for ccaa in pautacompleta_vacunados_total]\n",
    "pautacompleta_vacunados_total_CCAA"
   ]
  },
  {
   "cell_type": "code",
   "execution_count": null,
   "metadata": {},
   "outputs": [],
   "source": []
  },
  {
   "cell_type": "code",
   "execution_count": null,
   "metadata": {},
   "outputs": [],
   "source": []
  },
  {
   "cell_type": "code",
   "execution_count": 371,
   "metadata": {},
   "outputs": [
    {
     "data": {
      "text/plain": [
       "(19, 19, 19, 21, 21, 21)"
      ]
     },
     "execution_count": 371,
     "metadata": {},
     "output_type": "execute_result"
    }
   ],
   "source": [
    "len(unaDosis_vacunados_total_COL), len(unaDosis_vacunados_total_INE_COL), len(unaDosis_vacunados_total_porcentaje_COL), len(pautaCompleta_vacunados_total_COL), len(pautaCompleta_vacunados_total_INE_COL), len(pautaCompleta_vacunados_total_porcentaje_COL)"
   ]
  },
  {
   "cell_type": "markdown",
   "metadata": {},
   "source": [
    "**TABLAS**"
   ]
  },
  {
   "cell_type": "code",
   "execution_count": 421,
   "metadata": {},
   "outputs": [],
   "source": [
    "unadosis = {'CCAA': unaDosis_vacunados_total_CCAA,\n",
    "              'Una Dosis Vacunas TOTAL': unaDosis_vacunados_total_COL, \n",
    "              'Una Dosis personas INE': unaDosis_vacunados_total_INE_COL,\n",
    "              'Una Dosis % Total': unaDosis_vacunados_total_porcentaje_COL,}"
   ]
  },
  {
   "cell_type": "code",
   "execution_count": 423,
   "metadata": {},
   "outputs": [],
   "source": [
    "dosiscompleta = {'CCAA': pautacompleta_vacunados_total_CCAA,\n",
    "              'Dosis Completa TOTAL': pautaCompleta_vacunados_total_COL,\n",
    "              'Dosis Completa INE': pautaCompleta_vacunados_total_INE_COL,\n",
    "              'Dosis Completa % Total': pautaCompleta_vacunados_total_porcentaje_COL}"
   ]
  },
  {
   "cell_type": "code",
   "execution_count": null,
   "metadata": {},
   "outputs": [],
   "source": []
  },
  {
   "cell_type": "code",
   "execution_count": 422,
   "metadata": {},
   "outputs": [
    {
     "data": {
      "text/html": [
       "<div>\n",
       "<style scoped>\n",
       "    .dataframe tbody tr th:only-of-type {\n",
       "        vertical-align: middle;\n",
       "    }\n",
       "\n",
       "    .dataframe tbody tr th {\n",
       "        vertical-align: top;\n",
       "    }\n",
       "\n",
       "    .dataframe thead th {\n",
       "        text-align: right;\n",
       "    }\n",
       "</style>\n",
       "<table border=\"1\" class=\"dataframe\">\n",
       "  <thead>\n",
       "    <tr style=\"text-align: right;\">\n",
       "      <th></th>\n",
       "      <th>CCAA</th>\n",
       "      <th>Una Dosis Vacunas TOTAL</th>\n",
       "      <th>Una Dosis personas INE</th>\n",
       "      <th>Una Dosis % Total</th>\n",
       "    </tr>\n",
       "  </thead>\n",
       "  <tbody>\n",
       "    <tr>\n",
       "      <th>0</th>\n",
       "      <td>Andalucía</td>\n",
       "      <td>2804632</td>\n",
       "      <td>7062213</td>\n",
       "      <td>0.397132</td>\n",
       "    </tr>\n",
       "    <tr>\n",
       "      <th>1</th>\n",
       "      <td>Aragón</td>\n",
       "      <td>494372</td>\n",
       "      <td>1132764</td>\n",
       "      <td>0.436430</td>\n",
       "    </tr>\n",
       "    <tr>\n",
       "      <th>2</th>\n",
       "      <td>Asturias</td>\n",
       "      <td>447261</td>\n",
       "      <td>901209</td>\n",
       "      <td>0.496290</td>\n",
       "    </tr>\n",
       "    <tr>\n",
       "      <th>3</th>\n",
       "      <td>Baleares</td>\n",
       "      <td>336944</td>\n",
       "      <td>986279</td>\n",
       "      <td>0.341632</td>\n",
       "    </tr>\n",
       "    <tr>\n",
       "      <th>4</th>\n",
       "      <td>Canarias</td>\n",
       "      <td>616270</td>\n",
       "      <td>1871033</td>\n",
       "      <td>0.329374</td>\n",
       "    </tr>\n",
       "    <tr>\n",
       "      <th>5</th>\n",
       "      <td>Cantabria</td>\n",
       "      <td>216835</td>\n",
       "      <td>501384</td>\n",
       "      <td>0.432473</td>\n",
       "    </tr>\n",
       "    <tr>\n",
       "      <th>6</th>\n",
       "      <td>Castilla y Leon</td>\n",
       "      <td>959720</td>\n",
       "      <td>2092873</td>\n",
       "      <td>0.458566</td>\n",
       "    </tr>\n",
       "    <tr>\n",
       "      <th>7</th>\n",
       "      <td>Cataluña</td>\n",
       "      <td>2642992</td>\n",
       "      <td>6531658</td>\n",
       "      <td>0.404643</td>\n",
       "    </tr>\n",
       "    <tr>\n",
       "      <th>8</th>\n",
       "      <td>C. Valenciana</td>\n",
       "      <td>1668460</td>\n",
       "      <td>4269305</td>\n",
       "      <td>0.390804</td>\n",
       "    </tr>\n",
       "    <tr>\n",
       "      <th>9</th>\n",
       "      <td>Extremadura</td>\n",
       "      <td>404699</td>\n",
       "      <td>911213</td>\n",
       "      <td>0.444132</td>\n",
       "    </tr>\n",
       "    <tr>\n",
       "      <th>10</th>\n",
       "      <td>Galicia</td>\n",
       "      <td>1115803</td>\n",
       "      <td>2362643</td>\n",
       "      <td>0.472269</td>\n",
       "    </tr>\n",
       "    <tr>\n",
       "      <th>11</th>\n",
       "      <td>La Rioja</td>\n",
       "      <td>115235</td>\n",
       "      <td>270788</td>\n",
       "      <td>0.425554</td>\n",
       "    </tr>\n",
       "    <tr>\n",
       "      <th>12</th>\n",
       "      <td>Madrid</td>\n",
       "      <td>2168152</td>\n",
       "      <td>5695623</td>\n",
       "      <td>0.380670</td>\n",
       "    </tr>\n",
       "    <tr>\n",
       "      <th>13</th>\n",
       "      <td>Murcia</td>\n",
       "      <td>429379</td>\n",
       "      <td>1237479</td>\n",
       "      <td>0.346979</td>\n",
       "    </tr>\n",
       "    <tr>\n",
       "      <th>14</th>\n",
       "      <td>Navarra</td>\n",
       "      <td>237738</td>\n",
       "      <td>552935</td>\n",
       "      <td>0.429957</td>\n",
       "    </tr>\n",
       "    <tr>\n",
       "      <th>15</th>\n",
       "      <td>País Vasco</td>\n",
       "      <td>849078</td>\n",
       "      <td>1898123</td>\n",
       "      <td>0.447325</td>\n",
       "    </tr>\n",
       "    <tr>\n",
       "      <th>16</th>\n",
       "      <td>Ceuta</td>\n",
       "      <td>25381</td>\n",
       "      <td>66158</td>\n",
       "      <td>0.383642</td>\n",
       "    </tr>\n",
       "    <tr>\n",
       "      <th>17</th>\n",
       "      <td>Melilla</td>\n",
       "      <td>22354</td>\n",
       "      <td>66178</td>\n",
       "      <td>0.337786</td>\n",
       "    </tr>\n",
       "    <tr>\n",
       "      <th>18</th>\n",
       "      <td>Totales</td>\n",
       "      <td>16347683</td>\n",
       "      <td>40129822</td>\n",
       "      <td>0.407370</td>\n",
       "    </tr>\n",
       "  </tbody>\n",
       "</table>\n",
       "</div>"
      ],
      "text/plain": [
       "               CCAA  Una Dosis Vacunas TOTAL  Una Dosis personas INE  \\\n",
       "0         Andalucía                  2804632                 7062213   \n",
       "1            Aragón                   494372                 1132764   \n",
       "2          Asturias                   447261                  901209   \n",
       "3          Baleares                   336944                  986279   \n",
       "4          Canarias                   616270                 1871033   \n",
       "5         Cantabria                   216835                  501384   \n",
       "6   Castilla y Leon                   959720                 2092873   \n",
       "7          Cataluña                  2642992                 6531658   \n",
       "8     C. Valenciana                  1668460                 4269305   \n",
       "9       Extremadura                   404699                  911213   \n",
       "10          Galicia                  1115803                 2362643   \n",
       "11         La Rioja                   115235                  270788   \n",
       "12           Madrid                  2168152                 5695623   \n",
       "13           Murcia                   429379                 1237479   \n",
       "14          Navarra                   237738                  552935   \n",
       "15       País Vasco                   849078                 1898123   \n",
       "16            Ceuta                    25381                   66158   \n",
       "17          Melilla                    22354                   66178   \n",
       "18          Totales                 16347683                40129822   \n",
       "\n",
       "    Una Dosis % Total  \n",
       "0            0.397132  \n",
       "1            0.436430  \n",
       "2            0.496290  \n",
       "3            0.341632  \n",
       "4            0.329374  \n",
       "5            0.432473  \n",
       "6            0.458566  \n",
       "7            0.404643  \n",
       "8            0.390804  \n",
       "9            0.444132  \n",
       "10           0.472269  \n",
       "11           0.425554  \n",
       "12           0.380670  \n",
       "13           0.346979  \n",
       "14           0.429957  \n",
       "15           0.447325  \n",
       "16           0.383642  \n",
       "17           0.337786  \n",
       "18           0.407370  "
      ]
     },
     "execution_count": 422,
     "metadata": {},
     "output_type": "execute_result"
    }
   ],
   "source": [
    "df_unadosis = pd.DataFrame(unadosis)\n",
    "df_unadosis"
   ]
  },
  {
   "cell_type": "code",
   "execution_count": 424,
   "metadata": {},
   "outputs": [
    {
     "data": {
      "text/html": [
       "<div>\n",
       "<style scoped>\n",
       "    .dataframe tbody tr th:only-of-type {\n",
       "        vertical-align: middle;\n",
       "    }\n",
       "\n",
       "    .dataframe tbody tr th {\n",
       "        vertical-align: top;\n",
       "    }\n",
       "\n",
       "    .dataframe thead th {\n",
       "        text-align: right;\n",
       "    }\n",
       "</style>\n",
       "<table border=\"1\" class=\"dataframe\">\n",
       "  <thead>\n",
       "    <tr style=\"text-align: right;\">\n",
       "      <th></th>\n",
       "      <th>CCAA</th>\n",
       "      <th>Dosis Completa TOTAL</th>\n",
       "      <th>Dosis Completa INE</th>\n",
       "      <th>Dosis Completa % Total</th>\n",
       "    </tr>\n",
       "  </thead>\n",
       "  <tbody>\n",
       "    <tr>\n",
       "      <th>0</th>\n",
       "      <td>Andalucía</td>\n",
       "      <td>1324848</td>\n",
       "      <td>7062213</td>\n",
       "      <td>0.187597</td>\n",
       "    </tr>\n",
       "    <tr>\n",
       "      <th>1</th>\n",
       "      <td>Aragón</td>\n",
       "      <td>270668</td>\n",
       "      <td>1132764</td>\n",
       "      <td>0.238945</td>\n",
       "    </tr>\n",
       "    <tr>\n",
       "      <th>2</th>\n",
       "      <td>Asturias</td>\n",
       "      <td>248389</td>\n",
       "      <td>901209</td>\n",
       "      <td>0.275618</td>\n",
       "    </tr>\n",
       "    <tr>\n",
       "      <th>3</th>\n",
       "      <td>Baleares</td>\n",
       "      <td>141426</td>\n",
       "      <td>986279</td>\n",
       "      <td>0.143394</td>\n",
       "    </tr>\n",
       "    <tr>\n",
       "      <th>4</th>\n",
       "      <td>Canarias</td>\n",
       "      <td>283662</td>\n",
       "      <td>1871033</td>\n",
       "      <td>0.151607</td>\n",
       "    </tr>\n",
       "    <tr>\n",
       "      <th>5</th>\n",
       "      <td>Cantabria</td>\n",
       "      <td>110435</td>\n",
       "      <td>501384</td>\n",
       "      <td>0.220260</td>\n",
       "    </tr>\n",
       "    <tr>\n",
       "      <th>6</th>\n",
       "      <td>Castilla y Leon</td>\n",
       "      <td>567430</td>\n",
       "      <td>2092873</td>\n",
       "      <td>0.271125</td>\n",
       "    </tr>\n",
       "    <tr>\n",
       "      <th>7</th>\n",
       "      <td>Castilla La Mancha</td>\n",
       "      <td>0</td>\n",
       "      <td>0</td>\n",
       "      <td>0.000000</td>\n",
       "    </tr>\n",
       "    <tr>\n",
       "      <th>8</th>\n",
       "      <td>Cataluña</td>\n",
       "      <td>1135792</td>\n",
       "      <td>6531658</td>\n",
       "      <td>0.173890</td>\n",
       "    </tr>\n",
       "    <tr>\n",
       "      <th>9</th>\n",
       "      <td>C. Valenciana</td>\n",
       "      <td>776451</td>\n",
       "      <td>4269305</td>\n",
       "      <td>0.181868</td>\n",
       "    </tr>\n",
       "    <tr>\n",
       "      <th>10</th>\n",
       "      <td>Extremadura</td>\n",
       "      <td>216051</td>\n",
       "      <td>911213</td>\n",
       "      <td>0.237103</td>\n",
       "    </tr>\n",
       "    <tr>\n",
       "      <th>11</th>\n",
       "      <td>Galicia</td>\n",
       "      <td>603245</td>\n",
       "      <td>2362643</td>\n",
       "      <td>0.255326</td>\n",
       "    </tr>\n",
       "    <tr>\n",
       "      <th>12</th>\n",
       "      <td>La Rioja</td>\n",
       "      <td>61926</td>\n",
       "      <td>270788</td>\n",
       "      <td>0.228688</td>\n",
       "    </tr>\n",
       "    <tr>\n",
       "      <th>13</th>\n",
       "      <td>Madrid</td>\n",
       "      <td>1018574</td>\n",
       "      <td>5695623</td>\n",
       "      <td>0.178835</td>\n",
       "    </tr>\n",
       "    <tr>\n",
       "      <th>14</th>\n",
       "      <td>Murcia</td>\n",
       "      <td>214026</td>\n",
       "      <td>1237479</td>\n",
       "      <td>0.172953</td>\n",
       "    </tr>\n",
       "    <tr>\n",
       "      <th>15</th>\n",
       "      <td>Navarra</td>\n",
       "      <td>121398</td>\n",
       "      <td>552935</td>\n",
       "      <td>0.219552</td>\n",
       "    </tr>\n",
       "    <tr>\n",
       "      <th>16</th>\n",
       "      <td>País Vasco</td>\n",
       "      <td>382394</td>\n",
       "      <td>1898123</td>\n",
       "      <td>0.201459</td>\n",
       "    </tr>\n",
       "    <tr>\n",
       "      <th>17</th>\n",
       "      <td>Ceuta</td>\n",
       "      <td>8631</td>\n",
       "      <td>66158</td>\n",
       "      <td>0.130460</td>\n",
       "    </tr>\n",
       "    <tr>\n",
       "      <th>18</th>\n",
       "      <td>Melilla</td>\n",
       "      <td>7713</td>\n",
       "      <td>66178</td>\n",
       "      <td>0.116549</td>\n",
       "    </tr>\n",
       "    <tr>\n",
       "      <th>19</th>\n",
       "      <td>Fuerzas Armadas</td>\n",
       "      <td>0</td>\n",
       "      <td>0</td>\n",
       "      <td>0.000000</td>\n",
       "    </tr>\n",
       "    <tr>\n",
       "      <th>20</th>\n",
       "      <td>Totales</td>\n",
       "      <td>7865313</td>\n",
       "      <td>40129822</td>\n",
       "      <td>0.195997</td>\n",
       "    </tr>\n",
       "  </tbody>\n",
       "</table>\n",
       "</div>"
      ],
      "text/plain": [
       "                  CCAA  Dosis Completa TOTAL  Dosis Completa INE  \\\n",
       "0            Andalucía               1324848             7062213   \n",
       "1               Aragón                270668             1132764   \n",
       "2             Asturias                248389              901209   \n",
       "3             Baleares                141426              986279   \n",
       "4             Canarias                283662             1871033   \n",
       "5            Cantabria                110435              501384   \n",
       "6      Castilla y Leon                567430             2092873   \n",
       "7   Castilla La Mancha                     0                   0   \n",
       "8             Cataluña               1135792             6531658   \n",
       "9        C. Valenciana                776451             4269305   \n",
       "10         Extremadura                216051              911213   \n",
       "11             Galicia                603245             2362643   \n",
       "12            La Rioja                 61926              270788   \n",
       "13              Madrid               1018574             5695623   \n",
       "14              Murcia                214026             1237479   \n",
       "15             Navarra                121398              552935   \n",
       "16          País Vasco                382394             1898123   \n",
       "17               Ceuta                  8631               66158   \n",
       "18             Melilla                  7713               66178   \n",
       "19     Fuerzas Armadas                     0                   0   \n",
       "20             Totales               7865313            40129822   \n",
       "\n",
       "    Dosis Completa % Total  \n",
       "0                 0.187597  \n",
       "1                 0.238945  \n",
       "2                 0.275618  \n",
       "3                 0.143394  \n",
       "4                 0.151607  \n",
       "5                 0.220260  \n",
       "6                 0.271125  \n",
       "7                 0.000000  \n",
       "8                 0.173890  \n",
       "9                 0.181868  \n",
       "10                0.237103  \n",
       "11                0.255326  \n",
       "12                0.228688  \n",
       "13                0.178835  \n",
       "14                0.172953  \n",
       "15                0.219552  \n",
       "16                0.201459  \n",
       "17                0.130460  \n",
       "18                0.116549  \n",
       "19                0.000000  \n",
       "20                0.195997  "
      ]
     },
     "execution_count": 424,
     "metadata": {},
     "output_type": "execute_result"
    }
   ],
   "source": [
    "df_dosiscompleta = pd.DataFrame(dosiscompleta)\n",
    "df_dosiscompleta"
   ]
  },
  {
   "cell_type": "code",
   "execution_count": null,
   "metadata": {},
   "outputs": [],
   "source": []
  },
  {
   "cell_type": "code",
   "execution_count": 574,
   "metadata": {},
   "outputs": [],
   "source": [
    "    etarios_unadosis = {'CCAA Una Dosis': unaDosis_vacunados_total_CCAA,\n",
    "                       '16-17 Vacunados': unaDosis_vacunados_RANGOS_16_17_VACUNA,\n",
    "                       '18-24 Vacunados': unaDosis_vacunados_RANGOS_18_24_VACUNA,\n",
    "                       '25-49 Vacunados': unaDosis_vacunados_RANGOS_25_49_VACUNA,\n",
    "                       '50-59 Vacunados': unaDosis_vacunados_RANGOS_50_59_VACUNA,\n",
    "                       '60-69 Vacunados': unaDosis_vacunados_RANGOS_60_69_VACUNA,\n",
    "                       '70-79 Vacunados': unaDosis_vacunados_RANGOS_70_79_VACUNA,\n",
    "                       '80+ Vacunados': unaDosis_vacunados_RANGOS_80_VACUNA,\n",
    "                       '16-17 INE': unaDosis_vacunados_RANGOS_16_17_INE,\n",
    "                       '18-24 INE': unaDosis_vacunados_RANGOS_18_24_INE,\n",
    "                       '25-49 INE': unaDosis_vacunados_RANGOS_25_49_INE,\n",
    "                       '50-59 INE': unaDosis_vacunados_RANGOS_50_59_INE,\n",
    "                       '60-69 INE': unaDosis_vacunados_RANGOS_60_69_INE,\n",
    "                       '70-79 INE': unaDosis_vacunados_RANGOS_70_79_INE,\n",
    "                       '80+ INE': unaDosis_vacunados_RANGOS_80_INE,\n",
    "                       '16-17 %': unaDosis_vacunados_RANGOS_16_17_PORCEN,\n",
    "                       '18-24 %': unaDosis_vacunados_RANGOS_18_24_PORCEN,\n",
    "                       '25-49 %': unaDosis_vacunados_RANGOS_25_49_PORCEN,\n",
    "                       '50-59 %': unaDosis_vacunados_RANGOS_50_59_PORCEN,\n",
    "                       '60-69 %': unaDosis_vacunados_RANGOS_60_69_PORCEN,\n",
    "                       '70-79 %': unaDosis_vacunados_RANGOS_70_79_PORCEN,\n",
    "                       '80+ %': unaDosis_vacunados_RANGOS_80_PORCEN}"
   ]
  },
  {
   "cell_type": "code",
   "execution_count": 552,
   "metadata": {},
   "outputs": [],
   "source": [
    "etarios_dosiscompleta = {'CCAA Pautas Completas':pautacompleta_vacunados_total_CCAA,\n",
    "                        '16-17 Vacunados': pautaCompleta_vacunados_16_17_VACUN,\n",
    "                        '18-24 Vacunados': pautaCompleta_vacunados_18_24_VACUN,\n",
    "                        '25-49 Vacunados': pautaCompleta_vacunados_25_49_VACUN,\n",
    "                        '50-59 Vacunados': pautaCompleta_vacunados_50_59_VACUN,\n",
    "                        '60-69 Vacunados': pautaCompleta_vacunados_60_69_VACUN,\n",
    "                        '70-79 Vacunados': pautaCompleta_vacunados_70_79_VACUN,\n",
    "                        '80+ Vacunados': pautaCompleta_vacunados_80_VACUN,\n",
    "                        '16-17 INE': pautaCompleta_vacunados_16_17_INE,\n",
    "                        '18-24 INE': pautaCompleta_vacunados_18_24_INE,\n",
    "                        '25-49 INE': pautaCompleta_vacunados_25_49_INE,\n",
    "                        '50-59 INE': pautaCompleta_vacunados_50_59_INE,\n",
    "                        '60-69 INE': pautaCompleta_vacunados_60_69_INE,\n",
    "                        '70-79 INE': pautaCompleta_vacunados_70_79_INE,\n",
    "                        '80+ INE': pautaCompleta_vacunados_80_INE,\n",
    "                        '16-17 %': pautaCompleta_vacunados_16_17_PORCEN,\n",
    "                        '18-24 %': pautaCompleta_vacunados_18_24_VACUN,\n",
    "                        '25-49 %': pautaCompleta_vacunados_25_49_VACUN,\n",
    "                        '50-59 %': pautaCompleta_vacunados_50_59_VACUN,\n",
    "                        '60-69 %': pautaCompleta_vacunados_60_69_VACUN,\n",
    "                        '70-79 %': pautaCompleta_vacunados_70_79_VACUN,\n",
    "                        '80+ %': pautaCompleta_vacunados_80_VACUN}"
   ]
  },
  {
   "cell_type": "code",
   "execution_count": 575,
   "metadata": {},
   "outputs": [
    {
     "data": {
      "text/html": [
       "<div>\n",
       "<style scoped>\n",
       "    .dataframe tbody tr th:only-of-type {\n",
       "        vertical-align: middle;\n",
       "    }\n",
       "\n",
       "    .dataframe tbody tr th {\n",
       "        vertical-align: top;\n",
       "    }\n",
       "\n",
       "    .dataframe thead th {\n",
       "        text-align: right;\n",
       "    }\n",
       "</style>\n",
       "<table border=\"1\" class=\"dataframe\">\n",
       "  <thead>\n",
       "    <tr style=\"text-align: right;\">\n",
       "      <th></th>\n",
       "      <th>CCAA Una Dosis</th>\n",
       "      <th>16-17 Vacunados</th>\n",
       "      <th>18-24 Vacunados</th>\n",
       "      <th>25-49 Vacunados</th>\n",
       "      <th>50-59 Vacunados</th>\n",
       "      <th>60-69 Vacunados</th>\n",
       "      <th>70-79 Vacunados</th>\n",
       "      <th>80+ Vacunados</th>\n",
       "      <th>16-17 INE</th>\n",
       "      <th>18-24 INE</th>\n",
       "      <th>...</th>\n",
       "      <th>60-69 INE</th>\n",
       "      <th>70-79 INE</th>\n",
       "      <th>80+ INE</th>\n",
       "      <th>16-17 %</th>\n",
       "      <th>18-24 %</th>\n",
       "      <th>25-49 %</th>\n",
       "      <th>50-59 %</th>\n",
       "      <th>60-69 %</th>\n",
       "      <th>70-79 %</th>\n",
       "      <th>80+ %</th>\n",
       "    </tr>\n",
       "  </thead>\n",
       "  <tbody>\n",
       "    <tr>\n",
       "      <th>0</th>\n",
       "      <td>Andalucía</td>\n",
       "      <td>479</td>\n",
       "      <td>35248</td>\n",
       "      <td>371210</td>\n",
       "      <td>541102</td>\n",
       "      <td>793166</td>\n",
       "      <td>634625</td>\n",
       "      <td>428802</td>\n",
       "      <td>181921</td>\n",
       "      <td>625846</td>\n",
       "      <td>...</td>\n",
       "      <td>916147</td>\n",
       "      <td>650381</td>\n",
       "      <td>413516</td>\n",
       "      <td>0.002633</td>\n",
       "      <td>0.056321</td>\n",
       "      <td>0.123351</td>\n",
       "      <td>0.427742</td>\n",
       "      <td>0.865763</td>\n",
       "      <td>0.975774</td>\n",
       "      <td>1.000000</td>\n",
       "    </tr>\n",
       "    <tr>\n",
       "      <th>1</th>\n",
       "      <td>Aragón</td>\n",
       "      <td>54</td>\n",
       "      <td>6492</td>\n",
       "      <td>59129</td>\n",
       "      <td>74695</td>\n",
       "      <td>138052</td>\n",
       "      <td>115822</td>\n",
       "      <td>100128</td>\n",
       "      <td>25106</td>\n",
       "      <td>89180</td>\n",
       "      <td>...</td>\n",
       "      <td>156367</td>\n",
       "      <td>118955</td>\n",
       "      <td>98807</td>\n",
       "      <td>0.002151</td>\n",
       "      <td>0.072797</td>\n",
       "      <td>0.132552</td>\n",
       "      <td>0.376741</td>\n",
       "      <td>0.882872</td>\n",
       "      <td>0.973662</td>\n",
       "      <td>1.000000</td>\n",
       "    </tr>\n",
       "    <tr>\n",
       "      <th>2</th>\n",
       "      <td>Asturias</td>\n",
       "      <td>41</td>\n",
       "      <td>4488</td>\n",
       "      <td>44321</td>\n",
       "      <td>66311</td>\n",
       "      <td>132571</td>\n",
       "      <td>111644</td>\n",
       "      <td>87885</td>\n",
       "      <td>15563</td>\n",
       "      <td>54179</td>\n",
       "      <td>...</td>\n",
       "      <td>149652</td>\n",
       "      <td>109249</td>\n",
       "      <td>87826</td>\n",
       "      <td>0.002634</td>\n",
       "      <td>0.082837</td>\n",
       "      <td>0.137602</td>\n",
       "      <td>0.407704</td>\n",
       "      <td>0.885862</td>\n",
       "      <td>1.000000</td>\n",
       "      <td>1.000000</td>\n",
       "    </tr>\n",
       "    <tr>\n",
       "      <th>3</th>\n",
       "      <td>Baleares</td>\n",
       "      <td>41</td>\n",
       "      <td>4207</td>\n",
       "      <td>48266</td>\n",
       "      <td>66952</td>\n",
       "      <td>92250</td>\n",
       "      <td>75134</td>\n",
       "      <td>50094</td>\n",
       "      <td>23300</td>\n",
       "      <td>85839</td>\n",
       "      <td>...</td>\n",
       "      <td>117231</td>\n",
       "      <td>80516</td>\n",
       "      <td>49542</td>\n",
       "      <td>0.001760</td>\n",
       "      <td>0.049010</td>\n",
       "      <td>0.104009</td>\n",
       "      <td>0.403819</td>\n",
       "      <td>0.786908</td>\n",
       "      <td>0.933156</td>\n",
       "      <td>1.000000</td>\n",
       "    </tr>\n",
       "    <tr>\n",
       "      <th>4</th>\n",
       "      <td>Canarias</td>\n",
       "      <td>69</td>\n",
       "      <td>7258</td>\n",
       "      <td>88213</td>\n",
       "      <td>101590</td>\n",
       "      <td>186698</td>\n",
       "      <td>142687</td>\n",
       "      <td>89755</td>\n",
       "      <td>44352</td>\n",
       "      <td>163899</td>\n",
       "      <td>...</td>\n",
       "      <td>235092</td>\n",
       "      <td>154531</td>\n",
       "      <td>90236</td>\n",
       "      <td>0.001556</td>\n",
       "      <td>0.044283</td>\n",
       "      <td>0.105973</td>\n",
       "      <td>0.289833</td>\n",
       "      <td>0.794149</td>\n",
       "      <td>0.923355</td>\n",
       "      <td>0.994670</td>\n",
       "    </tr>\n",
       "    <tr>\n",
       "      <th>5</th>\n",
       "      <td>Cantabria</td>\n",
       "      <td>8</td>\n",
       "      <td>1766</td>\n",
       "      <td>25023</td>\n",
       "      <td>27001</td>\n",
       "      <td>66150</td>\n",
       "      <td>54988</td>\n",
       "      <td>41899</td>\n",
       "      <td>10791</td>\n",
       "      <td>34935</td>\n",
       "      <td>...</td>\n",
       "      <td>77345</td>\n",
       "      <td>53066</td>\n",
       "      <td>41042</td>\n",
       "      <td>0.000741</td>\n",
       "      <td>0.050551</td>\n",
       "      <td>0.128825</td>\n",
       "      <td>0.300131</td>\n",
       "      <td>0.855259</td>\n",
       "      <td>1.000000</td>\n",
       "      <td>1.000000</td>\n",
       "    </tr>\n",
       "    <tr>\n",
       "      <th>6</th>\n",
       "      <td>Castilla y Leon</td>\n",
       "      <td>112</td>\n",
       "      <td>8753</td>\n",
       "      <td>96770</td>\n",
       "      <td>87127</td>\n",
       "      <td>293624</td>\n",
       "      <td>245790</td>\n",
       "      <td>227544</td>\n",
       "      <td>40684</td>\n",
       "      <td>144422</td>\n",
       "      <td>...</td>\n",
       "      <td>318575</td>\n",
       "      <td>245410</td>\n",
       "      <td>223657</td>\n",
       "      <td>0.002753</td>\n",
       "      <td>0.060607</td>\n",
       "      <td>0.130956</td>\n",
       "      <td>0.228575</td>\n",
       "      <td>0.921679</td>\n",
       "      <td>1.000000</td>\n",
       "      <td>1.000000</td>\n",
       "    </tr>\n",
       "    <tr>\n",
       "      <th>7</th>\n",
       "      <td>Cataluña</td>\n",
       "      <td>691</td>\n",
       "      <td>45430</td>\n",
       "      <td>339992</td>\n",
       "      <td>526275</td>\n",
       "      <td>684712</td>\n",
       "      <td>593872</td>\n",
       "      <td>452020</td>\n",
       "      <td>159864</td>\n",
       "      <td>556316</td>\n",
       "      <td>...</td>\n",
       "      <td>837584</td>\n",
       "      <td>635292</td>\n",
       "      <td>447196</td>\n",
       "      <td>0.004322</td>\n",
       "      <td>0.081662</td>\n",
       "      <td>0.121269</td>\n",
       "      <td>0.482034</td>\n",
       "      <td>0.817485</td>\n",
       "      <td>0.934802</td>\n",
       "      <td>1.000000</td>\n",
       "    </tr>\n",
       "    <tr>\n",
       "      <th>8</th>\n",
       "      <td>C. Valenciana</td>\n",
       "      <td>172</td>\n",
       "      <td>19914</td>\n",
       "      <td>212359</td>\n",
       "      <td>217933</td>\n",
       "      <td>504404</td>\n",
       "      <td>420993</td>\n",
       "      <td>292685</td>\n",
       "      <td>103049</td>\n",
       "      <td>352834</td>\n",
       "      <td>...</td>\n",
       "      <td>580728</td>\n",
       "      <td>437862</td>\n",
       "      <td>276531</td>\n",
       "      <td>0.001669</td>\n",
       "      <td>0.056440</td>\n",
       "      <td>0.120251</td>\n",
       "      <td>0.289676</td>\n",
       "      <td>0.868572</td>\n",
       "      <td>0.961474</td>\n",
       "      <td>1.000000</td>\n",
       "    </tr>\n",
       "    <tr>\n",
       "      <th>9</th>\n",
       "      <td>Extremadura</td>\n",
       "      <td>68</td>\n",
       "      <td>2729</td>\n",
       "      <td>48066</td>\n",
       "      <td>58216</td>\n",
       "      <td>123185</td>\n",
       "      <td>94626</td>\n",
       "      <td>77809</td>\n",
       "      <td>20953</td>\n",
       "      <td>76088</td>\n",
       "      <td>...</td>\n",
       "      <td>125297</td>\n",
       "      <td>91876</td>\n",
       "      <td>76005</td>\n",
       "      <td>0.003245</td>\n",
       "      <td>0.035866</td>\n",
       "      <td>0.136637</td>\n",
       "      <td>0.344034</td>\n",
       "      <td>0.983144</td>\n",
       "      <td>1.000000</td>\n",
       "      <td>1.000000</td>\n",
       "    </tr>\n",
       "    <tr>\n",
       "      <th>10</th>\n",
       "      <td>Galicia</td>\n",
       "      <td>43</td>\n",
       "      <td>6049</td>\n",
       "      <td>102071</td>\n",
       "      <td>168602</td>\n",
       "      <td>317184</td>\n",
       "      <td>282997</td>\n",
       "      <td>238857</td>\n",
       "      <td>44014</td>\n",
       "      <td>152745</td>\n",
       "      <td>...</td>\n",
       "      <td>346927</td>\n",
       "      <td>289762</td>\n",
       "      <td>234302</td>\n",
       "      <td>0.000977</td>\n",
       "      <td>0.039602</td>\n",
       "      <td>0.114815</td>\n",
       "      <td>0.415389</td>\n",
       "      <td>0.914267</td>\n",
       "      <td>0.976653</td>\n",
       "      <td>1.000000</td>\n",
       "    </tr>\n",
       "    <tr>\n",
       "      <th>11</th>\n",
       "      <td>La Rioja</td>\n",
       "      <td>10</td>\n",
       "      <td>1455</td>\n",
       "      <td>14276</td>\n",
       "      <td>12950</td>\n",
       "      <td>35135</td>\n",
       "      <td>28218</td>\n",
       "      <td>23191</td>\n",
       "      <td>6286</td>\n",
       "      <td>21170</td>\n",
       "      <td>...</td>\n",
       "      <td>37718</td>\n",
       "      <td>28125</td>\n",
       "      <td>22207</td>\n",
       "      <td>0.001591</td>\n",
       "      <td>0.068729</td>\n",
       "      <td>0.132654</td>\n",
       "      <td>0.271694</td>\n",
       "      <td>0.931518</td>\n",
       "      <td>1.000000</td>\n",
       "      <td>1.000000</td>\n",
       "    </tr>\n",
       "    <tr>\n",
       "      <th>12</th>\n",
       "      <td>Madrid</td>\n",
       "      <td>404</td>\n",
       "      <td>30800</td>\n",
       "      <td>315254</td>\n",
       "      <td>357905</td>\n",
       "      <td>607888</td>\n",
       "      <td>488345</td>\n",
       "      <td>367556</td>\n",
       "      <td>135861</td>\n",
       "      <td>479716</td>\n",
       "      <td>...</td>\n",
       "      <td>703323</td>\n",
       "      <td>526081</td>\n",
       "      <td>364122</td>\n",
       "      <td>0.002974</td>\n",
       "      <td>0.064205</td>\n",
       "      <td>0.125412</td>\n",
       "      <td>0.367919</td>\n",
       "      <td>0.864308</td>\n",
       "      <td>0.928270</td>\n",
       "      <td>1.000000</td>\n",
       "    </tr>\n",
       "    <tr>\n",
       "      <th>13</th>\n",
       "      <td>Murcia</td>\n",
       "      <td>131</td>\n",
       "      <td>7340</td>\n",
       "      <td>62512</td>\n",
       "      <td>66704</td>\n",
       "      <td>122706</td>\n",
       "      <td>97257</td>\n",
       "      <td>72729</td>\n",
       "      <td>34712</td>\n",
       "      <td>118667</td>\n",
       "      <td>...</td>\n",
       "      <td>146909</td>\n",
       "      <td>102899</td>\n",
       "      <td>69771</td>\n",
       "      <td>0.003774</td>\n",
       "      <td>0.061854</td>\n",
       "      <td>0.113397</td>\n",
       "      <td>0.312788</td>\n",
       "      <td>0.835252</td>\n",
       "      <td>0.945170</td>\n",
       "      <td>1.000000</td>\n",
       "    </tr>\n",
       "    <tr>\n",
       "      <th>14</th>\n",
       "      <td>Navarra</td>\n",
       "      <td>9</td>\n",
       "      <td>3637</td>\n",
       "      <td>29808</td>\n",
       "      <td>40289</td>\n",
       "      <td>66721</td>\n",
       "      <td>55078</td>\n",
       "      <td>42196</td>\n",
       "      <td>13906</td>\n",
       "      <td>48505</td>\n",
       "      <td>...</td>\n",
       "      <td>73844</td>\n",
       "      <td>55792</td>\n",
       "      <td>41166</td>\n",
       "      <td>0.000647</td>\n",
       "      <td>0.074982</td>\n",
       "      <td>0.133651</td>\n",
       "      <td>0.416665</td>\n",
       "      <td>0.903540</td>\n",
       "      <td>0.987202</td>\n",
       "      <td>1.000000</td>\n",
       "    </tr>\n",
       "    <tr>\n",
       "      <th>15</th>\n",
       "      <td>País Vasco</td>\n",
       "      <td>33</td>\n",
       "      <td>12654</td>\n",
       "      <td>98930</td>\n",
       "      <td>109987</td>\n",
       "      <td>258270</td>\n",
       "      <td>208026</td>\n",
       "      <td>161178</td>\n",
       "      <td>41824</td>\n",
       "      <td>140323</td>\n",
       "      <td>...</td>\n",
       "      <td>280119</td>\n",
       "      <td>213081</td>\n",
       "      <td>157950</td>\n",
       "      <td>0.000789</td>\n",
       "      <td>0.090178</td>\n",
       "      <td>0.136484</td>\n",
       "      <td>0.323513</td>\n",
       "      <td>0.922001</td>\n",
       "      <td>0.976277</td>\n",
       "      <td>1.000000</td>\n",
       "    </tr>\n",
       "    <tr>\n",
       "      <th>16</th>\n",
       "      <td>Ceuta</td>\n",
       "      <td>7</td>\n",
       "      <td>400</td>\n",
       "      <td>4566</td>\n",
       "      <td>8399</td>\n",
       "      <td>6003</td>\n",
       "      <td>3681</td>\n",
       "      <td>2325</td>\n",
       "      <td>2175</td>\n",
       "      <td>7581</td>\n",
       "      <td>...</td>\n",
       "      <td>7857</td>\n",
       "      <td>4318</td>\n",
       "      <td>2605</td>\n",
       "      <td>0.003218</td>\n",
       "      <td>0.052763</td>\n",
       "      <td>0.151866</td>\n",
       "      <td>0.726809</td>\n",
       "      <td>0.764032</td>\n",
       "      <td>0.852478</td>\n",
       "      <td>0.892514</td>\n",
       "    </tr>\n",
       "    <tr>\n",
       "      <th>17</th>\n",
       "      <td>Melilla</td>\n",
       "      <td>6</td>\n",
       "      <td>298</td>\n",
       "      <td>4420</td>\n",
       "      <td>7135</td>\n",
       "      <td>5582</td>\n",
       "      <td>3027</td>\n",
       "      <td>1886</td>\n",
       "      <td>2324</td>\n",
       "      <td>8536</td>\n",
       "      <td>...</td>\n",
       "      <td>7827</td>\n",
       "      <td>3748</td>\n",
       "      <td>2349</td>\n",
       "      <td>0.002582</td>\n",
       "      <td>0.034911</td>\n",
       "      <td>0.146868</td>\n",
       "      <td>0.631472</td>\n",
       "      <td>0.713172</td>\n",
       "      <td>0.807631</td>\n",
       "      <td>0.802895</td>\n",
       "    </tr>\n",
       "    <tr>\n",
       "      <th>18</th>\n",
       "      <td>Totales</td>\n",
       "      <td>2487</td>\n",
       "      <td>213249</td>\n",
       "      <td>2099708</td>\n",
       "      <td>2691663</td>\n",
       "      <td>4634243</td>\n",
       "      <td>3811243</td>\n",
       "      <td>2895090</td>\n",
       "      <td>949049</td>\n",
       "      <td>3310299</td>\n",
       "      <td>...</td>\n",
       "      <td>5336986</td>\n",
       "      <td>3960045</td>\n",
       "      <td>2834024</td>\n",
       "      <td>0.002621</td>\n",
       "      <td>0.064420</td>\n",
       "      <td>0.125685</td>\n",
       "      <td>0.382702</td>\n",
       "      <td>0.868326</td>\n",
       "      <td>0.962424</td>\n",
       "      <td>1.000000</td>\n",
       "    </tr>\n",
       "  </tbody>\n",
       "</table>\n",
       "<p>19 rows × 22 columns</p>\n",
       "</div>"
      ],
      "text/plain": [
       "     CCAA Una Dosis  16-17 Vacunados  18-24 Vacunados  25-49 Vacunados  \\\n",
       "0         Andalucía              479            35248           371210   \n",
       "1            Aragón               54             6492            59129   \n",
       "2          Asturias               41             4488            44321   \n",
       "3          Baleares               41             4207            48266   \n",
       "4          Canarias               69             7258            88213   \n",
       "5         Cantabria                8             1766            25023   \n",
       "6   Castilla y Leon              112             8753            96770   \n",
       "7          Cataluña              691            45430           339992   \n",
       "8     C. Valenciana              172            19914           212359   \n",
       "9       Extremadura               68             2729            48066   \n",
       "10          Galicia               43             6049           102071   \n",
       "11         La Rioja               10             1455            14276   \n",
       "12           Madrid              404            30800           315254   \n",
       "13           Murcia              131             7340            62512   \n",
       "14          Navarra                9             3637            29808   \n",
       "15       País Vasco               33            12654            98930   \n",
       "16            Ceuta                7              400             4566   \n",
       "17          Melilla                6              298             4420   \n",
       "18          Totales             2487           213249          2099708   \n",
       "\n",
       "    50-59 Vacunados  60-69 Vacunados  70-79 Vacunados  80+ Vacunados  \\\n",
       "0            541102           793166           634625         428802   \n",
       "1             74695           138052           115822         100128   \n",
       "2             66311           132571           111644          87885   \n",
       "3             66952            92250            75134          50094   \n",
       "4            101590           186698           142687          89755   \n",
       "5             27001            66150            54988          41899   \n",
       "6             87127           293624           245790         227544   \n",
       "7            526275           684712           593872         452020   \n",
       "8            217933           504404           420993         292685   \n",
       "9             58216           123185            94626          77809   \n",
       "10           168602           317184           282997         238857   \n",
       "11            12950            35135            28218          23191   \n",
       "12           357905           607888           488345         367556   \n",
       "13            66704           122706            97257          72729   \n",
       "14            40289            66721            55078          42196   \n",
       "15           109987           258270           208026         161178   \n",
       "16             8399             6003             3681           2325   \n",
       "17             7135             5582             3027           1886   \n",
       "18          2691663          4634243          3811243        2895090   \n",
       "\n",
       "    16-17 INE  18-24 INE  ...  60-69 INE  70-79 INE  80+ INE   16-17 %  \\\n",
       "0      181921     625846  ...     916147     650381   413516  0.002633   \n",
       "1       25106      89180  ...     156367     118955    98807  0.002151   \n",
       "2       15563      54179  ...     149652     109249    87826  0.002634   \n",
       "3       23300      85839  ...     117231      80516    49542  0.001760   \n",
       "4       44352     163899  ...     235092     154531    90236  0.001556   \n",
       "5       10791      34935  ...      77345      53066    41042  0.000741   \n",
       "6       40684     144422  ...     318575     245410   223657  0.002753   \n",
       "7      159864     556316  ...     837584     635292   447196  0.004322   \n",
       "8      103049     352834  ...     580728     437862   276531  0.001669   \n",
       "9       20953      76088  ...     125297      91876    76005  0.003245   \n",
       "10      44014     152745  ...     346927     289762   234302  0.000977   \n",
       "11       6286      21170  ...      37718      28125    22207  0.001591   \n",
       "12     135861     479716  ...     703323     526081   364122  0.002974   \n",
       "13      34712     118667  ...     146909     102899    69771  0.003774   \n",
       "14      13906      48505  ...      73844      55792    41166  0.000647   \n",
       "15      41824     140323  ...     280119     213081   157950  0.000789   \n",
       "16       2175       7581  ...       7857       4318     2605  0.003218   \n",
       "17       2324       8536  ...       7827       3748     2349  0.002582   \n",
       "18     949049    3310299  ...    5336986    3960045  2834024  0.002621   \n",
       "\n",
       "     18-24 %   25-49 %   50-59 %   60-69 %   70-79 %     80+ %  \n",
       "0   0.056321  0.123351  0.427742  0.865763  0.975774  1.000000  \n",
       "1   0.072797  0.132552  0.376741  0.882872  0.973662  1.000000  \n",
       "2   0.082837  0.137602  0.407704  0.885862  1.000000  1.000000  \n",
       "3   0.049010  0.104009  0.403819  0.786908  0.933156  1.000000  \n",
       "4   0.044283  0.105973  0.289833  0.794149  0.923355  0.994670  \n",
       "5   0.050551  0.128825  0.300131  0.855259  1.000000  1.000000  \n",
       "6   0.060607  0.130956  0.228575  0.921679  1.000000  1.000000  \n",
       "7   0.081662  0.121269  0.482034  0.817485  0.934802  1.000000  \n",
       "8   0.056440  0.120251  0.289676  0.868572  0.961474  1.000000  \n",
       "9   0.035866  0.136637  0.344034  0.983144  1.000000  1.000000  \n",
       "10  0.039602  0.114815  0.415389  0.914267  0.976653  1.000000  \n",
       "11  0.068729  0.132654  0.271694  0.931518  1.000000  1.000000  \n",
       "12  0.064205  0.125412  0.367919  0.864308  0.928270  1.000000  \n",
       "13  0.061854  0.113397  0.312788  0.835252  0.945170  1.000000  \n",
       "14  0.074982  0.133651  0.416665  0.903540  0.987202  1.000000  \n",
       "15  0.090178  0.136484  0.323513  0.922001  0.976277  1.000000  \n",
       "16  0.052763  0.151866  0.726809  0.764032  0.852478  0.892514  \n",
       "17  0.034911  0.146868  0.631472  0.713172  0.807631  0.802895  \n",
       "18  0.064420  0.125685  0.382702  0.868326  0.962424  1.000000  \n",
       "\n",
       "[19 rows x 22 columns]"
      ]
     },
     "execution_count": 575,
     "metadata": {},
     "output_type": "execute_result"
    }
   ],
   "source": [
    "df_edades_unadosis = pd.DataFrame(etarios_unadosis)\n",
    "df_edades_unadosis"
   ]
  },
  {
   "cell_type": "code",
   "execution_count": 576,
   "metadata": {},
   "outputs": [
    {
     "data": {
      "text/plain": [
       "1855734"
      ]
     },
     "execution_count": 576,
     "metadata": {},
     "output_type": "execute_result"
    }
   ],
   "source": [
    "df_edades_unadosis['16-17 INE'].sum()"
   ]
  },
  {
   "cell_type": "code",
   "execution_count": 553,
   "metadata": {},
   "outputs": [
    {
     "data": {
      "text/html": [
       "<div>\n",
       "<style scoped>\n",
       "    .dataframe tbody tr th:only-of-type {\n",
       "        vertical-align: middle;\n",
       "    }\n",
       "\n",
       "    .dataframe tbody tr th {\n",
       "        vertical-align: top;\n",
       "    }\n",
       "\n",
       "    .dataframe thead th {\n",
       "        text-align: right;\n",
       "    }\n",
       "</style>\n",
       "<table border=\"1\" class=\"dataframe\">\n",
       "  <thead>\n",
       "    <tr style=\"text-align: right;\">\n",
       "      <th></th>\n",
       "      <th>CCAA Pautas Completas</th>\n",
       "      <th>16-17 Vacunados</th>\n",
       "      <th>18-24 Vacunados</th>\n",
       "      <th>25-49 Vacunados</th>\n",
       "      <th>50-59 Vacunados</th>\n",
       "      <th>60-69 Vacunados</th>\n",
       "      <th>70-79 Vacunados</th>\n",
       "      <th>80+ Vacunados</th>\n",
       "      <th>16-17 INE</th>\n",
       "      <th>18-24 INE</th>\n",
       "      <th>...</th>\n",
       "      <th>60-69 INE</th>\n",
       "      <th>70-79 INE</th>\n",
       "      <th>80+ INE</th>\n",
       "      <th>16-17 %</th>\n",
       "      <th>18-24 %</th>\n",
       "      <th>25-49 %</th>\n",
       "      <th>50-59 %</th>\n",
       "      <th>60-69 %</th>\n",
       "      <th>70-79 %</th>\n",
       "      <th>80+ %</th>\n",
       "    </tr>\n",
       "  </thead>\n",
       "  <tbody>\n",
       "    <tr>\n",
       "      <th>0</th>\n",
       "      <td>Andalucía</td>\n",
       "      <td>338</td>\n",
       "      <td>15429</td>\n",
       "      <td>158970</td>\n",
       "      <td>88701</td>\n",
       "      <td>85348</td>\n",
       "      <td>558376</td>\n",
       "      <td>417686</td>\n",
       "      <td>181921</td>\n",
       "      <td>625846</td>\n",
       "      <td>...</td>\n",
       "      <td>916147</td>\n",
       "      <td>650381</td>\n",
       "      <td>413516</td>\n",
       "      <td>0.001858</td>\n",
       "      <td>15429</td>\n",
       "      <td>158970</td>\n",
       "      <td>88701</td>\n",
       "      <td>85348</td>\n",
       "      <td>558376</td>\n",
       "      <td>417686</td>\n",
       "    </tr>\n",
       "    <tr>\n",
       "      <th>1</th>\n",
       "      <td>Aragón</td>\n",
       "      <td>31</td>\n",
       "      <td>1609</td>\n",
       "      <td>23691</td>\n",
       "      <td>15983</td>\n",
       "      <td>29003</td>\n",
       "      <td>102637</td>\n",
       "      <td>97714</td>\n",
       "      <td>25106</td>\n",
       "      <td>89180</td>\n",
       "      <td>...</td>\n",
       "      <td>156367</td>\n",
       "      <td>118955</td>\n",
       "      <td>98807</td>\n",
       "      <td>0.001235</td>\n",
       "      <td>1609</td>\n",
       "      <td>23691</td>\n",
       "      <td>15983</td>\n",
       "      <td>29003</td>\n",
       "      <td>102637</td>\n",
       "      <td>97714</td>\n",
       "    </tr>\n",
       "    <tr>\n",
       "      <th>2</th>\n",
       "      <td>Asturias</td>\n",
       "      <td>36</td>\n",
       "      <td>3457</td>\n",
       "      <td>32588</td>\n",
       "      <td>19552</td>\n",
       "      <td>14268</td>\n",
       "      <td>92812</td>\n",
       "      <td>85676</td>\n",
       "      <td>15563</td>\n",
       "      <td>54179</td>\n",
       "      <td>...</td>\n",
       "      <td>149652</td>\n",
       "      <td>109249</td>\n",
       "      <td>87826</td>\n",
       "      <td>0.002313</td>\n",
       "      <td>3457</td>\n",
       "      <td>32588</td>\n",
       "      <td>19552</td>\n",
       "      <td>14268</td>\n",
       "      <td>92812</td>\n",
       "      <td>85676</td>\n",
       "    </tr>\n",
       "    <tr>\n",
       "      <th>3</th>\n",
       "      <td>Baleares</td>\n",
       "      <td>33</td>\n",
       "      <td>1398</td>\n",
       "      <td>19262</td>\n",
       "      <td>8819</td>\n",
       "      <td>6284</td>\n",
       "      <td>57349</td>\n",
       "      <td>48281</td>\n",
       "      <td>23300</td>\n",
       "      <td>85839</td>\n",
       "      <td>...</td>\n",
       "      <td>117231</td>\n",
       "      <td>80516</td>\n",
       "      <td>49542</td>\n",
       "      <td>0.001416</td>\n",
       "      <td>1398</td>\n",
       "      <td>19262</td>\n",
       "      <td>8819</td>\n",
       "      <td>6284</td>\n",
       "      <td>57349</td>\n",
       "      <td>48281</td>\n",
       "    </tr>\n",
       "    <tr>\n",
       "      <th>4</th>\n",
       "      <td>Canarias</td>\n",
       "      <td>48</td>\n",
       "      <td>2822</td>\n",
       "      <td>38810</td>\n",
       "      <td>24955</td>\n",
       "      <td>18468</td>\n",
       "      <td>113981</td>\n",
       "      <td>84578</td>\n",
       "      <td>44352</td>\n",
       "      <td>163899</td>\n",
       "      <td>...</td>\n",
       "      <td>235092</td>\n",
       "      <td>154531</td>\n",
       "      <td>90236</td>\n",
       "      <td>0.001082</td>\n",
       "      <td>2822</td>\n",
       "      <td>38810</td>\n",
       "      <td>24955</td>\n",
       "      <td>18468</td>\n",
       "      <td>113981</td>\n",
       "      <td>84578</td>\n",
       "    </tr>\n",
       "    <tr>\n",
       "      <th>5</th>\n",
       "      <td>Cantabria</td>\n",
       "      <td>5</td>\n",
       "      <td>723</td>\n",
       "      <td>12248</td>\n",
       "      <td>6957</td>\n",
       "      <td>5029</td>\n",
       "      <td>44317</td>\n",
       "      <td>41156</td>\n",
       "      <td>10791</td>\n",
       "      <td>34935</td>\n",
       "      <td>...</td>\n",
       "      <td>77345</td>\n",
       "      <td>53066</td>\n",
       "      <td>41042</td>\n",
       "      <td>0.000463</td>\n",
       "      <td>723</td>\n",
       "      <td>12248</td>\n",
       "      <td>6957</td>\n",
       "      <td>5029</td>\n",
       "      <td>44317</td>\n",
       "      <td>41156</td>\n",
       "    </tr>\n",
       "    <tr>\n",
       "      <th>6</th>\n",
       "      <td>Castilla y Leon</td>\n",
       "      <td>102</td>\n",
       "      <td>3001</td>\n",
       "      <td>45803</td>\n",
       "      <td>33697</td>\n",
       "      <td>45398</td>\n",
       "      <td>216204</td>\n",
       "      <td>223225</td>\n",
       "      <td>40684</td>\n",
       "      <td>144422</td>\n",
       "      <td>...</td>\n",
       "      <td>318575</td>\n",
       "      <td>245410</td>\n",
       "      <td>223657</td>\n",
       "      <td>0.002507</td>\n",
       "      <td>3001</td>\n",
       "      <td>45803</td>\n",
       "      <td>33697</td>\n",
       "      <td>45398</td>\n",
       "      <td>216204</td>\n",
       "      <td>223225</td>\n",
       "    </tr>\n",
       "    <tr>\n",
       "      <th>7</th>\n",
       "      <td>Castilla La Mancha</td>\n",
       "      <td>0</td>\n",
       "      <td>0</td>\n",
       "      <td>0</td>\n",
       "      <td>0</td>\n",
       "      <td>0</td>\n",
       "      <td>0</td>\n",
       "      <td>0</td>\n",
       "      <td>0</td>\n",
       "      <td>0</td>\n",
       "      <td>...</td>\n",
       "      <td>0</td>\n",
       "      <td>0</td>\n",
       "      <td>0</td>\n",
       "      <td>0.000000</td>\n",
       "      <td>0</td>\n",
       "      <td>0</td>\n",
       "      <td>0</td>\n",
       "      <td>0</td>\n",
       "      <td>0</td>\n",
       "      <td>0</td>\n",
       "    </tr>\n",
       "    <tr>\n",
       "      <th>8</th>\n",
       "      <td>Cataluña</td>\n",
       "      <td>360</td>\n",
       "      <td>20325</td>\n",
       "      <td>151310</td>\n",
       "      <td>85117</td>\n",
       "      <td>70552</td>\n",
       "      <td>371476</td>\n",
       "      <td>436652</td>\n",
       "      <td>159864</td>\n",
       "      <td>556316</td>\n",
       "      <td>...</td>\n",
       "      <td>837584</td>\n",
       "      <td>635292</td>\n",
       "      <td>447196</td>\n",
       "      <td>0.002252</td>\n",
       "      <td>20325</td>\n",
       "      <td>151310</td>\n",
       "      <td>85117</td>\n",
       "      <td>70552</td>\n",
       "      <td>371476</td>\n",
       "      <td>436652</td>\n",
       "    </tr>\n",
       "    <tr>\n",
       "      <th>9</th>\n",
       "      <td>C. Valenciana</td>\n",
       "      <td>125</td>\n",
       "      <td>6020</td>\n",
       "      <td>73156</td>\n",
       "      <td>43644</td>\n",
       "      <td>31382</td>\n",
       "      <td>338364</td>\n",
       "      <td>283760</td>\n",
       "      <td>103049</td>\n",
       "      <td>352834</td>\n",
       "      <td>...</td>\n",
       "      <td>580728</td>\n",
       "      <td>437862</td>\n",
       "      <td>276531</td>\n",
       "      <td>0.001213</td>\n",
       "      <td>6020</td>\n",
       "      <td>73156</td>\n",
       "      <td>43644</td>\n",
       "      <td>31382</td>\n",
       "      <td>338364</td>\n",
       "      <td>283760</td>\n",
       "    </tr>\n",
       "    <tr>\n",
       "      <th>10</th>\n",
       "      <td>Extremadura</td>\n",
       "      <td>58</td>\n",
       "      <td>1030</td>\n",
       "      <td>21374</td>\n",
       "      <td>15041</td>\n",
       "      <td>13192</td>\n",
       "      <td>89158</td>\n",
       "      <td>76198</td>\n",
       "      <td>20953</td>\n",
       "      <td>76088</td>\n",
       "      <td>...</td>\n",
       "      <td>125297</td>\n",
       "      <td>91876</td>\n",
       "      <td>76005</td>\n",
       "      <td>0.002768</td>\n",
       "      <td>1030</td>\n",
       "      <td>21374</td>\n",
       "      <td>15041</td>\n",
       "      <td>13192</td>\n",
       "      <td>89158</td>\n",
       "      <td>76198</td>\n",
       "    </tr>\n",
       "    <tr>\n",
       "      <th>11</th>\n",
       "      <td>Galicia</td>\n",
       "      <td>34</td>\n",
       "      <td>1887</td>\n",
       "      <td>43923</td>\n",
       "      <td>28143</td>\n",
       "      <td>21341</td>\n",
       "      <td>272506</td>\n",
       "      <td>235411</td>\n",
       "      <td>44014</td>\n",
       "      <td>152745</td>\n",
       "      <td>...</td>\n",
       "      <td>346927</td>\n",
       "      <td>289762</td>\n",
       "      <td>234302</td>\n",
       "      <td>0.000772</td>\n",
       "      <td>1887</td>\n",
       "      <td>43923</td>\n",
       "      <td>28143</td>\n",
       "      <td>21341</td>\n",
       "      <td>272506</td>\n",
       "      <td>235411</td>\n",
       "    </tr>\n",
       "    <tr>\n",
       "      <th>12</th>\n",
       "      <td>La Rioja</td>\n",
       "      <td>9</td>\n",
       "      <td>425</td>\n",
       "      <td>5042</td>\n",
       "      <td>4415</td>\n",
       "      <td>4591</td>\n",
       "      <td>24641</td>\n",
       "      <td>22803</td>\n",
       "      <td>6286</td>\n",
       "      <td>21170</td>\n",
       "      <td>...</td>\n",
       "      <td>37718</td>\n",
       "      <td>28125</td>\n",
       "      <td>22207</td>\n",
       "      <td>0.001432</td>\n",
       "      <td>425</td>\n",
       "      <td>5042</td>\n",
       "      <td>4415</td>\n",
       "      <td>4591</td>\n",
       "      <td>24641</td>\n",
       "      <td>22803</td>\n",
       "    </tr>\n",
       "    <tr>\n",
       "      <th>13</th>\n",
       "      <td>Madrid</td>\n",
       "      <td>236</td>\n",
       "      <td>15540</td>\n",
       "      <td>123084</td>\n",
       "      <td>60603</td>\n",
       "      <td>67543</td>\n",
       "      <td>393390</td>\n",
       "      <td>358178</td>\n",
       "      <td>135861</td>\n",
       "      <td>479716</td>\n",
       "      <td>...</td>\n",
       "      <td>703323</td>\n",
       "      <td>526081</td>\n",
       "      <td>364122</td>\n",
       "      <td>0.001737</td>\n",
       "      <td>15540</td>\n",
       "      <td>123084</td>\n",
       "      <td>60603</td>\n",
       "      <td>67543</td>\n",
       "      <td>393390</td>\n",
       "      <td>358178</td>\n",
       "    </tr>\n",
       "    <tr>\n",
       "      <th>14</th>\n",
       "      <td>Murcia</td>\n",
       "      <td>116</td>\n",
       "      <td>2634</td>\n",
       "      <td>28589</td>\n",
       "      <td>17651</td>\n",
       "      <td>12993</td>\n",
       "      <td>81408</td>\n",
       "      <td>70635</td>\n",
       "      <td>34712</td>\n",
       "      <td>118667</td>\n",
       "      <td>...</td>\n",
       "      <td>146909</td>\n",
       "      <td>102899</td>\n",
       "      <td>69771</td>\n",
       "      <td>0.003342</td>\n",
       "      <td>2634</td>\n",
       "      <td>28589</td>\n",
       "      <td>17651</td>\n",
       "      <td>12993</td>\n",
       "      <td>81408</td>\n",
       "      <td>70635</td>\n",
       "    </tr>\n",
       "    <tr>\n",
       "      <th>15</th>\n",
       "      <td>Navarra</td>\n",
       "      <td>6</td>\n",
       "      <td>1001</td>\n",
       "      <td>13356</td>\n",
       "      <td>9592</td>\n",
       "      <td>7162</td>\n",
       "      <td>49185</td>\n",
       "      <td>41096</td>\n",
       "      <td>13906</td>\n",
       "      <td>48505</td>\n",
       "      <td>...</td>\n",
       "      <td>73844</td>\n",
       "      <td>55792</td>\n",
       "      <td>41166</td>\n",
       "      <td>0.000431</td>\n",
       "      <td>1001</td>\n",
       "      <td>13356</td>\n",
       "      <td>9592</td>\n",
       "      <td>7162</td>\n",
       "      <td>49185</td>\n",
       "      <td>41096</td>\n",
       "    </tr>\n",
       "    <tr>\n",
       "      <th>16</th>\n",
       "      <td>País Vasco</td>\n",
       "      <td>14</td>\n",
       "      <td>3917</td>\n",
       "      <td>41655</td>\n",
       "      <td>26090</td>\n",
       "      <td>17655</td>\n",
       "      <td>136340</td>\n",
       "      <td>156723</td>\n",
       "      <td>41824</td>\n",
       "      <td>140323</td>\n",
       "      <td>...</td>\n",
       "      <td>280119</td>\n",
       "      <td>213081</td>\n",
       "      <td>157950</td>\n",
       "      <td>0.000335</td>\n",
       "      <td>3917</td>\n",
       "      <td>41655</td>\n",
       "      <td>26090</td>\n",
       "      <td>17655</td>\n",
       "      <td>136340</td>\n",
       "      <td>156723</td>\n",
       "    </tr>\n",
       "    <tr>\n",
       "      <th>17</th>\n",
       "      <td>Ceuta</td>\n",
       "      <td>3</td>\n",
       "      <td>112</td>\n",
       "      <td>1128</td>\n",
       "      <td>699</td>\n",
       "      <td>1017</td>\n",
       "      <td>3428</td>\n",
       "      <td>2244</td>\n",
       "      <td>2175</td>\n",
       "      <td>7581</td>\n",
       "      <td>...</td>\n",
       "      <td>7857</td>\n",
       "      <td>4318</td>\n",
       "      <td>2605</td>\n",
       "      <td>0.001379</td>\n",
       "      <td>112</td>\n",
       "      <td>1128</td>\n",
       "      <td>699</td>\n",
       "      <td>1017</td>\n",
       "      <td>3428</td>\n",
       "      <td>2244</td>\n",
       "    </tr>\n",
       "    <tr>\n",
       "      <th>18</th>\n",
       "      <td>Melilla</td>\n",
       "      <td>6</td>\n",
       "      <td>88</td>\n",
       "      <td>972</td>\n",
       "      <td>645</td>\n",
       "      <td>1454</td>\n",
       "      <td>2772</td>\n",
       "      <td>1776</td>\n",
       "      <td>2324</td>\n",
       "      <td>8536</td>\n",
       "      <td>...</td>\n",
       "      <td>7827</td>\n",
       "      <td>3748</td>\n",
       "      <td>2349</td>\n",
       "      <td>0.002582</td>\n",
       "      <td>88</td>\n",
       "      <td>972</td>\n",
       "      <td>645</td>\n",
       "      <td>1454</td>\n",
       "      <td>2772</td>\n",
       "      <td>1776</td>\n",
       "    </tr>\n",
       "    <tr>\n",
       "      <th>19</th>\n",
       "      <td>Fuerzas Armadas</td>\n",
       "      <td>0</td>\n",
       "      <td>0</td>\n",
       "      <td>0</td>\n",
       "      <td>0</td>\n",
       "      <td>0</td>\n",
       "      <td>0</td>\n",
       "      <td>0</td>\n",
       "      <td>0</td>\n",
       "      <td>0</td>\n",
       "      <td>...</td>\n",
       "      <td>0</td>\n",
       "      <td>0</td>\n",
       "      <td>0</td>\n",
       "      <td>0.000000</td>\n",
       "      <td>0</td>\n",
       "      <td>0</td>\n",
       "      <td>0</td>\n",
       "      <td>0</td>\n",
       "      <td>0</td>\n",
       "      <td>0</td>\n",
       "    </tr>\n",
       "    <tr>\n",
       "      <th>20</th>\n",
       "      <td>Totales</td>\n",
       "      <td>1656</td>\n",
       "      <td>86151</td>\n",
       "      <td>880206</td>\n",
       "      <td>523412</td>\n",
       "      <td>473261</td>\n",
       "      <td>3083816</td>\n",
       "      <td>2816811</td>\n",
       "      <td>949049</td>\n",
       "      <td>3310299</td>\n",
       "      <td>...</td>\n",
       "      <td>5336986</td>\n",
       "      <td>3960045</td>\n",
       "      <td>2834024</td>\n",
       "      <td>0.001745</td>\n",
       "      <td>86151</td>\n",
       "      <td>880206</td>\n",
       "      <td>523412</td>\n",
       "      <td>473261</td>\n",
       "      <td>3083816</td>\n",
       "      <td>2816811</td>\n",
       "    </tr>\n",
       "  </tbody>\n",
       "</table>\n",
       "<p>21 rows × 22 columns</p>\n",
       "</div>"
      ],
      "text/plain": [
       "   CCAA Pautas Completas  16-17 Vacunados  18-24 Vacunados  25-49 Vacunados  \\\n",
       "0              Andalucía              338            15429           158970   \n",
       "1                 Aragón               31             1609            23691   \n",
       "2               Asturias               36             3457            32588   \n",
       "3               Baleares               33             1398            19262   \n",
       "4               Canarias               48             2822            38810   \n",
       "5              Cantabria                5              723            12248   \n",
       "6        Castilla y Leon              102             3001            45803   \n",
       "7     Castilla La Mancha                0                0                0   \n",
       "8               Cataluña              360            20325           151310   \n",
       "9          C. Valenciana              125             6020            73156   \n",
       "10           Extremadura               58             1030            21374   \n",
       "11               Galicia               34             1887            43923   \n",
       "12              La Rioja                9              425             5042   \n",
       "13                Madrid              236            15540           123084   \n",
       "14                Murcia              116             2634            28589   \n",
       "15               Navarra                6             1001            13356   \n",
       "16            País Vasco               14             3917            41655   \n",
       "17                 Ceuta                3              112             1128   \n",
       "18               Melilla                6               88              972   \n",
       "19       Fuerzas Armadas                0                0                0   \n",
       "20               Totales             1656            86151           880206   \n",
       "\n",
       "    50-59 Vacunados  60-69 Vacunados  70-79 Vacunados  80+ Vacunados  \\\n",
       "0             88701            85348           558376         417686   \n",
       "1             15983            29003           102637          97714   \n",
       "2             19552            14268            92812          85676   \n",
       "3              8819             6284            57349          48281   \n",
       "4             24955            18468           113981          84578   \n",
       "5              6957             5029            44317          41156   \n",
       "6             33697            45398           216204         223225   \n",
       "7                 0                0                0              0   \n",
       "8             85117            70552           371476         436652   \n",
       "9             43644            31382           338364         283760   \n",
       "10            15041            13192            89158          76198   \n",
       "11            28143            21341           272506         235411   \n",
       "12             4415             4591            24641          22803   \n",
       "13            60603            67543           393390         358178   \n",
       "14            17651            12993            81408          70635   \n",
       "15             9592             7162            49185          41096   \n",
       "16            26090            17655           136340         156723   \n",
       "17              699             1017             3428           2244   \n",
       "18              645             1454             2772           1776   \n",
       "19                0                0                0              0   \n",
       "20           523412           473261          3083816        2816811   \n",
       "\n",
       "    16-17 INE  18-24 INE  ...  60-69 INE  70-79 INE  80+ INE   16-17 %  \\\n",
       "0      181921     625846  ...     916147     650381   413516  0.001858   \n",
       "1       25106      89180  ...     156367     118955    98807  0.001235   \n",
       "2       15563      54179  ...     149652     109249    87826  0.002313   \n",
       "3       23300      85839  ...     117231      80516    49542  0.001416   \n",
       "4       44352     163899  ...     235092     154531    90236  0.001082   \n",
       "5       10791      34935  ...      77345      53066    41042  0.000463   \n",
       "6       40684     144422  ...     318575     245410   223657  0.002507   \n",
       "7           0          0  ...          0          0        0  0.000000   \n",
       "8      159864     556316  ...     837584     635292   447196  0.002252   \n",
       "9      103049     352834  ...     580728     437862   276531  0.001213   \n",
       "10      20953      76088  ...     125297      91876    76005  0.002768   \n",
       "11      44014     152745  ...     346927     289762   234302  0.000772   \n",
       "12       6286      21170  ...      37718      28125    22207  0.001432   \n",
       "13     135861     479716  ...     703323     526081   364122  0.001737   \n",
       "14      34712     118667  ...     146909     102899    69771  0.003342   \n",
       "15      13906      48505  ...      73844      55792    41166  0.000431   \n",
       "16      41824     140323  ...     280119     213081   157950  0.000335   \n",
       "17       2175       7581  ...       7857       4318     2605  0.001379   \n",
       "18       2324       8536  ...       7827       3748     2349  0.002582   \n",
       "19          0          0  ...          0          0        0  0.000000   \n",
       "20     949049    3310299  ...    5336986    3960045  2834024  0.001745   \n",
       "\n",
       "    18-24 %  25-49 %  50-59 %  60-69 %  70-79 %    80+ %  \n",
       "0     15429   158970    88701    85348   558376   417686  \n",
       "1      1609    23691    15983    29003   102637    97714  \n",
       "2      3457    32588    19552    14268    92812    85676  \n",
       "3      1398    19262     8819     6284    57349    48281  \n",
       "4      2822    38810    24955    18468   113981    84578  \n",
       "5       723    12248     6957     5029    44317    41156  \n",
       "6      3001    45803    33697    45398   216204   223225  \n",
       "7         0        0        0        0        0        0  \n",
       "8     20325   151310    85117    70552   371476   436652  \n",
       "9      6020    73156    43644    31382   338364   283760  \n",
       "10     1030    21374    15041    13192    89158    76198  \n",
       "11     1887    43923    28143    21341   272506   235411  \n",
       "12      425     5042     4415     4591    24641    22803  \n",
       "13    15540   123084    60603    67543   393390   358178  \n",
       "14     2634    28589    17651    12993    81408    70635  \n",
       "15     1001    13356     9592     7162    49185    41096  \n",
       "16     3917    41655    26090    17655   136340   156723  \n",
       "17      112     1128      699     1017     3428     2244  \n",
       "18       88      972      645     1454     2772     1776  \n",
       "19        0        0        0        0        0        0  \n",
       "20    86151   880206   523412   473261  3083816  2816811  \n",
       "\n",
       "[21 rows x 22 columns]"
      ]
     },
     "execution_count": 553,
     "metadata": {},
     "output_type": "execute_result"
    }
   ],
   "source": [
    "df_edades_dosiscompleta = pd.DataFrame(etarios_dosiscompleta)\n",
    "df_edades_dosiscompleta"
   ]
  },
  {
   "cell_type": "code",
   "execution_count": null,
   "metadata": {},
   "outputs": [],
   "source": []
  },
  {
   "cell_type": "code",
   "execution_count": null,
   "metadata": {},
   "outputs": [],
   "source": []
  },
  {
   "cell_type": "code",
   "execution_count": null,
   "metadata": {},
   "outputs": [],
   "source": []
  },
  {
   "cell_type": "markdown",
   "metadata": {},
   "source": [
    "# TABLAS A GUARDAR  🔐"
   ]
  },
  {
   "cell_type": "code",
   "execution_count": 599,
   "metadata": {},
   "outputs": [],
   "source": [
    "df_dosiscompleta = df_dosiscompleta.drop([7, 19], axis=0)  #Borramos 'Castilla La Mancha', 'Fuerzas Armadas'\n",
    "df_edades_dosiscompleta = df_edades_dosiscompleta.drop([7, 19], axis=0) #Borramos 'Castilla La Mancha', 'Fuerzas Armadas'"
   ]
  },
  {
   "cell_type": "code",
   "execution_count": 592,
   "metadata": {},
   "outputs": [
    {
     "data": {
      "text/plain": [
       "array(['Andalucía', 'Aragón', 'Asturias', 'Baleares', 'Canarias',\n",
       "       'Cantabria', 'Castilla y Leon', 'Cataluña', 'C. Valenciana',\n",
       "       'Extremadura', 'Galicia', 'La Rioja', 'Madrid', 'Murcia',\n",
       "       'Navarra', 'País Vasco', 'Ceuta', 'Melilla', 'Totales'],\n",
       "      dtype=object)"
      ]
     },
     "execution_count": 592,
     "metadata": {},
     "output_type": "execute_result"
    }
   ],
   "source": [
    "df_edades_unadosis['CCAA Una Dosis'].unique()"
   ]
  },
  {
   "cell_type": "code",
   "execution_count": 600,
   "metadata": {},
   "outputs": [
    {
     "data": {
      "text/plain": [
       "array(['Andalucía', 'Aragón', 'Asturias', 'Baleares', 'Canarias',\n",
       "       'Cantabria', 'Castilla y Leon', 'Cataluña', 'C. Valenciana',\n",
       "       'Extremadura', 'Galicia', 'La Rioja', 'Madrid', 'Murcia',\n",
       "       'Navarra', 'País Vasco', 'Ceuta', 'Melilla', 'Totales'],\n",
       "      dtype=object)"
      ]
     },
     "execution_count": 600,
     "metadata": {},
     "output_type": "execute_result"
    }
   ],
   "source": [
    "df_edades_dosiscompleta['CCAA Pautas Completas'].unique()"
   ]
  },
  {
   "cell_type": "code",
   "execution_count": 602,
   "metadata": {},
   "outputs": [
    {
     "data": {
      "text/plain": [
       "array(['Andalucía', 'Aragón', 'Asturias', 'Baleares', 'Canarias',\n",
       "       'Cantabria', 'Castilla y Leon', 'Cataluña', 'C. Valenciana',\n",
       "       'Extremadura', 'Galicia', 'La Rioja', 'Madrid', 'Murcia',\n",
       "       'Navarra', 'País Vasco', 'Ceuta', 'Melilla', 'Totales'],\n",
       "      dtype=object)"
      ]
     },
     "execution_count": 602,
     "metadata": {},
     "output_type": "execute_result"
    }
   ],
   "source": [
    "df_dosiscompleta['CCAA'].unique()"
   ]
  },
  {
   "cell_type": "code",
   "execution_count": 604,
   "metadata": {},
   "outputs": [
    {
     "data": {
      "text/plain": [
       "(19, 19)"
      ]
     },
     "execution_count": 604,
     "metadata": {},
     "output_type": "execute_result"
    }
   ],
   "source": [
    "len(df_edades_dosiscompleta['CCAA Pautas Completas'].unique()), len(df_edades_unadosis['CCAA Una Dosis'].unique())"
   ]
  },
  {
   "cell_type": "code",
   "execution_count": null,
   "metadata": {},
   "outputs": [],
   "source": []
  },
  {
   "cell_type": "code",
   "execution_count": null,
   "metadata": {},
   "outputs": [],
   "source": []
  },
  {
   "cell_type": "code",
   "execution_count": null,
   "metadata": {},
   "outputs": [],
   "source": [
    "df_edades_unadosis\n",
    "df_edades_dosiscompleta   #Borramos 'Castilla La Mancha', 'Fuerzas Armadas'\n",
    "df_dosiscompleta          #Borramos 'Castilla La Mancha', 'Fuerzas Armadas'\n",
    "df_unadosis\n",
    "df1_DOSIS\n",
    "df_FARMA"
   ]
  },
  {
   "cell_type": "code",
   "execution_count": 613,
   "metadata": {},
   "outputs": [],
   "source": [
    "df_FARMA.to_csv('df1_farmaDosis.csv', header=True, index=False)"
   ]
  },
  {
   "cell_type": "code",
   "execution_count": 612,
   "metadata": {},
   "outputs": [],
   "source": [
    "df1_DOSIS.to_csv('df2_dosisEntregadas.csv', header=True, index=False)"
   ]
  },
  {
   "cell_type": "code",
   "execution_count": 614,
   "metadata": {},
   "outputs": [],
   "source": [
    "df_unadosis.to_csv('df3_unadosis.csv', header=True, index=False)"
   ]
  },
  {
   "cell_type": "code",
   "execution_count": 615,
   "metadata": {},
   "outputs": [],
   "source": [
    "df_dosiscompleta.to_csv('df4_dosiscompleta.csv', header=True, index=False)"
   ]
  },
  {
   "cell_type": "code",
   "execution_count": 616,
   "metadata": {},
   "outputs": [],
   "source": [
    "df_edades_unadosis.to_csv('df5_edades_unadosis.csv', header=True, index=False)"
   ]
  },
  {
   "cell_type": "code",
   "execution_count": 617,
   "metadata": {},
   "outputs": [],
   "source": [
    "df_edades_dosiscompleta.to_csv('df6_edades_unadosis.csv', header=True, index=False)"
   ]
  },
  {
   "cell_type": "code",
   "execution_count": null,
   "metadata": {},
   "outputs": [],
   "source": []
  },
  {
   "cell_type": "code",
   "execution_count": null,
   "metadata": {},
   "outputs": [],
   "source": []
  },
  {
   "cell_type": "code",
   "execution_count": null,
   "metadata": {},
   "outputs": [],
   "source": []
  },
  {
   "cell_type": "code",
   "execution_count": null,
   "metadata": {},
   "outputs": [],
   "source": []
  },
  {
   "cell_type": "code",
   "execution_count": null,
   "metadata": {},
   "outputs": [],
   "source": []
  },
  {
   "cell_type": "code",
   "execution_count": null,
   "metadata": {},
   "outputs": [],
   "source": []
  },
  {
   "cell_type": "code",
   "execution_count": null,
   "metadata": {},
   "outputs": [],
   "source": []
  },
  {
   "cell_type": "code",
   "execution_count": null,
   "metadata": {},
   "outputs": [],
   "source": []
  },
  {
   "cell_type": "code",
   "execution_count": null,
   "metadata": {},
   "outputs": [],
   "source": []
  },
  {
   "cell_type": "code",
   "execution_count": null,
   "metadata": {},
   "outputs": [],
   "source": []
  },
  {
   "cell_type": "code",
   "execution_count": null,
   "metadata": {},
   "outputs": [],
   "source": []
  },
  {
   "cell_type": "code",
   "execution_count": null,
   "metadata": {},
   "outputs": [],
   "source": []
  },
  {
   "cell_type": "markdown",
   "metadata": {},
   "source": [
    "# FAILS"
   ]
  },
  {
   "cell_type": "code",
   "execution_count": null,
   "metadata": {},
   "outputs": [],
   "source": [
    "mongo = os.getenv('mongo')\n",
    "client = MongoClient(mongo)\n",
    "def mongo_collection(client):\n",
    "    client.list_database_names()\n",
    "    db = client.get_database('Proyecto_Data')\n",
    "    collection = db.get_collection('vacunas')\n",
    "    return collection"
   ]
  },
  {
   "cell_type": "code",
   "execution_count": null,
   "metadata": {},
   "outputs": [],
   "source": [
    "mongo_collection(client)"
   ]
  },
  {
   "cell_type": "code",
   "execution_count": null,
   "metadata": {},
   "outputs": [],
   "source": [
    "collection.find_one()"
   ]
  },
  {
   "cell_type": "code",
   "execution_count": null,
   "metadata": {},
   "outputs": [],
   "source": [
    "'etarios': \n",
    "   {'unaDosis':\n",
    "    \n",
    "   {'etarioTotal': {'vacunados': 2804632,'personasINE': 7062213,'porcentaje': 0.3971321737251482},\n",
    "   'etarioRangos': \n",
    "   [\n",
    "    {'rango': {'min': 16, 'max': 17},'vacunados': 479,'personasINE': 181921,'porcentaje': 0.0026330110322612564},\n",
    "    {'rango': {'min': 18, 'max': 24},'vacunados': 35248,'personasINE': 625846,'porcentaje': 0.05632056448391457},\n",
    "    {'rango': {'min': 25, 'max': 49},'vacunados': 371210,'personasINE': 3009381,'porcentaje': 0.12335094825148428},\n",
    "    {'rango': {'min': 50, 'max': 59},'vacunados': 541102,'personasINE': 1265021,'porcentaje': 0.4277415157534934},\n",
    "    {'rango': {'min': 60, 'max': 69},'vacunados': 793166,'personasINE': 916147,'porcentaje': 0.8657628088068836},\n",
    "    {'rango': {'min': 70, 'max': 79},'vacunados': 634625,'personasINE': 650381,'porcentaje': 0.9757742000458193},\n",
    "    {'rango': {'min': 80, 'max': None},'vacunados': 428802,'personasINE': 413516,'porcentaje': 1}\n",
    "   ]       \n",
    "   \n",
    "   \n",
    "   },        \n",
    "  'pautaCompleta': \n",
    "    {'etarioTotal': {'vacunados': 1324848,'personasINE': 7062213,'porcentaje': 0.18759672074461645},\n",
    "   'etarioRangos': \n",
    "    [{'rango': {'min': 16, 'max': 17},'vacunados': 338,'personasINE': 181921,'porcentaje': 0.0018579493296540805},\n",
    "    {'rango': {'min': 18, 'max': 24},'vacunados': 15429,'personasINE': 625846,'porcentaje': 0.024653029659053506},\n",
    "    {'rango': {'min': 25, 'max': 49},'vacunados': 158970,'personasINE': 3009381,'porcentaje': 0.05282481679787305},\n",
    "    {'rango': {'min': 50, 'max': 59},'vacunados': 88701,'personasINE': 1265021,'porcentaje': 0.07011820357132412},\n",
    "    {'rango': {'min': 60, 'max': 69},'vacunados': 85348,'personasINE': 916147,'porcentaje': 0.09315972218432195},\n",
    "    {'rango': {'min': 70, 'max': 79},'vacunados': 558376,'personasINE': 650381,'porcentaje': 0.8585367653729122},\n",
    "    {'rango': {'min': 80, 'max': None},'vacunados': 417686,'personasINE': 413516,'porcentaje': 1}\n",
    "    ]                       } }"
   ]
  }
 ],
 "metadata": {
  "kernelspec": {
   "display_name": "Python 3",
   "language": "python",
   "name": "python3"
  },
  "language_info": {
   "codemirror_mode": {
    "name": "ipython",
    "version": 3
   },
   "file_extension": ".py",
   "mimetype": "text/x-python",
   "name": "python",
   "nbconvert_exporter": "python",
   "pygments_lexer": "ipython3",
   "version": "3.8.5"
  },
  "toc": {
   "base_numbering": 1,
   "nav_menu": {},
   "number_sections": true,
   "sideBar": true,
   "skip_h1_title": false,
   "title_cell": "Table of Contents",
   "title_sidebar": "Contents",
   "toc_cell": false,
   "toc_position": {},
   "toc_section_display": true,
   "toc_window_display": false
  },
  "varInspector": {
   "cols": {
    "lenName": 16,
    "lenType": 16,
    "lenVar": 40
   },
   "kernels_config": {
    "python": {
     "delete_cmd_postfix": "",
     "delete_cmd_prefix": "del ",
     "library": "var_list.py",
     "varRefreshCmd": "print(var_dic_list())"
    },
    "r": {
     "delete_cmd_postfix": ") ",
     "delete_cmd_prefix": "rm(",
     "library": "var_list.r",
     "varRefreshCmd": "cat(var_dic_list()) "
    }
   },
   "position": {
    "height": "243px",
    "left": "1030px",
    "right": "20px",
    "top": "120px",
    "width": "310px"
   },
   "types_to_exclude": [
    "module",
    "function",
    "builtin_function_or_method",
    "instance",
    "_Feature"
   ],
   "window_display": false
  }
 },
 "nbformat": 4,
 "nbformat_minor": 4
}
