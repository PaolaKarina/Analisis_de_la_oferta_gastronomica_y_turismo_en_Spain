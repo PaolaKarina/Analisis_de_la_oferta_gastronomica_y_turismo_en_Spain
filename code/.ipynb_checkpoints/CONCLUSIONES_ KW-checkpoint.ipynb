{
 "cells": [
  {
   "cell_type": "code",
   "execution_count": 2,
   "metadata": {},
   "outputs": [],
   "source": [
    "import pandas as pd\n",
    "from src.my_functions import * \n",
    "import numpy as np\n",
    "import json\n",
    "import plotly.express as px\n",
    "import matplotlib.pyplot as plt\n",
    "\n",
    "import seaborn as sns\n",
    "import re\n",
    "import seaborn as sns\n",
    "\n",
    "pd.set_option('display.max_columns', None)"
   ]
  },
  {
   "cell_type": "markdown",
   "metadata": {},
   "source": [
    "# UPLOAD DATA"
   ]
  },
  {
   "cell_type": "code",
   "execution_count": 10,
   "metadata": {},
   "outputs": [],
   "source": [
    "df = pd.read_csv('df_tripAD_Spain.csv')\n",
    "df_international_food = pd.read_csv('df_international_food.csv')\n",
    "df_types_of_food = pd.read_csv('df_types_of_food.csv')"
   ]
  },
  {
   "cell_type": "code",
   "execution_count": 5,
   "metadata": {},
   "outputs": [],
   "source": [
    "with open('./DATA/data.JSON/lis_kw.json', 'r') as kw:\n",
    "    lis_kw = json.load(kw)  #ABRIR\n",
    "kw_top_tags_count = lis_kw   #renombramos el dict.json\n",
    "kw_top_tags_count_sorted = kw_sorted(kw_top_tags_count)  \n",
    "df_kw_top_tags = pd.DataFrame( [[key, kw_top_tags_count_sorted[key]]    for key in kw_top_tags_count_sorted.keys()],\n",
    "                          columns=['keyword', 'total_kw' ])"
   ]
  },
  {
   "cell_type": "code",
   "execution_count": 6,
   "metadata": {},
   "outputs": [],
   "source": [
    "food =  ['pizza', 'seafood', 'steakhouse', 'sushi', 'grill', 'soups']\n",
    "spanish_food = ['spanish', 'mediterranean']\n",
    "cheap_eats = [ 'quick_bites', 'street_food']\n",
    "beer_wine =  ['brew pub', 'bar', 'pub', 'wine_bar', 'gastropub', ' dining_bars', 'beer_restaurants']\n",
    "healthy_food = ['vegetarian_friendly', 'healthy', 'vegan_options', 'vegetarian_friendly', 'gluten_free_options']\n",
    "cafe_dessert = ['cafe', 'dessert', 'bakeries']\n",
    "cost_food = ['cheap_eats', 'mid_range']\n",
    "\n",
    "\n",
    "\n",
    "european = ['european', 'italian', 'italian', 'british', 'french', 'turkish', 'irish', 'balti', 'belgian', 'dutch', 'greek ','portuguese']\n",
    "central_american = ['central_american', 'caribbean']\n",
    "south_american = ['south_american', 'mexican', 'argentinian', 'peruvian', 'venezuelan', 'brazilian', 'cuban', 'ecuadorean', 'chilean']\n",
    "north_american = ['america', 'hawaiian']\n",
    "african = ['african', 'moroccan']\n",
    "asia = ['asian', 'japanese', 'chinese', 'indian', 'thai', 'lebanese', 'russian', 'vietnamese']"
   ]
  },
  {
   "cell_type": "code",
   "execution_count": 7,
   "metadata": {},
   "outputs": [
    {
     "data": {
      "text/plain": [
       "(6, 2, 2, 7, 5, 3, 2)"
      ]
     },
     "execution_count": 7,
     "metadata": {},
     "output_type": "execute_result"
    }
   ],
   "source": [
    "#   KW  FOOD  - 28 COLUMNAS NUEVAS\n",
    "len(food), len(spanish_food), len(cheap_eats), len(beer_wine), len(healthy_food), len(cafe_dessert), len(cost_food)"
   ]
  },
  {
   "cell_type": "code",
   "execution_count": 8,
   "metadata": {},
   "outputs": [
    {
     "data": {
      "text/plain": [
       "(12, 2, 9, 2, 2)"
      ]
     },
     "execution_count": 8,
     "metadata": {},
     "output_type": "execute_result"
    }
   ],
   "source": [
    "#   INTERNACIONAL FOOD\n",
    "len(european), len(central_american), len(south_american), len(north_american), len(african)"
   ]
  },
  {
   "cell_type": "markdown",
   "metadata": {},
   "source": [
    "# DF TYPES OF FOOD"
   ]
  },
  {
   "cell_type": "code",
   "execution_count": 18,
   "metadata": {},
   "outputs": [],
   "source": [
    "a = dict(df_types_of_food.groupby(['region']).region.count())\n",
    "df_region = pd.DataFrame.from_dict(a, orient='index')"
   ]
  },
  {
   "cell_type": "code",
   "execution_count": 29,
   "metadata": {},
   "outputs": [
    {
     "data": {
      "text/plain": [
       "361      1\n",
       "17585    1\n",
       "6748     1\n",
       "891      1\n",
       "1913     1\n",
       "18032    1\n",
       "3734     1\n",
       "3380     1\n",
       "3475     1\n",
       "112      1\n",
       "3553     1\n",
       "1369     1\n",
       "7947     1\n",
       "2250     1\n",
       "5161     1\n",
       "27045    1\n",
       "8932     1\n",
       "11362    1\n",
       "28701    1\n",
       "Name: 0, dtype: int64"
      ]
     },
     "execution_count": 29,
     "metadata": {},
     "output_type": "execute_result"
    }
   ],
   "source": [
    "df_region[0].unique()"
   ]
  },
  {
   "cell_type": "code",
   "execution_count": null,
   "metadata": {},
   "outputs": [],
   "source": []
  },
  {
   "cell_type": "code",
   "execution_count": null,
   "metadata": {},
   "outputs": [],
   "source": []
  }
 ],
 "metadata": {
  "kernelspec": {
   "display_name": "Python 3",
   "language": "python",
   "name": "python3"
  },
  "language_info": {
   "codemirror_mode": {
    "name": "ipython",
    "version": 3
   },
   "file_extension": ".py",
   "mimetype": "text/x-python",
   "name": "python",
   "nbconvert_exporter": "python",
   "pygments_lexer": "ipython3",
   "version": "3.8.5"
  },
  "toc": {
   "base_numbering": 1,
   "nav_menu": {},
   "number_sections": true,
   "sideBar": true,
   "skip_h1_title": false,
   "title_cell": "Table of Contents",
   "title_sidebar": "Contents",
   "toc_cell": false,
   "toc_position": {
    "height": "calc(100% - 180px)",
    "left": "10px",
    "top": "150px",
    "width": "273.188px"
   },
   "toc_section_display": true,
   "toc_window_display": true
  },
  "varInspector": {
   "cols": {
    "lenName": 16,
    "lenType": 16,
    "lenVar": 40
   },
   "kernels_config": {
    "python": {
     "delete_cmd_postfix": "",
     "delete_cmd_prefix": "del ",
     "library": "var_list.py",
     "varRefreshCmd": "print(var_dic_list())"
    },
    "r": {
     "delete_cmd_postfix": ") ",
     "delete_cmd_prefix": "rm(",
     "library": "var_list.r",
     "varRefreshCmd": "cat(var_dic_list()) "
    }
   },
   "types_to_exclude": [
    "module",
    "function",
    "builtin_function_or_method",
    "instance",
    "_Feature"
   ],
   "window_display": false
  }
 },
 "nbformat": 4,
 "nbformat_minor": 4
}
