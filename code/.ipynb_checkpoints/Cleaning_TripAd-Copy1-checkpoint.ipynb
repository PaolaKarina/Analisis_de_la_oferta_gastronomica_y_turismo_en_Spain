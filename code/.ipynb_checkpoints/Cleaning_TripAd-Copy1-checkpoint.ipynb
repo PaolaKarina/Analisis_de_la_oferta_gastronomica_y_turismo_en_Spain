{
 "cells": [
  {
   "cell_type": "code",
   "execution_count": 210,
   "metadata": {},
   "outputs": [],
   "source": [
    "import pandas as pd\n",
    "import src.funcioncitas as pk\n",
    "import numpy as np"
   ]
  },
  {
   "cell_type": "code",
   "execution_count": 746,
   "metadata": {},
   "outputs": [
    {
     "name": "stderr",
     "output_type": "stream",
     "text": [
      "C:\\ProgramData\\Anaconda3\\lib\\site-packages\\IPython\\core\\interactiveshell.py:3146: DtypeWarning: Columns (4) have mixed types.Specify dtype option on import or set low_memory=False.\n",
      "  has_raised = await self.run_ast_nodes(code_ast.body, cell_name,\n"
     ]
    },
    {
     "data": {
      "text/html": [
       "<div>\n",
       "<style scoped>\n",
       "    .dataframe tbody tr th:only-of-type {\n",
       "        vertical-align: middle;\n",
       "    }\n",
       "\n",
       "    .dataframe tbody tr th {\n",
       "        vertical-align: top;\n",
       "    }\n",
       "\n",
       "    .dataframe thead th {\n",
       "        text-align: right;\n",
       "    }\n",
       "</style>\n",
       "<table border=\"1\" class=\"dataframe\">\n",
       "  <thead>\n",
       "    <tr style=\"text-align: right;\">\n",
       "      <th></th>\n",
       "      <th>restaurant_link</th>\n",
       "      <th>restaurant_name</th>\n",
       "      <th>original_location</th>\n",
       "      <th>country</th>\n",
       "      <th>region</th>\n",
       "      <th>province</th>\n",
       "      <th>city</th>\n",
       "      <th>address</th>\n",
       "      <th>latitude</th>\n",
       "      <th>longitude</th>\n",
       "      <th>...</th>\n",
       "      <th>excellent</th>\n",
       "      <th>very_good</th>\n",
       "      <th>average</th>\n",
       "      <th>poor</th>\n",
       "      <th>terrible</th>\n",
       "      <th>food</th>\n",
       "      <th>service</th>\n",
       "      <th>value</th>\n",
       "      <th>atmosphere</th>\n",
       "      <th>keywords</th>\n",
       "    </tr>\n",
       "  </thead>\n",
       "  <tbody>\n",
       "    <tr>\n",
       "      <th>0</th>\n",
       "      <td>g10001637-d10002227</td>\n",
       "      <td>Le 147</td>\n",
       "      <td>[\"Europe\", \"France\", \"Nouvelle-Aquitaine\", \"Ha...</td>\n",
       "      <td>France</td>\n",
       "      <td>Nouvelle-Aquitaine</td>\n",
       "      <td>Haute-Vienne</td>\n",
       "      <td>Saint-Jouvent</td>\n",
       "      <td>10 Maison Neuve, 87510 Saint-Jouvent France</td>\n",
       "      <td>45.961674</td>\n",
       "      <td>1.169131</td>\n",
       "      <td>...</td>\n",
       "      <td>2.0</td>\n",
       "      <td>0.0</td>\n",
       "      <td>0.0</td>\n",
       "      <td>0.0</td>\n",
       "      <td>0.0</td>\n",
       "      <td>4.0</td>\n",
       "      <td>4.5</td>\n",
       "      <td>4.0</td>\n",
       "      <td>NaN</td>\n",
       "      <td>NaN</td>\n",
       "    </tr>\n",
       "    <tr>\n",
       "      <th>1</th>\n",
       "      <td>g10001637-d14975787</td>\n",
       "      <td>Le Saint Jouvent</td>\n",
       "      <td>[\"Europe\", \"France\", \"Nouvelle-Aquitaine\", \"Ha...</td>\n",
       "      <td>France</td>\n",
       "      <td>Nouvelle-Aquitaine</td>\n",
       "      <td>Haute-Vienne</td>\n",
       "      <td>Saint-Jouvent</td>\n",
       "      <td>16 Place de l Eglise, 87510 Saint-Jouvent France</td>\n",
       "      <td>45.957040</td>\n",
       "      <td>1.205480</td>\n",
       "      <td>...</td>\n",
       "      <td>2.0</td>\n",
       "      <td>2.0</td>\n",
       "      <td>1.0</td>\n",
       "      <td>0.0</td>\n",
       "      <td>0.0</td>\n",
       "      <td>NaN</td>\n",
       "      <td>NaN</td>\n",
       "      <td>NaN</td>\n",
       "      <td>NaN</td>\n",
       "      <td>NaN</td>\n",
       "    </tr>\n",
       "    <tr>\n",
       "      <th>2</th>\n",
       "      <td>g10002858-d4586832</td>\n",
       "      <td>Au Bout du Pont</td>\n",
       "      <td>[\"Europe\", \"France\", \"Centre-Val de Loire\", \"B...</td>\n",
       "      <td>France</td>\n",
       "      <td>Centre-Val de Loire</td>\n",
       "      <td>Berry</td>\n",
       "      <td>Rivarennes</td>\n",
       "      <td>2 rue des Dames, 36800 Rivarennes France</td>\n",
       "      <td>46.635895</td>\n",
       "      <td>1.386133</td>\n",
       "      <td>...</td>\n",
       "      <td>3.0</td>\n",
       "      <td>1.0</td>\n",
       "      <td>0.0</td>\n",
       "      <td>0.0</td>\n",
       "      <td>0.0</td>\n",
       "      <td>NaN</td>\n",
       "      <td>NaN</td>\n",
       "      <td>NaN</td>\n",
       "      <td>NaN</td>\n",
       "      <td>NaN</td>\n",
       "    </tr>\n",
       "    <tr>\n",
       "      <th>3</th>\n",
       "      <td>g10002986-d3510044</td>\n",
       "      <td>Le Relais de Naiade</td>\n",
       "      <td>[\"Europe\", \"France\", \"Nouvelle-Aquitaine\", \"Co...</td>\n",
       "      <td>France</td>\n",
       "      <td>Nouvelle-Aquitaine</td>\n",
       "      <td>Correze</td>\n",
       "      <td>Lacelle</td>\n",
       "      <td>9 avenue Porte de la Correze 19170, 19170 Lace...</td>\n",
       "      <td>45.642610</td>\n",
       "      <td>1.824460</td>\n",
       "      <td>...</td>\n",
       "      <td>1.0</td>\n",
       "      <td>0.0</td>\n",
       "      <td>0.0</td>\n",
       "      <td>0.0</td>\n",
       "      <td>0.0</td>\n",
       "      <td>4.5</td>\n",
       "      <td>4.5</td>\n",
       "      <td>4.5</td>\n",
       "      <td>NaN</td>\n",
       "      <td>NaN</td>\n",
       "    </tr>\n",
       "    <tr>\n",
       "      <th>4</th>\n",
       "      <td>g10022428-d9767191</td>\n",
       "      <td>Relais Du MontSeigne</td>\n",
       "      <td>[\"Europe\", \"France\", \"Occitanie\", \"Aveyron\", \"...</td>\n",
       "      <td>France</td>\n",
       "      <td>Occitanie</td>\n",
       "      <td>Aveyron</td>\n",
       "      <td>Saint-Laurent-de-Levezou</td>\n",
       "      <td>route du Montseigne, 12620 Saint-Laurent-de-Le...</td>\n",
       "      <td>44.208860</td>\n",
       "      <td>2.960470</td>\n",
       "      <td>...</td>\n",
       "      <td>4.0</td>\n",
       "      <td>7.0</td>\n",
       "      <td>0.0</td>\n",
       "      <td>0.0</td>\n",
       "      <td>0.0</td>\n",
       "      <td>4.5</td>\n",
       "      <td>4.5</td>\n",
       "      <td>4.5</td>\n",
       "      <td>NaN</td>\n",
       "      <td>NaN</td>\n",
       "    </tr>\n",
       "  </tbody>\n",
       "</table>\n",
       "<p>5 rows × 42 columns</p>\n",
       "</div>"
      ],
      "text/plain": [
       "       restaurant_link       restaurant_name  \\\n",
       "0  g10001637-d10002227                Le 147   \n",
       "1  g10001637-d14975787      Le Saint Jouvent   \n",
       "2   g10002858-d4586832       Au Bout du Pont   \n",
       "3   g10002986-d3510044   Le Relais de Naiade   \n",
       "4   g10022428-d9767191  Relais Du MontSeigne   \n",
       "\n",
       "                                   original_location country  \\\n",
       "0  [\"Europe\", \"France\", \"Nouvelle-Aquitaine\", \"Ha...  France   \n",
       "1  [\"Europe\", \"France\", \"Nouvelle-Aquitaine\", \"Ha...  France   \n",
       "2  [\"Europe\", \"France\", \"Centre-Val de Loire\", \"B...  France   \n",
       "3  [\"Europe\", \"France\", \"Nouvelle-Aquitaine\", \"Co...  France   \n",
       "4  [\"Europe\", \"France\", \"Occitanie\", \"Aveyron\", \"...  France   \n",
       "\n",
       "                region      province                      city  \\\n",
       "0   Nouvelle-Aquitaine  Haute-Vienne             Saint-Jouvent   \n",
       "1   Nouvelle-Aquitaine  Haute-Vienne             Saint-Jouvent   \n",
       "2  Centre-Val de Loire         Berry                Rivarennes   \n",
       "3   Nouvelle-Aquitaine       Correze                   Lacelle   \n",
       "4            Occitanie       Aveyron  Saint-Laurent-de-Levezou   \n",
       "\n",
       "                                             address   latitude  longitude  \\\n",
       "0        10 Maison Neuve, 87510 Saint-Jouvent France  45.961674   1.169131   \n",
       "1   16 Place de l Eglise, 87510 Saint-Jouvent France  45.957040   1.205480   \n",
       "2           2 rue des Dames, 36800 Rivarennes France  46.635895   1.386133   \n",
       "3  9 avenue Porte de la Correze 19170, 19170 Lace...  45.642610   1.824460   \n",
       "4  route du Montseigne, 12620 Saint-Laurent-de-Le...  44.208860   2.960470   \n",
       "\n",
       "   ... excellent very_good average poor terrible food service value  \\\n",
       "0  ...       2.0       0.0     0.0  0.0      0.0  4.0     4.5   4.0   \n",
       "1  ...       2.0       2.0     1.0  0.0      0.0  NaN     NaN   NaN   \n",
       "2  ...       3.0       1.0     0.0  0.0      0.0  NaN     NaN   NaN   \n",
       "3  ...       1.0       0.0     0.0  0.0      0.0  4.5     4.5   4.5   \n",
       "4  ...       4.0       7.0     0.0  0.0      0.0  4.5     4.5   4.5   \n",
       "\n",
       "  atmosphere keywords  \n",
       "0        NaN      NaN  \n",
       "1        NaN      NaN  \n",
       "2        NaN      NaN  \n",
       "3        NaN      NaN  \n",
       "4        NaN      NaN  \n",
       "\n",
       "[5 rows x 42 columns]"
      ]
     },
     "execution_count": 746,
     "metadata": {},
     "output_type": "execute_result"
    }
   ],
   "source": [
    "df = pd.read_csv('./DATA/tripadvisor_european_restaurants.csv')\n",
    "df.head(5)"
   ]
  },
  {
   "cell_type": "code",
   "execution_count": 747,
   "metadata": {},
   "outputs": [
    {
     "data": {
      "text/plain": [
       "(1083397, 42)"
      ]
     },
     "execution_count": 747,
     "metadata": {},
     "output_type": "execute_result"
    }
   ],
   "source": [
    "df.shape"
   ]
  },
  {
   "cell_type": "markdown",
   "metadata": {},
   "source": [
    "## % de nulos"
   ]
  },
  {
   "cell_type": "markdown",
   "metadata": {},
   "source": [
    "<H4> COLUMNS </H4>"
   ]
  },
  {
   "cell_type": "code",
   "execution_count": 10,
   "metadata": {},
   "outputs": [
    {
     "data": {
      "text/plain": [
       "526351    0.738095\n",
       "521199    0.738095\n",
       "525716    0.738095\n",
       "526346    0.738095\n",
       "521187    0.738095\n",
       "            ...   \n",
       "495513    0.000000\n",
       "444650    0.000000\n",
       "876417    0.000000\n",
       "982492    0.000000\n",
       "606558    0.000000\n",
       "Length: 1083397, dtype: float64"
      ]
     },
     "execution_count": 10,
     "metadata": {},
     "output_type": "execute_result"
    }
   ],
   "source": [
    "pk.porcentageCOL(df)"
   ]
  },
  {
   "cell_type": "markdown",
   "metadata": {},
   "source": [
    "<H4> ROWS </H4>"
   ]
  },
  {
   "cell_type": "code",
   "execution_count": 9,
   "metadata": {},
   "outputs": [
    {
     "data": {
      "text/plain": [
       "keywords                             0.908438\n",
       "atmosphere                           0.758367\n",
       "awards                               0.757122\n",
       "price_range                          0.719099\n",
       "features                             0.707026\n",
       "special_diets                        0.685936\n",
       "working_shifts_per_week              0.451880\n",
       "open_hours_per_week                  0.451880\n",
       "open_days_per_week                   0.451880\n",
       "original_open_hours                  0.451880\n",
       "food                                 0.446809\n",
       "value                                0.443702\n",
       "service                              0.442229\n",
       "meals                                0.413560\n",
       "city                                 0.369841\n",
       "province                             0.314411\n",
       "price_level                          0.255867\n",
       "cuisines                             0.156086\n",
       "top_tags                             0.102118\n",
       "popularity_generic                   0.090264\n",
       "avg_rating                           0.089197\n",
       "excellent                            0.087865\n",
       "reviews_count_in_default_language    0.087865\n",
       "default_language                     0.087865\n",
       "very_good                            0.087865\n",
       "poor                                 0.087865\n",
       "terrible                             0.087865\n",
       "average                              0.087865\n",
       "popularity_detailed                  0.087676\n",
       "total_reviews_count                  0.048214\n",
       "region                               0.046449\n",
       "longitude                            0.014575\n",
       "latitude                             0.014575\n",
       "claimed                              0.001700\n",
       "restaurant_link                      0.000000\n",
       "gluten_free                          0.000000\n",
       "vegan_options                        0.000000\n",
       "restaurant_name                      0.000000\n",
       "address                              0.000000\n",
       "country                              0.000000\n",
       "original_location                    0.000000\n",
       "vegetarian_friendly                  0.000000\n",
       "dtype: float64"
      ]
     },
     "execution_count": 9,
     "metadata": {},
     "output_type": "execute_result"
    }
   ],
   "source": [
    "pk.porcentageROW(df)"
   ]
  },
  {
   "cell_type": "markdown",
   "metadata": {},
   "source": [
    "## Delete Nulls"
   ]
  },
  {
   "cell_type": "code",
   "execution_count": 21,
   "metadata": {},
   "outputs": [
    {
     "data": {
      "text/plain": [
       "(1083397, 42)"
      ]
     },
     "execution_count": 21,
     "metadata": {},
     "output_type": "execute_result"
    }
   ],
   "source": [
    "df1 = df.dropna(axis=0, how='all')\n",
    "df1 = df.dropna(axis=1, how='all')\n",
    "df1.shape   #No tenemos ninguna fila ni columnas vacia"
   ]
  },
  {
   "cell_type": "markdown",
   "metadata": {},
   "source": [
    "## Análisis de cada Columna"
   ]
  },
  {
   "cell_type": "code",
   "execution_count": 27,
   "metadata": {},
   "outputs": [
    {
     "data": {
      "text/plain": [
       "array(['France', 'The Netherlands', 'Germany', 'Austria', 'Spain',\n",
       "       'England', 'Northern Ireland', 'Scotland', 'Wales', 'Italy',\n",
       "       'Ireland', 'Poland', 'Sweden', 'Belgium', 'Greece', 'Croatia',\n",
       "       'Portugal', 'Slovakia', 'Czech Republic', 'Hungary', 'Finland',\n",
       "       'Denmark', 'Bulgaria', 'Romania'], dtype=object)"
      ]
     },
     "execution_count": 27,
     "metadata": {},
     "output_type": "execute_result"
    }
   ],
   "source": [
    "df.country.unique()"
   ]
  },
  {
   "cell_type": "code",
   "execution_count": 36,
   "metadata": {},
   "outputs": [
    {
     "data": {
      "text/plain": [
       "0    g10001637-d10002227\n",
       "1    g10001637-d14975787\n",
       "2     g10002858-d4586832\n",
       "Name: restaurant_link, dtype: object"
      ]
     },
     "execution_count": 36,
     "metadata": {},
     "output_type": "execute_result"
    }
   ],
   "source": [
    "df.restaurant_link[:3]"
   ]
  },
  {
   "cell_type": "code",
   "execution_count": 70,
   "metadata": {},
   "outputs": [
    {
     "data": {
      "text/plain": [
       "(43496, 1334, 251)"
      ]
     },
     "execution_count": 70,
     "metadata": {},
     "output_type": "execute_result"
    }
   ],
   "source": [
    "len(df.city.unique()), len(df.province.unique()), len(df.region.unique())"
   ]
  },
  {
   "cell_type": "code",
   "execution_count": 34,
   "metadata": {},
   "outputs": [
    {
     "data": {
      "text/plain": [
       "1034685"
      ]
     },
     "execution_count": 34,
     "metadata": {},
     "output_type": "execute_result"
    }
   ],
   "source": [
    "len(df.address.unique())"
   ]
  },
  {
   "cell_type": "code",
   "execution_count": 69,
   "metadata": {},
   "outputs": [
    {
     "data": {
      "text/plain": [
       "918"
      ]
     },
     "execution_count": 69,
     "metadata": {},
     "output_type": "execute_result"
    }
   ],
   "source": [
    "len(df.awards.unique() ) #nan, \"Travellers' Choice, Certificate of Excellence 2020"
   ]
  },
  {
   "cell_type": "code",
   "execution_count": 43,
   "metadata": {},
   "outputs": [
    {
     "data": {
      "text/plain": [
       "array(['Claimed', 'Unclaimed', nan], dtype=object)"
      ]
     },
     "execution_count": 43,
     "metadata": {},
     "output_type": "execute_result"
    }
   ],
   "source": [
    "df.claimed.unique()"
   ]
  },
  {
   "cell_type": "code",
   "execution_count": 45,
   "metadata": {},
   "outputs": [
    {
     "data": {
      "text/plain": [
       "981410"
      ]
     },
     "execution_count": 45,
     "metadata": {},
     "output_type": "execute_result"
    }
   ],
   "source": [
    "len(df.popularity_detailed.unique()) #DESCARTAR"
   ]
  },
  {
   "cell_type": "code",
   "execution_count": 49,
   "metadata": {},
   "outputs": [
    {
     "data": {
      "text/plain": [
       "981941"
      ]
     },
     "execution_count": 49,
     "metadata": {},
     "output_type": "execute_result"
    }
   ],
   "source": [
    "len(df.popularity_generic.unique())  #DESCARTAR"
   ]
  },
  {
   "cell_type": "code",
   "execution_count": 66,
   "metadata": {},
   "outputs": [
    {
     "data": {
      "text/plain": [
       "39963"
      ]
     },
     "execution_count": 66,
     "metadata": {},
     "output_type": "execute_result"
    }
   ],
   "source": [
    "len(df.top_tags.unique())   #International, European, British, Deli','Fine Dining, Seafood, Mediterranean"
   ]
  },
  {
   "cell_type": "code",
   "execution_count": 64,
   "metadata": {},
   "outputs": [
    {
     "data": {
      "text/plain": [
       "7299"
      ]
     },
     "execution_count": 64,
     "metadata": {},
     "output_type": "execute_result"
    }
   ],
   "source": [
    "len(df.price_range.unique())       #€2-€142', '€18-€81', '€35-€180"
   ]
  },
  {
   "cell_type": "code",
   "execution_count": 56,
   "metadata": {},
   "outputs": [
    {
     "data": {
      "text/plain": [
       "array(['€', '€€-€€€', nan, '€€€€'], dtype=object)"
      ]
     },
     "execution_count": 56,
     "metadata": {},
     "output_type": "execute_result"
    }
   ],
   "source": [
    "df.price_level.unique()  #DESCARTAR"
   ]
  },
  {
   "cell_type": "code",
   "execution_count": 62,
   "metadata": {},
   "outputs": [
    {
     "data": {
      "text/plain": [
       "746"
      ]
     },
     "execution_count": 62,
     "metadata": {},
     "output_type": "execute_result"
    }
   ],
   "source": [
    "len(df.meals.unique())  #Lunch, Dinner, Drinks"
   ]
  },
  {
   "cell_type": "code",
   "execution_count": 60,
   "metadata": {},
   "outputs": [
    {
     "data": {
      "text/plain": [
       "97742"
      ]
     },
     "execution_count": 60,
     "metadata": {},
     "output_type": "execute_result"
    }
   ],
   "source": [
    "len(df.cuisines.unique())  #Central European, Romanian, Grill','International, Barbecue"
   ]
  },
  {
   "cell_type": "code",
   "execution_count": 75,
   "metadata": {},
   "outputs": [
    {
     "data": {
      "text/plain": [
       "69"
      ]
     },
     "execution_count": 75,
     "metadata": {},
     "output_type": "execute_result"
    }
   ],
   "source": [
    "len(df.special_diets.unique())  #Vegan Options, Vegetarian Friendly, Gluten Free Options"
   ]
  },
  {
   "cell_type": "code",
   "execution_count": 76,
   "metadata": {},
   "outputs": [
    {
     "data": {
      "text/plain": [
       "56454"
      ]
     },
     "execution_count": 76,
     "metadata": {},
     "output_type": "execute_result"
    }
   ],
   "source": [
    "len(df.features.unique())  #Reservations, Seating, Wheelchair Accessible, Serves Alcohol, Accepts Credit Cards, Table Service','Reservations, Seating, Table Service, Wheelchair Accessible"
   ]
  },
  {
   "cell_type": "code",
   "execution_count": 74,
   "metadata": {},
   "outputs": [
    {
     "data": {
      "text/plain": [
       "array(['N', 'Y'], dtype=object)"
      ]
     },
     "execution_count": 74,
     "metadata": {},
     "output_type": "execute_result"
    }
   ],
   "source": [
    "df.vegetarian_friendly.unique()"
   ]
  },
  {
   "cell_type": "code",
   "execution_count": 77,
   "metadata": {},
   "outputs": [
    {
     "data": {
      "text/plain": [
       "array(['N', 'Y'], dtype=object)"
      ]
     },
     "execution_count": 77,
     "metadata": {},
     "output_type": "execute_result"
    }
   ],
   "source": [
    "df.vegan_options.unique()"
   ]
  },
  {
   "cell_type": "code",
   "execution_count": 78,
   "metadata": {},
   "outputs": [
    {
     "data": {
      "text/plain": [
       "array(['N', 'Y'], dtype=object)"
      ]
     },
     "execution_count": 78,
     "metadata": {},
     "output_type": "execute_result"
    }
   ],
   "source": [
    "df.gluten_free.unique()"
   ]
  },
  {
   "cell_type": "code",
   "execution_count": 81,
   "metadata": {},
   "outputs": [
    {
     "data": {
      "text/plain": [
       "237891"
      ]
     },
     "execution_count": 81,
     "metadata": {},
     "output_type": "execute_result"
    }
   ],
   "source": [
    "len(df.original_open_hours.unique())  #{\"Mon\": [\"09:00-14:30\"], \"Tue\": [\"09:00-14:30\", \"19:00-21:30\"], \"Wed\": [\"09:00-14:30\", \"19:00-21:30\"]"
   ]
  },
  {
   "cell_type": "code",
   "execution_count": 83,
   "metadata": {},
   "outputs": [
    {
     "data": {
      "text/plain": [
       "array([nan,  7.,  5.,  6.,  1.,  4.,  2.,  3.])"
      ]
     },
     "execution_count": 83,
     "metadata": {},
     "output_type": "execute_result"
    }
   ],
   "source": [
    "df.open_days_per_week.unique()"
   ]
  },
  {
   "cell_type": "code",
   "execution_count": 84,
   "metadata": {},
   "outputs": [
    {
     "data": {
      "text/plain": [
       "array([nan, 12., 10.,  6.,  7., 11.,  8., 14., 13.,  9.,  2.,  4.,  5.,\n",
       "        3.,  1., 15.])"
      ]
     },
     "execution_count": 84,
     "metadata": {},
     "output_type": "execute_result"
    }
   ],
   "source": [
    "df.working_shifts_per_week.unique()"
   ]
  },
  {
   "cell_type": "code",
   "execution_count": 85,
   "metadata": {},
   "outputs": [
    {
     "data": {
      "text/plain": [
       "array([4. , 5. , 4.5, 3.5, nan, 3. , 2. , 1. , 2.5, 1.5])"
      ]
     },
     "execution_count": 85,
     "metadata": {},
     "output_type": "execute_result"
    }
   ],
   "source": [
    "df.avg_rating.unique()"
   ]
  },
  {
   "cell_type": "code",
   "execution_count": 88,
   "metadata": {},
   "outputs": [
    {
     "data": {
      "text/plain": [
       "3364"
      ]
     },
     "execution_count": 88,
     "metadata": {},
     "output_type": "execute_result"
    }
   ],
   "source": [
    "len(df.total_reviews_count.unique())   #3.6000e+01, 5.0000e+00, 1.3000e+01   ¿UMMMMSSS?"
   ]
  },
  {
   "cell_type": "code",
   "execution_count": 91,
   "metadata": {},
   "outputs": [
    {
     "data": {
      "text/plain": [
       "array([2.000e+00, 5.000e+00, 4.000e+00, ..., 2.143e+03, 2.454e+03,\n",
       "       9.239e+03])"
      ]
     },
     "execution_count": 91,
     "metadata": {},
     "output_type": "execute_result"
    }
   ],
   "source": [
    "df.reviews_count_in_default_language.unique()  #2.000e+00, 5.000e+00, 4.000e+00    DESCARTAR"
   ]
  },
  {
   "cell_type": "code",
   "execution_count": 90,
   "metadata": {},
   "outputs": [
    {
     "data": {
      "text/plain": [
       "array(['English', 'All languages', nan], dtype=object)"
      ]
     },
     "execution_count": 90,
     "metadata": {},
     "output_type": "execute_result"
    }
   ],
   "source": [
    "df.default_language.unique()"
   ]
  },
  {
   "cell_type": "code",
   "execution_count": 102,
   "metadata": {},
   "outputs": [
    {
     "data": {
      "text/plain": [
       "(1709, 833, 459, 306, 354)"
      ]
     },
     "execution_count": 102,
     "metadata": {},
     "output_type": "execute_result"
    }
   ],
   "source": [
    "# los datos son + o - * así: #1.000e+01, 6.000e+00, 1.800e+01, 1.100e+01\n",
    "len(df.excellent.unique()), len(df.very_good.unique()), len(df.average.unique()), \n",
    "len(df.poor.unique()), len(df.terrible.unique())"
   ]
  },
  {
   "cell_type": "code",
   "execution_count": 103,
   "metadata": {},
   "outputs": [
    {
     "data": {
      "text/plain": [
       "array([4. , nan, 4.5, 5. , 3.5, 3. , 2.5, 2. , 1.5, 1. ])"
      ]
     },
     "execution_count": 103,
     "metadata": {},
     "output_type": "execute_result"
    }
   ],
   "source": [
    "df.food.unique()"
   ]
  },
  {
   "cell_type": "code",
   "execution_count": 104,
   "metadata": {},
   "outputs": [
    {
     "data": {
      "text/plain": [
       "array([4.5, nan, 3.5, 4. , 5. , 3. , 2.5, 2. , 1.5, 1. ])"
      ]
     },
     "execution_count": 104,
     "metadata": {},
     "output_type": "execute_result"
    }
   ],
   "source": [
    "df.service.unique()"
   ]
  },
  {
   "cell_type": "code",
   "execution_count": 105,
   "metadata": {},
   "outputs": [
    {
     "data": {
      "text/plain": [
       "array([4. , nan, 4.5, 3.5, 5. , 3. , 2. , 2.5, 1.5, 1. ])"
      ]
     },
     "execution_count": 105,
     "metadata": {},
     "output_type": "execute_result"
    }
   ],
   "source": [
    "df.value.unique()"
   ]
  },
  {
   "cell_type": "code",
   "execution_count": 107,
   "metadata": {},
   "outputs": [
    {
     "data": {
      "text/plain": [
       "array([nan, 4.5, 4. , 3.5, 5. , 3. , 2.5, 2. , 1. , 1.5])"
      ]
     },
     "execution_count": 107,
     "metadata": {},
     "output_type": "execute_result"
    }
   ],
   "source": [
    "df.atmosphere.unique()"
   ]
  },
  {
   "cell_type": "code",
   "execution_count": 113,
   "metadata": {},
   "outputs": [
    {
     "data": {
      "text/plain": [
       "99002"
      ]
     },
     "execution_count": 113,
     "metadata": {},
     "output_type": "execute_result"
    }
   ],
   "source": [
    "len(df.keywords.unique())  #nan, 'pizza, tartiflette, fondue, service was excellent, chef, tuna, fish, tapas, vineyard, region'"
   ]
  },
  {
   "cell_type": "markdown",
   "metadata": {},
   "source": [
    "# Data Tripadvisor SPAIN 🥘"
   ]
  },
  {
   "cell_type": "code",
   "execution_count": 748,
   "metadata": {},
   "outputs": [
    {
     "data": {
      "text/html": [
       "<div>\n",
       "<style scoped>\n",
       "    .dataframe tbody tr th:only-of-type {\n",
       "        vertical-align: middle;\n",
       "    }\n",
       "\n",
       "    .dataframe tbody tr th {\n",
       "        vertical-align: top;\n",
       "    }\n",
       "\n",
       "    .dataframe thead th {\n",
       "        text-align: right;\n",
       "    }\n",
       "</style>\n",
       "<table border=\"1\" class=\"dataframe\">\n",
       "  <thead>\n",
       "    <tr style=\"text-align: right;\">\n",
       "      <th></th>\n",
       "      <th>restaurant_link</th>\n",
       "      <th>restaurant_name</th>\n",
       "      <th>original_location</th>\n",
       "      <th>country</th>\n",
       "      <th>region</th>\n",
       "      <th>province</th>\n",
       "      <th>city</th>\n",
       "      <th>address</th>\n",
       "      <th>latitude</th>\n",
       "      <th>longitude</th>\n",
       "      <th>...</th>\n",
       "      <th>excellent</th>\n",
       "      <th>very_good</th>\n",
       "      <th>average</th>\n",
       "      <th>poor</th>\n",
       "      <th>terrible</th>\n",
       "      <th>food</th>\n",
       "      <th>service</th>\n",
       "      <th>value</th>\n",
       "      <th>atmosphere</th>\n",
       "      <th>keywords</th>\n",
       "    </tr>\n",
       "  </thead>\n",
       "  <tbody>\n",
       "    <tr>\n",
       "      <th>320900</th>\n",
       "      <td>g10021880-d13763192</td>\n",
       "      <td>Taberna La Sacristia</td>\n",
       "      <td>[\"Europe\", \"Spain\", \"Andalucia\", \"Province of ...</td>\n",
       "      <td>Spain</td>\n",
       "      <td>Andalucia</td>\n",
       "      <td>Province of Seville</td>\n",
       "      <td>NaN</td>\n",
       "      <td>Calle del Concejo 19, 41870 Aznalcollar Spain</td>\n",
       "      <td>37.51928</td>\n",
       "      <td>-6.26885</td>\n",
       "      <td>...</td>\n",
       "      <td>0.0</td>\n",
       "      <td>0.0</td>\n",
       "      <td>1.0</td>\n",
       "      <td>0.0</td>\n",
       "      <td>0.0</td>\n",
       "      <td>NaN</td>\n",
       "      <td>NaN</td>\n",
       "      <td>NaN</td>\n",
       "      <td>NaN</td>\n",
       "      <td>NaN</td>\n",
       "    </tr>\n",
       "    <tr>\n",
       "      <th>320901</th>\n",
       "      <td>g10021880-d15758746</td>\n",
       "      <td>Tasca el Capricho</td>\n",
       "      <td>[\"Europe\", \"Spain\", \"Andalucia\", \"Province of ...</td>\n",
       "      <td>Spain</td>\n",
       "      <td>Andalucia</td>\n",
       "      <td>Province of Seville</td>\n",
       "      <td>NaN</td>\n",
       "      <td>Calle del 28 de Febrero 9, 41870 Aznalcollar S...</td>\n",
       "      <td>37.52065</td>\n",
       "      <td>-6.26822</td>\n",
       "      <td>...</td>\n",
       "      <td>2.0</td>\n",
       "      <td>0.0</td>\n",
       "      <td>0.0</td>\n",
       "      <td>0.0</td>\n",
       "      <td>0.0</td>\n",
       "      <td>NaN</td>\n",
       "      <td>NaN</td>\n",
       "      <td>NaN</td>\n",
       "      <td>NaN</td>\n",
       "      <td>NaN</td>\n",
       "    </tr>\n",
       "    <tr>\n",
       "      <th>320902</th>\n",
       "      <td>g10021880-d19332558</td>\n",
       "      <td>Bar Las Adelfas</td>\n",
       "      <td>[\"Europe\", \"Spain\", \"Andalucia\", \"Province of ...</td>\n",
       "      <td>Spain</td>\n",
       "      <td>Andalucia</td>\n",
       "      <td>Province of Seville</td>\n",
       "      <td>NaN</td>\n",
       "      <td>Calle Perdon N° 23 Capilla de La Cruz, 41870 A...</td>\n",
       "      <td>37.52428</td>\n",
       "      <td>-6.27144</td>\n",
       "      <td>...</td>\n",
       "      <td>1.0</td>\n",
       "      <td>0.0</td>\n",
       "      <td>0.0</td>\n",
       "      <td>0.0</td>\n",
       "      <td>1.0</td>\n",
       "      <td>NaN</td>\n",
       "      <td>NaN</td>\n",
       "      <td>NaN</td>\n",
       "      <td>NaN</td>\n",
       "      <td>NaN</td>\n",
       "    </tr>\n",
       "  </tbody>\n",
       "</table>\n",
       "<p>3 rows × 42 columns</p>\n",
       "</div>"
      ],
      "text/plain": [
       "            restaurant_link       restaurant_name  \\\n",
       "320900  g10021880-d13763192  Taberna La Sacristia   \n",
       "320901  g10021880-d15758746     Tasca el Capricho   \n",
       "320902  g10021880-d19332558       Bar Las Adelfas   \n",
       "\n",
       "                                        original_location country     region  \\\n",
       "320900  [\"Europe\", \"Spain\", \"Andalucia\", \"Province of ...   Spain  Andalucia   \n",
       "320901  [\"Europe\", \"Spain\", \"Andalucia\", \"Province of ...   Spain  Andalucia   \n",
       "320902  [\"Europe\", \"Spain\", \"Andalucia\", \"Province of ...   Spain  Andalucia   \n",
       "\n",
       "                   province city  \\\n",
       "320900  Province of Seville  NaN   \n",
       "320901  Province of Seville  NaN   \n",
       "320902  Province of Seville  NaN   \n",
       "\n",
       "                                                  address  latitude  \\\n",
       "320900      Calle del Concejo 19, 41870 Aznalcollar Spain  37.51928   \n",
       "320901  Calle del 28 de Febrero 9, 41870 Aznalcollar S...  37.52065   \n",
       "320902  Calle Perdon N° 23 Capilla de La Cruz, 41870 A...  37.52428   \n",
       "\n",
       "        longitude  ... excellent very_good average poor terrible food service  \\\n",
       "320900   -6.26885  ...       0.0       0.0     1.0  0.0      0.0  NaN     NaN   \n",
       "320901   -6.26822  ...       2.0       0.0     0.0  0.0      0.0  NaN     NaN   \n",
       "320902   -6.27144  ...       1.0       0.0     0.0  0.0      1.0  NaN     NaN   \n",
       "\n",
       "       value atmosphere keywords  \n",
       "320900   NaN        NaN      NaN  \n",
       "320901   NaN        NaN      NaN  \n",
       "320902   NaN        NaN      NaN  \n",
       "\n",
       "[3 rows x 42 columns]"
      ]
     },
     "execution_count": 748,
     "metadata": {},
     "output_type": "execute_result"
    }
   ],
   "source": [
    "df1 = df[(df.country == 'Spain')]\n",
    "df1.head(3)"
   ]
  },
  {
   "cell_type": "code",
   "execution_count": 749,
   "metadata": {},
   "outputs": [
    {
     "data": {
      "text/plain": [
       "((157479, 42), (1083397, 42))"
      ]
     },
     "execution_count": 749,
     "metadata": {},
     "output_type": "execute_result"
    }
   ],
   "source": [
    "#Spain           #EU\n",
    "df1.shape    ,  df.shape"
   ]
  },
  {
   "cell_type": "code",
   "execution_count": 750,
   "metadata": {
    "scrolled": true
   },
   "outputs": [
    {
     "data": {
      "text/plain": [
       "keywords                             0.942786\n",
       "atmosphere                           0.799999\n",
       "awards                               0.772224\n",
       "special_diets                        0.732942\n",
       "price_range                          0.693216\n",
       "features                             0.676681\n",
       "city                                 0.653319\n",
       "working_shifts_per_week              0.519110\n",
       "open_hours_per_week                  0.519110\n",
       "open_days_per_week                   0.519110\n",
       "original_open_hours                  0.519110\n",
       "food                                 0.486687\n",
       "value                                0.483906\n",
       "service                              0.482350\n",
       "meals                                0.449362\n",
       "price_level                          0.258263\n",
       "province                             0.187771\n",
       "cuisines                             0.142965\n",
       "top_tags                             0.099270\n",
       "popularity_generic                   0.094247\n",
       "avg_rating                           0.094051\n",
       "popularity_detailed                  0.092082\n",
       "excellent                            0.092019\n",
       "reviews_count_in_default_language    0.092019\n",
       "default_language                     0.092019\n",
       "very_good                            0.092019\n",
       "poor                                 0.092019\n",
       "terrible                             0.092019\n",
       "average                              0.092019\n",
       "total_reviews_count                  0.056312\n",
       "latitude                             0.015005\n",
       "longitude                            0.015005\n",
       "claimed                              0.001816\n",
       "region                               0.000013\n",
       "restaurant_link                      0.000000\n",
       "gluten_free                          0.000000\n",
       "vegan_options                        0.000000\n",
       "restaurant_name                      0.000000\n",
       "address                              0.000000\n",
       "country                              0.000000\n",
       "original_location                    0.000000\n",
       "vegetarian_friendly                  0.000000\n",
       "dtype: float64"
      ]
     },
     "execution_count": 750,
     "metadata": {},
     "output_type": "execute_result"
    }
   ],
   "source": [
    "pk.porcentageROW(df1)  #Delete Cols > 70% de Nulls awards, keywords, atmosphere  "
   ]
  },
  {
   "cell_type": "markdown",
   "metadata": {},
   "source": [
    "**DROP COLUMN**"
   ]
  },
  {
   "cell_type": "code",
   "execution_count": 751,
   "metadata": {},
   "outputs": [
    {
     "name": "stderr",
     "output_type": "stream",
     "text": [
      "C:\\Users\\christian\\AppData\\Roaming\\Python\\Python38\\site-packages\\pandas\\core\\frame.py:4308: SettingWithCopyWarning: \n",
      "A value is trying to be set on a copy of a slice from a DataFrame\n",
      "\n",
      "See the caveats in the documentation: https://pandas.pydata.org/pandas-docs/stable/user_guide/indexing.html#returning-a-view-versus-a-copy\n",
      "  return super().drop(\n"
     ]
    }
   ],
   "source": [
    "descartar =['popularity_detailed', 'popularity_generic', \n",
    "            'price_level', 'reviews_count_in_default_language']\n",
    "\n",
    "df1.drop(axis=1, columns=descartar, inplace=True )"
   ]
  },
  {
   "cell_type": "markdown",
   "metadata": {},
   "source": [
    "## CHECKING  NULLS 🕳🏃‍♀️"
   ]
  },
  {
   "cell_type": "code",
   "execution_count": 752,
   "metadata": {},
   "outputs": [
    {
     "data": {
      "text/plain": [
       "(157479, 38)"
      ]
     },
     "execution_count": 752,
     "metadata": {},
     "output_type": "execute_result"
    }
   ],
   "source": [
    "df1.shape"
   ]
  },
  {
   "cell_type": "code",
   "execution_count": 753,
   "metadata": {},
   "outputs": [
    {
     "data": {
      "text/plain": [
       "30"
      ]
     },
     "execution_count": 753,
     "metadata": {},
     "output_type": "execute_result"
    }
   ],
   "source": [
    "(pk.porcentageROW(df1) > 0).sum()  #30 columnas tienen algún NaN - 30 columnas a analizar"
   ]
  },
  {
   "cell_type": "markdown",
   "metadata": {},
   "source": [
    "**COL REGION 🗺**"
   ]
  },
  {
   "cell_type": "code",
   "execution_count": 754,
   "metadata": {},
   "outputs": [
    {
     "name": "stderr",
     "output_type": "stream",
     "text": [
      "C:\\Users\\christian\\AppData\\Roaming\\Python\\Python38\\site-packages\\pandas\\core\\generic.py:5494: SettingWithCopyWarning: \n",
      "A value is trying to be set on a copy of a slice from a DataFrame.\n",
      "Try using .loc[row_indexer,col_indexer] = value instead\n",
      "\n",
      "See the caveats in the documentation: https://pandas.pydata.org/pandas-docs/stable/user_guide/indexing.html#returning-a-view-versus-a-copy\n",
      "  self[name] = value\n"
     ]
    }
   ],
   "source": [
    "df1.region = df1.region.fillna(0)  # asigno a los NaN el valor '0', para identificarlos "
   ]
  },
  {
   "cell_type": "code",
   "execution_count": 755,
   "metadata": {},
   "outputs": [
    {
     "data": {
      "text/html": [
       "<div>\n",
       "<style scoped>\n",
       "    .dataframe tbody tr th:only-of-type {\n",
       "        vertical-align: middle;\n",
       "    }\n",
       "\n",
       "    .dataframe tbody tr th {\n",
       "        vertical-align: top;\n",
       "    }\n",
       "\n",
       "    .dataframe thead th {\n",
       "        text-align: right;\n",
       "    }\n",
       "</style>\n",
       "<table border=\"1\" class=\"dataframe\">\n",
       "  <thead>\n",
       "    <tr style=\"text-align: right;\">\n",
       "      <th></th>\n",
       "      <th>restaurant_link</th>\n",
       "      <th>restaurant_name</th>\n",
       "      <th>original_location</th>\n",
       "      <th>country</th>\n",
       "      <th>region</th>\n",
       "      <th>province</th>\n",
       "      <th>city</th>\n",
       "      <th>address</th>\n",
       "      <th>latitude</th>\n",
       "      <th>longitude</th>\n",
       "      <th>...</th>\n",
       "      <th>excellent</th>\n",
       "      <th>very_good</th>\n",
       "      <th>average</th>\n",
       "      <th>poor</th>\n",
       "      <th>terrible</th>\n",
       "      <th>food</th>\n",
       "      <th>service</th>\n",
       "      <th>value</th>\n",
       "      <th>atmosphere</th>\n",
       "      <th>keywords</th>\n",
       "    </tr>\n",
       "  </thead>\n",
       "  <tbody>\n",
       "    <tr>\n",
       "      <th>354203</th>\n",
       "      <td>g187427-d21293370</td>\n",
       "      <td>Café Bar Los Luises</td>\n",
       "      <td>[\"Europe\", \"Spain\"]</td>\n",
       "      <td>Spain</td>\n",
       "      <td>0</td>\n",
       "      <td>NaN</td>\n",
       "      <td>NaN</td>\n",
       "      <td>Calle Antonio Andres Gonzalez, 17, 04431 Spain</td>\n",
       "      <td>40.41070</td>\n",
       "      <td>-3.727419</td>\n",
       "      <td>...</td>\n",
       "      <td>0.0</td>\n",
       "      <td>1.0</td>\n",
       "      <td>0.0</td>\n",
       "      <td>0.0</td>\n",
       "      <td>0.0</td>\n",
       "      <td>NaN</td>\n",
       "      <td>NaN</td>\n",
       "      <td>NaN</td>\n",
       "      <td>NaN</td>\n",
       "      <td>NaN</td>\n",
       "    </tr>\n",
       "    <tr>\n",
       "      <th>354204</th>\n",
       "      <td>g187427-d21509069</td>\n",
       "      <td>Restaurante La Única</td>\n",
       "      <td>[\"Europe\", \"Spain\"]</td>\n",
       "      <td>Spain</td>\n",
       "      <td>0</td>\n",
       "      <td>NaN</td>\n",
       "      <td>NaN</td>\n",
       "      <td>Calle La Fuente 27 Camino entre Oceja de Valde...</td>\n",
       "      <td>41.63044</td>\n",
       "      <td>-0.888875</td>\n",
       "      <td>...</td>\n",
       "      <td>NaN</td>\n",
       "      <td>NaN</td>\n",
       "      <td>NaN</td>\n",
       "      <td>NaN</td>\n",
       "      <td>NaN</td>\n",
       "      <td>NaN</td>\n",
       "      <td>NaN</td>\n",
       "      <td>NaN</td>\n",
       "      <td>NaN</td>\n",
       "      <td>NaN</td>\n",
       "    </tr>\n",
       "  </tbody>\n",
       "</table>\n",
       "<p>2 rows × 38 columns</p>\n",
       "</div>"
      ],
      "text/plain": [
       "          restaurant_link       restaurant_name    original_location country  \\\n",
       "354203  g187427-d21293370   Café Bar Los Luises  [\"Europe\", \"Spain\"]   Spain   \n",
       "354204  g187427-d21509069  Restaurante La Única  [\"Europe\", \"Spain\"]   Spain   \n",
       "\n",
       "       region province city  \\\n",
       "354203      0      NaN  NaN   \n",
       "354204      0      NaN  NaN   \n",
       "\n",
       "                                                  address  latitude  \\\n",
       "354203     Calle Antonio Andres Gonzalez, 17, 04431 Spain  40.41070   \n",
       "354204  Calle La Fuente 27 Camino entre Oceja de Valde...  41.63044   \n",
       "\n",
       "        longitude  ... excellent very_good average poor terrible food service  \\\n",
       "354203  -3.727419  ...       0.0       1.0     0.0  0.0      0.0  NaN     NaN   \n",
       "354204  -0.888875  ...       NaN       NaN     NaN  NaN      NaN  NaN     NaN   \n",
       "\n",
       "       value atmosphere keywords  \n",
       "354203   NaN        NaN      NaN  \n",
       "354204   NaN        NaN      NaN  \n",
       "\n",
       "[2 rows x 38 columns]"
      ]
     },
     "execution_count": 755,
     "metadata": {},
     "output_type": "execute_result"
    }
   ],
   "source": [
    "df1[(df1.region == 0)] #eliminamos estas 2 filas porque dan conflicto en su búsqueda (cerraron o existen en varias ciudades)"
   ]
  },
  {
   "cell_type": "code",
   "execution_count": 756,
   "metadata": {},
   "outputs": [
    {
     "name": "stderr",
     "output_type": "stream",
     "text": [
      "C:\\Users\\christian\\AppData\\Roaming\\Python\\Python38\\site-packages\\pandas\\core\\frame.py:4308: SettingWithCopyWarning: \n",
      "A value is trying to be set on a copy of a slice from a DataFrame\n",
      "\n",
      "See the caveats in the documentation: https://pandas.pydata.org/pandas-docs/stable/user_guide/indexing.html#returning-a-view-versus-a-copy\n",
      "  return super().drop(\n"
     ]
    }
   ],
   "source": [
    "df1.drop([354204, 354203], axis=0, inplace=True)"
   ]
  },
  {
   "cell_type": "code",
   "execution_count": 757,
   "metadata": {},
   "outputs": [
    {
     "data": {
      "text/html": [
       "<div>\n",
       "<style scoped>\n",
       "    .dataframe tbody tr th:only-of-type {\n",
       "        vertical-align: middle;\n",
       "    }\n",
       "\n",
       "    .dataframe tbody tr th {\n",
       "        vertical-align: top;\n",
       "    }\n",
       "\n",
       "    .dataframe thead th {\n",
       "        text-align: right;\n",
       "    }\n",
       "</style>\n",
       "<table border=\"1\" class=\"dataframe\">\n",
       "  <thead>\n",
       "    <tr style=\"text-align: right;\">\n",
       "      <th></th>\n",
       "      <th>restaurant_link</th>\n",
       "      <th>restaurant_name</th>\n",
       "      <th>original_location</th>\n",
       "      <th>country</th>\n",
       "      <th>region</th>\n",
       "      <th>province</th>\n",
       "      <th>city</th>\n",
       "      <th>address</th>\n",
       "      <th>latitude</th>\n",
       "      <th>longitude</th>\n",
       "      <th>...</th>\n",
       "      <th>excellent</th>\n",
       "      <th>very_good</th>\n",
       "      <th>average</th>\n",
       "      <th>poor</th>\n",
       "      <th>terrible</th>\n",
       "      <th>food</th>\n",
       "      <th>service</th>\n",
       "      <th>value</th>\n",
       "      <th>atmosphere</th>\n",
       "      <th>keywords</th>\n",
       "    </tr>\n",
       "  </thead>\n",
       "  <tbody>\n",
       "  </tbody>\n",
       "</table>\n",
       "<p>0 rows × 38 columns</p>\n",
       "</div>"
      ],
      "text/plain": [
       "Empty DataFrame\n",
       "Columns: [restaurant_link, restaurant_name, original_location, country, region, province, city, address, latitude, longitude, claimed, awards, top_tags, price_range, meals, cuisines, special_diets, features, vegetarian_friendly, vegan_options, gluten_free, original_open_hours, open_days_per_week, open_hours_per_week, working_shifts_per_week, avg_rating, total_reviews_count, default_language, excellent, very_good, average, poor, terrible, food, service, value, atmosphere, keywords]\n",
       "Index: []\n",
       "\n",
       "[0 rows x 38 columns]"
      ]
     },
     "execution_count": 757,
     "metadata": {},
     "output_type": "execute_result"
    }
   ],
   "source": [
    "df1[(df1.region == 0)]"
   ]
  },
  {
   "cell_type": "markdown",
   "metadata": {},
   "source": [
    "**COL TOTAL REVIEWS COUNT**"
   ]
  },
  {
   "cell_type": "code",
   "execution_count": 758,
   "metadata": {},
   "outputs": [
    {
     "name": "stderr",
     "output_type": "stream",
     "text": [
      "C:\\Users\\christian\\AppData\\Roaming\\Python\\Python38\\site-packages\\pandas\\core\\generic.py:5494: SettingWithCopyWarning: \n",
      "A value is trying to be set on a copy of a slice from a DataFrame.\n",
      "Try using .loc[row_indexer,col_indexer] = value instead\n",
      "\n",
      "See the caveats in the documentation: https://pandas.pydata.org/pandas-docs/stable/user_guide/indexing.html#returning-a-view-versus-a-copy\n",
      "  self[name] = value\n"
     ]
    }
   ],
   "source": [
    "df1.total_reviews_count = df1.total_reviews_count.fillna(0)  #Asignamos 0 (reviews) a los NaN"
   ]
  },
  {
   "cell_type": "code",
   "execution_count": 759,
   "metadata": {},
   "outputs": [
    {
     "data": {
      "text/plain": [
       "14750"
      ]
     },
     "execution_count": 759,
     "metadata": {},
     "output_type": "execute_result"
    }
   ],
   "source": [
    "len(df1[(df1.total_reviews_count == 0)])  "
   ]
  },
  {
   "cell_type": "markdown",
   "metadata": {},
   "source": [
    "**COL CLAIMED**"
   ]
  },
  {
   "cell_type": "code",
   "execution_count": 760,
   "metadata": {},
   "outputs": [
    {
     "data": {
      "text/plain": [
       "Unclaimed    88093\n",
       "Claimed      69098\n",
       "NaN            286\n",
       "Name: claimed, dtype: int64"
      ]
     },
     "execution_count": 760,
     "metadata": {},
     "output_type": "execute_result"
    }
   ],
   "source": [
    "df1.claimed.value_counts(dropna=False)"
   ]
  },
  {
   "cell_type": "code",
   "execution_count": 761,
   "metadata": {},
   "outputs": [
    {
     "name": "stderr",
     "output_type": "stream",
     "text": [
      "C:\\Users\\christian\\AppData\\Roaming\\Python\\Python38\\site-packages\\pandas\\core\\generic.py:5494: SettingWithCopyWarning: \n",
      "A value is trying to be set on a copy of a slice from a DataFrame.\n",
      "Try using .loc[row_indexer,col_indexer] = value instead\n",
      "\n",
      "See the caveats in the documentation: https://pandas.pydata.org/pandas-docs/stable/user_guide/indexing.html#returning-a-view-versus-a-copy\n",
      "  self[name] = value\n"
     ]
    }
   ],
   "source": [
    "df1.claimed = df1.claimed.fillna('Unclaimed')"
   ]
  },
  {
   "cell_type": "code",
   "execution_count": 762,
   "metadata": {},
   "outputs": [
    {
     "data": {
      "text/plain": [
       "Unclaimed    88379\n",
       "Claimed      69098\n",
       "Name: claimed, dtype: int64"
      ]
     },
     "execution_count": 762,
     "metadata": {},
     "output_type": "execute_result"
    }
   ],
   "source": [
    "df1.claimed.value_counts(dropna=False)"
   ]
  },
  {
   "cell_type": "markdown",
   "metadata": {},
   "source": [
    "**COL EXCELENT - VERY GOOD - AVERAGE - POOR - TERRIBLE**"
   ]
  },
  {
   "cell_type": "code",
   "execution_count": 763,
   "metadata": {},
   "outputs": [
    {
     "data": {
      "text/plain": [
       "1.0      29767\n",
       "0.0      23597\n",
       "2.0      15880\n",
       "NaN      14490\n",
       "3.0      10225\n",
       "         ...  \n",
       "663.0        1\n",
       "630.0        1\n",
       "680.0        1\n",
       "580.0        1\n",
       "706.0        1\n",
       "Name: excellent, Length: 831, dtype: int64"
      ]
     },
     "execution_count": 763,
     "metadata": {},
     "output_type": "execute_result"
    }
   ],
   "source": [
    "df1.excellent.value_counts(dropna=False)   #DROPPPPP"
   ]
  },
  {
   "cell_type": "code",
   "execution_count": 764,
   "metadata": {},
   "outputs": [
    {
     "data": {
      "text/plain": [
       "[2.0, 3.0, 1.0, 4.0, 44.0, 9.0, 18.0, 19.0, nan, 36.0]"
      ]
     },
     "execution_count": 764,
     "metadata": {},
     "output_type": "execute_result"
    }
   ],
   "source": [
    "list(df.excellent.unique())[:10]"
   ]
  },
  {
   "cell_type": "code",
   "execution_count": 765,
   "metadata": {},
   "outputs": [
    {
     "data": {
      "text/html": [
       "<div>\n",
       "<style scoped>\n",
       "    .dataframe tbody tr th:only-of-type {\n",
       "        vertical-align: middle;\n",
       "    }\n",
       "\n",
       "    .dataframe tbody tr th {\n",
       "        vertical-align: top;\n",
       "    }\n",
       "\n",
       "    .dataframe thead th {\n",
       "        text-align: right;\n",
       "    }\n",
       "</style>\n",
       "<table border=\"1\" class=\"dataframe\">\n",
       "  <thead>\n",
       "    <tr style=\"text-align: right;\">\n",
       "      <th></th>\n",
       "      <th>restaurant_link</th>\n",
       "      <th>restaurant_name</th>\n",
       "      <th>original_location</th>\n",
       "      <th>country</th>\n",
       "      <th>region</th>\n",
       "      <th>province</th>\n",
       "      <th>city</th>\n",
       "      <th>address</th>\n",
       "      <th>latitude</th>\n",
       "      <th>longitude</th>\n",
       "      <th>...</th>\n",
       "      <th>excellent</th>\n",
       "      <th>very_good</th>\n",
       "      <th>average</th>\n",
       "      <th>poor</th>\n",
       "      <th>terrible</th>\n",
       "      <th>food</th>\n",
       "      <th>service</th>\n",
       "      <th>value</th>\n",
       "      <th>atmosphere</th>\n",
       "      <th>keywords</th>\n",
       "    </tr>\n",
       "  </thead>\n",
       "  <tbody>\n",
       "    <tr>\n",
       "      <th>364915</th>\n",
       "      <td>g187443-d13238943</td>\n",
       "      <td>Al Wadi</td>\n",
       "      <td>[\"Europe\", \"Spain\", \"Andalucia\", \"Province of ...</td>\n",
       "      <td>Spain</td>\n",
       "      <td>Andalucia</td>\n",
       "      <td>Province of Seville</td>\n",
       "      <td>NaN</td>\n",
       "      <td>Calle Jimios 25-32, 41001 Seville Spain</td>\n",
       "      <td>37.386707</td>\n",
       "      <td>-5.994829</td>\n",
       "      <td>...</td>\n",
       "      <td>706.0</td>\n",
       "      <td>101.0</td>\n",
       "      <td>31.0</td>\n",
       "      <td>19.0</td>\n",
       "      <td>13.0</td>\n",
       "      <td>4.5</td>\n",
       "      <td>4.5</td>\n",
       "      <td>4.5</td>\n",
       "      <td>NaN</td>\n",
       "      <td>hummus, shawarma, rice, baklava, lamb</td>\n",
       "    </tr>\n",
       "  </tbody>\n",
       "</table>\n",
       "<p>1 rows × 38 columns</p>\n",
       "</div>"
      ],
      "text/plain": [
       "          restaurant_link restaurant_name  \\\n",
       "364915  g187443-d13238943         Al Wadi   \n",
       "\n",
       "                                        original_location country     region  \\\n",
       "364915  [\"Europe\", \"Spain\", \"Andalucia\", \"Province of ...   Spain  Andalucia   \n",
       "\n",
       "                   province city                                  address  \\\n",
       "364915  Province of Seville  NaN  Calle Jimios 25-32, 41001 Seville Spain   \n",
       "\n",
       "         latitude  longitude  ... excellent very_good average  poor terrible  \\\n",
       "364915  37.386707  -5.994829  ...     706.0     101.0    31.0  19.0     13.0   \n",
       "\n",
       "       food service value atmosphere                               keywords  \n",
       "364915  4.5     4.5   4.5        NaN  hummus, shawarma, rice, baklava, lamb  \n",
       "\n",
       "[1 rows x 38 columns]"
      ]
     },
     "execution_count": 765,
     "metadata": {},
     "output_type": "execute_result"
    }
   ],
   "source": [
    "df1[(df1.excellent == 706.0 )]"
   ]
  },
  {
   "cell_type": "markdown",
   "metadata": {},
   "source": [
    "**COL DEFAULT LANGUAGES**"
   ]
  },
  {
   "cell_type": "code",
   "execution_count": 766,
   "metadata": {},
   "outputs": [
    {
     "data": {
      "text/plain": [
       "English          90751\n",
       "All languages    52236\n",
       "NaN              14490\n",
       "Name: default_language, dtype: int64"
      ]
     },
     "execution_count": 766,
     "metadata": {},
     "output_type": "execute_result"
    }
   ],
   "source": [
    "df1.default_language.value_counts(dropna=False)"
   ]
  },
  {
   "cell_type": "code",
   "execution_count": 767,
   "metadata": {},
   "outputs": [
    {
     "name": "stderr",
     "output_type": "stream",
     "text": [
      "C:\\Users\\christian\\AppData\\Roaming\\Python\\Python38\\site-packages\\pandas\\core\\generic.py:5494: SettingWithCopyWarning: \n",
      "A value is trying to be set on a copy of a slice from a DataFrame.\n",
      "Try using .loc[row_indexer,col_indexer] = value instead\n",
      "\n",
      "See the caveats in the documentation: https://pandas.pydata.org/pandas-docs/stable/user_guide/indexing.html#returning-a-view-versus-a-copy\n",
      "  self[name] = value\n"
     ]
    }
   ],
   "source": [
    "df1.default_language = df1.default_language.fillna('All languages')"
   ]
  },
  {
   "cell_type": "code",
   "execution_count": 768,
   "metadata": {},
   "outputs": [
    {
     "data": {
      "text/plain": [
       "English          90751\n",
       "All languages    66726\n",
       "Name: default_language, dtype: int64"
      ]
     },
     "execution_count": 768,
     "metadata": {},
     "output_type": "execute_result"
    }
   ],
   "source": [
    "df1.default_language.value_counts(dropna=False)"
   ]
  },
  {
   "cell_type": "markdown",
   "metadata": {},
   "source": [
    "**COL TOP TAGS**"
   ]
  },
  {
   "cell_type": "code",
   "execution_count": 769,
   "metadata": {},
   "outputs": [
    {
     "data": {
      "text/plain": [
       "NaN                                            15633\n",
       "Mid-range, Spanish                              9472\n",
       "Spanish                                         7553\n",
       "Mid-range, Mediterranean, Spanish               6870\n",
       "Mid-range, Mediterranean, European, Spanish     6642\n",
       "Name: top_tags, dtype: int64"
      ]
     },
     "execution_count": 769,
     "metadata": {},
     "output_type": "execute_result"
    }
   ],
   "source": [
    "df1.top_tags.value_counts(dropna=False).head(5)"
   ]
  },
  {
   "cell_type": "code",
   "execution_count": 770,
   "metadata": {},
   "outputs": [],
   "source": [
    "df1.top_tags = df1.top_tags.fillna('Info no disponible') "
   ]
  },
  {
   "cell_type": "code",
   "execution_count": 771,
   "metadata": {},
   "outputs": [
    {
     "data": {
      "text/plain": [
       "Info no disponible                             15633\n",
       "Mid-range, Spanish                              9472\n",
       "Spanish                                         7553\n",
       "Mid-range, Mediterranean, Spanish               6870\n",
       "Mid-range, Mediterranean, European, Spanish     6642\n",
       "Name: top_tags, dtype: int64"
      ]
     },
     "execution_count": 771,
     "metadata": {},
     "output_type": "execute_result"
    }
   ],
   "source": [
    "df1.top_tags.value_counts(dropna=False).head()"
   ]
  },
  {
   "cell_type": "markdown",
   "metadata": {},
   "source": [
    "**COL CUISINES**"
   ]
  },
  {
   "cell_type": "code",
   "execution_count": 772,
   "metadata": {},
   "outputs": [
    {
     "data": {
      "text/plain": [
       "Spanish                             26234\n",
       "NaN                                 22514\n",
       "Mediterranean, Spanish              10622\n",
       "Spanish, Mediterranean               5450\n",
       "Mediterranean, European, Spanish     3845\n",
       "Cafe                                 3842\n",
       "Mediterranean                        3344\n",
       "Bar, Pub                             1581\n",
       "Italian                              1495\n",
       "Italian, Pizza                       1239\n",
       "Name: cuisines, dtype: int64"
      ]
     },
     "execution_count": 772,
     "metadata": {},
     "output_type": "execute_result"
    }
   ],
   "source": [
    "df1.cuisines.value_counts(dropna=False).head(10)"
   ]
  },
  {
   "cell_type": "code",
   "execution_count": 773,
   "metadata": {},
   "outputs": [],
   "source": [
    "df1.cuisines = df1.cuisines.fillna('Info no disponible')"
   ]
  },
  {
   "cell_type": "code",
   "execution_count": 774,
   "metadata": {},
   "outputs": [
    {
     "data": {
      "text/plain": [
       "Spanish                             26234\n",
       "Info no disponible                  22514\n",
       "Mediterranean, Spanish              10622\n",
       "Spanish, Mediterranean               5450\n",
       "Mediterranean, European, Spanish     3845\n",
       "Name: cuisines, dtype: int64"
      ]
     },
     "execution_count": 774,
     "metadata": {},
     "output_type": "execute_result"
    }
   ],
   "source": [
    "df1.cuisines.value_counts(dropna=False).head(5)"
   ]
  },
  {
   "cell_type": "markdown",
   "metadata": {},
   "source": [
    "**COL MEALS**"
   ]
  },
  {
   "cell_type": "code",
   "execution_count": 775,
   "metadata": {},
   "outputs": [
    {
     "data": {
      "text/plain": [
       "NaN                           70764\n",
       "Lunch, Dinner                 23862\n",
       "Breakfast, Lunch, Dinner       9873\n",
       "Dinner                         6164\n",
       "Lunch, Dinner, After-hours     4795\n",
       "Name: meals, dtype: int64"
      ]
     },
     "execution_count": 775,
     "metadata": {},
     "output_type": "execute_result"
    }
   ],
   "source": [
    "df1.meals.value_counts(dropna=False).head()"
   ]
  },
  {
   "cell_type": "code",
   "execution_count": 776,
   "metadata": {},
   "outputs": [],
   "source": [
    "df1.meals = df1.meals.fillna('Info no disponible')"
   ]
  },
  {
   "cell_type": "code",
   "execution_count": 777,
   "metadata": {},
   "outputs": [
    {
     "data": {
      "text/plain": [
       "Info no disponible            70764\n",
       "Lunch, Dinner                 23862\n",
       "Breakfast, Lunch, Dinner       9873\n",
       "Dinner                         6164\n",
       "Lunch, Dinner, After-hours     4795\n",
       "Name: meals, dtype: int64"
      ]
     },
     "execution_count": 777,
     "metadata": {},
     "output_type": "execute_result"
    }
   ],
   "source": [
    "df1.meals.value_counts(dropna=False).head()"
   ]
  },
  {
   "cell_type": "markdown",
   "metadata": {},
   "source": [
    "**COL FOOD - SERVICE - VALUE - ATMOSPHERE**"
   ]
  },
  {
   "cell_type": "code",
   "execution_count": 778,
   "metadata": {},
   "outputs": [
    {
     "data": {
      "text/plain": [
       "NaN    76641\n",
       "4.5    28291\n",
       "4.0    27368\n",
       "3.5    12744\n",
       "5.0     5292\n",
       "3.0     4842\n",
       "2.5     1607\n",
       "2.0      525\n",
       "1.5      148\n",
       "1.0       19\n",
       "Name: food, dtype: int64"
      ]
     },
     "execution_count": 778,
     "metadata": {},
     "output_type": "execute_result"
    }
   ],
   "source": [
    "df1.food.value_counts(dropna=False)"
   ]
  },
  {
   "cell_type": "code",
   "execution_count": 779,
   "metadata": {},
   "outputs": [
    {
     "data": {
      "text/plain": [
       "NaN    75958\n",
       "4.0    26815\n",
       "4.5    25586\n",
       "3.5    14204\n",
       "5.0     6301\n",
       "3.0     5840\n",
       "2.5     1960\n",
       "2.0      636\n",
       "1.5      157\n",
       "1.0       20\n",
       "Name: service, dtype: int64"
      ]
     },
     "execution_count": 779,
     "metadata": {},
     "output_type": "execute_result"
    }
   ],
   "source": [
    "df1.service.value_counts(dropna=False)"
   ]
  },
  {
   "cell_type": "code",
   "execution_count": 780,
   "metadata": {},
   "outputs": [
    {
     "data": {
      "text/plain": [
       "NaN    76203\n",
       "4.0    28628\n",
       "4.5    21930\n",
       "3.5    16697\n",
       "3.0     6736\n",
       "5.0     4175\n",
       "2.5     2161\n",
       "2.0      696\n",
       "1.5      217\n",
       "1.0       34\n",
       "Name: value, dtype: int64"
      ]
     },
     "execution_count": 780,
     "metadata": {},
     "output_type": "execute_result"
    }
   ],
   "source": [
    "df1.value.value_counts(dropna=False)"
   ]
  },
  {
   "cell_type": "code",
   "execution_count": 781,
   "metadata": {},
   "outputs": [
    {
     "data": {
      "text/plain": [
       "NaN    125981\n",
       "4.0     12463\n",
       "4.5      8444\n",
       "3.5      6675\n",
       "3.0      2179\n",
       "5.0       999\n",
       "2.5       525\n",
       "2.0       165\n",
       "1.5        36\n",
       "1.0        10\n",
       "Name: atmosphere, dtype: int64"
      ]
     },
     "execution_count": 781,
     "metadata": {},
     "output_type": "execute_result"
    }
   ],
   "source": [
    "df1.atmosphere.value_counts(dropna=False)"
   ]
  },
  {
   "cell_type": "markdown",
   "metadata": {},
   "source": [
    "**COL OPEN DAYS PER WEEK - OPEN HOURS PER WEEK - ORIGINAL OPEN HOURS**"
   ]
  },
  {
   "cell_type": "code",
   "execution_count": 782,
   "metadata": {},
   "outputs": [
    {
     "data": {
      "text/plain": [
       "NaN    81748\n",
       "7.0    38863\n",
       "6.0    28075\n",
       "5.0     5043\n",
       "4.0     1375\n",
       "3.0     1368\n",
       "2.0      560\n",
       "1.0      445\n",
       "Name: open_days_per_week, dtype: int64"
      ]
     },
     "execution_count": 782,
     "metadata": {},
     "output_type": "execute_result"
    }
   ],
   "source": [
    "df1.open_days_per_week.value_counts(dropna=False)"
   ]
  },
  {
   "cell_type": "code",
   "execution_count": 783,
   "metadata": {},
   "outputs": [
    {
     "data": {
      "text/plain": [
       "NaN      81748\n",
       "84.0      2417\n",
       "42.0      1622\n",
       "98.0      1452\n",
       "105.0     1355\n",
       "91.0      1339\n",
       "56.0      1262\n",
       "77.0      1179\n",
       "63.0      1163\n",
       "112.0     1140\n",
       "Name: open_hours_per_week, dtype: int64"
      ]
     },
     "execution_count": 783,
     "metadata": {},
     "output_type": "execute_result"
    }
   ],
   "source": [
    "df1.open_hours_per_week.value_counts(dropna=False).head(10)   #  DROPPPPPPPP"
   ]
  },
  {
   "cell_type": "code",
   "execution_count": 784,
   "metadata": {},
   "outputs": [
    {
     "data": {
      "text/plain": [
       "NaN                                                                                                                                                                         81748\n",
       "{\"Mon\": [\"12:00-00:00\"], \"Tue\": [\"12:00-00:00\"], \"Wed\": [\"12:00-00:00\"], \"Thu\": [\"12:00-00:00\"], \"Fri\": [\"12:00-00:00\"], \"Sat\": [\"12:00-00:00\"], \"Sun\": [\"12:00-00:00\"]}      841\n",
       "Name: original_open_hours, dtype: int64"
      ]
     },
     "execution_count": 784,
     "metadata": {},
     "output_type": "execute_result"
    }
   ],
   "source": [
    "df1.original_open_hours.value_counts(dropna=False).head(2)"
   ]
  },
  {
   "cell_type": "code",
   "execution_count": 785,
   "metadata": {},
   "outputs": [],
   "source": [
    "df1.original_open_hours = df1.original_open_hours.fillna('Info no disponible')"
   ]
  },
  {
   "cell_type": "code",
   "execution_count": 786,
   "metadata": {},
   "outputs": [
    {
     "data": {
      "text/plain": [
       "Info no disponible                                                                                                                                                          81748\n",
       "{\"Mon\": [\"12:00-00:00\"], \"Tue\": [\"12:00-00:00\"], \"Wed\": [\"12:00-00:00\"], \"Thu\": [\"12:00-00:00\"], \"Fri\": [\"12:00-00:00\"], \"Sat\": [\"12:00-00:00\"], \"Sun\": [\"12:00-00:00\"]}      841\n",
       "Name: original_open_hours, dtype: int64"
      ]
     },
     "execution_count": 786,
     "metadata": {},
     "output_type": "execute_result"
    }
   ],
   "source": [
    "df1.original_open_hours.value_counts(dropna=False).head(2)"
   ]
  },
  {
   "cell_type": "markdown",
   "metadata": {},
   "source": [
    "**WORKING SHIFTS PER WEEK**"
   ]
  },
  {
   "cell_type": "code",
   "execution_count": 787,
   "metadata": {},
   "outputs": [
    {
     "data": {
      "text/plain": [
       "NaN     81748\n",
       "7.0     29609\n",
       "6.0     17926\n",
       "14.0     5663\n",
       "12.0     4888\n",
       "11.0     3573\n",
       "5.0      3239\n",
       "10.0     2237\n",
       "8.0      2119\n",
       "9.0      1932\n",
       "13.0     1604\n",
       "3.0       996\n",
       "4.0       985\n",
       "2.0       508\n",
       "1.0       425\n",
       "15.0       25\n",
       "Name: working_shifts_per_week, dtype: int64"
      ]
     },
     "execution_count": 787,
     "metadata": {},
     "output_type": "execute_result"
    }
   ],
   "source": [
    "df1.working_shifts_per_week.value_counts(dropna=False)   #DROOOOOPPPPPP"
   ]
  },
  {
   "cell_type": "markdown",
   "metadata": {},
   "source": [
    "**COL FEATURES**"
   ]
  },
  {
   "cell_type": "code",
   "execution_count": 788,
   "metadata": {},
   "outputs": [
    {
     "data": {
      "text/plain": [
       "NaN                                                     106561\n",
       "Reservations                                              5619\n",
       "Reservations, Seating, Table Service                      1831\n",
       "Seating, Table Service                                    1367\n",
       "Reservations, Seating, Serves Alcohol, Table Service      1181\n",
       "Name: features, dtype: int64"
      ]
     },
     "execution_count": 788,
     "metadata": {},
     "output_type": "execute_result"
    }
   ],
   "source": [
    "df1.features.value_counts(dropna=False).head()"
   ]
  },
  {
   "cell_type": "code",
   "execution_count": 789,
   "metadata": {},
   "outputs": [],
   "source": [
    "df1.features = df1.features.fillna('Info no disponible')"
   ]
  },
  {
   "cell_type": "code",
   "execution_count": 790,
   "metadata": {},
   "outputs": [
    {
     "data": {
      "text/plain": [
       "Info no disponible                                      106561\n",
       "Reservations                                              5619\n",
       "Reservations, Seating, Table Service                      1831\n",
       "Seating, Table Service                                    1367\n",
       "Reservations, Seating, Serves Alcohol, Table Service      1181\n",
       "Name: features, dtype: int64"
      ]
     },
     "execution_count": 790,
     "metadata": {},
     "output_type": "execute_result"
    }
   ],
   "source": [
    "df1.features.value_counts(dropna=False).head()"
   ]
  },
  {
   "cell_type": "markdown",
   "metadata": {},
   "source": [
    "**PRICE RANGE**"
   ]
  },
  {
   "cell_type": "code",
   "execution_count": 791,
   "metadata": {},
   "outputs": [
    {
     "data": {
      "text/plain": [
       "NaN        109166\n",
       "€10-€30      1482\n",
       "€10-€20      1418\n",
       "€10-€25      1168\n",
       "€5-€15       1110\n",
       "Name: price_range, dtype: int64"
      ]
     },
     "execution_count": 791,
     "metadata": {},
     "output_type": "execute_result"
    }
   ],
   "source": [
    "df1.price_range.value_counts(dropna=False).head()"
   ]
  },
  {
   "cell_type": "code",
   "execution_count": 792,
   "metadata": {},
   "outputs": [],
   "source": [
    "df1.price_range = df1.price_range.fillna('Info no disponible')"
   ]
  },
  {
   "cell_type": "code",
   "execution_count": 793,
   "metadata": {},
   "outputs": [
    {
     "data": {
      "text/plain": [
       "Info no disponible    109166\n",
       "€10-€30                 1482\n",
       "€10-€20                 1418\n",
       "€10-€25                 1168\n",
       "€5-€15                  1110\n",
       "Name: price_range, dtype: int64"
      ]
     },
     "execution_count": 793,
     "metadata": {},
     "output_type": "execute_result"
    }
   ],
   "source": [
    "df1.price_range.value_counts(dropna=False).head()"
   ]
  },
  {
   "cell_type": "markdown",
   "metadata": {},
   "source": [
    "**SPECIAL DIETS**"
   ]
  },
  {
   "cell_type": "code",
   "execution_count": 794,
   "metadata": {},
   "outputs": [
    {
     "data": {
      "text/plain": [
       "NaN                                                        115421\n",
       "Vegetarian Friendly                                         14116\n",
       "Vegetarian Friendly, Vegan Options, Gluten Free Options     11393\n",
       "Vegetarian Friendly, Vegan Options                           5729\n",
       "Vegetarian Friendly, Gluten Free Options                     4743\n",
       "Name: special_diets, dtype: int64"
      ]
     },
     "execution_count": 794,
     "metadata": {},
     "output_type": "execute_result"
    }
   ],
   "source": [
    "df1.special_diets.value_counts(dropna=False).head()"
   ]
  },
  {
   "cell_type": "code",
   "execution_count": 795,
   "metadata": {},
   "outputs": [],
   "source": [
    "df1.special_diets = df1.special_diets.fillna('Info no disponible')"
   ]
  },
  {
   "cell_type": "code",
   "execution_count": 796,
   "metadata": {},
   "outputs": [
    {
     "data": {
      "text/plain": [
       "Info no disponible                                         115421\n",
       "Vegetarian Friendly                                         14116\n",
       "Vegetarian Friendly, Vegan Options, Gluten Free Options     11393\n",
       "Vegetarian Friendly, Vegan Options                           5729\n",
       "Vegetarian Friendly, Gluten Free Options                     4743\n",
       "Name: special_diets, dtype: int64"
      ]
     },
     "execution_count": 796,
     "metadata": {},
     "output_type": "execute_result"
    }
   ],
   "source": [
    "df1.special_diets.value_counts(dropna=False).head()"
   ]
  },
  {
   "cell_type": "markdown",
   "metadata": {},
   "source": [
    "**AVERAGE RATING**"
   ]
  },
  {
   "cell_type": "code",
   "execution_count": 797,
   "metadata": {},
   "outputs": [
    {
     "data": {
      "text/plain": [
       "4.0    41707\n",
       "4.5    38150\n",
       "3.5    23054\n",
       "5.0    17508\n",
       "NaN    14810\n",
       "3.0    12677\n",
       "2.5     5177\n",
       "2.0     2444\n",
       "1.0     1147\n",
       "1.5      803\n",
       "Name: avg_rating, dtype: int64"
      ]
     },
     "execution_count": 797,
     "metadata": {},
     "output_type": "execute_result"
    }
   ],
   "source": [
    "df1.avg_rating.value_counts(dropna=False)"
   ]
  },
  {
   "cell_type": "code",
   "execution_count": 798,
   "metadata": {},
   "outputs": [],
   "source": [
    "df1.avg_rating =df1.avg_rating.fillna('Info no disponible')"
   ]
  },
  {
   "cell_type": "code",
   "execution_count": 799,
   "metadata": {},
   "outputs": [
    {
     "data": {
      "text/plain": [
       "4.0                   41707\n",
       "4.5                   38150\n",
       "3.5                   23054\n",
       "5.0                   17508\n",
       "Info no disponible    14810\n",
       "3.0                   12677\n",
       "2.5                    5177\n",
       "2.0                    2444\n",
       "1.0                    1147\n",
       "1.5                     803\n",
       "Name: avg_rating, dtype: int64"
      ]
     },
     "execution_count": 799,
     "metadata": {},
     "output_type": "execute_result"
    }
   ],
   "source": [
    "df1.avg_rating.value_counts(dropna=False)"
   ]
  },
  {
   "cell_type": "markdown",
   "metadata": {},
   "source": [
    "**TODO OK HASTA AQUÍ**"
   ]
  },
  {
   "cell_type": "code",
   "execution_count": 800,
   "metadata": {},
   "outputs": [
    {
     "data": {
      "text/html": [
       "<div>\n",
       "<style scoped>\n",
       "    .dataframe tbody tr th:only-of-type {\n",
       "        vertical-align: middle;\n",
       "    }\n",
       "\n",
       "    .dataframe tbody tr th {\n",
       "        vertical-align: top;\n",
       "    }\n",
       "\n",
       "    .dataframe thead th {\n",
       "        text-align: right;\n",
       "    }\n",
       "</style>\n",
       "<table border=\"1\" class=\"dataframe\">\n",
       "  <thead>\n",
       "    <tr style=\"text-align: right;\">\n",
       "      <th></th>\n",
       "      <th>restaurant_link</th>\n",
       "      <th>restaurant_name</th>\n",
       "      <th>original_location</th>\n",
       "      <th>country</th>\n",
       "      <th>region</th>\n",
       "      <th>province</th>\n",
       "      <th>city</th>\n",
       "      <th>address</th>\n",
       "      <th>latitude</th>\n",
       "      <th>longitude</th>\n",
       "      <th>...</th>\n",
       "      <th>excellent</th>\n",
       "      <th>very_good</th>\n",
       "      <th>average</th>\n",
       "      <th>poor</th>\n",
       "      <th>terrible</th>\n",
       "      <th>food</th>\n",
       "      <th>service</th>\n",
       "      <th>value</th>\n",
       "      <th>atmosphere</th>\n",
       "      <th>keywords</th>\n",
       "    </tr>\n",
       "  </thead>\n",
       "  <tbody>\n",
       "    <tr>\n",
       "      <th>320900</th>\n",
       "      <td>g10021880-d13763192</td>\n",
       "      <td>Taberna La Sacristia</td>\n",
       "      <td>[\"Europe\", \"Spain\", \"Andalucia\", \"Province of ...</td>\n",
       "      <td>Spain</td>\n",
       "      <td>Andalucia</td>\n",
       "      <td>Province of Seville</td>\n",
       "      <td>NaN</td>\n",
       "      <td>Calle del Concejo 19, 41870 Aznalcollar Spain</td>\n",
       "      <td>37.51928</td>\n",
       "      <td>-6.26885</td>\n",
       "      <td>...</td>\n",
       "      <td>0.0</td>\n",
       "      <td>0.0</td>\n",
       "      <td>1.0</td>\n",
       "      <td>0.0</td>\n",
       "      <td>0.0</td>\n",
       "      <td>NaN</td>\n",
       "      <td>NaN</td>\n",
       "      <td>NaN</td>\n",
       "      <td>NaN</td>\n",
       "      <td>NaN</td>\n",
       "    </tr>\n",
       "    <tr>\n",
       "      <th>320901</th>\n",
       "      <td>g10021880-d15758746</td>\n",
       "      <td>Tasca el Capricho</td>\n",
       "      <td>[\"Europe\", \"Spain\", \"Andalucia\", \"Province of ...</td>\n",
       "      <td>Spain</td>\n",
       "      <td>Andalucia</td>\n",
       "      <td>Province of Seville</td>\n",
       "      <td>NaN</td>\n",
       "      <td>Calle del 28 de Febrero 9, 41870 Aznalcollar S...</td>\n",
       "      <td>37.52065</td>\n",
       "      <td>-6.26822</td>\n",
       "      <td>...</td>\n",
       "      <td>2.0</td>\n",
       "      <td>0.0</td>\n",
       "      <td>0.0</td>\n",
       "      <td>0.0</td>\n",
       "      <td>0.0</td>\n",
       "      <td>NaN</td>\n",
       "      <td>NaN</td>\n",
       "      <td>NaN</td>\n",
       "      <td>NaN</td>\n",
       "      <td>NaN</td>\n",
       "    </tr>\n",
       "    <tr>\n",
       "      <th>320902</th>\n",
       "      <td>g10021880-d19332558</td>\n",
       "      <td>Bar Las Adelfas</td>\n",
       "      <td>[\"Europe\", \"Spain\", \"Andalucia\", \"Province of ...</td>\n",
       "      <td>Spain</td>\n",
       "      <td>Andalucia</td>\n",
       "      <td>Province of Seville</td>\n",
       "      <td>NaN</td>\n",
       "      <td>Calle Perdon N° 23 Capilla de La Cruz, 41870 A...</td>\n",
       "      <td>37.52428</td>\n",
       "      <td>-6.27144</td>\n",
       "      <td>...</td>\n",
       "      <td>1.0</td>\n",
       "      <td>0.0</td>\n",
       "      <td>0.0</td>\n",
       "      <td>0.0</td>\n",
       "      <td>1.0</td>\n",
       "      <td>NaN</td>\n",
       "      <td>NaN</td>\n",
       "      <td>NaN</td>\n",
       "      <td>NaN</td>\n",
       "      <td>NaN</td>\n",
       "    </tr>\n",
       "    <tr>\n",
       "      <th>320903</th>\n",
       "      <td>g10021880-d19468788</td>\n",
       "      <td>El Rincon nº 7</td>\n",
       "      <td>[\"Europe\", \"Spain\", \"Andalucia\", \"Province of ...</td>\n",
       "      <td>Spain</td>\n",
       "      <td>Andalucia</td>\n",
       "      <td>Province of Seville</td>\n",
       "      <td>NaN</td>\n",
       "      <td>Calle del Concejo 60, 41870 Aznalcollar Spain</td>\n",
       "      <td>37.51714</td>\n",
       "      <td>-6.26860</td>\n",
       "      <td>...</td>\n",
       "      <td>17.0</td>\n",
       "      <td>1.0</td>\n",
       "      <td>0.0</td>\n",
       "      <td>0.0</td>\n",
       "      <td>0.0</td>\n",
       "      <td>NaN</td>\n",
       "      <td>NaN</td>\n",
       "      <td>NaN</td>\n",
       "      <td>NaN</td>\n",
       "      <td>NaN</td>\n",
       "    </tr>\n",
       "    <tr>\n",
       "      <th>320904</th>\n",
       "      <td>g10021880-d19847377</td>\n",
       "      <td>Nuevo jacaranda</td>\n",
       "      <td>[\"Europe\", \"Spain\", \"Andalucia\", \"Province of ...</td>\n",
       "      <td>Spain</td>\n",
       "      <td>Andalucia</td>\n",
       "      <td>Province of Seville</td>\n",
       "      <td>NaN</td>\n",
       "      <td>Calle del 28 de Febrero 2, 41870 Aznalcollar S...</td>\n",
       "      <td>37.52088</td>\n",
       "      <td>-6.26844</td>\n",
       "      <td>...</td>\n",
       "      <td>NaN</td>\n",
       "      <td>NaN</td>\n",
       "      <td>NaN</td>\n",
       "      <td>NaN</td>\n",
       "      <td>NaN</td>\n",
       "      <td>NaN</td>\n",
       "      <td>NaN</td>\n",
       "      <td>NaN</td>\n",
       "      <td>NaN</td>\n",
       "      <td>NaN</td>\n",
       "    </tr>\n",
       "  </tbody>\n",
       "</table>\n",
       "<p>5 rows × 38 columns</p>\n",
       "</div>"
      ],
      "text/plain": [
       "            restaurant_link       restaurant_name  \\\n",
       "320900  g10021880-d13763192  Taberna La Sacristia   \n",
       "320901  g10021880-d15758746     Tasca el Capricho   \n",
       "320902  g10021880-d19332558       Bar Las Adelfas   \n",
       "320903  g10021880-d19468788        El Rincon nº 7   \n",
       "320904  g10021880-d19847377       Nuevo jacaranda   \n",
       "\n",
       "                                        original_location country     region  \\\n",
       "320900  [\"Europe\", \"Spain\", \"Andalucia\", \"Province of ...   Spain  Andalucia   \n",
       "320901  [\"Europe\", \"Spain\", \"Andalucia\", \"Province of ...   Spain  Andalucia   \n",
       "320902  [\"Europe\", \"Spain\", \"Andalucia\", \"Province of ...   Spain  Andalucia   \n",
       "320903  [\"Europe\", \"Spain\", \"Andalucia\", \"Province of ...   Spain  Andalucia   \n",
       "320904  [\"Europe\", \"Spain\", \"Andalucia\", \"Province of ...   Spain  Andalucia   \n",
       "\n",
       "                   province city  \\\n",
       "320900  Province of Seville  NaN   \n",
       "320901  Province of Seville  NaN   \n",
       "320902  Province of Seville  NaN   \n",
       "320903  Province of Seville  NaN   \n",
       "320904  Province of Seville  NaN   \n",
       "\n",
       "                                                  address  latitude  \\\n",
       "320900      Calle del Concejo 19, 41870 Aznalcollar Spain  37.51928   \n",
       "320901  Calle del 28 de Febrero 9, 41870 Aznalcollar S...  37.52065   \n",
       "320902  Calle Perdon N° 23 Capilla de La Cruz, 41870 A...  37.52428   \n",
       "320903      Calle del Concejo 60, 41870 Aznalcollar Spain  37.51714   \n",
       "320904  Calle del 28 de Febrero 2, 41870 Aznalcollar S...  37.52088   \n",
       "\n",
       "        longitude  ... excellent very_good average poor terrible food service  \\\n",
       "320900   -6.26885  ...       0.0       0.0     1.0  0.0      0.0  NaN     NaN   \n",
       "320901   -6.26822  ...       2.0       0.0     0.0  0.0      0.0  NaN     NaN   \n",
       "320902   -6.27144  ...       1.0       0.0     0.0  0.0      1.0  NaN     NaN   \n",
       "320903   -6.26860  ...      17.0       1.0     0.0  0.0      0.0  NaN     NaN   \n",
       "320904   -6.26844  ...       NaN       NaN     NaN  NaN      NaN  NaN     NaN   \n",
       "\n",
       "       value atmosphere keywords  \n",
       "320900   NaN        NaN      NaN  \n",
       "320901   NaN        NaN      NaN  \n",
       "320902   NaN        NaN      NaN  \n",
       "320903   NaN        NaN      NaN  \n",
       "320904   NaN        NaN      NaN  \n",
       "\n",
       "[5 rows x 38 columns]"
      ]
     },
     "execution_count": 800,
     "metadata": {},
     "output_type": "execute_result"
    }
   ],
   "source": [
    "df1.head()"
   ]
  },
  {
   "cell_type": "code",
   "execution_count": 801,
   "metadata": {},
   "outputs": [
    {
     "data": {
      "text/plain": [
       "keywords                   0.942785\n",
       "atmosphere                 0.799996\n",
       "awards                     0.772221\n",
       "city                       0.653314\n",
       "working_shifts_per_week    0.519111\n",
       "open_days_per_week         0.519111\n",
       "open_hours_per_week        0.519111\n",
       "food                       0.486681\n",
       "value                      0.483899\n",
       "service                    0.482343\n",
       "province                   0.187761\n",
       "poor                       0.092013\n",
       "average                    0.092013\n",
       "very_good                  0.092013\n",
       "excellent                  0.092013\n",
       "terrible                   0.092013\n",
       "latitude                   0.015005\n",
       "longitude                  0.015005\n",
       "default_language           0.000000\n",
       "total_reviews_count        0.000000\n",
       "avg_rating                 0.000000\n",
       "restaurant_link            0.000000\n",
       "original_open_hours        0.000000\n",
       "gluten_free                0.000000\n",
       "restaurant_name            0.000000\n",
       "vegetarian_friendly        0.000000\n",
       "features                   0.000000\n",
       "special_diets              0.000000\n",
       "cuisines                   0.000000\n",
       "meals                      0.000000\n",
       "price_range                0.000000\n",
       "top_tags                   0.000000\n",
       "claimed                    0.000000\n",
       "address                    0.000000\n",
       "region                     0.000000\n",
       "country                    0.000000\n",
       "original_location          0.000000\n",
       "vegan_options              0.000000\n",
       "dtype: float64"
      ]
     },
     "execution_count": 801,
     "metadata": {},
     "output_type": "execute_result"
    }
   ],
   "source": [
    "pk.porcentageROW(df1)"
   ]
  },
  {
   "cell_type": "markdown",
   "metadata": {},
   "source": [
    "**PROVINCE  +  FILLNA x REGION 🧪**"
   ]
  },
  {
   "cell_type": "code",
   "execution_count": 802,
   "metadata": {},
   "outputs": [
    {
     "data": {
      "text/plain": [
       "NaN                      29568\n",
       "Province of Barcelona    18952\n",
       "Province of Malaga       10056\n",
       "Province of Alicante      9137\n",
       "Province of Valencia      7337\n",
       "Name: province, dtype: int64"
      ]
     },
     "execution_count": 802,
     "metadata": {},
     "output_type": "execute_result"
    }
   ],
   "source": [
    "df1.province.value_counts(dropna=False).head()"
   ]
  },
  {
   "cell_type": "code",
   "execution_count": 803,
   "metadata": {},
   "outputs": [
    {
     "name": "stderr",
     "output_type": "stream",
     "text": [
      "C:\\Users\\christian\\AppData\\Roaming\\Python\\Python38\\site-packages\\pandas\\core\\generic.py:5494: SettingWithCopyWarning: \n",
      "A value is trying to be set on a copy of a slice from a DataFrame.\n",
      "Try using .loc[row_indexer,col_indexer] = value instead\n",
      "\n",
      "See the caveats in the documentation: https://pandas.pydata.org/pandas-docs/stable/user_guide/indexing.html#returning-a-view-versus-a-copy\n",
      "  self[name] = value\n"
     ]
    }
   ],
   "source": [
    "df1.province = df1.province.fillna(0)"
   ]
  },
  {
   "cell_type": "code",
   "execution_count": 804,
   "metadata": {},
   "outputs": [
    {
     "data": {
      "text/plain": [
       "29568"
      ]
     },
     "execution_count": 804,
     "metadata": {},
     "output_type": "execute_result"
    }
   ],
   "source": [
    "len(df1[(df1.province == 0)])"
   ]
  },
  {
   "cell_type": "code",
   "execution_count": 805,
   "metadata": {},
   "outputs": [
    {
     "data": {
      "text/plain": [
       "29568"
      ]
     },
     "execution_count": 805,
     "metadata": {},
     "output_type": "execute_result"
    }
   ],
   "source": [
    "len(b.region)  #Compruebo que tiene la misma longitid que PROVINCE "
   ]
  },
  {
   "cell_type": "code",
   "execution_count": 806,
   "metadata": {},
   "outputs": [
    {
     "data": {
      "text/plain": [
       "2493"
      ]
     },
     "execution_count": 806,
     "metadata": {},
     "output_type": "execute_result"
    }
   ],
   "source": [
    "len(df1[(df1.province == 0) & (df1.region == 'Asturias')] )"
   ]
  },
  {
   "cell_type": "code",
   "execution_count": 807,
   "metadata": {},
   "outputs": [
    {
     "data": {
      "text/plain": [
       "1373"
      ]
     },
     "execution_count": 807,
     "metadata": {},
     "output_type": "execute_result"
    }
   ],
   "source": [
    "len(df1[(df1.province == 0) & (df1.region == 'Navarra')] )"
   ]
  },
  {
   "cell_type": "code",
   "execution_count": 808,
   "metadata": {},
   "outputs": [
    {
     "data": {
      "text/plain": [
       "{'Andalucia',\n",
       " 'Asturias',\n",
       " 'Balearic Islands',\n",
       " 'Basque Country',\n",
       " 'Canary Islands',\n",
       " 'Cantabria',\n",
       " 'Castile and Leon',\n",
       " 'Catalonia',\n",
       " 'Ceuta',\n",
       " 'Community of Madrid',\n",
       " 'Galicia',\n",
       " 'La Rioja',\n",
       " 'Melilla',\n",
       " 'Navarra',\n",
       " 'Region of Murcia'}"
      ]
     },
     "execution_count": 808,
     "metadata": {},
     "output_type": "execute_result"
    }
   ],
   "source": [
    "b = df1[(df1.province == 0) & (df1.region != 0)]   #Me saco una lista única de REGION para matchear con PROVINCE \n",
    "set(b.region)"
   ]
  },
  {
   "cell_type": "code",
   "execution_count": 809,
   "metadata": {},
   "outputs": [
    {
     "name": "stderr",
     "output_type": "stream",
     "text": [
      "<ipython-input-809-25a1c09471a3>:1: SettingWithCopyWarning: \n",
      "A value is trying to be set on a copy of a slice from a DataFrame.\n",
      "Try using .loc[row_indexer,col_indexer] = value instead\n",
      "\n",
      "See the caveats in the documentation: https://pandas.pydata.org/pandas-docs/stable/user_guide/indexing.html#returning-a-view-versus-a-copy\n",
      "  df1[(df1.province == 0) & (df1.region == 'Andalucia')] = 'Andalucia'\n",
      "C:\\Users\\christian\\AppData\\Roaming\\Python\\Python38\\site-packages\\pandas\\core\\indexing.py:1720: SettingWithCopyWarning: \n",
      "A value is trying to be set on a copy of a slice from a DataFrame.\n",
      "Try using .loc[row_indexer,col_indexer] = value instead\n",
      "\n",
      "See the caveats in the documentation: https://pandas.pydata.org/pandas-docs/stable/user_guide/indexing.html#returning-a-view-versus-a-copy\n",
      "  self._setitem_single_column(loc, value, pi)\n",
      "<ipython-input-809-25a1c09471a3>:2: SettingWithCopyWarning: \n",
      "A value is trying to be set on a copy of a slice from a DataFrame.\n",
      "Try using .loc[row_indexer,col_indexer] = value instead\n",
      "\n",
      "See the caveats in the documentation: https://pandas.pydata.org/pandas-docs/stable/user_guide/indexing.html#returning-a-view-versus-a-copy\n",
      "  df1[(df1.province == 0) & (df1.region == 'Asturias')] = 'Asturias'\n",
      "<ipython-input-809-25a1c09471a3>:3: SettingWithCopyWarning: \n",
      "A value is trying to be set on a copy of a slice from a DataFrame.\n",
      "Try using .loc[row_indexer,col_indexer] = value instead\n",
      "\n",
      "See the caveats in the documentation: https://pandas.pydata.org/pandas-docs/stable/user_guide/indexing.html#returning-a-view-versus-a-copy\n",
      "  df1[(df1.province == 0) & (df1.region == 'Balearic Islands')] = 'Balearic Islands'\n",
      "<ipython-input-809-25a1c09471a3>:4: SettingWithCopyWarning: \n",
      "A value is trying to be set on a copy of a slice from a DataFrame.\n",
      "Try using .loc[row_indexer,col_indexer] = value instead\n",
      "\n",
      "See the caveats in the documentation: https://pandas.pydata.org/pandas-docs/stable/user_guide/indexing.html#returning-a-view-versus-a-copy\n",
      "  df1[(df1.province == 0) & (df1.region == 'Basque Country')] = 'Basque Country'\n",
      "<ipython-input-809-25a1c09471a3>:5: SettingWithCopyWarning: \n",
      "A value is trying to be set on a copy of a slice from a DataFrame.\n",
      "Try using .loc[row_indexer,col_indexer] = value instead\n",
      "\n",
      "See the caveats in the documentation: https://pandas.pydata.org/pandas-docs/stable/user_guide/indexing.html#returning-a-view-versus-a-copy\n",
      "  df1[(df1.province == 0) & (df1.region == 'Canary Islands')] = 'Canary Islands'\n",
      "<ipython-input-809-25a1c09471a3>:6: SettingWithCopyWarning: \n",
      "A value is trying to be set on a copy of a slice from a DataFrame.\n",
      "Try using .loc[row_indexer,col_indexer] = value instead\n",
      "\n",
      "See the caveats in the documentation: https://pandas.pydata.org/pandas-docs/stable/user_guide/indexing.html#returning-a-view-versus-a-copy\n",
      "  df1[(df1.province == 0) & (df1.region == 'Cantabria')] = 'Cantabria'\n",
      "<ipython-input-809-25a1c09471a3>:7: SettingWithCopyWarning: \n",
      "A value is trying to be set on a copy of a slice from a DataFrame.\n",
      "Try using .loc[row_indexer,col_indexer] = value instead\n",
      "\n",
      "See the caveats in the documentation: https://pandas.pydata.org/pandas-docs/stable/user_guide/indexing.html#returning-a-view-versus-a-copy\n",
      "  df1[(df1.province == 0) & (df1.region == 'Castile and Leon')] = 'Castile and Leon'\n",
      "<ipython-input-809-25a1c09471a3>:8: SettingWithCopyWarning: \n",
      "A value is trying to be set on a copy of a slice from a DataFrame.\n",
      "Try using .loc[row_indexer,col_indexer] = value instead\n",
      "\n",
      "See the caveats in the documentation: https://pandas.pydata.org/pandas-docs/stable/user_guide/indexing.html#returning-a-view-versus-a-copy\n",
      "  df1[(df1.province == 0) & (df1.region == 'Catalonia')] = 'Catalonia'\n",
      "<ipython-input-809-25a1c09471a3>:9: SettingWithCopyWarning: \n",
      "A value is trying to be set on a copy of a slice from a DataFrame.\n",
      "Try using .loc[row_indexer,col_indexer] = value instead\n",
      "\n",
      "See the caveats in the documentation: https://pandas.pydata.org/pandas-docs/stable/user_guide/indexing.html#returning-a-view-versus-a-copy\n",
      "  df1[(df1.province == 0) & (df1.region == 'Ceuta')] = 'Ceuta'\n",
      "<ipython-input-809-25a1c09471a3>:10: SettingWithCopyWarning: \n",
      "A value is trying to be set on a copy of a slice from a DataFrame.\n",
      "Try using .loc[row_indexer,col_indexer] = value instead\n",
      "\n",
      "See the caveats in the documentation: https://pandas.pydata.org/pandas-docs/stable/user_guide/indexing.html#returning-a-view-versus-a-copy\n",
      "  df1[(df1.province == 0) & (df1.region == 'Community of Madrid')] = 'Community of Madrid'\n",
      "<ipython-input-809-25a1c09471a3>:11: SettingWithCopyWarning: \n",
      "A value is trying to be set on a copy of a slice from a DataFrame.\n",
      "Try using .loc[row_indexer,col_indexer] = value instead\n",
      "\n",
      "See the caveats in the documentation: https://pandas.pydata.org/pandas-docs/stable/user_guide/indexing.html#returning-a-view-versus-a-copy\n",
      "  df1[(df1.province == 0) & (df1.region == 'Galicia')] = 'Galicia'\n",
      "<ipython-input-809-25a1c09471a3>:12: SettingWithCopyWarning: \n",
      "A value is trying to be set on a copy of a slice from a DataFrame.\n",
      "Try using .loc[row_indexer,col_indexer] = value instead\n",
      "\n",
      "See the caveats in the documentation: https://pandas.pydata.org/pandas-docs/stable/user_guide/indexing.html#returning-a-view-versus-a-copy\n",
      "  df1[(df1.province == 0) & (df1.region == 'La Rioja')] = 'La Rioja'\n",
      "<ipython-input-809-25a1c09471a3>:13: SettingWithCopyWarning: \n",
      "A value is trying to be set on a copy of a slice from a DataFrame.\n",
      "Try using .loc[row_indexer,col_indexer] = value instead\n",
      "\n",
      "See the caveats in the documentation: https://pandas.pydata.org/pandas-docs/stable/user_guide/indexing.html#returning-a-view-versus-a-copy\n",
      "  df1[(df1.province == 0) & (df1.region == 'Melilla')] = 'Melilla'\n",
      "<ipython-input-809-25a1c09471a3>:14: SettingWithCopyWarning: \n",
      "A value is trying to be set on a copy of a slice from a DataFrame.\n",
      "Try using .loc[row_indexer,col_indexer] = value instead\n",
      "\n",
      "See the caveats in the documentation: https://pandas.pydata.org/pandas-docs/stable/user_guide/indexing.html#returning-a-view-versus-a-copy\n",
      "  df1[(df1.province == 0) & (df1.region == 'Navarra')] = 'Navarra'\n",
      "<ipython-input-809-25a1c09471a3>:15: SettingWithCopyWarning: \n",
      "A value is trying to be set on a copy of a slice from a DataFrame.\n",
      "Try using .loc[row_indexer,col_indexer] = value instead\n",
      "\n",
      "See the caveats in the documentation: https://pandas.pydata.org/pandas-docs/stable/user_guide/indexing.html#returning-a-view-versus-a-copy\n",
      "  df1[(df1.province == 0) & (df1.region == 'Region of Murcia')] = 'Region of Murcia'\n"
     ]
    }
   ],
   "source": [
    "df1[(df1.province == 0) & (df1.region == 'Andalucia')] = 'Andalucia'\n",
    "df1[(df1.province == 0) & (df1.region == 'Asturias')] = 'Asturias'\n",
    "df1[(df1.province == 0) & (df1.region == 'Balearic Islands')] = 'Balearic Islands'\n",
    "df1[(df1.province == 0) & (df1.region == 'Basque Country')] = 'Basque Country'\n",
    "df1[(df1.province == 0) & (df1.region == 'Canary Islands')] = 'Canary Islands'\n",
    "df1[(df1.province == 0) & (df1.region == 'Cantabria')] = 'Cantabria'\n",
    "df1[(df1.province == 0) & (df1.region == 'Castile and Leon')] = 'Castile and Leon'\n",
    "df1[(df1.province == 0) & (df1.region == 'Catalonia')] = 'Catalonia'\n",
    "df1[(df1.province == 0) & (df1.region == 'Ceuta')] = 'Ceuta'\n",
    "df1[(df1.province == 0) & (df1.region == 'Community of Madrid')] = 'Community of Madrid'\n",
    "df1[(df1.province == 0) & (df1.region == 'Galicia')] = 'Galicia'\n",
    "df1[(df1.province == 0) & (df1.region == 'La Rioja')] = 'La Rioja'\n",
    "df1[(df1.province == 0) & (df1.region == 'Melilla')] = 'Melilla'\n",
    "df1[(df1.province == 0) & (df1.region == 'Navarra')] = 'Navarra'\n",
    "df1[(df1.province == 0) & (df1.region == 'Region of Murcia')] = 'Region of Murcia'"
   ]
  },
  {
   "cell_type": "code",
   "execution_count": 810,
   "metadata": {},
   "outputs": [
    {
     "data": {
      "text/html": [
       "<div>\n",
       "<style scoped>\n",
       "    .dataframe tbody tr th:only-of-type {\n",
       "        vertical-align: middle;\n",
       "    }\n",
       "\n",
       "    .dataframe tbody tr th {\n",
       "        vertical-align: top;\n",
       "    }\n",
       "\n",
       "    .dataframe thead th {\n",
       "        text-align: right;\n",
       "    }\n",
       "</style>\n",
       "<table border=\"1\" class=\"dataframe\">\n",
       "  <thead>\n",
       "    <tr style=\"text-align: right;\">\n",
       "      <th></th>\n",
       "      <th>restaurant_link</th>\n",
       "      <th>restaurant_name</th>\n",
       "      <th>original_location</th>\n",
       "      <th>country</th>\n",
       "      <th>region</th>\n",
       "      <th>province</th>\n",
       "      <th>city</th>\n",
       "      <th>address</th>\n",
       "      <th>latitude</th>\n",
       "      <th>longitude</th>\n",
       "      <th>...</th>\n",
       "      <th>excellent</th>\n",
       "      <th>very_good</th>\n",
       "      <th>average</th>\n",
       "      <th>poor</th>\n",
       "      <th>terrible</th>\n",
       "      <th>food</th>\n",
       "      <th>service</th>\n",
       "      <th>value</th>\n",
       "      <th>atmosphere</th>\n",
       "      <th>keywords</th>\n",
       "    </tr>\n",
       "  </thead>\n",
       "  <tbody>\n",
       "  </tbody>\n",
       "</table>\n",
       "<p>0 rows × 38 columns</p>\n",
       "</div>"
      ],
      "text/plain": [
       "Empty DataFrame\n",
       "Columns: [restaurant_link, restaurant_name, original_location, country, region, province, city, address, latitude, longitude, claimed, awards, top_tags, price_range, meals, cuisines, special_diets, features, vegetarian_friendly, vegan_options, gluten_free, original_open_hours, open_days_per_week, open_hours_per_week, working_shifts_per_week, avg_rating, total_reviews_count, default_language, excellent, very_good, average, poor, terrible, food, service, value, atmosphere, keywords]\n",
       "Index: []\n",
       "\n",
       "[0 rows x 38 columns]"
      ]
     },
     "execution_count": 810,
     "metadata": {},
     "output_type": "execute_result"
    }
   ],
   "source": [
    "df1[(df1.province == 0) & (df1.region == 'Region of Murcia')].head()"
   ]
  },
  {
   "cell_type": "code",
   "execution_count": 812,
   "metadata": {},
   "outputs": [
    {
     "data": {
      "text/html": [
       "<div>\n",
       "<style scoped>\n",
       "    .dataframe tbody tr th:only-of-type {\n",
       "        vertical-align: middle;\n",
       "    }\n",
       "\n",
       "    .dataframe tbody tr th {\n",
       "        vertical-align: top;\n",
       "    }\n",
       "\n",
       "    .dataframe thead th {\n",
       "        text-align: right;\n",
       "    }\n",
       "</style>\n",
       "<table border=\"1\" class=\"dataframe\">\n",
       "  <thead>\n",
       "    <tr style=\"text-align: right;\">\n",
       "      <th></th>\n",
       "      <th>restaurant_link</th>\n",
       "      <th>restaurant_name</th>\n",
       "      <th>original_location</th>\n",
       "      <th>country</th>\n",
       "      <th>region</th>\n",
       "      <th>province</th>\n",
       "      <th>city</th>\n",
       "      <th>address</th>\n",
       "      <th>latitude</th>\n",
       "      <th>longitude</th>\n",
       "      <th>...</th>\n",
       "      <th>excellent</th>\n",
       "      <th>very_good</th>\n",
       "      <th>average</th>\n",
       "      <th>poor</th>\n",
       "      <th>terrible</th>\n",
       "      <th>food</th>\n",
       "      <th>service</th>\n",
       "      <th>value</th>\n",
       "      <th>atmosphere</th>\n",
       "      <th>keywords</th>\n",
       "    </tr>\n",
       "  </thead>\n",
       "  <tbody>\n",
       "    <tr>\n",
       "      <th>320900</th>\n",
       "      <td>g10021880-d13763192</td>\n",
       "      <td>Taberna La Sacristia</td>\n",
       "      <td>[\"Europe\", \"Spain\", \"Andalucia\", \"Province of ...</td>\n",
       "      <td>Spain</td>\n",
       "      <td>Andalucia</td>\n",
       "      <td>Province of Seville</td>\n",
       "      <td>NaN</td>\n",
       "      <td>Calle del Concejo 19, 41870 Aznalcollar Spain</td>\n",
       "      <td>37.51928</td>\n",
       "      <td>-6.26885</td>\n",
       "      <td>...</td>\n",
       "      <td>0.0</td>\n",
       "      <td>0.0</td>\n",
       "      <td>1.0</td>\n",
       "      <td>0.0</td>\n",
       "      <td>0.0</td>\n",
       "      <td>NaN</td>\n",
       "      <td>NaN</td>\n",
       "      <td>NaN</td>\n",
       "      <td>NaN</td>\n",
       "      <td>NaN</td>\n",
       "    </tr>\n",
       "    <tr>\n",
       "      <th>320901</th>\n",
       "      <td>g10021880-d15758746</td>\n",
       "      <td>Tasca el Capricho</td>\n",
       "      <td>[\"Europe\", \"Spain\", \"Andalucia\", \"Province of ...</td>\n",
       "      <td>Spain</td>\n",
       "      <td>Andalucia</td>\n",
       "      <td>Province of Seville</td>\n",
       "      <td>NaN</td>\n",
       "      <td>Calle del 28 de Febrero 9, 41870 Aznalcollar S...</td>\n",
       "      <td>37.52065</td>\n",
       "      <td>-6.26822</td>\n",
       "      <td>...</td>\n",
       "      <td>2.0</td>\n",
       "      <td>0.0</td>\n",
       "      <td>0.0</td>\n",
       "      <td>0.0</td>\n",
       "      <td>0.0</td>\n",
       "      <td>NaN</td>\n",
       "      <td>NaN</td>\n",
       "      <td>NaN</td>\n",
       "      <td>NaN</td>\n",
       "      <td>NaN</td>\n",
       "    </tr>\n",
       "  </tbody>\n",
       "</table>\n",
       "<p>2 rows × 38 columns</p>\n",
       "</div>"
      ],
      "text/plain": [
       "            restaurant_link       restaurant_name  \\\n",
       "320900  g10021880-d13763192  Taberna La Sacristia   \n",
       "320901  g10021880-d15758746     Tasca el Capricho   \n",
       "\n",
       "                                        original_location country     region  \\\n",
       "320900  [\"Europe\", \"Spain\", \"Andalucia\", \"Province of ...   Spain  Andalucia   \n",
       "320901  [\"Europe\", \"Spain\", \"Andalucia\", \"Province of ...   Spain  Andalucia   \n",
       "\n",
       "                   province city  \\\n",
       "320900  Province of Seville  NaN   \n",
       "320901  Province of Seville  NaN   \n",
       "\n",
       "                                                  address  latitude longitude  \\\n",
       "320900      Calle del Concejo 19, 41870 Aznalcollar Spain  37.51928  -6.26885   \n",
       "320901  Calle del 28 de Febrero 9, 41870 Aznalcollar S...  37.52065  -6.26822   \n",
       "\n",
       "        ... excellent very_good average poor terrible food service value  \\\n",
       "320900  ...       0.0       0.0     1.0  0.0      0.0  NaN     NaN   NaN   \n",
       "320901  ...       2.0       0.0     0.0  0.0      0.0  NaN     NaN   NaN   \n",
       "\n",
       "       atmosphere keywords  \n",
       "320900        NaN      NaN  \n",
       "320901        NaN      NaN  \n",
       "\n",
       "[2 rows x 38 columns]"
      ]
     },
     "execution_count": 812,
     "metadata": {},
     "output_type": "execute_result"
    }
   ],
   "source": [
    "df1.head(2)"
   ]
  },
  {
   "cell_type": "markdown",
   "metadata": {},
   "source": [
    "**CITY 🧪**"
   ]
  },
  {
   "cell_type": "code",
   "execution_count": 816,
   "metadata": {},
   "outputs": [
    {
     "data": {
      "text/plain": [
       "NaN                    102364\n",
       "Community of Madrid     18129\n",
       "Region of Murcia         2605\n",
       "Asturias                 2493\n",
       "Palma de Mallorca        2345\n",
       "Name: city, dtype: int64"
      ]
     },
     "execution_count": 816,
     "metadata": {},
     "output_type": "execute_result"
    }
   ],
   "source": [
    "df1.city.value_counts(dropna=False).head() # más del 65% Nan"
   ]
  },
  {
   "cell_type": "code",
   "execution_count": 817,
   "metadata": {},
   "outputs": [
    {
     "name": "stderr",
     "output_type": "stream",
     "text": [
      "C:\\Users\\christian\\AppData\\Roaming\\Python\\Python38\\site-packages\\pandas\\core\\generic.py:5494: SettingWithCopyWarning: \n",
      "A value is trying to be set on a copy of a slice from a DataFrame.\n",
      "Try using .loc[row_indexer,col_indexer] = value instead\n",
      "\n",
      "See the caveats in the documentation: https://pandas.pydata.org/pandas-docs/stable/user_guide/indexing.html#returning-a-view-versus-a-copy\n",
      "  self[name] = value\n"
     ]
    }
   ],
   "source": [
    "df1.city = df1.city.fillna(0)"
   ]
  },
  {
   "cell_type": "code",
   "execution_count": 818,
   "metadata": {},
   "outputs": [
    {
     "data": {
      "text/plain": [
       "102364"
      ]
     },
     "execution_count": 818,
     "metadata": {},
     "output_type": "execute_result"
    }
   ],
   "source": [
    "len(df1[(df1.city == 0) & (df1.province != 0)])"
   ]
  },
  {
   "cell_type": "code",
   "execution_count": 819,
   "metadata": {},
   "outputs": [
    {
     "data": {
      "text/plain": [
       "102364"
      ]
     },
     "execution_count": 819,
     "metadata": {},
     "output_type": "execute_result"
    }
   ],
   "source": [
    "len(a.province)"
   ]
  },
  {
   "cell_type": "code",
   "execution_count": 820,
   "metadata": {},
   "outputs": [
    {
     "data": {
      "text/plain": [
       "{'Province of A Coruna',\n",
       " 'Province of Alava',\n",
       " 'Province of Albacete',\n",
       " 'Province of Alicante',\n",
       " 'Province of Almeria',\n",
       " 'Province of Avila',\n",
       " 'Province of Badajoz',\n",
       " 'Province of Barcelona',\n",
       " 'Province of Burgos',\n",
       " 'Province of Caceres',\n",
       " 'Province of Cadiz',\n",
       " 'Province of Castellon',\n",
       " 'Province of Ciudad Real',\n",
       " 'Province of Cordoba',\n",
       " 'Province of Cuenca',\n",
       " 'Province of Girona',\n",
       " 'Province of Granada',\n",
       " 'Province of Guadalajara',\n",
       " 'Province of Guipuzcoa',\n",
       " 'Province of Huelva',\n",
       " 'Province of Huesca',\n",
       " 'Province of Jaen',\n",
       " 'Province of Leon',\n",
       " 'Province of Lleida',\n",
       " 'Province of Lugo',\n",
       " 'Province of Malaga',\n",
       " 'Province of Ourense',\n",
       " 'Province of Palencia',\n",
       " 'Province of Pontevedra',\n",
       " 'Province of Salamanca',\n",
       " 'Province of Segovia',\n",
       " 'Province of Seville',\n",
       " 'Province of Soria',\n",
       " 'Province of Tarragona',\n",
       " 'Province of Teruel',\n",
       " 'Province of Toledo',\n",
       " 'Province of Valencia',\n",
       " 'Province of Valladolid',\n",
       " 'Province of Vizcaya',\n",
       " 'Province of Zamora',\n",
       " 'Province of Zaragoza'}"
      ]
     },
     "execution_count": 820,
     "metadata": {},
     "output_type": "execute_result"
    }
   ],
   "source": [
    "a = df1[(df1.city == 0) & (df1.province != 0)]\n",
    "set(a.province)"
   ]
  },
  {
   "cell_type": "code",
   "execution_count": 821,
   "metadata": {},
   "outputs": [
    {
     "data": {
      "text/plain": [
       "41"
      ]
     },
     "execution_count": 821,
     "metadata": {},
     "output_type": "execute_result"
    }
   ],
   "source": [
    "len(set(a.province))"
   ]
  },
  {
   "cell_type": "code",
   "execution_count": 689,
   "metadata": {},
   "outputs": [
    {
     "name": "stderr",
     "output_type": "stream",
     "text": [
      "<ipython-input-689-5c0f896252c6>:1: SettingWithCopyWarning: \n",
      "A value is trying to be set on a copy of a slice from a DataFrame.\n",
      "Try using .loc[row_indexer,col_indexer] = value instead\n",
      "\n",
      "See the caveats in the documentation: https://pandas.pydata.org/pandas-docs/stable/user_guide/indexing.html#returning-a-view-versus-a-copy\n",
      "  df1[(df1.city == 0) & (df1.province == 'Province of A Coruna')] = 'A Coruna'\n",
      "C:\\Users\\christian\\AppData\\Roaming\\Python\\Python38\\site-packages\\pandas\\core\\indexing.py:1637: SettingWithCopyWarning: \n",
      "A value is trying to be set on a copy of a slice from a DataFrame\n",
      "\n",
      "See the caveats in the documentation: https://pandas.pydata.org/pandas-docs/stable/user_guide/indexing.html#returning-a-view-versus-a-copy\n",
      "  self._setitem_single_block(indexer, value, name)\n",
      "C:\\Users\\christian\\AppData\\Roaming\\Python\\Python38\\site-packages\\pandas\\core\\indexing.py:692: SettingWithCopyWarning: \n",
      "A value is trying to be set on a copy of a slice from a DataFrame\n",
      "\n",
      "See the caveats in the documentation: https://pandas.pydata.org/pandas-docs/stable/user_guide/indexing.html#returning-a-view-versus-a-copy\n",
      "  iloc._setitem_with_indexer(indexer, value, self.name)\n",
      "<ipython-input-689-5c0f896252c6>:2: SettingWithCopyWarning: \n",
      "A value is trying to be set on a copy of a slice from a DataFrame.\n",
      "Try using .loc[row_indexer,col_indexer] = value instead\n",
      "\n",
      "See the caveats in the documentation: https://pandas.pydata.org/pandas-docs/stable/user_guide/indexing.html#returning-a-view-versus-a-copy\n",
      "  df1[(df1.city == 0) & (df1.province == 'Province of Alava')] = 'Alava'\n",
      "<ipython-input-689-5c0f896252c6>:3: SettingWithCopyWarning: \n",
      "A value is trying to be set on a copy of a slice from a DataFrame.\n",
      "Try using .loc[row_indexer,col_indexer] = value instead\n",
      "\n",
      "See the caveats in the documentation: https://pandas.pydata.org/pandas-docs/stable/user_guide/indexing.html#returning-a-view-versus-a-copy\n",
      "  df1[(df1.city == 0) & (df1.province == 'Province of Albacete')] = 'Albacete'\n",
      "<ipython-input-689-5c0f896252c6>:4: SettingWithCopyWarning: \n",
      "A value is trying to be set on a copy of a slice from a DataFrame.\n",
      "Try using .loc[row_indexer,col_indexer] = value instead\n",
      "\n",
      "See the caveats in the documentation: https://pandas.pydata.org/pandas-docs/stable/user_guide/indexing.html#returning-a-view-versus-a-copy\n",
      "  df1[(df1.city == 0) & (df1.province == 'Province of Alicante')] = 'Alicante'\n",
      "<ipython-input-689-5c0f896252c6>:5: SettingWithCopyWarning: \n",
      "A value is trying to be set on a copy of a slice from a DataFrame.\n",
      "Try using .loc[row_indexer,col_indexer] = value instead\n",
      "\n",
      "See the caveats in the documentation: https://pandas.pydata.org/pandas-docs/stable/user_guide/indexing.html#returning-a-view-versus-a-copy\n",
      "  df1[(df1.city == 0) & (df1.province == 'Province of Almeria')] = 'Almeria'\n",
      "<ipython-input-689-5c0f896252c6>:6: SettingWithCopyWarning: \n",
      "A value is trying to be set on a copy of a slice from a DataFrame.\n",
      "Try using .loc[row_indexer,col_indexer] = value instead\n",
      "\n",
      "See the caveats in the documentation: https://pandas.pydata.org/pandas-docs/stable/user_guide/indexing.html#returning-a-view-versus-a-copy\n",
      "  df1[(df1.city == 0) & (df1.province == 'Province of Avila')] = 'Avila'\n",
      "<ipython-input-689-5c0f896252c6>:7: SettingWithCopyWarning: \n",
      "A value is trying to be set on a copy of a slice from a DataFrame.\n",
      "Try using .loc[row_indexer,col_indexer] = value instead\n",
      "\n",
      "See the caveats in the documentation: https://pandas.pydata.org/pandas-docs/stable/user_guide/indexing.html#returning-a-view-versus-a-copy\n",
      "  df1[(df1.city == 0) & (df1.province == 'Province of Badajoz')] = 'Badajoz'\n",
      "<ipython-input-689-5c0f896252c6>:8: SettingWithCopyWarning: \n",
      "A value is trying to be set on a copy of a slice from a DataFrame.\n",
      "Try using .loc[row_indexer,col_indexer] = value instead\n",
      "\n",
      "See the caveats in the documentation: https://pandas.pydata.org/pandas-docs/stable/user_guide/indexing.html#returning-a-view-versus-a-copy\n",
      "  df1[(df1.city == 0) & (df1.province == 'Province of Barcelona')] = 'Barcelona'\n",
      "<ipython-input-689-5c0f896252c6>:9: SettingWithCopyWarning: \n",
      "A value is trying to be set on a copy of a slice from a DataFrame.\n",
      "Try using .loc[row_indexer,col_indexer] = value instead\n",
      "\n",
      "See the caveats in the documentation: https://pandas.pydata.org/pandas-docs/stable/user_guide/indexing.html#returning-a-view-versus-a-copy\n",
      "  df1[(df1.city == 0) & (df1.province == 'Province of Burgos')] = 'Burgos'\n",
      "<ipython-input-689-5c0f896252c6>:10: SettingWithCopyWarning: \n",
      "A value is trying to be set on a copy of a slice from a DataFrame.\n",
      "Try using .loc[row_indexer,col_indexer] = value instead\n",
      "\n",
      "See the caveats in the documentation: https://pandas.pydata.org/pandas-docs/stable/user_guide/indexing.html#returning-a-view-versus-a-copy\n",
      "  df1[(df1.city == 0) & (df1.province == 'Province of Caceres')] = 'Caceres'\n",
      "<ipython-input-689-5c0f896252c6>:11: SettingWithCopyWarning: \n",
      "A value is trying to be set on a copy of a slice from a DataFrame.\n",
      "Try using .loc[row_indexer,col_indexer] = value instead\n",
      "\n",
      "See the caveats in the documentation: https://pandas.pydata.org/pandas-docs/stable/user_guide/indexing.html#returning-a-view-versus-a-copy\n",
      "  df1[(df1.city == 0) & (df1.province == 'Province of Cadiz')] = 'Cadiz'\n",
      "<ipython-input-689-5c0f896252c6>:12: SettingWithCopyWarning: \n",
      "A value is trying to be set on a copy of a slice from a DataFrame.\n",
      "Try using .loc[row_indexer,col_indexer] = value instead\n",
      "\n",
      "See the caveats in the documentation: https://pandas.pydata.org/pandas-docs/stable/user_guide/indexing.html#returning-a-view-versus-a-copy\n",
      "  df1[(df1.city == 0) & (df1.province == 'Province of Castellon')] = 'Castellon'\n",
      "<ipython-input-689-5c0f896252c6>:13: SettingWithCopyWarning: \n",
      "A value is trying to be set on a copy of a slice from a DataFrame.\n",
      "Try using .loc[row_indexer,col_indexer] = value instead\n",
      "\n",
      "See the caveats in the documentation: https://pandas.pydata.org/pandas-docs/stable/user_guide/indexing.html#returning-a-view-versus-a-copy\n",
      "  df1[(df1.city == 0) & (df1.province == 'Province of Ciudad Real')] = 'Ciudad Real'\n",
      "<ipython-input-689-5c0f896252c6>:14: SettingWithCopyWarning: \n",
      "A value is trying to be set on a copy of a slice from a DataFrame.\n",
      "Try using .loc[row_indexer,col_indexer] = value instead\n",
      "\n",
      "See the caveats in the documentation: https://pandas.pydata.org/pandas-docs/stable/user_guide/indexing.html#returning-a-view-versus-a-copy\n",
      "  df1[(df1.city == 0) & (df1.province == 'Province of Cordoba')] = 'Cordoba'\n",
      "<ipython-input-689-5c0f896252c6>:15: SettingWithCopyWarning: \n",
      "A value is trying to be set on a copy of a slice from a DataFrame.\n",
      "Try using .loc[row_indexer,col_indexer] = value instead\n",
      "\n",
      "See the caveats in the documentation: https://pandas.pydata.org/pandas-docs/stable/user_guide/indexing.html#returning-a-view-versus-a-copy\n",
      "  df1[(df1.city == 0) & (df1.province == 'Province of Cuenca')] = 'Cuenca'\n",
      "<ipython-input-689-5c0f896252c6>:16: SettingWithCopyWarning: \n",
      "A value is trying to be set on a copy of a slice from a DataFrame.\n",
      "Try using .loc[row_indexer,col_indexer] = value instead\n",
      "\n",
      "See the caveats in the documentation: https://pandas.pydata.org/pandas-docs/stable/user_guide/indexing.html#returning-a-view-versus-a-copy\n",
      "  df1[(df1.city == 0) & (df1.province == 'Province of Girona')] = 'Girona'\n",
      "<ipython-input-689-5c0f896252c6>:17: SettingWithCopyWarning: \n",
      "A value is trying to be set on a copy of a slice from a DataFrame.\n",
      "Try using .loc[row_indexer,col_indexer] = value instead\n",
      "\n",
      "See the caveats in the documentation: https://pandas.pydata.org/pandas-docs/stable/user_guide/indexing.html#returning-a-view-versus-a-copy\n",
      "  df1[(df1.city == 0) & (df1.province == 'Province of Granada')] = 'Granada'\n",
      "<ipython-input-689-5c0f896252c6>:18: SettingWithCopyWarning: \n",
      "A value is trying to be set on a copy of a slice from a DataFrame.\n",
      "Try using .loc[row_indexer,col_indexer] = value instead\n",
      "\n",
      "See the caveats in the documentation: https://pandas.pydata.org/pandas-docs/stable/user_guide/indexing.html#returning-a-view-versus-a-copy\n",
      "  df1[(df1.city == 0) & (df1.province == 'Province of Guadalajara')] = 'Guadalajara'\n",
      "<ipython-input-689-5c0f896252c6>:19: SettingWithCopyWarning: \n",
      "A value is trying to be set on a copy of a slice from a DataFrame.\n",
      "Try using .loc[row_indexer,col_indexer] = value instead\n",
      "\n",
      "See the caveats in the documentation: https://pandas.pydata.org/pandas-docs/stable/user_guide/indexing.html#returning-a-view-versus-a-copy\n",
      "  df1[(df1.city == 0) & (df1.province == 'Province of Guipuzcoa')] = 'Guipuzcoa'\n"
     ]
    },
    {
     "name": "stderr",
     "output_type": "stream",
     "text": [
      "<ipython-input-689-5c0f896252c6>:20: SettingWithCopyWarning: \n",
      "A value is trying to be set on a copy of a slice from a DataFrame.\n",
      "Try using .loc[row_indexer,col_indexer] = value instead\n",
      "\n",
      "See the caveats in the documentation: https://pandas.pydata.org/pandas-docs/stable/user_guide/indexing.html#returning-a-view-versus-a-copy\n",
      "  df1[(df1.city == 0) & (df1.province == 'Province of Huelva')] = 'Huelva'\n",
      "<ipython-input-689-5c0f896252c6>:21: SettingWithCopyWarning: \n",
      "A value is trying to be set on a copy of a slice from a DataFrame.\n",
      "Try using .loc[row_indexer,col_indexer] = value instead\n",
      "\n",
      "See the caveats in the documentation: https://pandas.pydata.org/pandas-docs/stable/user_guide/indexing.html#returning-a-view-versus-a-copy\n",
      "  df1[(df1.city == 0) & (df1.province == 'Province of Huesca')] = 'Huesca'\n",
      "<ipython-input-689-5c0f896252c6>:22: SettingWithCopyWarning: \n",
      "A value is trying to be set on a copy of a slice from a DataFrame.\n",
      "Try using .loc[row_indexer,col_indexer] = value instead\n",
      "\n",
      "See the caveats in the documentation: https://pandas.pydata.org/pandas-docs/stable/user_guide/indexing.html#returning-a-view-versus-a-copy\n",
      "  df1[(df1.city == 0) & (df1.province == 'Province of Jaen')] = 'Jaen'\n",
      "<ipython-input-689-5c0f896252c6>:23: SettingWithCopyWarning: \n",
      "A value is trying to be set on a copy of a slice from a DataFrame.\n",
      "Try using .loc[row_indexer,col_indexer] = value instead\n",
      "\n",
      "See the caveats in the documentation: https://pandas.pydata.org/pandas-docs/stable/user_guide/indexing.html#returning-a-view-versus-a-copy\n",
      "  df1[(df1.city == 0) & (df1.province == 'Province of Leon')] = 'Leon'\n",
      "<ipython-input-689-5c0f896252c6>:24: SettingWithCopyWarning: \n",
      "A value is trying to be set on a copy of a slice from a DataFrame.\n",
      "Try using .loc[row_indexer,col_indexer] = value instead\n",
      "\n",
      "See the caveats in the documentation: https://pandas.pydata.org/pandas-docs/stable/user_guide/indexing.html#returning-a-view-versus-a-copy\n",
      "  df1[(df1.city == 0) & (df1.province == 'Province of Lleida')] = 'Lleida'\n",
      "<ipython-input-689-5c0f896252c6>:25: SettingWithCopyWarning: \n",
      "A value is trying to be set on a copy of a slice from a DataFrame.\n",
      "Try using .loc[row_indexer,col_indexer] = value instead\n",
      "\n",
      "See the caveats in the documentation: https://pandas.pydata.org/pandas-docs/stable/user_guide/indexing.html#returning-a-view-versus-a-copy\n",
      "  df1[(df1.city == 0) & (df1.province == 'Province of Lugo')] = 'Lugo'\n",
      "<ipython-input-689-5c0f896252c6>:26: SettingWithCopyWarning: \n",
      "A value is trying to be set on a copy of a slice from a DataFrame.\n",
      "Try using .loc[row_indexer,col_indexer] = value instead\n",
      "\n",
      "See the caveats in the documentation: https://pandas.pydata.org/pandas-docs/stable/user_guide/indexing.html#returning-a-view-versus-a-copy\n",
      "  df1[(df1.city == 0) & (df1.province == 'Province of Malaga')] = 'Province of Malaga'\n",
      "<ipython-input-689-5c0f896252c6>:27: SettingWithCopyWarning: \n",
      "A value is trying to be set on a copy of a slice from a DataFrame.\n",
      "Try using .loc[row_indexer,col_indexer] = value instead\n",
      "\n",
      "See the caveats in the documentation: https://pandas.pydata.org/pandas-docs/stable/user_guide/indexing.html#returning-a-view-versus-a-copy\n",
      "  df1[(df1.city == 0) & (df1.province == 'Province of Ourense')] = 'Ourense'\n",
      "<ipython-input-689-5c0f896252c6>:28: SettingWithCopyWarning: \n",
      "A value is trying to be set on a copy of a slice from a DataFrame.\n",
      "Try using .loc[row_indexer,col_indexer] = value instead\n",
      "\n",
      "See the caveats in the documentation: https://pandas.pydata.org/pandas-docs/stable/user_guide/indexing.html#returning-a-view-versus-a-copy\n",
      "  df1[(df1.city == 0) & (df1.province == 'Province of Palencia')] = 'Palencia'\n",
      "<ipython-input-689-5c0f896252c6>:29: SettingWithCopyWarning: \n",
      "A value is trying to be set on a copy of a slice from a DataFrame.\n",
      "Try using .loc[row_indexer,col_indexer] = value instead\n",
      "\n",
      "See the caveats in the documentation: https://pandas.pydata.org/pandas-docs/stable/user_guide/indexing.html#returning-a-view-versus-a-copy\n",
      "  df1[(df1.city == 0) & (df1.province == 'Province of Pontevedra')] = 'Pontevedra'\n",
      "<ipython-input-689-5c0f896252c6>:30: SettingWithCopyWarning: \n",
      "A value is trying to be set on a copy of a slice from a DataFrame.\n",
      "Try using .loc[row_indexer,col_indexer] = value instead\n",
      "\n",
      "See the caveats in the documentation: https://pandas.pydata.org/pandas-docs/stable/user_guide/indexing.html#returning-a-view-versus-a-copy\n",
      "  df1[(df1.city == 0) & (df1.province == 'Province of Salamanca')] = 'Salamanca'\n",
      "<ipython-input-689-5c0f896252c6>:31: SettingWithCopyWarning: \n",
      "A value is trying to be set on a copy of a slice from a DataFrame.\n",
      "Try using .loc[row_indexer,col_indexer] = value instead\n",
      "\n",
      "See the caveats in the documentation: https://pandas.pydata.org/pandas-docs/stable/user_guide/indexing.html#returning-a-view-versus-a-copy\n",
      "  df1[(df1.city == 0) & (df1.province == 'Province of Segovia')] = 'Segovia'\n",
      "<ipython-input-689-5c0f896252c6>:32: SettingWithCopyWarning: \n",
      "A value is trying to be set on a copy of a slice from a DataFrame.\n",
      "Try using .loc[row_indexer,col_indexer] = value instead\n",
      "\n",
      "See the caveats in the documentation: https://pandas.pydata.org/pandas-docs/stable/user_guide/indexing.html#returning-a-view-versus-a-copy\n",
      "  df1[(df1.city == 0) & (df1.province == 'Province of Seville')] = 'Seville'\n",
      "<ipython-input-689-5c0f896252c6>:33: SettingWithCopyWarning: \n",
      "A value is trying to be set on a copy of a slice from a DataFrame.\n",
      "Try using .loc[row_indexer,col_indexer] = value instead\n",
      "\n",
      "See the caveats in the documentation: https://pandas.pydata.org/pandas-docs/stable/user_guide/indexing.html#returning-a-view-versus-a-copy\n",
      "  df1[(df1.city == 0) & (df1.province == 'Province of Soria')] = 'Soria'\n",
      "<ipython-input-689-5c0f896252c6>:34: SettingWithCopyWarning: \n",
      "A value is trying to be set on a copy of a slice from a DataFrame.\n",
      "Try using .loc[row_indexer,col_indexer] = value instead\n",
      "\n",
      "See the caveats in the documentation: https://pandas.pydata.org/pandas-docs/stable/user_guide/indexing.html#returning-a-view-versus-a-copy\n",
      "  df1[(df1.city == 0) & (df1.province == 'Province of Tarragona')] = 'Tarragona'\n",
      "<ipython-input-689-5c0f896252c6>:35: SettingWithCopyWarning: \n",
      "A value is trying to be set on a copy of a slice from a DataFrame.\n",
      "Try using .loc[row_indexer,col_indexer] = value instead\n",
      "\n",
      "See the caveats in the documentation: https://pandas.pydata.org/pandas-docs/stable/user_guide/indexing.html#returning-a-view-versus-a-copy\n",
      "  df1[(df1.city == 0) & (df1.province == 'Province of Teruel')] = 'Teruel'\n",
      "<ipython-input-689-5c0f896252c6>:36: SettingWithCopyWarning: \n",
      "A value is trying to be set on a copy of a slice from a DataFrame.\n",
      "Try using .loc[row_indexer,col_indexer] = value instead\n",
      "\n",
      "See the caveats in the documentation: https://pandas.pydata.org/pandas-docs/stable/user_guide/indexing.html#returning-a-view-versus-a-copy\n",
      "  df1[(df1.city == 0) & (df1.province == 'Province of Toledo')] = 'Toledo'\n",
      "<ipython-input-689-5c0f896252c6>:37: SettingWithCopyWarning: \n",
      "A value is trying to be set on a copy of a slice from a DataFrame.\n",
      "Try using .loc[row_indexer,col_indexer] = value instead\n",
      "\n",
      "See the caveats in the documentation: https://pandas.pydata.org/pandas-docs/stable/user_guide/indexing.html#returning-a-view-versus-a-copy\n",
      "  df1[(df1.city == 0) & (df1.province == 'Province of Valencia')] = 'Valencia'\n",
      "<ipython-input-689-5c0f896252c6>:38: SettingWithCopyWarning: \n",
      "A value is trying to be set on a copy of a slice from a DataFrame.\n",
      "Try using .loc[row_indexer,col_indexer] = value instead\n",
      "\n",
      "See the caveats in the documentation: https://pandas.pydata.org/pandas-docs/stable/user_guide/indexing.html#returning-a-view-versus-a-copy\n",
      "  df1[(df1.city == 0) & (df1.province == 'Province of Valladolid')] = 'Valladolid'\n",
      "<ipython-input-689-5c0f896252c6>:39: SettingWithCopyWarning: \n",
      "A value is trying to be set on a copy of a slice from a DataFrame.\n",
      "Try using .loc[row_indexer,col_indexer] = value instead\n",
      "\n",
      "See the caveats in the documentation: https://pandas.pydata.org/pandas-docs/stable/user_guide/indexing.html#returning-a-view-versus-a-copy\n",
      "  df1[(df1.city == 0) & (df1.province == 'Province of Vizcaya')] = 'Vizcaya'\n",
      "<ipython-input-689-5c0f896252c6>:40: SettingWithCopyWarning: \n",
      "A value is trying to be set on a copy of a slice from a DataFrame.\n",
      "Try using .loc[row_indexer,col_indexer] = value instead\n",
      "\n",
      "See the caveats in the documentation: https://pandas.pydata.org/pandas-docs/stable/user_guide/indexing.html#returning-a-view-versus-a-copy\n",
      "  df1[(df1.city == 0) & (df1.province == 'Province of Zamora')] = 'Zamora'\n",
      "<ipython-input-689-5c0f896252c6>:41: SettingWithCopyWarning: \n",
      "A value is trying to be set on a copy of a slice from a DataFrame.\n",
      "Try using .loc[row_indexer,col_indexer] = value instead\n",
      "\n",
      "See the caveats in the documentation: https://pandas.pydata.org/pandas-docs/stable/user_guide/indexing.html#returning-a-view-versus-a-copy\n",
      "  df1[(df1.city == 0) & (df1.province == 'Province of Zaragoza')] = 'Zaragoza'\n"
     ]
    }
   ],
   "source": [
    "df1[(df1.city == 0) & (df1.province == 'Province of A Coruna')] = 'A Coruna'\n",
    "df1[(df1.city == 0) & (df1.province == 'Province of Alava')] = 'Alava'\n",
    "df1[(df1.city == 0) & (df1.province == 'Province of Albacete')] = 'Albacete'\n",
    "df1[(df1.city == 0) & (df1.province == 'Province of Alicante')] = 'Alicante'\n",
    "df1[(df1.city == 0) & (df1.province == 'Province of Almeria')] = 'Almeria'\n",
    "df1[(df1.city == 0) & (df1.province == 'Province of Avila')] = 'Avila'\n",
    "df1[(df1.city == 0) & (df1.province == 'Province of Badajoz')] = 'Badajoz'\n",
    "df1[(df1.city == 0) & (df1.province == 'Province of Barcelona')] = 'Barcelona'\n",
    "df1[(df1.city == 0) & (df1.province == 'Province of Burgos')] = 'Burgos'\n",
    "df1[(df1.city == 0) & (df1.province == 'Province of Caceres')] = 'Caceres'\n",
    "df1[(df1.city == 0) & (df1.province == 'Province of Cadiz')] = 'Cadiz'\n",
    "df1[(df1.city == 0) & (df1.province == 'Province of Castellon')] = 'Castellon'\n",
    "df1[(df1.city == 0) & (df1.province == 'Province of Ciudad Real')] = 'Ciudad Real'\n",
    "df1[(df1.city == 0) & (df1.province == 'Province of Cordoba')] = 'Cordoba'\n",
    "df1[(df1.city == 0) & (df1.province == 'Province of Cuenca')] = 'Cuenca'\n",
    "df1[(df1.city == 0) & (df1.province == 'Province of Girona')] = 'Girona'\n",
    "df1[(df1.city == 0) & (df1.province == 'Province of Granada')] = 'Granada'\n",
    "df1[(df1.city == 0) & (df1.province == 'Province of Guadalajara')] = 'Guadalajara'\n",
    "df1[(df1.city == 0) & (df1.province == 'Province of Guipuzcoa')] = 'Guipuzcoa'\n",
    "df1[(df1.city == 0) & (df1.province == 'Province of Huelva')] = 'Huelva'\n",
    "df1[(df1.city == 0) & (df1.province == 'Province of Huesca')] = 'Huesca'\n",
    "df1[(df1.city == 0) & (df1.province == 'Province of Jaen')] = 'Jaen'\n",
    "df1[(df1.city == 0) & (df1.province == 'Province of Leon')] = 'Leon'\n",
    "df1[(df1.city == 0) & (df1.province == 'Province of Lleida')] = 'Lleida'\n",
    "df1[(df1.city == 0) & (df1.province == 'Province of Lugo')] = 'Lugo'\n",
    "df1[(df1.city == 0) & (df1.province == 'Province of Malaga')] = 'Province of Malaga'\n",
    "df1[(df1.city == 0) & (df1.province == 'Province of Ourense')] = 'Ourense'\n",
    "df1[(df1.city == 0) & (df1.province == 'Province of Palencia')] = 'Palencia'\n",
    "df1[(df1.city == 0) & (df1.province == 'Province of Pontevedra')] = 'Pontevedra'\n",
    "df1[(df1.city == 0) & (df1.province == 'Province of Salamanca')] = 'Salamanca'\n",
    "df1[(df1.city == 0) & (df1.province == 'Province of Segovia')] = 'Segovia'\n",
    "df1[(df1.city == 0) & (df1.province == 'Province of Seville')] = 'Seville'\n",
    "df1[(df1.city == 0) & (df1.province == 'Province of Soria')] = 'Soria'\n",
    "df1[(df1.city == 0) & (df1.province == 'Province of Tarragona')] = 'Tarragona'\n",
    "df1[(df1.city == 0) & (df1.province == 'Province of Teruel')] = 'Teruel'\n",
    "df1[(df1.city == 0) & (df1.province == 'Province of Toledo')] = 'Toledo'\n",
    "df1[(df1.city == 0) & (df1.province == 'Province of Valencia')] = 'Valencia'\n",
    "df1[(df1.city == 0) & (df1.province == 'Province of Valladolid')] = 'Valladolid'\n",
    "df1[(df1.city == 0) & (df1.province == 'Province of Vizcaya')] = 'Vizcaya'\n",
    "df1[(df1.city == 0) & (df1.province == 'Province of Zamora')] = 'Zamora'\n",
    "df1[(df1.city == 0) & (df1.province == 'Province of Zaragoza')] = 'Zaragoza'"
   ]
  },
  {
   "cell_type": "code",
   "execution_count": 690,
   "metadata": {},
   "outputs": [
    {
     "data": {
      "text/html": [
       "<div>\n",
       "<style scoped>\n",
       "    .dataframe tbody tr th:only-of-type {\n",
       "        vertical-align: middle;\n",
       "    }\n",
       "\n",
       "    .dataframe tbody tr th {\n",
       "        vertical-align: top;\n",
       "    }\n",
       "\n",
       "    .dataframe thead th {\n",
       "        text-align: right;\n",
       "    }\n",
       "</style>\n",
       "<table border=\"1\" class=\"dataframe\">\n",
       "  <thead>\n",
       "    <tr style=\"text-align: right;\">\n",
       "      <th></th>\n",
       "      <th>restaurant_link</th>\n",
       "      <th>restaurant_name</th>\n",
       "      <th>original_location</th>\n",
       "      <th>country</th>\n",
       "      <th>region</th>\n",
       "      <th>province</th>\n",
       "      <th>city</th>\n",
       "      <th>address</th>\n",
       "      <th>latitude</th>\n",
       "      <th>longitude</th>\n",
       "      <th>...</th>\n",
       "      <th>excellent</th>\n",
       "      <th>very_good</th>\n",
       "      <th>average</th>\n",
       "      <th>poor</th>\n",
       "      <th>terrible</th>\n",
       "      <th>food</th>\n",
       "      <th>service</th>\n",
       "      <th>value</th>\n",
       "      <th>atmosphere</th>\n",
       "      <th>keywords</th>\n",
       "    </tr>\n",
       "  </thead>\n",
       "  <tbody>\n",
       "  </tbody>\n",
       "</table>\n",
       "<p>0 rows × 38 columns</p>\n",
       "</div>"
      ],
      "text/plain": [
       "Empty DataFrame\n",
       "Columns: [restaurant_link, restaurant_name, original_location, country, region, province, city, address, latitude, longitude, claimed, awards, top_tags, price_range, meals, cuisines, special_diets, features, vegetarian_friendly, vegan_options, gluten_free, original_open_hours, open_days_per_week, open_hours_per_week, working_shifts_per_week, avg_rating, total_reviews_count, default_language, excellent, very_good, average, poor, terrible, food, service, value, atmosphere, keywords]\n",
       "Index: []\n",
       "\n",
       "[0 rows x 38 columns]"
      ]
     },
     "execution_count": 690,
     "metadata": {},
     "output_type": "execute_result"
    }
   ],
   "source": [
    "df1[(df1.city == 0) & (df1.province == 'Province of Granada')].head()"
   ]
  },
  {
   "cell_type": "code",
   "execution_count": null,
   "metadata": {},
   "outputs": [],
   "source": []
  },
  {
   "cell_type": "code",
   "execution_count": 823,
   "metadata": {},
   "outputs": [
    {
     "data": {
      "text/html": [
       "<div>\n",
       "<style scoped>\n",
       "    .dataframe tbody tr th:only-of-type {\n",
       "        vertical-align: middle;\n",
       "    }\n",
       "\n",
       "    .dataframe tbody tr th {\n",
       "        vertical-align: top;\n",
       "    }\n",
       "\n",
       "    .dataframe thead th {\n",
       "        text-align: right;\n",
       "    }\n",
       "</style>\n",
       "<table border=\"1\" class=\"dataframe\">\n",
       "  <thead>\n",
       "    <tr style=\"text-align: right;\">\n",
       "      <th></th>\n",
       "      <th>restaurant_link</th>\n",
       "      <th>restaurant_name</th>\n",
       "      <th>original_location</th>\n",
       "      <th>country</th>\n",
       "      <th>region</th>\n",
       "      <th>province</th>\n",
       "      <th>city</th>\n",
       "      <th>address</th>\n",
       "      <th>latitude</th>\n",
       "      <th>longitude</th>\n",
       "      <th>...</th>\n",
       "      <th>excellent</th>\n",
       "      <th>very_good</th>\n",
       "      <th>average</th>\n",
       "      <th>poor</th>\n",
       "      <th>terrible</th>\n",
       "      <th>food</th>\n",
       "      <th>service</th>\n",
       "      <th>value</th>\n",
       "      <th>atmosphere</th>\n",
       "      <th>keywords</th>\n",
       "    </tr>\n",
       "  </thead>\n",
       "  <tbody>\n",
       "    <tr>\n",
       "      <th>320900</th>\n",
       "      <td>g10021880-d13763192</td>\n",
       "      <td>Taberna La Sacristia</td>\n",
       "      <td>[\"Europe\", \"Spain\", \"Andalucia\", \"Province of ...</td>\n",
       "      <td>Spain</td>\n",
       "      <td>Andalucia</td>\n",
       "      <td>Province of Seville</td>\n",
       "      <td>0</td>\n",
       "      <td>Calle del Concejo 19, 41870 Aznalcollar Spain</td>\n",
       "      <td>37.51928</td>\n",
       "      <td>-6.26885</td>\n",
       "      <td>...</td>\n",
       "      <td>0.0</td>\n",
       "      <td>0.0</td>\n",
       "      <td>1.0</td>\n",
       "      <td>0.0</td>\n",
       "      <td>0.0</td>\n",
       "      <td>NaN</td>\n",
       "      <td>NaN</td>\n",
       "      <td>NaN</td>\n",
       "      <td>NaN</td>\n",
       "      <td>NaN</td>\n",
       "    </tr>\n",
       "    <tr>\n",
       "      <th>320901</th>\n",
       "      <td>g10021880-d15758746</td>\n",
       "      <td>Tasca el Capricho</td>\n",
       "      <td>[\"Europe\", \"Spain\", \"Andalucia\", \"Province of ...</td>\n",
       "      <td>Spain</td>\n",
       "      <td>Andalucia</td>\n",
       "      <td>Province of Seville</td>\n",
       "      <td>0</td>\n",
       "      <td>Calle del 28 de Febrero 9, 41870 Aznalcollar S...</td>\n",
       "      <td>37.52065</td>\n",
       "      <td>-6.26822</td>\n",
       "      <td>...</td>\n",
       "      <td>2.0</td>\n",
       "      <td>0.0</td>\n",
       "      <td>0.0</td>\n",
       "      <td>0.0</td>\n",
       "      <td>0.0</td>\n",
       "      <td>NaN</td>\n",
       "      <td>NaN</td>\n",
       "      <td>NaN</td>\n",
       "      <td>NaN</td>\n",
       "      <td>NaN</td>\n",
       "    </tr>\n",
       "  </tbody>\n",
       "</table>\n",
       "<p>2 rows × 38 columns</p>\n",
       "</div>"
      ],
      "text/plain": [
       "            restaurant_link       restaurant_name  \\\n",
       "320900  g10021880-d13763192  Taberna La Sacristia   \n",
       "320901  g10021880-d15758746     Tasca el Capricho   \n",
       "\n",
       "                                        original_location country     region  \\\n",
       "320900  [\"Europe\", \"Spain\", \"Andalucia\", \"Province of ...   Spain  Andalucia   \n",
       "320901  [\"Europe\", \"Spain\", \"Andalucia\", \"Province of ...   Spain  Andalucia   \n",
       "\n",
       "                   province city  \\\n",
       "320900  Province of Seville    0   \n",
       "320901  Province of Seville    0   \n",
       "\n",
       "                                                  address  latitude longitude  \\\n",
       "320900      Calle del Concejo 19, 41870 Aznalcollar Spain  37.51928  -6.26885   \n",
       "320901  Calle del 28 de Febrero 9, 41870 Aznalcollar S...  37.52065  -6.26822   \n",
       "\n",
       "        ... excellent very_good average poor terrible food service value  \\\n",
       "320900  ...       0.0       0.0     1.0  0.0      0.0  NaN     NaN   NaN   \n",
       "320901  ...       2.0       0.0     0.0  0.0      0.0  NaN     NaN   NaN   \n",
       "\n",
       "       atmosphere keywords  \n",
       "320900        NaN      NaN  \n",
       "320901        NaN      NaN  \n",
       "\n",
       "[2 rows x 38 columns]"
      ]
     },
     "execution_count": 823,
     "metadata": {},
     "output_type": "execute_result"
    }
   ],
   "source": [
    "df1.head(2)"
   ]
  },
  {
   "cell_type": "code",
   "execution_count": null,
   "metadata": {},
   "outputs": [],
   "source": []
  },
  {
   "cell_type": "code",
   "execution_count": null,
   "metadata": {},
   "outputs": [],
   "source": []
  },
  {
   "cell_type": "markdown",
   "metadata": {},
   "source": [
    "**LATITUDE AND LONGITUDE 🌎**"
   ]
  },
  {
   "cell_type": "code",
   "execution_count": 564,
   "metadata": {},
   "outputs": [
    {
     "data": {
      "text/plain": [
       "22860"
      ]
     },
     "execution_count": 564,
     "metadata": {},
     "output_type": "execute_result"
    }
   ],
   "source": [
    "c = df1.latitude.unique()\n",
    "len(list(c))"
   ]
  },
  {
   "cell_type": "code",
   "execution_count": 571,
   "metadata": {},
   "outputs": [
    {
     "name": "stderr",
     "output_type": "stream",
     "text": [
      "C:\\Users\\christian\\AppData\\Roaming\\Python\\Python38\\site-packages\\pandas\\core\\generic.py:5494: SettingWithCopyWarning: \n",
      "A value is trying to be set on a copy of a slice from a DataFrame.\n",
      "Try using .loc[row_indexer,col_indexer] = value instead\n",
      "\n",
      "See the caveats in the documentation: https://pandas.pydata.org/pandas-docs/stable/user_guide/indexing.html#returning-a-view-versus-a-copy\n",
      "  self[name] = value\n"
     ]
    }
   ],
   "source": [
    "df1.latitude = df1.latitude.fillna(0)\n",
    "df1.longitude = df1.longitude.fillna(0)"
   ]
  },
  {
   "cell_type": "code",
   "execution_count": 576,
   "metadata": {},
   "outputs": [
    {
     "data": {
      "text/plain": [
       "543"
      ]
     },
     "execution_count": 576,
     "metadata": {},
     "output_type": "execute_result"
    }
   ],
   "source": [
    "len(df1[(df1.longitude == 0)])"
   ]
  },
  {
   "cell_type": "code",
   "execution_count": 579,
   "metadata": {},
   "outputs": [],
   "source": [
    "d = list(df1.longitude.unique())\n",
    "e = list(df1.latitude.unique())"
   ]
  },
  {
   "cell_type": "code",
   "execution_count": null,
   "metadata": {},
   "outputs": [],
   "source": []
  },
  {
   "cell_type": "code",
   "execution_count": 607,
   "metadata": {},
   "outputs": [
    {
     "data": {
      "text/plain": [
       "[]"
      ]
     },
     "execution_count": 607,
     "metadata": {},
     "output_type": "execute_result"
    }
   ],
   "source": [
    "elat = []\n",
    "for l in e:\n",
    "    if l == str():\n",
    "        elat.append(l)\n",
    "elat"
   ]
  },
  {
   "cell_type": "code",
   "execution_count": 572,
   "metadata": {},
   "outputs": [
    {
     "data": {
      "text/plain": [
       "food                   0.072480\n",
       "value                  0.071522\n",
       "service                0.071229\n",
       "cuisines               0.000000\n",
       "default_language       0.000000\n",
       "total_reviews_count    0.000000\n",
       "avg_rating             0.000000\n",
       "original_open_hours    0.000000\n",
       "gluten_free            0.000000\n",
       "vegan_options          0.000000\n",
       "vegetarian_friendly    0.000000\n",
       "features               0.000000\n",
       "special_diets          0.000000\n",
       "restaurant_link        0.000000\n",
       "restaurant_name        0.000000\n",
       "price_range            0.000000\n",
       "top_tags               0.000000\n",
       "claimed                0.000000\n",
       "longitude              0.000000\n",
       "latitude               0.000000\n",
       "address                0.000000\n",
       "city                   0.000000\n",
       "province               0.000000\n",
       "region                 0.000000\n",
       "country                0.000000\n",
       "original_location      0.000000\n",
       "meals                  0.000000\n",
       "dtype: float64"
      ]
     },
     "execution_count": 572,
     "metadata": {},
     "output_type": "execute_result"
    }
   ],
   "source": [
    "pk.porcentageROW(df1)"
   ]
  },
  {
   "cell_type": "code",
   "execution_count": 554,
   "metadata": {},
   "outputs": [],
   "source": [
    "def drop_col(dataframe):\n",
    "    drop = ['working_shifts_per_week', 'open_hours_per_week', 'terrible', 'excellent', 'very_good', 'average', 'poor', 'open_days_per_week']\n",
    "           #'keywords', 'atmosphere', 'awards'\n",
    "    return df1.drop( axis=1, columns= drop, inplace=True)"
   ]
  },
  {
   "cell_type": "code",
   "execution_count": 555,
   "metadata": {},
   "outputs": [
    {
     "name": "stderr",
     "output_type": "stream",
     "text": [
      "C:\\Users\\christian\\AppData\\Roaming\\Python\\Python38\\site-packages\\pandas\\core\\frame.py:4308: SettingWithCopyWarning: \n",
      "A value is trying to be set on a copy of a slice from a DataFrame\n",
      "\n",
      "See the caveats in the documentation: https://pandas.pydata.org/pandas-docs/stable/user_guide/indexing.html#returning-a-view-versus-a-copy\n",
      "  return super().drop(\n"
     ]
    }
   ],
   "source": [
    "drop_col(df1)"
   ]
  },
  {
   "cell_type": "code",
   "execution_count": null,
   "metadata": {},
   "outputs": [],
   "source": []
  },
  {
   "cell_type": "code",
   "execution_count": 392,
   "metadata": {},
   "outputs": [
    {
     "data": {
      "text/plain": [
       "city                       0.653314\n",
       "open_days_per_week         0.519111\n",
       "open_hours_per_week        0.519111\n",
       "working_shifts_per_week    0.519111\n",
       "food                       0.486681\n",
       "value                      0.483899\n",
       "service                    0.482343\n",
       "province                   0.187761\n",
       "avg_rating                 0.094045\n",
       "poor                       0.092013\n",
       "average                    0.092013\n",
       "very_good                  0.092013\n",
       "excellent                  0.092013\n",
       "terrible                   0.092013\n",
       "latitude                   0.015005\n",
       "longitude                  0.015005\n",
       "original_open_hours        0.000000\n",
       "default_language           0.000000\n",
       "total_reviews_count        0.000000\n",
       "restaurant_link            0.000000\n",
       "gluten_free                0.000000\n",
       "vegan_options              0.000000\n",
       "restaurant_name            0.000000\n",
       "features                   0.000000\n",
       "special_diets              0.000000\n",
       "cuisines                   0.000000\n",
       "meals                      0.000000\n",
       "price_range                0.000000\n",
       "top_tags                   0.000000\n",
       "claimed                    0.000000\n",
       "address                    0.000000\n",
       "region                     0.000000\n",
       "country                    0.000000\n",
       "original_location          0.000000\n",
       "vegetarian_friendly        0.000000\n",
       "dtype: float64"
      ]
     },
     "execution_count": 392,
     "metadata": {},
     "output_type": "execute_result"
    }
   ],
   "source": [
    "pk.porcentageROW(df1)"
   ]
  },
  {
   "cell_type": "code",
   "execution_count": 609,
   "metadata": {},
   "outputs": [
    {
     "data": {
      "text/html": [
       "<div>\n",
       "<style scoped>\n",
       "    .dataframe tbody tr th:only-of-type {\n",
       "        vertical-align: middle;\n",
       "    }\n",
       "\n",
       "    .dataframe tbody tr th {\n",
       "        vertical-align: top;\n",
       "    }\n",
       "\n",
       "    .dataframe thead th {\n",
       "        text-align: right;\n",
       "    }\n",
       "</style>\n",
       "<table border=\"1\" class=\"dataframe\">\n",
       "  <thead>\n",
       "    <tr style=\"text-align: right;\">\n",
       "      <th></th>\n",
       "      <th>restaurant_link</th>\n",
       "      <th>restaurant_name</th>\n",
       "      <th>original_location</th>\n",
       "      <th>country</th>\n",
       "      <th>region</th>\n",
       "      <th>province</th>\n",
       "      <th>city</th>\n",
       "      <th>address</th>\n",
       "      <th>latitude</th>\n",
       "      <th>longitude</th>\n",
       "      <th>...</th>\n",
       "      <th>vegetarian_friendly</th>\n",
       "      <th>vegan_options</th>\n",
       "      <th>gluten_free</th>\n",
       "      <th>original_open_hours</th>\n",
       "      <th>avg_rating</th>\n",
       "      <th>total_reviews_count</th>\n",
       "      <th>default_language</th>\n",
       "      <th>food</th>\n",
       "      <th>service</th>\n",
       "      <th>value</th>\n",
       "    </tr>\n",
       "  </thead>\n",
       "  <tbody>\n",
       "    <tr>\n",
       "      <th>320900</th>\n",
       "      <td>Seville</td>\n",
       "      <td>Seville</td>\n",
       "      <td>Seville</td>\n",
       "      <td>Seville</td>\n",
       "      <td>Seville</td>\n",
       "      <td>Seville</td>\n",
       "      <td>Seville</td>\n",
       "      <td>Seville</td>\n",
       "      <td>Seville</td>\n",
       "      <td>Seville</td>\n",
       "      <td>...</td>\n",
       "      <td>Seville</td>\n",
       "      <td>Seville</td>\n",
       "      <td>Seville</td>\n",
       "      <td>Seville</td>\n",
       "      <td>Seville</td>\n",
       "      <td>Seville</td>\n",
       "      <td>Seville</td>\n",
       "      <td>Seville</td>\n",
       "      <td>Seville</td>\n",
       "      <td>Seville</td>\n",
       "    </tr>\n",
       "    <tr>\n",
       "      <th>320901</th>\n",
       "      <td>Seville</td>\n",
       "      <td>Seville</td>\n",
       "      <td>Seville</td>\n",
       "      <td>Seville</td>\n",
       "      <td>Seville</td>\n",
       "      <td>Seville</td>\n",
       "      <td>Seville</td>\n",
       "      <td>Seville</td>\n",
       "      <td>Seville</td>\n",
       "      <td>Seville</td>\n",
       "      <td>...</td>\n",
       "      <td>Seville</td>\n",
       "      <td>Seville</td>\n",
       "      <td>Seville</td>\n",
       "      <td>Seville</td>\n",
       "      <td>Seville</td>\n",
       "      <td>Seville</td>\n",
       "      <td>Seville</td>\n",
       "      <td>Seville</td>\n",
       "      <td>Seville</td>\n",
       "      <td>Seville</td>\n",
       "    </tr>\n",
       "    <tr>\n",
       "      <th>320902</th>\n",
       "      <td>Seville</td>\n",
       "      <td>Seville</td>\n",
       "      <td>Seville</td>\n",
       "      <td>Seville</td>\n",
       "      <td>Seville</td>\n",
       "      <td>Seville</td>\n",
       "      <td>Seville</td>\n",
       "      <td>Seville</td>\n",
       "      <td>Seville</td>\n",
       "      <td>Seville</td>\n",
       "      <td>...</td>\n",
       "      <td>Seville</td>\n",
       "      <td>Seville</td>\n",
       "      <td>Seville</td>\n",
       "      <td>Seville</td>\n",
       "      <td>Seville</td>\n",
       "      <td>Seville</td>\n",
       "      <td>Seville</td>\n",
       "      <td>Seville</td>\n",
       "      <td>Seville</td>\n",
       "      <td>Seville</td>\n",
       "    </tr>\n",
       "    <tr>\n",
       "      <th>320903</th>\n",
       "      <td>Seville</td>\n",
       "      <td>Seville</td>\n",
       "      <td>Seville</td>\n",
       "      <td>Seville</td>\n",
       "      <td>Seville</td>\n",
       "      <td>Seville</td>\n",
       "      <td>Seville</td>\n",
       "      <td>Seville</td>\n",
       "      <td>Seville</td>\n",
       "      <td>Seville</td>\n",
       "      <td>...</td>\n",
       "      <td>Seville</td>\n",
       "      <td>Seville</td>\n",
       "      <td>Seville</td>\n",
       "      <td>Seville</td>\n",
       "      <td>Seville</td>\n",
       "      <td>Seville</td>\n",
       "      <td>Seville</td>\n",
       "      <td>Seville</td>\n",
       "      <td>Seville</td>\n",
       "      <td>Seville</td>\n",
       "    </tr>\n",
       "    <tr>\n",
       "      <th>320904</th>\n",
       "      <td>Seville</td>\n",
       "      <td>Seville</td>\n",
       "      <td>Seville</td>\n",
       "      <td>Seville</td>\n",
       "      <td>Seville</td>\n",
       "      <td>Seville</td>\n",
       "      <td>Seville</td>\n",
       "      <td>Seville</td>\n",
       "      <td>Seville</td>\n",
       "      <td>Seville</td>\n",
       "      <td>...</td>\n",
       "      <td>Seville</td>\n",
       "      <td>Seville</td>\n",
       "      <td>Seville</td>\n",
       "      <td>Seville</td>\n",
       "      <td>Seville</td>\n",
       "      <td>Seville</td>\n",
       "      <td>Seville</td>\n",
       "      <td>Seville</td>\n",
       "      <td>Seville</td>\n",
       "      <td>Seville</td>\n",
       "    </tr>\n",
       "    <tr>\n",
       "      <th>...</th>\n",
       "      <td>...</td>\n",
       "      <td>...</td>\n",
       "      <td>...</td>\n",
       "      <td>...</td>\n",
       "      <td>...</td>\n",
       "      <td>...</td>\n",
       "      <td>...</td>\n",
       "      <td>...</td>\n",
       "      <td>...</td>\n",
       "      <td>...</td>\n",
       "      <td>...</td>\n",
       "      <td>...</td>\n",
       "      <td>...</td>\n",
       "      <td>...</td>\n",
       "      <td>...</td>\n",
       "      <td>...</td>\n",
       "      <td>...</td>\n",
       "      <td>...</td>\n",
       "      <td>...</td>\n",
       "      <td>...</td>\n",
       "      <td>...</td>\n",
       "    </tr>\n",
       "    <tr>\n",
       "      <th>475964</th>\n",
       "      <td>Seville</td>\n",
       "      <td>Seville</td>\n",
       "      <td>Seville</td>\n",
       "      <td>Seville</td>\n",
       "      <td>Seville</td>\n",
       "      <td>Seville</td>\n",
       "      <td>Seville</td>\n",
       "      <td>Seville</td>\n",
       "      <td>Seville</td>\n",
       "      <td>Seville</td>\n",
       "      <td>...</td>\n",
       "      <td>Seville</td>\n",
       "      <td>Seville</td>\n",
       "      <td>Seville</td>\n",
       "      <td>Seville</td>\n",
       "      <td>Seville</td>\n",
       "      <td>Seville</td>\n",
       "      <td>Seville</td>\n",
       "      <td>Seville</td>\n",
       "      <td>Seville</td>\n",
       "      <td>Seville</td>\n",
       "    </tr>\n",
       "    <tr>\n",
       "      <th>475965</th>\n",
       "      <td>Seville</td>\n",
       "      <td>Seville</td>\n",
       "      <td>Seville</td>\n",
       "      <td>Seville</td>\n",
       "      <td>Seville</td>\n",
       "      <td>Seville</td>\n",
       "      <td>Seville</td>\n",
       "      <td>Seville</td>\n",
       "      <td>Seville</td>\n",
       "      <td>Seville</td>\n",
       "      <td>...</td>\n",
       "      <td>Seville</td>\n",
       "      <td>Seville</td>\n",
       "      <td>Seville</td>\n",
       "      <td>Seville</td>\n",
       "      <td>Seville</td>\n",
       "      <td>Seville</td>\n",
       "      <td>Seville</td>\n",
       "      <td>Seville</td>\n",
       "      <td>Seville</td>\n",
       "      <td>Seville</td>\n",
       "    </tr>\n",
       "    <tr>\n",
       "      <th>475966</th>\n",
       "      <td>Seville</td>\n",
       "      <td>Seville</td>\n",
       "      <td>Seville</td>\n",
       "      <td>Seville</td>\n",
       "      <td>Seville</td>\n",
       "      <td>Seville</td>\n",
       "      <td>Seville</td>\n",
       "      <td>Seville</td>\n",
       "      <td>Seville</td>\n",
       "      <td>Seville</td>\n",
       "      <td>...</td>\n",
       "      <td>Seville</td>\n",
       "      <td>Seville</td>\n",
       "      <td>Seville</td>\n",
       "      <td>Seville</td>\n",
       "      <td>Seville</td>\n",
       "      <td>Seville</td>\n",
       "      <td>Seville</td>\n",
       "      <td>Seville</td>\n",
       "      <td>Seville</td>\n",
       "      <td>Seville</td>\n",
       "    </tr>\n",
       "    <tr>\n",
       "      <th>475967</th>\n",
       "      <td>Seville</td>\n",
       "      <td>Seville</td>\n",
       "      <td>Seville</td>\n",
       "      <td>Seville</td>\n",
       "      <td>Seville</td>\n",
       "      <td>Seville</td>\n",
       "      <td>Seville</td>\n",
       "      <td>Seville</td>\n",
       "      <td>Seville</td>\n",
       "      <td>Seville</td>\n",
       "      <td>...</td>\n",
       "      <td>Seville</td>\n",
       "      <td>Seville</td>\n",
       "      <td>Seville</td>\n",
       "      <td>Seville</td>\n",
       "      <td>Seville</td>\n",
       "      <td>Seville</td>\n",
       "      <td>Seville</td>\n",
       "      <td>Seville</td>\n",
       "      <td>Seville</td>\n",
       "      <td>Seville</td>\n",
       "    </tr>\n",
       "    <tr>\n",
       "      <th>475968</th>\n",
       "      <td>Seville</td>\n",
       "      <td>Seville</td>\n",
       "      <td>Seville</td>\n",
       "      <td>Seville</td>\n",
       "      <td>Seville</td>\n",
       "      <td>Seville</td>\n",
       "      <td>Seville</td>\n",
       "      <td>Seville</td>\n",
       "      <td>Seville</td>\n",
       "      <td>Seville</td>\n",
       "      <td>...</td>\n",
       "      <td>Seville</td>\n",
       "      <td>Seville</td>\n",
       "      <td>Seville</td>\n",
       "      <td>Seville</td>\n",
       "      <td>Seville</td>\n",
       "      <td>Seville</td>\n",
       "      <td>Seville</td>\n",
       "      <td>Seville</td>\n",
       "      <td>Seville</td>\n",
       "      <td>Seville</td>\n",
       "    </tr>\n",
       "  </tbody>\n",
       "</table>\n",
       "<p>4794 rows × 27 columns</p>\n",
       "</div>"
      ],
      "text/plain": [
       "       restaurant_link restaurant_name original_location  country   region  \\\n",
       "320900         Seville         Seville           Seville  Seville  Seville   \n",
       "320901         Seville         Seville           Seville  Seville  Seville   \n",
       "320902         Seville         Seville           Seville  Seville  Seville   \n",
       "320903         Seville         Seville           Seville  Seville  Seville   \n",
       "320904         Seville         Seville           Seville  Seville  Seville   \n",
       "...                ...             ...               ...      ...      ...   \n",
       "475964         Seville         Seville           Seville  Seville  Seville   \n",
       "475965         Seville         Seville           Seville  Seville  Seville   \n",
       "475966         Seville         Seville           Seville  Seville  Seville   \n",
       "475967         Seville         Seville           Seville  Seville  Seville   \n",
       "475968         Seville         Seville           Seville  Seville  Seville   \n",
       "\n",
       "       province     city  address latitude longitude  ... vegetarian_friendly  \\\n",
       "320900  Seville  Seville  Seville  Seville   Seville  ...             Seville   \n",
       "320901  Seville  Seville  Seville  Seville   Seville  ...             Seville   \n",
       "320902  Seville  Seville  Seville  Seville   Seville  ...             Seville   \n",
       "320903  Seville  Seville  Seville  Seville   Seville  ...             Seville   \n",
       "320904  Seville  Seville  Seville  Seville   Seville  ...             Seville   \n",
       "...         ...      ...      ...      ...       ...  ...                 ...   \n",
       "475964  Seville  Seville  Seville  Seville   Seville  ...             Seville   \n",
       "475965  Seville  Seville  Seville  Seville   Seville  ...             Seville   \n",
       "475966  Seville  Seville  Seville  Seville   Seville  ...             Seville   \n",
       "475967  Seville  Seville  Seville  Seville   Seville  ...             Seville   \n",
       "475968  Seville  Seville  Seville  Seville   Seville  ...             Seville   \n",
       "\n",
       "       vegan_options gluten_free original_open_hours avg_rating  \\\n",
       "320900       Seville     Seville             Seville    Seville   \n",
       "320901       Seville     Seville             Seville    Seville   \n",
       "320902       Seville     Seville             Seville    Seville   \n",
       "320903       Seville     Seville             Seville    Seville   \n",
       "320904       Seville     Seville             Seville    Seville   \n",
       "...              ...         ...                 ...        ...   \n",
       "475964       Seville     Seville             Seville    Seville   \n",
       "475965       Seville     Seville             Seville    Seville   \n",
       "475966       Seville     Seville             Seville    Seville   \n",
       "475967       Seville     Seville             Seville    Seville   \n",
       "475968       Seville     Seville             Seville    Seville   \n",
       "\n",
       "       total_reviews_count default_language     food  service    value  \n",
       "320900             Seville          Seville  Seville  Seville  Seville  \n",
       "320901             Seville          Seville  Seville  Seville  Seville  \n",
       "320902             Seville          Seville  Seville  Seville  Seville  \n",
       "320903             Seville          Seville  Seville  Seville  Seville  \n",
       "320904             Seville          Seville  Seville  Seville  Seville  \n",
       "...                    ...              ...      ...      ...      ...  \n",
       "475964             Seville          Seville  Seville  Seville  Seville  \n",
       "475965             Seville          Seville  Seville  Seville  Seville  \n",
       "475966             Seville          Seville  Seville  Seville  Seville  \n",
       "475967             Seville          Seville  Seville  Seville  Seville  \n",
       "475968             Seville          Seville  Seville  Seville  Seville  \n",
       "\n",
       "[4794 rows x 27 columns]"
      ]
     },
     "execution_count": 609,
     "metadata": {},
     "output_type": "execute_result"
    }
   ],
   "source": [
    "df1[(df1.restaurant_link == 'Seville')]"
   ]
  },
  {
   "cell_type": "code",
   "execution_count": null,
   "metadata": {},
   "outputs": [],
   "source": []
  },
  {
   "cell_type": "code",
   "execution_count": null,
   "metadata": {},
   "outputs": [],
   "source": []
  },
  {
   "cell_type": "code",
   "execution_count": null,
   "metadata": {},
   "outputs": [],
   "source": []
  },
  {
   "cell_type": "markdown",
   "metadata": {},
   "source": [
    "# Fails"
   ]
  },
  {
   "cell_type": "code",
   "execution_count": 202,
   "metadata": {},
   "outputs": [
    {
     "ename": "SyntaxError",
     "evalue": "invalid syntax (<ipython-input-202-07f47d13424e>, line 2)",
     "output_type": "error",
     "traceback": [
      "\u001b[1;36m  File \u001b[1;32m\"<ipython-input-202-07f47d13424e>\"\u001b[1;36m, line \u001b[1;32m2\u001b[0m\n\u001b[1;33m    def value_NaN_Col(dataframe.columns):\u001b[0m\n\u001b[1;37m                               ^\u001b[0m\n\u001b[1;31mSyntaxError\u001b[0m\u001b[1;31m:\u001b[0m invalid syntax\n"
     ]
    }
   ],
   "source": [
    "cols = list(df1.columns)\n",
    "def value_NaN_Col(colum):\n",
    "    for colum in cols:\n",
    "        return df1.colum.value_counts(dropna=False)"
   ]
  },
  {
   "cell_type": "code",
   "execution_count": 148,
   "metadata": {},
   "outputs": [
    {
     "ename": "NameError",
     "evalue": "name 'region' is not defined",
     "output_type": "error",
     "traceback": [
      "\u001b[1;31m---------------------------------------------------------------------------\u001b[0m",
      "\u001b[1;31mNameError\u001b[0m                                 Traceback (most recent call last)",
      "\u001b[1;32m<ipython-input-148-fde5da5a9560>\u001b[0m in \u001b[0;36m<module>\u001b[1;34m\u001b[0m\n\u001b[1;32m----> 1\u001b[1;33m \u001b[0mvalue_NaN_Col\u001b[0m\u001b[1;33m(\u001b[0m\u001b[0mregion\u001b[0m\u001b[1;33m)\u001b[0m\u001b[1;33m\u001b[0m\u001b[1;33m\u001b[0m\u001b[0m\n\u001b[0m",
      "\u001b[1;31mNameError\u001b[0m: name 'region' is not defined"
     ]
    }
   ],
   "source": [
    "value_NaN_Col(region)"
   ]
  },
  {
   "cell_type": "code",
   "execution_count": 209,
   "metadata": {},
   "outputs": [
    {
     "data": {
      "text/html": [
       "<div>\n",
       "<style scoped>\n",
       "    .dataframe tbody tr th:only-of-type {\n",
       "        vertical-align: middle;\n",
       "    }\n",
       "\n",
       "    .dataframe tbody tr th {\n",
       "        vertical-align: top;\n",
       "    }\n",
       "\n",
       "    .dataframe thead th {\n",
       "        text-align: right;\n",
       "    }\n",
       "</style>\n",
       "<table border=\"1\" class=\"dataframe\">\n",
       "  <thead>\n",
       "    <tr style=\"text-align: right;\">\n",
       "      <th></th>\n",
       "      <th>restaurant_link</th>\n",
       "      <th>restaurant_name</th>\n",
       "      <th>original_location</th>\n",
       "      <th>country</th>\n",
       "      <th>region</th>\n",
       "      <th>province</th>\n",
       "      <th>city</th>\n",
       "      <th>address</th>\n",
       "      <th>latitude</th>\n",
       "      <th>longitude</th>\n",
       "      <th>...</th>\n",
       "      <th>excellent</th>\n",
       "      <th>very_good</th>\n",
       "      <th>average</th>\n",
       "      <th>poor</th>\n",
       "      <th>terrible</th>\n",
       "      <th>food</th>\n",
       "      <th>service</th>\n",
       "      <th>value</th>\n",
       "      <th>atmosphere</th>\n",
       "      <th>keywords</th>\n",
       "    </tr>\n",
       "  </thead>\n",
       "  <tbody>\n",
       "  </tbody>\n",
       "</table>\n",
       "<p>0 rows × 38 columns</p>\n",
       "</div>"
      ],
      "text/plain": [
       "Empty DataFrame\n",
       "Columns: [restaurant_link, restaurant_name, original_location, country, region, province, city, address, latitude, longitude, claimed, awards, top_tags, price_range, meals, cuisines, special_diets, features, vegetarian_friendly, vegan_options, gluten_free, original_open_hours, open_days_per_week, open_hours_per_week, working_shifts_per_week, avg_rating, total_reviews_count, default_language, excellent, very_good, average, poor, terrible, food, service, value, atmosphere, keywords]\n",
       "Index: []\n",
       "\n",
       "[0 rows x 38 columns]"
      ]
     },
     "execution_count": 209,
     "metadata": {},
     "output_type": "execute_result"
    }
   ],
   "source": [
    "df1[(df1.region) == np.nan ] # ' ', '', 0, NaN, Null, None"
   ]
  },
  {
   "cell_type": "code",
   "execution_count": null,
   "metadata": {},
   "outputs": [],
   "source": []
  }
 ],
 "metadata": {
  "kernelspec": {
   "display_name": "Python 3",
   "language": "python",
   "name": "python3"
  },
  "language_info": {
   "codemirror_mode": {
    "name": "ipython",
    "version": 3
   },
   "file_extension": ".py",
   "mimetype": "text/x-python",
   "name": "python",
   "nbconvert_exporter": "python",
   "pygments_lexer": "ipython3",
   "version": "3.8.5"
  },
  "toc": {
   "base_numbering": 1,
   "nav_menu": {},
   "number_sections": true,
   "sideBar": true,
   "skip_h1_title": false,
   "title_cell": "Table of Contents",
   "title_sidebar": "Contents",
   "toc_cell": false,
   "toc_position": {},
   "toc_section_display": true,
   "toc_window_display": false
  },
  "varInspector": {
   "cols": {
    "lenName": 16,
    "lenType": 16,
    "lenVar": 40
   },
   "kernels_config": {
    "python": {
     "delete_cmd_postfix": "",
     "delete_cmd_prefix": "del ",
     "library": "var_list.py",
     "varRefreshCmd": "print(var_dic_list())"
    },
    "r": {
     "delete_cmd_postfix": ") ",
     "delete_cmd_prefix": "rm(",
     "library": "var_list.r",
     "varRefreshCmd": "cat(var_dic_list()) "
    }
   },
   "types_to_exclude": [
    "module",
    "function",
    "builtin_function_or_method",
    "instance",
    "_Feature"
   ],
   "window_display": false
  }
 },
 "nbformat": 4,
 "nbformat_minor": 4
}
